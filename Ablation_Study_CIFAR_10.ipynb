{
  "nbformat": 4,
  "nbformat_minor": 0,
  "metadata": {
    "colab": {
      "provenance": [],
      "authorship_tag": "ABX9TyPa4/wtvS0sHkQWXMV+9vFU",
      "include_colab_link": true
    },
    "kernelspec": {
      "name": "python3",
      "display_name": "Python 3"
    },
    "language_info": {
      "name": "python"
    },
    "widgets": {
      "application/vnd.jupyter.widget-state+json": {
        "6dd1136bcbec40d986b6eacb578b096b": {
          "model_module": "@jupyter-widgets/controls",
          "model_name": "HBoxModel",
          "model_module_version": "1.5.0",
          "state": {
            "_dom_classes": [],
            "_model_module": "@jupyter-widgets/controls",
            "_model_module_version": "1.5.0",
            "_model_name": "HBoxModel",
            "_view_count": null,
            "_view_module": "@jupyter-widgets/controls",
            "_view_module_version": "1.5.0",
            "_view_name": "HBoxView",
            "box_style": "",
            "children": [
              "IPY_MODEL_cf180897a2e34e6189b77fbb27922737",
              "IPY_MODEL_c76abeb800204d7faebc9367366b7558",
              "IPY_MODEL_ce89f7635dd047b7a7098f045b1e38d8"
            ],
            "layout": "IPY_MODEL_9064184a17fa45a79176fc184c5a0664"
          }
        },
        "cf180897a2e34e6189b77fbb27922737": {
          "model_module": "@jupyter-widgets/controls",
          "model_name": "HTMLModel",
          "model_module_version": "1.5.0",
          "state": {
            "_dom_classes": [],
            "_model_module": "@jupyter-widgets/controls",
            "_model_module_version": "1.5.0",
            "_model_name": "HTMLModel",
            "_view_count": null,
            "_view_module": "@jupyter-widgets/controls",
            "_view_module_version": "1.5.0",
            "_view_name": "HTMLView",
            "description": "",
            "description_tooltip": null,
            "layout": "IPY_MODEL_6ca285cbe0094ac8a7fcac7731040158",
            "placeholder": "​",
            "style": "IPY_MODEL_66baf38b5b434308b260021755ed2685",
            "value": "Dl Completed...: 100%"
          }
        },
        "c76abeb800204d7faebc9367366b7558": {
          "model_module": "@jupyter-widgets/controls",
          "model_name": "FloatProgressModel",
          "model_module_version": "1.5.0",
          "state": {
            "_dom_classes": [],
            "_model_module": "@jupyter-widgets/controls",
            "_model_module_version": "1.5.0",
            "_model_name": "FloatProgressModel",
            "_view_count": null,
            "_view_module": "@jupyter-widgets/controls",
            "_view_module_version": "1.5.0",
            "_view_name": "ProgressView",
            "bar_style": "success",
            "description": "",
            "description_tooltip": null,
            "layout": "IPY_MODEL_3ba5504ad7f7492f9132fc1ea4094e34",
            "max": 1,
            "min": 0,
            "orientation": "horizontal",
            "style": "IPY_MODEL_100070b5d97344758fe52579312ed5d9",
            "value": 1
          }
        },
        "ce89f7635dd047b7a7098f045b1e38d8": {
          "model_module": "@jupyter-widgets/controls",
          "model_name": "HTMLModel",
          "model_module_version": "1.5.0",
          "state": {
            "_dom_classes": [],
            "_model_module": "@jupyter-widgets/controls",
            "_model_module_version": "1.5.0",
            "_model_name": "HTMLModel",
            "_view_count": null,
            "_view_module": "@jupyter-widgets/controls",
            "_view_module_version": "1.5.0",
            "_view_name": "HTMLView",
            "description": "",
            "description_tooltip": null,
            "layout": "IPY_MODEL_1395e9b8ee704fb598e0a2ae7aa44125",
            "placeholder": "​",
            "style": "IPY_MODEL_e64368daed8c4deab75962f86318a7aa",
            "value": " 1/1 [00:06&lt;00:00,  4.52s/ url]"
          }
        },
        "9064184a17fa45a79176fc184c5a0664": {
          "model_module": "@jupyter-widgets/base",
          "model_name": "LayoutModel",
          "model_module_version": "1.2.0",
          "state": {
            "_model_module": "@jupyter-widgets/base",
            "_model_module_version": "1.2.0",
            "_model_name": "LayoutModel",
            "_view_count": null,
            "_view_module": "@jupyter-widgets/base",
            "_view_module_version": "1.2.0",
            "_view_name": "LayoutView",
            "align_content": null,
            "align_items": null,
            "align_self": null,
            "border": null,
            "bottom": null,
            "display": null,
            "flex": null,
            "flex_flow": null,
            "grid_area": null,
            "grid_auto_columns": null,
            "grid_auto_flow": null,
            "grid_auto_rows": null,
            "grid_column": null,
            "grid_gap": null,
            "grid_row": null,
            "grid_template_areas": null,
            "grid_template_columns": null,
            "grid_template_rows": null,
            "height": null,
            "justify_content": null,
            "justify_items": null,
            "left": null,
            "margin": null,
            "max_height": null,
            "max_width": null,
            "min_height": null,
            "min_width": null,
            "object_fit": null,
            "object_position": null,
            "order": null,
            "overflow": null,
            "overflow_x": null,
            "overflow_y": null,
            "padding": null,
            "right": null,
            "top": null,
            "visibility": null,
            "width": null
          }
        },
        "6ca285cbe0094ac8a7fcac7731040158": {
          "model_module": "@jupyter-widgets/base",
          "model_name": "LayoutModel",
          "model_module_version": "1.2.0",
          "state": {
            "_model_module": "@jupyter-widgets/base",
            "_model_module_version": "1.2.0",
            "_model_name": "LayoutModel",
            "_view_count": null,
            "_view_module": "@jupyter-widgets/base",
            "_view_module_version": "1.2.0",
            "_view_name": "LayoutView",
            "align_content": null,
            "align_items": null,
            "align_self": null,
            "border": null,
            "bottom": null,
            "display": null,
            "flex": null,
            "flex_flow": null,
            "grid_area": null,
            "grid_auto_columns": null,
            "grid_auto_flow": null,
            "grid_auto_rows": null,
            "grid_column": null,
            "grid_gap": null,
            "grid_row": null,
            "grid_template_areas": null,
            "grid_template_columns": null,
            "grid_template_rows": null,
            "height": null,
            "justify_content": null,
            "justify_items": null,
            "left": null,
            "margin": null,
            "max_height": null,
            "max_width": null,
            "min_height": null,
            "min_width": null,
            "object_fit": null,
            "object_position": null,
            "order": null,
            "overflow": null,
            "overflow_x": null,
            "overflow_y": null,
            "padding": null,
            "right": null,
            "top": null,
            "visibility": null,
            "width": null
          }
        },
        "66baf38b5b434308b260021755ed2685": {
          "model_module": "@jupyter-widgets/controls",
          "model_name": "DescriptionStyleModel",
          "model_module_version": "1.5.0",
          "state": {
            "_model_module": "@jupyter-widgets/controls",
            "_model_module_version": "1.5.0",
            "_model_name": "DescriptionStyleModel",
            "_view_count": null,
            "_view_module": "@jupyter-widgets/base",
            "_view_module_version": "1.2.0",
            "_view_name": "StyleView",
            "description_width": ""
          }
        },
        "3ba5504ad7f7492f9132fc1ea4094e34": {
          "model_module": "@jupyter-widgets/base",
          "model_name": "LayoutModel",
          "model_module_version": "1.2.0",
          "state": {
            "_model_module": "@jupyter-widgets/base",
            "_model_module_version": "1.2.0",
            "_model_name": "LayoutModel",
            "_view_count": null,
            "_view_module": "@jupyter-widgets/base",
            "_view_module_version": "1.2.0",
            "_view_name": "LayoutView",
            "align_content": null,
            "align_items": null,
            "align_self": null,
            "border": null,
            "bottom": null,
            "display": null,
            "flex": null,
            "flex_flow": null,
            "grid_area": null,
            "grid_auto_columns": null,
            "grid_auto_flow": null,
            "grid_auto_rows": null,
            "grid_column": null,
            "grid_gap": null,
            "grid_row": null,
            "grid_template_areas": null,
            "grid_template_columns": null,
            "grid_template_rows": null,
            "height": null,
            "justify_content": null,
            "justify_items": null,
            "left": null,
            "margin": null,
            "max_height": null,
            "max_width": null,
            "min_height": null,
            "min_width": null,
            "object_fit": null,
            "object_position": null,
            "order": null,
            "overflow": null,
            "overflow_x": null,
            "overflow_y": null,
            "padding": null,
            "right": null,
            "top": null,
            "visibility": null,
            "width": "20px"
          }
        },
        "100070b5d97344758fe52579312ed5d9": {
          "model_module": "@jupyter-widgets/controls",
          "model_name": "ProgressStyleModel",
          "model_module_version": "1.5.0",
          "state": {
            "_model_module": "@jupyter-widgets/controls",
            "_model_module_version": "1.5.0",
            "_model_name": "ProgressStyleModel",
            "_view_count": null,
            "_view_module": "@jupyter-widgets/base",
            "_view_module_version": "1.2.0",
            "_view_name": "StyleView",
            "bar_color": null,
            "description_width": ""
          }
        },
        "1395e9b8ee704fb598e0a2ae7aa44125": {
          "model_module": "@jupyter-widgets/base",
          "model_name": "LayoutModel",
          "model_module_version": "1.2.0",
          "state": {
            "_model_module": "@jupyter-widgets/base",
            "_model_module_version": "1.2.0",
            "_model_name": "LayoutModel",
            "_view_count": null,
            "_view_module": "@jupyter-widgets/base",
            "_view_module_version": "1.2.0",
            "_view_name": "LayoutView",
            "align_content": null,
            "align_items": null,
            "align_self": null,
            "border": null,
            "bottom": null,
            "display": null,
            "flex": null,
            "flex_flow": null,
            "grid_area": null,
            "grid_auto_columns": null,
            "grid_auto_flow": null,
            "grid_auto_rows": null,
            "grid_column": null,
            "grid_gap": null,
            "grid_row": null,
            "grid_template_areas": null,
            "grid_template_columns": null,
            "grid_template_rows": null,
            "height": null,
            "justify_content": null,
            "justify_items": null,
            "left": null,
            "margin": null,
            "max_height": null,
            "max_width": null,
            "min_height": null,
            "min_width": null,
            "object_fit": null,
            "object_position": null,
            "order": null,
            "overflow": null,
            "overflow_x": null,
            "overflow_y": null,
            "padding": null,
            "right": null,
            "top": null,
            "visibility": null,
            "width": null
          }
        },
        "e64368daed8c4deab75962f86318a7aa": {
          "model_module": "@jupyter-widgets/controls",
          "model_name": "DescriptionStyleModel",
          "model_module_version": "1.5.0",
          "state": {
            "_model_module": "@jupyter-widgets/controls",
            "_model_module_version": "1.5.0",
            "_model_name": "DescriptionStyleModel",
            "_view_count": null,
            "_view_module": "@jupyter-widgets/base",
            "_view_module_version": "1.2.0",
            "_view_name": "StyleView",
            "description_width": ""
          }
        },
        "35eb5043889f4b2fb1a0c1ec8e1e6801": {
          "model_module": "@jupyter-widgets/controls",
          "model_name": "HBoxModel",
          "model_module_version": "1.5.0",
          "state": {
            "_dom_classes": [],
            "_model_module": "@jupyter-widgets/controls",
            "_model_module_version": "1.5.0",
            "_model_name": "HBoxModel",
            "_view_count": null,
            "_view_module": "@jupyter-widgets/controls",
            "_view_module_version": "1.5.0",
            "_view_name": "HBoxView",
            "box_style": "",
            "children": [
              "IPY_MODEL_e0f0755c412c48c5a9b5ae0326d4ca14",
              "IPY_MODEL_7c0e48e7911d42c1bae2907e75ae9a01",
              "IPY_MODEL_5f61998caba14f48939bca743542ba63"
            ],
            "layout": "IPY_MODEL_70b72cc871a54354abb1b617d5e19916"
          }
        },
        "e0f0755c412c48c5a9b5ae0326d4ca14": {
          "model_module": "@jupyter-widgets/controls",
          "model_name": "HTMLModel",
          "model_module_version": "1.5.0",
          "state": {
            "_dom_classes": [],
            "_model_module": "@jupyter-widgets/controls",
            "_model_module_version": "1.5.0",
            "_model_name": "HTMLModel",
            "_view_count": null,
            "_view_module": "@jupyter-widgets/controls",
            "_view_module_version": "1.5.0",
            "_view_name": "HTMLView",
            "description": "",
            "description_tooltip": null,
            "layout": "IPY_MODEL_a1f82a14157c490880ceabb80be29fc8",
            "placeholder": "​",
            "style": "IPY_MODEL_3edffc3b9e304889a3889d05846e7a52",
            "value": "Dl Size...: 100%"
          }
        },
        "7c0e48e7911d42c1bae2907e75ae9a01": {
          "model_module": "@jupyter-widgets/controls",
          "model_name": "FloatProgressModel",
          "model_module_version": "1.5.0",
          "state": {
            "_dom_classes": [],
            "_model_module": "@jupyter-widgets/controls",
            "_model_module_version": "1.5.0",
            "_model_name": "FloatProgressModel",
            "_view_count": null,
            "_view_module": "@jupyter-widgets/controls",
            "_view_module_version": "1.5.0",
            "_view_name": "ProgressView",
            "bar_style": "success",
            "description": "",
            "description_tooltip": null,
            "layout": "IPY_MODEL_7bc9c252334b4b4ab170ceb50bf1f8ab",
            "max": 1,
            "min": 0,
            "orientation": "horizontal",
            "style": "IPY_MODEL_6da6d404a7b2464a945c643b1ec1fdec",
            "value": 1
          }
        },
        "5f61998caba14f48939bca743542ba63": {
          "model_module": "@jupyter-widgets/controls",
          "model_name": "HTMLModel",
          "model_module_version": "1.5.0",
          "state": {
            "_dom_classes": [],
            "_model_module": "@jupyter-widgets/controls",
            "_model_module_version": "1.5.0",
            "_model_name": "HTMLModel",
            "_view_count": null,
            "_view_module": "@jupyter-widgets/controls",
            "_view_module_version": "1.5.0",
            "_view_name": "HTMLView",
            "description": "",
            "description_tooltip": null,
            "layout": "IPY_MODEL_9893d6fbdb9a46c594a3bf85b6a34d34",
            "placeholder": "​",
            "style": "IPY_MODEL_41c46081f2074422a1eca2ee5e561240",
            "value": " 162/162 [00:06&lt;00:00, 37.50 MiB/s]"
          }
        },
        "70b72cc871a54354abb1b617d5e19916": {
          "model_module": "@jupyter-widgets/base",
          "model_name": "LayoutModel",
          "model_module_version": "1.2.0",
          "state": {
            "_model_module": "@jupyter-widgets/base",
            "_model_module_version": "1.2.0",
            "_model_name": "LayoutModel",
            "_view_count": null,
            "_view_module": "@jupyter-widgets/base",
            "_view_module_version": "1.2.0",
            "_view_name": "LayoutView",
            "align_content": null,
            "align_items": null,
            "align_self": null,
            "border": null,
            "bottom": null,
            "display": null,
            "flex": null,
            "flex_flow": null,
            "grid_area": null,
            "grid_auto_columns": null,
            "grid_auto_flow": null,
            "grid_auto_rows": null,
            "grid_column": null,
            "grid_gap": null,
            "grid_row": null,
            "grid_template_areas": null,
            "grid_template_columns": null,
            "grid_template_rows": null,
            "height": null,
            "justify_content": null,
            "justify_items": null,
            "left": null,
            "margin": null,
            "max_height": null,
            "max_width": null,
            "min_height": null,
            "min_width": null,
            "object_fit": null,
            "object_position": null,
            "order": null,
            "overflow": null,
            "overflow_x": null,
            "overflow_y": null,
            "padding": null,
            "right": null,
            "top": null,
            "visibility": null,
            "width": null
          }
        },
        "a1f82a14157c490880ceabb80be29fc8": {
          "model_module": "@jupyter-widgets/base",
          "model_name": "LayoutModel",
          "model_module_version": "1.2.0",
          "state": {
            "_model_module": "@jupyter-widgets/base",
            "_model_module_version": "1.2.0",
            "_model_name": "LayoutModel",
            "_view_count": null,
            "_view_module": "@jupyter-widgets/base",
            "_view_module_version": "1.2.0",
            "_view_name": "LayoutView",
            "align_content": null,
            "align_items": null,
            "align_self": null,
            "border": null,
            "bottom": null,
            "display": null,
            "flex": null,
            "flex_flow": null,
            "grid_area": null,
            "grid_auto_columns": null,
            "grid_auto_flow": null,
            "grid_auto_rows": null,
            "grid_column": null,
            "grid_gap": null,
            "grid_row": null,
            "grid_template_areas": null,
            "grid_template_columns": null,
            "grid_template_rows": null,
            "height": null,
            "justify_content": null,
            "justify_items": null,
            "left": null,
            "margin": null,
            "max_height": null,
            "max_width": null,
            "min_height": null,
            "min_width": null,
            "object_fit": null,
            "object_position": null,
            "order": null,
            "overflow": null,
            "overflow_x": null,
            "overflow_y": null,
            "padding": null,
            "right": null,
            "top": null,
            "visibility": null,
            "width": null
          }
        },
        "3edffc3b9e304889a3889d05846e7a52": {
          "model_module": "@jupyter-widgets/controls",
          "model_name": "DescriptionStyleModel",
          "model_module_version": "1.5.0",
          "state": {
            "_model_module": "@jupyter-widgets/controls",
            "_model_module_version": "1.5.0",
            "_model_name": "DescriptionStyleModel",
            "_view_count": null,
            "_view_module": "@jupyter-widgets/base",
            "_view_module_version": "1.2.0",
            "_view_name": "StyleView",
            "description_width": ""
          }
        },
        "7bc9c252334b4b4ab170ceb50bf1f8ab": {
          "model_module": "@jupyter-widgets/base",
          "model_name": "LayoutModel",
          "model_module_version": "1.2.0",
          "state": {
            "_model_module": "@jupyter-widgets/base",
            "_model_module_version": "1.2.0",
            "_model_name": "LayoutModel",
            "_view_count": null,
            "_view_module": "@jupyter-widgets/base",
            "_view_module_version": "1.2.0",
            "_view_name": "LayoutView",
            "align_content": null,
            "align_items": null,
            "align_self": null,
            "border": null,
            "bottom": null,
            "display": null,
            "flex": null,
            "flex_flow": null,
            "grid_area": null,
            "grid_auto_columns": null,
            "grid_auto_flow": null,
            "grid_auto_rows": null,
            "grid_column": null,
            "grid_gap": null,
            "grid_row": null,
            "grid_template_areas": null,
            "grid_template_columns": null,
            "grid_template_rows": null,
            "height": null,
            "justify_content": null,
            "justify_items": null,
            "left": null,
            "margin": null,
            "max_height": null,
            "max_width": null,
            "min_height": null,
            "min_width": null,
            "object_fit": null,
            "object_position": null,
            "order": null,
            "overflow": null,
            "overflow_x": null,
            "overflow_y": null,
            "padding": null,
            "right": null,
            "top": null,
            "visibility": null,
            "width": "20px"
          }
        },
        "6da6d404a7b2464a945c643b1ec1fdec": {
          "model_module": "@jupyter-widgets/controls",
          "model_name": "ProgressStyleModel",
          "model_module_version": "1.5.0",
          "state": {
            "_model_module": "@jupyter-widgets/controls",
            "_model_module_version": "1.5.0",
            "_model_name": "ProgressStyleModel",
            "_view_count": null,
            "_view_module": "@jupyter-widgets/base",
            "_view_module_version": "1.2.0",
            "_view_name": "StyleView",
            "bar_color": null,
            "description_width": ""
          }
        },
        "9893d6fbdb9a46c594a3bf85b6a34d34": {
          "model_module": "@jupyter-widgets/base",
          "model_name": "LayoutModel",
          "model_module_version": "1.2.0",
          "state": {
            "_model_module": "@jupyter-widgets/base",
            "_model_module_version": "1.2.0",
            "_model_name": "LayoutModel",
            "_view_count": null,
            "_view_module": "@jupyter-widgets/base",
            "_view_module_version": "1.2.0",
            "_view_name": "LayoutView",
            "align_content": null,
            "align_items": null,
            "align_self": null,
            "border": null,
            "bottom": null,
            "display": null,
            "flex": null,
            "flex_flow": null,
            "grid_area": null,
            "grid_auto_columns": null,
            "grid_auto_flow": null,
            "grid_auto_rows": null,
            "grid_column": null,
            "grid_gap": null,
            "grid_row": null,
            "grid_template_areas": null,
            "grid_template_columns": null,
            "grid_template_rows": null,
            "height": null,
            "justify_content": null,
            "justify_items": null,
            "left": null,
            "margin": null,
            "max_height": null,
            "max_width": null,
            "min_height": null,
            "min_width": null,
            "object_fit": null,
            "object_position": null,
            "order": null,
            "overflow": null,
            "overflow_x": null,
            "overflow_y": null,
            "padding": null,
            "right": null,
            "top": null,
            "visibility": null,
            "width": null
          }
        },
        "41c46081f2074422a1eca2ee5e561240": {
          "model_module": "@jupyter-widgets/controls",
          "model_name": "DescriptionStyleModel",
          "model_module_version": "1.5.0",
          "state": {
            "_model_module": "@jupyter-widgets/controls",
            "_model_module_version": "1.5.0",
            "_model_name": "DescriptionStyleModel",
            "_view_count": null,
            "_view_module": "@jupyter-widgets/base",
            "_view_module_version": "1.2.0",
            "_view_name": "StyleView",
            "description_width": ""
          }
        },
        "842987d2d52449aa9cf22aaa7a94463c": {
          "model_module": "@jupyter-widgets/controls",
          "model_name": "HBoxModel",
          "model_module_version": "1.5.0",
          "state": {
            "_dom_classes": [],
            "_model_module": "@jupyter-widgets/controls",
            "_model_module_version": "1.5.0",
            "_model_name": "HBoxModel",
            "_view_count": null,
            "_view_module": "@jupyter-widgets/controls",
            "_view_module_version": "1.5.0",
            "_view_name": "HBoxView",
            "box_style": "",
            "children": [
              "IPY_MODEL_404bae6a59654502975128ad5e5b13bb",
              "IPY_MODEL_db9f6e0c88e7494b8857de6577d30707",
              "IPY_MODEL_25e4939881114beab94fa8f40d61ef86"
            ],
            "layout": "IPY_MODEL_4edef6caffac476eacf267cf7ef6202b"
          }
        },
        "404bae6a59654502975128ad5e5b13bb": {
          "model_module": "@jupyter-widgets/controls",
          "model_name": "HTMLModel",
          "model_module_version": "1.5.0",
          "state": {
            "_dom_classes": [],
            "_model_module": "@jupyter-widgets/controls",
            "_model_module_version": "1.5.0",
            "_model_name": "HTMLModel",
            "_view_count": null,
            "_view_module": "@jupyter-widgets/controls",
            "_view_module_version": "1.5.0",
            "_view_name": "HTMLView",
            "description": "",
            "description_tooltip": null,
            "layout": "IPY_MODEL_20b199e1260b4dc0ae5cad9613f0b538",
            "placeholder": "​",
            "style": "IPY_MODEL_e0fbf936d699404fb110c16cee564e26",
            "value": "Extraction completed...: 100%"
          }
        },
        "db9f6e0c88e7494b8857de6577d30707": {
          "model_module": "@jupyter-widgets/controls",
          "model_name": "FloatProgressModel",
          "model_module_version": "1.5.0",
          "state": {
            "_dom_classes": [],
            "_model_module": "@jupyter-widgets/controls",
            "_model_module_version": "1.5.0",
            "_model_name": "FloatProgressModel",
            "_view_count": null,
            "_view_module": "@jupyter-widgets/controls",
            "_view_module_version": "1.5.0",
            "_view_name": "ProgressView",
            "bar_style": "success",
            "description": "",
            "description_tooltip": null,
            "layout": "IPY_MODEL_dbaac36c5cff4955a5c6bcc04b07f606",
            "max": 1,
            "min": 0,
            "orientation": "horizontal",
            "style": "IPY_MODEL_75b4aab57c714a9fa580b05cfe64bda7",
            "value": 1
          }
        },
        "25e4939881114beab94fa8f40d61ef86": {
          "model_module": "@jupyter-widgets/controls",
          "model_name": "HTMLModel",
          "model_module_version": "1.5.0",
          "state": {
            "_dom_classes": [],
            "_model_module": "@jupyter-widgets/controls",
            "_model_module_version": "1.5.0",
            "_model_name": "HTMLModel",
            "_view_count": null,
            "_view_module": "@jupyter-widgets/controls",
            "_view_module_version": "1.5.0",
            "_view_name": "HTMLView",
            "description": "",
            "description_tooltip": null,
            "layout": "IPY_MODEL_f9639d975c0a4fcea4dd78969ab9f363",
            "placeholder": "​",
            "style": "IPY_MODEL_11105eaf70544ab8979d2d2af2816c2a",
            "value": " 8/8 [00:06&lt;00:00,  6.87s/ file]"
          }
        },
        "4edef6caffac476eacf267cf7ef6202b": {
          "model_module": "@jupyter-widgets/base",
          "model_name": "LayoutModel",
          "model_module_version": "1.2.0",
          "state": {
            "_model_module": "@jupyter-widgets/base",
            "_model_module_version": "1.2.0",
            "_model_name": "LayoutModel",
            "_view_count": null,
            "_view_module": "@jupyter-widgets/base",
            "_view_module_version": "1.2.0",
            "_view_name": "LayoutView",
            "align_content": null,
            "align_items": null,
            "align_self": null,
            "border": null,
            "bottom": null,
            "display": null,
            "flex": null,
            "flex_flow": null,
            "grid_area": null,
            "grid_auto_columns": null,
            "grid_auto_flow": null,
            "grid_auto_rows": null,
            "grid_column": null,
            "grid_gap": null,
            "grid_row": null,
            "grid_template_areas": null,
            "grid_template_columns": null,
            "grid_template_rows": null,
            "height": null,
            "justify_content": null,
            "justify_items": null,
            "left": null,
            "margin": null,
            "max_height": null,
            "max_width": null,
            "min_height": null,
            "min_width": null,
            "object_fit": null,
            "object_position": null,
            "order": null,
            "overflow": null,
            "overflow_x": null,
            "overflow_y": null,
            "padding": null,
            "right": null,
            "top": null,
            "visibility": null,
            "width": null
          }
        },
        "20b199e1260b4dc0ae5cad9613f0b538": {
          "model_module": "@jupyter-widgets/base",
          "model_name": "LayoutModel",
          "model_module_version": "1.2.0",
          "state": {
            "_model_module": "@jupyter-widgets/base",
            "_model_module_version": "1.2.0",
            "_model_name": "LayoutModel",
            "_view_count": null,
            "_view_module": "@jupyter-widgets/base",
            "_view_module_version": "1.2.0",
            "_view_name": "LayoutView",
            "align_content": null,
            "align_items": null,
            "align_self": null,
            "border": null,
            "bottom": null,
            "display": null,
            "flex": null,
            "flex_flow": null,
            "grid_area": null,
            "grid_auto_columns": null,
            "grid_auto_flow": null,
            "grid_auto_rows": null,
            "grid_column": null,
            "grid_gap": null,
            "grid_row": null,
            "grid_template_areas": null,
            "grid_template_columns": null,
            "grid_template_rows": null,
            "height": null,
            "justify_content": null,
            "justify_items": null,
            "left": null,
            "margin": null,
            "max_height": null,
            "max_width": null,
            "min_height": null,
            "min_width": null,
            "object_fit": null,
            "object_position": null,
            "order": null,
            "overflow": null,
            "overflow_x": null,
            "overflow_y": null,
            "padding": null,
            "right": null,
            "top": null,
            "visibility": null,
            "width": null
          }
        },
        "e0fbf936d699404fb110c16cee564e26": {
          "model_module": "@jupyter-widgets/controls",
          "model_name": "DescriptionStyleModel",
          "model_module_version": "1.5.0",
          "state": {
            "_model_module": "@jupyter-widgets/controls",
            "_model_module_version": "1.5.0",
            "_model_name": "DescriptionStyleModel",
            "_view_count": null,
            "_view_module": "@jupyter-widgets/base",
            "_view_module_version": "1.2.0",
            "_view_name": "StyleView",
            "description_width": ""
          }
        },
        "dbaac36c5cff4955a5c6bcc04b07f606": {
          "model_module": "@jupyter-widgets/base",
          "model_name": "LayoutModel",
          "model_module_version": "1.2.0",
          "state": {
            "_model_module": "@jupyter-widgets/base",
            "_model_module_version": "1.2.0",
            "_model_name": "LayoutModel",
            "_view_count": null,
            "_view_module": "@jupyter-widgets/base",
            "_view_module_version": "1.2.0",
            "_view_name": "LayoutView",
            "align_content": null,
            "align_items": null,
            "align_self": null,
            "border": null,
            "bottom": null,
            "display": null,
            "flex": null,
            "flex_flow": null,
            "grid_area": null,
            "grid_auto_columns": null,
            "grid_auto_flow": null,
            "grid_auto_rows": null,
            "grid_column": null,
            "grid_gap": null,
            "grid_row": null,
            "grid_template_areas": null,
            "grid_template_columns": null,
            "grid_template_rows": null,
            "height": null,
            "justify_content": null,
            "justify_items": null,
            "left": null,
            "margin": null,
            "max_height": null,
            "max_width": null,
            "min_height": null,
            "min_width": null,
            "object_fit": null,
            "object_position": null,
            "order": null,
            "overflow": null,
            "overflow_x": null,
            "overflow_y": null,
            "padding": null,
            "right": null,
            "top": null,
            "visibility": null,
            "width": "20px"
          }
        },
        "75b4aab57c714a9fa580b05cfe64bda7": {
          "model_module": "@jupyter-widgets/controls",
          "model_name": "ProgressStyleModel",
          "model_module_version": "1.5.0",
          "state": {
            "_model_module": "@jupyter-widgets/controls",
            "_model_module_version": "1.5.0",
            "_model_name": "ProgressStyleModel",
            "_view_count": null,
            "_view_module": "@jupyter-widgets/base",
            "_view_module_version": "1.2.0",
            "_view_name": "StyleView",
            "bar_color": null,
            "description_width": ""
          }
        },
        "f9639d975c0a4fcea4dd78969ab9f363": {
          "model_module": "@jupyter-widgets/base",
          "model_name": "LayoutModel",
          "model_module_version": "1.2.0",
          "state": {
            "_model_module": "@jupyter-widgets/base",
            "_model_module_version": "1.2.0",
            "_model_name": "LayoutModel",
            "_view_count": null,
            "_view_module": "@jupyter-widgets/base",
            "_view_module_version": "1.2.0",
            "_view_name": "LayoutView",
            "align_content": null,
            "align_items": null,
            "align_self": null,
            "border": null,
            "bottom": null,
            "display": null,
            "flex": null,
            "flex_flow": null,
            "grid_area": null,
            "grid_auto_columns": null,
            "grid_auto_flow": null,
            "grid_auto_rows": null,
            "grid_column": null,
            "grid_gap": null,
            "grid_row": null,
            "grid_template_areas": null,
            "grid_template_columns": null,
            "grid_template_rows": null,
            "height": null,
            "justify_content": null,
            "justify_items": null,
            "left": null,
            "margin": null,
            "max_height": null,
            "max_width": null,
            "min_height": null,
            "min_width": null,
            "object_fit": null,
            "object_position": null,
            "order": null,
            "overflow": null,
            "overflow_x": null,
            "overflow_y": null,
            "padding": null,
            "right": null,
            "top": null,
            "visibility": null,
            "width": null
          }
        },
        "11105eaf70544ab8979d2d2af2816c2a": {
          "model_module": "@jupyter-widgets/controls",
          "model_name": "DescriptionStyleModel",
          "model_module_version": "1.5.0",
          "state": {
            "_model_module": "@jupyter-widgets/controls",
            "_model_module_version": "1.5.0",
            "_model_name": "DescriptionStyleModel",
            "_view_count": null,
            "_view_module": "@jupyter-widgets/base",
            "_view_module_version": "1.2.0",
            "_view_name": "StyleView",
            "description_width": ""
          }
        },
        "dea06be2ae2c424894bbbf33b5040000": {
          "model_module": "@jupyter-widgets/controls",
          "model_name": "HBoxModel",
          "model_module_version": "1.5.0",
          "state": {
            "_dom_classes": [],
            "_model_module": "@jupyter-widgets/controls",
            "_model_module_version": "1.5.0",
            "_model_name": "HBoxModel",
            "_view_count": null,
            "_view_module": "@jupyter-widgets/controls",
            "_view_module_version": "1.5.0",
            "_view_name": "HBoxView",
            "box_style": "",
            "children": [
              "IPY_MODEL_6d3438d6e362498ea990c4a5d9eb0941",
              "IPY_MODEL_1455dc060898401ca8ae56716f440035",
              "IPY_MODEL_88c9419621c643a7a29e7d50de082342"
            ],
            "layout": "IPY_MODEL_57326d47b5bf42918e2027f57ee4ca90"
          }
        },
        "6d3438d6e362498ea990c4a5d9eb0941": {
          "model_module": "@jupyter-widgets/controls",
          "model_name": "HTMLModel",
          "model_module_version": "1.5.0",
          "state": {
            "_dom_classes": [],
            "_model_module": "@jupyter-widgets/controls",
            "_model_module_version": "1.5.0",
            "_model_name": "HTMLModel",
            "_view_count": null,
            "_view_module": "@jupyter-widgets/controls",
            "_view_module_version": "1.5.0",
            "_view_name": "HTMLView",
            "description": "",
            "description_tooltip": null,
            "layout": "IPY_MODEL_8b6667caaa0b496e95e8501b8f2be92e",
            "placeholder": "​",
            "style": "IPY_MODEL_7929cece08094270a9313eb1ad798690",
            "value": "Generating splits...: 100%"
          }
        },
        "1455dc060898401ca8ae56716f440035": {
          "model_module": "@jupyter-widgets/controls",
          "model_name": "FloatProgressModel",
          "model_module_version": "1.5.0",
          "state": {
            "_dom_classes": [],
            "_model_module": "@jupyter-widgets/controls",
            "_model_module_version": "1.5.0",
            "_model_name": "FloatProgressModel",
            "_view_count": null,
            "_view_module": "@jupyter-widgets/controls",
            "_view_module_version": "1.5.0",
            "_view_name": "ProgressView",
            "bar_style": "",
            "description": "",
            "description_tooltip": null,
            "layout": "IPY_MODEL_352b7b99f93a47a8b739ca454a4b53bf",
            "max": 2,
            "min": 0,
            "orientation": "horizontal",
            "style": "IPY_MODEL_42cb8a6bcbd940a29b34acaeb47d7418",
            "value": 2
          }
        },
        "88c9419621c643a7a29e7d50de082342": {
          "model_module": "@jupyter-widgets/controls",
          "model_name": "HTMLModel",
          "model_module_version": "1.5.0",
          "state": {
            "_dom_classes": [],
            "_model_module": "@jupyter-widgets/controls",
            "_model_module_version": "1.5.0",
            "_model_name": "HTMLModel",
            "_view_count": null,
            "_view_module": "@jupyter-widgets/controls",
            "_view_module_version": "1.5.0",
            "_view_name": "HTMLView",
            "description": "",
            "description_tooltip": null,
            "layout": "IPY_MODEL_8df5f18fdce74f939bf784f8a1f38d18",
            "placeholder": "​",
            "style": "IPY_MODEL_bd7734c5c7ef450fb3dd4899dc417af0",
            "value": " 2/2 [00:43&lt;00:00, 19.15s/ splits]"
          }
        },
        "57326d47b5bf42918e2027f57ee4ca90": {
          "model_module": "@jupyter-widgets/base",
          "model_name": "LayoutModel",
          "model_module_version": "1.2.0",
          "state": {
            "_model_module": "@jupyter-widgets/base",
            "_model_module_version": "1.2.0",
            "_model_name": "LayoutModel",
            "_view_count": null,
            "_view_module": "@jupyter-widgets/base",
            "_view_module_version": "1.2.0",
            "_view_name": "LayoutView",
            "align_content": null,
            "align_items": null,
            "align_self": null,
            "border": null,
            "bottom": null,
            "display": null,
            "flex": null,
            "flex_flow": null,
            "grid_area": null,
            "grid_auto_columns": null,
            "grid_auto_flow": null,
            "grid_auto_rows": null,
            "grid_column": null,
            "grid_gap": null,
            "grid_row": null,
            "grid_template_areas": null,
            "grid_template_columns": null,
            "grid_template_rows": null,
            "height": null,
            "justify_content": null,
            "justify_items": null,
            "left": null,
            "margin": null,
            "max_height": null,
            "max_width": null,
            "min_height": null,
            "min_width": null,
            "object_fit": null,
            "object_position": null,
            "order": null,
            "overflow": null,
            "overflow_x": null,
            "overflow_y": null,
            "padding": null,
            "right": null,
            "top": null,
            "visibility": "hidden",
            "width": null
          }
        },
        "8b6667caaa0b496e95e8501b8f2be92e": {
          "model_module": "@jupyter-widgets/base",
          "model_name": "LayoutModel",
          "model_module_version": "1.2.0",
          "state": {
            "_model_module": "@jupyter-widgets/base",
            "_model_module_version": "1.2.0",
            "_model_name": "LayoutModel",
            "_view_count": null,
            "_view_module": "@jupyter-widgets/base",
            "_view_module_version": "1.2.0",
            "_view_name": "LayoutView",
            "align_content": null,
            "align_items": null,
            "align_self": null,
            "border": null,
            "bottom": null,
            "display": null,
            "flex": null,
            "flex_flow": null,
            "grid_area": null,
            "grid_auto_columns": null,
            "grid_auto_flow": null,
            "grid_auto_rows": null,
            "grid_column": null,
            "grid_gap": null,
            "grid_row": null,
            "grid_template_areas": null,
            "grid_template_columns": null,
            "grid_template_rows": null,
            "height": null,
            "justify_content": null,
            "justify_items": null,
            "left": null,
            "margin": null,
            "max_height": null,
            "max_width": null,
            "min_height": null,
            "min_width": null,
            "object_fit": null,
            "object_position": null,
            "order": null,
            "overflow": null,
            "overflow_x": null,
            "overflow_y": null,
            "padding": null,
            "right": null,
            "top": null,
            "visibility": null,
            "width": null
          }
        },
        "7929cece08094270a9313eb1ad798690": {
          "model_module": "@jupyter-widgets/controls",
          "model_name": "DescriptionStyleModel",
          "model_module_version": "1.5.0",
          "state": {
            "_model_module": "@jupyter-widgets/controls",
            "_model_module_version": "1.5.0",
            "_model_name": "DescriptionStyleModel",
            "_view_count": null,
            "_view_module": "@jupyter-widgets/base",
            "_view_module_version": "1.2.0",
            "_view_name": "StyleView",
            "description_width": ""
          }
        },
        "352b7b99f93a47a8b739ca454a4b53bf": {
          "model_module": "@jupyter-widgets/base",
          "model_name": "LayoutModel",
          "model_module_version": "1.2.0",
          "state": {
            "_model_module": "@jupyter-widgets/base",
            "_model_module_version": "1.2.0",
            "_model_name": "LayoutModel",
            "_view_count": null,
            "_view_module": "@jupyter-widgets/base",
            "_view_module_version": "1.2.0",
            "_view_name": "LayoutView",
            "align_content": null,
            "align_items": null,
            "align_self": null,
            "border": null,
            "bottom": null,
            "display": null,
            "flex": null,
            "flex_flow": null,
            "grid_area": null,
            "grid_auto_columns": null,
            "grid_auto_flow": null,
            "grid_auto_rows": null,
            "grid_column": null,
            "grid_gap": null,
            "grid_row": null,
            "grid_template_areas": null,
            "grid_template_columns": null,
            "grid_template_rows": null,
            "height": null,
            "justify_content": null,
            "justify_items": null,
            "left": null,
            "margin": null,
            "max_height": null,
            "max_width": null,
            "min_height": null,
            "min_width": null,
            "object_fit": null,
            "object_position": null,
            "order": null,
            "overflow": null,
            "overflow_x": null,
            "overflow_y": null,
            "padding": null,
            "right": null,
            "top": null,
            "visibility": null,
            "width": null
          }
        },
        "42cb8a6bcbd940a29b34acaeb47d7418": {
          "model_module": "@jupyter-widgets/controls",
          "model_name": "ProgressStyleModel",
          "model_module_version": "1.5.0",
          "state": {
            "_model_module": "@jupyter-widgets/controls",
            "_model_module_version": "1.5.0",
            "_model_name": "ProgressStyleModel",
            "_view_count": null,
            "_view_module": "@jupyter-widgets/base",
            "_view_module_version": "1.2.0",
            "_view_name": "StyleView",
            "bar_color": null,
            "description_width": ""
          }
        },
        "8df5f18fdce74f939bf784f8a1f38d18": {
          "model_module": "@jupyter-widgets/base",
          "model_name": "LayoutModel",
          "model_module_version": "1.2.0",
          "state": {
            "_model_module": "@jupyter-widgets/base",
            "_model_module_version": "1.2.0",
            "_model_name": "LayoutModel",
            "_view_count": null,
            "_view_module": "@jupyter-widgets/base",
            "_view_module_version": "1.2.0",
            "_view_name": "LayoutView",
            "align_content": null,
            "align_items": null,
            "align_self": null,
            "border": null,
            "bottom": null,
            "display": null,
            "flex": null,
            "flex_flow": null,
            "grid_area": null,
            "grid_auto_columns": null,
            "grid_auto_flow": null,
            "grid_auto_rows": null,
            "grid_column": null,
            "grid_gap": null,
            "grid_row": null,
            "grid_template_areas": null,
            "grid_template_columns": null,
            "grid_template_rows": null,
            "height": null,
            "justify_content": null,
            "justify_items": null,
            "left": null,
            "margin": null,
            "max_height": null,
            "max_width": null,
            "min_height": null,
            "min_width": null,
            "object_fit": null,
            "object_position": null,
            "order": null,
            "overflow": null,
            "overflow_x": null,
            "overflow_y": null,
            "padding": null,
            "right": null,
            "top": null,
            "visibility": null,
            "width": null
          }
        },
        "bd7734c5c7ef450fb3dd4899dc417af0": {
          "model_module": "@jupyter-widgets/controls",
          "model_name": "DescriptionStyleModel",
          "model_module_version": "1.5.0",
          "state": {
            "_model_module": "@jupyter-widgets/controls",
            "_model_module_version": "1.5.0",
            "_model_name": "DescriptionStyleModel",
            "_view_count": null,
            "_view_module": "@jupyter-widgets/base",
            "_view_module_version": "1.2.0",
            "_view_name": "StyleView",
            "description_width": ""
          }
        },
        "18910bf3909a4997abdc3c94bc130d91": {
          "model_module": "@jupyter-widgets/controls",
          "model_name": "HBoxModel",
          "model_module_version": "1.5.0",
          "state": {
            "_dom_classes": [],
            "_model_module": "@jupyter-widgets/controls",
            "_model_module_version": "1.5.0",
            "_model_name": "HBoxModel",
            "_view_count": null,
            "_view_module": "@jupyter-widgets/controls",
            "_view_module_version": "1.5.0",
            "_view_name": "HBoxView",
            "box_style": "",
            "children": [
              "IPY_MODEL_786c9bf724c848d390eb070a13d807b3",
              "IPY_MODEL_c9220748195346198b119b8941855ac4",
              "IPY_MODEL_b23d40cd791244a4b27af7c95c0a9f97"
            ],
            "layout": "IPY_MODEL_dd0f5959cccc4b9291735279b9b963e7"
          }
        },
        "786c9bf724c848d390eb070a13d807b3": {
          "model_module": "@jupyter-widgets/controls",
          "model_name": "HTMLModel",
          "model_module_version": "1.5.0",
          "state": {
            "_dom_classes": [],
            "_model_module": "@jupyter-widgets/controls",
            "_model_module_version": "1.5.0",
            "_model_name": "HTMLModel",
            "_view_count": null,
            "_view_module": "@jupyter-widgets/controls",
            "_view_module_version": "1.5.0",
            "_view_name": "HTMLView",
            "description": "",
            "description_tooltip": null,
            "layout": "IPY_MODEL_00b17008c99543489eb167406a7eca0c",
            "placeholder": "​",
            "style": "IPY_MODEL_65aaf9a5391446d89f9a2ad0abba0420",
            "value": "Generating train examples...:  98%"
          }
        },
        "c9220748195346198b119b8941855ac4": {
          "model_module": "@jupyter-widgets/controls",
          "model_name": "FloatProgressModel",
          "model_module_version": "1.5.0",
          "state": {
            "_dom_classes": [],
            "_model_module": "@jupyter-widgets/controls",
            "_model_module_version": "1.5.0",
            "_model_name": "FloatProgressModel",
            "_view_count": null,
            "_view_module": "@jupyter-widgets/controls",
            "_view_module_version": "1.5.0",
            "_view_name": "ProgressView",
            "bar_style": "",
            "description": "",
            "description_tooltip": null,
            "layout": "IPY_MODEL_dd3b8469be3643cab45a5b62f754b287",
            "max": 50000,
            "min": 0,
            "orientation": "horizontal",
            "style": "IPY_MODEL_b5c992f83c034af38e9f7c683effd238",
            "value": 50000
          }
        },
        "b23d40cd791244a4b27af7c95c0a9f97": {
          "model_module": "@jupyter-widgets/controls",
          "model_name": "HTMLModel",
          "model_module_version": "1.5.0",
          "state": {
            "_dom_classes": [],
            "_model_module": "@jupyter-widgets/controls",
            "_model_module_version": "1.5.0",
            "_model_name": "HTMLModel",
            "_view_count": null,
            "_view_module": "@jupyter-widgets/controls",
            "_view_module_version": "1.5.0",
            "_view_name": "HTMLView",
            "description": "",
            "description_tooltip": null,
            "layout": "IPY_MODEL_250fc9d1d9534ccda35da5378a1c9d18",
            "placeholder": "​",
            "style": "IPY_MODEL_45ffd2b1c9ff48c4b113351955dee66b",
            "value": " 48941/50000 [00:35&lt;00:00, 1636.03 examples/s]"
          }
        },
        "dd0f5959cccc4b9291735279b9b963e7": {
          "model_module": "@jupyter-widgets/base",
          "model_name": "LayoutModel",
          "model_module_version": "1.2.0",
          "state": {
            "_model_module": "@jupyter-widgets/base",
            "_model_module_version": "1.2.0",
            "_model_name": "LayoutModel",
            "_view_count": null,
            "_view_module": "@jupyter-widgets/base",
            "_view_module_version": "1.2.0",
            "_view_name": "LayoutView",
            "align_content": null,
            "align_items": null,
            "align_self": null,
            "border": null,
            "bottom": null,
            "display": null,
            "flex": null,
            "flex_flow": null,
            "grid_area": null,
            "grid_auto_columns": null,
            "grid_auto_flow": null,
            "grid_auto_rows": null,
            "grid_column": null,
            "grid_gap": null,
            "grid_row": null,
            "grid_template_areas": null,
            "grid_template_columns": null,
            "grid_template_rows": null,
            "height": null,
            "justify_content": null,
            "justify_items": null,
            "left": null,
            "margin": null,
            "max_height": null,
            "max_width": null,
            "min_height": null,
            "min_width": null,
            "object_fit": null,
            "object_position": null,
            "order": null,
            "overflow": null,
            "overflow_x": null,
            "overflow_y": null,
            "padding": null,
            "right": null,
            "top": null,
            "visibility": "hidden",
            "width": null
          }
        },
        "00b17008c99543489eb167406a7eca0c": {
          "model_module": "@jupyter-widgets/base",
          "model_name": "LayoutModel",
          "model_module_version": "1.2.0",
          "state": {
            "_model_module": "@jupyter-widgets/base",
            "_model_module_version": "1.2.0",
            "_model_name": "LayoutModel",
            "_view_count": null,
            "_view_module": "@jupyter-widgets/base",
            "_view_module_version": "1.2.0",
            "_view_name": "LayoutView",
            "align_content": null,
            "align_items": null,
            "align_self": null,
            "border": null,
            "bottom": null,
            "display": null,
            "flex": null,
            "flex_flow": null,
            "grid_area": null,
            "grid_auto_columns": null,
            "grid_auto_flow": null,
            "grid_auto_rows": null,
            "grid_column": null,
            "grid_gap": null,
            "grid_row": null,
            "grid_template_areas": null,
            "grid_template_columns": null,
            "grid_template_rows": null,
            "height": null,
            "justify_content": null,
            "justify_items": null,
            "left": null,
            "margin": null,
            "max_height": null,
            "max_width": null,
            "min_height": null,
            "min_width": null,
            "object_fit": null,
            "object_position": null,
            "order": null,
            "overflow": null,
            "overflow_x": null,
            "overflow_y": null,
            "padding": null,
            "right": null,
            "top": null,
            "visibility": null,
            "width": null
          }
        },
        "65aaf9a5391446d89f9a2ad0abba0420": {
          "model_module": "@jupyter-widgets/controls",
          "model_name": "DescriptionStyleModel",
          "model_module_version": "1.5.0",
          "state": {
            "_model_module": "@jupyter-widgets/controls",
            "_model_module_version": "1.5.0",
            "_model_name": "DescriptionStyleModel",
            "_view_count": null,
            "_view_module": "@jupyter-widgets/base",
            "_view_module_version": "1.2.0",
            "_view_name": "StyleView",
            "description_width": ""
          }
        },
        "dd3b8469be3643cab45a5b62f754b287": {
          "model_module": "@jupyter-widgets/base",
          "model_name": "LayoutModel",
          "model_module_version": "1.2.0",
          "state": {
            "_model_module": "@jupyter-widgets/base",
            "_model_module_version": "1.2.0",
            "_model_name": "LayoutModel",
            "_view_count": null,
            "_view_module": "@jupyter-widgets/base",
            "_view_module_version": "1.2.0",
            "_view_name": "LayoutView",
            "align_content": null,
            "align_items": null,
            "align_self": null,
            "border": null,
            "bottom": null,
            "display": null,
            "flex": null,
            "flex_flow": null,
            "grid_area": null,
            "grid_auto_columns": null,
            "grid_auto_flow": null,
            "grid_auto_rows": null,
            "grid_column": null,
            "grid_gap": null,
            "grid_row": null,
            "grid_template_areas": null,
            "grid_template_columns": null,
            "grid_template_rows": null,
            "height": null,
            "justify_content": null,
            "justify_items": null,
            "left": null,
            "margin": null,
            "max_height": null,
            "max_width": null,
            "min_height": null,
            "min_width": null,
            "object_fit": null,
            "object_position": null,
            "order": null,
            "overflow": null,
            "overflow_x": null,
            "overflow_y": null,
            "padding": null,
            "right": null,
            "top": null,
            "visibility": null,
            "width": null
          }
        },
        "b5c992f83c034af38e9f7c683effd238": {
          "model_module": "@jupyter-widgets/controls",
          "model_name": "ProgressStyleModel",
          "model_module_version": "1.5.0",
          "state": {
            "_model_module": "@jupyter-widgets/controls",
            "_model_module_version": "1.5.0",
            "_model_name": "ProgressStyleModel",
            "_view_count": null,
            "_view_module": "@jupyter-widgets/base",
            "_view_module_version": "1.2.0",
            "_view_name": "StyleView",
            "bar_color": null,
            "description_width": ""
          }
        },
        "250fc9d1d9534ccda35da5378a1c9d18": {
          "model_module": "@jupyter-widgets/base",
          "model_name": "LayoutModel",
          "model_module_version": "1.2.0",
          "state": {
            "_model_module": "@jupyter-widgets/base",
            "_model_module_version": "1.2.0",
            "_model_name": "LayoutModel",
            "_view_count": null,
            "_view_module": "@jupyter-widgets/base",
            "_view_module_version": "1.2.0",
            "_view_name": "LayoutView",
            "align_content": null,
            "align_items": null,
            "align_self": null,
            "border": null,
            "bottom": null,
            "display": null,
            "flex": null,
            "flex_flow": null,
            "grid_area": null,
            "grid_auto_columns": null,
            "grid_auto_flow": null,
            "grid_auto_rows": null,
            "grid_column": null,
            "grid_gap": null,
            "grid_row": null,
            "grid_template_areas": null,
            "grid_template_columns": null,
            "grid_template_rows": null,
            "height": null,
            "justify_content": null,
            "justify_items": null,
            "left": null,
            "margin": null,
            "max_height": null,
            "max_width": null,
            "min_height": null,
            "min_width": null,
            "object_fit": null,
            "object_position": null,
            "order": null,
            "overflow": null,
            "overflow_x": null,
            "overflow_y": null,
            "padding": null,
            "right": null,
            "top": null,
            "visibility": null,
            "width": null
          }
        },
        "45ffd2b1c9ff48c4b113351955dee66b": {
          "model_module": "@jupyter-widgets/controls",
          "model_name": "DescriptionStyleModel",
          "model_module_version": "1.5.0",
          "state": {
            "_model_module": "@jupyter-widgets/controls",
            "_model_module_version": "1.5.0",
            "_model_name": "DescriptionStyleModel",
            "_view_count": null,
            "_view_module": "@jupyter-widgets/base",
            "_view_module_version": "1.2.0",
            "_view_name": "StyleView",
            "description_width": ""
          }
        },
        "d8c703c9fe4d40358e3b363c9284aeee": {
          "model_module": "@jupyter-widgets/controls",
          "model_name": "HBoxModel",
          "model_module_version": "1.5.0",
          "state": {
            "_dom_classes": [],
            "_model_module": "@jupyter-widgets/controls",
            "_model_module_version": "1.5.0",
            "_model_name": "HBoxModel",
            "_view_count": null,
            "_view_module": "@jupyter-widgets/controls",
            "_view_module_version": "1.5.0",
            "_view_name": "HBoxView",
            "box_style": "",
            "children": [
              "IPY_MODEL_a46fe897167249e2854c6cf83f56db1f",
              "IPY_MODEL_62f3d97252ca44d19a14da5cce722f29",
              "IPY_MODEL_5ad031427db84af0bf18c52709cba63a"
            ],
            "layout": "IPY_MODEL_78e19cf05c5b456aaa3f2caf8550ae79"
          }
        },
        "a46fe897167249e2854c6cf83f56db1f": {
          "model_module": "@jupyter-widgets/controls",
          "model_name": "HTMLModel",
          "model_module_version": "1.5.0",
          "state": {
            "_dom_classes": [],
            "_model_module": "@jupyter-widgets/controls",
            "_model_module_version": "1.5.0",
            "_model_name": "HTMLModel",
            "_view_count": null,
            "_view_module": "@jupyter-widgets/controls",
            "_view_module_version": "1.5.0",
            "_view_name": "HTMLView",
            "description": "",
            "description_tooltip": null,
            "layout": "IPY_MODEL_bd097c43f28a4af59383490926080dfb",
            "placeholder": "​",
            "style": "IPY_MODEL_046de8c93cb64f419d9f3187acb6a754",
            "value": "Shuffling /root/tensorflow_datasets/cifar10/incomplete.7WYJFF_3.0.2/cifar10-train.tfrecord*...:   0%"
          }
        },
        "62f3d97252ca44d19a14da5cce722f29": {
          "model_module": "@jupyter-widgets/controls",
          "model_name": "FloatProgressModel",
          "model_module_version": "1.5.0",
          "state": {
            "_dom_classes": [],
            "_model_module": "@jupyter-widgets/controls",
            "_model_module_version": "1.5.0",
            "_model_name": "FloatProgressModel",
            "_view_count": null,
            "_view_module": "@jupyter-widgets/controls",
            "_view_module_version": "1.5.0",
            "_view_name": "ProgressView",
            "bar_style": "",
            "description": "",
            "description_tooltip": null,
            "layout": "IPY_MODEL_e33313979df646fa9855fc1aaac7ed70",
            "max": 50000,
            "min": 0,
            "orientation": "horizontal",
            "style": "IPY_MODEL_5ed31ca888454ac3a779a706c077bb62",
            "value": 50000
          }
        },
        "5ad031427db84af0bf18c52709cba63a": {
          "model_module": "@jupyter-widgets/controls",
          "model_name": "HTMLModel",
          "model_module_version": "1.5.0",
          "state": {
            "_dom_classes": [],
            "_model_module": "@jupyter-widgets/controls",
            "_model_module_version": "1.5.0",
            "_model_name": "HTMLModel",
            "_view_count": null,
            "_view_module": "@jupyter-widgets/controls",
            "_view_module_version": "1.5.0",
            "_view_name": "HTMLView",
            "description": "",
            "description_tooltip": null,
            "layout": "IPY_MODEL_705b88b13bcf4912a7373d6f3f25d4f3",
            "placeholder": "​",
            "style": "IPY_MODEL_8aacd20177e4477dbe106d8801d23eb8",
            "value": " 0/50000 [00:00&lt;?, ? examples/s]"
          }
        },
        "78e19cf05c5b456aaa3f2caf8550ae79": {
          "model_module": "@jupyter-widgets/base",
          "model_name": "LayoutModel",
          "model_module_version": "1.2.0",
          "state": {
            "_model_module": "@jupyter-widgets/base",
            "_model_module_version": "1.2.0",
            "_model_name": "LayoutModel",
            "_view_count": null,
            "_view_module": "@jupyter-widgets/base",
            "_view_module_version": "1.2.0",
            "_view_name": "LayoutView",
            "align_content": null,
            "align_items": null,
            "align_self": null,
            "border": null,
            "bottom": null,
            "display": null,
            "flex": null,
            "flex_flow": null,
            "grid_area": null,
            "grid_auto_columns": null,
            "grid_auto_flow": null,
            "grid_auto_rows": null,
            "grid_column": null,
            "grid_gap": null,
            "grid_row": null,
            "grid_template_areas": null,
            "grid_template_columns": null,
            "grid_template_rows": null,
            "height": null,
            "justify_content": null,
            "justify_items": null,
            "left": null,
            "margin": null,
            "max_height": null,
            "max_width": null,
            "min_height": null,
            "min_width": null,
            "object_fit": null,
            "object_position": null,
            "order": null,
            "overflow": null,
            "overflow_x": null,
            "overflow_y": null,
            "padding": null,
            "right": null,
            "top": null,
            "visibility": "hidden",
            "width": null
          }
        },
        "bd097c43f28a4af59383490926080dfb": {
          "model_module": "@jupyter-widgets/base",
          "model_name": "LayoutModel",
          "model_module_version": "1.2.0",
          "state": {
            "_model_module": "@jupyter-widgets/base",
            "_model_module_version": "1.2.0",
            "_model_name": "LayoutModel",
            "_view_count": null,
            "_view_module": "@jupyter-widgets/base",
            "_view_module_version": "1.2.0",
            "_view_name": "LayoutView",
            "align_content": null,
            "align_items": null,
            "align_self": null,
            "border": null,
            "bottom": null,
            "display": null,
            "flex": null,
            "flex_flow": null,
            "grid_area": null,
            "grid_auto_columns": null,
            "grid_auto_flow": null,
            "grid_auto_rows": null,
            "grid_column": null,
            "grid_gap": null,
            "grid_row": null,
            "grid_template_areas": null,
            "grid_template_columns": null,
            "grid_template_rows": null,
            "height": null,
            "justify_content": null,
            "justify_items": null,
            "left": null,
            "margin": null,
            "max_height": null,
            "max_width": null,
            "min_height": null,
            "min_width": null,
            "object_fit": null,
            "object_position": null,
            "order": null,
            "overflow": null,
            "overflow_x": null,
            "overflow_y": null,
            "padding": null,
            "right": null,
            "top": null,
            "visibility": null,
            "width": null
          }
        },
        "046de8c93cb64f419d9f3187acb6a754": {
          "model_module": "@jupyter-widgets/controls",
          "model_name": "DescriptionStyleModel",
          "model_module_version": "1.5.0",
          "state": {
            "_model_module": "@jupyter-widgets/controls",
            "_model_module_version": "1.5.0",
            "_model_name": "DescriptionStyleModel",
            "_view_count": null,
            "_view_module": "@jupyter-widgets/base",
            "_view_module_version": "1.2.0",
            "_view_name": "StyleView",
            "description_width": ""
          }
        },
        "e33313979df646fa9855fc1aaac7ed70": {
          "model_module": "@jupyter-widgets/base",
          "model_name": "LayoutModel",
          "model_module_version": "1.2.0",
          "state": {
            "_model_module": "@jupyter-widgets/base",
            "_model_module_version": "1.2.0",
            "_model_name": "LayoutModel",
            "_view_count": null,
            "_view_module": "@jupyter-widgets/base",
            "_view_module_version": "1.2.0",
            "_view_name": "LayoutView",
            "align_content": null,
            "align_items": null,
            "align_self": null,
            "border": null,
            "bottom": null,
            "display": null,
            "flex": null,
            "flex_flow": null,
            "grid_area": null,
            "grid_auto_columns": null,
            "grid_auto_flow": null,
            "grid_auto_rows": null,
            "grid_column": null,
            "grid_gap": null,
            "grid_row": null,
            "grid_template_areas": null,
            "grid_template_columns": null,
            "grid_template_rows": null,
            "height": null,
            "justify_content": null,
            "justify_items": null,
            "left": null,
            "margin": null,
            "max_height": null,
            "max_width": null,
            "min_height": null,
            "min_width": null,
            "object_fit": null,
            "object_position": null,
            "order": null,
            "overflow": null,
            "overflow_x": null,
            "overflow_y": null,
            "padding": null,
            "right": null,
            "top": null,
            "visibility": null,
            "width": null
          }
        },
        "5ed31ca888454ac3a779a706c077bb62": {
          "model_module": "@jupyter-widgets/controls",
          "model_name": "ProgressStyleModel",
          "model_module_version": "1.5.0",
          "state": {
            "_model_module": "@jupyter-widgets/controls",
            "_model_module_version": "1.5.0",
            "_model_name": "ProgressStyleModel",
            "_view_count": null,
            "_view_module": "@jupyter-widgets/base",
            "_view_module_version": "1.2.0",
            "_view_name": "StyleView",
            "bar_color": null,
            "description_width": ""
          }
        },
        "705b88b13bcf4912a7373d6f3f25d4f3": {
          "model_module": "@jupyter-widgets/base",
          "model_name": "LayoutModel",
          "model_module_version": "1.2.0",
          "state": {
            "_model_module": "@jupyter-widgets/base",
            "_model_module_version": "1.2.0",
            "_model_name": "LayoutModel",
            "_view_count": null,
            "_view_module": "@jupyter-widgets/base",
            "_view_module_version": "1.2.0",
            "_view_name": "LayoutView",
            "align_content": null,
            "align_items": null,
            "align_self": null,
            "border": null,
            "bottom": null,
            "display": null,
            "flex": null,
            "flex_flow": null,
            "grid_area": null,
            "grid_auto_columns": null,
            "grid_auto_flow": null,
            "grid_auto_rows": null,
            "grid_column": null,
            "grid_gap": null,
            "grid_row": null,
            "grid_template_areas": null,
            "grid_template_columns": null,
            "grid_template_rows": null,
            "height": null,
            "justify_content": null,
            "justify_items": null,
            "left": null,
            "margin": null,
            "max_height": null,
            "max_width": null,
            "min_height": null,
            "min_width": null,
            "object_fit": null,
            "object_position": null,
            "order": null,
            "overflow": null,
            "overflow_x": null,
            "overflow_y": null,
            "padding": null,
            "right": null,
            "top": null,
            "visibility": null,
            "width": null
          }
        },
        "8aacd20177e4477dbe106d8801d23eb8": {
          "model_module": "@jupyter-widgets/controls",
          "model_name": "DescriptionStyleModel",
          "model_module_version": "1.5.0",
          "state": {
            "_model_module": "@jupyter-widgets/controls",
            "_model_module_version": "1.5.0",
            "_model_name": "DescriptionStyleModel",
            "_view_count": null,
            "_view_module": "@jupyter-widgets/base",
            "_view_module_version": "1.2.0",
            "_view_name": "StyleView",
            "description_width": ""
          }
        },
        "b93bac6f905f44eb9fe755166ec127c8": {
          "model_module": "@jupyter-widgets/controls",
          "model_name": "HBoxModel",
          "model_module_version": "1.5.0",
          "state": {
            "_dom_classes": [],
            "_model_module": "@jupyter-widgets/controls",
            "_model_module_version": "1.5.0",
            "_model_name": "HBoxModel",
            "_view_count": null,
            "_view_module": "@jupyter-widgets/controls",
            "_view_module_version": "1.5.0",
            "_view_name": "HBoxView",
            "box_style": "",
            "children": [
              "IPY_MODEL_96b92db8cc55417d8b2db2a5d599a382",
              "IPY_MODEL_0466bde1d3c9414a98f76720c486e7b8",
              "IPY_MODEL_0cd6f4e5c5584cdd8cc5c3a3b7f15642"
            ],
            "layout": "IPY_MODEL_492c348669564cd58f7e23597700c597"
          }
        },
        "96b92db8cc55417d8b2db2a5d599a382": {
          "model_module": "@jupyter-widgets/controls",
          "model_name": "HTMLModel",
          "model_module_version": "1.5.0",
          "state": {
            "_dom_classes": [],
            "_model_module": "@jupyter-widgets/controls",
            "_model_module_version": "1.5.0",
            "_model_name": "HTMLModel",
            "_view_count": null,
            "_view_module": "@jupyter-widgets/controls",
            "_view_module_version": "1.5.0",
            "_view_name": "HTMLView",
            "description": "",
            "description_tooltip": null,
            "layout": "IPY_MODEL_9e311f268d094150a5a17f1aa1c07a13",
            "placeholder": "​",
            "style": "IPY_MODEL_b11bb524531947e7ba6b8bdafd1e43ff",
            "value": "Generating test examples...:  89%"
          }
        },
        "0466bde1d3c9414a98f76720c486e7b8": {
          "model_module": "@jupyter-widgets/controls",
          "model_name": "FloatProgressModel",
          "model_module_version": "1.5.0",
          "state": {
            "_dom_classes": [],
            "_model_module": "@jupyter-widgets/controls",
            "_model_module_version": "1.5.0",
            "_model_name": "FloatProgressModel",
            "_view_count": null,
            "_view_module": "@jupyter-widgets/controls",
            "_view_module_version": "1.5.0",
            "_view_name": "ProgressView",
            "bar_style": "",
            "description": "",
            "description_tooltip": null,
            "layout": "IPY_MODEL_5697c2def84a416088d9bfe2b3b1fc2a",
            "max": 10000,
            "min": 0,
            "orientation": "horizontal",
            "style": "IPY_MODEL_5f0d3950749040418a976db6d5001a5f",
            "value": 10000
          }
        },
        "0cd6f4e5c5584cdd8cc5c3a3b7f15642": {
          "model_module": "@jupyter-widgets/controls",
          "model_name": "HTMLModel",
          "model_module_version": "1.5.0",
          "state": {
            "_dom_classes": [],
            "_model_module": "@jupyter-widgets/controls",
            "_model_module_version": "1.5.0",
            "_model_name": "HTMLModel",
            "_view_count": null,
            "_view_module": "@jupyter-widgets/controls",
            "_view_module_version": "1.5.0",
            "_view_name": "HTMLView",
            "description": "",
            "description_tooltip": null,
            "layout": "IPY_MODEL_19ee81b5b1dc4c59961f7d6890c12a43",
            "placeholder": "​",
            "style": "IPY_MODEL_ba56428bef1f4cc580965f39225b3c06",
            "value": " 8899/10000 [00:06&lt;00:00, 1595.71 examples/s]"
          }
        },
        "492c348669564cd58f7e23597700c597": {
          "model_module": "@jupyter-widgets/base",
          "model_name": "LayoutModel",
          "model_module_version": "1.2.0",
          "state": {
            "_model_module": "@jupyter-widgets/base",
            "_model_module_version": "1.2.0",
            "_model_name": "LayoutModel",
            "_view_count": null,
            "_view_module": "@jupyter-widgets/base",
            "_view_module_version": "1.2.0",
            "_view_name": "LayoutView",
            "align_content": null,
            "align_items": null,
            "align_self": null,
            "border": null,
            "bottom": null,
            "display": null,
            "flex": null,
            "flex_flow": null,
            "grid_area": null,
            "grid_auto_columns": null,
            "grid_auto_flow": null,
            "grid_auto_rows": null,
            "grid_column": null,
            "grid_gap": null,
            "grid_row": null,
            "grid_template_areas": null,
            "grid_template_columns": null,
            "grid_template_rows": null,
            "height": null,
            "justify_content": null,
            "justify_items": null,
            "left": null,
            "margin": null,
            "max_height": null,
            "max_width": null,
            "min_height": null,
            "min_width": null,
            "object_fit": null,
            "object_position": null,
            "order": null,
            "overflow": null,
            "overflow_x": null,
            "overflow_y": null,
            "padding": null,
            "right": null,
            "top": null,
            "visibility": "hidden",
            "width": null
          }
        },
        "9e311f268d094150a5a17f1aa1c07a13": {
          "model_module": "@jupyter-widgets/base",
          "model_name": "LayoutModel",
          "model_module_version": "1.2.0",
          "state": {
            "_model_module": "@jupyter-widgets/base",
            "_model_module_version": "1.2.0",
            "_model_name": "LayoutModel",
            "_view_count": null,
            "_view_module": "@jupyter-widgets/base",
            "_view_module_version": "1.2.0",
            "_view_name": "LayoutView",
            "align_content": null,
            "align_items": null,
            "align_self": null,
            "border": null,
            "bottom": null,
            "display": null,
            "flex": null,
            "flex_flow": null,
            "grid_area": null,
            "grid_auto_columns": null,
            "grid_auto_flow": null,
            "grid_auto_rows": null,
            "grid_column": null,
            "grid_gap": null,
            "grid_row": null,
            "grid_template_areas": null,
            "grid_template_columns": null,
            "grid_template_rows": null,
            "height": null,
            "justify_content": null,
            "justify_items": null,
            "left": null,
            "margin": null,
            "max_height": null,
            "max_width": null,
            "min_height": null,
            "min_width": null,
            "object_fit": null,
            "object_position": null,
            "order": null,
            "overflow": null,
            "overflow_x": null,
            "overflow_y": null,
            "padding": null,
            "right": null,
            "top": null,
            "visibility": null,
            "width": null
          }
        },
        "b11bb524531947e7ba6b8bdafd1e43ff": {
          "model_module": "@jupyter-widgets/controls",
          "model_name": "DescriptionStyleModel",
          "model_module_version": "1.5.0",
          "state": {
            "_model_module": "@jupyter-widgets/controls",
            "_model_module_version": "1.5.0",
            "_model_name": "DescriptionStyleModel",
            "_view_count": null,
            "_view_module": "@jupyter-widgets/base",
            "_view_module_version": "1.2.0",
            "_view_name": "StyleView",
            "description_width": ""
          }
        },
        "5697c2def84a416088d9bfe2b3b1fc2a": {
          "model_module": "@jupyter-widgets/base",
          "model_name": "LayoutModel",
          "model_module_version": "1.2.0",
          "state": {
            "_model_module": "@jupyter-widgets/base",
            "_model_module_version": "1.2.0",
            "_model_name": "LayoutModel",
            "_view_count": null,
            "_view_module": "@jupyter-widgets/base",
            "_view_module_version": "1.2.0",
            "_view_name": "LayoutView",
            "align_content": null,
            "align_items": null,
            "align_self": null,
            "border": null,
            "bottom": null,
            "display": null,
            "flex": null,
            "flex_flow": null,
            "grid_area": null,
            "grid_auto_columns": null,
            "grid_auto_flow": null,
            "grid_auto_rows": null,
            "grid_column": null,
            "grid_gap": null,
            "grid_row": null,
            "grid_template_areas": null,
            "grid_template_columns": null,
            "grid_template_rows": null,
            "height": null,
            "justify_content": null,
            "justify_items": null,
            "left": null,
            "margin": null,
            "max_height": null,
            "max_width": null,
            "min_height": null,
            "min_width": null,
            "object_fit": null,
            "object_position": null,
            "order": null,
            "overflow": null,
            "overflow_x": null,
            "overflow_y": null,
            "padding": null,
            "right": null,
            "top": null,
            "visibility": null,
            "width": null
          }
        },
        "5f0d3950749040418a976db6d5001a5f": {
          "model_module": "@jupyter-widgets/controls",
          "model_name": "ProgressStyleModel",
          "model_module_version": "1.5.0",
          "state": {
            "_model_module": "@jupyter-widgets/controls",
            "_model_module_version": "1.5.0",
            "_model_name": "ProgressStyleModel",
            "_view_count": null,
            "_view_module": "@jupyter-widgets/base",
            "_view_module_version": "1.2.0",
            "_view_name": "StyleView",
            "bar_color": null,
            "description_width": ""
          }
        },
        "19ee81b5b1dc4c59961f7d6890c12a43": {
          "model_module": "@jupyter-widgets/base",
          "model_name": "LayoutModel",
          "model_module_version": "1.2.0",
          "state": {
            "_model_module": "@jupyter-widgets/base",
            "_model_module_version": "1.2.0",
            "_model_name": "LayoutModel",
            "_view_count": null,
            "_view_module": "@jupyter-widgets/base",
            "_view_module_version": "1.2.0",
            "_view_name": "LayoutView",
            "align_content": null,
            "align_items": null,
            "align_self": null,
            "border": null,
            "bottom": null,
            "display": null,
            "flex": null,
            "flex_flow": null,
            "grid_area": null,
            "grid_auto_columns": null,
            "grid_auto_flow": null,
            "grid_auto_rows": null,
            "grid_column": null,
            "grid_gap": null,
            "grid_row": null,
            "grid_template_areas": null,
            "grid_template_columns": null,
            "grid_template_rows": null,
            "height": null,
            "justify_content": null,
            "justify_items": null,
            "left": null,
            "margin": null,
            "max_height": null,
            "max_width": null,
            "min_height": null,
            "min_width": null,
            "object_fit": null,
            "object_position": null,
            "order": null,
            "overflow": null,
            "overflow_x": null,
            "overflow_y": null,
            "padding": null,
            "right": null,
            "top": null,
            "visibility": null,
            "width": null
          }
        },
        "ba56428bef1f4cc580965f39225b3c06": {
          "model_module": "@jupyter-widgets/controls",
          "model_name": "DescriptionStyleModel",
          "model_module_version": "1.5.0",
          "state": {
            "_model_module": "@jupyter-widgets/controls",
            "_model_module_version": "1.5.0",
            "_model_name": "DescriptionStyleModel",
            "_view_count": null,
            "_view_module": "@jupyter-widgets/base",
            "_view_module_version": "1.2.0",
            "_view_name": "StyleView",
            "description_width": ""
          }
        },
        "ff7190fecf2440dba0e05183c7961265": {
          "model_module": "@jupyter-widgets/controls",
          "model_name": "HBoxModel",
          "model_module_version": "1.5.0",
          "state": {
            "_dom_classes": [],
            "_model_module": "@jupyter-widgets/controls",
            "_model_module_version": "1.5.0",
            "_model_name": "HBoxModel",
            "_view_count": null,
            "_view_module": "@jupyter-widgets/controls",
            "_view_module_version": "1.5.0",
            "_view_name": "HBoxView",
            "box_style": "",
            "children": [
              "IPY_MODEL_f0f9c2fb75134ed28165bd67b8f65db8",
              "IPY_MODEL_2d82289a68e0401ea58303c8c6b8e30c",
              "IPY_MODEL_a60ecd17a9d14801b1d8ca064f890196"
            ],
            "layout": "IPY_MODEL_78cb33867a3c478da4994bd60c209efd"
          }
        },
        "f0f9c2fb75134ed28165bd67b8f65db8": {
          "model_module": "@jupyter-widgets/controls",
          "model_name": "HTMLModel",
          "model_module_version": "1.5.0",
          "state": {
            "_dom_classes": [],
            "_model_module": "@jupyter-widgets/controls",
            "_model_module_version": "1.5.0",
            "_model_name": "HTMLModel",
            "_view_count": null,
            "_view_module": "@jupyter-widgets/controls",
            "_view_module_version": "1.5.0",
            "_view_name": "HTMLView",
            "description": "",
            "description_tooltip": null,
            "layout": "IPY_MODEL_a0412b67f842490e9b985f4b0d24df33",
            "placeholder": "​",
            "style": "IPY_MODEL_da62dcadbc934835aa99c6cc4c836b26",
            "value": "Shuffling /root/tensorflow_datasets/cifar10/incomplete.7WYJFF_3.0.2/cifar10-test.tfrecord*...:   0%"
          }
        },
        "2d82289a68e0401ea58303c8c6b8e30c": {
          "model_module": "@jupyter-widgets/controls",
          "model_name": "FloatProgressModel",
          "model_module_version": "1.5.0",
          "state": {
            "_dom_classes": [],
            "_model_module": "@jupyter-widgets/controls",
            "_model_module_version": "1.5.0",
            "_model_name": "FloatProgressModel",
            "_view_count": null,
            "_view_module": "@jupyter-widgets/controls",
            "_view_module_version": "1.5.0",
            "_view_name": "ProgressView",
            "bar_style": "",
            "description": "",
            "description_tooltip": null,
            "layout": "IPY_MODEL_600a0477a206401591a5a163dc0e877f",
            "max": 10000,
            "min": 0,
            "orientation": "horizontal",
            "style": "IPY_MODEL_d4727f44cf9e47788d8e202a582e157c",
            "value": 10000
          }
        },
        "a60ecd17a9d14801b1d8ca064f890196": {
          "model_module": "@jupyter-widgets/controls",
          "model_name": "HTMLModel",
          "model_module_version": "1.5.0",
          "state": {
            "_dom_classes": [],
            "_model_module": "@jupyter-widgets/controls",
            "_model_module_version": "1.5.0",
            "_model_name": "HTMLModel",
            "_view_count": null,
            "_view_module": "@jupyter-widgets/controls",
            "_view_module_version": "1.5.0",
            "_view_name": "HTMLView",
            "description": "",
            "description_tooltip": null,
            "layout": "IPY_MODEL_9bbb5b756c434051bc6d1d02ee8dcd91",
            "placeholder": "​",
            "style": "IPY_MODEL_baf477875fd048ad82395b6f107f9f55",
            "value": " 0/10000 [00:00&lt;?, ? examples/s]"
          }
        },
        "78cb33867a3c478da4994bd60c209efd": {
          "model_module": "@jupyter-widgets/base",
          "model_name": "LayoutModel",
          "model_module_version": "1.2.0",
          "state": {
            "_model_module": "@jupyter-widgets/base",
            "_model_module_version": "1.2.0",
            "_model_name": "LayoutModel",
            "_view_count": null,
            "_view_module": "@jupyter-widgets/base",
            "_view_module_version": "1.2.0",
            "_view_name": "LayoutView",
            "align_content": null,
            "align_items": null,
            "align_self": null,
            "border": null,
            "bottom": null,
            "display": null,
            "flex": null,
            "flex_flow": null,
            "grid_area": null,
            "grid_auto_columns": null,
            "grid_auto_flow": null,
            "grid_auto_rows": null,
            "grid_column": null,
            "grid_gap": null,
            "grid_row": null,
            "grid_template_areas": null,
            "grid_template_columns": null,
            "grid_template_rows": null,
            "height": null,
            "justify_content": null,
            "justify_items": null,
            "left": null,
            "margin": null,
            "max_height": null,
            "max_width": null,
            "min_height": null,
            "min_width": null,
            "object_fit": null,
            "object_position": null,
            "order": null,
            "overflow": null,
            "overflow_x": null,
            "overflow_y": null,
            "padding": null,
            "right": null,
            "top": null,
            "visibility": "hidden",
            "width": null
          }
        },
        "a0412b67f842490e9b985f4b0d24df33": {
          "model_module": "@jupyter-widgets/base",
          "model_name": "LayoutModel",
          "model_module_version": "1.2.0",
          "state": {
            "_model_module": "@jupyter-widgets/base",
            "_model_module_version": "1.2.0",
            "_model_name": "LayoutModel",
            "_view_count": null,
            "_view_module": "@jupyter-widgets/base",
            "_view_module_version": "1.2.0",
            "_view_name": "LayoutView",
            "align_content": null,
            "align_items": null,
            "align_self": null,
            "border": null,
            "bottom": null,
            "display": null,
            "flex": null,
            "flex_flow": null,
            "grid_area": null,
            "grid_auto_columns": null,
            "grid_auto_flow": null,
            "grid_auto_rows": null,
            "grid_column": null,
            "grid_gap": null,
            "grid_row": null,
            "grid_template_areas": null,
            "grid_template_columns": null,
            "grid_template_rows": null,
            "height": null,
            "justify_content": null,
            "justify_items": null,
            "left": null,
            "margin": null,
            "max_height": null,
            "max_width": null,
            "min_height": null,
            "min_width": null,
            "object_fit": null,
            "object_position": null,
            "order": null,
            "overflow": null,
            "overflow_x": null,
            "overflow_y": null,
            "padding": null,
            "right": null,
            "top": null,
            "visibility": null,
            "width": null
          }
        },
        "da62dcadbc934835aa99c6cc4c836b26": {
          "model_module": "@jupyter-widgets/controls",
          "model_name": "DescriptionStyleModel",
          "model_module_version": "1.5.0",
          "state": {
            "_model_module": "@jupyter-widgets/controls",
            "_model_module_version": "1.5.0",
            "_model_name": "DescriptionStyleModel",
            "_view_count": null,
            "_view_module": "@jupyter-widgets/base",
            "_view_module_version": "1.2.0",
            "_view_name": "StyleView",
            "description_width": ""
          }
        },
        "600a0477a206401591a5a163dc0e877f": {
          "model_module": "@jupyter-widgets/base",
          "model_name": "LayoutModel",
          "model_module_version": "1.2.0",
          "state": {
            "_model_module": "@jupyter-widgets/base",
            "_model_module_version": "1.2.0",
            "_model_name": "LayoutModel",
            "_view_count": null,
            "_view_module": "@jupyter-widgets/base",
            "_view_module_version": "1.2.0",
            "_view_name": "LayoutView",
            "align_content": null,
            "align_items": null,
            "align_self": null,
            "border": null,
            "bottom": null,
            "display": null,
            "flex": null,
            "flex_flow": null,
            "grid_area": null,
            "grid_auto_columns": null,
            "grid_auto_flow": null,
            "grid_auto_rows": null,
            "grid_column": null,
            "grid_gap": null,
            "grid_row": null,
            "grid_template_areas": null,
            "grid_template_columns": null,
            "grid_template_rows": null,
            "height": null,
            "justify_content": null,
            "justify_items": null,
            "left": null,
            "margin": null,
            "max_height": null,
            "max_width": null,
            "min_height": null,
            "min_width": null,
            "object_fit": null,
            "object_position": null,
            "order": null,
            "overflow": null,
            "overflow_x": null,
            "overflow_y": null,
            "padding": null,
            "right": null,
            "top": null,
            "visibility": null,
            "width": null
          }
        },
        "d4727f44cf9e47788d8e202a582e157c": {
          "model_module": "@jupyter-widgets/controls",
          "model_name": "ProgressStyleModel",
          "model_module_version": "1.5.0",
          "state": {
            "_model_module": "@jupyter-widgets/controls",
            "_model_module_version": "1.5.0",
            "_model_name": "ProgressStyleModel",
            "_view_count": null,
            "_view_module": "@jupyter-widgets/base",
            "_view_module_version": "1.2.0",
            "_view_name": "StyleView",
            "bar_color": null,
            "description_width": ""
          }
        },
        "9bbb5b756c434051bc6d1d02ee8dcd91": {
          "model_module": "@jupyter-widgets/base",
          "model_name": "LayoutModel",
          "model_module_version": "1.2.0",
          "state": {
            "_model_module": "@jupyter-widgets/base",
            "_model_module_version": "1.2.0",
            "_model_name": "LayoutModel",
            "_view_count": null,
            "_view_module": "@jupyter-widgets/base",
            "_view_module_version": "1.2.0",
            "_view_name": "LayoutView",
            "align_content": null,
            "align_items": null,
            "align_self": null,
            "border": null,
            "bottom": null,
            "display": null,
            "flex": null,
            "flex_flow": null,
            "grid_area": null,
            "grid_auto_columns": null,
            "grid_auto_flow": null,
            "grid_auto_rows": null,
            "grid_column": null,
            "grid_gap": null,
            "grid_row": null,
            "grid_template_areas": null,
            "grid_template_columns": null,
            "grid_template_rows": null,
            "height": null,
            "justify_content": null,
            "justify_items": null,
            "left": null,
            "margin": null,
            "max_height": null,
            "max_width": null,
            "min_height": null,
            "min_width": null,
            "object_fit": null,
            "object_position": null,
            "order": null,
            "overflow": null,
            "overflow_x": null,
            "overflow_y": null,
            "padding": null,
            "right": null,
            "top": null,
            "visibility": null,
            "width": null
          }
        },
        "baf477875fd048ad82395b6f107f9f55": {
          "model_module": "@jupyter-widgets/controls",
          "model_name": "DescriptionStyleModel",
          "model_module_version": "1.5.0",
          "state": {
            "_model_module": "@jupyter-widgets/controls",
            "_model_module_version": "1.5.0",
            "_model_name": "DescriptionStyleModel",
            "_view_count": null,
            "_view_module": "@jupyter-widgets/base",
            "_view_module_version": "1.2.0",
            "_view_name": "StyleView",
            "description_width": ""
          }
        }
      }
    }
  },
  "cells": [
    {
      "cell_type": "markdown",
      "metadata": {
        "id": "view-in-github",
        "colab_type": "text"
      },
      "source": [
        "<a href=\"https://colab.research.google.com/github/coronarita1991/AIFFEL_RESEARCH_STUDY/blob/main/Ablation_Study_CIFAR_10.ipynb\" target=\"_parent\"><img src=\"https://colab.research.google.com/assets/colab-badge.svg\" alt=\"Open In Colab\"/></a>"
      ]
    },
    {
      "cell_type": "code",
      "execution_count": null,
      "metadata": {
        "id": "MZ0AoejeUJJx"
      },
      "outputs": [],
      "source": [
        "# TensorFlow and tf.keras\n",
        "import tensorflow as tf\n",
        "from tensorflow import keras\n",
        "\n",
        "# Helper libraries\n",
        "import numpy as np\n",
        "import matplotlib.pyplot as plt\n",
        "\n",
        "import tensorflow_datasets as tfds"
      ]
    },
    {
      "cell_type": "code",
      "source": [
        "# Tensorflow가 활용할 GPU가 장착되어 있는지 확인해 봅니다.\n",
        "tf.config.list_physical_devices('GPU')"
      ],
      "metadata": {
        "colab": {
          "base_uri": "https://localhost:8080/"
        },
        "id": "P5Kfaq-kUNuw",
        "outputId": "1ede03cf-c766-4ff0-a133-23e4566a96bf"
      },
      "execution_count": null,
      "outputs": [
        {
          "output_type": "execute_result",
          "data": {
            "text/plain": [
              "[]"
            ]
          },
          "metadata": {},
          "execution_count": 3
        }
      ]
    },
    {
      "cell_type": "code",
      "source": [
        "import urllib3\n",
        "urllib3.disable_warnings()\n",
        "\n",
        " # 데이터셋 다운로드의 프로그레스 바가 나타나지 않게 합니다.\n",
        "# tfds.disable_progress_bar()\n",
        "\n",
        "(ds_train, ds_test), ds_info = tfds.load(\n",
        "    'cifar10',\n",
        "    split=['train', 'test'],\n",
        "    shuffle_files=True,\n",
        "    with_info=True,\n",
        ")"
      ],
      "metadata": {
        "colab": {
          "base_uri": "https://localhost:8080/",
          "height": 170,
          "referenced_widgets": [
            "6dd1136bcbec40d986b6eacb578b096b",
            "cf180897a2e34e6189b77fbb27922737",
            "c76abeb800204d7faebc9367366b7558",
            "ce89f7635dd047b7a7098f045b1e38d8",
            "9064184a17fa45a79176fc184c5a0664",
            "6ca285cbe0094ac8a7fcac7731040158",
            "66baf38b5b434308b260021755ed2685",
            "3ba5504ad7f7492f9132fc1ea4094e34",
            "100070b5d97344758fe52579312ed5d9",
            "1395e9b8ee704fb598e0a2ae7aa44125",
            "e64368daed8c4deab75962f86318a7aa",
            "35eb5043889f4b2fb1a0c1ec8e1e6801",
            "e0f0755c412c48c5a9b5ae0326d4ca14",
            "7c0e48e7911d42c1bae2907e75ae9a01",
            "5f61998caba14f48939bca743542ba63",
            "70b72cc871a54354abb1b617d5e19916",
            "a1f82a14157c490880ceabb80be29fc8",
            "3edffc3b9e304889a3889d05846e7a52",
            "7bc9c252334b4b4ab170ceb50bf1f8ab",
            "6da6d404a7b2464a945c643b1ec1fdec",
            "9893d6fbdb9a46c594a3bf85b6a34d34",
            "41c46081f2074422a1eca2ee5e561240",
            "842987d2d52449aa9cf22aaa7a94463c",
            "404bae6a59654502975128ad5e5b13bb",
            "db9f6e0c88e7494b8857de6577d30707",
            "25e4939881114beab94fa8f40d61ef86",
            "4edef6caffac476eacf267cf7ef6202b",
            "20b199e1260b4dc0ae5cad9613f0b538",
            "e0fbf936d699404fb110c16cee564e26",
            "dbaac36c5cff4955a5c6bcc04b07f606",
            "75b4aab57c714a9fa580b05cfe64bda7",
            "f9639d975c0a4fcea4dd78969ab9f363",
            "11105eaf70544ab8979d2d2af2816c2a",
            "dea06be2ae2c424894bbbf33b5040000",
            "6d3438d6e362498ea990c4a5d9eb0941",
            "1455dc060898401ca8ae56716f440035",
            "88c9419621c643a7a29e7d50de082342",
            "57326d47b5bf42918e2027f57ee4ca90",
            "8b6667caaa0b496e95e8501b8f2be92e",
            "7929cece08094270a9313eb1ad798690",
            "352b7b99f93a47a8b739ca454a4b53bf",
            "42cb8a6bcbd940a29b34acaeb47d7418",
            "8df5f18fdce74f939bf784f8a1f38d18",
            "bd7734c5c7ef450fb3dd4899dc417af0",
            "18910bf3909a4997abdc3c94bc130d91",
            "786c9bf724c848d390eb070a13d807b3",
            "c9220748195346198b119b8941855ac4",
            "b23d40cd791244a4b27af7c95c0a9f97",
            "dd0f5959cccc4b9291735279b9b963e7",
            "00b17008c99543489eb167406a7eca0c",
            "65aaf9a5391446d89f9a2ad0abba0420",
            "dd3b8469be3643cab45a5b62f754b287",
            "b5c992f83c034af38e9f7c683effd238",
            "250fc9d1d9534ccda35da5378a1c9d18",
            "45ffd2b1c9ff48c4b113351955dee66b",
            "d8c703c9fe4d40358e3b363c9284aeee",
            "a46fe897167249e2854c6cf83f56db1f",
            "62f3d97252ca44d19a14da5cce722f29",
            "5ad031427db84af0bf18c52709cba63a",
            "78e19cf05c5b456aaa3f2caf8550ae79",
            "bd097c43f28a4af59383490926080dfb",
            "046de8c93cb64f419d9f3187acb6a754",
            "e33313979df646fa9855fc1aaac7ed70",
            "5ed31ca888454ac3a779a706c077bb62",
            "705b88b13bcf4912a7373d6f3f25d4f3",
            "8aacd20177e4477dbe106d8801d23eb8",
            "b93bac6f905f44eb9fe755166ec127c8",
            "96b92db8cc55417d8b2db2a5d599a382",
            "0466bde1d3c9414a98f76720c486e7b8",
            "0cd6f4e5c5584cdd8cc5c3a3b7f15642",
            "492c348669564cd58f7e23597700c597",
            "9e311f268d094150a5a17f1aa1c07a13",
            "b11bb524531947e7ba6b8bdafd1e43ff",
            "5697c2def84a416088d9bfe2b3b1fc2a",
            "5f0d3950749040418a976db6d5001a5f",
            "19ee81b5b1dc4c59961f7d6890c12a43",
            "ba56428bef1f4cc580965f39225b3c06",
            "ff7190fecf2440dba0e05183c7961265",
            "f0f9c2fb75134ed28165bd67b8f65db8",
            "2d82289a68e0401ea58303c8c6b8e30c",
            "a60ecd17a9d14801b1d8ca064f890196",
            "78cb33867a3c478da4994bd60c209efd",
            "a0412b67f842490e9b985f4b0d24df33",
            "da62dcadbc934835aa99c6cc4c836b26",
            "600a0477a206401591a5a163dc0e877f",
            "d4727f44cf9e47788d8e202a582e157c",
            "9bbb5b756c434051bc6d1d02ee8dcd91",
            "baf477875fd048ad82395b6f107f9f55"
          ]
        },
        "id": "W8Q-0D72UPRI",
        "outputId": "947ef1e4-30a3-4e1f-e6e8-8a59e5f09c19"
      },
      "execution_count": null,
      "outputs": [
        {
          "output_type": "stream",
          "name": "stdout",
          "text": [
            "Downloading and preparing dataset 162.17 MiB (download: 162.17 MiB, generated: 132.40 MiB, total: 294.58 MiB) to /root/tensorflow_datasets/cifar10/3.0.2...\n"
          ]
        },
        {
          "output_type": "display_data",
          "data": {
            "text/plain": [
              "Dl Completed...: 0 url [00:00, ? url/s]"
            ],
            "application/vnd.jupyter.widget-view+json": {
              "version_major": 2,
              "version_minor": 0,
              "model_id": "6dd1136bcbec40d986b6eacb578b096b"
            }
          },
          "metadata": {}
        },
        {
          "output_type": "display_data",
          "data": {
            "text/plain": [
              "Dl Size...: 0 MiB [00:00, ? MiB/s]"
            ],
            "application/vnd.jupyter.widget-view+json": {
              "version_major": 2,
              "version_minor": 0,
              "model_id": "35eb5043889f4b2fb1a0c1ec8e1e6801"
            }
          },
          "metadata": {}
        },
        {
          "output_type": "display_data",
          "data": {
            "text/plain": [
              "Extraction completed...: 0 file [00:00, ? file/s]"
            ],
            "application/vnd.jupyter.widget-view+json": {
              "version_major": 2,
              "version_minor": 0,
              "model_id": "842987d2d52449aa9cf22aaa7a94463c"
            }
          },
          "metadata": {}
        },
        {
          "output_type": "display_data",
          "data": {
            "text/plain": [
              "Generating splits...:   0%|          | 0/2 [00:00<?, ? splits/s]"
            ],
            "application/vnd.jupyter.widget-view+json": {
              "version_major": 2,
              "version_minor": 0,
              "model_id": "dea06be2ae2c424894bbbf33b5040000"
            }
          },
          "metadata": {}
        },
        {
          "output_type": "display_data",
          "data": {
            "text/plain": [
              "Generating train examples...:   0%|          | 0/50000 [00:00<?, ? examples/s]"
            ],
            "application/vnd.jupyter.widget-view+json": {
              "version_major": 2,
              "version_minor": 0,
              "model_id": "18910bf3909a4997abdc3c94bc130d91"
            }
          },
          "metadata": {}
        },
        {
          "output_type": "display_data",
          "data": {
            "text/plain": [
              "Shuffling /root/tensorflow_datasets/cifar10/incomplete.7WYJFF_3.0.2/cifar10-train.tfrecord*...:   0%|         …"
            ],
            "application/vnd.jupyter.widget-view+json": {
              "version_major": 2,
              "version_minor": 0,
              "model_id": "d8c703c9fe4d40358e3b363c9284aeee"
            }
          },
          "metadata": {}
        },
        {
          "output_type": "display_data",
          "data": {
            "text/plain": [
              "Generating test examples...:   0%|          | 0/10000 [00:00<?, ? examples/s]"
            ],
            "application/vnd.jupyter.widget-view+json": {
              "version_major": 2,
              "version_minor": 0,
              "model_id": "b93bac6f905f44eb9fe755166ec127c8"
            }
          },
          "metadata": {}
        },
        {
          "output_type": "display_data",
          "data": {
            "text/plain": [
              "Shuffling /root/tensorflow_datasets/cifar10/incomplete.7WYJFF_3.0.2/cifar10-test.tfrecord*...:   0%|          …"
            ],
            "application/vnd.jupyter.widget-view+json": {
              "version_major": 2,
              "version_minor": 0,
              "model_id": "ff7190fecf2440dba0e05183c7961265"
            }
          },
          "metadata": {}
        },
        {
          "output_type": "stream",
          "name": "stdout",
          "text": [
            "Dataset cifar10 downloaded and prepared to /root/tensorflow_datasets/cifar10/3.0.2. Subsequent calls will reuse this data.\n"
          ]
        }
      ]
    },
    {
      "cell_type": "code",
      "source": [
        "# Tensorflow dataset에 대한 feature 확인\n",
        "print(ds_info.features)"
      ],
      "metadata": {
        "colab": {
          "base_uri": "https://localhost:8080/"
        },
        "id": "G0lBZBZKUppY",
        "outputId": "45b476c5-8ed9-4bdc-e015-5e74b54192c5"
      },
      "execution_count": null,
      "outputs": [
        {
          "output_type": "stream",
          "name": "stdout",
          "text": [
            "FeaturesDict({\n",
            "    'id': Text(shape=(), dtype=string),\n",
            "    'image': Image(shape=(32, 32, 3), dtype=uint8),\n",
            "    'label': ClassLabel(shape=(), dtype=int64, num_classes=10),\n",
            "})\n"
          ]
        }
      ]
    },
    {
      "cell_type": "code",
      "source": [
        "# 데이터 수 확인 - numpy가 아니기 때문에, .shape 호출은 불가능\n",
        "print(tf.data.experimental.cardinality(ds_train))\n",
        "print(tf.data.experimental.cardinality(ds_test))"
      ],
      "metadata": {
        "colab": {
          "base_uri": "https://localhost:8080/"
        },
        "id": "s83LWeUDU1_3",
        "outputId": "52efe1c7-055f-4e76-9440-6babae13e753"
      },
      "execution_count": null,
      "outputs": [
        {
          "output_type": "stream",
          "name": "stdout",
          "text": [
            "tf.Tensor(50000, shape=(), dtype=int64)\n",
            "tf.Tensor(10000, shape=(), dtype=int64)\n"
          ]
        }
      ]
    },
    {
      "cell_type": "code",
      "source": [
        "# 정규화 진행\n",
        "def normalize_and_resize_img(image, label, size):\n",
        "    \"\"\"Normalizes images: `uint8` -> `float32`.\"\"\"\n",
        "\n",
        "    # Resize\n",
        "    image = tf.cast(image, tf.float32)\n",
        "    image = tf.image.resize(image, [size, size])\n",
        "\n",
        "    # Normalize\n",
        "    image /= 255.0\n",
        "\n",
        "    return image, label"
      ],
      "metadata": {
        "id": "WHmQIU1gU6cb"
      },
      "execution_count": null,
      "outputs": []
    },
    {
      "cell_type": "code",
      "source": [
        "print(type(ds_train))\n",
        "print(type(ds_test))"
      ],
      "metadata": {
        "colab": {
          "base_uri": "https://localhost:8080/"
        },
        "id": "Mxf_YSIsWM8M",
        "outputId": "e7bc0425-ec31-49d2-8448-66d9ad3d792d"
      },
      "execution_count": null,
      "outputs": [
        {
          "output_type": "stream",
          "name": "stdout",
          "text": [
            "<class 'tensorflow.python.data.ops.prefetch_op._PrefetchDataset'>\n",
            "<class 'tensorflow.python.data.ops.prefetch_op._PrefetchDataset'>\n"
          ]
        }
      ]
    },
    {
      "cell_type": "code",
      "source": [
        "def apply_normalize_on_dataset(ds, is_test=False, batch_size=16, img_size=32):\n",
        "    # apply normalize\n",
        "    ds = ds.map(\n",
        "        lambda x, y: normalize_and_resize_img(x, y, img_size),\n",
        "        num_parallel_calls=1\n",
        "    )\n",
        "    # make batch\n",
        "    ds = ds.batch(batch_size)\n",
        "\n",
        "    if not is_test:\n",
        "        ds = ds.repeat() # 정확하게 이해하지는 못했음. 아마 매학습마다 반복을 해주는데\n",
        "        ds = ds.shuffle(200) # shuffle을 두어서 미리 담아둘수 있는 공간을 확보\n",
        "\n",
        "    ds = ds.prefetch(tf.data.experimental.AUTOTUNE) # 미리 최적 배치들을 준비하게 함\n",
        "\n",
        "    return ds"
      ],
      "metadata": {
        "id": "lBzBv24HVxpg"
      },
      "execution_count": null,
      "outputs": []
    },
    {
      "cell_type": "code",
      "source": [
        "ds_info.features['label'].num_classes"
      ],
      "metadata": {
        "colab": {
          "base_uri": "https://localhost:8080/"
        },
        "id": "S4JNmPQStJgi",
        "outputId": "c4b71a25-9d36-468d-c5cc-5036f7723aa0"
      },
      "execution_count": null,
      "outputs": [
        {
          "output_type": "execute_result",
          "data": {
            "text/plain": [
              "10"
            ]
          },
          "metadata": {},
          "execution_count": 10
        }
      ]
    },
    {
      "cell_type": "code",
      "source": [
        "ds_info.features['label'].names"
      ],
      "metadata": {
        "colab": {
          "base_uri": "https://localhost:8080/"
        },
        "id": "9hGxJzsNyGhK",
        "outputId": "1b3cad06-792d-4a66-db63-01cf5a615b8f"
      },
      "execution_count": null,
      "outputs": [
        {
          "output_type": "execute_result",
          "data": {
            "text/plain": [
              "['airplane',\n",
              " 'automobile',\n",
              " 'bird',\n",
              " 'cat',\n",
              " 'deer',\n",
              " 'dog',\n",
              " 'frog',\n",
              " 'horse',\n",
              " 'ship',\n",
              " 'truck']"
            ]
          },
          "metadata": {},
          "execution_count": 11
        }
      ]
    },
    {
      "cell_type": "code",
      "source": [
        "# 데이터 예시 보기\n",
        "fig = tfds.show_examples(ds_train, ds_info)"
      ],
      "metadata": {
        "colab": {
          "base_uri": "https://localhost:8080/",
          "height": 749
        },
        "id": "Xze-8qrcyJWd",
        "outputId": "c34c0a1c-8a69-424f-aca4-6c7759ce2492"
      },
      "execution_count": null,
      "outputs": [
        {
          "output_type": "display_data",
          "data": {
            "text/plain": [
              "<Figure size 900x900 with 9 Axes>"
            ],
            "image/png": "[encoded data removed]"
          },
          "metadata": {}
        }
      ]
    },
    {
      "cell_type": "code",
      "source": [
        "fig = tfds.show_examples(ds_test, ds_info)"
      ],
      "metadata": {
        "colab": {
          "base_uri": "https://localhost:8080/",
          "height": 749
        },
        "id": "Gzb2zBCPyJ2k",
        "outputId": "f23547b9-9745-4f4e-bb95-920db35f04fb"
      },
      "execution_count": null,
      "outputs": [
        {
          "output_type": "display_data",
          "data": {
            "text/plain": [
              "<Figure size 900x900 with 9 Axes>"
            ],
            "image/png": "[encoded data removed]"
          },
          "metadata": {}
        }
      ]
    },
    {
      "cell_type": "markdown",
      "source": [
        "# VGG 기본 블록 만들기"
      ],
      "metadata": {
        "id": "nsLdz5yAybPn"
      }
    },
    {
      "cell_type": "markdown",
      "source": [
        "![image.png](data:image/png;base64,iVBORw0KGgoAAAANSUhEUgAAAzAAAAM/CAIAAACBPKCZAAAAAXNSR0IArs4c6QAAAERlWElmTU0AKgAAAAgAAYdpAAQAAAABAAAAGgAAAAAAA6ABAAMAAAABAAEAAKACAAQAAAABAAADMKADAAQAAAABAAADPwAAAAA1dVQRAABAAElEQVR4AezdC/z/SVUXfijJIkQrFNPKpARNDMuVSyEWLVYCIgnqIiyQq3KTwLgstAKLrFy8JawLRiJCghdWWBAL3VY0cUsNoZtmdrXAS5JlVpbm/7n7wtP835f5vD+f7/X32/k+Hr/Pb94zZ86cOTNz5syZMzO3/63f+q3bjb/BgcGBwYHBgcGBwYHBgcGBs+PA7zi7okfJgwODA4MDgwODA4MDgwODA7dwYChkox8MDgwODA4MDgwODA4MDpwxB4ZCdsYNMIofHBgcGBwYHBgcGBwYHBgK2egDgwODA4MDgwODA4MDgwNnzIGhkJ1xA4ziBwcGBwYHBgcGBwYHBgeGQjb6wODA4MDgwODA4MDgwODAGXNgKGRn3ACj+MGBwYHBgcGBwYHBgcGBE1TI/tf/+l///t//+w6Lf/7nf/6//bf/1gEYSYMDFz0HXATYHwX/9//+33/7b//tOeTDBz7wgf/xP/7HmRD2m7/5m//u3/27Myl6XqgW/PVf//V5/EnE/OIv/uKv/uqvngRmVeiL64MLPTmaf+EXfuE3fuM3thB2bgfRIvGaWFuctytCz2S8n0mhi41yOpEf0inma7/2a7GjA/DFX/zFf+yP/bE5wL/+1//6la985Wtf+9r73Oc+b3/72+cAf/fv/l0A3/d93/eGN7zh8z//8+cAW2L01ze/+c3XXnstbB/6oR+6JUsH5md+5me+9Vu/9Z/8k3/y/ve//4//8T/+6Z/+6fe+973vd7/7fcmXfMnf+lt/6+j4O0Wrwvve974CeNSjHnXPe94zn//oH/2jG264oZKe9rSnfdRHfVR9ns/AP/2n//Rtb3sbyv/Tf/pPOPlX/+pf/azP+qzzSeo111zzjne846lPfeojHvGIM6HwZ3/2Z5/4xCdeffXVf+bP/Jk5Ab/0S7/06le/WvcznfyH//Af5gBnGGOW/aN/9I/+wT/4B1Xh9re//alRYhUXnnzYh33Yv/gX/+LUyu0UpJke+chH/s2/+Tf/1J/6Ux2wTtIWSUuovupVrzKyvvmbv9mY6mDbN4m6TxqTfpdccglZum/2Dvz3f//3nxDNf+fv/B00//N//s/vcIc7PPrRj/76r//6tU54ngfRnHU33njj85//fOucn/qpn7rjHe/4dV/3dY9//OPnYKcfcybj/UwKPX3e/v9KpNas/X30rX8G/zOe8YzMqR/zMR/zzGc+80lPetKf/tN/GhbSYTGv+IiMz/7sz14E+IZv+IY/8Sf+BAzf+Z3fuQiwM/Itb3nLJ3zCJ6Qmuu9O+D7Ac57znIznj//4j6f0fNu3fdvTn/504+FDPuQWhfXo+PulE4iPfexjUxe/aPjlX/7lZPmVX/kV8/GHf/iH3/3ud/+RH/kRy8E+Kqn/5//8H0rkTrATAnjTm970u3/37/79v//3/8N/+A91g1TqH/yDf3BCxe2FdsIZKnjIu8td7kLj2QvVsQATvoo2Ba5hu/nmm6+66ipE/uE//IfXYM4qXs8kDe573/ueMgHvete7iCM8+aRP+qRTLrpTnL5khFIROjCdpC2S9hWveMWnfuqnqvi3fMu3dFAdkGTNbGkN81/6S3/pgOzzLNa0iTwhmgmWO93pTj/3cz9HO49F4Ad+4AcmZBDa//W//leR53kQTWjWt006NGPxdFm6pgmITWQCdmqf1Y5KPJPxfiaFnhp7Fwu63WJsIj/yIz/yP/7H/5iwhY4R+5f/8l/Opy2Dhz/84W984xvXsjM1gV9TyOSi8QA4WCH7x//4H//0T/+0YQnJERWmyHd4Pu/zPq+dmO2J/JE/8keOjn+NRW08fprelJU/6q+YAnjIQx7yvOc9rz77AZAf8REf0Yc5oVQNQYiowpd92ZcpQuOmOh2d44QoWUQ74YyNQlYWFLLjLsKfaOS/+Tf/5g/8gT9Af+2Xkh2Zc6iQIRtt7XjpV+QYU020Wu1cKWRq9xM/8ROWIuTeATXdKGm/8iu/UsWPXSFD8D/7Z/8M5mNRyAwr2wvFhJOgmTn5T/7JP5kiGA6/6qu+yh5flZiASFa0hM/zIGrJftCDHmTGqZjrr7+e8b6dCCrpFAKTdlTimYz3Myn0FNi7VkTPh8ze2cd+7McaqPO/3/E7fsdTnvKUzkZeJynYdgLMC21jmOjucY97/KE/9IfayAPCDH72C2S0S8gw1tq9P+7jPs58eQDOA7Lg5+/8nb+TYSl5LY+e+9znFh413bhT+da3vtU2XGU85YDZiBVKoQw/fqnsr3vd6975zncS9KdMyby4OWdoY+YhUhu35/AnHWOn/vf8nt/zuZ/7uf2C9IqYaftgZ5KKtna8nBoNRxQdJ0Tnp33ap33RF30RU5MZdN8iNkrak6v4MWKmgf2X//JfigPHiDk4rQHImd/7e39vPu92t7uxImdlXoVa7djErM/zPIiKSAHOHjEBJPKv/JW/8o3f+I2mhhbm1MKTdlTumYz3Myn01Jg8L6jnQ8YrYp6hYh74wAcmzLvl7/29v6ff8Lj65E/+5ERWNzJ+GI1//Md/nIPFZ37mZ1b2RVH+oz/6o0xfxvCf+3N/zhZAAa8Fftfv+l3zJAKRa5qNv/vf//7z1DbmX/2rf2WTPjG26muQF4yl3md8xmdUXfi9fvu3fzsKlWs18+f//J83pwLmysDanFz3ute90P8d3/EdVhhf8AVfoMpK+cEf/MHCiTB52djjqc1vI/u/5l363+d8zuf89//+3wG/9KUvJeL5pggjYMIu3jPf/d3fzX3HSpETUuTRN33TN/21v/bXVB+dNjplNEPMKyXesoP7HZoBP+xhD8PtmvUPqyOc73nPe3gNCvgjWVhPBaDlHvf3//7f/wt/4S/cmnJL0Xj4Yz/2Y8xpugQ/pBTNYw9J1g3ADEITG+c5TrvJRX1h9vuu7/ouRuzE2OT9l//yXzLvU/7+xt/4G4n8oR/6IZViOqVMX3rppdXf5pxhu+XCmFy2bC677LKE16ovFdm/9mu/FjBuKzQ53VUVHvOYx5QmbXOWXfB//+//nXa3wK2kZMyv/sCgwmKnphWv7uh/73vfaxBxnuDWlu5dTW9fTLexR6Nq1V6ya0Qee7qlrsV4kBKxnXk7yMVjuy2eKkuvE6PJxKBBT1M13U/gEz/xE+nQyqJGm+0qyzygRNSWPxNsyGAcVe73fu/3Wiwx9C6O0BZVctmUf/CDHxyDZaXakNJznA0yQFr3rGIISGZsvBJgbsSZ//k//6e+FwzqEvaKZGzgIwGJRmdT+Yt/8S9a5ADThW666SY7hiqbsSyyX5G1ZpLRDMp8ZRL9iq/4itCw8XejpK2K44meoEHZztspXHF7iVAjhSMEtn/Kp3zKnNRFVIatcUr0kTla2adWDg364Ytf/GLV1/QGOH5Cu4XmedFrTa9xeaaSkOSAItJ1J9lVSkNQCjU0GG6sRkSRsTaI9mXdAf22M8SMo//8n/+zWrOAoDk1wk/sZSm4613vWnUExtUBpInJuEi9towCWizM5Kr1JyTmpsiQ+fS92I4ImIx3MYuSJ6T2BxEYvn1GpV5EyBihNUEke/1OCu3wsLIsNg1Okm/kHkGhXMVFApAepC4G+rQBmB2eoJpzJvEdCbCGrZOlyP5gAOiWv8mWZbLgowmAHOSVHK2Cc1iSaCEKoHnYB6wi6QeaMADctsTXlqUBRhfhFvbkJz+ZfMQXJe4kjDoCCV63kDlGQMqYctr4efjZz3520Ub0zwHE1KYM5cDeFniqG7uaAIkfU7nm5EwTVOS+nYuME4oUVyrLtZpOCCk9DFpKKk2CUwjxkXLNmvro93zP95TsoEsRQFIVR6UImF+aATxKv+666wDbu8E9yhldMDSQU0r0Z9xWrgro0yY/GSkEFBdZkKEpARxcR3kJYjsvIYAE1JSUrXySKSkdnagSiXi+ycZGAPxyrv/qr/7qfJrFwfMUKVWYi6sYKlopIsyZtfimEGtrlVLxF7zgBbwAg+dFL3qRXIucIaxpSwHDBGD+OtWXmiGQLDT1oq325a06RGLmS17yEoMCpPn+VsTTH7ZDqekJSdMoOKZraZTkjQeMVGPBlqWRFfVCxr/+1/96YTTBGC8QymgipLZaHUn94R/+4eCxFW7SRVvWJ5AwvmKXrnv55ZfD9qVf+qWs3Xe+852F2RVUTcCfGGuGKqgNUCiJNjCkmHhqaIYG2fqa17ym6PzyL//yNtckbFpFAFWMT6r+oDXZqguGTmNyomrn0A/1FHxSKc2KzpalcWT29Umhl8rhBnNCQIh/1rOe9ft+3+8DYA+rXaFRaHSVGmtKkX1nRTrNJLtUjUWfDp2H/S5K2qCK8fuFL3xh6U/aiIKS1L1EKLGGt6jV5ejQ4VhtWS6iwn/9RHthJhGk1wn4I2kjPHU8Y1AMbALaBWF9mhdZ1Gl6+kSOv+jnFEF/NUwKlQVS3Iv1EGSYfSX1B9FifQvhJHBYv+0PMepRHAT11Qfc+mdAmUcw0yq0CKBLEa1Wj0YK/pOfzBbGoD7TGQWGf6Yngs6QvKXNbnc7Nou16XvejpPxHnrWJM/OQSS7mcvCj/rO4qC38F+qOlZgXmifhzKuNQ1Rn37L7KfnqD6+gTfbmrO+8Au/MP3W3ERVFb/GGUkdCbCGrZMFwslfz4esBV0UE6w46hYnRH7oZiMyNLmikEkl7i24TY0Z8+R1ACYKGTMPKRPthy5PUBLQFJ2Whnl4USGzQKeaPO5xj5vDT2LSDIj0V370E5j6jN89XYEIQKeFl1w1GZOSt6K5nb1FOpaDk/kMGbXoUS+mCzitcelbzDmFPwqZT/NE8vpViqVeq5BR2zl+SqKRAGYsETbrCOuOyajPFdp5IGPSqJdUG6MRqUepI2yUhhBAOfBJE8pnKWRGVGIozQAo3z5NKs54Y2l8g8REIQNQKl0UMjFUk2AAQzDpVHRTGQ2GxFseAYt6oUPis89FzmimZCmFrF99SoxCk8WcAWdt6KejPuEJT5BqVrNvSxXWE1qVCxn5U9OIWvrfb8f9lpOD4PMpnviomcZcAq2exiJC9TT/0UqTqhQ6UGY+edM38MRWrE9KmIy6UNDq4daj2FUON8yoTB1SKY7ZPEWYXWZd1CaavOlXyd7+opDUBhCFzEKCncmnPzYb2KiDCtLbCaM2YxvWGTRQ9In4MCEv9fqar/kadWREDHy6jUkrn61CJgbzlRuFLABRFqOQEUSpC3pYbbVaJI9BhG9YyqqXdgS5syKdZkrRUOH/ZImYpI2/i5I2eaPc4GoqQmaqOOGQ1L1EaGxy7IXJS4uFqhSyRVTWMAw5WXgbX3R3/ScjlOqvUYIKnupyYvo0J0v72296kDzNFcE+1OaahCNCy4dMamcQSV2s79rsc1i/3TnEsFe92G6rLhHUpZAZStbwZHsMDZbo4HV1BjMKZWcUMNtQkgD7o3yYr+2KUKc60zcaAFc7Tsa71I7k2TmI0M+kSidLTa+88spFhWxe6E4erjWNjHWO3kxBJ6GQ4BhxZ6MpZAQg3s8dzqxJgA62tSwpd/J7JIWMfcv62/YZpAakvkKkpoAoZNSFKu+KK67Qxn/2z/7ZxLQKmR5DijGnsZrkz6wD+PWvf31lXwwsKmSLkIuRES4KIuNiIloEE2naMHmAtI4JjAnSpz/9RkzpIrFesPck9aEPfWjgzXyJYT4RQxROfMlLITNhZ7kTeAWZ/stCFtEpKfONJaNw9P1FtSOl1y/1LtoAGSTSBG/JZZwTc0evYzFhTSHL0VoEx/KXfu8zDa3iwv5KIStLQClksfqAia6A7FgB//bf/tu3Zv0gKjpWPnUt1VzkjPoGJgrZzurDk2WWXNFp7NEHQxSv2sTXyY1P8wH2FucrkHLNEOpbkTHXOfFOmRNpJVcdEqTVcJmWzZoKjcoVmyJTfOGxZy019h6RMSfQOQKgN0olIPJpViOeEtZkkoy+fMbMXDpQIttfOgf4KGTikeeTia7ojKWtGq7NK0x3NKCYrCre2oBCTFjb8LVWKSUegFa2PIM//JwoZBa1klqFjOFETAaI7OlmLLgpK/xvz0mYpcCb2AD0K9JppiCPAbgYnsi9fncqZCUKWN+RbSKBfy8RypuCcYXwLMKiu0ch66Oyy6HQLMJlt+iK0ZrFMdik1kQuJgrZIs1VegV2Nj3IgxWytUHUr2/RlsBR+m1/iM0VMkIAM0shs8jxmYU0YrLc1Y4ZcTtHgeFGfFHdqkad6RvMpB0n470vefqDCKkmXPZLlhcFWY2//OUvL6rawKRQSR0edppGRpt4akRTL/zRd+mFUTmybDO/AOhwZk0CdLCtZSlK2sAtSsbBf+Q+6WaCt/dnrjVL1ZwanGVR8BlzVFnO2kLZKjRhKyKtkwimWHFbyOMNu0UpCHGE+O4gp0CkajUlR62RhfBtM+pqPumXiYyTu3BmSgHGM7OOSTFNGLD2FwbWr9JFqG6O0xeAOSlhSpuNntxSZlcUzoLpBGRnNALAFOFXqxFwLCKk1dHr2Ck3SVWpMDPjVlI1xE4MBcDvTRjZcbAwl9NL7KQwUVhl1hWXG9kC1fbqA15s5czrUhk+2WipuaWAiqy/9DSUB0niY6AiNUyTaiFQHQwAnSzrAeGsVdKIbM9iWk8vbhBiyiIbBy/dSSRd3KwpEP9CAt0qmUFLjL9Mq8xI+YziW4psItvfmBwqBnn+jHe/WzCwtegDtUqRxczNB9HAYRhjDGgrhVdRdKI3VKEbA5FCqaAs1pDCNUIT4zeVvbUeqxXpNxMk2bX/yZ/8SeET+quO0faEvUQoNjKX2jMqCrOrm88+qrR7rYsELKRl1JcK2zywSPMc7Nibvi1ibRD169tiED5Kv913iE2KzrkuXStzCrlHgMQwOYFc/NThWUxq/gKzc/pu8UzGe1/y9AcRJZJaaalm/mKsMvmuTYWTQtHT4WGnaSpjLdTFmAqNVqRGH0ISlSPXDHU4syYBOtjWsrTsrfCHVOiwADHqjy5vq8gIJ/TX8MRrLxPJBCbex6YiBsNJ0ol+UvhiCVCK+YnOvlacVVSSqouUMlFz/1rexDNOmGNoTiprsU4mcvxfy8LQ6KI1i35yEwxjSUFmfe+TpTdKSZL01FgOCnIxkPWlpLpUs5Tmo9dxscQ2MmoT1jEpaW7yVyrzdXnft8D9cNxECkb12avsgeIb4x9TTTpVAewMHL36PP35O+dqTfqufQE7BeWSVQREDytNPfFUE0thWjs5BQ/VxLHQUo8qr0A0HkJE2KDzay6MviIc9+pSpJi44NTTGC+p9Xy2mFX0PcJLcT6rP7faYZUisP1vLwxpHUvkOf6qVJukXiiverVJB4QnpE4wTFLD8MDsbKacocnKfoL22D/bnrCXCLWDg5hJNYu8vVDJFeVs48qnpblKrMApNH3KasnYq75H6bcThrf9qjjQCbBGm7CwiLeA2cQmDCHAYNkuLTrZF5O2T9+T7NVSa5KnX1mGeVKaCGKYsD3CIsWDfFLE4mcHbadpFlGBJ4TXVI41zqxJgA62tSyLVB3JQmYdT6PkFmb/kQ6xWEBFMkcLz+cnkaZPv9wMC1jAtBE/lTbyeMPsB9XA5r9F5HYkxdeKMLUQU4FW6V7EkEjDr9YBbj5TdGlCi7lob/prFgQtAGtBPq1RrJnqr4XphItaChkbbwt59Dq22BbD7DeObqkCdyveD5QnG7Iael7NxextZBzpKsZUHYQws0IfgPDo1cdPBxFYxSNq6cd2LYvCCtBE9bp4j1YkpYrJk/2YM6LtOdtntrYrdS0QjzoGuQJIxWsv1ajkNsvVXV9imrXfHc8Ba0G+YtnvrrynGUg/5HnWKqa4p1enUpSGrEZCVWadqldLaoZwNNQ2fh7Tph4W3tlMERfcDw7Df3CuvURozCRzm1Y4tgXVnLetve3gWuzb9AcX1GbcUt+CP8Z+Wzi3B4gFZlGCgruLgez0UnmJHDAK9pq+J0TulDwT+PaTaZyfGSXMiRwVYaOxt3D0NUynadrSK6zdbeDagKoYgfiCdzizJgE62NaytOVWeKtCNtljSv5cbZATHIaoGSh2o/lwBe/QhN94sQgEJr/OJZmE7LPEGVMqVFTXukRDzOJfi6QFsHm6ZcVG6TF5pys7r16ej4XKpBXN3Q4UQ6v4eksqe/ZsGLpUwQtMSMpnAChh2WVglogDeJvRNg2y2xg+SXUrR8WXRuv0kCzi9SqQJrbSQqIslsmn8grYRGO4FgBTNDBUsBQeSx3bsuZhvYjtByep2vQDzFQunTKQGiJbG2hTHbWrKbnYWIEJcl4IMf5pDtapMqUEfpEzE1Tbq6/o5C0MCbATGxH8wFQqxq3FJqAkMe/pn605mYu0nUr2FUgEFEFPrTpWQZOYOEu1Clk8S1rTaXYt6V44w9eQ+Q2TKWTklzV3IcwAr4ISqM8Cq8AcQEwiC0ZgHpNU3DYKdPjajjeg+OQa8rQuLJKR7l6oeNjYVpOrcBZm/Vn7ZjxKJTqiFdWSKZAFHwztZ0qpGIEKJylZ/PabCYDdf7+lkFUHFrnxb1HSJm+omtCWz71EaNho82si8cKxLahaScWdkY+/5VCINIqTirD8iRdoqz/5rKSdTQ8ygr02KCpvG4hIDxnhp9R5oYnZUt9CfpR+2x9iqVE7bQW+6EcDdYGfnw0TF46QHrSxMqLvHAWyt6h89qfvfjvulDx4G/YW6wQSQypSA9SX5uAEKLOfGuVYTwtc8C2eDg87TVNoWw7YMBXPwSsyU9j6OZNIhzNrEqCDbS1LUfX/C9zCtg1/8cHXd1vYXGlhi5RyULtOttJsycVXzBkc6qEsPK9JfzCaIRgct0ZHefPVVVLYak3P/2bL+z/ZoLGL11JlO4zxSTO3kZ1wPFcQQ4yyoBKpiHz3u9/NlZ7qwIqTvDmXRPQzhJD42ZvgiZxUOnXY6uifGGbYfPKaaouOf58FQRspzIEJvCIm8T7DqPKKdS6sjJG0KzYPO630tmTkH5NyPVpiU9yyY47wZS97WWD8OtaQU+LxgD5iHevMJlVPuTWhEhYhI9t5/LWZrJncLfjsnVHLisgygPNKZOktOstl2BGERPL8qFwCTrMmnrZheigNzH0QcR2dc6YcrfQW+h8k/eqTlbXBx34DvoxqOVqvpTglcCaQFFvO2qXqdhJRq+4g82f5wRXa/O0zpou8wxOlTWcjSgIZLzHGJJ/g437nTINPkg7TtDulJMD5zfZuHemd+GUHJidMqyPFM1L3aPG0Yf1QFShJISyOcTg/oZPhuc3VhjMWyH1+bBhiarHjHIC4DJM2OXTpJBQLGTU3qXESMDarrDSE6UpxNvrT+rpQqpzbbSjKyZ55uiU1lsIcaOhXZK2Zghk9Fpace2g2Yux6YFGVG5idv4uSNrnih2r85jNtZCbI514iNGfKrIVwTGeOJMdS2xQ6VQdVBhoP6BSaTQwuv/n0G4MTeUV1IPb7NFeuCvSbHliUSJK/sswDOeJjunE9hLr0B5HsnfrOkR/cb/tDjDDUWxgaq8TcSuO6lsRgpsFiewEeI8U2i0mnzsmC6YyCLFANIoHC35m+wUzacTLe+5KnP4ii9NTUbzakJ9QZpiJPYFKomD4PO02T93goJ4WftIxtgpWEDkNiG7wOYwHocGZNAnSwrWUpStrALUpr/8/00F7aRsOwgk8WYyNrQfqTPRGucLqUypgP/LllxPSpkqoKAFkRr/I6qh1biHi9SgwRRrfIygYSJbJqdggzo+cEWTqxg1QFHFMcm2opf5W0FjC9OfCV0v2a//yZJ3SINgtVV3UMCeIA/SaApJJKMX0hxrzC/FBWH7tXRnshoaeKqakx8RwbFScvzcDRh8zKlYVFFwNLIRPPdlIXLiiolfgUF8NSFehqFI5C0gZMGyyR5XlgB81auQAOriNrYi3XzIim9iJS1SgBisgU5bP9Q0mNEzpc9lNUgUG+nOIpK/pDe/iUVhdNK5RzR4vJmkKvAzB8Iob+ZJs40/aEM0RGqVOIoccEz1r1pdYhSvBaJOd9UhFF8w5Ulv6s7gxR6LenUBpDkNev3iujBW7FGB1idCrTGKFMRdB7NbR1RYrQ211giAPZDzXueIbJToJQmxSn4iZU6tqk/4AxycleZeGP7tqKZrNmjUfd1UoRw1MuCzENpvIm4MBXqc6scVSl8r80C1r1Fp1ErY4xyZ5PHduiK6X4VWVCoyCpHVqQwqcPqGyptjzJqmiqZ45442ccAGxkI97y3Ti10tCxNVPGJuFriWUZUCx1GNYYoQsCRoChRC71K7LYTEVzzsEpMTGKg7a0zAJbC3QkrSyuBoiUwBMqpiVftZHpBOv2EqF0lPLa0WNdBYdUfCZIdYwOqihkWEpu4H/km7VKVYoCoTfqitTonTRXrjaw1vRgKFglVbSjywvajBW2RI80cOCAsK0WXxtEnfoWzgoc1m/7Q8wkSHRoAn9mIjYFHqgR0VYOmUEIhPYivQD7NU+FtrVR4Eisxgq80VSL2870DWHbjpPxziQBYE3yIL4/iChkqqaTIIa4IL5y6VJxOIF5oX0eElNrTcNAEBcXUoJKVwWZNWoWMLhy2F9qhzMdCbCGrZOlKKnAboWsQBcDegklIwPSL9e2FozhgcGAgHbQuo1fC9t9wwtz2xrAxngGp/jobIQPGCXXFMiKQzKuKXOGLimvzwnshbyA6RwV3hhAGAViAoztqF2ksz3bPMlVnzYEUTJpr6QevY5VyiSgFuUDVwIlgbofwaDSYVqz2QTJ2idWtLoIPHMD4RbOHFx922pKtOrQh/vLCVWgspQW6BO84cP2Qwy1qtJaZSfxZBymzesbMLNvO6aoiWTHBMNZfao4RZNZek6AhkCnwThPmsdoWVNvOGB4HjD85zjnMf1mogJSIqsuGpQRK8bXOaoTitlLhJpZ9VXCGd/0n4kwWUQVhYxOb49pTbBjfqtbH1DTvZp+ET/m28dYTFqLXKzvGvBx9ds1/PN4WiZTt05usNsf0LUYAlg96MTkRuD3HQVavDN9b2nHvuSZ10KMpoGZlDNOs5+wCHZwZKdp5jgJQ1OPqdCE2KaucaYvARax9bO0hQrf3r/J1Dg+BwdOiAO24ZiRXEvBl9/Kz1xFlDD+UaQImjJ5nlDp5wqtDQgLRMbmbEGeK9oGMQdwwBLCLg+fh+wIH4DhgshCIXOLimWDS+wuCIIvGiLZzq2ssk9dlaLWMJRaCsZ6WvEjcIFy4KjXXlyg1R5knwkHuOtZedioytUsaLAusfVmv6zenjoTwk6/UJZC94FRT+33tc71p0/JKPHoHLCisMZwKOHi1sYwigZQv0fn28CwkQPsJrbXKWR2wDldcchhRLQRxBuBd9TQxjay8fyDDQvZ+W+ji4dC7gsO/Zm9+Ajyf7djwgeIHZ6iFmfEi6eq22pCpHKMcOCUtWxbjgF17jhgn4g/Fk+Ri1sbs7PpqgL+TLZgWGt4yOVK2HPXHhcpQTYoPU+S41+polsCuMa3DwBepFW/DVVrKGS3ocY+D1VlIeNJxh/CNMahkv973LHPA21nQgNvG2bCOj16JjSMQo/CAUYjZ8QsMI6C5Pzn5TRtp7LodLyXO3Z9jsDpcMCRWN70POI5ztsiFzidckcpp8OBoZCdDp9HKYMDgwODA4MDgwODA4MDqxzYejHsKoKRMDgwODA4MDgwODA4MDgwOHA0DgyF7Gj8G7kHBwYHBgcGBwYHBgcGB47MgT0UMte6uEHkyCUeAwL3cuW67SPi4s9kP35fJAfwgb/U9lIcqOFXtB3+WCBdoMK161hQzZG4EcBFR/P4tZhjaV9s5Ia8VkQb7+aw9vM2GHYHx0Ze3QaZo8ouiOYltlZ3ozWPB6wBrMVvzLgmPU50zK7R3GdFP3UNp/hOxsOkdKesCzrpWGTj8XLAZZYHI3SuqzOydqLtC64aXyct4Y+xUTYpZC6/dqu1w/kcOV2+fIZXl33/93+/GzVd1uwa6J2t1QHQkG4ido24w+odsEnSAXwgNB2EcRf/BJVPd47nPYdJkkNMrhp3/ewk/oQ+FefstAM7Lk0+iSJ0Vs6neUJqJ/7jal/Pk+GhuyudC/Og09qfK9CQ5JkpZ8dciraTvIsPwDXITghqoLyBc/FV8Cg1ogp4gMT9vV7m8CzEHJU1jINvuFfPws5hFmM2ZlyTHic9Zuc091nRT51jq5h+xsOkdCG/yALHJRuPly3e13EHh6vp9kLLsuO2I498eFBh8RXLndj6gmsyvg6T8J6FWJs4Eu/6t2NvlN0KmXdMn/jEJ5rYnO/wrI33/jx0sJNfxwtgZAaha7vx+uiGOheXMwnspdrP+eAdsb5dgbjxroU2W+yvOJk7USe88oSLt9hcNuMJpknS5NPaok/ABL79rLx6lfBhS/wW4VrYuzQee1GpLQeCtrRvUb5Wov7paSOSwk2zzud7jt07Tq60phq6/cuf1wa93eGV0ihkV111FdpchGaeW8N5scYb1DqAjnqxVvAo9dLTiAgsWkPijm/WX9eOrwGsxW/JOJce1fNPeszOye6zop86x1Yx/YwHSOnCfPEFtsjG0681WeoWSRJ+r6KdK3fQvjOydmLrC67J+DpMwps1vDplQ8xa3aMCZhDzON2Dvc0LbD6VcvyNwtzV/zOreQkrMAQBw9L8bbs+hiOm0jnMqYXkK7/yK7VWvW1X8fsGYsZ0eHhjxjkfNDObWSc7a6J39zTnHEZ3zBPIL3nJS+apYjwao6O3zzXOwbRFn4B5lopp80bBtdCp1OMNwG+tvxHnzvZtKZ/jJMS9o/emN72pTcotX956ayPNo+yCFePxOM8a1udtJ6CXGlBWXLedKu9V07zDzZ69mCvre3r/YmoncmfGufRoe/5Jj9lFyvus6KcuIkxkJ+O+UrpTykWQtFM2nkkdFye4LZTY7CJ51t5c3omhL7jm42tfCe8im3paMMYRr6qEKoulhz/84W984xt9Hm+j7LCQmUfpBHURsAmMFnKnO91ppwJ7jAAq7IbiQpiXgOvz4MBeeOZ8eNSjHhX7yhoBLGpej7aXEcVrAuYRoYhULQ35JNXnp33ap7lnMo9Mz1PF0Dy8hL2YtDNykpe5aJHInXg2AuQp2Y3A/XaZUD7H6YV77wnWSwABEDOHpLe1W8bf+I3faB/cM/NzyIs7ps/wi7vuW2rX508/tYO/n3EuPSY9/6TH7CLlfZr7qYsIE9nJ2EnqILxYk84nNw6eO45YnX72eeq+Et4UXy/ZT3qU90M9y5Ei5gVNgPf67D2d5FJghhzXHvIqpcYSAbQE2KloPukKNuOYGdgV0iTURi9tMe65dZ09qb3r0hui3qNVB1tjdvrYOTlvsQAxWd90001kjUufP/ETP3FCOoQMg/jIS0OJplWuSLXz5fVoN7/zBrUtyMmjzWtzyovFHPb5vdFq73CHO7SpCReeNmkx45wPNFTaPTWRyRBhXhNrKxuEX/M1XwPssssua/EnzNnQszn2JZ/2tKch0uM5D33oQ+dgimAIVH2XYk9SPS67SECnCQrDYt7iBhssrrqy9dJLL52MNC+walz9z96/C10LYRtY7Btyvfe973VHf0HqNjfeeKOdaC/iuV6ySgdQ4Xn7LlJeOAX0MZbF5z3vefpqGz8PW9nYsrQXX0m8GXRvMXzpvLNZ8Z0Aj1SuVwanHdJP/uRPLkjIdT9VFqlHMQDML7/V86+//nqmOzZUI0JH8sRn3lBijTcobK2yu7SqZKdxnZlgFLzkkktomdB6CCGoFvtz0ZlAMbyNn1dNPy8AvDKErYzL01HR+ABgrcTFjmGPGLUWeFZ6GILsKqINzIlJ6iJOSVs6KjCPz3haWxXuec97kldtoxN6Hlf1jAQxtcgfXdHT2h/2YR9GIrWkJtwhoJ+xUE2kx2LPL8KOOGYVusZhSX1W9FPXOsNOtMWHqmPFCMypNU/5CwyplRtrObfECcFQygSxRs9iR9oyiheJCRmLOCWt0ZBc9bs4NIobc9lYGQlVPhsAMIFsEe+1+3LOMTUzBJg0C97IFfOe97xHTKZ4+4mECWFoRn7nO9+pdxFERmhlaQM6AD9L/h711ghU1AAPVyjUusLczZ13LgAhicQQUFmQSicDCZYW/7w6lVrcqBiBzvjaV8LzKWoxT8IPfOADE1NkdBqlIxAmaG+n2639UbnIKRk+4iM+Ak/92TrNm4Pq5hm+4HrDG94Ag2bT79nxTIfaQBZzlXhy/P73vz9IBkAv5NQE45SAd+Y9mxMkpnmScUIJDHkXQlMJUEEAXHPNNbK88IUvLFFIkhqNldfOlLL4YCWvTmn6r9QK0Irgabcs1zLO+UAHDeWyK8WkUmgTSP+mZk3i82kr2v6gYRBfYL1wEczAoEqa1Oepj3nMY+YErDXBJPtiXgUhiUmvVBk+WJWRRs71W4leUtPKgBn2KjUB89O8b7CnGvD4TD8oeHo8/ZWqymsSNjoE9Q4ADGA67btIeaEV0P2URf9rI4WzkGi3LAmaeetw7ZednWySff5JezA0qK1XX311pD/WBUyrYdTjH/94AwEAhLZdJhh4gsfrwiZURgcwf1ThF7zgBTXCWfsqY6dxn/rUp3LulJ0t2bgTwE8Z1/pz4UzgOc95jiy1ZblWtTqYQh03cuVVU8+SyvvYxz6WcrNW4mLHIDSuu+46Et+K65GPfKReZwNiQpjPNWLWcG7pqCnFs+7UKUP7SU96EqFkTWVWSBKZbvrBQ21Rq8TasmTP1k8MAU1s1sl4qS3LDgH9jG3d59Jjsecffcx2OLyFFX1GdbpfP2PLiomUXusPnhDIWKONlWiyPGPh8CcA5yI9ax1pyyheI2YN5xoNbX0TXhsaHdmYjJbu6qt/Eh0GpqUghamY8zEf8zFo+/Ef//HIHF2Xc7ppiA/S5ZdfDt4YZzTJysT2C08hkf7E0G4ndFofmr8MIgDZvLO8uc997uPT8HnNa15TUwlVYZI3n3lqjKtW7bnd5S53QWEBL1anUieCa8v42i7hq5QEJluWbWq/UToCoUVS4Z5CBuj9738//jJjJAPtHtPF+KPxcHmzL2uqoMZqgyhMIK1g7njHO2oP+7geLiTLksWkTmu2dKDPidF1KNfsTJ7z86l5iqw2IIm4rJjU36SlE+htMXI885nPDACDE8NbzanxTiA3K3sFJkO9n3HCB0gIa4StuXA5tygVbVVcG6AfxHUsD5OpCx62ABXGImxk/6iYCkwI6DRBZanAJK94wh3B7AEWT8yZhhnRVpqEilB/9XiQmg/BFGgcK4QCi33j5ptvzvG9UshIOqOO3kAQyJVtX0obg5m+K6bfvnPKiwbkaXq14IZZkQlEIdNX7VH6o09bh80Vsle/+tWyE1KT7PPPl770pSD1f0l6uKWelgoYJE4wJIwSqlKxMZF+KTTs4TBQBdKNI1yMGoNIE1hiQgggqk+/cVnU0s/Bm3VI1Re96EX9/lyUCEzkWqdq1AJFtJq6mYN5KdjWSlzsGPxhGS1kT94rr7xyUSFbI2YRp0G0paMq0djXAx2yTumRPxrOp/5p3mLyTP808DNblEKWdTOjZvLiBp6UQtYhoJ8x2PK7KD3mPf/oY1ZxaxyW1GdFP3WtM+xEGw7U70RKd6jVo5hhSC0TSrJrQdcCZC5Yo2etI20ZxWvErOFco6EqW2SvDY2+bGRVVX1bBMFDtdIz4xdLCROuaZTI0qsJn3IHt2PjNLGMhEn8PcjS173udaxrkVTWkBM6fVKsbUDBHIXMkoZp36c/21ZQ0QWVYr7QW+bZo5CZDizP2HqyskVkVned6gTVRHBtGV/bJfyE2p0K2ZpC0hEIkyLyuZ9CljymH9NMps/ERIK0ntSRcbXE1yqMIpnRZcnC2p5dsmtXTUhtz+fkV1L1JEnplCbygEXbMyHlM3Y7gv6bb/1LZ7J4muD0ORnq/Yz7KmSpoHlxXi7rJW4YEknKZRP2LueQYmJzNj3PUycCemcTtBgmeSUR7oxVFj0BM8FgO33aJ/lCKbSnHJb6zaro9a9/fYsz4XnfyA1kpZDlObwHPOABgXc/hYIYyarofvvOKS8asmehItXNKikKmfWcceVPEZ/6qZ86V8huuOEGxJTnZmWfB9iTTNu2tCRldifgAsZeBcnzn//8+LqyWllJzzFEmtuPTlKIb89VWPDAQ08FsLNxGeoAY04V1O/PBSYwkWudqvE3wF4C1EIoGDC2lKp+iZOOwWhNhDEw0++hgtntMC1VCXeIATDBub2j6iHWAPpDSnnZy16Ge+y1PsNqem2S/MbQHoXMASN9tQ45Sc1UF4WsQ0A/Y5WVwKL0mPf8YxmzHQ73WdFP7XSGfsYJKyZSukOtjDHiGllBwh/UIM0w7NADeNKRxGwZxX1i5jj7NIRmv52h0ZGNlBgeMrU6gsecZdmsY1tg+8xmV00lpJ+kLEKksrlUn2fal0TOi/fHo8ZnFLvEtL8UNalRyMQT4z5tkZU8j5mNutzmSjgKWZnEaiPVRsHO6sDQCq6N42u7hJ9Qa9ZQr8WpodMoHYEwwV+ft7h97Ptnera+zC5J8toAEmi3maM4l9+JtYtcRHDgYyGjzufTsBEg5fO55Te2EJBRDmzfJpfOZ7/SYEgNTfxYaeNsJ86DMy5iZuAVb302TzXxWAAxDd6iGrzqVXE+s5kbxWUCry5iylNnktp+7myCFngxTL7jW5JarlKXja5WV7B2QTmdZo5n3jegbcFYj3yqEUEpwFKlVxC72qsFW2vfFmYSDs+pldXNJgD23NlK/bGBRcpMALZz20qDCoXIZz/72ZwnLDTN8cGW9SUNybRtX0yg6tIWF6eKdggI417BtINiZ+MGT4ZVMBzcnztV02/JUBMGYa0Ua3GL4Ec/+tFbSpx0DGqNsUlMU+nMo1o/01VVP4EOMQAmOLd3VD2EInXttdcyn3BcY66GLS3ofiPh2qkUbo/0y2UptZbaIaCfUSntX0d6tGDCRx+zHQ73WdFP7XS/fsZJBSefHWpBUg50CXttlkA+yagrrrgiQ6NDD8hJRxKzZRT3iZnj7NOg0PztHBolT1opbTCyQrVTMEmY9XzWDHHhzQVMjIiUHsUxjPm1KmZdZtMKAeEYq0E+sxe8NjtPxLsZxB/h5ndLdjCRhALUuHvd614CtgV2VifI63fj+Nou4QvzxsBio3QEwhranlP/Wp55fJweNGp6AACy2+9aK65NmXPMO2PS8DWd2xI105t0d2acAByccYInn6lgdI4WgAWYw5kZKJYhSYYQk4NJzuSdlXELb9Hjc1FXa8GE922CSfbJZ8tVnJFKvTiAqxO0PpnKaHKotZVplcZSre1M8+TXHFhMS8kiQEWu8bwA2gB1x95lGyO8nduALYz8MYCpixmajAs2ln/aNgsxbYOyQtV+61vfWtJtUmL72RkUBzTuUfrzWtVQa2/RRgZjEm9CE56Gy6wgad8SrcjZ8/HKMp21lb2BS0PLkIQ7xEyA9+qoDhIpTruwtbPS1dCjYkK71hb91A4BTlV30E4qsldPrrztSOlQUvAVWONwv7L91E5n6GcsqtYCa9SCpzow5Nj/sveicekcumjwdOhZLGjjKO4QM0e7nYaNQ6Nt8RIRbblmYZbdzMI4Qyi5jpW3q97IaUwSPcbZI2PQZ6lWk86fUlq0/fBRslsdoYd5ZWd1JjRs7FR7SfhJERs/20bZaxgG/yEWsjllzCcinUuqpGjZXDEq5nQCtGx7qTw82uKcAGg/F8MHZ1zEFusRi+UklYBgOrY0N6XVXxSdxUs0OCHB4GjMBM/88+SaAGcUR8y1hRrJcQ5rIzeGbcOZxTlL8QC1hLVdS0ZszNsBozKSBVTb0s47wJKybRrPg0Bu5za7F7Mrx1Vm8/JIDRLLElWzyNPrbBmobAwwfWL6qQc07sH9uVM1RNKn1c5uiCYj3GlURfleJTJH8TihhPEy1A2IYFu084VHn5gqOoHtHVVDG4ZmIB6x9773vVs8MfxrxDZSOJ2qn9ohoJ9xUtaa9JiAdT47lExydTjcp7mf2ukM/YwT8iafHWoDaTwSAvagiVMeseGDpA49kyLyuWUU7yRmgnkjDRuHxgR5RAS9hAW3krLKzSxMTDk94x5j6pcJiO8j2QvSlGSJ5XRL5TrDgJ1Kpdvl3FmdCZEbO9V2CT/Bf9hnut9eU+cOhYxfJFKyMdzSVBs0ibQZJNAqZLEAOZAVAOIsEq0+BdqY+Wcg/RpgtoQCcCuaW/a21vLGW4gHQJmg+N3HA6wQJhAMhaefcc6HrANC2IQb8MdSaMppCzXf6P3xtWzj4/pgZeA0UBsvzKLmd1EhmxCwswlazJO8SSpWFGRiHPOkWNh9jheLVDuMlMj2oofKIjDhxoTPAGgqfG5sKzjqzLBkam8NSHN4WYq2RcpTOonjeKOWKmNV4v2m+SaEibdSrF11nxNu6/aOpxSSNsBnwmdOlaINQzJGhO2YMHZaijGeCQDLlkGbXXheTTGJbCETs7Fx2wr2+/O8iCq6U7XkiuuGX+c8ssWQ+J0ltuRZq7CPYhoeciKhgugPucuxpW0nMS3O7R3VQCOaafDZaIjDA2IwITXi29eSIZypIqk23OtsU8CS2iGgn3FS1qL0WOz51WqFITEdSgoygQ6Ht7BijVGdztBHOyEv1alqdqhNRk5U+hXLBLeKnGFPfIeeALQdScyWUbyTmAnOnTSEks7QmHAj8ImkdcWNlY9y4v26TMeGexjuM7uWdC9LIIeI2e/1f1MSVwcLrcoVsovni4UW8DxVTCILRmAe06YmDMZtQXZaKWRbqhOc+d04viYSXrmt/jonqWLCkwj5ikygJaOSErl9GFbGWzjV+YvcYfksmNg/qd4CFalW8ZeKn74uxeTLAhHfIIoIaSJL/CvlytEk512DId58MBTCNhA104rHLO64WY4LWAMFhpeiyujr+VR0Tv6zwfAD0K6UCcdbWoQJ57EgG/Z4Laafcc4HNVUul3yGLodpJ/htV0l1C0MbH2dJ6kIbmXD26Y0Tkr1SEYZ4XlZtZKVOCOg3QeVKYJI3GgwdIqwAExdAXrGBz2lhNdLvLbPssdrimeD0udg30rjkQpBrQZ3BqHNXgm0v+4YWmnVmDZJ++04on9DALI9Iqm0br9fFca36jFRmVPYtpxrtJxZw3I3jaI9a8yJS20OFBfl5n/d5CtLBbEDnWIZP23nyUlWdQdEcgGNoofZVxgpwPpOF739iotk7Xl5NkDVrXGt3Nm62XxFQ+Pv9ucAEXN+AkvKp71StcuXMB3+UihHolDjvGFkjVaHMY848zk8/dIiZ40TDxo6a08247Z4/jW6U4YDbZ7JjEruC2Yu9weZRLKBsga53UkQOtOpReg6AUEiMWAdrpg4B/YwtJxelx6TnH9eY7XDYOOqwop/a6Qz9jC0fhCdSukNtZcwxLxK1hpKkDj2LHWnLKO4Qs4izQ0MRL9AZGn3ZGPFFCcixbv6Rmo+zbIs8lyUxnSQybvU5LV5gJLPhULNzZlhHIAugDURMWVQnMu6PrRzLVNKK2cqe0i1c01I2K8hbG80B2FmdieDaMr5aCa8UO86tEC7C5oGsQvF2ntRvlI5AmKMS01PIqBo5e49oS1hnBq1lLSt9+uPLXLyDiNKjzTDUnE08aYbMSVa99IxksU1gtNiuNhGK4c9uImEmqTvlXLZGh50Q6q4maOHUw5yNzzawCd6UxvXE5BfkZsfof/wBo9+IB7x4GBAZ5e5GccxxubWMcz6gkE93fKgdP7TCntBMlcYxFWSbSRJxrxZI4m/U9k5D1zSQJKk0lch9uXIgkRo3QZ7POQFrTTDP3uY1OLNFonQNZI1iTyob4SxztqVkpxHSS4pIBNelTYV8sW+oQvGZuZTBCWfam7cUmj8upVDtbN+W8jnbTZ+wlXSAkEJTC0RJpl59r9xI6e7pM6mF7mf2jThDZ9Q41jsriqpmAhT0mC3pprYAuPdCTkDDlg1oS09ai7YmsKCaZNemcb1CgLt2ONJVE7ifj9GOZhktAQ3RWjqNyxKQAaVehGmVtdafC0DAfTGxEqkIzVhMp2qVUa/Qt+f602KJix3DrGO20KOMfRot0VHdvkrpEMPEtSiItnTU4H/c4x4Xtwq9HTbEECmhQS/KDog2tdLTIiA1bqYxmlD5uol3jRkwncHhPmO5Q0A/Y1vrufSQ2vb84xqzHQ5nXPRZ0U9d7AypZj9jsWIupbd0TtmNuzprWdgW6VnsnLJsGcVrxKx1TmgXaSgKE1gbGjtlo+zWnOSVnmxY6ZPzBwZpJIR8lYhUgki/rRjqRQkEyoT9pZphdXvrxoIUsKIuYDZFF0A6N204+DOo8bamEsstG6NtXmHwZk/AUkkABLuisoXpVGcuuLaMr1bCKyg3rqtFW+gkbFFtvru1Trf82Baw71EwOxulIxAKSRvoKWQt3MawzqQZ5hPYxuxrYByD2olzDaziadxWmYy3i9efFNg8sFdGypaNjzmSxOht5DX9Zg1gZ7xrn4yuuYZaGRcJ2NgEi3kL82KAVYkM4g29mLox0rxilWZGQadDKJZffNHcDkoFtBregqRPORHAOrsFzwSG1xf9gDyqeJy35KAzzTUPMGZNWRAj7NcuSTJSVX2qC2W0lXSF9iiBjY1bRezVnyvXWtUKgPWILKvPNrCxRCwyqPHHMHH6rMUwCe8kZgLvc2NHZayNx6Eswq1+L0wb0D9VJw91TEqxtDAWHLYn60g8RLYAHQL6GQvJovTAtI7AqbxtoENJgfU53GdFP7XTGfoZi7Z5oE8teEsXYnO+YpTUoWdS0MZRvJOYCdotNGwfGnPkYmgA1D5qxGIqraUV4BgCeBHy1CKNQaISwYiZF9qvzhy+M77mEh6rTUC1cTfHdlwxW4Zhyrq9/0r7G4Hj5QA7pwsL6IVlW9qOn/elvVoH0GLX3Z7xnEOyGxEKMYMXqSZm6zAeDzF/VvwBATOr1aFFTEzl2zEwuLJUaaxYm5KRdZYGyc1iO56LHpJcY89zDCrbHxd9fc+qgkeRHmdF83ko106WqT33O5wHegYN54QDixL+nND2/8g4Lh1w4JlzgGXFfke9IjAHWIuxaHD464CMawjPSTxByZyu89nosSricMALx33C7NWccI+LSFvb9qyZN7Yj5EXBhRE9lcXiyS6VjdTsvFf8bTbAzw9X6dMuamlvoL3NMuSkK36w9Dhpws4nfr78VmJ+eX3sa0c8nzUaVB0jB+YS/hiRHyOqY96yPEbKLg5U5nWzl0svt1eHAcm9yWuPMm3Hcz4hXQtZj5BmWWCC50d4vNS6WcrGZX8vrEpkALPRaTewYgTojnmooI28LYdzhyRbr6MqevVtmRWnVvcDpMep0XauCrJ1mIsS3PzJBeJc0TaIOXMOLEr4M6dqkYCxZfn/jIUnF+KNlIvXtxRh/87iOHcKb4G/EGEYxrh6mN05gdqZPWBLd2etOR3yIMxDCH1gm5J1eKUPeVtOJT64VemW5eR7W+bGadZ9L+lxmoSdq7JYst/97nfzJa8jO+eKvEHMGXLgApLwQyE7w34yih4cGBwYHBgcGBwYHBgcuIUDOy6GHUwaHBgcGBwYHJhzwGk1Jth5/Ii5cDngKBX/3QPoZz+eX2t8AJ6R5ULhwMFdpV/BC08h4y5gt6tfq35qXpjqwxxLqhN/DsZ3UB29Lh3kI+nC5YDbdG1bn2f6zz+FJ8o9I9fumMspTrSUIyI/BUHnHMy+WulOqXhw1zJHuoXkKExzaaUL6g7AwMPS8zAHZDx6Fhc9nAdZ4fIIN98eUB3eunrRARlPLsuWefngrtIn+0JSyIxk1xC4RM4jZf1adVJdcMr986QPRXNdd40e76i1Bx+PpS6dao6kC5EDBIFrZh1H8DaGcwnnsAqnTCFh7ZrfenvKBc65GfzMORPPcWeoz5ySNQJOVNC5Hcp1xC4uOE/ZbQAAQABJREFUv/TSS90s6tZrAm2NkorvS8Ujdi3aAHnrwBBjVZW4b8AzJK4e5HK0b0bvKOSZkH0zHgzvwIf7md227X7yszXOOYXmZmwXNTvf6jha+3ZTv3Yue3NRrUNd1jZ9yFNL3T4vL3YV2R/2sIe5eMU5XzTrSxjietvt9F9ICpk9AganfZd9Vg+tmcpLRC4XzuUL29m0LySndbdqETFrGQ+ryxq222z8lmngAmKOvqp76zynQ/NkaGwp9JQpNNO7Q9/bdmhjF7fI8WbXFjpPGsa7Wx5FQNtJF7Qd/6Q1T07QEWuPetSjXIfrNkEqsodWXbDu2pqdpPal4hG7lpctSHUvWxzlhJCjV1RMd8rvrEsL4OpgB7o9/9VGnnSYYZLieGqyYq06zk5RQXQ2N7HTPPSKZz3rWWvAk3hTpEbP61iTpLP63D4vL3aVG264wTM8r33taz0DpQree8QQ95/dfPPNW2u0ePby3EZ61kbFHM3bTiGj2uQKiVO4mRd5HlVA6nd+53eukXpAXdZQ3Tbj6dmm6ouv7nmUzZHGk67afGhsLPF0KHRozhs4RRJqr7rqqvo8w4CVvaN8Lsg9QxrmRc9b84QEnWc2SDYqaWhwC7mHPm+66aY5SfOYnVLxKF2L0YhJdV7oXjGuRXTj8V5ZVMpD3XtlOS5g9/VoC4+tHRfCffHQxRHgLaxkdJP5XteOaDLZ7VntW+7JwW+fl+ddxVFf9zl7oMl9eCj8yZ/8SYZqhts8SbyF5gvJQqbl8sCfwMY/Cq83tibAecNuEnnsnztJ3Qlw7CRdZAi9SstafpFVSnVOp2MsDo2NzDwdCj3q8rM/+7Mu2vBkO8LMOswwpJvARjpPCMwC7773ve+5uv5jsTVPSNDlaXa76mGvdz+vu+46++xbuL2z5+wE6JSS11E7AFuSTKWkCsPGFmAwtF79wWNiG+GPF+wo7DoWSugc8NQLK1dccQWr9nbMmuyEeul2GiaQ21k67ypuWbIJaxM5D8970cQnpdND25NS1j4/ZC2h4vMME+uiIde+0wyA7ZrVmmerZ0E9Wdre+cSgSn/0NK81rueDvFSVO77tMXFCDHKrzLypbK2ZmZW0zX1dwDz0670zd7jX69RyteZoWxjxIvTuuDvEGT8jKYApV0u7q90CAmbEE+IEKArd8sVNhzx1rXPI8LtW3FotKqOA6lgTeIrxfve7H6eKSmpJrcg2sAgwx8Yu7S8Z9V0MEeYFaZkuYNs+khErvJuJJ/e4xz28GnSHO9whWbgiqTvPG0sZB4g4OiwOAM6wb37zmzWx17Vd0+rTTkTJ3KCa09YpgpeJx/4M13ve8576xp3vfOcAa6brr78e8zWry981jQGMZqnM79bZaqSreI0u8Pnll6CbGSp8Ju5+97vreJ6/NE9negZcl80u8kF19MZLLrlEV1G6x2JTIh76VGV+DAhrH5FtSxdeq84aZlkmNE8QTj51S4YHG0D8I+cdY7FSMHi/yAD0ELKNTq2GG1ptcg/TYt9eHBoQrhUkqU/hpDo+1zgmaSPbbVC6UVmnxUlvjLqQ9m1ve5uxQJh4xwKeMxFNymUcsvAVyN9hfSBtR5t58IMfnJfmfxvfcs9RytoIXWzNEnSE3haR22n6Ikxb0Py8SC2GrlxkE9QEDgFYkAKL/X/et0Hu27VYGsi69773veQtshnV0ueJCJHRjVRZz2/pSViWaA9r9YXKa3Uudr///e8/zz6P0SfxgVyqpLVZg+oW9QUkjyueM3joIILPEuP7ikfzTso1pkgAsx5xagOxiBFYbIhOp23zJrwoQ1CO/jyCZ8fWm7/mCxWZZ6+YxT5fXcK45nRlKrdr3E5Sa5Jkjc8prp8amEXOFD1F9lp/W+wqzKXG4yte8QrZeZLpnLwt7aQXth2BvhnNLI7FfFdJRjwyF9ZLMtgniZR83vOeZybQHmWrfMpTnpIJmHUq/h+IEEONMGZMz6HJFfaxMHP2pFSaI7NN491iF3V6ap6rIEhVMmJDpx1rMdmytC8bgy3pLFX/ICX1SAAKEuNx7jy3B57U86IO1kSIvPGNbwxCv2vFdWqRvAaPuuhAV199dfQkDsiFlukSJZ0ty7Yucq1h88SQIqDCfzcOBz+ZiEX+BMSwGDMkcGJQTZB0HaLTIo/e6RNvNZ+Avze84Q3BUL94q6YmBqmegKwRhVF04oCt0bZWBDyy0wI9kURbogqTF1BxL4j3nu2VVt4ZhzpDjQTtXuSZdE3M2vHJT34y2sh9TNDTUlPNLaAbBH6RD04/pXYsanqpaurG4C3rrRYodtwz4TGQqtBJYK06a5gXaZ7gbD8NYBohqjABSbe00+1uV1uWi5Wi7N7nPvcBJiP9IN3e5+RNiLW+PRkatFL0LBYUOvsUtnVJeI1jUrezHbADd9yldeagpa8bxVacPs9ENCmX3U7fJu5D0gF9wIi7/PLL9Umjw9LRMuNrv/Zrg22x5+wcoZPWnAi6LSK30/QhLL/G3QMe8ICMJmtpYaNYD9TxLLEKcrEWSZ1LxX27Fs6TBvymzTsRjPaYiEHLLWSYRFKQgaCZuFSTD/5yj79nailqAPr1pdVZpNWkU/VaDHhdjTSrpM6sQbHQ0DFbWIvK8pa3vCXzI39EnweIx7x0/HVf93UIVn1/d7nLXYjl0LPWEGudNrkmv2syhJ3F8s+8o1DdWPjaa6+d5K3PTp8n0rWOqbOEmHm8Mq5Jkg6f5e2nAljjjKTJvLzY34q8eVehzNS+OT1k42sxhbD3dBJvO4sJ6+9AZ3ffMPBJZTYOayLUy/V1DM1rM0wdsdFZBHCQdNM0J1DNpsPJixeZlS22gpmEZRijYPm0K0HzqCfocVZGdp1ATpjFICQ1ClkAMiyjkIkxwwEoHzKDP29Ol0LWKa5fC8hf+tKXQm4tJUxPtVihIQnnby56fjvlg/9P6tLBxl+SMo4trH3JjGPeXiR5fWICPifsM82k1SwBTdso9EdXQyfvS2r0B4v/7f+g0quiUFKa6dCOcDvKKhd5h0iAa7QtFqEP0HtgSAlsG1DxLfDJFJqeQEvTBEZpuKTz6EtmX+stPARfDjrcU1i/0sVZ+yhtJjBVhg0YVS+l+F3jg3YMT8ATxF/6pV/6ohe9SK2t5ygHyX7llVeuKWQ4sFadRcwQdmguaitgwOv8rAtIEukFp8jWKGRrlaLg0k7UyJ8pASUUd1zFn9IVOn1bQZOhsVYQyD6FVZEKdDi2ne2FbTFwJqIplNCiHCwoqg7oA2QaWcHUB0nOx2lxWoXPxZ7DirxzhE5acyLo+iK30/RVzTZA/9PrIq7FE30+W4VssRZKATyRivt2LRhIEvaG0MMCQTvEOgHKIjJKISMA2a4ChtXRGxyuF7OlvjSMCPZgWPs1tZHMUfICoz905j4wuVYjCplPZi1kRyE7QDxGIaOEWWm/4x3viBgnFSl/kK81xFqnTRXa374MAYnP6K+le5u3DXf6fDZz7AyQ/9QXarSZLsOhI0n6fO6nImyNM5IUqkblp77Y39qqbewqbZZOuKeQ5UDTjTfemPyUJPYw/d6nnVFE2wYq1Jl3y7ZBbwNQvmxvf/vbfZZelYMYbGDJ7mACU5OwbkQFtMlVaM1PJmB5o2lOmGXpLKlVyOjpYtYUMmhTdBSyncX1a8H6ZSq1zQRtug7BWpRPRE/FV2BSlz42aoR6UYySnaxRdJx2Y/2iW+C2v2g8dKlAEv1kFolc5S4GMrBLBrFFGxVKZLsC36dtUgTliVrMGJmCcui3bADR7ew2JjW7sa1TZw4rpddR+Gj5D3rQg1I1v4YrqtwBI7tAq5B1+MCECdiklUL96jl0F6OOkufTBP/yl7+8UttAvzpzzH2aW8wJZyjRFCvJgh61Ucg6lcoZXsZpgeTNapv67nNn355M4Z2C+hQW2RXocGw72wvbYuD0RVPIYCq2mCxdJJF79QGTt/HCsFT1eu5zn2s+pqr2e05/hE5aE/JW0NXnXORK6jR9EdkGJgpZ+mEpZP1aTKTivl0LGaw7Rsfzn//8SD9mb40i3h6c+FLIaDxixGMsS54kBvvUYkt9GXtY1wLf+X3JS15ii3AC0J81YmIohcyuGdqikMGzl3gEn15RJjE6DWz+yO1+Q8w77aQWPnfKEDBbFLJOn4eBQmbro4QYfxX0x7LTkSQy9vncSe1zZjIvr/U3BORvY1f5bfAd/39wB/rWRpz+OOVkOkxvlkYTNG3EZY+5UkyM1ckWy1P522Y6t2RPamzLLCL5pJ+SSnRPTS7mla98pXWnAJ3PmqlFq6niQ1Z3EQXDwb/Rx5N9Z3H9WtA+6ROsU861kke/+qu/qgMdTFgfG/GqLZivSB9F2LbjPhnyqKrWf/iZptZeUp1HCyVyMfBkl6FDW9iSZgImQA0SYFHz26dtUgRFR2Pppox2vLLILBiKMxaUPkO5ALVSGAbh/IkRSFex0DdQW3XNik3t4nr42zk++H+HDynO1m1l4UyGUXQXvZqyi3UR0wVQgX515pj3olkpTNx+a6dSOPbjENCplBb3h59+A9yOsp19O1nqt1NQn8LCUIEOx7azvbAtBk5fNIUMrDDW4glQhO3VB9i6jIXWBf6aa65xTt4Q6Pec/ggtYirQCjqRayJXUqfpC9v2QL8WEzz7di3ZY3+iT3DDsp8lQAKLn9TXfJTZx8TMeAw4bj0gt9TXstaKiCYB3vKe4tj+icwfuxRd6re/Pvh/+sPa3DcBnnzuJR4rb3L5tDyLnzdjW78h5p22sFVgXxlSGSeBTp8PpLYrIZYlN69ESR1JIrXP505qnzMT4tf6W4G1XaUiDw70nPp5CpsOdd/5/Mc7T5Fm6/K4jwN4qVxY2dJU7E6k/Sz7LAxj/Os5qBGvdtMlFdo2L8zGRmFuk44Y3llcvxZKJ0z9WaVBZU7N0YSDqepgM9eyLxr/XGr4VFkA0UtSkGayWMxK5eCi5xkzu1tfJqlD2zyvzWhEEkkuYmGC6t8dNWFyi03VfBKmW2q3Lx+sLsxSeqCFAZMbKyCa29IrvFd19qJZEazrfteY0K/UJFc7ynb27apdAp2C+hRO8OSzw7HtbF/EXNSesmhKuTbLjHHDbTL9T0jt9AHGDMAGxSSLz06uObCYyQhdhKnINZELoNP0lX17YK9aHNC16LLGrA0ZqymXTdBlzSOl/UzotIvHSdQcb3FYMFvqy5RLRY4nNGsNy2KLmZ0vQ09/yBWgbWpnVLZgG8MTbDtzWQNTgCg0ezXEItp9ZcgiEpGhZLHPz7NEiFkhJ6kjSSacaaWfvJ3UvTizs7+1XWVenX1jehayWBT06UJKCLIG+WS08JsLaZIahZQrTAH3AzFIsKPwWOKhGR0/aI3S+CUEQ8wni5jD9Gq8KnEeU0ltYN/i2rzCFmcMUVyqjc/yqZzAbP/ciS1SwA4gLceOu8VQkAvYkWQDb8t64Qtf2H5uDM/5FsvNTtpa/CSUDWgzFg+2nIZrU/cKp47U0DYX81v8RdpI4b34wErBDYsSZvuJdzz5Zas0ux4TtPtWZy+alRXjZSyRbdFpi70q1Wbft293CupT2BaacIdj29k+R9vGnL5oSulWj+zNHAZaYubhTh8I5fz/aHWVEUJ7Dp1cBbk2QgugE1gUueA7Td/Btpa0pRaVd9+uJaORwt+UBYiI483CtyE2+MJZAdsXdldxzIrLiZmK31JfzhtMI9paLo1OlNWfXaCa7M1c5H9h3hJYnLPmzboF1SJMNp14L+zVEIuo9pUhi0hEdvr8WpbEdyRJP2M/dS/O7OxvbVfpl7sltaeQxUFehzN1BZcd7tgS46rVKmS8jsDU6d9sUVU/S6A+QVLkTfacuJ0QKfsHrStuWNlZT6F8Wm3ixBI7wWPAUASpqIG0+6sJhdMpBdL7bSYKtyQFz87i2iwwTErniCYy+xeSlE5hnYAli8j5317YZOda5+IT2r1tOx5ahdCmm7Ct7jSBsEMMfO8KILWoz04gjAqAdaEFYvpAv6bg2yKceNIKOdctKR0GZ9r6tmwRbj9TemKcUSdzScC4yEjCZL0l14to3BB8K4Lf2osP3AgwE1Waj9GCDdhecDysQ0D99qsTsLb6fZoLbQXSsXPVVkUKpA/3K5WKt7mEw7qdfXsyNDoF9SmclO6zw7HtbJ+jbWNOXzRV6Wtz8MY+gJnWKvotP43gJL74Fek2W3rO2gidtCbM6Qb5TUGLIldSp+mTcfIbKVe281S8qt+vxYSqfbsWSrht2KnkamxfQkBMvFkmmBF52WWXmbk4w9hbSBWITcN8Z33l5f5fV4s5F8nnr/7q3gA4OVXb1rS1F/z5DSuK8xPCOOADqzkr99TXhDUBBikmkW0R85ikinchCD8fRPYbIvDVai3yCu+UISDTDdIlKuMk0OnzgZxXJzEdSSJjn8+d1D5nUnSRtNbfQvmkq0wqPv9sLU3z1FtiFLz2Z+53/A2MTUMeS9ykzNDUI/DwOuUnyQ6aT3KWZY9Tjvky2LKzTtnKZ24rcQYkn/llHoPB3mUbaateJJblnAVTMwuZMwGBSffliYLdiYnd3mqJ4Zo9JoY6ZjzKIgDkweapLE7lcWjNW3h1P0W/uH4tcvmbhZRbA+o1Luf14rFOcCt6zVUcbZO69LGlsrZu4VTlqr54zM9KjmUeMUYRJSZnmrLPi4ECwbD2m7M/tsMDEBMUzS+fHdrmReQ2OF3lW77lW7A3ZzK4HpoPYIuFlU9uMGeCAVw1SgPx3w9AbRYY1e6nIM7qjFsWOuyF/EAd++3w4RnPeAa+aZrg9BuFtVqHecyeTryDCyaBfnXmmOXq0DxB7tP+QmzAJgC2YTt6sbbaTnV2qVMpri0q1bIufpwGQkrp9+3J0OgU1KdwXqMOx7azfY62jTkT0RQC2F10acfrip59+0DchKlQRB9dwVaaK12CrdNz+iN00pqwTQRd8C+K3E7TVx3bANVEx8u5KPE2lXziSbzsxXRqMZGK+3YtyK3HHOUxAQnHrky1FY4/u6V7JElOD9C9LAil+tNnmHzMoDvra7ox5YFMxv4vJY/O18L0Zw3eEdhlBeiZHdNWZtiP//iPt4omf/YVj3Hqp5um1l7s0a9yEgtJnYZY7LRtLRLuyxAwpLrqEPXzvG3MWp+Pkw/1uuR/hFhOyHYkCeR9PvdTO5yZzMtr/S2126urcPvBq5r7Wv5UuKeQAWKnjZM1RHozjbVymvIpWJrfTElDwscMEgA2+ONoafpUc13NEILBHzcdc3CQePqGDlHnTQqzXTlCytCiAuqp1djUkXJZo/zleKMJLNuderaCmO6IBpZqV/BBSHrGXspF3cgk+Iowmm9KXCtuZy0wB3kqpZrcGni+C9NdaKXPfOYzqyD7fVW1Cszr0sFWuQSYFeusZcVbokUxRYDOnUOIDD/MVGL84WSN0srVBiLuNYcseGs/XsNZ/QRmjTb9YbEI2KIZ21wAQ+HQmtQLDraKQA8N0vU2dsPLPdG+AEuY+SkKHOeMaEvWjq6liQFARuPfqjdUuf5HvL5XV34s8oHEjNTTT4zS5KUZoEp2nKFM68mdk9tr1VnEDH+H5pQ++dWH69SFKQQrcE9HyqJisVIul3JE9JamvXW9oa2xOl4UNEt3zaSItb4tdTI0xCwWFDx9CgPT/q5xbC+2twjn4TMRTSGDw4BtsoQP6AMEUetVSXOqdWyn5/RH6KQ1FwUdgtdEbqfpW87zhq6VpxFN6bFyqwmCcAYAfq0Wi1Jx366V7RTS1TKMMMQ9mhO3/Zoa7NLYEY7EIAwt2/zl9i+yJdXp19fQI6nainfCpBZpVmu5nbMG5vDoyMhlxcj2t7FsGe+87b7ikRzI6SujnhAzH7mfr6hda4i1TlsZ28CaDLF6zHlwdSFgqYaZc9u8FV7s80ybJf/xhG2vhJiKeDpd9jVJ0uez1WzNv4sayBpn5vPyYn+reu3VVUx5eFWrr0LSBnYoZEDNyhit4UtqtPlJWJNBDhi38RvD0JZq3GbBL2PGAqiNXAvzoDJ1hQYIWYNbSPTbQWtj5uG9imuzkwW8GaK4+LUIa1P3De/ERgmmqpZG0uLHRl6utnrrGqo2dWc44p7yZNtOgxLckyw7aZvAM1lVQwjXOnUCtvFTE5uArcUn8IqYdMuNfNBY8jLv6TCOrUzQzj8PqM4azXPkYvCHLDCfod+60Pzagm2sVJulwp2+PR8anYL6FFZxFVjk2L5sL2yLAdhOXzShxHU/db3CImEV2ekDRrEZqLW09XPtHKHz1iyEbWBN5Haavs2+Pdyp+wTJXl0L39SUGYMSttPwPymo/VyrL/sZva0uTmqzrIU5k/BzXUtdjOcvz8NEEi7ZPlqE2R5JlOGG6VKl5rm2N8Q8b2I6MmQty2J8p88vwidyUZJ04LcnbeFMp7/t21X0W21dhuRFOm8vNtr6+D3/HGDwN+T4Nxw7qcQ9tEa123eOHflAODhwMXHA/OT6YgfD2TJPrV5jhJ4Oq3mzuKyVvXx7cTZb3N9hC2J7lgF5EXDggK6ys9Y9p/6dmQfA6XDAPi+nOr82CPh1nUShcQXL70ngHzgHBy4aDtj7tkHjdNVp1miM0NPhtkNs5c6/sUS3b7Df59KyjVkG2EXAgQO6ys5aD4VsJ4vOGIBJjH2bw5wtLZfucK46XoLsTjoWzjYGLbetsc47XvYObBclB9iq3ZnCPeAUajdG6CkwOUXwanI4gCfTXiWSydwKCee9cg3gC5oDh3WVnVXuXQy7M/MAOAUO8NTmKOPuXO60Ob5wvIXyfuWWW8t9PvLHi39gGxy4+DjgJJPr6zhc5on3E63gGKEnyt4WOUOXdzvqCtk2qR92itCVAn2YkXoxceDgrtJnwvAh6/NnpA4ODA4MDixwgPdtjvItpI2o2x4HRn+47bX58dd4KGTHz9OBcXBgcGBwYHBgcGBwYHBgLw4cjw+Z85/tFdJ7UXDbBHZBxklU/AMf+MDi+z/HW5ZrRJzgPV6cfWwnWq8Taot+jQ5I5U2Yy2APyHsKWY6xV/CPdrHTKdCsiAul9U+HG6OUwYHBgTPkQM+HzO32JsIOcS7lc3G/V67dbudq9X0Pp7SY3TSdG58T6WJMt+25e9DB8vYZsjbLJOy+EMdQ20jeV57cyQ2liXfP1sRp3UWyee7JbOe+47oExI2CdZlvi/NYwm46dVKaE2huEz4WnJBQi10P6AUFN9yc0GaKq3fdi+3iLs+/OFukFidUUMuTE63XCbVFS//Rw/q2gxdefdVLz+FhruPqFbR8V3yRJy7oct9m+0bN0Xm4iOGCaP1Fykfk4MDgwMXHgZ6FjJciX28LX1eZuU7wxS9+sauqCE2PGrlj3aebSF1GZ9V+dHuJK9rd5u/+a2hz3TMpT8Nz3YNLk9uHeNfawF3MVARPysPgLvu73e1ursNutTEZPfrhDR8X2YPxSxXLS5SSaG/u5GXnk+SeveNVlSz3HZUqyu9617u6R5i6WTEHB1yaV3ndZwinIz8npCS5nscNyA6XuaPZzfKe6djrtp6ic0vg1Op1jG2xpV6BmfSHnRkte2TJmx47gU8Z4Bh7hUOLbsTVu06tCout3/a9U6NkFDQ4MDgwONC7qf8jP/Ij6+p5y1bM8j4SG5I/97Z7VzXPmTEsSaoHjgJw2G9e4XjnO9+Z7N4jSgttvweZuiCLd4Q6BOTOa9rbHCaTQT3uNAc4LMYjP/TLNm//ut4WshOm5LEitAA0Y0aUNuYYw1638FBSEFIRVOrYGRXkp1yvY2mLvfg87w87s2fN4/mynZCnDHDsvSKXDrCQnU5FJq0/73unQ8YoZXBgcGBwoGch89S0C6mjEk1+2ZOe8pSn5NnB/E4ADvvMm4OV10NRHnn1+e3f/u0V2Q8Egw3HDlgeb/7oj/7oOcyW7PNc/Rhbsbb2JjAT090kdeMnVTiPsxZ83mesz2MM0PNYH4uxDJBXXXVVOHmMpQTVadZLicfSFtuZsNgfdmbXsqdM506SAJxErzhGebKlChOuzvveFiQDZnBgcGBw4Ogc6PmQ2ZPqFPDABz4wqbVB5kkyHlou1nvIQx4SRaqye2PRpidRa5dwo0+YvNQ+z4RxmvFseaFKgF8RRxNvO3pUjt2OS9ME4OQ+0ePGfLTd7373s6PaFuQGV49V2c7z6mqeibX9asVPbWJSsui3LWtr1aXbjH92S71sjS3MjUHiRVVWSV757jcSg7Fxo5mXKIutVe/RejcXWhfnfMqnfIossL33ve9tnflAIkk85IwZeWQ3xdkh4rLjNWtv9LJK2n32Xi9NK6ntb15XRLbHvxRHOXBdmSYAI8AeaUMNTLJACEA43LARzM5qYwupPPbaq9TylBjOeGTXxU6ybK8XYFtL9kz1Oq/q1tPC4rfXC3DbFj79cdi6/vrr6ZpYoV6eM098+7uliEXyFvtDi1nYMlHf1o56FyY/4hGPCNNqoGkpAw3bL7300lafWGxrFxhCCC0knvL1RCwtKiVyN2Ry43KgymKMWauULVVL9nmv0PRJWqQkSdR6XYj7qVeQ+QbwVWirAMbICiSqdBt9iZuBvcVE+l3DMBEy+F/+dqm7vF6ezRpGb2SPb1t/3ve0fhX6cR/3cWhgTnMpYCIvueSSIrXARmBwYHBgcOBwDmw0Ek62LNtc11xzjeJf+MIXRicQvvOd71yvI5t0vfnzCZ/wCR45J+5pTlC12dswfUX22rIkPWODgbwF+57v+R6Kyxd+4RfmtXmTMckeAMcLYKidtTZXhdn2wDzjGc+omArQJiWt7foR0HQaE+HVV19NCQDpGEHykuyXX345VexJT3qSaYnq6UiEpMc85jHqDvKTPumTUPvd3/3dT3jCE6KrZcP3+c9/fkwCcmXupH1CIosH7ddKpBGm7qYrATqf8wpmCLnaZ4/N3Hhuc5kfnhnIOQkZQzAmaCbwrHflPS3G9ByA9tf0qeKAYaBU+bvxxhuztXTve98bpMMf/KOjh8Hg0rxcmEmn8b5E4mX/8i//8kJrPkabQxsiTcnUdBXfWC9IvuIrvoL51sGLz//8z4eZ1qIJxG+vlwl40hayX3fdddRTyu4jH/lIZD/96U8vgiuwpYg18ib9geZXaBOgD+kwLoLXZHqaqnHZTJKxQ3/S5YqfeF7Z19qaJyUk/uzU69h2S7N60UDUPtnxnGZGG7v55pu3VK1KnPeKkLpGiUfr47JJudHooWrujeBVIkkcWMv+epe73EVe5a5hWBQyFiHptLA53JNB7c1BpRsjtLdJ68/7njtCQ6RlJFmEAK0TfvIx9aJlsWIEBgcGBwYHjs6Bng9Zi32nQmb5TsMwKfL7JsWe+cxnJrtPilqkoaUtMPoHy1aLvMJRyG644QYmIqf5smFKQNNLCkZeHvE0m8SYiRXHDJPPE1XInBVQloMOyqI9WB+jMOWayXxGDY19y3SS+clkIFf5kLGRMOmJiUImO3XTp6k6qPxSC1gFBDolSpULx5LL2QsziphSyFgI6EPUpgCwFtiQNZcjTwxvuc/93M8Fj5mve93r3ve+99mh9vmsZz0r8JPf97///VI9PV7xGkJMFLJERiOMxeWmm26S6o+5VFmeZmLG0/qmNMD80+1+VqulEakgwSNXp15gPOhJh2PsCTzmy8LW4nOvek3agp8WvQTzg/bKK69cVMh2FtEhD+ZJf0hZ9es0pWMZ+dSmVPxWIVNNj7RYNjjoSq3HhKT22zq6e/XA5z73ufDYm0spxiZlPcrZzqoVnQnMe0WHEtY+mrqi/VlNGUcPe9jDaG8TnFHIKGF0NYeHsvLRHyhAaxjWhAxFLUdnbBOnFE3MMEb19Dlp/QCgrfqeGKNSTKv46h7M9gEev4MDgwODA8fIgWNTyL7pm74pZHlykQgzxfokQGkAD3rQg1yKkb8Yh5xwXKwDUSgvC4Elu4DZyEJ2Apm1NbEYhFEj2BICdqIKmRMDpLlnJZX167/+68xFtC5hug5tzBHOItWcZw1N+ouZT8CUHrUrhYx5j7JCQTF/BINJiAFJeK3EgEHSTh65gawUsq/+6q8GYFMywH6Z3MQwKSWGAuQTG/P59re/3WfUmspSgfnUi2zwrULGciYmNjb2J2EzvUCQxA7nZK7PmBmY2ZJEtWLGo1DmU8ZOvUzMeNVOimiLlZGaAsNe9WrbQo2ojGyZVg7w0Bo97hmSJr+dInaSN+8PLXJvsKg+u2mczalNtRph2WJTLH7aXwYZ9brf1voSyDqRw3Tkk7EtqGz7thblTtVaOhOe94o+JXIZKcZ1dfU5zihkMYlJjdEawXZpAzzB0BcyaV+W1OR961vfymxWhbatn0gFtX1PH8B22mHsr2BYsktlLzwjMDgwODA4cHQOfNBdgxg64h9DSzBE5eLZ49MalNAn+otQxgPGNr4sneIYCd71rnfZPrP6524ygTTp2q8klIPzAQ94AIQczCdgnc/s+Mg+h6FCmZL9zZPEUGXYwNT02c9+NvcvZwxZF8Rz9xHgCFW5bOO6Zqy2lio+gewZVSQ3rMsuu4zpiM1ApCrDzD1IeK3EytsGJmjt/EptfcJimSuWxnenHm7LBpmJp8V5cFgD+eO74zdIWvye5sQcbZckk5xtaEbBxeIm9aK94VVbL2pKfMjs+cKwV71a5BoCSVRG9Niu0kNqZ21CWKeIneRNUE0+Y7a0J05JcpZFoEYWSNQWP9uB1m9rbnAsf9Sy6E/2SaGi6MSkqtfZfCwyOlUrmE6gT4mM2t1Khk7WQSIpbnMCdPr4F9o0TJYJhr6QYTzDMSKFoiw7u3v8AYKqbf3ETH7xjYJIU7dukaRxGREd0J6Ajc/BgcGBwYGjc+DYFLIiJRNG1J3cgm1qsTnV/jFvFPxigAd6JCDVh7rTwsDJeNBiE85NFi1YJ5yjlJPziYGnCdVBwkUMNC2u1mYUHuv0gMCkmswqi1m2RGbTLStv+qVZpJTCxRK34EQhMFtCBWx2ES6Vq4oIQM30BX/EQAc/jtHU6dYHFDGvFyRt1Trl7iyOXkgJ1sFM4ZzJGFQWs3SK2EneIsKKpNY78MFCTC808TM6spBVahtoB9q80JYhIA0QDKfhaX2XMOe8jjpa87CMthpGp2pt6WvhPiVrufrxOVeRNd4csi9kXJVs05wVDVfZbq0EeAfOkXRi7FxjIJdQRnFjk34WVbiTZSQNDgwODA4cwIHjV8haIqxuffIFaSOZMbI0byPnYV4mZhFCkPWonZPgtN/xfd/3fW2WuGG1MfPwW97ylu/4ju8QbwPCb1ygJmBW4dktncTnk7mCKY6X+nOe85zyOJbETdgvrykTeWW0eRprQcV0Agw83NuVjkJKQOmXayV2UFUSw6QwW2PFxPjhcGjFHCWQmXtuaJzHzEsJx3gIVRJ1gfJdn51A6sVQ0Z69jTHyiFVj5nSyzzYxHyM+7zQAnXDfp6iOSB4FmtufnqBL24e1q+u25A43krSzrfUo7eViZ9oYFwJWImcGnWF0RIBhsj17u7OsPsBOSvrZF1Nj3KqjJxOYnUImZs5rr73WUwdOS5TtbYJn7ZMPgBZhXMQrw9NiaQ1yxA8ODA4MDhyFA1sVsuzNmTXnhWUCnkzD+WRMMqnYI4vfjLwULAatyW0RhTP4qxQy1OE7poJWCNpOAs/VxgNBychbOXsxPpM3ErzQCijXOYOcuuKZbnLiXzx5GMoEzGeorvNosyfM60sgJ8VUEM4UxwRo74N1zYZIIO1xMHqlmlFcpEoKGxc5FiMZJ2KeznWJ/1qJwQBz0PrMnyIEQkM8ulqFLBxzZCwALTGVsbIHpn5t5gpX0wgzE9Lw4knmEzc4oQsU84skkfUX/HH/p9rmwgWpji+UCaRfL1pXXPf4FxZad2dgWva29qpX6MkvO8pDH/pQddTEfJhsrFsJ5IhGFZRAp4id5M37Q4vcoVd2LGZa3mMCkrIPG5jQ2cInZmdbMzmzvakLe4+BoLvGx5HG3+5XwtypWltuwvNesZOSKmKObTFGBR04YI1uFbIQGfidQoaBjbHT5S9ObhI+bSnhXsvVSd8LsAWYgF/nk9LHEt8uCVq0Izw4MDgwOHAIBwijLX8RSWTfHDiu4i972cuSRPChg9qUz3oRkiCzWcA6xaF7jkQMx6CYnXhfFQAH5KxomU9M+eLNmlQBRdg44HBj/qPzMXclS/ZiuN3YmwBpvudxz8zATb5IAmkegoEbfs5FmoNttXCx4hlWh9qKhgq4qFYuhfLC+czP/Exhf2Y494HFF5s0tz/CL55jlms+kpFNAhh4ux5xLs4UWFdmBIweE+McP5UtJYKJbcBxCv7dTrfF/ZleYrqSarYIQgT4xA1TMh+psFGMKRlhZilhf2k4jMrn5Dfn42yEtfFxC2PLYdXj3R8LnJaiBdoegpwjYIiRKx5sIIVtM2XjGMIrrrgC20FSqoK8Xy8w8RzXG9NYjtyykNl6S/a96tW2RdT6cuRnHrPhVT71Qb6liD558/7QYqYxcCrXdiKz3UzLF84OO0Vtwk+GWKk72xqMdYsWYR4T9hfkFLVCmPi9uDfvFX1Ksl2usQRS3Pw3Tv300RBmRBtW5dG/iGGnkLG0U3djc1Jc2/pJmvS9gs8RCibGisl1P45fVMwIDA4MDgwOHIUDu09ZEtzt3ZjWiBbuVaR7AeJ0RQ8wEzs+aToh+/xRXMz99AyHxmMVEAkVJamyV4CBxGn/W/PdchED1cdFDEmlMSTenG3uF0lliSogXuk5swnelF8FJUv76wamKo6sR3n2LmktsUixnLEhFcw8YPoxgcEpI5cUzkbCSFVN1p268EkkQV96D50vO3TmQmAUtbhpQ8Ic0pbCjtgeWpTUKVGqGqkvV3QaiXsl6nJUNjBqKAB6KgULDG0YGP5kppdEjS4yzGdm62o498YxvIGpP6pkvdnAbvSiF70oSTyuoi7TrmBgHaEcM/LZpHZWMcynibI22fSJzxMVxy0bsqtaXsoCZp/LPWpV3M56gbQAoPVqOMqcRqmXu/aq16QtKGR0BeyCE9lY5wRiUVWBLUWskQfJpD8U2gRiwtE0NAB2HR3JaoGRrM7BsPKyGBU/1d0+mrydtg5me69c6XN6NzHqmAGVT79bqlbAa71ijRLdgC05vQKHS8cqhAlYgxkpwHQVTaCCRfMahp1CxoNI1m/8HNqyJq2fpLbvtcCYbGO31c5dNYfIWne1wCM8ODA4MDhwAAduL09E5In+smS419ukHoXm6GUhmxcRswFVI7aWA3BmqqMgmqhI//hB9/HQ5NxppBZmbtnZpUpTkdH+nUsx6tqOQgWSJlQaZ8VPAnzjYCjFKKn9EqE10/TdYhDJ+GRuqwOVk3KP8qll+ebTBSFnlaR60vw2IsQWvUIFHfKYVGFLvXjsOUhBTc/VuxsL7YChRxNQhnQtv5SGDvDOpA55nf6gA9AyKW0uXNBkWe3sLKsA+m3tlvnS2mXRKygZWY0UhuMK9CnZWYoOYCjZqTQcOqusFk9fyOic6r4F1WLfoxkzzNfiULkake6ojWIYbikZ4cGBwYHBgQM4cEoK2QGUjSyDA4MDgwPngQPOWLBQ8mo4LtX/PFRq0DA4MDhw3jiw1an/vNE96BkcGBwYHDhRDnhniX3ORr/tY1fIDm3sRLk9kA8ODA58yGDB4MDgwODA4MCcA46e2NXlosAddq+rp+eoRszgwODA4MBODowty50sGgCDA4MDt0UOcFT1EJx3QSZunbdFXow6Dw4MDpw8B4aFbBOPt/gCb0I0gAYHBgcGBwYHBgduAxw4nSODFxMjhw/ZxdSaoy6DA4MDgwODA4MDgwMXJAeGhWyPZhv6/h7MGqCDA4MDgwODA7dJDow9pcOafShkh/Ft5BocOI8ccBeXG3ddC+yqPA9RuKPOu7Feqzxe+cjPPU98ugRucnufy8NcLBfWuPj36K9kujvNi0+uWfbYq9uGc+9d3kA7uAHc7+qiV7f+uvff7bgeuzyru8Q88uEuPY83HG8DHcyZkXFwYHDgDDkwtizPkPmj6MGB4+SAa/e9/OPdBXfl80b3KoYn0r1X5p764yzm1uc1PYjp0Q5vCbgctUXuAa5HP/rRrkv1kne9c9oCbA+7/ctzZ977estb3gKVS1nd3uwVCu9SbEcyh3Rhr9c16KlePXKbsQv31WUOdjoxXj3xxEVepD2dEkcpgwODA+eXA7bhxt9ODqT9doINgMGBs+IA9UIv9ZxREcBS5fYskQxaFXmMAW99Qk4F9ORUi9aDWq5RbWMWwx5pmDzc1IJ5qIDtzcMPVLGK97KZu/svv/zyijkg4O1Xz2xQUuX15pKXvjyXeQCew7JMav2BD3zAq6+HoRq5BgfOLQfGjHlY0wwLWXrO+B0cuIA58IpXvOLqq6/2uKp3Y6sadsFe8pKXMJLlYfKKP66Ax92hclkXgxPNptDaJ73rXe9an4sByiK7lKddF1OpKcx7v/iLv0i3a1/i8oKtR0uPWB17oJ6vRaSi73CHO3hZ1Quei2Qce+S81t6tYvY79oIGwsGBwYELkQPDh+xCbLVB8+DA/+MA/yramO+5YkEnYyTLs+4A+E7xMPuJn/iJu93tbpdeeqnn7YPF253f9V3f9ZznPIe3luvpPS360Ic+lOXmp37qpwJw97vf3V1cXth873vfKwZAXMee8pSngP/RH/3RJz7xiVSlAM9/3/nOd958882eK33wgx9sl/PXfu3XZLRpyAXNg9+emKQhtbm+9Vu/lTHME+O2Ptt4Yffm242tSBe3enqcYkfvLMcyDKHJcV/jdnbDDTf8wi/8AlWVJY/uyGELJXYtlRskwrj0OZ/zOYXzh3/4h9/1rndhjgv6PXsv3mutLHYCHkeHh0rHKOhTofRFymiKoy++6U1v8u67O/2x+qabbvIqPL+3z/qsz6J4LdYaPSi58sorq/S9alS5RmBwYHDgYuDAYYa121qutPRtrdajvhcEB37gB34g/ZPpqEMwgxOliub02te+lvuXvT+qCXj2rWhs11xzDfXCq+qwsRtRiR7ykIcI00J++qd/GiQt5OEPfzj9KZ9f9VVfZZ+UDhdrE//0lI4exwgSZhPiUvaABzxAqkLpZBzCqDtf8iVfAjMXMfpiyAh8filSUp/2tKe1kfPw13/91zMv8Yin0FCq4KRdvf3tb4/NSbkUR9WEyjvxlDaK45Of/GR1vOMd7yjg7/GPf7z6UgcLuUhKGL1K6TJ+6Id+KD8zuubjHvc4ny972ctA/siP/Mh973tfnzfeeGMVh41eHxdJIaPAeRXeWYHrrruOXqjidMRJral9FD7w8Ffp+9aoMo7A4MC54oCO7e9ckXRBEDNYtqmZRvfaxKYBdBYcePWrX61/fuzHfmy/8Hvf+95sToF53/veR9WQhdlGjHgY6Ea/+Zu/SQ8TZogSb+vwTne6E3tPYXZyk1qTzyhkwqxQVDqOWRQUn61CRvn7qI/6KOqI+GCm7gj/zM/8jFKe+9znCs//ECZVveZJFfO2t72NEkbLScxTn/pUWaIUihSmZlEWaYS8xHw6bRBI6tE97nGPwvPpn/7ppZCBAfnsZz9bKt3uwz/8w+lzYRHLoqQoZFJf/vKX+0x9f+zHfkxY9fnqcdJ/97vf/cVf/MViuOqDfNSjHiWs7sLzWtNuSyE7uEYwj7/BgXPFAX3e37ki6YIgZviQpeeM38GBC5UDtCikMz51KmDzkd7AUhUYKgiXfFuQlAAxXgfyy8WeXmXfTardPTE22mgzTju6IcInw4+duPvd737C7Z/9PsoZMuwM2nFrk17/+tfTxgCwBjE+0Vo46bu6ooWZh7fUCGYeYDYNk/3pT3+6wCtf+Uq/qc5jH/tYXm6UNkqkSJUN5OQ3FsFEqqCAjVS/LsJwI8bP//zPJ6Oy2owtt3O1B43QVSPULzrWl33ZlzkoQJelgVFqZfzlX/7lNnuFQ2o+j6tGhXwEBgcGBy4sDgyF7MJqr0Ht4MCUAyxYolx10bk94Yd+6IfAtGqEjUgxsdlky7Lw0sOiEonh7OX32muv9fuqV73qSU96UoG1AbYuGh7l42EPe1hLBmVODHex/P3Gb/yGC8xYntq883BqxL9qnlQxaqQ69K3E2Ka0c8oQxSQ2rw4YRVfetUDUu9oCporxeKOhrsEnPsW1GhurG7WVlx41kVrWyU5DrdSTqFEhH4HBgcGB88+BoZCd/zYaFA4O9DjAJGPWZ5DnbD6HE88oFXWkdYePRz+jzjxLG8P76oEPfCBDGhvb937v91522WVtaht+zWtewyeMkemKK66oeAoHyxwaKoYK2B7JrPg28Bmf8Rk+7f21kRX+pV/6JWE1cq2rTcmKVyPXZEy0sUrdElDZF7zgBY4gPOMZz6BiOuvw0pe+tIOwrVeL//rrr2ddcz0HD7Oy4bUAi+GTqNFiQSNycGBw4HxyYChk57NdBlWDA1s5wKAVDype5K11Kvn53fN/YrPxGeeqxPPxF4jqk5i1X2gZzHiV8ejn8FRg1JFWI5HEYZ/TVTbpAuaMoRMAMbCJ4Y9lO6/MWvy0ClsbcFkrc9cP/uAPftu3fVsbL2wvlX89M9gll1zik399AFBC79xSHZCyT9DWpw1WRkGnO+GnO9bpS076YGrfMzpl2REltazghcYNjkJWaNsS12p9cI2qlBEYHBgcuKA5MBSyC7r5BvGDA7dwwO38DvfZ43vEIx7h6tEoBxQjN1n4pUix07h8gRLGyx68a1Hf8IY3cOpiUvKZSxxKmeMo1t715QoMl1x4jskJTcD193M/93Ot7iXelRAugHBcoGCYmoTpi9zLnve857mZwssBdvdyu5iThqxudkILPgGpzjna2XRw0nnP+JzRaSiUKujKflarq666yi+nsZDtvnto1ReGeXVEVo3oba1HF54wudHDwDAxvvjFL5bKdUwkn30nQEOSswj0SNS+5z3vwUMql3jqIJ857BJOoQGmTXLwx4q3vvWtruoV+Y53vMOJy3mtUeX4Z9S7g2uUQsfv4MDgwAXPAbJ7/O3kQJp5J9gAGBw4Kw7QVxjDcj2Ye1nvda970X4cBix6KGHsPbQWTu7UCzc+2COTSomJCuUuVm5MtSkpQFdIdmpKndAUQ/n4gi/4AqhYxb7oi76ITlOlCLhFrK698EnfKsd5uQonk5thxdeKRtVmr7BnMVm85LXvqTrcubjM57hiYJzudNOEKrMtSbXVKJ5SFfc4hkPXs3mz0qVrCuIKxlCHsIxlAaoVGmKusy3L9qYiOeAZmPw6jpDi2O0SwzksW5myU7NyWRpuPOEJTwjkG9/4xlyBgaW0N0W4gMPJVqltremp8SH77M/+bCqg1H1r9OY3vzkljt/BgXPFgYyUc0XSBUHM7VHZSp8RXuRApPbg1SJzRuS54oB7ULnS02ByPdiENiYZRh0qS+vgP4GZf/LWkpEaN09ajGFOi2qYVDYkvmUOb07UHcaqupx2EY9IG3wcxaiMHLzmMNRQetv8jfM55JYY117Yr+T4xWRFf/2VX/kV98GyC/K9o/DBkGeOaHisaHgS++IiZmcXYMgtaFrE3R+RIYD7tT7eGi3SNiIHB06aA2PGPIzDQyHbxLfRvTaxaQANDlywHKAJOd3JpuVZ9KoEw5UzE5zJFrXbAhuBwYHBgZYDY8ZsubE9PJ5O2s6rATk4MDhw0XKAQsYa51J+W5lc7pjE7MzyA/uGb/iGoY1dtK0+KjY4cJ44MCxkm1pj6Pub2DSABgcuZA7wIfM0Z3z57Tba2PV6QR5iupCrNWgfHDhtDowZ8zCOD4VsE99G99rEpgE0ODA4MDgwOHCb58CYMQ/rAmPLcg++pZPtkWGADg4MDgwODA4MDgwODA5s4MC4h2wDk/4/9u47UJqiWhf+p0cuChIUAQFFOAgcQJJIECQjEpWcJEmULLwkESRJzpJEECQHyUFylJxBkYwiQYKgohxFxXt/sD7q9Jk9e/bMvLP3nj2z5o+e6qrV1VVPV3c/vdaqWimSCCQCiUAikAgkAonAcCKQGrIW0M1lL5oHK1XWzWMVkolYItYqAm3I5zBrFbRErFXEyAdobRzY54ckIRvbA8AiTB/5yEdmmWWWsd2NVlpvMUxLzw95hGDbVooqYtbtnHXWWcuuhIXmYwl4aY8PsXEsJVoT99p66xaUIjBwpSvIm5cXFU477bSf/OQnIz3Wt5ZptfhWtRdWLAOLxWarmZkeDAGDSqwqK7GJE2oNXjM0BVa3Dm2+oqqICY1gtbySEzegmwhcCVSBZWCi5rFWFQBdg4XxqpKZ7l4ExsTytaPeyLh+o96MgQ1YZZVV1l9//YH5o54zTIhZksDz2qN8yA6aK7fiiitGM8TtsXh6zSECL1pynQCuZql3YX+kPdGsC1okrfNuoXb5lqS///77S76EWNoWX3WsUI+iUFeL2ktHU9s7toNHWcXUiv9BTK3LZXF/a9xrm8mGZ599Ng7awXONZ1Vdgli1F2IDCPRueuYuu+wiVJQQogsssIAca8xWxUYx3SWgiYsgjnsMM187wtK7m1B/nExwrUceeWQUIao5dZcgFq268cYbBUnTJFh944PfEkssAckll1yypuWjuNtVoI0iDq2e+r2YuPkbEoHuHF6+loResYh5TeyaIbszAgLDhNimm26q5h133LGZLkTIQvgMJmzhdbUJa0NAoGiRCoVHlHPTTTdVD1lnnXVkYmwWpqrmW6RqnnnmqeaMT9op/Manhg4eG4GxL7jggqjz8ccfX2mllTTPMhAdPMt4VvU+YN2CmL4gspokeGXpF/4KMZlUrSVzdBNdBdpGG22kPWWYUZthsZ5ptP6+hUYXqHL2rkJMqyIqq7AZpYUSvgktnlfNGd10t4E2umg0f/Z06o+RMya3xx9/PBrhKXbKKaeMyQ602GgES0hsB4mWGJbExhXEep4NgvP4NC81oGI0aiJwyxGpuuRLzDHHHLa+6VdfffWIAx2l6u9VQ16oLgoIVkm1YqpdkRlFwCz5mSgIHHvssdRjdLHjxo0rmbS5Bx98sDdlvERLfiYCgeoNKIfWB4YiJRhjYq2K8ZVADUSAc8XATF4rosoOzM+csYVAErKxdb3+p7UYiXfkGWecIUv8Zszsf8p6NIV3CsNMT88AFMysmY6G0qsZSTK0ZXUlhThkubvzzjtFNqwr0CeZkBeYsk8623w3fRRhEuR32GGHmqNwMkqylgZhTQ39touKLbTQQoYZjttvfW+7vz/72c/4TrR9eB7YJQgkIeuSC9FyMzj08LrYYIMNFllkER7EV1xxRctVjKkDMM4TTjhh++23x400nHaw480XuBCqqt14441rKp9iiikuu+wyKjGuYz/84Q9rSnt+l8Zit912083ll18+9I493+WWOsiLP+zjdSOgc/ph2m6pwn4WRmFXXnllCHAD7Wccmu/7gw8+ePLJJzcvn5Jdi0ASsq69NEM0zOcjdkJom222sR0OgjJEC0a2mA8+h9/FFltM+GfzJXn333HHHR1pglcpKwlLk7fp3//+d0guuuiiA2tmuGTKpOrYaaeduNYOFOi9HG7XZo2YKjjNNNMwVkI+n/t1rzJvTvnTTTfd5JNPXlcgM1tCICZE+85s6ai+En755ZfNF/HjTmBOUl/1vYc7m4RsTF7cW265xZoOZsBp/RprrCHuHorAr3NMdqa5RhcC6gO64xwUD2P/5ehD0bj11lsP1iKA77///nR1XIX6wcGFa/+BBx64xx57mEWBatx6663f/e5304ds4PAIhwEuUAOLMqcNBER5d1SNh1kb9fTwIVNOOeV17/9uvvnmPvEh7uGrWbqWhKxAMZYSrGa+kDhyfv7zn59tttnefPNN8zhY9MZSH1pp66OPPooN7LXXXvrrd8ABBzj6wgsvtEZDVGNOFv1Z+YXlsckzMEfSNVKSkTfty0JcDQ7EThn6nigAAEAASURBVEy6BDhXtsaSDSoZK0X/+Z//SWvIb0+v7777bmt/oK09r4tt4+pYH8RR9GQ9PyTaAKeNQ+Lbsq79t43aevIQC+74RvKjvd5kk02++MUv9mQ3+61TScjG3hW3bifvCkswPPPBz/OLKY1R6e233x57/WmixdRjdDPmOUaPOXt5BvmMDhalgumnn56nTvnFomINKr788strSim9rKlB7xXqt5rS6i43MssmPfbYY5tttlk1v7fTrEiWO9LHe++9t7d72kbv5p13XouN+Sh66KGHBh4u/w9/+MPA/Mypi4D72kIYiso6gnXFMrOKgMm8dj0hq5mZHnMIJCEbc5fs/8NO1l13XcvKl6ZbtNPD66233jr99NNLZs8kXn/99fPPP7/Gkhi06aSTTgrrxsILL0xvX36LL7647sdK+mU9/QIINma+ZBHwvoyiY445Bu0488wz1VOEJQgUGbsURRzamInpyapivZQeCJrehT7SDLhe6mlH+uJmDIdOM90GKsmsT8brvyMn6rFK6g6zQw89VBgM852H/DTqMTSa7E48i6pPpDjQY+2www5rspIU604EkpB153UZtFW+gbAQqqAaiZiX5FlWjRdUIzNGdxkoOdTXKL2o6PlQv/TSS5b8GKxf8b1InWbh3JDhKybyEs1WBF8SPUl+zI+TsMAP0ydPoG9/+9sWfS3VEqvhXhpDwJKzRabHEhE9KRZd4yB1++23A41uTMepEnussx3pzve+9z13Jds6n85f/vKX8b40bGh2bZsJ9tWRZoytSsJtP76ptNyuNS/23HNPH1QmNVsedmx1Z2RaG9pWn99Vb8577rlniy22iCWsR6YZeZZhQcCDI39DIhDQDyk23AI///nPg5f4fOR+Xk53/fXXx7wk7RT8R+y8UjRaiU4h5vXGi/+jH/0oHoAZlO5YmcKK3s7iqW291pJfEieeeCI7ZjTDFs3idRG7Qk/6NPc1KRE5JhJeffXVcexRRx0VmeYuAXbttdd2IK2YdRdrIiJYn1aMwnLG8UzEScezkvE//IknnkDuy7pZnFTwVPY4rntbbrklbjH+p+hUDV2CWOmOQUUZFqPOisFWpaG45e5ZBLoh0SWgif1gmLm1oz1Wb7b0vMVB3G78FCHZDVhFG7oEsWgMJ42yhArnV4sjcvSMZZw9+bsHt64CrXvG0pAt+RCJwC63DRCIB0di1QCimqI+Qcw3fZX21YDQ0m6fINYSJo2FuxYxtl3hVhGyLlyzrWtBa3ytR7E0EWsD/AStDdAckoSsKdxyeDUFU0UoEauA0VQyEWsKpopQIlYBo9lkgtYsUh/IJWIfINHCf4LWAlgV0fQhq4CRyUQgEUgEEoFEIBFIBEYDgSRko4F6njMRSAQSgUQgEUgEEoEKAknIKmBkMhFIBBKBRCARSAQSgdFAIH3ImkI9LOJNiaZQIpAIJAKJQCLQ9wjkNLhWh0BqyFpFLOUTgUQgEUgEEoFEIBHoMAK58l4LgCbfbx6snGXTPFYhmYglYq0i0IZ8DrNWQUvEWkWMfIDWxoF9fkhqyIZ9ANx3333W7657mgZFdeVbzRQLSHzGIXnkr371q2233dZKqq3WPxzywnFaLr9uzQ2K6sq3kdlLiFnR+6yzzrLg7TvvvNMGFE0eMhYR07Uhx9Jzzz130UUXWYq5SRyaFxP4wcL9N998c+ND/va3v4lOu/zyy0s0lhyx0sbPKzFC7rjjjpNPPnk4Anf22DATifhnP/uZaB/DgVUZD2MUtNL+fkx4W+dvSARiZAwpViMggN2yyy7rWDdG80U1kuOzO//881uh/s9//nODSizrv8ACC2jkuHHjGoi1WtQGYtopSpI1u0UGrDldg6IayfHc7RnEROyJSAYuhKW9vdTHE5nBDh9biOnFkGPpN7/5zTLLLCNOwwknnPDUU08N1vG286+66ioXZffdd29cwyabbCJAAknBMRtLtlTaxo2p/gaPMqUWiBfBzJ2744476t1wDLZeGmYiDk866aQidS611FKf/OQnb7jhhpauYPPCYw605rvWq5KpIYsH1LBshQeZZZZZ6lbdoKiufHuZ11577ZNPPunmb3C44D9ilTQQoD/bf//9Gwh0qkjQnplnntmdNrDCBkUDhccnpzcQE/HJVaOXpbEQ9PPhhx++8MILxweWBseOLcR0pPFYEjZ+zjnnnH322YWf32qrrQzIBn1vr2iFFVYQ7HK//fZrfLi70r3ZQEYsrxIFsoFYR4oaPK/Eh/XZ6RFhJBx55JF6J9BZR05araRnhpmAsBtttNGxxx573HHHoWIzzjijaFF/+tOfqp3tVHrMgdapjo/depKQDeO123zzzQcLKtygqIMNomqaYYYZhqxwookmGkzGt+8uu+zimTuYQAfzKerWXHNN78KBdTYoGig8Pjk9gxiDCCTFUtxjjz0A8swzz4wPLA2OHVuI6UiDsUQ35mUpsvXRRx9dIp826HvbRWLRNlN/gxtTuPfBLPttt6rBgQ2eV54Pt9xyywUXXID6N6hhPIt6ZpgJlcu/arnllgOIBE32G2+8UeLnjidKNYePOdBq2t+Hu+nUP7wXncVwsBM0KHKINyhzSRxLs+2RhxvZFfXZ9+gf//jHe+65x64v+PiIJ3DXXXepc8UVV/yv//qvOJCOhBMM40js2t522220JowLngii+UZ+ccB86623qFJsRfIWeJufDd8yNk06NvXMO++800wzTalqmBINYGlQpDGJWLkiX/3qV0taWHS4bbjhhiWnJPoWMQgMHEv/+te/6JyY26imyh1RsCqJCEJvV1BnpIoGOooEX6cOv/vuu8Vfl0NRZCsaPRPeb3/729lmm22NNdb4yEfee97+93//N/ritl1kkUXiWIdwJ+JXJMi9X+FqpRnUKrSeGA+XMoe42d2hHggaI/r7YostFvUM63YgYk6ndzQ92223Heo/2NlzmFWR8Ux2S0411VSR6aEqwTmvKiPd0jAj3zPP/xoc+m03NWRdesUppeg2sCvfwZ7LwhWvttpqdtkO3n33XTmnnHLK9ttv7+HOxrfBBhvsvffeE088Me8EIY0vu+yyf/zjH57d0lXLCHa1/vrre238+te/FhKbZcEnOL4VELz00kuY3yGHHLLTTjs51vvpkUceiXfDs88+e+uttz7//PNdCtb7zUrEBl4dxH3PPfc89dRTsYeBpYlYFZMbb7zRJw3S88Mf/tD4d0+hQVWBSD/wwANuQ+zK54ocfmZ2GezC9d79uNJKK4XDPqMnduWzSua666675JJLuqfczqjYt771Ld9FUaGbEV176KGHaDQpotySbsxFF120nFp7Vl99dUoUJI/iU76b0TeVhO8r6SI58okf/OAHTsoRCly+8Q488EBPnppm5DCrAsKz03hAviNziimmkPCArcpINz/M8vlfA93Y3u1V57jO9iuucRt1coZ17ECnflU1KIoThQ7MMzp28SRV+RKK3W984xtXXHGFtKlYvrfMpJP2MUqG6itkfH75Got01LbbbrvZ5Xoy2WSTffrTn/ZSsWtCmaOmm246jkd2eZva9ayXDi0daijd0k8Nfi0dEsJLL700TXvdAxsUhXwiVsUNS6DmdBUYyLz1q0Ul3Z+I6f7AsRSfLpjr2WefzUWdQ72vERStYFUS6JovohdffFHO66+/TnW0xBJLRCleNd9880njJb58mD4j34eQC0H3Ztf3krQvnyhSG80ZtbTdww47TBEG5nC7oddkE/QN5nvJiXwyxVHrrbceyRCLnCa3jvJrUrgqNvB55ezhLubRpFNf//rX1bzyyitXj4p0DrOCCS4Ope9973uRExrWL3/5y0WgJJoZZoR77Plfut+fidSQvfd46s4fZxfz41g3fGJqYVgYzSqXZgqh+g6zyJlnnomNeRr6QsWlfIGZSm0qGbEpp5yydO2xxx6TDgd/LwCOMq+88oqnfBFYZ5115phjDrvOa8uzoRSNlUQiVr1SW2yxxUknnbTgggvi2fzTq0UlnYgVKEIfxqkf19lyyy0PPvhg3y0Uz0WgJJR6W7jv5Piw8fOZ9PTTT9s97bTTwC6BgviYOeecc9yVfrRlPo2otxVV70q7bswJJ5wwmA2aKIfds1gt7X7/+9/nqIBb+2TqqrvSI8ijieb+iCOO8PyhvdNIX4lYrGZXfznMChpGFO2m6eSrrLLKPvvsg74rCreTIhOJZoYZyXz+1+A2pneTkHX15TP1HbXy9ekT2cuVn4q1kXicWF+Kv4vHtNZ7E9CWsTzGj1mEStxLQlFZ+EDai9mWJ4qtHyrG1WymmWaK3erW68HuiE3gqp56/NOJWMGQ3pT5jGIDz2YgG2wmVyIWiNF1SYQJSSK4Eat9wbMk2Cinnnpq7gFyqNPCesiFgMYIn/NhIz/4GQNl3JVsUu7KUIBV70qSbkyKaoxNOj6Q1C898OfG7Kq7sgYxCrywtNYFLYdZXNDPfe5zZj2jZW5PLrms1fJZtAde7maGmaPy+T8QurGbk4Ssq68d1uUpTCnN59fCSPyBfJL6JJLjARdN93z3ce+TvfTEp7l3Q9mNBA8VH2Q+5XfeeWcmSKpyRpOgdDWSY3o3Eau5fHQtPJDQ9JgUUlNqNxELTKx2IVGce2addVb+8nXnOVIwc5myfAZVloUeLrnkEoZOt6SPJSbFUEIH6yJQAHeHhpa65ETioIMO4tDJH/T444/fa6+9eOhbB6FGpjt3axDTyIUWWsi2Lmg5zMpFpOn0KP7xj39MPcadHyOvu75JM8NMnfn8L8D2QCIJ2UhcxCpbqjlfgyKSvGVpv6i1zJTkSmJVCKovtMzXlQVsoirfWN4N5jrFrq9tuu4yP6t6OpZNfv3clnE7pC18PqoCg6VH+Lu8ASYNiqLxidjAi8jbCb2AzMAiOf2JmI7XjKWYJ1golPkQVmQNhjEQt/gc4uNFaQ1b8TB4ETBWSoRwaD4oQoqRkYbbWhUDq5LDiMkuyWvN8lQ+mWpUaHUPicwRvjGdtAoaYoFKcj8vzfjd737nyRPK+Jpm5zCrAcSn9a677orUmsBe93FNfshhRqb3nv81QPXVbhKy4b3c7BROwGN34GkaFFWF3ZPslZ77c801l09PDi5ClJTnPkkaL1tf2GbCe6x7r+Bt4YPipeK2D20Zd2Pf4l4PXMfYGqxJWFw9onmqjfNGpB3H2g0LDgf/K6+8kqdzCAzrFixaUn3ul9M1KCoyEokYTybXOqKymPFHc9N4oaN+Q8wgGTiWrEBmUiTnHjyMAL2Xm8jHT3VolbS3IK7GWuQzSebGG2+MRSEoaggZi6Rz0yRAC8KDW+V0aeHQHXdWeHkS5hHvluRe5rw+k8InISqpuTHdy3Gs0rgxmUQdHg2OQ4ZvW/d5Rc1Dp2jSkvN6bnAgozvEUOs2I4dZgcUjjgcwC7WP7cG+lAgPOczI9Njzv0DUpwlvvvwNiUAMjiHFagS4jMSHMoWWoCLV0gZFVTFpbOwzn/mM+zbyfY+6gT2aq2KoUjgFayd7R5SiaPGp7c73xPcF74VRM8q5G6vQy0M+3RuLybnnnhtLJKCASJizmOyj1Dwgz/3qSRun40SNZWpKWVH534QV1UpaMc0zZBoU1VRiNxGL2R68yE0EMS+Eg/lAlKo5/YOYXjcYSxYMoz/mW0l5zNeH410VpZo0LmIhsZJpduGhhx5adiUoJgs/42cWEXKMaovRuDs8E7idETN7IG6WsrV+DWETouOmNoXzpptuKm5GbH8M0BRpSieZZBLku3rSIdNt3JjqbPC8OvzwwzXDOiCeGz4Uff4N1oYcZpAxAJgpcFYcHSEbDKuSP+QwI9kbz//S5X5OtDP/uQ/xau8p1imgfD1Xq+KJUt2NtO9X7ggxFX9gqRy2GJZK65mJbawGLxtTwJCwmsrrHkujVje/QWYi1gCcukUdRMybj27GlTUq6p5rYGbNMOjbMcbTjgO+JfsHQlSTwzfAynwl020VS1eUnEggeb55ar6giozToTKmTrvFrFlD0qeXNTJ8VhWZwRK0LLFszWACdfM7OMxK/T7VOPI3M9hymPkegFXzF67JYZbP/zIax3QiCVlTl284nmJNnbhDQt7Qvl/LkmZRK1uDpcjqvkXG/7SJWKsYJmL9hpj+mgrgutdoSujGyjpVrWIypHwOsyEhqhEY64jpTj7/a65p1+5m6KS43Xp860Oc4611Kc245nLLKIONmbnJtYi5occ731b3ErFWYUvEWkWMPM2ZrQWcuX5arIsVkmdnBFxqo7Z+OCSHWRtXOUFrA7RROeRDqOKonHhsnTRmwYxprDzlxUcLX36KMVMEzPFpJvR4e1cqEWsVt0SsDxHTZVMvmSndmCbchPsa3/8YDK0C0ox8DrNmUKrK9ABiupPP/+o17dp0ErKmLk1v3JNNdbVDQolYq0AmYolYqwi0IZ/DrFXQErFWESOfoLUBmkNy2Yv2cMujEoFEIBFIBBKBRCAR6BgCScg6BmVWlAgkAolAIpAIJAKJQHsIJCFrD7dOHmXSuIVkml83v5PnHpt13X///WaMnn/++WOz+aPQ6kSsVdDzrmwVMfIJWhug5b3ZBmi9ekjOshzlK2vyo0hHF154odC8o9yUMXJ6WO2///6PPvroYAuCj5F+jFwzE7FWsc67slXEyCdobYCW92YboPXwIUnIRvniCs9igVarSgptNMpNGSOnt5DmJz7xiWWWWWaMtHf0m5mItXoN8q5sFTHyCVoboOW92QZoPXxImiy74uKKctMV7RgjjUi4Wr1QiViriJFP0BK0NhBo9ZAcZq0i1sPyqSHriosbk4RLU/72t7+JXicUklCYyy67LIWQSDh+ITDLLLMINGldGc4HcizBb/kiCeHtrCrJ9LniiitGjrhyVn8V+3KmmWaiG19ttdVmnnlmQVrEJLammtCWYh1ajrKcd6wkauDSbFGZrbImxt+iiy4aPfr5z38e3SEc4ThFi4qIzl/72tdE+YzlN0W2AbLv1I985L17AcgXXHCBeL1wcxWEQwbUrbfe+otf/ALsXGQ222yzsYJStZ2JWBWNJtM1oOVd2QxuCVozKFVlahBTlE+zKj79lfa+yd+QCMSYGFKsbQGsS0ThOFwYQentttvuhBNOwKXmnHPOd95551e/+pXlvDUD4WDfJPmHP/xBPGMEizeVhZjFv1tsscWOOeYY8jjZpZdeetVVV8W6r6uvvvrkk0/uWISMYVTU5LPPPvsHP/iBNfpPOumkttvc+MBhRezOO+9Uv4DH0YaNN95Yp84666xVV11VPhOw/AMOOCCedKeffnqIXXvttUoFpcHbkDPQ7b777riXTEGgecCgZRHaHA+LY3/5y1+uueaaSBgKy0g6zTTTNO71+JRqht/41NDg2ESsATiDFfXeXamnwzrM1N97oA03YnlvDnYD9mH+cL0AegzK4b4nq0+xTTfd1OkoY2C43nrrSYs6LO2ziZeGwEcFW+QsdF0i4k011VR4myLCDqH6kr733nulaYOee+45JOzBBx/cYostVlhhhajh8MMP7wFChp7qI16lUyCSxk2jgxtttJFdmrPYvfHGGynDpCkOqbuOPvroyCdPTFwpu8CR3n777VVl6qsg09ADoyLhe+eee+44ZDi2zus3HDWrs/rQT8SaBLn37kodH9Zhpv7eA224Ect7s8n7sR/EhusF0GPYDfc9WX2Kef0HV3jyySeXW245p77nnnsCT6ogu8xndinSREDCLaSXXnrpySabjCUufjgEv4Q//elPQc523HHHcjko3tSAgrz88st0bE5RijqbcBa/ztZZaqs+wmgHKcN+/etf46N0Y1RchXHqPiiAEweutdZaP/zhD6UBqG0smwEXmy+4gtIFOWPZjEOYNdUAZwZfJ6JXK23oeOJ9wBKxFnAdVsS0o/fuSp1K0FoYYe+LDjdi+TRr9Yr0sPxwvQB6DLLhvierj37QYWBoBGLBiObUhZA98cQTCAeWRoYWZ4899gicp59++g033HAg5hRjDhezshRhYJRnMoUxHjduXPC5UtrBxLAiVn2EaTMqts8++8w+++z77rsvcy2PsdKRUDFyrXvllVfYbZFURaeeeqrmAaeIlQQYFVGGlZxddtkl+kI95rwlv+OJRKxVSIcVMY3pvbtSpxK0bhtm+TRr9Yr0sHwSsqYu7kg+xShjsKXwfOIm5dSFkGlrULTbbrttiimm4JAerZ9xxhl58VPhlM4gXmjKQEJG4K233tpzzz0nmmgiNYfTejmqg4lhRaz6CGPbXWKJJVhyabO0n/tdlZBxAuMNttJKKx144IFswdFB2GpeuJpFDuh46UkPJGQyadTU7xCVU8XFIR3fJmKtQjqsiGlMlZD1xl2pUwlatw2zfJq1ekV6WD4JWVMXdySfYmZE+kWzgpBR8JRWPvDAAxoz6aSTIhklMzyfwh4n869//SuOQvsVhIyOp0husMEGdEV2FU099dRoWSnqbGJYEas+wvjGOdeZZ54Z7ceZGCKrfYkQCGYwmJQa+eFax6mf0TZyTjzxRB5j0kHI3n777ch/5JFHwpRpl6LRiQ455JAo6vg2EWsV0mFFTGOqhKw37kqdStC6bZjl06zVK9LD8knImrq4w/0Uo4BhiwwD4jzzzEOpc9FFF1122WU4k1Ozxx1//PGloeFYduWVV5Yca2REC00J3Guvveaaa66Q52cmvzi5k19llVW4kcWBlG1820slnU0MK2L89NVPz6fNcJCGCaq69dZbS/PcZ8wtZOvuu++W+aUvfanawcUXX1ymuZkkkTDkjEKRAADlxywKuw8//DD3spjWSoWmqAp7tcLxT6vcb/zrqVtDIlYXlsaZvXdX6u+wDjP19x5ow41Y3puNb8O+Kh2uF0CPgTis9yRfLp7jTsHWZh2sc889N1ap4EZm+iRy9oUvfIEPfoEUV8Mk3n333ZIjQcHD0BntXHvttf/+97/zQP/iF78ox9zMb3/72yFspQwVcofiXDX//PPH/IBqPZ1KDx9it99+u/ar38TSI488EpEy29QuHdiPf/xjC1jo7xFHHFHtiKVAYhJlyXzxxRdJRiM/9alP3XDDDYpciMBQ/TiuHBoy65PRuiGv3jQ77LBDqaHjiUSsVUiHDzEt6cm7Ur8StK4aZvk0a/Vy9Lb8h8otGjdqbusigMTIHzGsOJXz9DK5z0lfffVVzCMaEG2j4rIgFtVOTVMtXEklpsiKrzVFZZfHFZXPs88+qy+xeGwp6mxihBFDsGgTUTH8DHqW0i3dYaKlMuRvF25zJV/i+eeff+ONN+aYY44JJ5ywml/SUGK+VCfEiGFmpajjiUSsVUhHGLEeuCshnKB1+TDTvHyatXqNekY+CVlTl3KEn2J12+R9wKxJVfblL3+ZrzqWVlesSzK7ATFky9QHS6/hZ3y/ugSZwZqRiA2GzGD53YDY2LorIZmgDTacBsvvBsS0LZ9mg12gXsrP0Elj42rSfk077bQMkZRAxx13XJezsW7A9KCDDqJERMhoziLGVDe0qpvbkIi1enXyrmwVMfIJWhug5b3ZBmhj8ZAMLj42rho74ze+8Q1WM8vrxwL0Y6Pdo9fKhRdemO+duajmRkBv9BoyZs6ciLV6qfKubBUx8glaG6DlvdkGaGPxkDRZNnXVukRr3VRbu0MoEWv1OiRiiVirCLQhn8OsVdASsVYRI5+gtQHae7iNmKN6e+3rkqNieHVJY7IZiUAikAgkAolAlyOQ7KLVC5Qmy1YRS/lEIBFIBBKBRCARSAQ6jEBqyDoMaFaXCCQCiUAikAgkAolAqwikhqxVxFI+EUgEEoFEIBFIBBKBDiOQy140BWj6kDUFUwolAolAIpAIJALvI5A+ZK0OhNSQtYpYyicCiUAikAgkAolAItBhBFJD1gKgyfdbACtFE4FEIBFIBPoSgbQptXfZU0PWHm55VCIwXggcc8wxm2666ehSfGc//vjjf/Ob30RP/vWvfwnJ9cILLwzsWIOiqvB5551X3e1U+vXXX3/ggQf+8Y9/DKywQVERfuqppxxedktCiNJfVX5PPPGEsKd1z1IOUXrHHXcIlXHWWWf97ne/k3/99dfbChFbqem9pJOKQlsOrJsA9aqrrnrzzTfXLR2BzBNOOEE41xE4UZ4iEUgEmkEgCVkzKKVMItBhBM4++2wvdS/yDtfbdHV//OMfl1hiiTfffHPGGWd0EC4lsMHBBx+83nrriTrvVV1qalBUZCROPfXUddddF3WrZo5n+g9/+MMqq6wiRsXRRx89yyyzrLzyymK5Rp0NiqonFajHUZdcckk1s9Rw0UUXLbroonPOOaeIDvjxZz7zGRHov/Wtb/3pT3+qkQfUiiuu+J//+Z8//OEPxa989NFHoSdyxve//32SznLhhRd+5StfUdVqq632ve99b4UVVvj0pz8N23POOWcw2o3+Xnrppdddd13NuUZsFzIutxaO2BnzRIlAItAIAQ+L/A2JQCA4pFgKJAJNIuAFTzXVpHAbYl72++2332AHvvvuu1/72tf23nvvELj33ntnnnlmFC12t9lmGwP+tNNOs9ugKIRjS1004YQTOuqf//xnNX8801//+tepEqOS55577uMf//iss86K/chpUFQ96Q477KBVGFI1s5qOQGTolExsT7XkF1988aoM3rzAAgvMMMMMTz/9dMl/++23UTSUq+RsuOGGjr3gggsi5/HHH8fz5Oy6665FpibhMtG61WSO5C413pRTTukqj+RJ81w9j4Bh79fz3ex4B1NDFiMnt4nAiCLwiU98wgt+mE7573//e5dddhGKfrD6xSq+7bbbvvOd74QAXR2CSPETu5tttpnET37yE9sGRSEc229/+9uLLLJINWdgGmnz/BqYjwbVbaomXX755W+99VYcgvosvfTSTz75JKNhg6Jq/bfffjvTYTVnYHrSSSctmdNMM42A9HaBExZJaZZNKjrx6a+55prPf/7zRZgujcG3quOcbLLJSqkERWNg+NOf/nQwxSGt5AQTTFA9aoTTU0011V577eWKY9IjfOo8XSKQCNQgkISsBpDcTQRGAgE2L/bBciY8Y//99/fafvjhh7GlK664IoqoT84//3zCL7300rHHHst7KTyTHnvssZ+//3vxxRdJPvTQQ7H7xhtv0NywvmEPzzzzjMzf//735SyRwH5YANdYY43JJ588cnAOBz744IOxO9dcc33kIx9xUrsNikLY9uSTT55nnnnmn3/+klM34a1P91bDyehmmPn4bw08hCbswx/+MKNeKZpvvvmkNaxBURHGL3feeeeq7bUUNUiwQkZpaacG3HTTTax7lHM1B37uc58LBV5Nfs0uA6gG12Ta1UJcDb+MomefffaAAw6Q+cgjj0hcfPHF4dCGHdrFTas1IJpOfcQRRwCwmo+qnnLKKcYS17QajvXaa6/RelKLskFXCaKRANJDDz20Wk+mE4FEYBQQ6LjOrScrjAvTk13LTo0wAijOcsstZ0R97GMfi1OvvvrqmIcc790pppjiox/9qPQZZ5xBOzXddNNJU3exK0n40eJQ3iBbG2+8sV3vUZVQBS200EJ2b7jhBi/4zTffXBp9YSy76667ajroraxU5SUfh0Ppyi52SGDBBReU06Ao5HmFf/nLX9ap3XbbzVENTJYc8FE9ujQKvDj27rvvpinU03LqmgSrH1+xkslHzSmuvvpqOQ2KQn777bfnqBdMqIHJcrvttlNnmCwduM8++9hdaqmlykm33HJLOUceeWTJGSwRVRWTJSjiGlGwDTzk3HPPnXbaadV8yCGHKN1ggw3+4z/+wy7ChOeFsm333XensZt66qljSPzoRz+KelRLxhU0J8Ah4aamCE2n8dp66611Z6aZZsKq2ZF5tikyKlilVYikOkRm9UpR5tHVReW5TQTGHwFjzG/86+m3GhKypq54Dq+mYEqhphGYd955CyFz0Fe/+lVjDH/i3YVsSS+//PLyw+F6kkkmQbmoMbxHFXF7UvSLX/xCOgiZXc7mdhEy6bDTeZdLD/zRn5GkQRlYFDlBQahkBgrUFKFWyCVzHskhCRmZ4GRbbLGFAzHFxmys5uy//e1v/8//+T9oIu3OkEW33nor53piTRIyJAaSTKKQWWaZZbDMcopQjBWaFfn4jdkGeJufa+dayA9CNvvss2NgDLif+tSn1KZOqqlSWzVx2WWXEQhCJl+FdpFvY4Ci65Of/KTdww8/HFb0oyyb5h8Qi2mweJV0XOj1118/qjVmkDBGXruHHXaYw40KajY/UyKoRUOMvCLm1Ni11WV0EFYlJxOJwPggYID5jU8N/XnsRwK43CYCicBIIkDjVbXThQKMGz5VGd0GNVjYIik8tOrAAw8MDy0zGSkzsC6ZNb5HyEqT7Y91LkI9M/AQExJ//OMfOyMjXU3pwKKTTjqJHs6vRnKwXRzlxhtvxFGQD5Y4RtggB4PJl3wauLXXXvuzn/0s3U9okhoU0eqhNTU2viJfN8EVzNIY2oZgxUoWRQw3kkYHS47Ewgsv7FqYR4nr0NgFUQ4Brv2gI8/6jBWhht/97ncpt1Clag3SResZ+bFLiWUMoKpf/OIXkeZx48YpdbG4r6Fl0pSmNKl0Y06NChOOFiqiIaMSC3VakEs6SDQxfOmQe00lZmqCjwEqRun4GWZYoBkGQ9qdPzgi/xOBRKDzCKQPWecxzRoTgSERqGEVXqvVQ7yPvSBLTilldZp++ul5wVdLi1iTifAqKw5k1aMo4ZjDmOdwiGq+9MAinIO1MdZ9qBFusIuT8XDClridffOb32wgWS2iVEOzkBsrU1TzpQcW4TTmK7D01Ug22KXTOv300zWJu1iN29lss83mwHvuuafmcNcIb5bpqGqRpTEoySx7QUOJD6E+dFHc/6sykW48BqhFq4dMPPHE4fhlyU3qMRo7SlbUCs+jSwhJ6kMo3XnnnXaDvZkHKk3MlusYz0I/zmo81UKFFgeGMi9M1ZGT20QgERh5BP7Xa2DkT59nTAQSgZYQ8IJHNWre5aWG8m4uOQMTGINMXvw1Rd7TeAn2ELMvy8QCYnWLOJVT4y277LJW5PI788wzSVLMNKZZ6AKT61FHHaUB/MmaaTBLrhNR81AO8Z/j815aPrCIrsvUB6q7aFXYgrXNbo3qq1QSCbolfl3mTlJKUTWVUuuDSKNWA0lwKL0a6CaZO53X4TWu96XyNhJ//etfNYmu65ZbbsGGq4pS00Hwdc5z+J+5k4stthi1olPEaNGFcjqwV/uInymq0dgV4UwkAonAyCCQhGxkcM6zJALtI1Dm6FlKnqGTMUtdVCa2oQiRYMCyrZKGmkl2SuNHsyLBneuDjPf+qc04XWFj5tzZpYxhFwuBwYpM8bM2GPtp/IJ5UMBQNcWBA7fYGJ0NwoTz0UWhCJzSGnMyLlYUPKaLhp+7pVwLk6hbRLGk4x806gYzQDUDR5TDU2pgk3hoyYw2MAdzujILFY8pa8NqKrUcnIOnDqyh5ERVZTcSMSs2plzUFLW3S7mIim277baFP1XPKxNLs2AbczCxoGKh5DNdoLBwhBXBLQ2I5XZjieCSmYlEIBEYYQRq3RpG+PR5ukSgPxGwCqsXPxYV+pUwI9LuxPKqGFh1aS6muvAlCjfwfffdF2gcqlivrrzySkZG7krhU+8ty9nIVE0CnLSU0i1RRFVBDkIWZ4x8jaFJoiZBX/y84L2hw32tQRFDarGlqidW5FJJnL16xkgXNhYqtPAnQ5K22mqrE088sW7wOys4sD/iiPqIM4FLB3E+FTYoqnprMeFF26qZ1baFj7y5nJFpxoOl8xkErekqQWHmRx215ppr4pEoi5Vmg+VojF+1qghDFJmYsVkLVrWgG8Pn1lprrapkpGEr8ec//zl2I2Eb7vzGgEoMg/AJsxsCQUxNIGUYRaB1kNbQNNKd3v+h7JzD2KP5+0tziVMbzzBL3RpFvP2Ab0hom/hOpUkut8uRhKwAkolEYHQQ8JjL35AIxLUZUiwFEoFmEGBUipc6TyNvTQ5bwcPY+7w1Y3EHQ06CZkjC+5X5CUWg+aB/KqfwCo6RidZQF6FH5tnFjD8JRRakwJOKfCToxvg/mVdY8jfZZJOop7plDSTQoKgcztHeQvaIQqykbwWHUlRNLLnkktW1NqIIE+L5xKG+KhlpPKNK+KJteFtQkMGKqvWAF8mgM0NK6KhqJpYiLrzvgwgChK4uVoLAkywq4XQy8eCoEIwEGARVRX8m4hDDMY0afztHUVuqqjTJ9aK/hAZy7ChO99VWRRpdnnvuuZ0F8UUuzaLA/Oy60Pfddx/Yg0GyCNstVmBaTM0z3ZKkfpl+YT4BqyVtpWqrK9sR8NMMqkFFSFiZeYB7RWa0xCUw/AzC2M1tIjD+CMTwG/96+q2GD+lwYJfbBgjEUzuxagBRFg0HAub9IVtcgryYKUgsFhXUrZwr4i9xC2ON4l0UTCJKvWjDWbsIlwTNjQW3rK8xmN6oSGaiBgGmTDZTWivkrBgNa2RGYBfBwghRMfNPaSVxR08nejjuZWawGip+iCD6ji9y548m0eEZJxa/rY4i/nwUbDz66VxHoOV5in5AIN+Y7V3lNFm2h1selQiMKAJ0LXXPV8xMDIU1tsLB2Jh6WAA5sPPKD0to3Zozsy4CtF9DBomqe2BnM8tsU9Qq2JUZr1SVrqnrXi49TViVc+PrVcquSfgcNRvTZ7Kxzl6grC0RaAOBJGRtgJaHJAIjhEB4YdN1dfx8ltFiCPN6Di/+jtefFY4wAuF0yEHQGmksyHR4HMWsSXvVVVcN1hJ2WOuZGQbFSj6YZOYnAonACCCQJsumQE4FbFMwpVBHEWBYtKAoly/eSJyWwm2/g2cwlZLrEpevombrYOVZ1cgjYMaDpT1oxfB4/m1f//rXv/Wtb8Wzq25jOMDxMvSrW5qZiUDbCOQbsz3okpA1hVsOr6ZgSqFEIBFIBBKBvkcg35jtDYE0WbaAW4NvzRZqSdFEIBFIBBKBRCARSAT+NwK5MOz/xiP3EoFEIBFIBBKBRCARGHEEUkPWAuS57EXzYKXKunmsQjIRS8RaRaAN+RxmrYKWiLWKGPkArY0D+/yQ1JD1zgAwF8/Cm1YVN5W9+V6JfiMcTSxAWnPUaaed1sPxhtHrO+64w2IB1jSv6XiDXWt9Ocpy9gNnPlr6POI5Njh8TBclYm1cvrwrWwUth1mriJFP0NoArRsPcSHzNyQCceWGFBtFAQttx+LvmjrPPPMItDJkY6wpatHRL33pSyeccAJSUiMvU1WWJK3Jb3K3yxHTdwt7RiMt1IRIDdkvAYXMebTC04477mgpgRqErSAw00wzWSl0yHoGE0jEBkNmsPwuR0yzu+2u1KQuBy1vzMFGe4P8BK0BOGOr6D1mnb8hEejyp5igeyK3WECc8iYiTw/JMC655BKLKYjhI/TewO4LBRNxYHqSkAkRaOF72kTBeSLajGVX8a2BOJQc9At5nW666eoG+SEmBqJB0quELBErI6H5RBfelRrfzY+yHGbNj64imaAVKHogkYSsqYvYzU8xHfDotyxk9MRq3Vq79957N+gYM+Wkk0664oor1mUhYq1Qm2222Wbq6UlCJhpgBHwMiOacc04RvguAdXHbdtttKdLw3bql2K2gRmIy9iohS8TqXvfGmV14V2pwNz/Kcpg1HlF1SxO0urCM0cx06o8H1DBuBb/joYUDLbHEEhbRLhGIKV3Qgvvvv18gQtqXEu2E29YFF1zA2MEniUOYNz3tF6W0WMjRyllmmYVG56WXXnrkkUfkEPjqV79aOvCxj30Mvdhwww1LTk3CcqDW5nZ28VLqul7uu+++M888Mxkxj2uOHZnde++9FzIoo6h81XCBzz77bLzkUB9IRmM4zF188cVCPgtoc9lll7366qsi+gksc+211/p2DBn6MHTqlltuEfVPnBkxvEugZQLWNAdXxJ+p20EGyuOOO2677bYrJ62KiQ6uyCW2reaPZLojY6yvEHN1xn+Y+XTpn7sSYjnM2ripx3+Y9dvTrA2Qe+eQMUokR7jZcb3bOCkLl2XQLYZ+7LHH4knsiViCeoQ0Qaq22morq7HT0Hz6058W50T+6quvHoztgAMOEJoQV3BqjufiQK+00krSc801F3siyd///vfCnoiUErvRNuGE5TDGxW7d7TXXXKMenGaPPfZYbrnl1l9//XvuuadIUgIhiJ68N998M7GR15Bts802kLGGuLaBQmujbXJmmGEGHHH33XfHIzfffHOvQ1RJpnbqBWIKRunZZ5+dugvdnHjiie0eccQRoQiMjh966KGlsxKiL4P07bffrmbWpBdaaCH1UDo6i+DNLg0WWGSWX3554ZntLr744qOiIevUGOsfxFysjgwzTgJj667UcSPZr4ze5hM5zJrHqkh2ZJj11dOsQNefiXbuzD5Eqr2nmNf2rLPO+o1vfCMQW3PNNdVz66232hVsjlor8l9++WXqGf5JQQtC3bXrrruibniYQ7zySSJbvL7oruIoW2qeO++8s+zuv//+0047LXnU5Ne//nXJr0nst99+ZLCus88+m5e6OieYYIKgg2+99RYyFC0cFUKGnmrbQw89pM3edtJLLbWU9BVXXIGEFYsh1zdF4igrkik9zTTTUCgiXriv3aCYGKe0bgYCQspQlUXaljx2pVqTIWASRLmUlgQfu6DFO+20Ew2ccDTqpLMMAYTV9QrCNyqErLNjrB8Qc+E6OMzG1l2p70avXxneTSZymDUJVFWsg8NMtX1yb1YB7MN0y3dmH2Kky+09xUIlY/GIAE2AuUsvvdQLHltSIf5UwNxoo43knHfeeXJELZQuLk2oBhVaSNKoKUIs7OIT8803X6lBgrUOcaH6IoMcVIuq6fimf/TRRyOTMY58MBWR75hKI39UCBldlHDXpbW33XYbWmaXFZJ+kbE1ihhwtVm0PruxaAW1WRSddNJJihgx7b744osslWhrFCHE8Im0rQvx8MMP03sF39LfUlRNsCmrcLXVVotMb6Zgvagwc9VnP/tZfDqKRoWQdXaM9QNiLlZnh9kYuiv13WD2ixHb/DaHWfNYFcnODrM+uTcLev2ZyHXI4gE1LNvwL2F5jNr5OdGWUUdRQcnBMMpZWc2kg1sUJ7Mo/cQnPlF8obiWywwKRbm19dZblxokpppqKmSL99Ucc8xBb8TsKJMF03njF2cRrFp+aRWHKrvc0UQmxh1NPETL/ISdlu8jz/xBGiDpEfhBrDTM6RZddFH2RwmIgat4vDFTTjLJJNSHGjYQLvKomy2lIyKlX3rH0wv9WmGFFeTHz4WYe+6599lnH6Y6OVdeeaUtTvwBWu/9067VwKUZWkVSnZzGeOz5cg3E8GyYS6PdcYoR2HZ2jPUDYi5KZ4dZz9+VgZhtuTfdGuPzKMthlk+zEXg2jsVTpFP/MF61UL1cf/31LFxxGloZmq2gC3fffXc5d3j08zYrOXUT2AkTHjWPNwoCwR1qoBiewRGNDS5YFKtcWcJ0sskmI0/fxqLHBS00PYyqk08++UQTTcTNn86Jp0jUyf9dAj+zwhZGWMN7Bp63IzkQQ5s0uExx4BJryifErMgKuuCUzkVAk4ZslZelGRIoLA63ySab1JUHFxbl0qjW4mQ4XOkLd1o2XLvgKpk+fM8//3yI+amwXEcWZ5jbLY0shwxfouNjrOcRcy06O8x6/q4MxGw7+CjLYZZPs+F7Ko7hmvtTMdhqr+MCt3qUaX0ORAVwmjiWgUxmvMIptEqFhx12GMnf/va3cniOSxeTpce9X5G0woJSdj3Lk5bMmgTmgWbVZJbdU089VQ04SuQwpHKiWnfddYtAJEbFZGkiqraZABFtoJ1iZ5RGK+WXGQZ4Dw3ZxhtvrCjc7IrJEv0iaRs12FKD0WOhViZSlMxqAux41bnnnlvNrKaxNIZjjC0yIU9XV51LEfmjYrIcjjHW24i5WB0fZmPlrtR3d4dfjNjmtznMmseqSHZ8mKm55+/Ngl5/Jlq+M/sUpraeYnjD/PPP71DOXocffjglP5NZAMhnS364l/35z39mWDQfJ4rChoiLxC61GTZQYKcrwg8Qgura+jgWC2McctNNN9GEWYWhHFKToO7iVqVOLvyKzFukMAhXrarkqBCysBty/EJ69tprL7wzZi2ww+JMJitEm007ZTSxPogGK4JkQc+sSbs8yUpfhDmSYxWPksMbY9y4cVZ5kIOPKmKFdLGKQE0iHGiQZvmIMp2ZZTJqZOyOCiEbjjHW24i5Uh0fZmPlrtR394LfwNHbOCeHWWN86pZ2fJg5S8/fm3WR7J/Mlu/M/oGm2tP2nmJq4H4eS+ergdaqTH5ELMzXY17EjTiGM5l5ppPnUx8LYqFlHKcoruLUEkVndtBBB5UZmtHIcI2iB1KVuEnVZSyqvShpOiGtYqDUBqSnzF4sAhKjQsicF3NFyPQaA+OeVZpkhiPTKjLKgqnlPtkVmY8Z9kGedpZP4wFm9qhjRTGitIhj2V6VVvuI5AXIfFmslLHzzjtz1S8nqpvQKjq5NdZYQ/2c6oq2rCo8KoRMAzo+xnoeMaB1fJiNibtSx+N5Uh23TaZzmDUJVFWs48OsH+7NKoD9lv6QDsctmtsGCIQ7edtYPf300+gUy2MJNxnnssiyxU5RiqqDf4NmRBFvKgfiXkXS96uFZ1E67AotK/kNEvriCYv0sKg2EGu7aHwQ00HMFfUpnmTRDN2Ub8FYtKylhjkK+NVDYIWVUg0yZVbzG6S1CsiWHWkS4QZV1S0aH8RU2Nkx1g+IdXaYjYm70jjJYVb37muQOZ6IdXaYaWc/3JsNLkdvFyUha+r6juc92dQ5eksoEWv1eiZiiVirCLQhn8OsVdASsVYRI5+gtQGaQ3LZi/Zwy6MSgUQgEUgEEoFEIBHoGAJJyDoGZVaUCCQCiUAikAgkAolAewgkIWsPtzwqEUgEEoFEIBFIBBKBjiGQhKxjUGZFiUAikAgkAolAIpAItIdAErL2cMujEoFEIBFIBBKBRCAR6BgCGTqpY1BmRSOJgJXAIvRn9aSWw7AoRskZKGOZDwKWJZt44omLmIV5X3jhhbJr3deIRyTHoiQiSkWRFXqrRxX5vkpYVdgKcNZwETshlotrpvtiYVl52DIrltOLFeDKUdYxFgC0Gq6qFPVGQt8tLCwKpKBnNX1v0EELrFhjzwIr1eirIW816YUXXtiihg0OH9NFVuSxUqBbT4yyWWaZpcm+WF1CeFlLQqy66qo1y+UIUgTMDTbYoMmqxqJYgjYWr1qdNruQ+RsSgQBuSLEUKAgMN2KCSx5xxBHW648TCTxw9NFHP//886UBEi+99JIABhHBk5glcy0qG/KWhL3wwgtDWPCljTbaKPJt11tvvVLJwQcfHHERxBF3xpI/HIlowHDU3Kk6RZeacsopo50SBcAG9YtMajVdBFeYiquvvtpKclVhb1BFgqtWM5tPdz9i1nkuSw8afsj9kL1DW5dZZhkD9YQTTqhG44gDZep1iSE2ZG0DBbocNN0vqwxi/GeeeebALtTkGFQ/+tGPkDDhPa666qoakIWts0y04VpzVPO7XY6YjiRozV/NLpfMlfqbukDdf0821Y0RFBoZxIQwihN95zvfGaxzCEHIeJmRES59wQUXjBxho8pRVSXNkUceWfK9Enypl93hS4wMYm23X+xOaxFDaeqpp46mSjSuLaJy0Ufef//9AyWpNERcUFWvErLrrrtu5ZVXphoUJSLCdQxJL4SX+PjHP7799tvXDQXhElDxQqxXCRn9q5hyZ511lpvUt5CeUlfXkPiagYR+4a++rx544IGaotgVV0M9PUzIErS6132MZiYha+rCuaX9mhJNofcRGBnEtt566ziRwJeDAR9PZGJByIgJrB5HLbbYYuUo0TBLvASf5kxpUeRBzwhSxIYvMTKItd1+LIEdzeFegcHJJppoon/+85+DVXj55ZfrkeBg9913X10ZseGjyz1MyEq4M9pEnd17773rQhGZ4GVPX3HFFetSEFBTm2222Wbq6VVCJgCJ0LQFIgPDLVkwLPnVxLbbbuturQZGq5YiuALg+gDrYUKWoFWv+FhPpw9ZvBRyOyYRiPWgGzd9oMwcc8wRhzz++OPVY3/yk5+InsmfTGCltddem16H9YROItQSVcluSwviybXLi3yVVVahMAhmaVfUee8qrksUD9704cN01FFH6aAuMKLZOhYP2GqrrfjrMP0w8UTveCkJdYq8YmAwPOaYYyKfkREzYBuiehzMjUyo1uBbVETFTByHx5YWBNN1xoGOgFWxYU3fe++9Xv/6DjQv7HIu3kuUW3iAFzlvrcgX7fTiiy9mIl9kkUWEVX311VfXWmstJKkMIX2hzmElZ4d1CB4g4GypkzeYi1IUuiW/JFwRQe5BbRAOHLHEhGoVtosMvWM5aoQTvP1+/vOfI45LLLEEZMp9odmQdL8Id2b4FReuJ5988oILLmC35cXFYA0T4+Haa6+l1ImWG5aGkKErRKPBKYCv2L6lU0YaxBo43hmExid3gnKZyrESr7zyiiINtq3mj3B6/IeZ8G79BtoIX6MuOt1YZ5Qj0/64YCNzrt44y8ggRq0VJ2qgIQulArGiISM88ChVeQ1jCSVU5XzzzedNwx149dVXH4GL0h5i3m0i0zuW1mS22WaTiIjsuMLyyy9vd9dddxXhWALtIKwjJ510kl0/ii7BT9nIpPEJnANPer/kvcjuYn0S9iaQc/rppxcEAiLmS+CUzJqExkQ9OMT8889vBgD/syLjPe3U/K8jMPyoaMhcbvyJbXq55ZbTWX730Tw5orsiPbvvvjtitPnmm0PSiz9Cvq6//vpYhYD0eic6KnPkSiutJK0j7Ilq4GhInzrvvPPGbtT55ptvyoFtQWBgQgPUgwK6fJrkRPfcc08Rw6pxHXzo5ptvJjYqGjLX3bwWrvHHHnsscskIG8PptddegyRC/9Of/tSlBM5dd92l5e6aYGwHHHCAOQ3YlZafccYZGGdMjuEDGrrA6Puhhx5a+ithyEH17bffrmbWpPkSqJPeEVzGmBMZw0XG+PftYXfxxRcfLQ1ZR4aZb4O+Aq1cwT5MpBmuqYvutvdrSjSF3kdgZBBriZBhZp5rrJyhgUBf3njjjXK5gpDZRR2i8bac/buckJ1//vnaSXPj3faDH/xAOt49wbp4lGMDOjXVVFMp8saS5qAj7Rdu5hhA7OqpUmwgdu+++267tEGmB0rEzzTJohWjARqMk9F8RCX77bdf0V5Q16nE28V5Iz1ahAx10LzoL1IlHX284oorjI1i/2KlVUQ1qNkypc0doewBdUzZw5nAi9Hinf8/QP/3/9LxmCRYdvfff/9pp53WsZgcDlryaxKAIoN1nX322fSU6mTtDWZD3Yjx3HrrrQ4ZLUKG6NCYmpkRzV5zzTW1Npq0wAILGAmR//LLL1No8egKIhU6Qp8EqJupMw5BkkjGkNPTOOqGG24wYCJtC2HsyoUwesEStK+UlgQ3uyB5O+20k1FKm6t+GrgQwFmdPQjfaBGyDg4zneoT0Mr17c9Ekoymrrtb3a8p0RR6H4GRQawlQsaYwsE8GuYFUPOgL4RM82lHQsx2k0026WYNmVeXRnrlaDb1zJZbbmlZBOkw/dBMSPtRXRALnzli0TtaDUUUFbEb7jvXX3997CKjStnIeINJxM87OPzTQwaD4ZtPi1b9yUFQCHihOgplwS3sYht2Of2oM2obLUJGs0I1GG2wve2229AyCVZIuh/WwygyeU2zzTywG6ZVAyOKgu8yYtoFIzGsQhqZoFgNmdgybkIp5pHEZaqWlnRo2h599NHICTfHoCk0oKx+kT9ahCyUWDG0tMSXzKWXXooSoZj6jnSWjsSEZXZwOSYsKy1OYOhsaENffPFFtN4QjaNPwz+UAABAAElEQVTQOxCVGlRrci69V/AtXS5F1QQLqcrNMolMlDGILzbMjkyDix1G0WgRss4Osz4BrXqJ+zCdC8O6qfPXgwhwTHE/Vzvm2U33EDloBwNltbSapkkq6z/R5VSLui0dRIHrkoaxFulgOG9FfjG/xuILrE4D2188gagTlKKt4WNHU4imPPjgg5zPylEoHSd9+EQOFkLfhhRWfyySNGcEKDlcAiSYwc4ufsOQh2owhtKU+AXjsV1nnXXKKUYg4YWNqpYTLbroouyPdtFNhCwUqHaZKSeZZBKqHcgUlOKoYPbhiodiygwKBf8y0SQk6SaRLWQXqtRszI7yAUKpGb9gpa+//rr80ireVHa5o91+++1oEJDRMj/LuMinejFVJa6X3RH4hatcaZ6W05bh2RBzdqCVNkR3YvgNBM1XEEkqNDejrukgTy/0q9xuSlU799xz77PPPvTZdq+88kpbDO8DwN77p12rQUwbXEeS6uQ0ZuRTKQVoWCPYpZFIAiP26+wwawO0IYdZF4I2YlenO0+UTv3deV2yVeOFgDflFltsEW+FakVUIPyBOLIgCh7QFBJVb+4i6UVyzjnn0GrgFiWzOxPh8szP2vK2ZcU1TcUkOPeEasourYNt4WeN+7LDDjtAzyE0NOxBNa9VuxQ2MAxXMHMtq47YatYMWjQf9K6CZVEhHCCTDA4R5r/SBhq1G2+8seyOQILqBQnQtuJ+zvPa5AMN1hharmAVWkJAf/0atAqZY/Gk4/ECxh74Qg0UdiHoWRngAgH81dlDLK4a1REDKOVlqHnYByeffHKIobZUdIVJc353FH5m7gVy07hhA5vRdk4oq3zGsAlGJYYHoIKSsm6XmgNS3mYlp24Ci+Xvj8VivZTQdTsCMTdpDF3Ta3C4UhU/d2Zcu0XdK00jxYIPND8Vllaxn4LdbrmspZ5hTXR2mGlqq6DVHWbq6WbQhvWKjIHK+1Ar2EaX40K2cWDfHjIyiBVthK/hKtQ+oL3SIqcsexGu0DxyytuieJyQZOwzIataCXVOvCy72WSJYgbUoIjGP/30097WkV9Mll5gxOhdyJTHcZgsOT5HDeESRMBbP3QhXmzhgiaT5UjNcQrbcNmpOp6XIonwZlNtOKLxc5decsklNYyZr/zCU967FkuuHt5kOprdpHBVzCRBx3JOj0y6FlYzaS8w+cVl3lscr6VxVBQuUMVkiUyQtI0aLK9glxnU2qSRM3CLdpQxObA0FLEIShSxCVJq8tirkRwtkyV9sw66Xq5gNIlJUWaQHlrA0s7DDjuMZMwI4WsvXUyWmKtfkaQG84VgZPpyKJnVhErwqup0kGqptJHDDIqxRT7waTer0ykif7RMlh0fZrrT86DFJevbbfpFNXXpPVb8mhJNofcRGBnEiqnLKhUBPI3CRRddhEkUV/SgDtpj4YCQoaEJE57McNmWz9N8l112CYGyRdG8ErqZkDEghonN1pRAuiuGG29NHutaLtMiDhgYlx1pGg5dC78ffQ8W8v3vfz8uFp5UOq4emSqMHH45dr0+sTf6Bt45mAqf9yJfk6Cu8+p1COORIm8RjeF5XSMWGovwK6opamY3mt2MZI1MWMFg4hVuyi0iFW74DIvayfsea3cILSDrGEWgtCKn42gYVZkDaJcnWexSFCEHEKaUjRxbHIuFEduTtqwdcl/D+IukBHUXRSN6EaeONXXDs60qNlqEDDc1W1aXeciZtMteycgYDaNGlR/uZa47M1lBKQyvgQBhH0I6WLpz8sknO7A4FMqnVR03bhx/RGmUVJHB7NTlkJpEeLahgPLRPjozy2TUyNgdLULW8WGmLz0P2sDL11c5STKautweHH5NiabQ+wgMN2LefMwZVecVSh0vxWKk82j2KqVjKNyL3w+GERPjCwtRitWZKabBCAc35JqZ9lYM72ZCBmzW1VhHACEwpRH9ijHIGV+XvaXMJ8UGijonXG30F6lCKWICpl1ExCKTcazF2CBZfMwZ8mJNDWKqYlazhkjNrIg4sGyplDRGw7idcW7jD1SKSsLLW4UjT8g0AKtAyJwdA6uqV7FGtkIDiQWTrTA8EbHb4I7wROv5M5mg4FgxeejGojsHHXRQmWwYOeEXZVBxMEf3B9MmFjQohJh6ndQnBI7os6EUlcRoETIN4OpX5nNQ9ZUZoxikBhstCKWeuivRU/I4fdjT0TLKV3cixPwkQmdGEQvPajfR4jiEv5Qxs/POO8fdWro/MOE6GsaWxHNF6MKLtqwqOVqETBs6Psz6AbTqteu39Htet3Gf5LYBAl51ShOrBhDVFPUSYhQVZS3Zmm52cHd8ELNWFocer7HCrqJhtAtYqS06hXm01FpsrMbnxik4R+MKzEzR2iEr5CmFIKJ6TcoPWWFVYHwQUw+WiVV4kRdPsqgcXPItGIuWVU/XOK02dBYjKWLq4duHnUAMLSv5DRKeMHiPKxXG3AaSbReNJ2jM1ugU9Wf5zomW6DtdrAFT/UYaspFwDk1qkQQXYsr7KozsJb9BAvJwNrG3SZAbVFW3aDwR6+ww08J+AK3uheiHzCRkTV3l8bwnmzpHbwklYq1ez0QsEWsVgTbkc5i1Cloi1ipi5BO0NkBzSGsfze2dI49KBBKBRCARSAQSgUQgEWiAQBKyBuBkUSKQCCQCiUAikAgkAiOBQBKykUA5z5EIJAKJQCKQCCQCiUADBNKHrAE4/1MUFvH/2c9UIpAIJAKJQCKQCAyOQE6DGxyb+iWpIauPS+YmAolAIpAIJAKJQCIwYghk6KQWoE6+3wJYKZoIJAKJQCLQlwikTam9y54asvZwy6MSgUSgNxG4//77LSAsKmJvdi97lQgkAt2KQGrIuvXKZLsSgURgxBG48MIL999/f4viWox+xE+eJ0wEEoG+RiAJWV9f/ux8IpAIVBEQhEc8n2WWWaaamelEIBFIBEYAgTRZjgDIeYpEIBEYMwgMUwSeMdP/bGgikAiMEgKpIRsl4PO0iUDfICDU5qWXXipA4bLLLnvuuee+9tprq622mqjnIl3KF516zTXXLFEg//a3v91000333Xef+Jvk6ateeumlRx55JNASF1Lw79gV8FEkRPGkRfgmLLr8xRdfzJtYbVNPPXVBV4zF6667TgTGBRdcULzzki9Rtyj9kasQZToRSARGDIHUkI0Y1HmiRKAfEcCusKW11lrrjDPOwIcOPPDA3Xbbbb755rv99tu/8pWv7LXXXuPGjVtqqaXefvtt6AicPOWUU1577bUY1dZbb7344ovjW/KvueaaFd//iTxtsvM3v/nN/fbb75133jn77LNFB19nnXXOOuuseeedd/vtt99uu+0kXnjhhcD6qKOOYn8U8RoLdLottthC+Oohi0Igt4lAIpAIjCgCnm75GxKBuCRDiqVAIpAIDETg4YcfdgdNO+20v/rVr5Tuu+++dr/whS9QUP373//eZptt7N54442KNt10U+m//OUv0uutt570M888ExXiUnZ33nnn8847j2LszTffjPxzzjlH/iSTTILhccbHuuxutNFGSq+44grqrjvuuCMk0TVFxxxzTOOiO++8k9hhhx0WR+U2EUgEWkXAHeTX6lEpnxqyGDm5TQQSgeFCgNJL1auvvvocc8whsfTSS9uuvfbalFsI02KLLWaXXdJ2yy23PProoz/+8Y8/9dRTKJecN954w9aPrmvmmWe2/c53vsM0yZQZ+VNNNZUExdsiiywy55xznnrqqR/+8IdvuOEGmWeeeeYEE0zAUhmSO+64o8SJJ57YuCiEc5sIJAKJwAgjkD5kIwx4ni4R6DsEMKRqn2mzqrsTTzyx3bAkzj///L6SGRknnHBCtKwqNtFEE5122mkUYJNNNtmMM85YLZIup0Dapp9++ueff/7dd9+99dZbGSuLTxifM6emcqOWa1BUU3PuJgKJQCIwMgj8rwflyJwyz5IIJAKJQF0ELrroIn5jG2644VVXXVU0W0VSJt//J598cs899yyZAxOmSXJB+4//+A8k769//Ss7aZH51Kc+ZVoA9tagqAhnIhFIBBKBkUQgCdlIop3nSgQSgUYI8PefbrrpELIiRJsV6auvvppr/2OPPfbFL37xiCOOoOIqMhLmZsbuK6+88sQTT5Cx+6UvfcmWb1kU0b2Z17nooos2Lgrh3CYCiUAiMMIIJCEbYcDzdIlA3yHw5z//WZ9jKxHkie4qgIjdKGVSfO6557iIXX755YcffjgBMy5POOGExx9/fOONNzanksApp5yCWm2wwQbYVdRgW/jZZZddZjfmDVCkUYZxGjNLQKaZmFzKvvvd70o3KKppLeH8JQKJQCIwEgjkvIZmEIgr0YxkyiQCiUAVATot7vbuIFwKDaLomnvuue3y9OeJz0ZpQTK7HL+Ej7RKmWXG7HL8/+lPf8r9y2TMm2++2QxNXmXiGqnZ8hl4FZmZZprJmhrhv+8okwNWWmklnmenn356aQB+pkjltGX/9V//dcsttzQuok6L5pkrcOSRRxbhTCQCiUDzCLg9/ZqXT8lA4EP+ArvcNkAg/IITqwYQZVEi0BEE/vu//9tSsZ/+9KfV9uqrryJGxSu/bv3WyzAJ4Pjjj7eKLOUWAoe6VSUZPS1vNumkk6Jl1XzpBkU1krmbCCQCzSOQb8zmsapK5izLKhqZTgQSgVFGwGxKv2hEdcH9IZsVmraBYqyWWNrAfDkNiurKZ2YikAgkAsOHQPqQDR+2WXMikAgMOwKxUFnVn2zYT5knSAQSgURgGBBIDdkwgJpVJgKJwIggwM/sRz/6kQVm+aKxVJqkOSKnzZMkAolAItB5BNKHrClM0yLeFEwplAgkAolAItD3COQbs70hkBqyFnBr7FzcQkUpmggkAolAIpAIJAKJQAWB9CGrgJHJRCARSAQSgUQgEUgERgOB1JC1gHoue9E8WKmybh6rkEzEErFWEWhDPodZq6AlYq0iRj5Aa+PAPj8kCdkYHgAI4p133vnss88utNBCs8wySzM9ue+++/g+zzXXXFXhe+65R7y/aaaZRhjBiPRcSlWu1NKalnoSp7nkj9GEuXjC70wxxRRLLbVUzWpVdXv09ttvX3HFFeuss05NaSJWA0jZTcQ6dVcaq8IPiGdgSds55pijICzxz3/+02K5L7744pJLLjkwznpVcqykOwVa/9yYnUKsr4bZGLgdXNf8DYlAXMghxUZS4De/+U1Z6PIjH/nImWee2fjsv/jFL6ycqSPHHHNMVfKb3/xmGaYqfOihh0rpsccei6WZuWaBdauc77///qVoyEQXIiZmjoDT0bB55plHxJ4GvbDE6AEHHCAW9Sc+8YkasUSsBpDYTcTg0Km78u677/7kJz8ZY5WyYbvttiuY42Fuxq9+9atHH330iiuuOP/88/tqKqVDJrrwxuwUaP1zY3YKsb4aZkPeGt0gkMENmroK3fYUe/fdd7Ersfl+97vfHXzwwZpnVUzLjjfozI9//ONtt92WZJWQ+aD0cFckag01m1K7Ucmf/vSnySabrEShOemkk5Q+8sgjDU5RLSLsV80Z3fR111238sorC+Nzxx13ROTpxhQWMhdccAFdWg0hS8QGu46JWKfuSgivsMIKW2+9NW3uzjvvLBiUW+m8884L5Olr3ezOZddWLPZVV111sIsyMP/9+7KLbsxOgdY/N2anEDM2+meYDbwRujOni+7M7gQoWtVtT7E//vGPNF4FsTnnnJM98e9//3vJqZsQZEZHqoRso402ErY5hGk4PvaxjxFA8uSgaNJiPEepGH920Zq6NQ/MJOw3MH+0crS84CMkorbtvffeQzZm0UUXrSFkiVhj0PoZsU7dlfwHvvWtbxWcv/e97xmum2yySeT4ZPJFUUr5Eiy88MJld8jEe7dlN92YnQKtf27MTiHWV8NsyPuiSwTShyweUB3e3nvvvQiT8HmrrLKKIMqldsaFYAYLLrigx2jkv/POOxdffDELhRjMYiGL37fWWmt95jOfufbaa30MhQx9GLuk0Mgi/XF+Enr5K1/5Sqn2ox/96IYbbjikU9RAJ7CDDjqIUTLq0drll19eA1AQOTxXbHfccccFFlhABBsRnUUVXGKJJUK449vxR4xjDXIZDeNRR4vw0ksvUenJETmHiae0Ge8EBcRKzmCJnkHsySefpPBjtPUUFt4bIPSFDB99hRil789//vPnnnvOMHb3iZsU153x2t16//33W2AWv2Gnjvy6oI3AXUnpJTRnGZNrr70263l5jLBRUu4efvjhlGdPP/00q5MY7UW444nxvzH77VGWw6zjg7CPKuwSYtjlzYgB0WQjt9lmG2zgyCOPXG655Tz02R3iQDkzzDDDKaecsvvuu/ML2XzzzXGIq666Sqb6119/fa/JiKk8++yzU+f85Cc/CRf7I444IsyRqiJ56KGHVlvCqshJnzN1NbNu2lvH4VUNWY2YF5XHfcn0UU7+s5/9rB7VuJcVmcESDvQbrLQmvyOIMUeutNJKTgqNJ554wil+//vfs+bMO++8sRsnffPNN+Ww9ta0oe4u4lujIasRGxOIrb766kE+vNcZYdF3KGHYzzzzTP8g9sADD/B/32CDDXhG4tmUTL52XM3XXnvN3brVVltZ9J+m2Q141113yR8MtJG/K32GuV4eFDH2fvnLX/IlkLPFFltgkDvssENjX4WaEetAv5rMwXY7cmP21aMsh1mMpZaG2WDDrw/zm70z+xCaapebH14e64TDNR5FkDahT1Um6yFhHJii2u23315RcCOZ0jRVtBeerd4ZdrlEkNxjjz2kzz777DjqhhtuoCqLtC35r33ta6rlq77ffvvFC6aUDkw0JmS//e1v6dhoyMqB+OLXv/51DfDjZ1bym0nEUc1IdhAxZIvDzcwzz1zOS49oImrZNS9h2mmn1Tbc99e//nXJHyzRmJCNIcRCQbjrrrsaJHgYBGhD9bpPEKOEnnXWWb/xjW/EhV5zzTUhYA6jXQpg4ET+yy+/7BagoIrPm8FAG8m7UsO23HLL+eabr3p3u5FDd8t86QpG45vcjsqNqW0jCdpo3Zg5zMogbH6YlUMyAYEkZE0Ng+aHF9f4z33uc6XS2267DS2zywrpGfqvf/0riliL1Bke9E899ZQ0tVkUhfs8I6ZdM6pYKrGKKPIiQewibfuPf/zj4Ycf5gsVOg8z4UtR3URjQrbuuuvyF64eSMNE2xScDO1riZONFmJUHU6NueoIwupNVu0RczAA2YvJWOOjWlQ33ZiQjSHE1ltvPV0uXnTYP21QdLkfEAvV8mmnnRZdFo/80ksvdfsg5WCpTh/miiQnPOgHA20k70pPj0kmmaQ691kXKPl8Ufjw0NS5557bygXRr2a2DvFrRjIfZYFS84jlMCvjqnnQyiGZgEBTd2Yi1fzwYk2outwW6LhhUd5UP3M9Z5GtorEohIyvj9PZxrGYnF3ECz3yCK7WUCqnQiMzbtw4ORZ0YGWLX3nphmQDQoZsaTYHtVInxxqmHAYROXxWKOGYvXhlFYHGidFCLLSSXPc0z6xSBqaB7fQmtrAT8LnHKm2AWANCNrYQYxB3RQohYxP3C2T6AbGjjjpK98sMlTIkTjzxRPmHHHJIyeEeIIe+WU4D0Fq9K88999wPbsr3/qsW8wZ3JW8kA9WxpXkSJ598skeHmTdo5Ze//GWtpUKrCjROk/drLBOl+SgLHJpHLIdZGVfNg1YOyQQEMnRSjJyObSmrkCffrKVGXrEMkXRj1niksyn5fIfp0opnccmvScRaFccddxxuwamrrjx/F+o3PMOxjJirffCrerLXVFvdvemmmzxK+DvHLMso4vrNtkUJZNebyaJHeuHdUD2wI+nOIoZnsBFTg3FXv/LKK6P9Ne2cYIIJIOaK6JGiRKwfEHOhr7/++jIS3CwPPvigMSCHX3zJD4/+IVdbbfWu5IL5wU353j8/93LGwRLaxp3fLV+zLjH1mNk/PDtNA+JY5iPtZz/7Ge+CweppO7+zN6ZmtAraWLwxdTOHWdtDLg9s6lMpqWsMlGZw4OVN2EMzhF9//XV2RmkPF/kmT0U+KuAzd+ONN7YbPj2DacgIsEqgSh7iHJDj8JotnwlEreZLukbGbnyLo1bVIp40LKdMqJGpYfH5HpbT4oDlBeYBHUq46uGDpUcRsUsuucTZkV1TRAdrnvccp6LBSks+DZkoBWU3EmMRsQbKHp3qecTCL97smb/85S9xERn6ZQYVM324XOLDDjvM4HFDyWkM2rDelW433wwWvCgN85n36KOP2mVurjqSsre6961ZUyQbJ0bxxtSwYQVt1G/MHGZl7DU/zMohmYBAErKmhkHzw4tWhjBzGDaw1157oQXBaZAhz02eH2+99ZZTmuPmA9e8eungSSY0RVPMmlQDPlRaxkghxzrUJYcXC25kBr4clgtF1n/CpYpA3QR59YQ5JgT4Wslh4Ntll13MotcGRpDNNttMqUe8OZ5WpwxJMZe0v0xKqFt/NVO1ftWcwdIdR4xqgUKC0xvnvHLSU0891eoA+LEcGkHmGBrBUjpYAhouZRXYMYoYZulyRPd1lgbIe730uucRcwVNH4YAn0ILRvDutyRmdB+5kR/uZca8GbjlTmwM2vDdlSzLFiVx97kr/TxJLNHiwyAWCPRUMSaL84DF+n3slUs5ZEJn/YYUI9DxG1OdwwdaN9yYOczKuGp+mJVDMgGBpu7MRKql4eWJ74npEAzG3KKCngmMnqq4giW+KKV8TinirhuRJXmW7LvvvryJTWV37EwzzURvEcdy7VJaJUNIXqw6ZkaYifq4lAk+5UR1Ez79Z5ttNjXTB4TqiFaM0iu6Vt3G7DOVcHy2+hHfsjXWWAOzLKv2162/JjMqrMkcbLfjiFlfrUydi5N6AWsSRSNbD6exmMQ6WHvk48pMRa6go1RlcobMMYqY5cditGAYLm4x40oUr7KeR8y1M5JjWFKOljm2PpBMW2HFNnXG2LAiK3rqWg8J2jDdlU7tiyjaWd0KW6nIj2MZpTuHVAZNIxkhe+WVV6KomW3U2YwkmY7fmMMEWvfcmDnMYmi1NMyaHI39IPYhnaze9pmuiwB1i/zmseIu5omPWpVFJqNan1DyLcGKltU90WCZjuIdVS312mBYwaia8UepHthSWoM9Yswk0JdgmU0ePrqIwZ/Dvvdraa2OWBEUaJhl1VWuCHQqkYi1iuSIIaZhVlLFQd1KJapptNZosWizT6NYTqLJLozWXal5eKQbMzzJmmxtiI3ujakNowVaDrOWxkkIj9gwa6NtPXlIErKmLmurT7GmKu1poUSs1cubiCVirSLQhnwOs1ZBS8RaRYx8gtYGaA7JWZbt4ZZHJQKJQCKQCCQCiUAi0DEEkpB1DMqsKBFIBBKBRCARSAQSgfYQSELWHm55VCKQCCQCiUAikAgkAh1DIAlZx6DMihKBRCARSAQSgUQgEWgPgSRk7eGWRyUCiUAikAgkAolAItAxBN5bLit/iUAikAgMhsDLL7984403LrbYYlYMGUymmm+tqYsvvjiWuS/5FptQiZVprbVrGbCSL2FV+gceeMAaLpZKtlSYpe+qpWMubXEcywRaRENw7llmmaWZ9lt12UJxsR5hkRd+zaJxFnCxbKGIliVfQqCkm2++2erQFicbMspT9cCuTXcKNOsLCk9n0ePFF1/cyrrV/roiSq0Eucwyy7S0uEm1ku5Jdwqxvhpm3XP5Bm2J65q/IREI+IYUS4GCQCJWoGgy0YWIvf322xayj9VxzWNffvnlhZxv0J1XX33VOvJTTDGFvlTFnnjiiSpvsPCpRaFCQPAiayA7xOLG6IuXqKjt1WMbpLsQMWuDlSUGrdt35plnNmi/IlE6IlTAMcccU5UEC3oaHYT8dtttV0rxMMtKW6xYDDSrwopAgGqU0iETPQyagCXRO1tXwZrbBQ2x7LC03Xbbbc8994SeeFOlaMhEDyPWV8NsyAvdDQL/67nZDQ3qzjZ04T3ZnUCVViViBYomE12I2KabbkrNI/R4rCqkhSeeeOJg3dlpp50EjYhe2BYxqwpbiBWrq67FKpIVAWqzqaeemrA4AXYjtBce8/zzz5fDGyTiXA0ERrhIT7EroWDFODr44IM17/Of/3yhnnUbg31GyO0aQiawhKhl11xzDZ5qUX5VieERNQggoVrnsmsrVseqq65at/K6mb0KGu0XpgXP888/36DVTbuBgNgGQqWVQCMRpfeRRx6pi8/AzF5FTE/7Z5gNvKzdmfM/z83ubF+XtKrb7skugaVBMxKxBuDULeo2xJgRReCOph511FHRPPFA6zZepkCQEROzpiNihnrui7hKtRMBrAgI++OQ22+/PYS33HJLuxRysRtBWgc7UcmvOVHJH62E5f5pvMrZ55xzTqaxEpyq5NckWHJ1pErIGN1EcCpiQowT2GSTTSIHz2DYLaUMcAsvvHDZHTLRq6BttNFGjz/+eHTfUIxoHBH9E0XT68svvzxKY9Rdd911Q2IVAr2KWF8Nsyav9aiLpQ9Z3G65TQTGEgLCQJ177rm+8hdccMHVVlutGATFpTn77LNFVV9ggQWEaAxvLXQKVdI9oQ9t6VoE79pqq62YCH/0ox/95S9/iZ4Tdshxxx3HLkklRjdTgj+K80hGnC5huUN44FadMinJvAWrpWxqP/vZzyaaaCKZQrviZxLRsBlmmCEkf/rTn+pFRHF1Fgwj8ju7pSlxdtAtscQSThGmWKfQX0Tq/vvv1wD8poQ7E8/0ggsuENTSq+vqq6/+whe+IOY3skgvFQ2jD6PPE5SW2xwnMKFCA6go1RFBwSOKaIOODPRnovQ6/vjjyyHI6wEHHFBc6+DJEirKpAskEhSrE5ZchDueuPfee4Hj4q6yyiqlDc7CTorToJtGYLleIupyH2RsXWSRRYTuZcJea621xHYbAdAoWRklo/tay7yuAUIAy+GEZyuAr5uCRvaMM84Qz9cYCOGOb3OYdRzSPqpw1CnhmGhADIgx0dQuaWQi1uqFaB4x70ikwYsw7GJePzxznc5rjw+W+IbelKyECAFlgPyw0ajf24hjfpjAsDGvT/a1OC92wq0+KpFT7DtyGN2YyWRiCXYb/7QqKqwrdtddd0VpNIyMuQKRw6CpzfqCA9U9dmBmgxMNFKbwQ1s32GAD7kQ4EK4ZVr/XXnuNBRA9RQrptBBKjXT46quvHowNGeLiBkyn8y7/yU9+Et7iRxxxRJgjGRYVHXroodWTApCTPp1fNbNuGt1xeFVDViOG8BG46qqrIv+Xv/wlA5ycLbbYAoPcYYcdGltFa2pzoF9N5mC722yzDXCOPPLI5ZZbDhp6GpJykOlTTjll9913x90333xz8wy0MBi2+RzIa9ivXVOkbeRBw7cw19Iv+kW9dmvoUY17WZEZLPE+YM0ilsMsYGwJtMGQ78P8ZsdZH0JT7XIOryoazaQTsWZQqso0iZi3b8y549NNtTPJJJM4EFXCruJ1yJdLtaFioaugACsqKxoyh1BTxbnC69m7NnbpWhxIr8BprDSMQa3osRCRYvcpAjWJxoSMM7VzmWhJYxcHopKht4s20KxoYU2dg+3GIYOVVvOBQydHvReZa665pmPNYbRLa8JBPvLNJ6XQoqAKIiWf2K677oq6PfPMM9L0LiQDQJrIOOqGG26gKou0LXXa1772NTQFxdxvv/2C9pXSgYkhCRl77nzzzVetxyGhV2O+fPPNNwfW2SCnedAwVMIxSB577DHpGBhXXHGF3t1xxx1xlu23315REEqZ0jRVQDBQ0V+7vLtIjiRoPi1cRyO54IAv0v5qjF/zs0bi8DiqVNUgkcOsgNM8aOWQTEAgCVlTwyCHV1MwVYQSsQoYTSWbRKwomSx8oF4qLq73L730EloQNdAAyb/oooti96abbvr9738faXogRVQ7seu9bvf666+PXV44dk1Vq7Kut956i80u9EPEMAMyTKW0ceVX9Y9uQMiQMNyLdsdURJXEDwfCCEv9ToEGFbr2gVT9/2h2/bL/nRtKrNNOOy2yObRdeumllttg4VVJdc4dEOSEB/16660nXZzA8AwqNDVwhmOpZJ2M2tA7HCXStqp9+OGHud9Fp+IyldKBicaEDBPCuasTBtXgElNBzTzzzJo399xzh350YM11cxziV7eoJpNrPH1qybzttts0xi4rJDpYrpGrqcLwoGcrl6Y2i6NCNcuIaXckQVt33XXpdEvLJdwCFJbBybDJljjZe3g1h1gOs4J586CVQzIBgabuzEQqh1erYyARGybE2MICW1SseooTTjgh8hmS5CMcscuUVkPIiod+qIgIh8rNW5ZiY7bZZqsqY+IUXroWp1ChlxmVjFdyVB5bnlWlJQ0IGQOrU6BxRZhGIfx+KDMOOeSQUqd1vIpMg0TINxAoRdHlKtGMIpNGVeLURTLYKs2WnFhKrRAy1je/kAwEEC/YIkYDESNGhabycePGSXP4489UftVr14CQ8UZyaRwbJ43tySefjKLReqKVdI1OEVMiqjIN0s2DhjpXZw+UOhm+Wb2rXdYeDFVO6BELIWN9drpig24VNPS9IBZUuLShAWjIlmbz6ivCdK4Mr2y7crjf0Vwyv/qGKQKNE80jlsOsINk8aOWQTEAgV+qPkZPbRGBsIFCcxGlNqi0O26WcCSaYwJaeJkrDm74qOTDtXRWHML3Rt4XvVFWM1TKsjSavORF1CP1Q+XlZVoXrph988EE1eDc7BQEMjFc4rV6QxUUXXZRl0EIPcSymWLeStjNDWVV0geqBjyZR80iz1Zaaw6O/TJIo+TWJWKvCBAjeUfyTBiJGnhcaAhoXgt+SWQvlx8+9psKBu9rGnV/l4cBXBKjHGHa5Q7FHc9tCB82ZYJIrAp1KAA3jpH4rFXJeZIjUMMvV4u4lH2h0aXVBKDISrYLG8lsQC/Nxtba6afpgrMjUjZhlGTImZGCK1GZ2kWy2fr1Ac+vWMD6ZOczGB708FgI5yzKHQSIwlhAo67mbIOkNhyp5u3g7lhmRjIz6E1sJJq0hu+ctxS5J40IlE+7PDuHtbuKhlyKNgl0kzJavNF3Ivu//6larMZFPXxIH2lWVOXpYiDc69mN5CK9D78ji3BbvcibC0PNVZ/PVPUurmdR+DmFYNCEx5jRIWOae37f88HyKOjVVAkGM3cG2BABLB8bfH7GrK/bKK6/gLjED0TYSdSVl+jiuFiFYCITpgTwCI59dGEq4r2gH4S8vnwLJRE7mUUqgIOLVSsYzDTTTJFlvg0hhZqZ2otRaRc1pWkYMRS1XhH0OebpWQYs5Kw2qrQGNUZXPPvpFh+copeeccw4TPMTslpFJobjLLrsUtXGD+lstymHWKmIpX4uAUZu/IREI1IYUS4GCQCJWoGgy0TxiTIQh7AXgZUx5ECvCUyfID1cwbyZpSixnD08pu7yd7H7/+9+Pw8O5J5qHkMk0Xa60NlRZQtAgHF5m3mGmQFbdv4pkNRFLV6jKCy/yqYjKVMo4ry1yptSqDaFUYGC1692viBHTG7Ra52DpqG2w0mq+9gf34gOHVfDutyJaCEQ3w73M+lXzzjsv6KLIMhZOURpDbaZtpVqmQ6Xe9yWHmxQDZdhksVtFKIhTF4G6CfLqCSNpCDCSusSmUMDcz3oNWJeYP/grAbEQcOJicbNYP9Jct+a6mc2DduWVVxJ2Lg1wUjqwMCUzF6KGnNiQfqcw85SuzhIh0mFJLACGeZ0nWWnJ8IEWPpR4P8QsCKIN7LliQji1ywpM+tdohkBV2l8mJZS2DZZoHrEcZgXD5kErh2QCAulD1tQwyOHVFEwVoUSsAkZTyeYRo5AoFhzvQiaYOIEXj0XbvUExCZZNUwLpohQVfQ9ro7ejRZjiXN6pIUDmhRdeoGJ59NFHS1spq1QVklQyXO/ptErpwAT7XTCYOIQDUEwvKJM6Iz+23KujBrZLsxppejgYaR5H8uoUgYFnqeZEVdWcBmlUsigRzbhEUkMYq9AYfUde2QGtyEqtpQhDDeuwTjGhhsHLGSXCq4yXkmZX3+v4ShyiRxBDCzjJNWiSosMOOyzUKi4K3hPCaEQVq0jT50UpLSZiTc/HoAlkhIwqrvFZqqUtgYa8xhjAYFzHUo+rhiCyw9KWUZ1amEMRG3rozMBChYpeBzvnfXjJJZfEscMEmosbzL4Gt+IlifFTuxoAa6yxBmZZXdWldGqwREuI5TALGFsCbTDk+zD/Q/pcM4hzdyACfJllJlYDkRksJxEbDJnB8ltFjArKm5jhzMuyWieOZbKbZca8F6v5Q6axsWIPDWHMj6cXRygMphlftCFPUVcAAbJOgXNRQYWxqa7YwMxWEVMDnRw6xTe/mFOjWqDpqe7r7MATDZaD1amqWhp9QQ6a8RKrHthqGo/07g9PspaObRU07mK6iVqV9XLjdLRB8ilN0bKWGjBaoGkwxFjS9aV8aTTT8lYRU2cOszZAa+Za9LxMErKmLnEOr6ZgqgglYhUwmkomYk3BVBFKxCpgNJtM0JpF6gO5ROwDJFr4T9BaAKsi+r++rSv5mUwEEoFEIBFIBBKBRCARGCEEkpCNENB5mkQgEUgEEoFEIBFIBAZDIAnZYMhkfiKQCCQCiUAikAgkAiOEQPqQNQV0WMSbEk2hRCARSAQSgUSg7xHIaXCtDoHUkLWKWMonAolAIpAIJAKJQCLQYQRypf4WAE2+3wJYKZoIJAKJQCLQlwikTam9y54asvZwy6MSgUSgNxEQMErEgvPPP783u5e9SgQSgW5FIDVk3Xplsl2JQCIw4ghceOGFgqBbI9dauCN+8jxhIpAI9DUCScj6+vJn5xOBRKCKgNA6Ihwss8wy1cxMJwKJQCIwAgikyXIEQM5TJAKJwJhB4GMf+9iYaWs2NBFIBHoIgdSQ9dDFzK4kAl2JwD//+U/RnUV4XHbZZc8999zXXntttdVW+/znPy9+pXxhGUXLFpYx2v63v/3tpptuuu+++0TdJk9f9dJLL4k4HqUiQwtrHbszzDCDUJL/+Mc/xK4mPMUUU1x88cW8idVWjYkpSOV1110nhOWCCy648MILVxGqW5T+yFWIMp0IJAIjhkBqyEYM6jxRItCPCGBX2NJaa611xhln4EMHHnjgbrvtNt98891+++1f+cpX9tprr3Hjxi211FJvv/02dESennLKKa+99lqMauutt1588cXxLfnXXHPNiu//hCE32fmb3/zmfvvt984775x99tliRa+zzjpnnXXWvPPOu/3222+33XYSL7zwQmB91FFHsT8KGY4FOt0WW2wh/veQRSGQ20QgEUgERhQBT7f8DYlAXJIhxVIgEUgEBiLw8MMPu4OmnXbaX/3qV0r33Xdfu1/4whcoqP79739vs802dm+88UZFm266qfRf/vIX6fXWW0/6mWeeiQpxKbs777zzeeedRzH25ptvRv4555wjf5JJJsHwOONjXXY32mgjpVdccQV11x133BGS6JqiY445pnHRnXfeSeywww6Lo3KbCCQCrSLgDvJr9aiUTw1ZjJzcJgKJwHAhQOml6tVXX32OOeaQWHrppW3XXnttyi2EabHFFrPLLmm75ZZbHn300R//+MefeuoplEvOG2+8YetH1zXzzDPbfuc732GaZMqM/KmmmkqC4m2RRRaZc845Tz311A9/+MM33HCDzDPPPHOCCSZgqQzJHXfcUeLEE09sXBTCuU0EEoFEYIQRSB+yEQY8T5cI9B0CGFK1z7RZ1d2JJ57YblgS559/fl/JjIwTTjghWlYVm2iiiU477TQKsMkmm2zGGWesFkmXUyBt008//fPPP//uu+/e+v/YO/NwKYrr7z9JNHEBQQmQoEaNPw1RkCgKbqhBEjVqXJBFFCQQJICAiks0riBGZJNHWVRkEUEBQZYgERTUoKiAYXFBJCaGIIKRRJCoaPK+H3PCseiZ6em5d+7cucy3/+g5VXW6qvrbVd1nTp0657nnWKx0mzBszmgalRtquZiiSM1KCgEhIAQKg8BOL8rCNKlWhIAQEAJpEZg2bRp2Yx06dJgzZ45rtpyTTGz/33rrrZtuuskzUwm2SWKC9o1vfAMh7+OPP2ad1Hm+/e1vsy0A6S2myJlFCAEhIAQKiYAEskKirbaEgBCIQwB7//333x+BzJnQZhk9d+5cTPtff/31Y445ZvDgwai4nAeCvZmWfP/991evXg0PyWOPPZYztmVWhO6NfZ3NmjWLLzJmnYWAEBACBUZAAlmBAVdzQqDkEPjoo4+4ZztDmPCE7sqAsKSVsqT4zjvvYCI2a9asQYMGwcCOyxEjRrz55psdO3ZkTyUMo0ePRrRq37490pXVwNnls5kzZ5K0fQMo0lCGYTTGLgEy2YmJSdkNN9wAHVMU6S3MOoSAEBAChUBA+xqSIGBPIgmneISAEAgRQKeFuT0zCFkKMQhFV6NGjUhi6Y8lPmuUOCQjieEX4SPxUoabMZIY/o8bNw7zLzZjLly4kB2aWJUR14iacZ+BXAXPoYceik8Ns9/nKjYHnHPOOViejR8/3juAfEYRlaMtq1+//rPPPhtfhDrNusdegSFDhjizCCEgBJIjwPTkSM4vTkPga/wYdjrHIGB2wcIqBiIVCYG8IPCvf/0LV7Hf+c53qG3jxo0IRm6Vn7Z+/GWwCWD48OF4kUW5hQCH6BZysuiJe7N99tkHsSzMh44pinAqKQSEQHIE9MVMjlXIqV2WIRqihYAQqGQE2E3JYZ0IHe5n7ZZp2lLZWLVESkvNJyemKC2/MoWAEBACFYeAbMgqDlvVLASEQIUjYI7KQnuyCm9SDQgBISAEKgABacgqAFRVKQSEQEEQwM5s1KhROJjFFo2VSjZpFqRZNSIEhIAQyD8CsiFLhKlWxBPBJCYhIASEgBAoeQT0xSzbEJCGLAfc4o2Lc6hIrEJACAgBISAEhIAQCBCQDVkAhkghIASEgBAQAkJACFQGAtKQ5YC63F4kB0sq6+RYGacQE2K5IlAGfg2zXEETYrkiBr+BVoYLS/wSCWRVeAAgIL744ot/+tOfjj/++MMPPzz+TtiGhjdz3KPjIfPII48MmQnDjCd0zyF2zb777utJI/Cf/sc//pEogT/72c8iRVUoCQiE36lVq1bz5s0j3qpS7+Lll18mDOJ3v/tdoitaAGznEWIORUgIMdDI16ykqvfee2/z5s2GML5wf/CDH4RoQzOdV6xYgZe1Cy64gDCdkdIqlMwXaKUzMfOFGIOkdIZZFZgRPFcdWRGwB5mVrZAMf/7zn93R5W677TZhwoSY1l966aX99tvP7oL/Lj179gyZx44dG45U5LawlIZwvIkYRwSbNWvWhEUxdBEiRswcAk5bx370ox8RsSem/5dccoljAs4IoyGzEAvRMFqIgUMeZ+Xnn39OKAIfhD/+8Y9DzHFpy/ZShLCrrrqKmOvxgzm8sAgnZh5BK5GJmUfESmeYhbOgaGkFN0j0aIrtLcYfQfySE5vvr3/961133UX38IrJOzrTzaDW6t69O8qha665htgy8D/22GPG/MUXXxx22GG9e/e+7r9H//79w0qeeOIJ+Hv16rV9+/YwPytdbIjNmzfv3HPPJYzPCy+8YJGnY0RYND2E2XnggQcI5oP2kXsh6bcsxBwKJ4QYUORxVlIbHj2OO+44m5WcQdjRRvziPxKa7GXLlnlmQqLYJmYeQSuRiZlHxEpnmCWcHZXOJoEs0SMotrfYP/7xjz/84Q/e9YYNG37zm9/89NNPPSckWHf7xS9+4Tm/+c1vuJ1OnTpZDpEBiQDopSHBMiUBZ84+++wYUS/kD+liQwyBzPEhJCLdu/XWW8MOh/Rll13GGq7lEI2HhVr4kX0tR4iFWBktxMAhj7MS2YK/WJnkrSuuuAKlOH8tUh9E1pxim5h5BK1EJmYeESudYZZ1XhQJgwSyRA8i17cYf2cHDRqEimXTpk1hA2vXrmXhj6DF4csUQWHSpEmor7Zu3YrSa/DgwevWreMqcliMsAPFMjlEWSZJNOWwTmj+Sf/yl7+MZHqSCUx8QE+uXLmS28GFJjn82cL4jJc7CyL0NhS8aPGEE07AcuX999/3a5MThUcM8XEHWnPefvttuvq3v/3Nct59992w52Qiv2J7F2aGNEYVYfLCCy9krZOnQ2YVRWz16tV9+/blmbL2SkjvWbNmcS+lhhgTYeLEif369ePPDM/RHzGz46mnnkI3TGjzDz74wPPTglaAWUkHeA8wgw488MDLL7/cBrP36ne/+x1FEasDL81KFH5i0qUCgFY8E1PDjCee6zDLOm5LhEECWaIHndPw6tGjB/9ukbrOPPNMguXxMrI2yDn44INHjx7961//GkOuLl268IFEOCCT+i+99FIi7llM5SOOOAIp7aGHHjJbckQ0E5WoCs6777477PT48eOPOuqobdu2hZkx9LPPPksltAsPn2faQiAjh+P000/HiNiutbaaNm164403ciN0L1w0ianfiqzCrGzGkBfEWI5E1Ue7oMGnlJo3bNiAsfPRRx9tSWuLGySHD17CvsF22mmnIfIaf1VErGXLloxDkEHmYEPDHnvsAY06gb8HpYMY2qZDDjmkffv29957L+I4y9Ymk/GXidnarVs3lgjRNDMBFy9ezLPOBFoBZiWtY2DgRvq8BJAjbfhxtjV09LtMyTPOOINn+tlnn3lpVqLwE7OkXmUaZjYCcxpmWQdt6TBIIEv0rJMPL17rMJsNOCICNBv6aGP27NkIYa4YwyqLomHDhlFEJjS7+VhbRPDim0HSpB+EIWh/HaMbw3TMeww/b2SqRX+D/iP80+88qUTXrl0bN24cMvNCnzp1as2aNWnr4osvtkuokCRBaWgd82EsydCW2bcqtc7UHK7lSM1PzckjYghb9BOTOG/l5JNPZiOqJ9GO1KtXj44h+7I3zfNjiL/85S/sx5w5c2bIU+UQ+8lPfsJdY4rEc0cOgz7rrLO4oxJBjOfFFsXzzjvPHmKrVq1AwDavNGnSBHAsH80ozxrbLPt7kwm0wsxKuoSKl38UdBUJctWqVeRgymny9NVXX82Y/PnPf04pxpHW/yRn+DmScOZxYtJcYUCr3ImpYebjKvkw80tEgECimSmkkg8v/r8edNBBjtjzzz+PWEaydevWvFVZs7citslQp5mKs3URGrWZFd1///0kp0+fTpI3MuorpAor4kOCYGc0Z97Oy5cv57+yvaNZ0PSiTASdqV69usmLER66ZLo6ojVTZLoT1jeN7b777qNXoTgYuTyShJkjkpk2mV/EUHXQrq3qIrAieoaNbty4EQBR+8GDM4uwKBONhNq2bdu0pVUIsXbt2nHLbkWH9I82yG6qFBAzdS9b8OyWGeEzZsxg+iCUAwtiuj9fjOHIsS0vmUAr5KykY7fddhtdsjXKpUuXQrOGbh1GArA/GOG/Dr+XtASXc6QtimTmd2IWErTKmpgaZj6Ekg8zv0QECCSamUIq+fCqUaMGqyGpiNWtWxflTaiXQjBC2HKNhQtkU6ZMoTnOVgmSHEkELxbg0P2ENXgrKLHg6dOnDzk4dMCLmB3+0TXOf/7zn3ggw1DGL4wQLH9Qz6JFi8g3qWX9+vXGY47KuIvIJZmS1MORqTTMzy9ippU8//zzaQLbZxaYwraM5ksMDoCPtQc5MYhhV8fTDC3wIrVVFcRY3uJxuEDGOjWH3UspIDZ06FBu3yznwic4cuRI8gcMGOCZmAeQg3qYnBjQcp2VTLodk/LL33DFPOusZE8l7wq2VdKluXPn0j2sHbzDbdq0IYcb8Zx4AmaOeB4rze/EpM5cQYuZmFlBq5SJqWHm4yr5MPNLRICAQifZyMnbGWUVwhMOSL3GV155hYVIdGN4cURn4/nYiKBLM+Mez0wlkCrIREGFbMHWyLT82LugfkPOgJNFTP5A22FrLlYnHeDdTQ3oe1JbsRyURhCY1HBGmOOMFGhFrPiwprnXXntZMo/n/CKGnMEaMWowJEjMn9FvpXaVtVcQAxCeC6WZEFuwYAFv2CeffNJ2WabWQ44QC8dYMSPGw5o/f74/RCbLq6++yhggBy99nm+WW1ibeU5aItdZiSu7HZPyy98DDjjAqk0yK5kg/DvizxiXRGYlOWZSVvwTk67mClqmiZkEtMqamNymhhkg6CgjAhJLkyBg4CbhxAAcZgyHjZlNW6wzQvNyIX/48OGWjyjAv96OHTuSNJueTBoyGBo1aoRMwEs8smfTquKMnROCWozqi88PIggOL/wSpEZfjvTMa6+9FgewlhwzZgwdRhC0JKs8WKq5hZlfkongWo5MpWF+3hHDdxpNI+ziMzNsKKQRTBExw5wIjYERC8qsfVg+zyvUajhzVUEsRtnDvezyiNlGFlbkbasst8xCP5kmitWpU8cf6MCBAxk8TChy4kEr2Kzk3x0yGf8urJPIdqw4M6MtySDHijTctuL3kpb4clpW0sSkPwUDrVImpoaZD7nkw8wvEQECiT6ZQir58LJN6SyH8aK8+eabEQvMvIOd9shM2JJv2bIFPNnjhuv8t956C5oi6menoeHMrkmSWJI57A8++CA5eEL3HAwyWKBkrz45iEoUNWvWDKHBGUKChSrMftmrxUuKg4516NABdReOtViswVbsmWeeYQkA2QtzZnR4di1ro9iu8eq3DrM5lK+C2cOFlWeiKxEx/kDz0eIrFcYVQL7E3YM5NUCRw3IMqq9MnccEjf6z7glcuNLl0eABxByLVFHE2D/LHblPBzRAPFm//V0eMaYG+2RBAJtC/NFg3Y+rZLt9zCLJN/MyfM6xA9dnYjxoFTcrsRPgXwqWbeinlyxZwgzFss0flhkqITiSw9RGn8109tKsBDfLkZUNBr3KDKXkiGmY+bhKDppfIgIEEs1MIZXT8OKNj0DGJUhg7C1y9NgVhRiErIAWCu0Lf6cowr4eNw0wY1ly++23Y03MxkaSRE1Bb2HXYsNEqe/QJBMhz0IxIkKxUR+hAfNebyhCIElY/8OzRWLBgwaCC/kseeDbwgREvxw9ARZUdJXNXEiWYQecJxNhbWUqjeTnHbHf/va3vnXO2rIQnCga8e2EbUqMCw+0YoieIVZG26a8qogYMaNstCBhcBe+jAvhVmW7PGI8VgazPUqUo77Hlv8bDG9Wsfn7wdjAhTLiKWMmK2gVNyv5d2Tba+gtojOyV8RylPmCfv2iiy7iXdG5c2fXlkWmVdqkIZC2KDUz7xOz4kArkompYWajKKdhljrwSjbna9y5YadzDAImtSTHCnMx3vi8Lt2ZkFXOXyjycX+PWBbTXGoRV2EdFebz2UBgQnRwe5SwNDnN33G+SfzP5puUehW3zCsGydK/EKk8aXMqFzHwx2Cf76v3DeTxgwpoSJYxNmHOH0MIsRhw0hYVCWL0DSeryKBMJY9qah1mtOAomL9G2GKmvYW0mRU3K2kO79BMSXNMmNo6I5zxjGFZroO5cicmN1JxoGmYpY6TrDlFMsyy9rNEGCSQJXrQub7FElW6SzMJsVwfrxATYrkiUAZ+DbNcQRNiuSIGv0ArA2hcol2WZcNNVwkBISAEhIAQEAJCIG8ISCDLG5SqSAgIASEgBISAEBACZUNAAlnZcNNVQkAICAEhIASEgBDIGwISyPIGpSoSAkJACAgBISAEhEDZEJBAVjbcdJUQEAJCQAgIASEgBPKGwJfusnRUUQTwSYFDMrbrEz7l8MMPj78L/H3jg4rd8nhBI5JjyIyXIwtVaZn4NsPtWcgAzR57XKaxx94cekVKq0oSEPCrWatWLcIrmWuumJ7jqww3uThQJQwLbnVDTiEWouG0EAOKfM1Kqnrvvfc2b95s8OICA/dpDrURTOcVK1bgSOKCCy6IeNiJcBZ5Ml+glc7EzBdiDIzSGWZFPgu+7B7PVUdWBOxBZmUrJAPuwdyZGX5oJ0yYQUrYgQAAQABJREFUENM6IWIIDGB3wYbknj17hsy4KbciO5sHVGegIQIbI8aNGDEi9H3vDGmJIkQMV5/ufQrfsMRsTttzyyT4gWMCzgijIbMQC9EQYo5GHmfl559/jndoH4Tmydkbwq/eqFGjEMIIvDFnzpz4wexXQRThxMwjaCUyMfOIWOkMs3AWFC0tgSzRoym2txh/BAn5QnRFwh/ddddddA/PrryjM90Maq3u3bujHMKnf7Vq1eAnJIAx4ysV95K9e/e+7r9H//79w0qIFgB/r169cvIGTg3Fhti8efOIH0XoJ+INmMf2GBEWTQ/xCR544IHJkydb8GaSDosQcyicEGJAkcdZSW3jxo0j3JPNSs4g7GgjfvEfCU32smXLPDMhUWwTM4+glcjEzCNipTPMEs6OSmeTQJboERTbWwzH4kTA9K43bNgQD+MeBsfzjWDdjYAwnkmIcW6H6NqWQ1RNguV5aUiwTElQgbPPPjtG1Av5Q7rYEEMgc3wef/xxukd46bDDIU3oQNZwLYf4huYMHdnXcoRYiJXRQgwc8jgrkS34i5VJ3rriiitQiucUyswfWbFNzDyCViITM4+Ilc4w8/Ff5IQEskQPKNe3GH9nCQOHimXTpk1hA2vXrmXhb8iQIeHLFEFh0qRJqK+2bt2K0mvw4MGEs+AqcliMsAPFMjkLFy4kSejrsE5o/klb6OtIviWZwISQ86KVK1dyO9dffz05/NnC+IyXOwsi9DYUvGiRiNpYrrz//vt+bXKi8IghPu5Aaw4RcugqIdgt59133w17TibyK7Z3YWZIY1QRJi+88ELWOnk6ZFZRxFavXt23b1+eKWuvBFmfNWsW91JqiDERJk6cSNBu/szwHP0RMzueeuopdMOPPvqox1+nNC1oBZiVNM17gBlE7K/LL7/cBrP31mJ+R6wOvDQrUfiJSZcKAFrxTEwNM554rsMs67gtEQYJZIkedE7Dq0ePHvy7ReoiXDdRIHkZWRvkEBFy9OjRv/71rzHk6tKlCx9IhAMLE3nppZc2aNDAQtcRaw8p7aGHHjJbckQ0E5Woip4QRjfs9Pjx44nBt23btjAzhiaoOZXQLjx8nmnLQqGTSfBpjIjtWmuradOmxEfnRuheuGgSU78VURtHVjZjyAtiLEei6qNR0OBTSs0bNmzA2Pnoo4+2pLXFDZLDBy9h32A77bTTEHmNvyoi1rJlS8YhyCBzsKHBQqejTuDvQekghraJQN3t27e/9957EcdZtjaZjL9MzNZu3bqxRIimmQm4ePFinnUm0AowK2kdAwM30uclgBxpw4+zraGj32VKnnHGGTzTzz77zEuzEl9Oy8JOzJJ6lWmY2QjMaZhlHbSlw5D0k1k6iKS90+TDi9c6zGYDjogAzYY+6pw9ezZCmCvGsMqiaNiwYRSRCc1uPtYWEbz4ZpA06QdhCNpfx+jGMB3zHsLPG5lq0d+g/wj/9DtPKtG1a9fGjRuHzLzQp06dWrNmTdq6+OKL7RIqJEl8dFrHfBhLMrRl9q1KrTM1h2s5UvNTc/KIGMIW/cQkzls5+eST2YjqSbQj9erVo2PIvuxN8/wYggju7MecOXNmyFPlEPvJT37CXWOKxHNHDoM+66yzuKMSQYznxRbF8847zx5iq1atQMA2rzRp0gRwLB/NKM8a2yz7e5MJtMLMSrqEipd/FHQVCXLVqlXkYMpp8vTVV1/NmPz5z39OKcaR1v8kZ/g5knDmcWLSXGFAq9yJqWHm4yr5MPNLRIBAopkppJIPL/6/HnTQQY7Y888/j1hGsnXr1rxVWbO3IrbJUKeZirN1ERq1mRXdf//9JKdPn06SNzLqK6QKK+JDgmBnNGfezsuXL+e/sr2jWdD0okwEnalevbrJixEeumS6ug8//JAi052wvmls9913H70KxcHI5ZEkzByRzLTJ/CKGqoN2bVUXgRXRM2x048aNAIjaDx6cWYRFmWgk1LZt26YtrUKItWvXjlt2Kzqkf7RBdlOlgJipe9mCZ7fMCJ8xYwbTB6EcWBDT/fliDEeObXnJBFohZyUdu+222+iSrVEuXboUmjV06zASgP3BCP91+L2kJbicI21RJDO/E7OQoFXWxNQw8yGUfJj5JSJAINHMFFLJh1eNGjVYDUlFrG7duihvQr0UghHClmssXCCbMmUKzXG2SpDkSCJ4sQCH7ieswVtBiQVPnz59yMGhA17E7PCPrnH+85//xAMZhjJ+YYRg+YN6Fi1aRL5JLevXrzcec1TGXUQuyZSkHo5MpWF+fhEzreT5559PE9g+s8AUtmU0X2JwAHysPciJQQy7Op5maIEXqa2qIMbyFo/DBTLWqTnsXkoBsaFDh3L7ZjkXPsGRI0eSP2DAAM/EPIAc1MPkxICW66xk0u2YlF/+hivmWWcleyp5V7Ctki7NnTuX7mHt4B1u06YNOdyI58QTMHPE81hpficmdeYKWszEzApapUxMDTMfV8mHmV8iAgTkqd9GTt7OKKsQnnBA6jW+8sorLESiG8OLIzobz8dGBF2aGfd4ZiqBVEEmCipkC7ZGpuXH3gX1G3IGnCxi8gfaDltzsTrpAO9uakDfk9qK5aA0gsCkhjPCHGekQCtixYc1zb322suSeTznFzHkDNaIUYMhQWL+jH4rtausvYIYgPBcKM2E2IIFC3jDPvnkk7bLMrUecoRYOMaKGTEe1vz58/0hMlleffVVxgA5eOnzfLPcwtrMc9ISuc5KXNntmJRf/h5wwAFWbZJZyQTh3xF/xrgkMivJMZOy4p+YdDVX0DJNzCSgVdbE5DY1zABBRxkRkFiaBAEDNwknBuAwYzhszGzaYp0RmpcL+cOHD7d8RAH+9Xbs2JGk2fRk0pDB0KhRI2QCXuKRPZtWFWfsnBDUYlRffH4QQXB44ZcgNfpypGdee+21OIC15JgxY+gwgqAlWeXBUs0tzPySTATXcmQqDfPzjhi+02gaYRefmWFDIY1giogZ5kRoDIxYUGbtw/J5XqFWw5mrCmIxyh7uZZdHzDaysCJvW2W5ZRb6yTRRrE6dOv5ABw4cyOBhQpETD1rBZiX/7pDJ+HdhnUS2Y8WZGW1JBjlWpOG2Fb+XtMSX07KSJib9KRholTIxNcx8yCUfZn6JCBBI9MkUUsmHl21KZzmMF+XNN9+MWGDmHey0R2bClnzLli3gyR43XOe/9dZb0BRRPzsNDWd2TZLEksxhf/DBB8nBd7znYJDBAiV79clBVKKoWbNmCA3OEBIsVGH2y14tXlIcdKxDhw6ou3CsxWINtmLPPPMMSwDIXpgzo8Oza1kbxXaNV791mM2hfBXMHi6sPBNdiYjxB5qPFl+pMK4A8iXuHsypAYoclmNQfWXqPCZo9J91T+DClS6PBg8g5likiiLG/lnuyH06oAHiyfrt7/KIMTXYJwsC2BTijwbrflwl2+1jFkm+mZfhc44duD4T40GruFmJnQD/UrBsQz+9ZMkSZiiWbf6wzFAJwZEcpjb6bKazl2YluFmOrGww6FVmKCVHTMPMx1Vy0PwSESCQaGYKqZyGF298BDIuQQJjb5Gjx64oxCBkBbRQaF/4O0UR9vW4aYAZy5Lbb78da2I2NpIkagp6C7sWGyZKfYcmmQh5FooREYqN+ggNmPd6QxECScL6H54tEgseNBBcyGfJA98WJiD65egJsKCiq2zmQrIMO+A8mQhrK1NpJD/viP32t7/1rXPWloXgRNGIbydsU2JceKAVQ/QMsTLaNuVVRcSIGWWjBQmDu/BlXAi3KtvlEeOxMpjtUaIc9T22/N9geLOKzd8PxgYulBFPGTNZQau4Wcm/I9teQ28RnZG9IpajzBf06xdddBHvis6dO7u2LDKt0iYNgbRFqZl5n5gVB1qRTEwNMxtFOQ2z1IFXsjlf484NO51jEDCpJTlWmIvxxud16c6ErHL+QpGP+3vEspjmUou4CuuoMJ/PBgITooPbo4SlyWn+jvNN4n8236TUq7hlXjFIlv6FSOVJm1O5iIE/Bvt8X71vII8fVEBDsoyxCXP+GEKIxYCTtqhIEKNvOFlFBmUqeVRT6zCjBUfB/DXCFjPtLaTNrLhZSXN4h2ZKmmPC1NYZ4YxnDMtyHcyVOzG5kYoDTcMsdZxkzSmSYZa1nyXCIIEs0YPO9S2WqNJdmkmI5fp4hZgQyxWBMvBrmOUKmhDLFTH4BVoZQOMS7bIsG266SggIASEgBISAEBACeUNAAlneoFRFQkAICAEhIASEgBAoGwISyMqGm64SAkJACAgBISAEhEDeEJBAljcoVZEQEAJCQAgIASEgBMqGgASysuGmq4SAEBACQkAICAEhkDcEvnSXpUMICAEhIATyiwA+t6ZPn27u/mNqxg0Hnpnx2YvzYRykhZw4JMMFdJiDF4yIJx38+OOuGd80eJUzb3MhfxWi8bWGa0bQIKiJ+XGM6TyRCXAlCBp4j8PldciJM8XPP//cc9juR+BaTxqxC4CGQyK8UeKrhdhZhx9+eOQGI0nuFweEuErBBWYqGu+9997mzZvtEjytRAYh+Vy4YsUK/JVccMEFkeEXaUjJ8iLAc9WRFQFDOSubGBwBIeZQJCSEWEKgnK1oEdu4cSNROmrVqkUPvbdpCQSLMG4mPpxxmOec3bp1s3v085w5c7yU6Gf4hsUTIYEHCDoeXug8qURxgkbYt9q1a1vfIB5//PHUnnsOUebwjGjMgIxvbS9CtvAiYyBCg5dClAG0IkQM+ds9WSK8TpgwIbzHCE18MKLC2F0gnvbs2TNkQHjFCbmVcjaH4c7AoBo1ahRCGPFdGHvEufeieKIIQYvvcJGUZnlfFEkvK70bGl65PgIhJsRyRSBX/uIcY1dffXXozTXmptAJ4aIWASL0UkuML7sE//sm0tltcsbRsbvst1BmBPBYunRpTBOpRUUIGlIpt0bM9bp161r3IFJ7bjmIbvCE/ntx9ezMQ4YMsRr8/MADD3hp2UCzqrySSicYA8T7IrQuse/uuusuuodb7xhxnCAl3bt3J+IWAV2qVasGP/Fg/C7GjRuHzHrdjiMMYYL41aJFC4LBLFu2zPkTEsUGWsJuVzqbBLJEj0DDKxFMAZMQC8BIRAqxRDAFTMWJGAExLTZo1u4RTZWPJbFoWZe00F5c0qZNG7vF2bNnE4qb+Gl+uOw1a9YsOFldItJlgEciMmuvEtWSV6ZevXoRdYAqkQBMJiOSG5qbtI0QtJfbB2GWg10Z9uabbxozsUoJAuaIQbDcZkVlBq3YECOqBOGPHZyGDRsinnoMNM83gtjERAPzzN/85jfcTqdOnSwHGBHmMslbV1xxBeq3nCLmeUPFBpp3rMgJ2ZDZyNFZCAiBXRwBFANYKaFLIGw8f/1Ny0ISpRRfHQywUDycffbZZok1dOhQPlcgQuRTzlxLxDPWELHXYRFn69atBhYGN4TCvO+++xAmWA9CCQEbRSjJUGAYT6YzmompU6cifMBA0FvkMwi34Jk4cSJ1orH44Q9/SGBWgsFbPQQ669ixI/S5556LSZBlVtAZOQmNFPZDTZs2RYPlq6uYE9G9NWvWNGnShNu3Pr/yyisYKllPsJxDHYVxG5Dy+eeTv2DBAu8kOYDz9NNPk4MR2LBhw6yI5VfuiKUxlmIzmZGxPIdKDH7smZo3b04lPC/LQdNGQw0aNEBUJUg8pd5iIUHD8o9HCXREiD/xxBNdauRpIkghVRNSj+HnxlgYvU2ZMoXYqQhPLD3Tf57sU089hSbM+g+GoMHQxSqRmyUiLaD5rQEa0eVt0HqmE+i3hg8f7knE/f79+/vqMKN67dq1TIezzjrr2muvRThzTp4Co5r1TW7BM0VUOAJFLjAWSffsMRRJZ6pEN4RYro9JiFUcYnzb0BOAMB8n5BsIBCCaQw3Dp4gkKzYE0obg42TLgvfffz9JDnQ2fO9trQdp7LPPPmO1yIr41hJPlnr4fJIzfvx4vwUkGOPxnHhi8eLFxr9o0SI4EfhMULNM6JtuuonvMUX+fSWQJSIdJvDITPGVh6XJe4WAhdDAjdi6GIImtuFUxc1iR88i47x581hyRSCwPmM5h0rP6gcxumf02LFjN23a5N/1rl27Ajt6xDPPPJN9DO+//753D3GK0JzUjOzimTEE904TCDfGg92etWhneo7ZuxWVBzSrLaYbYRG3gNjavn37e++9F4mfePY2nEAAcQeBniVCdFrI6zxxLmzZsqVJbMhJrFADJs09/PDDDz30kG1WGDx4sC1HsuZIETHUw+YYcgRg3bZtW5gZQyPVUYlbIrKU6XIhzSFk+7XsFYDz1ltvRbYGZ7rHyPfSrATXcmRlE0MEAUEWASR9UsMrPS6Zc4VYZmzSlwix9Lhkzk2O2OTJk2HGtJlv2x133AGNkoCKTerChItdZiTr1KlDEd8eaNdvoSFDPkCAs+bMhBxhwpJYTMM8c+ZM9DEQfuQqkPXr148KEVBQy1EJn0arPzzzaaQIfYll9u3b16UctzzzDmQi7NpMpZ4PULYd75577uH2q1evzoWINXyVDz74YGhM5WA2QQdgkSBJovqy+pERWUSzgIbsOaAIoKwI6KwVlFjPP/+80ZzZJepaMTSCWWUyemIyq4sXLgJaQ5xhQL1H5eUBzWrzfsYQdAllod0vbK1ateJatIbQqBK5KbuWnQcotNBdmSBFPmz8JUB0Q18FzZ8EOG3IuZCELpC7sBo4o05DTgJhRi8jwcQ+L81EIA2zqhthZsUcdSPtIkGuWrWKa7FfNNGQp8zYRglKKXq7TNWm5sPPkZqvnHgEBFk8Pv8r1fBKBFPAJMQCMBKRQiwRTAFTcsRMlXLqqady9YYNG/gsobaBtqUfNBPQHKguqPOUU06Bhs3qR6tBEkWFJc18Z/78+Za87LLLKL3kkkswUYLwI1UgQzJAt+SHCQrGjxCG2FejRg12z1kOX0Q+25iI0c+TTjrJ2uKMAsbEDj7DcCJHsjxHPqtgdmHWs1WVlc01dgsXLoQZpWDnzp3Xr19v64xUggaI/GnTplmFrEiSBFhLoi0jaWIcS2zQHHYjKIRw1sByJ5KB5dsZwQV9kl3OGRM6zL8cLiPcIIxLrGnsz7wS1gpZ/qOHV155Zc2aNa0qEyPKA5rV463EEKbEsqEFG9aBM2bM4FGywkslyNx+LcOGHDOub9euHbQbgbE2zTiEEzkJCZUhalch3oGJ10C17BhFg2WSkz0mL01LsILMEwk3pYZst912G92wPZisq0KzSG0MCJr16tUjxzWO4YVpaZg50hYpMwYBQRYDzldFGl5fYZGMEmLJcPqKS4h9hUUyKjliZvzEmlGkYlOJHXDAAZZv5mKs3ZCMCGSYlFlzpvCAwRRIKBXQVbAMGtE6pApkrVu3thrsHOobWBOkHmSOSPc8iQLMFrZQ6dFbauBTbStZqF5IoimxBU2/JBNhrWcq9XzWwowTUcwzIUaMGGH5mIiRROCwpC2lRQQyRExK3ZMCllLG3Lt3b4ztXHDx+sEQ9aTzmBxjSTsjjxozkigiAnI2soJfHhKsrpqBHfIN+eUBzZoOK89E2yCJiOYwjxw5kkoGDBjgF5p8j2aLHPNU5wIZq8AcxmljBsGL0YhMGRljxmPK1D59+pBEMcnGWz/CZ4e0yoiNWd02Pait/2LKRoe7dOliTXDG+IwcbsRz4onkoMXXU2ql//PmYvDpLASEgBDY9RAwk2fsrDFdCu/OVDimZCIfrQNnzJhCnkw0UoVdwkIS2iMTmDIxk1+/fn20HX6YNo78V199Fd0Jwootq7FChAIpUg8GcDRBJrZZpkZCqYbMQY4ZaLM2h0gXuao8STcSR6ES1mOIkWOgGWIkbfUw5Eyl0biY9yyEOfZItm3bNsIDhti22xYBTPeo0+EywiQ8rrr88ssRr9lEyV1jkYb5eaQqtJ4mLJq9f2FAM2WVa0/pEvjwfG13iC/akm+WW75JItJ5T7LPEZq7w6SM5eC0YwwrNECwBwG8gOyHiaHUQAeQqKghFXNvi87zL8JUiTY4/T8JPGZSluQpe4UiyoDAbmW4RpcIASEgBKoQAhg+swUPlRJ2OWb2hLEOhtWsmiH9sAXP7sUIt0yPv0EUG0gPLEuhe3DbKb+EtoxGq2Fuxm7/7+EMRmDrzTYCPpxY0PPBxqMBOgz6xhcUk3n2EPjGNzbf8Tlk4x7LSebBAfkSaczkMPRk1kqk/jInQcyuZUspYgF2Y9wRukBfVTSsHLokoNHDHj16XH/99dhOofsx8YVWsDQHAbtTVH0IZKw8stCJLMUCceotoFDEcyy9whwQxRKAAA5sPEouxCTLhEVUaIhlbJulCHwKAJrtF2Fh8c4777RdIBAoCNl7QR/Yyev3wnOHxoWH56QlYABYdGDcCIJdWh52RTBazJqQsxEhJwIr9nnoCzEIs3yWy5Ht/C+BZTKS2ZzBai9J7NuQ7dBHcq2BiUklj8b1vmH9ovOJQKmpBMt2v4Z42a4tzauEWK7PXYhVHGIYY/E5AWHOLMQgSPGpww4d9Q9fJjL5lqMPYB0QGg0HPfH1Mmx3SN5yyy32gFDteD+ph8xwZceLMOoyfqr1zAiBVgN7NWPzM6IJbDh3IIf+sBSFwIc5ESoKc8iOko8lLUrN3IcPNreAXi1SeaakNZSpNMxnUdWYkTOwVULQsQ6ggCHfjOcQsKBRX9mFviyLuRLfcpMRke28WpYaESvJ5wNvmZglUQNaSdb7ENSwnEMJF1qG+bVG4FEiVVFk66eGOQtzhKJCDsYlLJskbLtGeUAzECLdSJtEZjXZC0GfTbtY9+NezjhN/WmrtHSGDQ1AZ0WInjRB7CxLojazZVZLPvjgg5RipGhJzgwGRoUtcCNFUcRgpmlnCAkEVp4jq/B4teDA4T4+MjCwA38sApHv0c4yRJkg55xzjj1Tu9zs4QYOHEiSShCXuTCsOZ5ODlp8PaVWKhuyRE9cwysRTAGTEAvASEQKsUQwBUw5ITZp0iTzI4DIhRbB5SQUJ9jc8L1B7GBFjKVDa8G1F8gHWG6ZtRktooxBj2U869atQ3+wcuXKoFP/jwUm+8Ra97BLM/v3kMdo37lpnHZmRxul1OwKDHQtKHh8LyGlqNC4BW4HeQ49H+tZqZVnyrFWMpWG+SyJ2gZALmEfJdstrRR5gk15CIvcJiubbAk0QFgi9AVNhABb0uVaOEPbo1/96leIdN4QdvqmWIIT/FFrYaaW1liKS1AsubW+3Yid0R5RisLM9FJkIpzhrS30B1Fm0KwJ73A8wbYMVyKi6kOsN35UiTxZRgvCK349WINGrUURMr2tDgMm5omosqw5CLMqwzSQ8Rl6Z0WEtUvQY/H0scbLZEhH/QTjsgrDs1n1IejbhlmKkAKRvSKwI1PyQPEJB5ismPP/If7ew1JrLswRnQSBr8EUPirRaRHgJU6+sEoLTtpMIZYWlphMIRYDTtqiXBFDZ8OiG58xl66sWrQLLHVxRjJI1b6kbdozkcZ8dc8z80Xg5IwFKURAlzPCmhGYECspNRzCohg6V9Bogj6YHi6sFiGMnZIsqiIuhPlZabrNpx3BK+TkuSAfsEaJgjCn2wkrgUY0QevJAp/ZQkVKSZYBtFwRo5W3334bcQpFZmQdGdDQxTJgcjL4Q6oznajfDsIcY4M1X+DyzLIR9qcCwS7t5YjLrIwDZkLDSq+kDKD5taVMSCBL9PQ1vBLBFDAJsQCMRKQQSwRTwCTEAjCSkgItKVI7+ITYDiRy+BVoOYAVsGqXZQCGSCEgBISAEBACQkAIVAYCEsgqA3W1KQSEgBAQAkJACAiBAAEJZAEYIoWAEBACQkAICAEhUBkISCCrDNTVphAQAkJACAgBISAEAgQkkAVgiBQCQkAICAEhIASEQGUgIE/9lYG62hQCQkAICAEhUD4E8KOLF1zc0VmEqJjKcMMBJ+5ncZZrwamc2TwPexICLxgW3Mkzcfm0atUqfHYQ0io1GICziSgnAtKQlRNAXS4EhIAQEAJCoKAI4DCW2Or4mMWBPm5dCQmAyJWpB7jZw5MZvvhxSEtMVYst4cw4KMYLcXgQyMtL8XlGKHQ8J+PslwAMHoLCGUTkEQH5IUsEpryqJIIpYBJiARiJSCGWCKaASYgFYCQlBVpSpHbwFSdiuOBHPCIO1cKFC81jOeEQiIKwo9df/eLxGGGLWK7cCL74rWDMmDEIZ9B4SyZSEyGY/AKEPLzOmodkfAITDouIojATxCni59YvSSWKE7TUfhZbjjRkxfZE1B8hIASEgBAQAhkRIFQUPvoXL17MKuSQIUOMjzAAaS8g6iUhklisfPfdd1GkGQ+ZTlDVEzsfJo0hqxEjC2msZcuWRAtNLo2l7YYykyAgG7IkKIlHCAgBISAEhEB2BB577LFnn30WvdT555/fokULi5JEEqUUISkJQ0mg8bPPPtviURJSnTVBKiXmKWeu3Weffbp160ZMqlGjRm3dutXaw+qLUJiESf3kk09QPhG/0iNmEhwTHsIoEcvcmCNn4p1PnToVXRr5rE4SnR3CzcgmTpxInS+//DJxwwhdirbMLx8wYMBLL71EktDyuYYU80pE5IYA2k4dWREwTLOyicEREGIORUJCiCUEytmEmEORnBBoybEyzuSIsSBo64DDhw+3iOkIQFSCqokQ7NRz3XXXEbEbAlnNInkTt97qx1gew3wLWoo0RlDORx55xIoQhlhDpB5Ta40fP95vATmvbdu2sNGiZ8YQKNWszkWLFsGGwGeCmmVC33TTTVinUUSfPd4oxmqNGzfu2rUrwd1jKg+LrMIwR3QSBL4MmK0jKwIaXlkhijAIsQggWZNCLCtEEQYhFgEkSVKgJUEp5EmO2OTJk2Heb7/9kJPuuOMO6Nq1a1OVSV0s+W3evJmkxbbv378/9F//+lerHw0ZmioEOEsSIp3SM88805JoqkjOnDmzefPmEHawXslapDHsvffes2bN2lGS8bdfv37ws9EStRxMqMfs8vB86aWXUvTiiy9a5vHHH3/DDTeY3EaUcbYOZKw9KLBrgwyRiRCQDVk4FEULASEgBISAECgLAixKchkW9Kwqdu7cGZXS3XffTc6ECRM416xZc99994VAGcbZ1F277747NAdCEsuOtWrVsuTHH38M0adPH0tisA8xZcqUK6+80nI4sxZ58cUXcxX0tm3bbr/9doiVK1fOCw6Szo9Obtq0aTVq1Jg0aZIZhLVq1QrHGUuWLBk7duxJJ51knGjmsFH785//bEnMzu68887u3buTfPvtt+mDVygi7whIIMs7pKpQCAgBISAESg6BNWvWcM/r16/njCsvjMA6duwIbfl77rknNIcJQ8uWLbNkeHZTLXRs5GOCduSRR0I8+uij7KlETsL4zPmrV6+OqPTmm28eeuihZFKKXT+KN1YY/WAJ0vlZLX3jjTeQqFyvhjiI0dixxx5LP1nERKC0DixduhR1nV8IgWbOktQQ5ovOLwISyPKLp2oTAkJACAiBUkTA7PTfeeedjz76KLx/JCeSrgzbvn07SZfPQs5Uunfv3mRyCVsB0Lq5xOacSFe2EEmFNISbMcz8/UBdZ5yIa7AhjVEPOax+4uXVKzECAziagMaazTcN4PmCHNZejQcFmxE6VwQC2mVZEaiqTiEgBISAECgtBI466ijcfaHcwhQMK3tufu3atajKsIhH+tmyZYvBYUSjRo2SoINFFyZc+AnDn36nTp3sEozrUWKhBjNlG0IY+aeddtpuu+3GwqWtXYaVw882Atxb4PEVczQUaajc6BuWZCxvsocAv6/G36BBA8zFqIqakfDQkyFfUmR7RSHkpj8ENv90Ikuzkmcy3EsehhwAEGI5gPVfViEmxHJFoAz8Gma5gpYcMYyxzCEqZ7zhI0g1a9aMnYxY6KPZIhOxbMOGDYhN0PPnz6cnvgKIORfJW265xZqbPn2695N6yDT3+pZpWq5TTz0VvRfy37XXXouzDKy+/JKQQLtGbCWr1s8IZ/CYcRv9wVjNAihhwk+mXY4nWPhR7KEkw08ZNHZmbP8MK89EW0OZSpWfCQHtssyEzE75Gl47wZEgIcQSgLQTixDbCY4ECSGWAKQoi0CLIpItnRNi2Muz4ZFLELlQJiF+WfVsgcSiH0UU7jBY9WPp0PKR2Kx+VhvZjGkbMMlBU4Uey3jWrVuHVIR5vvd0xIgRSFF2IRo4NmOi7vLSCOE7N43fzng1g42afU0TjxtNmjSZM2dOeDmrnCxWsgMUFxinn3667RINGTLR1kqmUuVnQkChk8JRmpFmdlEGiBk5VLAzAkJsZzyyp4RYdox25hBiO+ORKCXQEsEUMOWKGB68Xnvttf3339+lK6sMVRYxJTkjk6WaggUNpiGRxlgPDQv+/ve/o29jJREXr6EvsZAnIY2TM3RgiIDmBS1yFR2mdSzV2CUaKYpJ5gpaTFUlVSSBLNHj1vBKBFPAJMQCMBKRQiwRTAGTEAvASEoKtKRI7eATYjuQyOFXoOUAVsCqXZYBGCKFgBAQAkJACAgBIVAZCEggqwzU1aYQEAJCQAgIASEgBAIEJJAFYIgUAkJACAgBISAEhEBlICAbskSo24p4IlYxCQEhIASEgBAoeQS0DS7XISANWa6IiV8ICAEhIASEgBAQAnlGQJ76cwBU8n4OYIlVCAgBISAEShIBrSmV7bFLQ1Y23HSVEBACuyYCBKXBK/rkyZN3zdvTXQkBIVCsCEhDVqxPRv0SAkKg4Ag8/vjjeCfHEyb+NgveuBoUAkKgpBGQQFbSj183LwSEQIjARRddRIibFi1ahJmihYAQEAIFQEBLlgUAWU0IASFQZRDYc889q0xf1VEhIAR2IQSkIduFHqZuRQgUJQJE95sxY8Yee+zx05/+9NFHH920adOFF15IoGXi8ZG/ZcuWVq1aHXjggdb3Tz75ZMGCBUuWLCHkH/zoq9avX79ixQorPeigg4ipZ0ni6x1xxBHbt29/4oknYK5Vq9b06dOxJqa2unXrOhKE/Js3b96nn37atGlT4j17PkTaItkjhxCJFgJCoGAISENWMKjVkBAoRQSQrpCWWrdu/fDDDyMP3Xnnnddff33jxo0XLVp08skn33zzzX369GnevPm2bdtA54033qhdu/ZTTz2FRNW9e/dTTz0VeYv83//+92f/9yAQMpudL7nkkr59+3722WcTJ078/ve/37Zt20ceeeToo4/u1atXz549IdatW2dYDx06lPVHYjAjBdLc5Zdf/sUXX2QtMgadhYAQEAIFRYC3m46sCNgjycomBiEgBFIRWL58OTOoXr16r732GqW33347yQYNGqCg+s9//tOjRw+SzzzzDEWdO3eG3rp1K3S7du2g165daxUiS5G85pprHnvsMRRjmzdvtvxJkyaRX716dSQ8jPGRukhedtlllM6ePRt11wsvvGCciGsUDRs2LL7oxRdfhG3gwIF2lc5CQAjkigAziCPXq8QvDZmNHJ2FgBCoKARQelF1y5YtjzzySIjTTz+dc5s2bVBuITCdcsopJFmX5Ny1a9d77rmnWrVqa9asQeQi58MPP+TMga7rsMMO43zllVeyNMlSpuXXqVMHAsXbSSed1LBhwzFjxnz9619/+umnyZwwYcLuu+/OSqVxXnXVVRAjR46MLzJmnYWAEBACBUZANmQFBlzNCYGSQwAJKbxntFlhcu+99yZpK4nHHXcc/5JZZPzWt76FWBay7bXXXmPHjkUBVqNGjUMOOSQsgvYmENq+973vvfvuu//+97+fe+45FivdJgybM5pG5YZaLqYoUrOSQkAICIHCILDTi7IwTaoVISAEhEBaBKZNm4bdWIcOHebMmeOaLeckE9v/t95666abbvLMVIJtkpigfeMb30DI+/jjj1kndZ5vf/vbbAtAeospcmYRQkAICIFCIiCBrJBoqy0hIATiEMDef//990cgcya0WUbPnTsX0/7XX3/9mGOOGTx4MCou54Fgb6Yl33///dWrV8ND8thjj+WMbZkVoXtjX2ezZs3ii4xZZyEgBIRAgRGQQFZgwNWcECg5BD766CPu2c4QJjyhuzIgLGmlLCm+8847mIjNmjVr0KBBMLDjcsSIEW+++WbHjh3ZUwnD6NGjEa3at2+PdGU1cHb5bObMmSRt3wCKNJRhGI2xS4BMdmJiUnbDDTdAxxRFeguzDiEgBIRAIRDQvoYkCNiTSMIpHiEgBEIE0Glhbs8MQpZCDELR1ahRI5JY+mOJzxolDslIYvhF+Ei8lOFmjCSG/+PGjcP8i82YCxcuZIcmVmXENaJm3GcgV8Fz6KGH4lPD7Pe5is0B55xzDpZn48eP9w4gn1FE5WjL6tev/+yzz8YXoU6z7rFXYMiQIc4sQggIgeQIMD05kvOL0xD4Gj+Gnc4xCJhdsLCKgUhFQiAvCPzrX//CVex3vvMdatu4cSOCkVvlp60ffxlsAhg+fDheZFFuIcAhuoWcLHri3myfffZBLAvzoWOKIpxKCgEhkBwBfTGTYxVyapdliIZoISAEKhkBdlNyWCdCh/tZu2WatlQ2Vi2R0lLzyYkpSsuvTCEgBIRAxSEgG7KKw1Y1CwEhUOEImKOy0J6swptUA0JACAiBCkBAGrIKAFVVCgEhUBAEsDMbNWoUDmaxRWOlkk2aBWlWjQgBISAE8o+AbMgSYaoV8UQwiUkICAEhIARKHgF9Mcs2BKQhywG3eOPiHCoSqxAQAkJACAgBISAEAgRkQxaAIVIICAEhIASEgBAQApWBgDRkOaAutxfJwZLKOjlWxinEhFiuCJSBX8MsV9CEWK6IwW+gleHCEr9EAlkVHgAIiC+++OKf/vSn448//vDDD896J++9997mzZuNDdeaP/jBD/ySbdu2zZ49u23btp5jxMsvv0wowO9+97tEGLQg0BGGqpVkLx7hd2rVqtW8efOIt6rUGyE6NQ7iPZ+QPvvuu68nhZhD4YQQA4o8zkpqW7JkCQP1qKOOcpAhGMZEJiDUAd5ujzzyyLCoitJ5BK1EJmYeEWPMlMgwqwKzg+eqIysC9iCzshWS4c9//rM7utxtt90mTJgQ3/rnn3+OZ3MfkT/+8Y+NH1+a/fv3J+gy0kakhksuucT5aeuPf/xjhCEmWYSIETOHgNPWsR/96EdE7InpP0Vjx47124fgE2j8QiwTbkIsX7MShP/whz/g6paBN2zYsBDwl156ab/99rORiR6iZ8+eYWlW2i7MylZIhnyBVjoTM1+I8ZRLZ5gVckiXuS1pyOwFVcXOeBjv2rUrkWcIFzNp0qRf//rXBO9DfopRFBMHkPd4y5Yt7VadIBLzYYcdxgCKQPDKK68sW7bsgQceqFGjxtChQ/kMXHzxxaHGKMJf5Mn58+ej6lu5cuU///lPvmGvvvoqcXguvfTSTN1G2QO8vXv3NkUaIAC1MQuxtKAJsTzOShBmrqH2njdvXgTtvn37osn++c9/TswoXH7ce++9RKZq06ZNhK2qJPMIWolMzDwiVjrDrKpMB0WbSiTL2uNMxFoQpn/84x/8s/GmGjZs+M1vfvPTTz/1nAjxxRdf4MccASuS78lmzZpFNGSXXXYZnwRj4K/nnnvuCQh//etf/ZJ4otgQ48Pm+CCK0b1bb7015hYImEhgxBgGIRYBR4jlfVYSFYqBGmrI+FPxi1/8wpH/zW9+A0OnTp08JytRbBMz76Dt8hMz74iVwjDLOi+KhEEaMntB5fmMegmBifB5559/PkGUvXbsvUwyaNq06Yknnmj5n3322fTp01Ff8U+XWMjE72vduvUBBxzw1FNPoXUwHhYvWJckNDKR/tDZEHr55JNP9mr32GOPDh06xBhFPfbYY2vXrqUzZ5111rXXXpsaZAZ5zmsz4re//S2mY0ZzI1xI30Ijqgh/OZPlR4w1WVfgoVrgHtevX79ixQo6RuScn/zkJ95DhEvuF8Q8J0LwH/SOO+545513MDVDL/jLX/4yVfVYtRB76623pkyZwqItX3TCewPIueeey8JHSSGGcvTJJ5/ksZ522mnMPuIm2XNn8ZrZunTpUhzMEhaT5XvLTwta5c5KDBmJ2unDFcUY9gbhG8aL8kWUf2KW2qtMwyxfY68U6ykSwbDIu2EjI2Ene/TogTQwZMiQM888k5c+VuR2ITkHH3zw6NGjWWHkA9+lSxdkiDlz5pBJ/Syf8Zm0mMpHHHEE6pyHHnrI7OgHDx6MiEAlVAXn3XffHfZk/Pjx2PxiyhpmRuju3bv7Z4Y6Wb6MMCDhRTRkEQa+Yccdd1wkMyZZeMRef/11dFq0CxosXtC3DRs2XHDBBUcffbQlrbdsayDnkUceiek81nI8AiRguwvA4aoIfxVCjOVpEz74eLOhAfGd+0KhhYxeOoihHj7kkEPat2/PGh/C9DHHHMO/HZ7ppk2bmK3dunXD6T+aZibg4sWLyc8EWiFnJWIiTyrUkEUGIf/QYOAdEsmPScLPEcMQFulVBho5IaZhZuMnJ9DCIVfidNKZWeow/Xd8JQGB1zq8Zv+OiACNloUL2cOIEPbCCy9YJb169aLIXrVkQqOOQnuB4MU3gyTbG+G88cYboV1+wmoEVZl3A/4zzjiDarFVx7LEPjBemkr87W9/Q0ChQj5Iq1atChnixYu//OUvqN/QkIWXxNO0whHPY6V5RAyxqVq1amYSZ5WjR2QjqnejX79+9erVo2PIvm+88YbnpyXQXE6dOrVmzZrwoyeL8FQtxExBeN111zFIkMO4I1Se3FGJIMajZE/xeeedZw+xVatWIGC7NJo0aQI4ls82ZMY5Wij7e5MJtILNyqwCGYakjRs3zjrxw6HLjXOEOZnoPE5MmigYaJU4MTXMfCwlH2Z+iQgQSDQzhVTy4YUHioMOOsgRe/755xHLSLIKiRiELZcVsVpEnfXr1ye5Zs0aaNRmVnT//feTZBGTJCIUehqkCiviQ4JgZzTn7du3L1++HFso03ksXLjQi2KI2267jfojm7Pi32KII9gRx9SZWkQTHKn5qTn5RQxVB+0iudIQAiufq7BFloMBkPVieHDkERZlonlSpsIkiHXIU7UQa9euHbfsVnRI/2iD7HZKATFTLbMJ1G6ZRzljxgymD0I5sCCm+5PFdJIclvjJyQRawWZlvEDGi6V69eo57X3mprg7Dr/fGCK/E7NgoFXixNQw8+GUfJj5JSJAINHMFFLJhxfb8VgNSUWsbt26KG/C/7K8TBG2XGPhAhm2PjTH2SpBkiOJ4MUCHLqfsAZvBRUaPH369CEHhw4sPtrhH13nhMBihqaxlQkzY95ibLTkjrBdC/mz0pWFmGklsZajh1dccQULTKld5UuM9ybAxzyW0qyIsdLH7SxatCisqmohZvtJXSBjQZbDbqcUEGObME9w1qxZ4ROEHjlyJPkDBgzwfMwDyEHfTE4MaLnOykcffXTHpPzyN3XFPO2sjBHIMFRiDFOt9zwhwd1xJGHWq8xQSo6YhpmPq+Sg+SUiQEBG/TZy8nZGWYXwhOdGt9nCKhb/jejGcOSIzsZ9PMKAZY8Z98Q0j1SBcHbfffehp2E7VVp+7F3Ye4WcQT0sYtK6VcgrNbVmeoiKCNkutSg1Z8GCBbxl0L3ZLstUhvLn5Bcx5AzWiFGDYa7+u9/9Dnu71B7iFBfE+OiyQExpVsTQpcGWuhMitWZyhBggFCFi9ArXJ2xlsKfGZGEyMitJ4tLFMjnbtMXazHPSErnOStz4XXjhhV4Vdu5OG5HTrKTbmPPzNkj15ByptjzJ/E5MepIraFknZk6gFWZicpsaZuUZdaV+rcTSJAjYKEnCifE7zBgOG/MHH3zAOiM0Lxfy2SFl+YgCqKk6duxI0mx6MmnIYGjUqBHyEC9xDJDt8sgZGy8EtYR/lxHXeJEhrISVoO/BWCrMgcbIhkVV1uwsnz6n/rOPXOLJSkTsiSeeoHUWjq+66irvT4TgY4ZRUSQzU5J9qYjUkdKqhViMsof72uURM+N3/tJs3brVniML/WSaKFanTh1/uAMHDmTwMKHIiQetALPSNGT33HOPdw8CUZK/Ezi88Ez+AeJgz5PxRCVOTDpWANAqcWJqmPnYSz7M/BIRIJBIdy2kkg8vBB2YWQ5DGrj55psRC8yonHcrMhO25Fu2bAFP9rjh54J99dD22mVDk+HMrklqwJLMYX/wwQfJwe+r52CQwQIlO/DJwSCGIrzvIDA5Q0jg/QExEUMZFj0JkcHGOgxlQgboE044gT6HNWCGRaOs/SGOXHPNNXQPHhxARC7MlORajkylYX7eEUN/gEKCvQ4Y53lDY8aMwdEr8jE5/FdGd4gHBC+NEKxhgRLueVgYQjeJlTfalAhP1UKMrxSPw26fG0EDhBmZ39EujxgDmz3CIIBN4aBBg7Du/9nPfma3b97wzbwMf3vswPWZGA9aAWYlE5w+2/qp9ZZFZ5R8bJRmVnLwksF7C3+lKsJBYN4nJrdQANAqcWJqmPkrhXHL4UkRCREQZImAyml48cZHuOESJDD2FnkD7FLk1YmsgLoFzRN/pyjCJtcWMbEswds+1sQ4Q+Jawhyht7Brsd+i1HdokomQZ17HkBXYqI/AxAYfbyhCIFWYWTrV8iVGBxAaoiEUsvBhK6FsK2MXApejFUOLZncdnj18UKSJ1KRdlZqfNifviOFEzbfOWYt8gOkSisYDDzwQozHbxJq2M2Sy0Ik8B/9ee+2F7xKTm525yiGG+zEbLUgYPEG2aNjTgXCrsl0eMYY0ppB24yhHfY8tf5Dwes8qNltnGBss/SOe8qyzglahs5IOME9/+MMf0mEUeK7r5R+R3UJ49jBoPkRjCLswhiEsyvvErFDQimFiapjZ+MlpmIVDrsTpr3H/4dwWnRYB+zwnxwpzMd74iFZuSWbV8heKfPysIpalbShTJldhHRWW8tlgYQWxKdUeJWRzet26dXx1zM+ZZ1YcUbmIgT8G+3xf/QZBHo+ggIbOMok9HGpFPtXYjQGaV1KhhBDLFd5cEaP+t99+GxmUqeRRTa1RRgtOm/lrlOrvN6ZXVW5Wci+5gqZXWa6IaZiVYZjFzLKSKpJAluhxl2FOJqp312USYrk+WyEmxHJFoAz8Gma5gibEckUMfoFWBtC45H/BQ8p2sa4SAkJACAgBISAEhIAQKD8CEsjKj6FqEAJCQAgIASEgBIRAuRCQQFYu+HSxEBACQkAICAEhIATKj4AEsvJjqBqEgBAQAkJACAgBIVAuBCSQlQs+XSwEhIAQEAJCQAgIgfIjoNBJ5cew0mrADQcOydiuTxjgww8/PGs/3nvvvc2bNxsb3hzwxuSXbNu2jXBDqZFY8NeFT1SciBIMB3eUzl9FCaIUEAC4Vq1ahFcy11wxN4K3NuIvOQMu3/AG50kh5lA4IcSAIo+zktrw5MxA9XhrBjXDGH9yOKTAoyERLR3/qkvkEbQSmZh5RKx0hlkVmCA8Vx1ZEbAHmZWtkAx4IHRnZvihnTBhQnzrn3/+Oc5mfUS6M0m8kxM8G39pSBuRGggA4Py0hQ/bCENMsggRw9Wne5/CNyzhnGP6TxHe2/32IdwprhDLhJsQy9esBGECeFgUgWHDhoWAE+6JIB82MnEu0LNnz7A0K12EEzNfoJXOxMwXYiU1zLJOjWJgkIYs/OZWGRo3p127diUW0CmnnDJp0iTiYOLlH/nJvL+kvY2JEyfyHicKnpU6sXr1agKNMxYjVxETfdmyZQ888ABRhogvzmcAx+6hxijCX+RJIv6i6iPkH3EL+Ia9+uqrjz/+uAUrTNtzlD3A27t3b1OkAQJQG6cQE2JpEcjjrKR+5hpq73nz5kXaIpISmmyiCxDcbNSoUYTNPemkk4g1HmGrKsk8glYiEzOPiJXOMKsq00GhkxKJxfY4E7EWhAnH4vyB9qYaNmyIh3EPg+P5TuChHqfzCFieEyEIhRnRkBHvkk+CsfHX07zbV0TIvEhPKijJh83xQRTjgRJeOqYtgo0SzjKGQYhFwBFieZ+VRFNloIYaMv5UENzJkSfEOAydOnXynKyEXmVV/VWmYZZ1kFddBmnI7AWV5zPqJQQmQiQRnLt27dpeO/ZeJhk0bdr0xBNPtHzCUE6fPh31Ff90iXe5cePG1q1bExCJ0MLoaYyHxQvWJQl/STA4dDYEJST0nldLACViDMcYRREic+3atXTmrLPOIiYxwplfa0RqxBiCG2I6ZqXcCBfSt9CIKlJDOZPlR4w1WVfgoVrgHgl/tGLFCjpGTHdCW3oPeSNzvyDmORGC/6B33HEHoZYwNUMvSADBVNVj1UKMMH9Tpkxh0ZYv+ty5cwGEGNUsfJQUYihHiSjPYz3ttNOYfRa/lUfP4jWzdenSpcQ6a9GihYc7Swta5c5KDBmHDx/uwxXFGPYG4RvGi/JFlH9iltqrTMMsX2OvFOupurJkIXtuIyNhiz169EAaGDJkCHGpeeljRW4XkkOQ79GjR7PCyAe+S5cuyBBz5syxyN8sn/GZtFiTxNpDnfPQQw+ZHf3gwYMREaiEqugJoa/DnowfPx6bX0xZw8wI3b17d//MUCfLlxEGJLyIhizCwDfsuOOOi2TGJAuP2Ouvv45Oi3ZBg8UL+rZhw4YLLrjg6KOPtqT1lm0N5DzyyCMxncdajkdgEeKpEHC4KsJfhRBjedqEDz7ebGiwsPEotJDRSwcx1MOHHHJI+/btWeNDmCbQOP92eKabNm1itnbr1m3cuHFompmAixcvJj8TaIWclYiJDL9QQxYZhPxDg4F3SCQ/Jgk/RwxDWKRXGWjkhJiGmY2fnEALh1yJ00lnZqnD9N/xlQQEXuvwmv07IgI0WhYuZA8jQtgLL7xglfTq1Ysie9WSCY06Cu0FghffDJJsb4TzxhtvhHb5CasRVGXeDfjPOOMMqsVWHcsS+8B4aSrxt7/9DQGFCvkgrVq1KmSIFy+IYo76DQ1ZeEk8TSsc8TxWmkfEEJuqVatmJnFWOXpENqJ6N/r161evXj06huxLZGjPT0uguZw6dWrNmjXhR08W4alaiJmC8LrrrmOQIIdxR6g8uaMSQYxHyZ7i8847zx5iq1atQMB2aTRp0gRwLJ9tyIxztFD29yYTaAWblVkFMgxJGzdunHXih0OXG+cIczLReZyYNFEw0CpxYmqY+VhKPsz8EhEgkGhmCqnkwwsPFAcddJAj9vzzzyOWkWQVEjEIWy4rYrWIOuvXr09yzZo10KjNrOj+++8nySImSUQo9DRIFVbEhwTBzmjO27dvX758ObZQpvNYuHChF8UQt912G/VHNmfFv8UQR7AjjqkztYgmOFLzU3PyixiqDtpFcqUhBFY+V2GLLAcDIOvF8ODIIyzKRPOkTIX54YcfhjxVC7F27dpxy25Fh/SPNshupxQQM9Uym0DtlnmUM2bMYPoglAMLYro/WUwnyWGJn5xMoBVsVsYLZLxYqlevntPeZ26Ku+Pw+40h8jsxCwZaJU5MDTMfTsmHmV8iAgQSzUwhlXx4sR2P1ZBUxOrWrYvyJvwvy8sUYcs1Fi6QYetDc5ytEiQ5kgheLMCh+wlr8FZQocHTp08fcnDowOKjHf7RdU4ILGZoGluZMDPmLcZGS+4I27WQPytdWYiZVhJrOXp4xRVXsMCU2lW+xHhvAnzMYynNihgrfdzOokWLwqqqFmK2n9QFMhZkOex2SgExtgnzBGfNmhU+QeiRI0eSP2DAAM/HPIAc9M3kxICW66x89NFHd0zKL39TV8zTzsoYgQxDJcYw1XrPExLcHUcSZr3KDKXkiGmY+bhKDppfIgIEZNRvIydvZ5RVCE94bnSbLaxi8d+IbgxHjuhs3McjDFj2mHFPTPNIFQhn9913H3oatlOl5cfehb1XyBnUwyImrVuFvFJTa6aHqIiQ7VKLUnMWLFjAWwbdm21NSmUof05+EUPOYI0YNRjm6r/73e+wt30r9pUAAEAASURBVEvtIU5xQYyPLgvElGZFDF0abKk7IVJrJkeIAUIRIkavcH3CVgZ7akwWJiOzkiQuXSyTs01brM08Jy2R66zEjd+FF17oVWHn7rQROc1Kuo05P2+DVE/OkWrLk8zvxKQnuYKWdWLmBFphJia3qWFWnlFX6tdKLE2CgI2SJJwYv8OM4bAxf/DBB6wzQvNyIZ8dUpaPKICaqmPHjiTNpieThgyGRo0aIQ/xEscA2S6PnLHxQlBL+HcZcY0XGcJKWAn6HoylwhxojGxYVGXNzvLpc+o/+8glnqxExJ544glaZ+H4qquu8v5ECD5mGBVFMjMl2ZeKSB0prVqIxSh7uK9dHjEzfucvzdatW+05stBPpoliderU8Yc7cOBABg8Tipx40AowK01Dds8993j3IBAl+TuBwwvP5B8gDvY8GU9U4sSkYwUArRInpoaZj73kw8wvEQECiXTXQir58ELQgZnlMKSBm2++GbHAjMp5tyIzYUu+ZcsW8GSPG34u2FcPba9dNjQZzuyapAYsyRz2Bx98kBz8vnoOBhksULIDnxwMYijCLRYCkzOEBN4fEBMxlGHRk0gsbKzDUCZkgD7hhBPoc1gDZlg0ytof4sg111xD9+DBAUTkwkxJruXIVBrm5x0x9AcoJNjrgHGeNzRmzBgcvSIfk8N/ZXSHeEDw0gjBGhYo4QWKhSF0k1h5o02J8FQtxPhK8Tjs9rkRNECYkfkd7fKIMbDZIwwC2BQOGjQI6/6f/exndvvmDd/My/C3xw5cn4nxoBVgVjLB6bOtn1pvWXRGycdGaWYlBy8ZvLfwV6oiHATmfWJyCwUArRInpoaZv1IYtxyeFJEQAUGWCKichhdvfIQbLkECY2+RN8AuRV6dyAqoW9A88XeKImxybRETyxK87WNNjDMkriXMEXoLuxb7LUp9hyaZCHnmdQxZgY36CExs8PGGIgRShZmlUy1fYnQAoSEaQiELH7YSyrYydiFwOVoxtGh21+HZwwdFmkhN2lWp+Wlz8o4YTtR865y1yAeYLqFoPPDAAzEas02saTtDJgudyHPw77XXXvguMbnZmascYrgfs9GChMETZIuGPR0Ityrb5RFjSGMKaTeOctT32PIHCa/3rGKzdYaxwdI/4inPOitoFTor6QDz9Ic//CEdRoHnul7+EdkthGcPg+ZDNIawC2MYwqK8T8wKBa0YJqaGmY2fnIZZOORKnP4a9x/ObdFpEbDPc3KsMBfjjY9o5ZZkVi1/ocjHzypiWdqGMmVyFdZRYSmfDRZWEJtS7VFCNqfXrVvHV8f8nHlmxRGVixj4Y7DP99VvEOTxCApo6CyT2MOhVuRTjd0YoHklFUoIsVzhzRUx6n/77beRQZlKHtXUGmW04LSZv0ap/n5jelXlZiX3kitoepXlipiGWRmGWcwsK6kiCWSJHncZ5mSienddJiGW67MVYkIsVwTKwK9hlitoQixXxOAXaGUAjUu+XrbLdJUQEAJCQAgIASEgBIRAvhCQQJYvJFWPEBACQkAICAEhIATKiIAEsjICp8uEgBAQAkJACAgBIZAvBCSQ5QtJ1SMEhIAQEAJCQAgIgTIiIIGsjMDpMiEgBISAEBACQkAI5AsBhU7KF5KqRwgIASHwFQL43Jo+fbq5+/8qN4XCTSB+nsNsfNOE7nLS1rN69Wp86cGJ+zT8xIaXV1Ea54i4ZsQpCUFNzI9jzI3gcuzzzz93Bvb0EdnTkxD4d8THjXkD9vxdCTR8MOGNEl8txIA//PDD/R4zEe+9997mzZutFFc+uOILOXEYjqtCD+tnRcR0wW0hfk9wnBmBN7xWdD4RKHE/bAlv3xBPyCw2EBBiuQ4DIbbLILZx40aidNSqVYtnmvWmunXrZo/ez3PmzLGrMtVDmDXz5MwltILwkbUVZ7BWPFkkBGHfateubX2DePzxx2M6hmzht2+XIHg5/9y5cy3Ewm233eaZEGUGrQgRw/2se7JEeJ0wYUJ4p6k0wiuexu1GOIeehIkTY8Eqhg0bFl5IVDFiydglyLs9e/YMS7PSRQha1j4XA0P290Ux9LLS+6DhlesjEGJCLFcEcuUvzjF29dVXh+6X42+KwJQmt9m9cMabsQXSyFQPsgtsoQNbfB3HtxKWFiFoKK64a4Kv161b17oHEfY5Qg8ZMsTY/PzAAw/As2zZsqZNm7on51AgKw9oxYYYwwMRirDCxMu666676B7+q3F8HUEpTI4bNw6Z9bodRxinBOgI+k4lEYGM0Cbdu3f//e9/TxiYatWqwUAUmbDOeLrYQIvvbfGUSiBL9Cw0vBLBFDAJsQCMRKQQSwRTwFSciBEQk8UyV2AE/U1Dzp49m3jbBEnzY+nSpcaXqR6i1s6aNYsmWA91RdGbb76ZpvZ0WUUIWq9evYiiQWc/+eQTk8kIWYZSJ133v8wjICmRvhwxCJbV7HIEXAuXyW2GAll5QCs2xIgqgVrLwWnYsCHSucdA83wnGCpIbEirnhMhCNrLPYYCGaF7iSHmbESyh6FTp06ek5UoNtCydrhIGGRDZiNHZyEgBHZxBPiLj5USuoTzzz+/RYsWpmQiSeB5AsViQ4Pi4eyzz7a4n0OHDuVLBiJEPuXMtUQ8Y3kRe51Ro0Zt3brVwMIWh1CYRKBHmGBlB3UCbBShJEOBYTwx54kTJ3IhGgvCVhJ9lYjvzpypHtanUInBdsEFFzRv3vzpp5+mw5bj1+aLQE5Ct7RixQo0T2iwiIRrNRMzip6vWbOmSZMm3L4ZJL3yyiuYHBkDlnOjR49+/fXXgZQPOdLAggULvFfkAA49JwcbOEQBKyIQHOZKrNhedNFFmczIUKdRW4MGDdCEEQkeBLxaC79LeF/PcaKQoGEU+OSTTwLdaaedduKJJ7rQzINGkELgJqQew8/NBLGHmzJlCrFTEYNYb+XWiB9PXHk0YdZ/MAQNhi7WhDxrFmQBzW+NuybAvA1azwwJhu7atWsZ82eddRYB6RHOwlLoUNtqRWA4fPhwZ2vTpk3//v19TdnzReQfgSIRDIu8G4Z7kXeyqLonxHJ9HEKs4hDj28Y/fhDmM2MRu2+88UaaQw3DV4p8FnMIpA3Bd8tWDO+//357IuhsEHds1QZp7LPPPmO1yIr41hJPlnr4fJIzfvx4vwUkGOPxnFQCqQ5VkLFxhr7pppv46Iac8fVg/86FfN3DS+LprL3yyxGwEBrogK2LISBi5U0pN8s2AhYZ582bR1RQBIJFixaRj8Ub2j6rH8QOO+wwo8eOHbtp0yZEE0t27doV2NH/nXnmmSeccML777/vLSJpEWeWmpFdPDNCYJxn9diZ7mHbHvIg01hRqCELGXIFzWoLa4ihuQXE1vbt2997770IOsSzt+EEAkhCCPSsHqLTQl5fvHgx9bRs2dIkNiQeFq9Npnz44Ycfeugh26sxePBgW45k9ZCe3H333WHrDDks8bdt2xZmRmhWHl34o04k6QgDYiI1hxqyCAOyIAxu2hgpTZuEnyNtkTJjEBBkMeB8VaTh9RUWySghlgynr7iE2FdYJKOSIzZ58mSYMVLm23bHHXdA83efRkzqItA4G9BI1qlThyI+jdCu30JDhnyAAGfNmQU9woQlsX2GeebMmahqIPyIF6SMjU+jVRKe0S15JRAx9SAamjxXEV9KgLKNdffccw+3X716dTqJOEujBx98MDQmbnTP9CgAi3BJEtWX3Qt6NRbRLKDheeedRxFAWRHQkeRAv/X8888bzfniiy92rRjKwkwymct5VhtnQECH5/XEC2RlAM0a8vpjCCpHWWj3C1urVq24Fq0hNKpEbsquZVMCCi20UCZIkQ8bfwkQ3VBlQfMnAU4bci4/oVBEVWY1cEadhmQJwozevn37mtjnpakEO3lRqVI5YuKqVatChqwCGTI0y8RZmwjrpCGOMEd0EgQEWRKUtGcwEUohkyZkiEYSWoglQSnkSY6YKUVOPfVULt+wYQMfGNQ20Lb0g2YCmgPVBXWecsop0LBZ/Wg1SKKosKSZ78yfP9+Sl112GaWXXHIJdl0QfqQKUggN6Jb8IInBE99mPA7QmZNOOskq5IyWJaYeL5o2bRrMGGB5ThLCWsnKif7GOBcuXAgzSsHOnTuvX7/e1hkpQgNEvvWBJCuSJAHWrkJbRtLEOJbYoDnsHlEI4ayB5U6+8ZZvZwQX9El2OWes67AMc7iMIIcFQdb46MaVV15Zs2ZN42eNz6uKF8jKAJo14fXHEKbEsqEF24cffjhjxgyeMiu8VNKvXz+/lmFDjpnJt2vXDtqNwFi2ZhzCiQiFhMoQtasQ78DEa6Da5cuX33rrraZUs8fkpZkItIa0FdkyGS+Qse7Mc8xpJy+t0wpHpm4oPxMCgiwTMjvla3jtBEeChBBLANJOLEJsJzgSJJIjZsZPrBlFajWV2AEHHGD5Zi7Gsg7JiECGSZk1ZwoPGEyBhL4BXQXLoBH9QapA1rp1a6vBzqEMYa1jymarV+jtLIdzaj1WhEqvXr16CJpoZZw5CZEQNNbCjBNRLKx2xIgRlo+JGPkIHJa0pbSIQFajRg1K3ckCllLG3Lt3b4ztXHDx+sEQ9aTzmBxjSTuHoipXsYSKzRlFCDFeSYxAVjbQrGmvP4awQRIRzeEfOXIklQwYMMCvNfkezRY55qnOBTJWgTmM08YMghejEdVgZIwZj+lZ+/TpQxLF5L7BEXl2MJiyM7LGHSOQIf4yzqnW2kp+Tg5a8jpLgVOe+m3k6CwEhMAui4CZPGNnjelSeJOmwnFHCWgdKMWMKeTJRCNVUMQlLCShPTJZKhMz+fXr10fb4Ydp40J+rNyoh5wkFvqXX3458iUbDJEIMcliV0FYVflpNxJHNRLWZoiRY6AZYiRDY7iQP6TZFmCbTxHm2CLatm3bsBQaDLFtty0CmO5Rp8NlhEl4fhWqTZMIkyDGVRUNmimrXHtKi+Dz6quv2u4QX7Ql34y6fJOE31GEMIcUPFxMylgOTjvGsEJjDNiDAF5A9oN/GpEK6SEifuqyb4TNknQbc37aTX1SafmVWX4Edit/FapBCAgBIVDMCGD4zO487KKwyzGzJ4x1MKxm1Yzlsy1btljnjXDL9Pg7QrGB9MCyFFoEt53yS2jLaLQaWPlA3/7fwxkg+OBhF89GAd/4xg47pBB25zlbaj0UYWWP61S+1tjDoVlh4x4X+iV5IdxpO1tKaQi7MXqCLtBXFQ0rhy4JaODQo0eP66+/HtspdD8mvtBbbMYRHQwEjKIQyFiUZKETMcuUN+Ed8bwoxe7KJELUhIhl7I11HkfMxCDPLwBotl+EhcU777zTdoFAoCC0gAHs5PXOYOMPjTMOz0lLwACw6MC4RwS7tDzsiuBObc8EZyPScpLJcGUHBqu9qQzon8JMpHys+lBAYixo+SyyIxGm/pEIrxJdXgRKQQ1Y/ns0lMtfT+nUIMRyfdZCrOIQw07LDMw5d+nSBUGKTx126Kh/+MaQyWeeVSFMdqDRcNATXy/DdofkLbfcYg8I1Y73k3rIpELPcQLXBsZPtZ4ZIfDFAA+Nst6EVIfNEGFwIl7XU+vBpUKqpsQWECP1p01ar9IWRTJZVDVm5AxslZCBrG8oYMg34zkELGjUV3atL8tieMQX3SRRZDuvmUVDJE7y2TNhmeyRpAa0kqz3IahhVIcSLsYwzgBhHQ3vWQi7+DVlq6btybAKfbGV9VNvtzygGQheVQyBLGiyF4I+m3ax7se9qvGjRqUeW6VFTcuGBqCzIkRPij744ANLojYLV2DNrRpGit4u44QBg1EdOQhYFDGYadoZQgKzP+R7zNcYh8yCc845xx5cyENVdMDWTy0fKZ+nz9o9bjI4rrrqKjxrYLHnTy28PC2dHLS0l5dspmzIEj16Da9EMAVMQiwAIxEpxBLBFDDlhNikSZPMjwAiF1oEl5Ow+MHqBvUMYgcrYtg5WQuuvUA+wKjLrM1oEV0UnjmNZ926dehpVq5cGXTq/7HAZJ9Y6x52aWb/HvL45a5vQKHCRrxwv2TaetCsuCW71W9n1Cep9afNMf60RZFMLLRsAyCXsI+S7ZbGgDzBfj3kSG6TlU22BBogrB76giafc1vS5Vo4MaLyyn/1q18h0nkSO31TLMEJ/mi8MFNLayxll6AUNOUT/AhnHTt2dKcPSNW//OUv3V0WfUOMYJ26nKDREId3OJ4gqJErEVH1IdYbP6pEHLYxWhBe8evB8jRqLYqQ6W11GDAxT0QpZc1BmFUZblAYn2jXvF1EWLuEfZpoebHGi7EjRNC3XbFUi6g3cODACLbkGP6McAQvawUYrRvh2W0BvScxhF0Yw6CitAh8jdwQdNFpEeAlTr6wSgtO2kwhlhaWmEwhFgNO2qJcEUNnw6IbnzGXrqxatAusgnHmy5SqfErbtGcijfnqnmfmRODJjFUn5DyXM3K6PFfmXEFDcqV7LJxFkEEIY6ck662ICzn1ATkPgycEr/AqnguiA2uUrF1aD8PSCI38gWqTVbyEtlCRy3NN5ooY9b/99tuIU9jmm47QWwQ0pEYGDFZfnpmVQKqjqpANYY5hw5pvqpVYyOa0/XNAevOciibKAFpFd6lK1C+BLNFj0vBKBFPAJMQCMBKRQiwRTAGTEAvASEoKtKRI7eATYjuQyOFXoOUAVsCqXZYBGCKFgBAQAkJACAgBIVAZCEggqwzU1aYQEAJCQAgIASEgBAIEJJAFYIgUAkJACAgBISAEhEBlICCBrDJQV5tCQAgIASEgBISAEAgQkEAWgCFSCAgBISAEhIAQEAKVgYA89VcG6mpTCAgBISAEhED5EMCPLg5yTznllKzBo8zzcNgaXjAsgpNl4vAMp8cWWNPZcN5B/TitxfuuhbTyIhEVgYDcXiRCVZt4E8EUMAmxAIxEpBBLBFPAJMQCMJKSAi0pUjv4ihMx5Cfc8z799NP4z6OHZ555JuKUR6Pa0fevfrt3724xzj0LL8QEEiCJ41y8EOOPF7//oa9NnPPh9RdXt3YJ3mKJi2BoeCWZiOIELVNviydfAlmiZ6HhlQimgEmIBWAkIoVYIpgCJiEWgJGUFGhJkdrBV5yIIR4Rn4o4VAsXLjQpCnmLKAg7er3TLy6RCceEvOW5RAvAtSzOfonCRBALfP9akQtkyHmEkSACLLePc38rHTNmDDEGvJIYojhBi+lwkRTJhqxIHoS6IQSEgBAQAkIgOwJEysJH/+LFi1lPHDJkiF1AGIBMVxKtEv4ndj4s9AJRSgmO+b3vfS9yLZcQc4nFynfffdcUaTBY1MsIp5J5REA2ZHkEU1UJASEgBIRASSPw2GOPPfvss2iYzj///BYtWliUJJKolwhJSRhKAo2fffbZFo+SkOrEQQIvYp5y5tp99tmnW7duxKQaNWrU1q1bDUrstwiFycLiJ598gvKJ+JUeMZPgmPCwWEksc2NOPU+cOJELX375ZYKDEZ8UbZnz0Bw09mQEDvdMCKKkT506FQ0c9I033kh0dgiZkYUQVQiNilJHVgQM+qxsYnAEhJhDkZAQYgmBcjYh5lAkJwRacqyMMzliLO3Zit7w4cMtYjeiDJWwYogxFvVcd911gwYNgkBWsyDfxK23+uvWrYthvsUzRRojXucjjzxiRaiyWF6kHlNQjR8/3m8BOa9t27aw0aJnRgikOpOrrDbom266CRO0kK1p06ZWGmY6jSrOShctWuSZ8URMbfEXlnhp0iD2pQ7Tf8dXiYOQ0+1rQuYEF8xCTIjlikAZ+DXMcgUtOWKTJ0+Geb/99kNOuuOOO6Br165NcyZ1EWh88+bNJC22ff/+/aFdL4WGDCUWApw1R/R0SjHVt+RLL71EcubMmc2bN4ewg/VKVhWNYe+99541a9aOkp1+UY8ZT3hmN2XIFC+Q9evXj2vZaIkyL7wqhra2YhhUlBYB2ZCFo1S0EBACQkAICIGyIMCiJJdhC8+qYufOnbt27Xr33XeTM2HCBM41a9bcd999IVCGcTZ11+677w7NgbjDsmOtWrUs+fHHH0NgcW9J2yA5ZcqUK6+80nI4s6p48cUX287Kbdu23X777WSuXLlyXnCQbNWqFd4xlixZMnbs2JNOOskuR/2GIZpXFUOgyZs2bVqNGjWw/UemjOFUUR4QSCumKTOCgAEdyVQyBgEhFgNO2iIhlhaWmEwhFgNOpiKBlgmZTPnJETvkkENg/r//+79IVaYSw6ze8s1cDJ0WyQ0bNlj92I2RxKTMks8995wxH3nkkeRgiPbaa6+xDGoLnVZkZ9xSHHroofAgBaKBa926tdVg53PPPTdkhkZqNHN+9HZeFKMhu+uuu2gd8dGZkxDWehJO8YQISEMWjl7RQkAICAEhIATKgoDZ6b/zzjsfffRReH316tVJujJs+/btJPfcc8+QJxPdu3dviriErQBo3UyWCplZtbQlRSqkofr162Pm7wfqupAZGis36oHI6ksWHrRoVI5mjtZJsmb6pz/9CUJHBSEggayCgFW1QkAICAEhUEIIHHXUUdwtBmRuCrZ27VoWHxs3bkz+li1bDAsjGjVqlAQajL1sHRNX+506dbJLcOXKtke0ZZZECIM47bTTdtttNxYu/xAcWKph+AUzPfHmGjRogGk//J5Dn432OknSCpsPUOy98sorN9xwA07OOnToYLsy/UIReUYgVJeJzoSAgZ6pVPmpCAixVEzic4RYPD6ppUIsFZOsOQItK0QRhuSIYadlDlE5d+nSBSGmWbNmbHLEQh/NFpmol1ijRGyCnj9/Pg298cYbVj+WXiRvueUWS+J237tBPWRSoeeYvurUU09Fg4Usde211yInsXbpDCFhFmw0ikWaBVA6/vjjyQx5vv/971u7dM/y0ckRkcky/eyrruG1aWm7JG2RMmMQ0C7LGHC+KtLw+gqLZJQQS4bTV1xC7CssklFCLBlOO3EJtJ3gSJDICTEs3zEO4xJErhNPPNHlG7ZAYtGPeRl2YBjIswhoLSOxWf2sNmLUZdZm5KDEwtGr8axbt47lTszzvbOEOULAsgtxIcZmTBRgXhohuNwXLnGr0aRJE4ImOQ++zU4//XSrijP2bffeey+lruTzIgh8ofmF8YRdFc+j0lQEFDopHG8ZaWYXZcCXkUMFOyMgxHbGI3tKiGXHaGcOIbYzHolSAi0RTAFTrojhdQwD/P3339+lK6sMVRbRITkjk6WaggUNpiGRxmw91Mv+/ve/o2/D3B5nraGbMWeIEHgyIz4Scp65OouU5j2ZK2h570AVrVACWaIHp+GVCKaASYgFYCQihVgimAImIRaAkZQUaEmR2sEnxHYgkcOvQMsBrIBVRv0BGCKFgBAQAkJACAgBIVAZCEggqwzU1aYQEAJCQAgIASEgBAIEJJAFYIgUAkJACAgBISAEhEBlICAbskSo24p4IlYxCQEhIASEgBAoeQS0DS7XISANWa6IiV8ICAEhIASEgBAQAnlG4H++TPJc6y5aneT9XfTB6raEgBAQAkIgbwhoTalsUEpDVjbcdJUQEAK7JgJLly7FK/rkyZN3zdvTXQkBIVCsCEhDVqxPRv0SAkKg4Ag8/vjjRFPGDyf+NgveuBoUAkKgpBGQQFbSj183LwSEQIjARRddRIibFi1ahJmihYAQEAIFQEBLlgUAWU0IASFQZRDYc889q0xf1VEhIAR2IQSkIduFHqZuRQgUJQJE95sxY8Yee+zx05/+9NFHH920adOFF15IoGXi8ZG/ZcuWVq1aHXjggdb3Tz75ZMGCBUuWLCHkH/zoq9avX79ixQorPeigg2rWrGnJgw8++Igjjti+ffsTTzwBc61ataZPn441MbXVrVvXkSDk37x58z799NOmTZsS79nzIdIWyR45hEi0EBACBUNAGrKCQa2GhEApIoB0hbTUunXrhx9+GHnozjvvvP766xs3brxo0aKTTz755ptv7tOnT/Pmzbdt2wY6b7zxRu3atZ966ikkqu7du5966qnIW+T//ve/P/u/BzGS2ex8ySWX9O3b97PPPps4ceL3v//9tm3bPvLII0cffXSvXr169uwJsW7dOsN66NChrD8SgxkpkOYuv/zyL774ImuRMegsBISAECgoArzddGRFwB5JVjYxCAEhkIrA8uXLmUH16tV77bXXKL399ttJNmjQAAXVf/7znx49epB85plnKOrcuTP01q1bodu1awe9du1aqxBZiuQ111zz2GOPoRjbvHmz5U+aNIn86tWrI+FhjI/URfKyyy6jdPbs2ai7XnjhBeNEXKNo2LBh8UUvvvgibAMHDrSrdBYCQiBXBJhBHLleJX5pyGzk6CwEhEBFIYDSi6pbtmx55JFHQpx++umc27Rpg3ILgemUU04hybok565du95zzz3VqlVbs2YNIhc5H374IWcOdF2HHXYY5yuvvJKlSZYyLb9OnToQKN5OOumkhg0bjhkz5utf//rTTz9N5oQJE3bffXdWKo3zqquughg5cmR8kTHrLASEgBAoMAKyISsw4GpOCJQcAkhI4T2jzQqTe++9N0lbSTzuuOP4l8wi47e+9S3EspBtr732Gjt2LAqwGjVqHHLIIWERtDeB0Pa9733v3Xff/fe///3cc8+xWOk2Ydic0TQqN9RyMUWRmpUUAkJACBQGgZ1elIVpUq0IASEgBNIiMG3aNOzGOnToMGfOHNdsOSeZ2P6/9dZbN910k2emEmyTxATtG9/4BkLexx9/zDqp83z7299mWwDSW0yRM4sQAkJACBQSAQlkhURbbQkBIRCHAPb++++/PwKZM6HNMnru3LmY9r/++uvHHHPM4MGDUXE5DwR7My35/vvvr169Gh6Sxx57LGdsy6wI3Rv7Ops1axZfZMw6CwEhIAQKjIAEsgIDruaEQMkh8NFHH3HPdoYw4QndlQFhSStlSfGdd97BRGzWrFmDBg2CgR2XI0aMePPNNzt27MieShhGjx6NaNW+fXukK6uBs8tnM2fOJGn7BlCkoQzDaIxdAmSyExOTshtuuAE6pijSW5h1CAEhIAQKgYD2NSRBwJ5EEk7xCAEhECKATgtze2YQshRiEIquRo0akcTSH0t81ihxSEYSwy/CR+KlDDdjJDH8HzduHOZfbMZcuHAhOzSxKiOuETXjPgO5Cp5DDz0Unxpmv89VbA4455xzsDwbP368dwD5jCIqR1tWv379Z599Nr4IdZp1j70CQ4YMcWYRQkAIJEeA6cmRnF+chsDX+DHsdI5BwOyChVUMRCoSAnlB4F//+heuYr/zne9Q28aNGxGM3Co/bf34y2ATwPDhw/Eii3ILAQ7RLeRk0RP3Zvvssw9iWZgPHVMU4VRSCAiB5Ajoi5kcq5BTuyxDNET/f/bOPOCqaf3j95IpIkLXEOUaImS4JESXrpAhUVHGDN1KhYgMF5UuUoZIXJmaZ0q4ogx1I5lK5jlzVyjRwP39Pu5zPZZ9ztlnn/Oec9737f2+f+x37bWeNezPXvvsZz/rWWuJgAiUMwFmU/JnjQgX3M/aLLO0pYoxaomWlhpPTExSWnlFioAIiEDxCMiHrHhsVbIIiEDRCdhCZaE/WdGrVAUiIAIiUAQCspAVAaqKFAERKAkB/MyGDBnCArP4ojFSySTNklSrSkRABESg8ATkQ5aIqUbEE2GSkAiIgAiIQJUnoDdmfl1AFrIcuMU7F+dQkERFQAREQAREQAREICAgH7IAhoIiIAIiIAIiIAIiUB4EZCHLgbqWvUgOSybr5KxMUsRELFcCecirm+UKTcRyJYa8QcsjYxXPIoWsEncAFMR//etf77777n777bfjjjtmvZJPP/108eLFJsbSmjvttJNnWbZs2ZQpU0488USPscBzzz3HVoBbbLEFOwzaJtARgcp1ylw8tt+pVavWIYccElmtKvVC2J2aBeI9ni19Nt54Yz8VMUfhAREDRQGfSkp7/vnn6ai77767QyZAN2ZnArY6YLXbBg0ahEmVNFxAaFXkwSwgMfpMFelmleDp4L7qLysBu5FZxUop8P777/tCl9WqVRs2bFh87atWrWJlc++Rf/7zn02etTSvueYaNl1G24iU0L59e5enrpdeeikiEHNaAYmxZw4bTlvD9thjD3bsiWk/Sffcc49fPgFegSYvYpm4iVihnkoIP/PMMyx1S8e7+eabQ+DPPvvsJptsYj0TO0TXrl3D1Kxhy5hVrJQChYJWdR7MQhHjLledblbKLp13XbKQ2Q9UJTuywnjHjh3ZeYbtYkaOHHnJJZeweR/6U4yhmH0A+R0//vjj7VI9wE7MO+ywAx0ogmDOnDkvvPDCnXfeudFGG9144428Bk466aTQYhSRr+Cn06ZNw9Q3b968b775hnfYiy++yD48J598cqZmY+wBb/fu3c2QBgRQm7CIpYUmYgV8KiHMs4bZ+7HHHovQ7t27N5bsY445hj2jWPJj0KBB7EzVtm3biFhlOS0gtCryYBaQWNXpZpXlcdBuU4l0WbudiURLIvT111/zZeNV7bbbbmuvvfby5cs9JhL48ccfWcccBSsS76dNmjSJWMhOO+00XgkmwKfneuutB4SPPvrIs8QHKhoxXmzOB1WM5l155ZUxl8CGiWyMGCMgYhE4Ilbwp5JdoeiooYWMj4ozzjjDyV922WUIdOjQwWOyBirag1lwaKv9g1lwYlWhm2V9LiqIgCxk9gNV4CPmJRQmts9r2bIlmyh76fh7mWbQqFGj/fff3+JXrFgxceJEzFd86bIXMvv3tWnTZuutt/7nP/+J1cFkGLxgXJKtkdnpD5sNWy8feOCBXuy666576qmnxjhFjR49+p133qExRxxxxEUXXZS6yQz6nJdmgb///e+4jlmYCyEjbQudqCLyZTwtOzHGZN2Ah2mBa/zkk09eeeUVGsbOOX/5y1+8hSiXXC/EPCYS4Bu0b9++7733Hq5m2AXPOuusVNNj5SL25ptvjh07lkFb3uhs7w2Qo48+moGPKkUM4+jDDz/MbW3atClPH/sm2X1n8Jqnde7cuSwwy7aYDN9bfFpo5ftU4sjIrp3eXTGM4W8Q/sJ4UqECZX8wq9pPmbpZofpeVSyngiiGFbwZ1jMSNrJLly5oAwMHDjz88MP50ceL3DISU7du3bvuuosRRl7wZ599NjrE1KlTiaR8hs94TdqeyrvssgvmnKFDh5of/YABA1ARKISikLz++uvDltx33334/OLKGkZGwp07d/bXDGUyfBkRQMOLWMgiArzD9tlnn0hkzGnpiS1YsACbFvVCg8EL2vbZZ58dd9xxe+65p51aa5nWQMzw4cNjGo+3HLcADdiuAjjkishXImIMT5vywcubCQ2o71wXBi109KpDDPNwvXr1TjnlFMb4UKb32msvvna4p19++SVPa6dOnVj0H0szD+Ds2bOJzwStlE8laiJ3KrSQRTohX2gI8BsSiY85RZ6/GIEwST9l0MiJmLqZ9Z+coIVdroqHkz6ZVR3Tf/tXEgj8rCNr/u+oCISxspCROYwoYbNmzbJCunXrRpL91BJJGHMU1gsUL94ZnDK9EclLL72UsOtPeI1gKvNmIN+8eXOKxVcdzxJ7wXhqauDjjz9GQaFAXkjz588PBeLViw8++ADzGxayMEt8mFr4i5ex1AISQ23aYIMNzCXOCseOyERUb0afPn223HJLGobu+9prr3l82gCWy3HjxtWsWRN57GQRmcpFzAyEPXv2pJOgh3FFmDy5oipCjFvJnOJjjz3WbmLr1q0hYLM09t13X+BYPNOQ6edYoezzJhO0kj2VWRUyHEn33nvvrA9+2HW5cP7CmEzhAj6YVFEyaOX4YKqbeV9K3s08iwIQSPRkilTy7sUKFNtuu60Te/rpp1HLOGUUEjUIXy5LYrSIMuvXr8/pW2+9RRizmSXdcccdnDKIySkqFHYatApL4kWCYmdhjitXrnz55ZfxhTKbx4wZMzwpJnDVVVdRfmRyVvyvGOoIfsQxZaYmUQV/qfGpMYUlhqmDetFcqQiFlddVWCPDwQBkvBgZFvIIkzKFuVNmwmQT61CmchFr164dl+xedGj/WIPscqoCMTMtMwnULplb+cADD/D4oJSDBTXd7yyuk8QwxE9MJmgleyrjFTJ+WGrUqJHT3Gcuiqvjz683JlDYB7Nk0MrxwVQ38+6UvJt5FgUgkOjJFKnk3YvpeIyGpBKrXbs2xpvwW5YfU5Qtt1i4QoavD9VxtELQ5DhF8WIADttPWILXggkNmR49ehDDgg4MPtqfv3RdkgAeM1SNr0wYGfMrxkRLrgjftVA+a7i8iJlVEm85WnjuuecywJTaVN7ErN4EfNxjSc1KjJE+LmfmzJlhUZWLmM0ndYWMAVn+7HKqAjGmCXMHJ0+eHN5Bwrfffjvx1113ncfjHkAM9mZiYqDl+lSOGjXql4fy5/+pI+Zpn8oYhQxHJfowxXrLEwa4Ov6SCOunzCglJ6Zu5v0qOTTPogAE5NRvPadgR4xVKE+s3Og+W3jFsn4jtjEWcsRm42s8IoBnjzn3xFSPVoFyduutt2KnYTpVWnn8XZh7hZ5BOQxiUrsVyE9qasm0EBMRul1qUmrM9OnT+ZXB9mazLFMFyh5TWGLoGYwRYwbDXf2hhx7C3y61hSyKCzFeugwQk5qVGLY0xFJnQqSWTIyIAaECEqNVLH3CVAa7azwsPIw8lZyypItFcrTHFm8zj0kbyPWpZBm/Vq1aeVH4uXvYAjk9lTQbd35+DVJXco4UW5bTwj6YtCRXaFkfzJyglebB5DLVzcrS66p6XqmlSQhYL0kiifM7wjgOm/CiRYsYZyTMjwvxzJCyeFQBzFSnn346p+bTk8lChkDDhg3Rh/gRxwHZskeO+HihqCX8XEZd44cMZSUsBHsPzlJhDGGcbBhUZczO4mlz6pd9JIufliOxSZMmUTsDx+eff763JxLgZYZTUSQy0ynzUlGpI6mVi1iMsYfrWu2JmfM7nzRLly61+8hAP5Gmim2++eZ+c/v370/n4YEiJh5aCZ5Ks5DddNNN3jwCqJJ8TrDghUfyBcgCe34aHyjHB5OGlQBaOT6Y6mbe95J3M8+iAAQS2a5FKnn3QtFBmOEwtIErrrgCtcCcyvltRWfCl3zJkiXwZI4b61wwr56w/ewyock4M2uSEvAkc+z/+Mc/iGHdV4/BIYMBSmbgE4NDDEmsvoPC5AJhgNUfUBNxlGHQky0ymFiHo0woQLhx48a0OSwBNywqZewPdeTCCy+keciwAEQkY6ZT8vKXKTWMLzgx7AcYJJjrgHOeV3T33Xez0Cv6MTF8K2M7ZAUET40EGMOCEsvzMDCEbRIvb6wpEZnKRYy3FLfDLp8LwQKEG5lf0WpPjI7NHGEI4FN4ww034N1/5JFH2uXbavjmXsZ6e8zA9ScxHloJnkoecNps46fWWgadMfIxUZqnkj9+ZFi9hU+pYiwQWPAHk0soAbRyfDDVzfwnhX7Ln58qkJCAkCUClVP34hcf5YYsaGDMLfIKmKXITye6AuYWLE98TpGET64NYuJZwmr7eBOzGBJ52eYIu4XlxX+LVJ+hSSRKnq06hq7ARH0UJib4eEWRAFqFuaVTLG9ibAChIxpKIQMfNhLKtDJmIZAdqxhWNLvq8OjbB0WqSD21XKnxaWMKToxF1HzqnNXIC5gmYWisU6cOTmM2iTVtY4hkoBN9Dvnq1auzdonpzS5c6Yix/Jj1FjQM7iBTNOzuEHCvstWeGF0aV0i7cIyjPseWDyRWvWcUm6kz9A2G/lFPuddZoRX1qaQBPKc777wzDcaA57ZevojsEsKjb4PmXTQmYBljBMKkgj+YRYVWER5MdTPrPzl1s7DLVfHw77n+8NlWOC0Bez0nZ4W7GL/4qFbuSWbF8glFPOusopalrShTJLnwjgpTeW0wsILalOqPEop5eOHChbx1bJ0zjyxeoHyJwR+Hfd6vfoGQZ0VQoGGzTOIPh1mRVzV+Y0DzQooaELFc8eZKjPLffvttdFAeJd/V1Cqlt7BoM59Gqev9xrSq0j2VXEuu0PRTlisxdbM8ulnMU1alkqSQJbrdeTyTicpdfYVELNd7K2IiliuBPOTVzXKFJmK5EkNe0PKARpb/bR6SX2blEgEREAEREAEREAERKDsBKWRlZ6gSREAEREAEREAERKBMBKSQlQmfMouACIiACIiACIhA2QlIISs7Q5UgAiIgAiIgAiIgAmUiIIWsTPiUWQREQAREQAREQATKTkBbJ5WdYbmVwDIcLEjGdH22Ad5xxx2ztuPTTz9dvHixibGaA6sxeZZly5ax3VDqTiys18WaqCwiymY4LEfp8pU0wC4FbABcq1YttleypbliLoTV2th/yQVY8o3V4PxUxByFB0QMFAV8KimNlZzpqL7fmqGmG7OeHAtSsKIhO1o6/8obKCC0KvJgFpBY1elmleAB4b7qLysBu5FZxUopwAqEvpgZ69AOGzYsvvZVq1ax2Kz3SF9MktXJ2Tyb9dLQNiIlsAGAy1MXa9hGBGJOKyAxlvr01adYG5btnGPaTxKrt/vlE/BFcUUsEzcRK9RTCWE28LBdBG6++eYQONs9scmH9UwWF+jatWuYmjVcAR/MQkGrOg9moYhVqW6W9dGoCAKykIXv3EoTZpnTjh07shfQQQcdNHLkSPbBZJV/9Cdb/SXtZYwYMYLfcXbBs1QPvPHGG2w0Tl+M5GJP9BdeeOHOO+9klyH2F+c1wMLuocUoIl/BT9nxF1MfW/6xbwHvsBdffHH8+PG2WWHalmPsAW/37t3NkAYEUJukiIlYWgIFfCopn2cNs/djjz0WqYudlLBks7sAm5sNGTKEbXMPOOAA9hqPiFWW0wJCqyIPZgGJVZ1uVlkeB22dlEgtttuZSLQkQiwszge0V7Xbbruxwrhvg+PxHmCFehadR8HymEiArTAjFjL2u+SVYGJ8etrq9sXYMi/SkiKd8mJzPqhi3FC2l46pi81G2c4yRkDEInBErOBPJbup0lFDCxkfFWzu5OTZYhyBDh06eEzWgH7KKvtPmbpZ1k5eeQVkIbMfqAIfMS+hMLFFEptzb7bZZl46/l6mGTRq1Gj//fe3eLahnDhxIuYrvnTZ7/KLL75o06YNGyKxtTB2GpNh8IJxSba/ZDM4bDZsSsjWe14sGyixx3CMUxRbZL7zzjs05ogjjmBPYpQzz2uB1B1j2NwQ1zFL5ULISNtCJ6pICWU8LTsxxmTdgIdpgWtk+6NXXnmFhrGnO1tbegv5ReZ6IeYxkQDfoH379mWrJVzNsAuygWCq6bFyEWObv7FjxzJoyxv9kUceAQh7VDPwUaWIYRxlR3lua9OmTXn6bP9Wbj2D1zytc+fOZa+zZs2a+XZnaaGV71OJI+Ntt93m3RXDGP4G4S+MJxUqUPYHs6r9lKmbFarvVcVyKq8uWcqWW89IWGOXLl3QBgYOHMi+1Pzo40VuGYlhk++77rqLEUZe8GeffTY6xNSpU23nb4bPeE3aXpPstYc5Z+jQoeZHP2DAAFQECqEoWsLW12FL7rvvPnx+cWUNIyPhzp07+2uGMhm+jAig4UUsZBEB3mH77LNPJDLmtPTEFixYgE2LeqHB4AVt++yzz4477rg999zTTq21TGsgZvjw4TGNx1uOW2A7xFMgcMgVka9ExBieNuWDlzcTGmzbeAxa6OhVhxjm4Xr16p1yyimM8aFMs9E4Xzvc0y+//JKntVOnTvfeey+WZh7A2bNnE58JWimfStREul9oIYt0Qr7QEOA3JBIfc4o8fzECYZJ+yqCREzF1M+s/OUELu1wVDyd9Mqs6pv/2ryQQ+FlH1vzfUREIY2UhI3MYUcJmzZplhXTr1o0k+6klkjDmKKwXKF68MzhleiOSl156KWHXn/AawVTmzUC+efPmFIuvOp4l9oLx1NTAxx9/jIJCgbyQ5s+fHwrEqxfsYo75DQtZmCU+TC38xctYagGJoTZtsMEG5hJnhWNHZCKqN6NPnz5bbrklDUP3ZWdoj08bwHI5bty4mjVrIo+dLCJTuYiZgbBnz550EvQwrgiTJ1dURYhxK5lTfOyxx9pNbN26NQRslsa+++4LHItnGjL9HCuUfd5kglaypzKrQoYj6d577531wQ+7LhfOXxiTKVzAB5MqSgatHB9MdTPvS8m7mWdRAAKJnkyRSt69WIFi2223dWJPP/00ahmnjEKiBuHLZUmMFlFm/fr1OX3rrbcIYzazpDvuuINTBjE5RYXCToNWYUm8SFDsLMxx5cqVL7/8Mr5QZvOYMWOGJ8UErrrqKsqPTM6K/xVDHcGPOKbM1CSq4C81PjWmsMQwdVAvmisVobDyugprZDgYgIwXI8NCHmFSpjB3ykyYX331VShTuYi1a9eOS3YvOrR/rEF2OVWBmJmWmQRql8ytfOCBB3h8UMrBgprudxbXSWIY4icmE7SSPZXxChk/LDVq1Mhp7jMXxdXx59cbEyjsg1kyaOX4YKqbeXdK3s08iwIQSPRkilTy7sV0PEZDUonVrl0b4034LcuPKcqWWyxcIcPXh+o4WiFocpyieDEAh+0nLMFrwYSGTI8ePYhhQQcGH+3PX7ouSQCPGarGVyaMjPkVY6IlV4TvWiifNVxexMwqibccLTz33HMZYEptKm9iVm8CPu6xpGYlxkgflzNz5sywqMpFzOaTukLGgCx/djlVgRjThLmDkydPDu8g4dtvv5346667zuNxDyAGezMxMdByfSpHjRr1y0P58//UEfO0T2WMQoajEn2YYr3lCQNcHX9JhPVTZpSSE1M3836VHJpnUQACcuq3nlOwI8YqlCdWbnSfLbxiWb8R2xgLOWKz8TUeEcCzx5x7YqpHq0A5u/XWW7HTMJ0qrTz+Lsy9Qs+gHAYxqd0K5Cc1tWRaiIkI3S41KTVm+vTp/Mpge7OpSakCZY8pLDH0DMaIMYPhrv7QQw/hb5faQhbFhRgvXQaISc1KDFsaYqkzIVJLJkbEgFABidEqlj5hKoPdNR4WHkaeSk5Z0sUiOdpji7eZx6QN5PpUsoxfq1atvCj83D1sgZyeSpqNOz+/BqkrOUeKLctpYR9MWpIrtKwPZk7QSvNgcpnqZmXpdVU9r9TSJASslySRxPkdYRyHTXjRokWMMxLmx4V4ZkhZPKoAZqrTTz+dU/PpyWQhQ6Bhw4boQ/yI44Bs2SNHfLxQ1BJ+LqOu8UOGshIWgr0HZ6kwhjBONgyqMmZn8bQ59cs+ksVPy5HYpEmTqJ2B4/PPP9/bEwnwMsOpKBKZ6ZR5qajUkdTKRSzG2MN1rfbEzPmdT5qlS5fafWSgn0hTxTbffHO/uf3796fz8EAREw+tBE+lWchuuukmbx4BVEk+J1jwwiP5AmSBPT+ND5Tjg0nDSgCtHB9MdTPve8m7mWdRAAKJbNcilbx7oeggzHAY2sAVV1yBWmBO5fy2ojPhS75kyRJ4MseNdS6YV0/YfnaZ0GScmTVJCXiSOfZ//OMfxLDuq8fgkMEAJTPwicEhhiSWxUJhcoEwwOoPqIk4yjDoyU4sTKzDUSYUINy4cWPaHJaAGxaVMvaHOnLhhRfSPGRYACKSMdMpefnLlBrGF5wY9gMMEsx1wDnPK7r77rtZ6BX9mBi+lbEdsgKCp0YCjGFBiVWgGBjCNomXN9aUiEzlIsZbitthl8+FYAHCjcyvaLUnRsdmjjAE8Cm84YYb8O4/8sgj7fJtNXxzL2O9PWbg+pMYD60ETyUPOG228VNrLYPOGPmYKM1TyR8/MqzewqdUMRYILPiDySWUAFo5PpjqZv6TQr/lz08VSEhAyBKByql78YuPckMWNDDmFnkFzFLkpxNdAXMLlic+p0jCJ9cGMfEsYbV9vIlZDIm8bHOE3cLy4r9Fqs/QJBIlz1YdQ1dgoj4KExN8vKJIAK3C3NIpljcxNoDQEQ2lkIEPGwllWhmzEMiOVQwrml11ePTtgyJVpJ5artT4tDEFJ8Yiaj51zmrkBUyTMDTWqVMHpzGbxJq2MUQy0Ik+h3z16tVZu8T0ZheudMRYfsx6CxoGd5ApGnZ3CLhX2WpPjC6NK6RdOMZRn2PLBxKr3jOKzdQZ+gZD/6in3Ous0Ir6VNIAntOdd96ZBmPAc1svX0R2CeHRt0HzLhoTsIwxAmFSwR/MokKrCA+mupn1n5y6Wdjlqnj491x/+GwrnJaAvZ6Ts8JdjF98VCv3JLNi+YQinnVWUcvSVpQpklx4R4WpvDYYWEFtSvVHCcU8vHDhQt46ts6ZRxYvUL7E4I/DPu9Xv0DIsyIo0LBZJvGHw6zIqxq/MaB5IUUNiFiueHMlRvlvv/02OiiPku9qapXSW1i0mU+j1PV+Y1pV6Z5KriVXaPopy5WYulke3SzmKatSSVLIEt3uPJ7JROWuvkIiluu9FTERy5VAHvLqZrlCE7FciSEvaHlAI8sa+WVTLhEQAREQAREQAREQgUIRkEJWKJIqRwREQAREQAREQATyJCCFLE9wyiYCIiACIiACIiAChSIghaxQJFWOCIiACIiACIiACORJQApZnuCUTQREQAREQAREQAQKRUBbJxWKpMoRAREQgV8JsObWxIkTbbn/X2NTQiwTyDrPYTRr04TL5aQt54033mAtPSRZPo11YsPslTTM4ogszciiJGxqYus4xlwIS46tWrXKBZjTx86efkqA9R1Z48ZWA/b41QkaazCxGiVrtbAH/I477ujXmCnw6aefLl682FJZyoel+EJJFgxnqULf1s+S2NOFZQtZ94SFMyN4w7wKF5JAFV+HLeHlG/GEwhKDgIjl2g1EbLUh9sUXX7BLR61atbinWS+qU6dOduv9OHXqVMuVqRy2WbOVnMlCLSgfWWtxAavFTytIgG3fNttsM2sbgfHjx8c0DN3CL9+yoHi5/COPPGJbLFx11VUeSSBvaBWQGMvP+kqWKK/Dhg0LrzQ1jPLKSuN2IRzDlYTZJ8Y2q7j55pvDjOwqxl4ylgV9t2vXrmFq1nAFhJa1zRVBIPvvRUVoZbm3Qd0r11sgYiKWK4Fc5StmH7vgggvC5ZfjL4qNKU1vs2vhyGrGtpFGpnLQXRALF7BlreP4WsLUCggNwxVXzebrtWvXtuYRCNscCQ8cONDE/HjnnXci88ILLzRq1MhXcg4VsrJAq2jE6B6oUGwrzH5Z1157Lc1j/WoWvo5QCk/vvfdedNaev/yF+5SAjk3fKSSikLG1SefOnR999FG2gdlggw0QYBeZsMz4cEWDFt/aipMqhSzRvVD3SoQpEBKxAEaioIglwhQIVUxibIjJYJkbMIL2pglOmTKF/bbZJM3/5s6da3KZymHX2smTJ1MF46FuKHr99dfTlJ4uqgJC69atG7to0NgffvjBdDK2LMOok675P8exISk7fTkxAgyrWXYUXNsuk8sMFbKyQKtoxNhVArOWw9ltt93Qzn0PNI/3AF0FjQ1t1WMiATbt5RpDhYyte9lDzMXYyR6BDh06eEzWQEWDlrXBFURAPmTWc3QUARFYzQnwiY+XEraEli1bNmvWzIxMnLLxPBvF4kOD4aFFixa27+eNN97Imwwi7HzKkbzseMbwIv46Q4YMWbp0qcHCF4etMNmBHmWCkR3MCYiRhJEMA4bJxBxHjBhBRiwWbFvJ7qvs+O7CmcphfAqTGGLHHXfcIYcc8vjjj9Ngi/G8hQqgJ2FbeuWVV7A8YcFiJ1wrmT2jaPlbb7217777cvnmkDRnzhxcjkwAz7m77rprwYIFIOVFjjYwffp0bxUxwKHlxOADhypgSWwEh7sSI7YnnHBCJjcyzGmUtuuuu2IJYyd4CHixtv0u2/t6jAdKCQ2nwIcffhh0TZs23X///V1p5kajSKFws6Ue3c/dBPGHGzt2LHunogYx3sqlsX88+8pjCbP2wxAadF28CbnXDMgCzS+Nq2aDeeu0HhkG6LrvvPMOff6II45gQ3pBSVuDAABAAElEQVSUszCVcGhttSQY3nbbbS7Wtm3ba665xseUPV6BwhOoIIphBW+Gca/gjaxQzROxXG+HiBWPGO82vvghzGvGduy+9NJLqQ4zDG8p4hnMYSNtAry3bMTwjjvusDuCzQZ1x0Zt0MZWrFjBaJEl8a5lP1nK4fVJzH333eeXgAZjMh6TGkCrwxRkYhwJX3755bx0Q8n4cvB/JyNv9zBLfDhrqzw7ChZKAw2wcTEURLy8SeVimUbAIONjjz3GrqAoBDNnziQejzesfVY+xHbYYQcL33PPPV9++SWqiZ127NgR7Nj/Dj/88MaNG3/++edeI5oW+8xSMrqLR0YCOOdZOXakefi2hzLoNJYUWshCgVyhWWlhCTFhLgG19ZRTThk0aBCKDvvZW3eCAJoQCj2jh9i00Ndnz55NOccff7xpbGg8DF6bTnn//fcPHTrU5moMGDDAhiMZPaQl119/fVg7XQ5P/GXLloWRkTAjj678USaadEQANZGSQwtZRABdEAF3bYykpj1Fnr+0SYqMISBkMXB+TVL3+pVFspCIJeP0q5SI/coiWSg5sTFjxiCMkzLvtr59+xLmc59KTOtio3EmoHG6+eabk8SrkbDbt7CQoR+gwFl15kGPMmGn+D4j/OCDD2KqIeB/8YqUifFqtELCI7YlL4RATDmohqbPFeNNCSibWHfTTTdx+TVq1KCRqLNUWrduXcK4uNE8s6MAFuWSU0xfdi3Y1RhEsw0Njz32WJIAZUmg45Q/7FtPP/20hTmedNJJbhXDWJhJJ3M9z0rjCARseF5OvEKWBzSryMuPCVA4xkK7XsRat25NXqyGhDElclGWl0kJGLSwQpkiRTxifBKgumHKIsxHApLW5Vx/wqCIqcxK4Ig5Dc0SwvTe3r17m9rnqakBZvJiUqVw1MT58+eHAlkVMnRohomzVhGWSUX8hTEKJyEgZEkoac5gIkqhkB7IkEaSsIgloRTKJCdmRpGDDz6Y7J999hkvGMw2hG3oB8sEYf4wXVDmQQcdRBgxKx+rBqcYKuzU3HemTZtmp6eddhqp7du3x6+LgP+lKlIoDdiW/I9THJ54N7PiAI054IADrECOWFliyvGkCRMmIIwDlsckCVgtWSWx35jkjBkzEMYoeOaZZ37yySc2zkgSFiDirQ2cMiLJKWAtF9YyTk2NY4iNMH92jRiEWKyB4U7e8RZvRxQX7EmWnSPedXiGOS4LEMOAIGN8NOO8886rWbOmyTPG50XFK2R5QLMqvPyYgBmxrGsh9tVXXz3wwAPcZUZ4KaRPnz6el25DjLnJt2vXjrA7gTFsTT9EEhUKDZUuarlQ72DiJVDsyy+/fOWVV5pRzW6Tp2YKYDWkrsiUyXiFjHFn7mNOM3mpnVr4y9QMxWciIGSZyPwmXt3rNzgSnIhYAki/ERGx3+BIcJKcmDk/MWYUKdVMYltvvbXFm7sYwzqcRhQyXMqsOjN4IGAGJOwN2CoYBo3YD1IVsjZt2lgJdgx1CKsdVzYbvcJuZzEcU8uxJEx6W265JYomVhkXThJICI2xMJNEFQuLHTx4sMXjIkY8Coed2lBaRCHbaKONSPVFFvCUMuHu3bvjbOeKi5cPQ8yTLmN6jJ3aMVRVycUQKj5nJKHEeCExCll+0KxqLz8mYJ0kopojf/vtt1PIdddd53lNv8eyRYytVOcKGaPA/Jmk9RkUL3ojpsFIHzMZs7P26NGDUwyTGwd/kXuHgBk7I2PcMQoZ6i/9nGKtruTH5NCSl1kVJLVSv/UcHUVABFZbAubyjJ81rkvhRZoJxxdKwOpAKm5MoUymMFoFSWRhIAnrkelSmYSJr1+/PtYO/zNrXCiPlxvlEJPEQ/+cc85Bv2SCIRohLlnMKgiLKnvYncQxjYSlGTFiDJoR4zR0hgvlwzDTAmzyKcocU0RPPPHEMJUwDPFttykCuO5RpuOygGl4ngvTpmmESYiRq9jQzFjl1lNqhM+LL75os0N80JZ4c+rySRJ+RZGALUjBzcWljOHgtH0MLzT6gN0I8ALZ//jSiBRIC1HxU4d9I2J2SrNx56fe1DuVVl6RZSdQrexFqAQREAERqMgEcHxmdh5+UfjlmNsTzjo4VjNqxvDZkiVLrPEWcM/0+CvCsIH2wLAUVgT3nfIs1GVhrBp4+RC++r9/LkCAFx5+8UwU8IlvzLBDC2F2noullkMSXvYsncrbGn84LCtM3COjZylIwBdtZ0opFeE3RkuwBfqoorFydEmgwaFLly4XX3wxvlPYfkx9obX4jKM6GAScolDIGJRkoBM1y4w34RVxv0jF78o0QsyEqGXMjXUZJ2ZqkMeXAJrNF2FgsV+/fjYLhAAGQtswgJm83hh8/AmzGIfHpA0gAFhsYFwjil1aGWZFcKU2Z4KjBdJKEkl3ZQYGo72pAtifwki0fLz6MEDiLGjxDLKjEaZ+SIS5FC4rgapgBiz7NRrlspdTdUoQsVzvtYgVjxh+WuZgzvHss89GkeJVhx865h/eMUTymmdUCJcdwlg4aImPl+G7w+nf/vY3u0GYdrydlEMkBXqMB1jawOQp1iMjAdZiQIZKGW9Cq8NniG1wIquup5bDkgqplhIbQIyUn/bUWpU2KRLJoKoJo2fgq4QOZG3DAEO8Oc+hYBHGfGV5fVgWxyPe6KaJott5yQwaonESz5wJi2SOJCVglWS8D0UNpzqMcDGOcQaEcTRWz0LZZV1TpmranAwr0AdbGT/1essCzSB4UTEBdEHTvVD0mbSLdz/Lq5o8ZlTKsVFazLRMaACdJaF6krRo0SI7xWwWjsDasmo4KXq99BM6DE51xKBgkURnpmoXCAO4/aHf475GP+QpOOqoo+zGhTIURQNs/NTi0fK5+4zds0wGf+effz4ra+Cx53ctzJ42nBxa2uxVNlI+ZIluvbpXIkyBkIgFMBIFRSwRpkAoJ2IjR460dQRQubAiuJ6Exw9eN5hnUDsYEcPPyWpw6wX6AU5d5m1GjdiiWJnTZBYuXIidZt68eUGj/o8BJnvFWvPwSzP/91DGs7u9AYMKE/HC+ZJpy8Gy4p7sVr4dMZ+klp82xuTTJkUi8dCyCYBkYR4l0y1NAH2C+XrokVwmI5tMCTQgjB76gCavcxvSJS+SOFF54X/9619R6fwUP30zLCEJfyxeuKmldZayLBgFzfiEPMrZ6aef7os+oFWfddZZvlwWbUONYJy6jNCoiD9vcHyATY3ciIipD7Xe5DElsmAbvQXllXU9GJ7GrEUSOr2NDgMT90SMUlYdAfMqYxkU+ifWNa8XFdayME8TKy/eeDF+hCj6NiuWYlH1+vfvH2FLjPGnh6N4WS1gtGaER/cF9JbEBCxjjICS0hL4PbEhdIXTEuBHnHixSgsnbaSIpcUSEyliMXDSJuVKDJsNg268xly7smKxLjAKxpE3U6rxKW3VHok25qN7HplTgJXMGHVCz3M9I6fsuQrnCg3NleYxcBYhgxLGTEnGW1EXcmoDeh4OTyheYS7uC6oDY5SMXVoLw9RIGP0D0yajeAl9oSLZcz3NlRjlv/3226hT+OabjdBrBBpaIx0Gry+PzBpAq6OoUAxljm7DmG+ql1go5mH7ckB785hiB/KAVuwmVYrypZAluk3qXokwBUIiFsBIFBSxRJgCIRELYCQNClpSUr/IidgvJHL4L2g5wApENcsygKGgCIiACIiACIiACJQHASlk5UFddYqACIiACIiACIhAQEAKWQBDQREQAREQAREQAREoDwJSyMqDuuoUAREQAREQAREQgYCAFLIAhoIiIAIiIAIiIAIiUB4EtFJ/eVBXnSIgAiIgAiJQNgKso8sCuQcddFDWzaNs5eGwNlbBsB2cLJIFz1j02DbWdDEW76B8Fq1l9V3b0sqTFCgGAS17kYiqJvEmwhQIiVgAI1FQxBJhCoRELICRNChoSUn9IlcxiaE/sTzv448/zvp5tPDwww9HnfLdqH5p+6//O3fubHucexSrELORAKcsnMsqxKzHy7r/4VqbLM7Hqr8sdWtZWC2WfRGMhheSKVAxoWVqbcWJl0KW6F6oeyXCFAiJWAAjUVDEEmEKhEQsgJE0KGhJSf0iVzGJoR6xPxX7UM2YMcO0KPQtdkH4pdW/+c+SyGzHhL7lsewWwNKyLPbLLkxsYsHav5bkChl6HttIsAMsl8/i/pZ69913s8eAFxITqJjQYhpcQZLkQ1ZBboSaIQIiIAIiIALZCbBTFmv0z549m/HEgQMHWga2AciUk90qkZ/02z/beoFdStkcc5tttonkJQt7LjFY+eGHH5ohDQHb9TIiqdMCEpAPWQFhqigREAEREIEqTWD06NFPPvkkFqaWLVs2a9bMdkniFPMSW1KyDSUbjbdo0cL2o2RLdfZBghd7nnIk74YbbtipUyf2pBoyZMjSpUsNJf5bbIXJwOIPP/yA8Yn9K33HTDbHRIbBSvYyN+HU44gRI8j43HPPsTkY+5NiLXMZqiOMPxkbh3skAXZJHzduHBY4wpdeeim7sxOQG1mIqChhTJT6y0rA0GcVk4ATEDFHkTAgYglBuZiIOYrkAUFLzsokkxNjaM9G9G677TbbsRtVhkIYMcQZi3J69ux5ww03EEBXs02+2bfeyq9duzaO+bafKdoY+3UOHz7ckjBlMbxIOWaguu+++/wS0PNOPPFExKjRIyMBtDrTq6w0wpdffjkuaKFYo0aNLDWM9DCmOEudOXOmR8YHYkqLz1jFU5NuYl/VMf23f1VxCDldvh7InHAhLGIiliuBPOTVzXKFlpzYmDFjEN5kk03Qk/r27Ut4s802ozrTuthofPHixZza3vbXXHMNYbdLYSHDiIUCZ9WxezqpuOrb6bPPPsvpgw8+eMghhxCwP8YrGVU0gfXXX3/y5Mm/pPzmP+YxkwmPzKYMheIVsj59+pCXiZYY88JcMWGrK0ZASWkJyIcs7KUKi4AIiIAIiEA+BBiUJBu+8IwqnnnmmR07drz++uuJGTZsGMeaNWtuvPHGBDCGcTRz11prrUWYP9Qdhh1r1aplp9999x0BPO7t1CZIjh079rzzzrMYjowqnnTSSTazctmyZVdffTWR8+bNeyz447R169asjvH888/fc889BxxwgGXH/IYjmhcVE8CSN2HChI022gjff3TKGEklFYBAWjVNkRECBjoSqdMYAiIWAydtkoilxRITKWIxcDIlCVomMpnikxOrV68ewttvv32kKDOJ4VZv8eYuhk2L088++8zKx2+MU1zK7PSpp54y4QYNGhCDI9qrr77KMKgNdFqSHVmW4o9//CMyaIFY4Nq0aWMl2PHoo48OhQmjNZo7P3Y7T4qxkF177bXUjvrowkkCVnsSScmEBGQhC3uvwiIgAiIgAiKQDwHz03/vvfe+/fbbMH+NGjU4dWPYypUrOV1vvfVCmUzh7t27k0QWpgJgdTNdKhRm1NKGFCmQiurXr4+bv/9hrguFCePlRjkEsq4liwxWNArHMkftnDJm+u677xLQX5EISCErElgVKwIiIAIiUIUI7L777lwtDmTuCvbOO+8w+Lj33nsTv2TJEmNhgYYNGyZBg7OXjWOy1H6HDh0sC0u5Mu0Ra5mdooQRaNq0abVq1Ri4fCb4w1MNxy+EaYlXt+uuu+Laj7zH0GYLe5mcUguTDzDszZkzp1evXixyduqpp9qsTM+oQIEJhOYyhTMRMOiZUhWfSkDEUpnEx4hYPJ/UVBFLZZI1RtCyIooIJCeGn5YtiMrx7LPPRolp0qQJkxzx0MeyRSTmJcYoUZsIT5s2jYpee+01Kx9PL07/9re/2SnL7nszKIdICvQYs1cdfPDBWLDQpS666CL0JMYuXSAMmAcbleKRZhso7bfffkSGMtttt53VS/MsHpscOzJZpB991DXMmzZsWdImKTKGgGZZxsD5NUnd61cWyUIilozTr1Ii9iuLZCERS8bpN1KC9hscCU5yIobnO85hZEHl2n///V2/YQokHv24l+EHhoM8g4BWMxqblc9oI05d5m1GDEYsFno1mYULFzLciXu+N5ZtjlCwLCNLiDEZEwOYp0YCZPeBS5bV2Hfffdk0yWVY2+zQQw+1ojji3zZo0CBS3cjnSQRYC80zxgcsV7yMUlMJaOuksL9lDPN0kQa+jBJK+C0BEfstj+xnIpad0W8lROy3PBKdCVoiTIFQrsRYdQwH/K222sq1KysMUxa7Q3JEJ0t1BQsqTBNEG7PxUE/797//jb0Nd3sWaw2XGXOBSICVzNgfCT3PljqLpBb8NFdoBW9AJS1QClmiG6fulQhTICRiAYxEQRFLhCkQErEARtKgoCUl9YuciP1CIof/gpYDrEBUTv0BDAVFQAREQAREQAREoDwISCErD+qqUwREQAREQAREQAQCAlLIAhgKioAIiIAIiIAIiEB5EJAPWSLqNiKeSFRCIiACIiACIlDlCWgaXK5dQBayXIlJXgREQAREQAREQAQKTOB/a5kUuNTVtDjp+6vpjdVliYAIiIAIFIyAxpTyQykLWX7clEsERGD1JDB37lxWRR8zZszqeXm6KhEQgYpKQBayinpn1C4REIGSExg/fjy7KbMOJ+ttlrxyVSgCIlClCUghq9K3XxcvAiIQEjjhhBPY4qZZs2ZhpMIiIAIiUAICGrIsAWRVIQIiUGkIrLfeepWmrWqoCIjAakRAFrLV6GbqUkSgQhJgd78HHnhg3XXXPeyww0aNGvXll1+2atWKjZbZj4/4JUuWtG7duk6dOtb2H374Yfr06c8//zxb/iGPveqTTz555ZVXLHXbbbetWbOmndatW3eXXXZZuXLlpEmTEK5Vq9bEiRPxJqa02rVrOwm2/HvssceWL1/eqFEj9nv2eAJpk+SPHCJSWAREoGQEZCErGWpVJAJVkQDaFdpSmzZt7r//fvShfv36XXzxxXvvvffMmTMPPPDAK664okePHocccsiyZcug89prr2222Wb//Oc/0ag6d+588MEHo28R/+ijj7b47x97JDPZuX379r17916xYsWIESO22267E088cfjw4XvuuWe3bt26du1KYOHChcb6xhtvZPyRPZjRAqnunHPO+fHHH7MmmYCOIiACIlBSAvy66S8rAbslWcUkIAIikErg5Zdf5gnacsstX331VVKvvvpqTnfddVcMVP/5z3+6dOnC6RNPPEHSmWeeSXjp0qWE27VrR/idd96xAtGlOL3wwgtHjx6NYWzx4sUWP3LkSOJr1KiBhoczPloXp6eddhqpU6ZMwdw1a9Ysk0RdI+nmm2+OT/rXv/6FWP/+/S2XjiIgArkS4AniL9dckpeFzHqOjiIgAsUigNGLoo8//vgGDRoQOPTQQzm2bdsW4xYK00EHHcQp45IcO3bseNNNN22wwQZvvfUWKhcxX331FUf+sHXtsMMOHM877zyGJhnKtPjNN9+cAIa3Aw44YLfddrv77rvXWGONxx9/nMhhw4attdZajFSa5Pnnn0/g9ttvj08yYR1FQAREoMQE5ENWYuCqTgSqHAE0pPCasWaFp+uvvz6nNpK4zz778JXMIOM666yDWhaKVa9e/Z577sEAttFGG9WrVy9MIuxVoLRts802H3744U8//fTUU08xWOk+YficUTUmN8xyMUmRknUqAiIgAqUh8JsfytJUqVpEQAREIC2BCRMm4Dd26qmnTp061S1bLkkkvv9vvvnm5Zdf7pGpAaZJ4oK25pprouR99913jJO6zKabbsq0ALS3mCQXVkAEREAESklAClkpaasuERCBOAL4+2+11VYoZC6ENcvCjzzyCK79CxYs2GuvvQYMGICJy2UIMDfTTj///PM33ngDGU7/9Kc/ccS3zJKwvTGvs0mTJvFJJqyjCIiACJSYgBSyEgNXdSJQ5Qh8++23XLMdCZjyhO3KQNippTKk+N577+EiNnny5BtuuAEBZlwOHjz49ddfP/3005lTicBdd92FanXKKaegXVkJHF0/e/DBBzm1eQMY0jCG4TTGLAEimYmJS1mvXr0IxyRFWouw/kRABESgFAQ0ryEJAbsTSSQlIwIiEBLApoW7PU8QuhRqEIauhg0bcoqnP574jFGyIBmnOH6xfSSrlLHMGKc4/t977724fzEZc8aMGczQxKuMfY0omeUz0KuQ+eMf/8iaGua/Ty4mBxx11FF4nt13333eAPQzkigca1n9+vWffPLJ+CTMadY85goMHDjQhRUQARFIToDHk7/k8pI0Ar/nn7HTMYaA+QWLVQwiJYlAQQh8//33LBX7hz/8gdK++OILFCP3yk9bPutlMAngtttuYxVZjFsocKhuoSSDnixvtuGGG6KWhfGEY5IikjoVARFITkBvzOSsQknNsgxpKCwCIlDOBJhNyZ81IlxwP2uzzNKWKsaoJVpaajwxMUlp5RUpAiIgAsUjIB+y4rFVySIgAkUnYAuVhf5kRa9SFYiACIhAEQjIQlYEqCpSBESgJATwMxsyZAgLzOKLxkglkzRLUq0qEQEREIHCE5APWSKmGhFPhElCIiACIiACVZ6A3pj5dQFZyHLgFu9cnENBEhUBERABERABERCBgIB8yAIYCoqACIiACIiACIhAeRCQhSwH6lr2IgdYEhUBERABEaiSBDSalN9tl0KWHzflEgERSETgo48+Yl2xtKIsDMbyYJ7EKmLPPPMM8uwdzibiLCTLXknNmzfP+uPObpUvvfQSa/d7UQQ+++yzadOmseCFbaPkSexiOXfuXFYm22233djL3OPDALsIvPLKK8gcd9xxbH8ZJiksAiIgAkUioCHLIoFVsSIgAj8TePHFF3v27In207hxY1bq5++CCy5o0aIFMaza74x69+699dZbX3bZZR988MGzzz7LSv1sLt66detMypxnRHlq2bJljx49PIbAzTffvOeee6JRtW/fvlOnTr4hJmtksKB/ly5d2D/g8MMPb9u27fLly8OMWMHvuOMONEKmbbKrJuv+h6kKi4AIiEARCfADpL+sBOwGZBWTgAiIQCoBFCOeIDQkT1q1atUJJ5wwdOhQi7nyyisRYPNKF0CFQo0jkq0tPTJt4Mwzz0SMjZg8FX2OvZXYVYmYOXPmYGC78847LfXII49kjQwLs10mGfv06eMZ2VWTRf/Rw1544QWPVEAERCBXAjxZ/OWaS/JClqgPqHslwiQhEUhH4NNPP+UJChUypNgvnBFJArfccgupbdq0iWRFJ8NIFq8bTZo0iUFJxEKFDNsbSpWXtscee2y77bYrV66kRirCPOZJ5F1//fXZetxizj333GrVqs2aNcsFFBABEciDgN6YeUAji4YsrefoKAIiUDoCqGJs9Y1/2IoVK66++moq7t69e6R6LFsYydjdKBLvp59//nnXrl1Hjhy57rrreiRbYTIcifLnMXXr1v3www/xG5s/fz6R4Y6WiC1btswMeFOnTr311lsZ39x///09rwIiIAIiUDICGX/sStYCVSQCIlClCODI5S5fePHb3ke77LJLKoRWrVph30qNt5gOHTpQDvawUABtDNNa6ImPQobA+++/v+aaaxJ49913Xb5WrVoe07dvX8KbbLIJkwNwL+vXrx9GNZdUQAREQASKTUAKWbEJq3wREIGfCTBi2LBhQ/SnLbbYAk98g4ILPwFGGGvWrGkxCY+DBw9mvmSqXQ2FjBJM07KiqI4ARjLsYdjbRo8evXjxYkv64osvTBiftpdffpkww5fMJGAXJqYX4OVmYjqKgAiIQAkIaNmLEkBWFSIgAj+PFeJHj58EOtMll1xiRH766ScCa6+9dk6A3njjjWuvvfa5555LXRGDMVCKwhXMCzRDF6Yv5k4ywZOpAzvvvDNDkzRj/PjxiO2www7z5s1juiUGuQEDBhCDhQzhKVOmzJ49m8mhXpQCIiACIlA8Ar/+bBWvDpUsAiIgArjP41wPB8YQWTbMgKAMEcBOhmmKhcfSUsKm1blzZ08aNGgQe4qvt956l156qUXiBPbNN9+cccYZxx57LMY2IinN5fESI9ygQQOO/fv3ZwbAE088gZZGAIWMI7rXm2++Sarb1VAQmzRpMmbMGFYjk0LmJBUQAREoKgEpZEXFq8JFQATSEGA1MotlGJG1vhjBREVjhbCIKOY0PMwwrWG78iSWK6tevTqDjyxvYZGoXPiNcbr77ruzJhmRH3/8scuzcAZhU8gIMBBpY5FHHXUUhVhLzBGNtWQ913777YdCRkUeo4AIiIAIFJWAFLKi4lXhIiACv0NbggLaVSqLjTfeuFu3bnjQM19y5syZESMZ65OhsbFcfmTm48EHHxwW1bRpU4xktqoF8Sh2zBWgUvQtKkXVY2YAFYVZmObJsrRDhgxBLSMeuxpqH0ts4EzGGmbEsGEA46HYz8JcCouACIhA8QjIqb94bFWyCIjAzwRwqOe4aNGitDhwn8cAhhcXhitWpjC9Db/7Xr16cUQbS5srJpL5kpjczD9s3LhxCxcuHDZsWCg/ceJEBjdxFzv77LM9nsVjsZCxxD8xOKLhQMZ0y5122skFFBABERCB4hLg509/WQnYPcgqJgEREIEIAbzv69SpY0/QYYcdZovBRmSwZmEMsxXCateuzWRMTGIsGBsRy3SKwSxcGBax+++/H88wqmOkctSoUZYRLQ2PfkxiOPUPHz48tTRSMdGhF7KaPxsA4GeWKqMYERCBrAT0xsyKKK3A74ktrsa3WpRuk7nEarW4mbqIikuAdSjefvttFLLI2GUeLWb+JpY51DKficnOSGysycQCBig9MlIyShs+Z0w1YNJAJEmnIiACCQnojZkQVERMClkESPpTda/0XBQrAiIgAiIgAr8loDfmb3kkPZMPWVJSkhMBERABERABERCBIhGQQlYksCpWBERABERABERABJISkEKWlJTkREAEREAEREAERKBIBLQOWQ5gMzkC51CEREVABERABERABEQghYAsZClIFCECIiACIiACIiACpSUgC1kOvLXsRQ6wJCoCIiACIlAlCWg0Kb/bLoUsP27KJQIikIgAexAtWbIkrSgrwW644Yae9O2337LlEfIsHnbggQeyFBmryDZv3jzrj/urr77K/kgsrO9FEWDZ/WnTpu2666577bVXGP/jjz/OnTuXrZbYv3KfffYJkzzMamRsK44M+wRsuummHq+ACIiACBSPgIYsi8dWJYuACPyOtVh79uyJ9tO4cWN28ubvggsuaNGiBTHsJumAevfuza7hbKP0wQcfsE34oYceyj6SrVu3zqTMeUaUJzYU79Gjh8cQYAckNsFEo2rfvn2nTp1sM03i2aqcnS67dOmyYMGCww8/vG3btsuXLw8zYgW/44470AgnTJjA+rFsfB6mKiwCIiACRSTAD5D+shKwG5BVTAIiIAKpBFCMeILQkDyJPbzZoWjo0KEWw75JCLBzkQugQqHGEcm6+R6ZNsAeR4iFWyehz7FB+PTp05GfM2cOBjb2qbS8Rx55JNsiWXjy5Mlk7NOnjxfLUv7NmjVDD2OXcY9UQAREIFcCPFn85ZpL8kKWqA+oeyXCJCERSEfg008/5QkKFTKkXn/9ddvXkj0rSW3Tpk0kKzoZRrJ43WjSpEkMSiIWKmTY3lCqvLQ99tiD7ZLYmJIaqQjzmCeRd/3111+6dKnFnHvuudWqVZs1a5YLKCACIpAHAb0x84BGFg1ZWs/RUQREoHQEUMXq16+Pf9iKFSuuvvpqKu7evXukeixbGMnWWCPjb9Tnn3/etWvXkSNHrrvuup73+++/ZzgS5c9j6taty6aW+I3Nnz+fSNvC3FIRW7ZsmRnwpk6deuuttzK+yb7mnlcBERABESgZgYw/diVrgSoSARGoUgRw5HKXL7z4OeXyd9lll1QIrVq1wr6VGm8xHTp0oBzsYaEA2himtdATH4UMgffff3/NNdck8O6777p8rVq1PKZv376EN9lkEyYH4F7Wr18/jGouqYAIiIAIFJuAFLJiE1b5IiACPxNgxLBhw4boT1tssQWe+AYFF34CjDDWrFnTYhIeBw8ezHzJVLsaChklmKZlRVEdAYxk2MOwt40ePXrx4sWW9MUXX5gwPm0vv/wyYYYvmUmwzjrrML0ALzcT01EEREAESkBAy16UALKqEAER+HmsED96/CTQmS655BIj8tNPPxFYe+21cwL0xhtvXHvttc8991zqihiMgVIUrmBeoBm6MH0xd5IJnkwd2HnnnRmapBnjx49HbIcddpg3bx7TLTHIDRgwgBgsZAhPmTJl9uzZTA71ohQQAREQgeIR+PVnq3h1qGQREAERwH0e53o4MIbIsmEGBGWIAHYyTFMsPJaWEjatzp07e9KgQYPuvffe9dZb79JLL7VInMC++eabM84449hjj8XYRiSluTxeYoQbNGjAsX///swAeOKJJ9DSCKCQcUT3evPNN0l1uxoKYpMmTcaMGcNqZFLInKQCIiACRSUghayoeFW4CIhAGgKsRmaxDCOy1hcjmKhorBAWEcWchocZpjVsV57EcmXVq1dn8JHlLSwSlQu/MU5333131iQj8uOPP3Z5Fs4gbAoZAQYibSzyqKOOohBriTmisZas59pvv/1QyKjIYxQQAREQgaISkEJWVLwqXARE4HdoS1BAu0plsfHGG3fr1g0PeuZLzpw5M2IkY30yNDaWy4/MfDz44IPDopo2bYqRzFa1IB7FjrkCVIq+RaWoeswMoKIwC9M8WZZ2yJAhqGXEY1dD7WOJDZzJWMOMGDYMYDwU+1mYS2EREAERKB4BOfUXj61KFgER+JkADvUcFy1alBYH7vMYwPDiwnDFyhSmt+F336tXL45oY2lzxUQyXxKTm/mHjRs3buHChcOGDQvlJ06cyOAm7mJnn322x7N4LBYylvgnBkc0HMiYbrnTTju5gAIiIAIiUFwC/PzpLysBuwdZxSQgAiIQIYD3fZ06dewJOuyww2wx2IgM1iyMYbZCWO3atZmMiUmMBWMjYplOMZiFC8Midv/99+MZRnWMVI4aNcoyoqXh0Y9JDKf+4cOHp5ZGKiY69EJW82cDAPzMUmUUIwIikJWA3phZEaUV+D2xxdX4VovSbTKXWK0WN1MXUXEJsA7F22+/jUIWGbvMo8XM38Qyh1rmMzHZGYmNNZlYwAClR0ZKRmnD54ypBkwaiCTpVAREICEBvTETgoqISSGLAEl/qu6VnotiRUAEREAEROC3BPTG/C2PpGfyIUtKSnIiIAIiIAIiIAIiUCQCUsiKBFbFioAIiIAIiIAIiEBSAlLIkpKSnAiIgAiIgAiIgAgUiYDWIcsBbCZH4ByKkKgIiIAIiIAIiIAIpBCQhSwFiSJEQAREQAREQAREoLQEZCHLgbeWvcgBlkRFQAREQASqJAGNJuV326WQ5cdNuURABBIRYA+iJUuWpBVlJdgNN9zQk7799lu2PEKexcMOPPBAliJjFdnmzZvH/7g///zz66yzDrtYejkWYNn9adOm7brrrnvttVdBkiKF6FQEREAECktAQ5aF5anSREAEfkOAtVh79uzJ7t2NGzdmJ2/+LrjgghYtWhDDbpIu2rt3b3YNZxulDz74gG3CDz30UPaRbN26dSZljozsfYm6tu+++z755JNejgXYAYlNMNngsn379p06dbLNNMuSFClfpyIgAiJQeAJp1+9XZISAcY9E6lQERCAJARQjniA0JBdmD292KBo6dKjFsG8SAuxc5AKoUKhxRLJuvkdGAuw+ee655yKD+hUmoc+xQfj06dOJnDNnDgY2JE0gv6SwcIVFQASyEuCp5C+rmAQiBLRSv/WcLEcbNIFdFjkli4AIpBBg9HDLLbdEIcNa5olvvPEGWxth4ho0aFC3bt3atGkzZswYTyXA44ZRbfDgwaljji6G1oUtDYWMEjyS4Ut2Jf/4448thnq//vprdmRCS8svyUtWQAREIAkBvTGTUEqV0ZBlKhPFiIAIFJcAzmH169dHG1uxYsXVV19NZd27d49UyW86RrI11oj7jVp77bUjub7//vsFCxaghHl83bp10fzmzp2bX5KXo4AIiIAIFJVA3I9dUStW4SIgAlWTwFdffdWjRw+7drz4OSW8yy67pNJo1arVHnvskRofE4M2xnDnpptu6jIoZITff//9/JK8HAVEQAREoKgENMuyqHhVuAiIwP8IvP766w0bNkRbevPNN7fYYguLxYWfwFZbbVWzZs3/yZXtH1oXBdSqVcuLsbowkq1cuTKPJC9HAREQAREoKgEpZEXFq8JFQAT+R4BFLiZPnoxnGDrTJZdcYrE//fQTgdSRx7ypMQZK3mrVfv1lMz1sk002yS8p75YoowiIgAjkREBDljnhkrAIiECeBNZff/1tt92WAUTWvGjbtq2VssMOOxDATrZ06dJM5Y4ePRp1yv9GjBiRSZJ4jG0cw9KWLVtGTIMGDfJLiqlLSSIgAiJQQAK/fkcWsFAVJQIiIAIxBFiNzFLxvt9ggw2+++67l1566aCDDopkwZyGhxmmNZzJPInlyjycGkDxItKnWBJm4QyOxH/zzTd5JJFFfyIgAiJQAgJSyEoAWVWIQJUmYOuypl01ZuONN2bFin79+nXt2pWFXlmdPyTF+mRobMcdd9z+++8fxkfCYcms8o9ix1wBKmWGJkmoeswMoCL+8kiK1KVTERABESgSAQ1ZFgmsihUBEfgfARzqCS1atCgtEVbnxwA2b948loqdP3++aVcsJNarVy+OaGNpc1kkK1kQiKzm37dvX0xu48ePJ2ncuHELFy4cNmyYyeeXZHl1FAEREIHiEuDnT39ZCdg9yComAREQgQiBa6+9tk6dOvYEHXbYYaxAFhHgFGsWxjCGJhGrXbs2kzExid1yyy2pkmFM//79d955Z7Jsvvnm559/fph0//33YyqjOkYqR40aVfaksASFRUAE4gnojRnPJ1OqVuq3npPlqHWHswBSsggUgsAXX3zBkvooZJGxyzzKZv4mljnUMnt4wxLySwpLUFgERCCGgN6YMXBikqSQxcD5NUnd61cWComACIiACIhAZgJ6Y2ZmE5ciH7I4OkoTAREQAREQAREQgRIQkEJWAsiqQgREQAREQAREQATiCEghi6OjNBEQAREQAREQAREoAQGtQ5YD5FTv4BwyS1QEREAEREAEREAEMhCQQpYBTLpopqqmi1acCIiACIiACIjA/wjIeJFfV5BClh835RIBESgugS+//HLkyJFPPfXUvvvue9ppp2255ZbFrU+li4AIiEC5EpAPWbniV+UiIALpCHz77beHHnoomx01b96cjS+POuqodFKKEwEREIHVh4AsZKvPvdSViMBqQ2DAgAFsK45hjCtad91133///fbt2997771rrbXWanONuhAREAERCAloYdiQRsawlrnLiEYJIlAEApjEWLL/zTfftLLZd/zggw9evny5FLIiwFaRIlBgAnpj5gdUFrL8uCmXCIhAUgLMhsEV7Jlnntlxxx2XLl161llnWc4ffviByLlz52633XbNmjXbdNNNif/oo49effVVVLEVK1Y8/PDDG2ywATtdtmnThuMjjzxSs2bNgw46KLXid999d/To0exoiRr30EMPscclKt3aa6/99NNPU8Vuu+12zDHHeK633nqLon788ccmTZrgoEb8k08+afuUE6Yls2bNom2E//KXv0gFdG4KiIAIFJWAFLKi4lXhIiACv2vbtu1GG22EonPXXXctWLDAFLJFixaxgzgaT6NGjfr164cuNWnSpP322w9f/ieeeGLx4sVoYATWX3/9NddcE10NebQryklVyE499VTc/9mhctWqVQxrfvPNN7igXXLJJWusscbQoUMJY1obMmRIx44duRlnnHHGjBkzrrnmmgkTJlx44YVkPOmkk8hCAz744AMKb9q06dSpU2+66SZk2J5c908EREAESkQg067jig8J2M0IYxQWARFIQmDhwoVoVHPmzEEYKxQbh1suTFNoYxb+9NNP11lnna222mrZsmUWs8t//yzMsV27djyDK1eu9JhIoGXLlghcdNFFqGUoc5tssgmnN9xwA1rdJ598gpULYxhZaAzx6GGEsZMRPvnkk60ozHJY41D48FfbfffdUeAiVehUBEQgIQGeLP4SCkvMCWiWpfUcHUVABIpCAE2LchkxxCKFe/7gwYM5ff3111HR3Na1xRZbnHjiiWhOU6ZMya8Rm222GRnNKsbczL322gstsEePHviysF7G9ttvT+EIoPNh9+rQoQO6HUOlmNDQ3qzGBg0a3HjjjZjT9thjD5RFM6fl1xjlEgEREIE8CEghywOasoiACCQlgKp0wQUXfP755yeccMKee+5p3r64lJEfHy8vBaMUYbNaeWTaAL5iGMD8b8SIEYihWoXCNWrUCE8Z98RjjBhqxzw2duxYWoK3WbVq1fg2dUnGUllrA53swAMP9EgFREAERKA0BORDVhrOqkUEqi6B66+/HgsZmtBzzz3HMOXzzz9v6tGzzz7rUMyjv169eh6TKbDNNtu0atXKU7feemsPZw189913Rx99NA77ePGjKdKwMAtWtPfee495A/iToZnlVHJYjsIiIAIikAcBKWR5QFMWERCBpATmzZs3bNiw/v37o35dfPHF6ECMS7KGBfmZzOil4MtPGE8vi8H3y2xpLkAAn328wZgKwF8Ynzw8efJkVDHaY0OcZKQiy46OyLAp0wuoAmMevv+PPfZYahuS1yVJERABEciJwG/s/DnllLAIiIAIZCXAmOBtt9328ccfI8l0SI54azGzkgmMKGFMiiRmyZIlzHbs0qXLtttuyylZ/v3vf7MwLGH7q1WrFgEGKxn9ZOGMX6J//c84Iyd2JIANDO9+JleaBKeWhM8+MYxyvvjii1THHAJW2bjsssuo69xzz61bty462fHHH88UgccffzxiP7OidBQBERCBYhFw934FYggY/RgBJYmACKQl8Morr+CqhRcXZif0sO7du5sYShjjmJijcNiqU6cOFilsVCSxLsYRRxxhTxwrZaA8EYlZiwkBeIbdc889lj08YtaqXr06WZglwHgoPvvUyCk6H6cs8W+lMdD59ddfmxGOou68806qpgHsCoA2hkzjxo0xwtGwffbZh1PMY6effnpYkcIiIAJJCNgTl0RSMiEBrdRvPSfL0UYuAJdFTskiIAK/JcBTgyGKVV5ZuxXbGJpZmI6GRDwe/aGDfyjgYQrhMTTFyyPzC2Cuq127NqoYrWIlDmZl5leOcomACKQloDdmWixZI6WQZUX0s4C6VyJMEhIBERABEajyBPTGzK8LyIcsP27KJQIiIAIiIAIiIAIFIyCFrGAoVZAIiIAIiIAIiIAI5EdACll+3JRLBERABERABERABApGQOuQ5YDSxsVzyCBRERABERABERABEUhAQBayBJAkIgIiIAIiIAIiIALFJKBZlsWkq7JFQAREQAREQAREIAEBWcgSQJKICIiACIiACIiACBSTgBSyYtJV2SIgAiIgAiIgAiKQgIAUsgSQJCICIiACIiACIiACxSQghayYdFW2CIiACIiACIiACCQgIIUsASSJiIAIiIAIiIAIiEAxCUghKyZdlS0CIiACIiACIiACCQhIIUsASSIiIAIiIAIiIAIiUEwCUsiKSVdli4AIiIAIiIAIiEACAlLIEkCSiAiIgAiIgAiIgAgUk4AUsmLSVdkiIAIiIAIiIAIikICAFLIEkCQiAiIgAiIgAiIgAsUkIIWsmHRVtgiIgAiIgAiIgAgkICCFLAEkiYiACIiACIiACIhAMQlIISsmXZUtAiIgAiIgAiIgAgkISCFLAEkiIiACIiACIiACIlBMAlLIiklXZYuACIiACIiACIhAAgJSyBJAkogIiIAIiIAIiIAIFJOAFLJi0lXZIiACIiACIiACIpCAgBSyBJAkIgIiIAIiIAIiIALFJCCFrJh0VbYIiIAIiIAIiIAIJCAghSwBJImIgAiIgAiIgAiIQDEJSCErJl2VLQIiIAIiIAIiIAIJCEghSwBJIiIgAiIgAiIgAiJQTAJSyIpJV2WLgAiIgAiIgAiIQAICUsgSQJKICIiACIiACIiACBSTgBSyYtJV2SIgAiIgAiIgAiKQgIAUsgSQJCICIiACIiACIiACxSQghayYdFW2CIiACIiACIiACCQgIIUsASSJiIAIiIAIiIAIiEAxCUghKyZdlV0eBD766KMffvghU80//fTTBx98kClV8SJQ2Qn83//935IlS+wqFi9e/P3335fmilLr+vzzz70l1oZITGqWAjYVDitWrChggSpKBIpNoFqxK1D5IpArgRtuuIFf6phcZ5555h//+MeIwI8//jh+/PghQ4Y89dRTc+bM2WeffSICvAz+8Y9/3HnnnTVq1HjttdciqVlPV65cecstt0yfPh1tb4899ujZs+cWW2yRNZcJvPrqqyNHjnTh2rVrd+/e3U+vueaaZcuW2eluu+120kkneVKhAsOGDXv99dettBNPPHH33XcvVMl5lPPdd98NGDBg5syZX375ZcOGDf/2t79tv/32eZSjLKkE3nnnnU6dOl199dX7778/eOvWrUsvJfL3v/99qnABYyJ1PfLII7fffvvDDz9Mt2/Tpg0VpcZEshSwMVbUokWLWrdufdNNN+25554FL1wFikAxCEghKwZVlVkmArytyX/kkUdusskm8+bNe+yxx7bccsv27dujtTz77LMvvvgiL5tUhYzUTz755M0338xU93vvvcf3+scff7zzzjtnkskU/5///Kd58+ZPPvmkCRC49957//WvfyUsCoXjgAMOOPXUU13R5PP9vPPOs9L+8pe/XHvttZMmTbrqqquaNm1qkYU9NmvWjDcT6CgWbawcFbKlS5eiK3Ob+vfvj3KMpvjNN99Mnjy5sNdbQUpDI0F9P/7440vTnieeeAJtG6Q8INS4zjrrbLzxxptvvnmxtbHUuri/7777LtZov/DUmGI3jwu/6667jjrqqPPPP/+vf/2rt0QBEai4BHgx6E8EKhSBzTbbDLXJmoTFi4fniCOOsFN+4o877rhRo0ZlanCrVq2Qx0KWVuDbb78lFS0qbWpM5D333LP11ltjgcO6Q+Hbbbcd5RxyyCExWVKTsBmQy/6qVas2Y8YMl5k7d+6aa665atUqjyl44IwzzrCqMVoUvPDkBZq2TUsefPDBHj161KlTByzJs1ciSSyy9GT04NK0me+NWrVq0UXD6jAb8y0RxhQvHKkLNYi7PGbMGK8xNSaSxSULGODJWnfddfmuK2CZKkoEikRAPmT2ktKxAhFo167dVlttlbZBa6yxxrnnnsu3ddpUImOSsqZmKpP4hx566O6778bUsf7662Pgueyyy4icPXs2j2VMrkhS9erVN9poI4vkVcRQzsKFC+10hx122GCDDdDSIlkKeOqFl8BeEtPsl19+2VLRrRmbxuFvtbReoLgz9MyoWQyKwibRndZbb72WLVuGxaLll+x2R+pKfRJTYyJZwpYXKrz33ntjXMfJITTXFapwlSMChSVQxBdAYRuq0qoOAYwKMReLXYpUPLqeeeaZl156adddd2WAZsMNN7QsaGwW4F2IFsUvPkON+GxZZNqXE74suJ3h6b/TTjthiltrrbVMODwOGjQo9BjDN6Vjx46bbrqpF4iHFu3hHYyDWpgxEj755JMZWmW4k3haiLUPVyq+4NGW1l57bRPG4YzBUAvvu+++1MLIl50yUHvooYe+/fbbWNcshstnYHfEiBHYFCFD+ZjZhg8fTmMYJz3llFO22WYbk/QjuiDKJQJogSeccMKOO+7oSby0yDtr1iyaRNJBBx1E0ltvveVjtVTHG45BMZTRrl274kvneT2AJzXteeGFF7giRmP//Oc/oyhYKvXSeAszEg0rxlI9I4HHH38cS4/FkPGVV1755z//STsZiQsv5Ouvv8YUhCMgw500ktFtu8VZm5opIzWOHj3aPdDhhmnn6aefxiwKUhDRknHjxn3xxRf0ELPCWiPTEvvss89atGhB50SGW8nl169f32CmlR87diwXYgWedtppjO5hkeW+m97PnaIxdPiDDz4Yet26deOOm7Af6Q+YgvDGo8N7JAHuAi3v0KGDRaINP/fcc3RdegtPB1d32GGHeccLMxJesGABxfL98+GHH9IDIQxnOgaDsHhScpu4uVyX54rU5Y+GC6TGRLIgCR9aSHy9evV4rsMrzdp4HqgJEybwYYMBm0bypFjV3K+hQ4fefPPNF1xwgTdGARGoiASKZHlTsSJQEAKRIUsrk/c973K+ejt37szbDs2D32JL4muYx4xxMX6X7XnjxYbSY6k26yocspw4cSLjSrzveYMij//vv//976wtpzqEUb9c0uYQXHfddR6TGrjvvvu6dOmyfPnyRo0aWds48gJGEi2NZlgW3se49ptAv3790BetbcS0bdsWGVzlUFZMgPcWVjfXeC655BJe/Lw1LXWXXXahOiv27LPPtsiaNWtCwMwVZHz++edNAGWFVz4yXAW6HaqtDSaiXhxzzDGWl1c7Cq6F0UotY3hEZbGrY4T0oosuQhIFDr8xk6HZfl/wN2diRJiXMDrQH/7wBysfAS7NNGyMi2+88YYJoxzgGsVl3njjjejQCKNY0EhS45sak5G8jINbvRz32msvbyeDqrzLAeWKy/33328tyUSMC3dTKG2jU+FlT5ZM8ozeuv2STuKWJFQi7g4EUHzxMjS/SbqH1R4e0expNnqMR6JL/elPfyISRESi1dl9QVlBLXa9Da3as3iAQfkDDzyQvPRJPh68d+EHiUaIfkwSf7QTpZNckbqsnF69eiETDlmGMWmzoE9z97kWNEu40VEfffRRSkvS+MGDB6Md/v3vf6dbcnUMj/rl8HDxldWgQQOPUUAEKiaB31XMZqlVImAEUhUylCp+qXlbm4BNV2T6pJ2aQoYShqcUxhXerLwV0NgwMCAQUciwiqG7YPmwvNiEEMZ+YKcxR8xISGJJchneBNhRbBDTIyMBU8iI/PTTT5mmQAn2h/ktVMgQMG8bUlHIODWLGqemkBGDimB5UUx5fc6fP99OOaKTYQPDtGYx/pJ2hQylkBLMfoMMo8PIE4MthFM0PMKosIQpHAWLUwwMVhrH/fbbj3cbAew3JEX+0C9JQnfBXQ/vJchzimXFxTA+EcMfqrBHhgEfdEOfQJvkJpo8ao25Q9mMBF7b5Bo4cKClemNimhqfkdLcHkMvwlTjzvggQg2aOnWq1XX00Udbg2OIXXjhhSYc+pDFyKP2mTzoUPRRKVCDYGjjuYcffjiGT5zScFT3G+rQwGIquN0siyeMNkOZppDxCYFZy6rAz53LQfelCqxW9D0vygJfffUVs2dMGF0ccxo+WNtuuy0xoMCeh2Zpzx2gyBKpywoJ1a/UmNQsXB3KItYsE2YsGy0cDhiMszaeDowBFZ3M8vIIhAoZkTSbolgBxAR0FIGKSUA+ZPazo2OlIcDHLq95XlHWYn5qCZi3vl/DAw88wFuN4RhsD0Qy7Z9BSU/1AIY0Xvn83DPdjz8zgTBq5gJpA+h2fMFjAbK5bCbDO4CXHMpK2iyRSEY/UUfcEMJICm/HUAZNKOaUJBdARcM4Z4Yi4rkEVEPePW7GQPkLiyJsxg+MLpYLexvjrQyZ2ZwDG1mzty+WLSbuWbFWCC50zIjk9YwK2KdPn0jJ1MVoJpFY5hhE5mVv46GYprDzRYQznfql8coHETfRlBU0SBRofkZtdI82UAKmMisHFcECdhMJR5qaNSNZ3CqGjRC7lFNFheVC7FoQM6TxxKwx4TFe3pvN3Fu+JdCB3n//fRhiNKIQVCum39JXUUDd/OmFYxckiecCg5ZHorrZrbQYPlHM/InliYeCa2nSpAkD0GBB9fFcFkAxxZyGukaAR4lHDJMtN4JUTH2YoPgixs8sUQAAKR1JREFUYnENThnN5BipywqJP6ZmwW7HMCj+o5aRm84nBGpx7969szYetrhj8mFjXya0je+KsAFUR1Hhd0uYqrAIVBACUsgqyI1QM5IS4DXPOM6tt96KZQs3EYZyyImRIMzvrzdeP6x0RZK7LoViDAnxDuPVa19LvMAwyF1++eWhTGqYxSkYkKIBqUnJY3jh3XHHHSaP8YMxU/S85Nld0vxy0MA8xgIe435REQFOfXCQ5TDQJnljEYnyxCCjj0sSH2bENmbEeJdb1WEqLzy7ET5g59oDjkGhZJKwj+K59QgljEoZ7WJBOEYYWb/N7DSUho0kUmakqckzUk5aqhGkCYl5qxLK27on3BrziqNjWAmYY+nJqCYou16mBVDdCJAlckci3pD0c/54NDhaRhsDZf5BpEA7RZJL9jJNR/ebYiZezxupK22BkchIFvNTtPnLJom7HgEMwBz/2/aMjWd6KQ8v3xV03XPOOYfHmaHYsDpTVd0qHCYpLAIVh0C1itMUtUQEEhLgS5qRFL7gb7vtNl7SPhiXNjtKG37NmBBSU7FDoAwxRpmalCmGwUqMQHhqM56SSSZhPKN7NAxHKOSx8Nk7I2HeTGL++swkEMa7iQ6S2MksibFg3L1dDDuThwm44S2M9LCbwfxda0oeAmZKccmcAm4zw72PjLyziWHcDXWBAVD6QNrSUpuaMGNqaWmpJiTmpSWUjzSbKQUsUMeqqpRDJzn22GNxqDKHRS/ZmkdP9phMgciFuGaWST6Mj+QNkwoStum3WAR9HVebxuE6X6QBkcZjcsYwxnAq3gs8ofiuueMjzbNuXLJNCwoCRIVUQQKykFXBm165LxnvE8YKeeXzZnJPqZhLMstT5B1m8tjPGOzAJhRmZ4gkPA3DfMQzNMn0QLfZhKl5hFkclalqqRkj755UgbLEYD+w7MxEs0Djxo3dWoaLElYuhnjsL6KQxauhvlqvW/s8YPaV/JrNyKllNOPQpZdeyngxNw4/p7S31YRTm5owY8JGJiTmpSWUjzSb8cQpU6ZglDX9AydI81/0YgngG0eHsckoYXzlCtszhSHQm23WODqnx2QK0GNxPEAJw4kT2zNfX1gWQ/WLHw3yRsYxM5WmeBEoLwJSyMqLvOpNRMCGwNzQQh5GrPh55SVkw2Fm+kLA9YywXCLxHuNdaG9uk3FJBjgQZh0BnMwsF287PHLCEjyMNxUOLrjU+Or8DBX5RHrKREVw4bQBvKddtzABbDystuB6jOfCZGVhMw+4eclb7pKRGD/1gEt6wE0p5jyEqoRiygCfqQIA91c+fnUMDpIxpjQvlgBjagweEfANCcymxeXYFL9QOGvYRiGpGtcxhNE5GCflvWuD1AyZYUHBxmnleAs9ECk/a8ZQPlKInUYi44n50B4qKRmxHcbLRwr3xlxxxRUMzl555ZVMKbBe4WZIl8H1DbsauNyRzpJSm02MRXpeAqkxnj1MsnAYE+ZNTc0aExEwH7VQIbOn0sZwra5I7d4AmDDTgh8BnDiZj4J/JB8bzAawC+Fobn+ukJEaqmsupoAIlC8BKWTly1+1ZyFgS6f6cA/SvJU5ohjhBYwDu01nw3YVmpowKthvN/oEv8sMYdjwnH0o8262VJYnwD2ZPV6YjMmsPQxvZ511Fjaw1DYxZmRjZLjzM2cQFyuE0cxQZUyYZTnRRVgGKTWvx6DSYY2LeDvhN42TtY/KmbDrfIwe4inlap9zcMXOYlwX5PVvypD78kemO1C+zbbDvoieBxbWECESry+cb6x2CLCkCBs9Mcfz9NNPJ9Lf9F6vSUaOmNNQIIhkiQpuHK9J2zOUKW/Y20zYm5pJ8fUyMWgxpMvUVLsWlvWHEkqtCaClUSY+5nZKB0BrIZypqVkzktevLkLVmhpBGk/MfaGwp+LPxLBjvLxj8TbYdaFscffByCwWW/Ut7Ocmw9GG+Vw9tfhIb4cY2jYzKF2tMVZMb/RyPIDKQksQ8O5qwq5qW79y7TBSF+VYjAukxkSy8CAz2QV3Rpsny0OK/RjPMJuamrXxOIkyy5JaUIVZ/4KRd5tUSwzXyx3EJ88srHhVosrz5HpXQUZ/IlAhCNBZ9ScCFZAA3iS+tCOPCvO8UB2snWgJZoFgkjwGM+xMzLZD3SGVETd7Y/GLjJrFNzFvRMvFCJe7p/BDz0uOeJbTdAMV+gSqmwmHRyxJPksgfGiplx96k7TveExKYUYPU4svocmrmi32PMkC6JeoF2GkbclMdbw80AKtXq6atxS6FHqkx6B0hvM9eQ+hSPmgJ27geLxRMp520EAHxRIGGYih9oU77fDqxZ2Oi6JkBshYdAovaTIyA9TsXsQzUsxyBmE7U8PMBETPwypJy7FiMgTsMrh8uemIMnH/8iQP+LoYrIVmvmhk4UabqQkxGkkMMxCZ/MhL3d6y3G60t/imxmSkWFv0xKhicGJpVp90yVWwekU4To2tlCyZiFkSS0LAgU7FannEWGRawlyd1cuR7w3cIk2eI8ocd5DrZV4k95QPBpQqT/UAHlTkxR/RY0DhvZ3OiYHNtXymW2JGolIbBgWdr6xm2fmGcYsmXYsHB+3cDKh8P6A58Z3gcwu4TdQe1sXzQjczAzaNtzXYIjGR5pGFqtG66Jlcpplaceo39ZGHOr7xPIb0WzLSKq6OQuzXwC6HuoDDQ2SnqHo8ziBFw7YYHUWgghD4Pe3w3wIFRKCyEOBNzE+qKQqEUVDMBmbt53ccfQudgAUyXDXJdGk8AsyA43OZ10DEgydTltR4DDCYhWwMNDU1SQxTRyMeUZjuKBZNNOslJCmf5qFSoB9gIeCNi4UAhSk1I4OkaDas+MCrNDU1YQyjosxgRXWg8e7gnzAv737UYoQZqmMcCl9v3rK+vIUVws1CITPdkRhesQmnROSdMabxMcRI4vLDnkk5MfKptTB/BbsRPNHS0OljbgqrpnF1vthYalGVJQaLnRmtfeA+a8sZrMTEiArIg8zRlUXLSI/iw4MyfbMN9D86J5po1pIlIAKlJCCFrJS0VZcIiEAWAqFC5os+ZMmj5N/9Dj0GRQQrsq0WISRGgDFWvj2YeonBUkxEoIITkA9ZBb9Bap4IVC0CvnCaTwKtWtef79ViD2bEnCFOrET5lrG65cNSjnqKF5q0sdXt1q6m1yOFbDW9sbosEaiEBJgVYbs20XYcm3AQrIQXUW5Nxg2O2QMsx2VzKcqtHRWjYgYxmanDHOrrr7++YrRIrRCBLAQ0ZJkFkJJFQARKRoAF/W2lDKsRz7AkS82VrHmVoiLWKsP1EO/7StHa4jUSXz2MrAmdC4vXDJUsAskJaKX+5KwqmWRBPMEr2TWruSIgAiKwOhLQ9LvV8a5Gr0lDllEiOhcBERABERABERCBEhOQhazEwEtdnb6rSk28MtdnVlX1mfh7WJEpqW3x9y5TasXnlqnlil+dCEghW53uZj7XwkJHtosICztFFqbCNZjVeqxQdqopR68UVii9/fbbWYeJNTbzuUjlKTIBuootXppTPXig43adNQvrheIP5GKs7MUyaX5KAK8pFmr3GFrCunR013A53wrSz1n+3jfCsgbTSBbxZx15b38FCbz00kusVwdblghmXVaW5mdtuXAJ4lK2M3KL0Z9YUY9bzOYNpkuVsjGpdfETSgdLjbcYlp5OvqZapkIUXyUI8DWsv9WSgHXfrJfGXorsyoIwPxksKB/KszcRa6Xy/rO59GFSKcOsdckWdbSwe/fupay3CtaVsM+kkmnZsuXJJ5+cGh8Tw4qvvEpRpGJkLOnxxx9v0aKFtY0NDFgwNpKFLYPYftt2L2BrTpQG1ozljx0dWCvVhAvYz/OmREtYxJgtntDAKIT9AI455hjbKIJFSllCLO0q/JGLjT8tS9u8ZDbJYLF7Gslq/uxOxj5aUGXjpvPOO89l8giUpW12i40bn46swMxPE7osOlnr1q1ZyjiP9oRZytI2yqGbAYqVRyiHxZCP/e8fndb2eWM73bCuXMNlbFuu1Um+HAn8vM+X/lZLAjk9xrYCJyso+l5AxoRNUfghzspn/vz54Q45WeVzFWCVeS5HClmu3HKVz6nPeOFYsNB+WI+ejQs9MmuA1zzVsc1lVkkEWFAKYaqIET7ttNOQsc2g2BUHXYdTNtIJs5Sxn1tRFMtfWGyuYRa/pYSxY8daRgzA7JRKTM+ePXMtKiL/c8vK1jYMeFjK0cCY7uqFs8832gbN9pg8AmVvm91i54bZjA2R6HvYRFG482iSZyl72yiKHyjKYS9OL5YAHyrsNBXG5BouSNtyrVTy5UJATv3W26v6sUGDBiDgM5QNWNg00HEwIpB1MIXPejaqW758uecqeEAG/4IjLWCBbEnJ3jW8HdmjM2GxKFgjR45EmC0jbcQ8PqNtvh6zcRDZMZx4IWySw97knLKPIfvkeHxZ+rkXUvaAWXq8HMbibUfte++91zfz9tRSBljXng1kUaz5EvMNTGkAZjxaiB2olI1JrSu8xaRiIWOjTJbDBdoZZ5zB5kipWUoZwyhqanUshBaSTBVQjAg4ASlkjqKqB1jPmp9dNqJmYckYFk8++STG+QEDBpjVihWPMHU8+uijfEM//PDDGNgeeeQRAvwhwE+khTkyDkKxbFRsMVYFAjiHsSky9XqlaIR877IpOKnXXXcdo1q2C7IJoDV6mVTnuRQoFwKoU7yqWcSV2ocMGYJmlqQZqG5HHnkkAzus3mmaWZJcYTfIKm+6F2J86YbCCft5mKVkYWiU7/4E6Mc8yE2aNGHIMnLVLHmPsTwSWRFOUcVwaYDboEGDKkJ7wjbMmTOHD1rzuAjjFRaBtASkkKXFUhUj+Yx78MEHMUXgOnbLLbekIuDFdsopp+ABw4fgfffdhw8H8nhv2O7RKE+4SjDe8cILL+A8waLh6GoUMnjwYE779Oljbxre34zO2Ars6GHNmjXjM5cv8gMPPPCcc87hSxdlC5ftk046iQ/fP/3pT5f89y9sDM1o164dgzt8zVvVYarCJSaA5xM9gY6B6ze2qClTpmRtAEobvQLLAboRwhjYsmbJQ4BvBnL9+c9/ZvQtzJ61n4fCpQnT7S+++GLqQukxW2Bp6k2thWkWRLouGwrg8IdbQhhTQcI0jE3oaQy+hhWkSdYMhg769evHB2SFapUaU6EJlMtAqSotAQHrdgkrQmFC00IYHQs7BG4Z/LpxOm3atObNm1shjKdsvvnmjExxymc05depU4ewmb4YITIxjrxX+JXkl4jwokWLULmaNm1qqUzdwiGXMG9uZGbNmmXxvJ4p8Oabb+aUz0rCtIGJS7zvX3zxxYULFxKDiwa148OLtscIqWXUsYAEgMxfTgXiwsxbnCxm6ELDzpodNy9zTOSNZfMl2S4pPpcNo1t/yyTJ1BMazzxctsph3I0wjeELIZRP0s9D+bThnxnlSClSjjWVvcCxEaLI2lCsjRVGJHM9LWPbttpqK0pgK+5c600iX8a2UYVxcx8yr5QeReHosh6Ta6DsbaNGGyWnl+6zzz58TNrAtP/E5dokly9I27w0BSoyAVnIrLfr+D8CuELz0sKGwXQ2jF4hl2HDhqEPIcCszC5duqAw4fbLZPhQxsIdO3ak0yPPKb9K/DHQaQsTMCaCJYx4UrFvNWrUyLLg3E2A4UuOtr4GKlq9evUwhu25554mw5IBWNfwIxkzZgz+3RapYzkS4LayIIW5z6Ml4/f9xBNPZN3cmqEl07/RyOlItL+ARjI6CTZamnHIIYfwORFZycVZxfRzlyl2AB95LCi8xen8TBHFwNyrV6/y9SGzEWe+oIp97YUtf9WqVRQY8TArbBXJS+vRowfuFvQ9PjM0WJmcmyQhIIVM3SBKgDcEk9EYEOTzndebJ6NREYO7mP3x5mD8EWXLBTzAGCWeEwxrEoOJywwAuA1h53jggQdsphuvH373eSVbLqb984GL4Q2ribkKpQ5HMpbKzxwl5+RL5K1SoOAEGNpmPuOOO+64/fbbs1QVfQZFnOHImIrmzZvHrb/iiivIwt8111yDMBYO1oOwXLgPopH7H/0nprTUJLooHQ8LHKulxLckUz9PLbNIMdtttx1GMnzpaAm+lcxcwRuvgLppHs1mJQ5ycY/yyFuOWewbAJjl2Aavmt8x1Gv+WPMCVVsTkpyMAlkJSCHLiqgqCqD6MLDIOpBnnXWWXz8mMQYTeeN6DIOVNpbkMRZgFjpORTj185oZOHAgQ1q8exjxnDBhAnYL+5BFn8O4wsqTnhe9DXefGGWLxjBAxpQC83TxjAqUCwFGAxnXZl4FarT98V7k9nGjzX0wbaswj2EHYjjbsnz++ecdOnTAwoHLoMlj02L5K/9jKZa05Xjk5MmTPWwBrKesVVa9enVsFfThSGp4mrafhwIlCzN0y7A+1dl4fcnq/f/27iRUkqKJA/j33UTnouCCFxdQD6Ig4obgrqiIih5GGBEVRseDiuO4oIMruI2744YXxQ0RDyoiiAsoKO6KBw/uiIIHQQbx5OH78QWkZXV3dXd1db9670UfmlwiMyP/VZUZGRGZWWuIO78UTgK19IhyPxiavrSJXh5GTDxYBy4tJ4OtszNQ8MONbWEwN1MSgRoCKZDVAFml0TCrl85b1VFlsUDReZREKhAy1tatWyPFpMs0WVRcYTUoxGZZYUYZWhCTjZ2YPPcZK+P0KVl8LPzT6kcRDDCAxnxQUiJQ/m0msBufTs5xRI6GL+kZWBIEiFb2Xuy4446ldWpOk+K2bdtCOVrSS8DMxNxcu24hrJaPP/54vEKOdaVMLT8HiSlOb1r+S20CpLGyPzdoYsHgIAnaO46Ga9eutXWxFJnkPS/E8wsEq7X6Q0e4tEaujRs3UvDYczP4BMnQDtodynmtI/OLDm2dy6DRgDoqXqT5tT625nj34r8QswI7NtlHUVIykAiMQiAFslHIrK50XvNV2UvnaSZIP1VXrU2bNknn/WPZ5zxGEyf/eobFOGXHgU/OP3TwQQBHejO1sHI6okyKoZyCjcuw3ZRBsHnzZtoUTmNhFX3mmWdURXciN/ZjVo+0iAOQDGrEO1NFOJMVI1dUmP+LRMD0TISix6o1GvvdzJFx2RGdqCPB4rGiZKC0g6+m9HLCghfjl19+KS9PrU5RzfmnTiPWRy5hi6KU0rRcvhQ7P4j1QUD096LSkPE7LEedTfKeR/G5/lMuqj+0yyZsyxIdoRuDDJ7n2nRz5b5l5mNrnvXr1zvKJDxEiUE80/kI2rjaoMBurrmT3DhSrqz9RJ15YSQhtduNRDHfSSutK4l3Lw4xjkoMZbYSr1mzZuedd25dbRZcRQjEkjH/Vx4C8RKP7Re5hxaBMEQrtm7dOhNetQgf/LLLUropc7vttoualSpbHW2rlHjEEUcQlUpxRig7yErUVG2eLlEBYyhPCyYq2jIqDR7iEg39cQYSljZs2CCFy1GoDcwTbsgxb4WYaBanrqtWmOEZEZjwnXE0SQhV1BJ2y5ZGefjFrkn1sD7zNQxx3CxOljKj06d6f8gcpJBSKoR1RUyoziUu6SVAaq/65nM99G4Eq65YJS446d7bFcpaGjuKW3O24uT4OPNCondp8ve8ND00MCFKQ8vSMWO1iDXef3pfE7aVBrbDCW9owQkTZ+GtNEHhRFftSVlEOdPEt2lvDRNzIWgXmIW36iNWD/cGmxl5CnqmHO+8A+1YKqVm4U0lIRrGuOQ1pip2pqMBKmRElvHSUIvAjLy1aDGLLBUC/9VwPO/8X2EIxPw0+/M11lSnQ2s+WgdqD8NNFTGrw3DeL4nUEhJLWUoOEhWDSCEQMJIa/XmVFbJqboYXjEBX70xhm2DEQ5wm9eOPPw5NasnqW6D2njew1zlKDW1Nm9Uhb54dF09CRlfO8h3yNi0sY+mTt7EQJcECEEiBbAEgL00TfR5ilgaRbHUcAvN4Z6gHqMrC7Xpc+8sjfx4oddXz5K0dkolbO9yyVLcILLHRvdvOZG2JQCLQKwS2bNnCOYxRqVdcJTOJQCKQCPQQgdSQ9fChdMNSn9d83fQwa+kagXxnJkG0zyglb5M8wUGaxG0Qk0xZPAK5y3LxmGeLiUAikAgkAolAIpAI/AuB1JD9C46VFIk130rqUfYlEUgEEoHVicDs27NWJ27Lq9epIVtezyu5TQQSgUQgEUgEEoEViEA69a/Ah1rtUq6rqmhkuBmBPnvSNHO+yNw+o5S8tXsT+o9bu35lqeWFQGrIltfz6p7b77//3mlDfs5hqtXuhLDI8l87x79GOXnUoeQuPnIOwuRFOqF0ZqmbVdyw6TqBTirMSjpEwCllgxdaW0s4Jdh58a5MrbXVkFWj7Em0zx2clrcCqWHh6aefLtF5BNzP5rL5wZodcOhuj9dff712R6Sz09544w0nrfzwww+DpbpNGcVbacWp2nHreUkpgYasQpOB1YiAoS1/KxKBeJvHds14d/LJJyN2Uv8nn3xSpTeuOafbqeiXXnqpkaWa1S78xBNPuFJJW24qbFdDu1LadWWTm84POeQQrbums109K77UhO9Mhzi89957J510knYfeOCBarUm1HJWsOPOTfwltyGr0Mw1MBVKC+7gvHkrwLqTw2H0bgQqKWMDU/Hm1iYXbTlr2i0LtZrdxOUKgajNYf2Oqg4CR0+7VODEE0+8//773anqY//uu+9qZUdFu+Kt1P/II4+o8+GHHy4pJdCQVWiqgal4qxbM8LJD4D/LjuNkeEIEpvqMzznnHPTuw3GTUrV+11ka8qopM4bdlKehRQpkxmsypYsXce5ya/q5r776asZeLLK4W2tceriYFqd6Zzphyf1aLvvTblUgc7ESKY0KhNb2jjvukOtmobgepyGrE34mqWQqlBbcwbnyVgXHVaHamp9A9uGHHzpM2O0ONYGMAszdUy4LKXesFWHdIOY9iVu5/LtKxD2nVZ4bwlPhNoq3Ur8LsuJ2rEGBrCGrFK8FpuKtVjajywuBFMiW1/OagtupPuNbb7016F0ZzgpQmmHpq95lWdJbB1yDqKFFCmQsMlp87rnnWvO8hAXpV4zsK1ggg+1bb73lAVUFMndQ6niB/YADDnB/ZVyc2pBV6OcdiC9l8lYW2cG58la67Fp315gedthh8xPIoi1Xag4KZOUK3Vjd3XjjjUFMPeYa3MLkCSecYDQr0ebAtLipbZC3aILZ1OW8botXZ00ga8hqYK8Fbw21ZVafEUin/njb8/8/FBV8Mt5///1LLrlk8Gh1S9KffvoJTAceeCBF2ueff06XJmpQtoo10LADuo2YYuP55593Q/lZZ51ltcrVQ/q2bdvcZugyYPTlWmW+a4Z1V1vKMuaWB+CK8Q8++MAEzOhghJVOHKGo22mnnZhIDMFq3meffQp9CTBPWD0brLFkII50c2FMh1yU3KR50EEHuYWzFBH45ptv3n777fXr17/55psWvsqGBS1oeC/B5O+//zb4HnrooZGoiLX7pk2bcEX9duGFF0ofSoklFuErrrhCEb5rzLWnnXaarr377rsEDnLG6aefHnX6B9prr732448/InMPNzsdKNzDTTOEB7dQH3XUUUPJJA6yZNBxKbtW9t13X9almB5KW70KAKTGj84yMZdE79V5550XNzc3ZBX6vgX63MGpeAtg3RPPh8HKyv+8oR5kj0WyNMrLAoF3I1LYKGnL7r77bt+mL4KLwm233VaIOw8M8hZN3HzzzQaodevWWXbWGm3IqlFmdJUi0GdpMXmbBYF4oSesgYbMQpOXblz+XdQVRUP27bffnn/++eq866671Mk3//DDDxclx5B4iErCxAgr1JCW3BdOGthvv/122203WYSzP//8U8Fw52eGM5hK99trr704f8gieZx77rnEDq2HUoQwR0bZc889kZ199tkmYwEC2WCn7r33XmRGwGuvvdaGKQIWGRGZTpGBlDrllFM2btyI7VKWmELmQ2yVbwRHE7/NmzcHjf7uscceDGcMH7JCx6aPIVOSw2JnFgPoUEobCMLTBQ/qIQ6qBHvXXXfdrrvuSsgQfeyxx6It9he4yQ1OiCP4v+mmm8Ll7sorr7zllltQDiUbyhIxlxBGHKQnIIOWXjcHAoFmms5zvSfaLa9crf6nnnrKGoADdS1dtCFrkLjDlGlRWmQHF8CbT+m+++6D59FHHz1vDdnxxx9f05CV52ibkfWVz7Ok+BLjK7vooov23nvvyy+/PMzchaAhMC1uqhrKmy9U03/88cc777yjzqqGrCGrgTFZLXhrrjBze4tAmix7+2hmZWyqzzgEMk2+/PLLBA6SBElLtAhkwjGvhEAm+uCDD2oiyL744gvh3XffnUgny0JQlFGDisiYaHujKLlNVghkRlIS3u+//04kkkWgkfXkk0/usssuYTCVK51STfpHH30kjCVKtWefffazzz6TWP29+uqrZCPjXSRedtll6MsEH9da+68WKWEiI+INGzZwL9MjrVBNWV7//PPP0olHKGOXH2ExSp166qmytCKdRBX7uYZSnnnmmSivuuoqHi3mD0o+USt4mLjhkWcbxZs6qQDpsXgiR/0aQkZJKUpyFQ6TZQPZIEs6Ajc1/PXXX3ZmRM1j/7XlN5asW4JR8op3ibnck9UX8mj4BkXTDVnd8ja0tmlRWmQH580bCYOOKgSdJRTIjFdGG501yNgMXh4TqENxRbnuiyvpYwPT4qbCQYGMKcDKk2Zabk0ga8iaB29j60yCfiKw6MG3nyisSK6mGmKKQAYKm5uUJT2QiqoCGROA9CKQkUVEQyAjXggzYQSSFFGi6ozoCy+8IOr8AtEQyIoPGelKFvdbWQY4C1xzcPxMw7Ro1pohnDH8RW2D/+x6RmGGxcgKCcmIHNFmgezII49kci11hjBkV6YpBw7GegIi3RghldATZEFjF1hEGygp6vSO3BmUlFU6Vdqi/bKYFo0Jm0k0Oi5Rx0PCqwpkDWQ1llg/NUQ3ycKLvSKqlqZHBXDrNyp3Tumj5BUCKEGffjG0iWa4wkBDVqGZX2BalBbZwbny9vXXX1sj/frrr4HtEgpkv/32m2UYBwP9xUZ51g899BARLZT01iFcJkpWc2Ba3NQ2KJBdcMEFdoBGQzWBrCGrmTG5LXgbW2cS9BOB9CGLtz3//0GATY3yn7XrjDPOIFT9kzE6VDzDgiTsnoV8hx12ECYwlZQSsIWTQc0QT/9BL6VFdqiSG4E4Ao0+qZZeopakBLIwIEpku8QAMY4sUmOsFCkBpao0ZKbY3CedSHT77beT59auXUttVkbGoC/8jKUsbQ3CwhInV8f9A5z1thAPBhrIaiwxJLHPbtmyhTXTtPToo48O1tb/FAhj3o/6kEcOJ7xjjjkm2G7I6n+/CocNvWjIKsXnGhjKgBWXpYLxIZq2XLFeImr4bEMZPFeWqpVTpXNFsICha7fewAZ/Bss8vPF2NeDI5Yp6/fXXx7qxWnZOYatQp4t5UQGiiVij0vp/+umndnaPyrL2q44/c+Itq10uCOTBsMvlSS2UTyeQHXzwwYa2sc7gRUxpxx9pxnFTZDIaHb+wspWq2ATpQkp0VICox0GNGasQOL6I21aLkS4822jsVGi4503Ps/6GG24wP5XKa4HJKWsFS1THhUMBGYlQBX4hiMCEZEFMkUkxQ4Xw5ZdfsjHRbdRqW0ZR7oME7qFvQkNWdrATBKoIb7/99r4pL2r8LCeseYRDJ91Jc1NV4qvEns8fGwpSj1F40+HR7vM9pSd78cUX+WJOVWdrYvt7aOWJXwFOHAnr3BbbpAA1KstCtHWLWXDlIZAC2cp7pm16FPrbUpJcwqGezSu0U5Eeiq5Y+UmJCXLGAYVBkOLn2GOPVSETnkN6tm7dGs0ZxS6++GISW0QbJD+bzNGEnVQAJVMF96woGIN1Q3EjaVD6D0ODrQmvvPIKUczOU9qmaj2FslQ4lrIUGRUIz322OcbNoHFqWumOlJhUxpIVlmwp5bgWZ+FeffXVkGTfGdV6T9IL84P82NZn0i07Z6sEDVlVsj6E+9zBCXnjYEqyLz+7Gok+otwJ5odwA28atR+IG2h4Z3IDjY9duq0Adl/SnFW/7s6ZrPIWy54CTmj6reWk2AZR0gWqWQ0rvc65zQr7j0AKZP1/RovgkA97VfbSpLMtHOsQZw0EB5aexCOWI549VPHXXHONdHIDz30OVcLxLxCDINVRFIxoyZVYtFl2RxrUWAYlMhH65yzPJ8xAZgK2VdCAFcXjlI2osPZvX6SFO8OcjZOy2ByV4swRZByqBIhotVIlik/rWlHSIZWYYyfNNLFdK/YQ2JRAprHYZQEhM9X4aaAchIX86mCOaFo9QaA5fjAEU1pJTTBwgCUMH/zbELNmMkFaZI8iq7EEUs7X5ipl41CA/fffPxrt4b9tB7ji9Vx4I/R7GRxiIsVrCROaD4Zj0YasUrxvgT53cCreFg8s9nyeVbmH7c9wEZ+z5dNLL71ky2cwRp3vCBv+DxGlqSIk2e49J7YHeZtTQ1ntKkLAu56/FYlAvMRju0bQMdWRYGjFOEAQX6pFDH8sdyWFWBDV8rW68847iUEWf7z1zZfS+UiRjcg0/H5E6ZacA2TEtPNIlGmSd7/6CRysb2gosbiAONKs1M/hIzy40eOK7MJBhL5KFIf2QhbKWsDanROJJmjLCC6UW0GAgVBxkWx4wPAFrhWkRtILfvROqbBv67jjjgsawlno2HTKYevIMHDPPfc4gSI4xL/RX22jKDXNxINzB3k4nNYxGRzRRJ1zJgpqYT+neJD2CE+aiBT21tgqoXId0RwePAjRoWSDLDFTaotGkw8Zq6X9/8pO8gsGJqHsioajW2j+eAWVfRusPLESYDumpiWcATlabMjqiqWx9UyF0oI7OFfeashYHvi4aokN0al4Y/Jz8r5vUylylaP7oubYUGywsj7kgerswNIifZgl3Jo1awwdsuzgpkAtuc2BTnirNlFz6p8wq0pWwlPxVkplYDki8F9Mx/PO/xWGQBj7Zn++NEPlVkEQ8RdRJwmGrsjilatWC9wUpLp3HFe15qiHsof7FK8yk/FUNbNW8DK2IB6ss6EeUpehn5IPPwQyesEqMQEIk0QxAoEFcfUA2yqZ8OSUtYLVqKN3oUqbVVVMEtc8ypDtgngoWbUeD0gpPOuX2sLWXCUYFe7qnRlV/+TpbJTOyCWM1p6IGhqyJq9/FspOUGroRUPWWLbnzdtYBhoIOuHNZ+74GxAZecLjs9YiVasxKjzJalkN0U54a6h/lqw+8zZLv7LsIAIpkA1iskJS8jOe5EGGQBZmzUnoVzZNvjOTPN8+o5S8TfIEB2kSt0FMMmXxCKQP2eIxzxZ7hACNFEuHBXePeEpWEoFEIBFIBFYfAimQrb5nnj3+PwK0YvzG2PVYN2yet8EzgUkEEoFEIBFIBJYKgTRZLhXyc2+3z0r4uXc+G2iFQL4zk8DWZ5SSt0me4CBN4jaISaYsHoEUyBaP+YJajCFmQY1lM4lAIpAIJAJzQ2D27VlzYy0r7gyBNFl2BmVWlAgkAolAIpAIJAKJQDsEUkPWDrcslQgkAolAIpAIJAKJQGcIpIasMyizokQgEUgEEoFEIBFIBNohkAJZO9yyVCKQCCQCiUAikAgkAp0hkAJZZ1BmRYlAIpAIJAKJQCKQCLRDIAWydrhlqUQgEUgEEoFEIBFIBDpDIAWyzqDMihKBRCARSAQSgUQgEWiHQApk7XDLUolAIpAIJAKJQCKQCHSGQApknUGZFSUCiUAikAgkAolAItAOgRTI2uGWpRKBRCARSAQSgUQgEegMgRTIOoMyK0oEEoFEIBFIBBKBRKAdAimQtcMtSyUCiUAikAgkAolAItAZAimQdQZlVpQIJAKJQCKQCCQCiUA7BFIga4dblkoEEoFEIBFIBBKBRKAzBFIg6wzKrCgRSAQSgUQgEUgEEoF2CKRA1g63LJUIJAKJQCKQCCQCiUBnCKRA1hmUWVEikAgkAolAIpAIJALtEEiBrB1uWSoRSAQSgUQgEUgEEoHOEEiBrDMos6JEIBFIBBKBRCARSATaIZACWTvcslQikAgkAolAIpAIJAKdIfA/OsnVMMMvFu0AAAAASUVORK5CYII=)"
      ],
      "metadata": {
        "id": "6Rv2BRWv2hTa"
      }
    },
    {
      "cell_type": "code",
      "source": [
        "# Func for VGG\n",
        "def build_vgg_block(input_layer,\n",
        "                    num_cnn=3,\n",
        "                    channel=64,\n",
        "                    block_num=1,\n",
        "                    ):\n",
        "    # Input\n",
        "    x = input_layer\n",
        "\n",
        "    # Convolution\n",
        "    for cnn_num in range(num_cnn):\n",
        "        x = keras.layers.Conv2D(\n",
        "            filters=channel,\n",
        "            kernel_size=(3, 3),\n",
        "            activation='relu',\n",
        "            kernel_initializer='he_normal', #\n",
        "            padding='same',\n",
        "            name=f'block{block_num}_conv{cnn_num}'\n",
        "        )(x)\n",
        "\n",
        "    # Max Pooling\n",
        "    x = keras.layers.MaxPooling2D(\n",
        "        pool_size=(2, 2),\n",
        "        strides=(2, 2),\n",
        "        name=f'block{block_num}_pooling'\n",
        "    )(x)\n",
        "\n",
        "    return x\n"
      ],
      "metadata": {
        "id": "vBiHmHH0yJ6-"
      },
      "execution_count": null,
      "outputs": []
    },
    {
      "cell_type": "markdown",
      "source": [
        "VGG 블록을 추가하는 함수로 input_layer에 추가 - (32, 32, 3)의 형태\n",
        "- 이를 입력 인자로 받아 build_vgg_block() 호출"
      ],
      "metadata": {
        "id": "h54xy-r_zU3o"
      }
    },
    {
      "cell_type": "code",
      "source": [
        "vgg_input_layer = keras.layers.Input(shape=(32, 32, 3)) # 입력 레이어 생성\n",
        "vgg_block_output = build_vgg_block(vgg_input_layer) # vgg block 생성"
      ],
      "metadata": {
        "id": "eTYtLdPByJ-a"
      },
      "execution_count": null,
      "outputs": []
    },
    {
      "cell_type": "code",
      "source": [
        "# 블록 1개짜리 모델\n",
        "model = keras.Model(inputs=vgg_input_layer, outputs=vgg_block_output)\n",
        "model.summary()"
      ],
      "metadata": {
        "colab": {
          "base_uri": "https://localhost:8080/"
        },
        "id": "F5B3BWUhyKBA",
        "outputId": "77e6ed00-2d85-4f47-9f7c-fa87e4c1b8fa"
      },
      "execution_count": null,
      "outputs": [
        {
          "output_type": "stream",
          "name": "stdout",
          "text": [
            "Model: \"model\"\n",
            "_________________________________________________________________\n",
            " Layer (type)                Output Shape              Param #   \n",
            "=================================================================\n",
            " input_1 (InputLayer)        [(None, 32, 32, 3)]       0         \n",
            "                                                                 \n",
            " block1_conv0 (Conv2D)       (None, 32, 32, 64)        1792      \n",
            "                                                                 \n",
            " block1_conv1 (Conv2D)       (None, 32, 32, 64)        36928     \n",
            "                                                                 \n",
            " block1_conv2 (Conv2D)       (None, 32, 32, 64)        36928     \n",
            "                                                                 \n",
            " block1_pooling (MaxPooling  (None, 16, 16, 64)        0         \n",
            " 2D)                                                             \n",
            "                                                                 \n",
            "=================================================================\n",
            "Total params: 75648 (295.50 KB)\n",
            "Trainable params: 75648 (295.50 KB)\n",
            "Non-trainable params: 0 (0.00 Byte)\n",
            "_________________________________________________________________\n"
          ]
        }
      ]
    },
    {
      "cell_type": "markdown",
      "source": [
        "# VGG16"
      ],
      "metadata": {
        "id": "4BUbAiZgz5Vh"
      }
    },
    {
      "cell_type": "code",
      "source": [
        "# VGG 생성하는 함수\n",
        "\n",
        "def build_vgg(input_shape=(32, 32, 3),\n",
        "              num_cnn_list=[2,2,3,3,3],\n",
        "              channel_list=[64,128,256,512,512],\n",
        "              # num_cnn_list, channel_list config list으로 추정\n",
        "              num_classes=10):\n",
        "\n",
        "    assert len(num_cnn_list) == len(channel_list) # 모델 생성 전 일치 여부를 체크\n",
        "\n",
        "    input_layer = keras.layers.Input(shape=input_shape)\n",
        "    output = input_layer\n",
        "\n",
        "    # config list들의 길이만큼 반복해서 블록을 생성합니다.\n",
        "    for i, (num_cnn, channel) in enumerate(zip(num_cnn_list, channel_list)):\n",
        "        output = build_vgg_block(\n",
        "            output,\n",
        "            num_cnn=num_cnn,\n",
        "            channel=channel,\n",
        "            block_num=i\n",
        "        )\n",
        "\n",
        "    output = keras.layers.Flatten(name='flatten')(output)\n",
        "    output = keras.layers.Dense(4096, activation='relu', name='fc1')(output)\n",
        "    output = keras.layers.Dense(4096, activation='relu', name='fc2')(output)\n",
        "    output = keras.layers.Dense(num_classes, activation='softmax',\n",
        "                                name='predictions')(output)\n",
        "\n",
        "    model = keras.Model(\n",
        "        inputs=input_layer,\n",
        "        outputs=output\n",
        "        )\n",
        "\n",
        "    return model\n",
        "\n"
      ],
      "metadata": {
        "id": "smP_EijFyKDk"
      },
      "execution_count": null,
      "outputs": []
    },
    {
      "cell_type": "code",
      "source": [
        "# VGG-16을 만듭니다.\n",
        "vgg_16 = build_vgg()\n",
        "vgg_16.summary()"
      ],
      "metadata": {
        "colab": {
          "base_uri": "https://localhost:8080/"
        },
        "id": "eqeKHWkK157e",
        "outputId": "19abc35c-654d-423b-f7fc-1c1e9fc7223b"
      },
      "execution_count": null,
      "outputs": [
        {
          "output_type": "stream",
          "name": "stdout",
          "text": [
            "Model: \"model_1\"\n",
            "_________________________________________________________________\n",
            " Layer (type)                Output Shape              Param #   \n",
            "=================================================================\n",
            " input_2 (InputLayer)        [(None, 32, 32, 3)]       0         \n",
            "                                                                 \n",
            " block0_conv0 (Conv2D)       (None, 32, 32, 64)        1792      \n",
            "                                                                 \n",
            " block0_conv1 (Conv2D)       (None, 32, 32, 64)        36928     \n",
            "                                                                 \n",
            " block0_pooling (MaxPooling  (None, 16, 16, 64)        0         \n",
            " 2D)                                                             \n",
            "                                                                 \n",
            " block1_conv0 (Conv2D)       (None, 16, 16, 128)       73856     \n",
            "                                                                 \n",
            " block1_conv1 (Conv2D)       (None, 16, 16, 128)       147584    \n",
            "                                                                 \n",
            " block1_pooling (MaxPooling  (None, 8, 8, 128)         0         \n",
            " 2D)                                                             \n",
            "                                                                 \n",
            " block2_conv0 (Conv2D)       (None, 8, 8, 256)         295168    \n",
            "                                                                 \n",
            " block2_conv1 (Conv2D)       (None, 8, 8, 256)         590080    \n",
            "                                                                 \n",
            " block2_conv2 (Conv2D)       (None, 8, 8, 256)         590080    \n",
            "                                                                 \n",
            " block2_pooling (MaxPooling  (None, 4, 4, 256)         0         \n",
            " 2D)                                                             \n",
            "                                                                 \n",
            " block3_conv0 (Conv2D)       (None, 4, 4, 512)         1180160   \n",
            "                                                                 \n",
            " block3_conv1 (Conv2D)       (None, 4, 4, 512)         2359808   \n",
            "                                                                 \n",
            " block3_conv2 (Conv2D)       (None, 4, 4, 512)         2359808   \n",
            "                                                                 \n",
            " block3_pooling (MaxPooling  (None, 2, 2, 512)         0         \n",
            " 2D)                                                             \n",
            "                                                                 \n",
            " block4_conv0 (Conv2D)       (None, 2, 2, 512)         2359808   \n",
            "                                                                 \n",
            " block4_conv1 (Conv2D)       (None, 2, 2, 512)         2359808   \n",
            "                                                                 \n",
            " block4_conv2 (Conv2D)       (None, 2, 2, 512)         2359808   \n",
            "                                                                 \n",
            " block4_pooling (MaxPooling  (None, 1, 1, 512)         0         \n",
            " 2D)                                                             \n",
            "                                                                 \n",
            " flatten (Flatten)           (None, 512)               0         \n",
            "                                                                 \n",
            " fc1 (Dense)                 (None, 4096)              2101248   \n",
            "                                                                 \n",
            " fc2 (Dense)                 (None, 4096)              16781312  \n",
            "                                                                 \n",
            " predictions (Dense)         (None, 10)                40970     \n",
            "                                                                 \n",
            "=================================================================\n",
            "Total params: 33638218 (128.32 MB)\n",
            "Trainable params: 33638218 (128.32 MB)\n",
            "Non-trainable params: 0 (0.00 Byte)\n",
            "_________________________________________________________________\n"
          ]
        }
      ]
    },
    {
      "cell_type": "markdown",
      "source": [
        "# VGG19"
      ],
      "metadata": {
        "id": "iQLzZrNnz6p6"
      }
    },
    {
      "cell_type": "code",
      "source": [
        "vgg_19 = build_vgg(input_shape=(32, 32, 3),\n",
        "              num_cnn_list=[2,2,4,4,4],\n",
        "              channel_list=[64,128,256,512,512],\n",
        "              num_classes=10)\n",
        "\n",
        "vgg_19.summary()"
      ],
      "metadata": {
        "colab": {
          "base_uri": "https://localhost:8080/"
        },
        "id": "F8vCGWzOz7c7",
        "outputId": "ae9ecd08-ca1d-466a-bc8e-896d875014a8"
      },
      "execution_count": null,
      "outputs": [
        {
          "output_type": "stream",
          "name": "stdout",
          "text": [
            "Model: \"model_2\"\n",
            "_________________________________________________________________\n",
            " Layer (type)                Output Shape              Param #   \n",
            "=================================================================\n",
            " input_3 (InputLayer)        [(None, 32, 32, 3)]       0         \n",
            "                                                                 \n",
            " block0_conv0 (Conv2D)       (None, 32, 32, 64)        1792      \n",
            "                                                                 \n",
            " block0_conv1 (Conv2D)       (None, 32, 32, 64)        36928     \n",
            "                                                                 \n",
            " block0_pooling (MaxPooling  (None, 16, 16, 64)        0         \n",
            " 2D)                                                             \n",
            "                                                                 \n",
            " block1_conv0 (Conv2D)       (None, 16, 16, 128)       73856     \n",
            "                                                                 \n",
            " block1_conv1 (Conv2D)       (None, 16, 16, 128)       147584    \n",
            "                                                                 \n",
            " block1_pooling (MaxPooling  (None, 8, 8, 128)         0         \n",
            " 2D)                                                             \n",
            "                                                                 \n",
            " block2_conv0 (Conv2D)       (None, 8, 8, 256)         295168    \n",
            "                                                                 \n",
            " block2_conv1 (Conv2D)       (None, 8, 8, 256)         590080    \n",
            "                                                                 \n",
            " block2_conv2 (Conv2D)       (None, 8, 8, 256)         590080    \n",
            "                                                                 \n",
            " block2_conv3 (Conv2D)       (None, 8, 8, 256)         590080    \n",
            "                                                                 \n",
            " block2_pooling (MaxPooling  (None, 4, 4, 256)         0         \n",
            " 2D)                                                             \n",
            "                                                                 \n",
            " block3_conv0 (Conv2D)       (None, 4, 4, 512)         1180160   \n",
            "                                                                 \n",
            " block3_conv1 (Conv2D)       (None, 4, 4, 512)         2359808   \n",
            "                                                                 \n",
            " block3_conv2 (Conv2D)       (None, 4, 4, 512)         2359808   \n",
            "                                                                 \n",
            " block3_conv3 (Conv2D)       (None, 4, 4, 512)         2359808   \n",
            "                                                                 \n",
            " block3_pooling (MaxPooling  (None, 2, 2, 512)         0         \n",
            " 2D)                                                             \n",
            "                                                                 \n",
            " block4_conv0 (Conv2D)       (None, 2, 2, 512)         2359808   \n",
            "                                                                 \n",
            " block4_conv1 (Conv2D)       (None, 2, 2, 512)         2359808   \n",
            "                                                                 \n",
            " block4_conv2 (Conv2D)       (None, 2, 2, 512)         2359808   \n",
            "                                                                 \n",
            " block4_conv3 (Conv2D)       (None, 2, 2, 512)         2359808   \n",
            "                                                                 \n",
            " block4_pooling (MaxPooling  (None, 1, 1, 512)         0         \n",
            " 2D)                                                             \n",
            "                                                                 \n",
            " flatten (Flatten)           (None, 512)               0         \n",
            "                                                                 \n",
            " fc1 (Dense)                 (None, 4096)              2101248   \n",
            "                                                                 \n",
            " fc2 (Dense)                 (None, 4096)              16781312  \n",
            "                                                                 \n",
            " predictions (Dense)         (None, 10)                40970     \n",
            "                                                                 \n",
            "=================================================================\n",
            "Total params: 38947914 (148.57 MB)\n",
            "Trainable params: 38947914 (148.57 MB)\n",
            "Non-trainable params: 0 (0.00 Byte)\n",
            "_________________________________________________________________\n"
          ]
        }
      ]
    },
    {
      "cell_type": "markdown",
      "source": [
        "# VGG13"
      ],
      "metadata": {
        "id": "WPEeWC_p231x"
      }
    },
    {
      "cell_type": "code",
      "source": [
        "vgg_13 = build_vgg(input_shape=(32, 32, 3),\n",
        "              num_cnn_list=[2,2,2,2,2],\n",
        "              channel_list=[64,128,256,512,512],\n",
        "              num_classes=10)\n",
        "\n",
        "vgg_13.summary()"
      ],
      "metadata": {
        "colab": {
          "base_uri": "https://localhost:8080/"
        },
        "id": "TJ--F5WU24yQ",
        "outputId": "9d5b4771-2915-4519-abe6-1d14cc69bbc0"
      },
      "execution_count": null,
      "outputs": [
        {
          "output_type": "stream",
          "name": "stdout",
          "text": [
            "Model: \"model_3\"\n",
            "_________________________________________________________________\n",
            " Layer (type)                Output Shape              Param #   \n",
            "=================================================================\n",
            " input_4 (InputLayer)        [(None, 32, 32, 3)]       0         \n",
            "                                                                 \n",
            " block0_conv0 (Conv2D)       (None, 32, 32, 64)        1792      \n",
            "                                                                 \n",
            " block0_conv1 (Conv2D)       (None, 32, 32, 64)        36928     \n",
            "                                                                 \n",
            " block0_pooling (MaxPooling  (None, 16, 16, 64)        0         \n",
            " 2D)                                                             \n",
            "                                                                 \n",
            " block1_conv0 (Conv2D)       (None, 16, 16, 128)       73856     \n",
            "                                                                 \n",
            " block1_conv1 (Conv2D)       (None, 16, 16, 128)       147584    \n",
            "                                                                 \n",
            " block1_pooling (MaxPooling  (None, 8, 8, 128)         0         \n",
            " 2D)                                                             \n",
            "                                                                 \n",
            " block2_conv0 (Conv2D)       (None, 8, 8, 256)         295168    \n",
            "                                                                 \n",
            " block2_conv1 (Conv2D)       (None, 8, 8, 256)         590080    \n",
            "                                                                 \n",
            " block2_pooling (MaxPooling  (None, 4, 4, 256)         0         \n",
            " 2D)                                                             \n",
            "                                                                 \n",
            " block3_conv0 (Conv2D)       (None, 4, 4, 512)         1180160   \n",
            "                                                                 \n",
            " block3_conv1 (Conv2D)       (None, 4, 4, 512)         2359808   \n",
            "                                                                 \n",
            " block3_pooling (MaxPooling  (None, 2, 2, 512)         0         \n",
            " 2D)                                                             \n",
            "                                                                 \n",
            " block4_conv0 (Conv2D)       (None, 2, 2, 512)         2359808   \n",
            "                                                                 \n",
            " block4_conv1 (Conv2D)       (None, 2, 2, 512)         2359808   \n",
            "                                                                 \n",
            " block4_pooling (MaxPooling  (None, 1, 1, 512)         0         \n",
            " 2D)                                                             \n",
            "                                                                 \n",
            " flatten (Flatten)           (None, 512)               0         \n",
            "                                                                 \n",
            " fc1 (Dense)                 (None, 4096)              2101248   \n",
            "                                                                 \n",
            " fc2 (Dense)                 (None, 4096)              16781312  \n",
            "                                                                 \n",
            " predictions (Dense)         (None, 10)                40970     \n",
            "                                                                 \n",
            "=================================================================\n",
            "Total params: 28328522 (108.06 MB)\n",
            "Trainable params: 28328522 (108.06 MB)\n",
            "Non-trainable params: 0 (0.00 Byte)\n",
            "_________________________________________________________________\n"
          ]
        }
      ]
    },
    {
      "cell_type": "markdown",
      "source": [
        "# VGG16 vs VGG19 with using CIFAR-10 Datasets"
      ],
      "metadata": {
        "id": "FebFoGQG3X3A"
      }
    },
    {
      "cell_type": "code",
      "source": [
        "BATCH_SIZE = 256\n",
        "EPOCH = 15"
      ],
      "metadata": {
        "id": "Fof9clpN3RUz"
      },
      "execution_count": null,
      "outputs": []
    },
    {
      "cell_type": "code",
      "source": [
        "(ds_train, ds_test), ds_info = tfds.load(\n",
        "    'cifar10',\n",
        "    split=['train', 'test'],\n",
        "    as_supervised=True,\n",
        "    shuffle_files=True,\n",
        "    with_info=True,\n",
        ")\n",
        "\n",
        "ds_train = apply_normalize_on_dataset(ds_train, batch_size=BATCH_SIZE)\n",
        "ds_test = apply_normalize_on_dataset(ds_test, batch_size=BATCH_SIZE)"
      ],
      "metadata": {
        "id": "l5ocFZhC3Kfe"
      },
      "execution_count": null,
      "outputs": []
    },
    {
      "cell_type": "markdown",
      "source": [
        "# Make VGG-16 model and train !"
      ],
      "metadata": {
        "id": "QX9rYCeL33hc"
      }
    },
    {
      "cell_type": "code",
      "source": [
        "import tensorflow as tf\n",
        "tf.__version__"
      ],
      "metadata": {
        "colab": {
          "base_uri": "https://localhost:8080/",
          "height": 36
        },
        "id": "Wp20Gfim4vAo",
        "outputId": "17b37fc6-c0d2-4e80-82fc-98d8d26a3ba0"
      },
      "execution_count": null,
      "outputs": [
        {
          "output_type": "execute_result",
          "data": {
            "text/plain": [
              "'2.15.0'"
            ],
            "application/vnd.google.colaboratory.intrinsic+json": {
              "type": "string"
            }
          },
          "metadata": {},
          "execution_count": 30
        }
      ]
    },
    {
      "cell_type": "code",
      "source": [
        "vgg_16.compile(\n",
        "    loss='sparse_categorical_crossentropy',\n",
        "    optimizer=tf.keras.optimizers.SGD(lr=1e-2,\n",
        "                                     clipnorm=1.),\n",
        "    # clipnorm - gradient vanishing을 막기 위해 일정값이 상의 Gradient를 잘라내는 트릭\n",
        "    # https://ddggblog.tistory.com/179\n",
        ")\n",
        "\n",
        "history_16 = vgg_16.fit(\n",
        "    ds_train,\n",
        "    steps_per_epoch=int(ds_info.splits['train'].num_examples/BATCH_SIZE),\n",
        "    validation_steps=int(ds_info.splits['test'].num_examples/BATCH_SIZE),\n",
        "    epochs=EPOCH,\n",
        "    validation_data=ds_test,\n",
        "    verbose=1,\n",
        "    use_multiprocessing=True\n",
        ")"
      ],
      "metadata": {
        "colab": {
          "base_uri": "https://localhost:8080/",
          "height": 469
        },
        "id": "h9MQVfKo31Lb",
        "outputId": "dc0a4205-0a53-4da4-eacf-3ad5a9b4d566"
      },
      "execution_count": null,
      "outputs": [
        {
          "output_type": "stream",
          "name": "stderr",
          "text": [
            "WARNING:absl:`lr` is deprecated in Keras optimizer, please use `learning_rate` or use the legacy optimizer, e.g.,tf.keras.optimizers.legacy.SGD.\n"
          ]
        },
        {
          "output_type": "stream",
          "name": "stdout",
          "text": [
            "Epoch 1/15\n",
            "  1/195 [..............................] - ETA: 2:38:48 - loss: 2.2994"
          ]
        },
        {
          "output_type": "error",
          "ename": "KeyboardInterrupt",
          "evalue": "",
          "traceback": [
            "\u001b[0;31m---------------------------------------------------------------------------\u001b[0m",
            "\u001b[0;31mKeyboardInterrupt\u001b[0m                         Traceback (most recent call last)",
            "\u001b[0;32m<ipython-input-34-890ca13ac50e>\u001b[0m in \u001b[0;36m<cell line: 9>\u001b[0;34m()\u001b[0m\n\u001b[1;32m      7\u001b[0m )\n\u001b[1;32m      8\u001b[0m \u001b[0;34m\u001b[0m\u001b[0m\n\u001b[0;32m----> 9\u001b[0;31m history_16 = vgg_16.fit(\n\u001b[0m\u001b[1;32m     10\u001b[0m     \u001b[0mds_train\u001b[0m\u001b[0;34m,\u001b[0m\u001b[0;34m\u001b[0m\u001b[0;34m\u001b[0m\u001b[0m\n\u001b[1;32m     11\u001b[0m     \u001b[0msteps_per_epoch\u001b[0m\u001b[0;34m=\u001b[0m\u001b[0mint\u001b[0m\u001b[0;34m(\u001b[0m\u001b[0mds_info\u001b[0m\u001b[0;34m.\u001b[0m\u001b[0msplits\u001b[0m\u001b[0;34m[\u001b[0m\u001b[0;34m'train'\u001b[0m\u001b[0;34m]\u001b[0m\u001b[0;34m.\u001b[0m\u001b[0mnum_examples\u001b[0m\u001b[0;34m/\u001b[0m\u001b[0mBATCH_SIZE\u001b[0m\u001b[0;34m)\u001b[0m\u001b[0;34m,\u001b[0m\u001b[0;34m\u001b[0m\u001b[0;34m\u001b[0m\u001b[0m\n",
            "\u001b[0;32m/usr/local/lib/python3.10/dist-packages/keras/src/utils/traceback_utils.py\u001b[0m in \u001b[0;36merror_handler\u001b[0;34m(*args, **kwargs)\u001b[0m\n\u001b[1;32m     63\u001b[0m         \u001b[0mfiltered_tb\u001b[0m \u001b[0;34m=\u001b[0m \u001b[0;32mNone\u001b[0m\u001b[0;34m\u001b[0m\u001b[0;34m\u001b[0m\u001b[0m\n\u001b[1;32m     64\u001b[0m         \u001b[0;32mtry\u001b[0m\u001b[0;34m:\u001b[0m\u001b[0;34m\u001b[0m\u001b[0;34m\u001b[0m\u001b[0m\n\u001b[0;32m---> 65\u001b[0;31m             \u001b[0;32mreturn\u001b[0m \u001b[0mfn\u001b[0m\u001b[0;34m(\u001b[0m\u001b[0;34m*\u001b[0m\u001b[0margs\u001b[0m\u001b[0;34m,\u001b[0m \u001b[0;34m**\u001b[0m\u001b[0mkwargs\u001b[0m\u001b[0;34m)\u001b[0m\u001b[0;34m\u001b[0m\u001b[0;34m\u001b[0m\u001b[0m\n\u001b[0m\u001b[1;32m     66\u001b[0m         \u001b[0;32mexcept\u001b[0m \u001b[0mException\u001b[0m \u001b[0;32mas\u001b[0m \u001b[0me\u001b[0m\u001b[0;34m:\u001b[0m\u001b[0;34m\u001b[0m\u001b[0;34m\u001b[0m\u001b[0m\n\u001b[1;32m     67\u001b[0m             \u001b[0mfiltered_tb\u001b[0m \u001b[0;34m=\u001b[0m \u001b[0m_process_traceback_frames\u001b[0m\u001b[0;34m(\u001b[0m\u001b[0me\u001b[0m\u001b[0;34m.\u001b[0m\u001b[0m__traceback__\u001b[0m\u001b[0;34m)\u001b[0m\u001b[0;34m\u001b[0m\u001b[0;34m\u001b[0m\u001b[0m\n",
            "\u001b[0;32m/usr/local/lib/python3.10/dist-packages/keras/src/engine/training.py\u001b[0m in \u001b[0;36mfit\u001b[0;34m(self, x, y, batch_size, epochs, verbose, callbacks, validation_split, validation_data, shuffle, class_weight, sample_weight, initial_epoch, steps_per_epoch, validation_steps, validation_batch_size, validation_freq, max_queue_size, workers, use_multiprocessing)\u001b[0m\n\u001b[1;32m   1805\u001b[0m                         ):\n\u001b[1;32m   1806\u001b[0m                             \u001b[0mcallbacks\u001b[0m\u001b[0;34m.\u001b[0m\u001b[0mon_train_batch_begin\u001b[0m\u001b[0;34m(\u001b[0m\u001b[0mstep\u001b[0m\u001b[0;34m)\u001b[0m\u001b[0;34m\u001b[0m\u001b[0;34m\u001b[0m\u001b[0m\n\u001b[0;32m-> 1807\u001b[0;31m                             \u001b[0mtmp_logs\u001b[0m \u001b[0;34m=\u001b[0m \u001b[0mself\u001b[0m\u001b[0;34m.\u001b[0m\u001b[0mtrain_function\u001b[0m\u001b[0;34m(\u001b[0m\u001b[0miterator\u001b[0m\u001b[0;34m)\u001b[0m\u001b[0;34m\u001b[0m\u001b[0;34m\u001b[0m\u001b[0m\n\u001b[0m\u001b[1;32m   1808\u001b[0m                             \u001b[0;32mif\u001b[0m \u001b[0mdata_handler\u001b[0m\u001b[0;34m.\u001b[0m\u001b[0mshould_sync\u001b[0m\u001b[0;34m:\u001b[0m\u001b[0;34m\u001b[0m\u001b[0;34m\u001b[0m\u001b[0m\n\u001b[1;32m   1809\u001b[0m                                 \u001b[0mcontext\u001b[0m\u001b[0;34m.\u001b[0m\u001b[0masync_wait\u001b[0m\u001b[0;34m(\u001b[0m\u001b[0;34m)\u001b[0m\u001b[0;34m\u001b[0m\u001b[0;34m\u001b[0m\u001b[0m\n",
            "\u001b[0;32m/usr/local/lib/python3.10/dist-packages/tensorflow/python/util/traceback_utils.py\u001b[0m in \u001b[0;36merror_handler\u001b[0;34m(*args, **kwargs)\u001b[0m\n\u001b[1;32m    148\u001b[0m     \u001b[0mfiltered_tb\u001b[0m \u001b[0;34m=\u001b[0m \u001b[0;32mNone\u001b[0m\u001b[0;34m\u001b[0m\u001b[0;34m\u001b[0m\u001b[0m\n\u001b[1;32m    149\u001b[0m     \u001b[0;32mtry\u001b[0m\u001b[0;34m:\u001b[0m\u001b[0;34m\u001b[0m\u001b[0;34m\u001b[0m\u001b[0m\n\u001b[0;32m--> 150\u001b[0;31m       \u001b[0;32mreturn\u001b[0m \u001b[0mfn\u001b[0m\u001b[0;34m(\u001b[0m\u001b[0;34m*\u001b[0m\u001b[0margs\u001b[0m\u001b[0;34m,\u001b[0m \u001b[0;34m**\u001b[0m\u001b[0mkwargs\u001b[0m\u001b[0;34m)\u001b[0m\u001b[0;34m\u001b[0m\u001b[0;34m\u001b[0m\u001b[0m\n\u001b[0m\u001b[1;32m    151\u001b[0m     \u001b[0;32mexcept\u001b[0m \u001b[0mException\u001b[0m \u001b[0;32mas\u001b[0m \u001b[0me\u001b[0m\u001b[0;34m:\u001b[0m\u001b[0;34m\u001b[0m\u001b[0;34m\u001b[0m\u001b[0m\n\u001b[1;32m    152\u001b[0m       \u001b[0mfiltered_tb\u001b[0m \u001b[0;34m=\u001b[0m \u001b[0m_process_traceback_frames\u001b[0m\u001b[0;34m(\u001b[0m\u001b[0me\u001b[0m\u001b[0;34m.\u001b[0m\u001b[0m__traceback__\u001b[0m\u001b[0;34m)\u001b[0m\u001b[0;34m\u001b[0m\u001b[0;34m\u001b[0m\u001b[0m\n",
            "\u001b[0;32m/usr/local/lib/python3.10/dist-packages/tensorflow/python/eager/polymorphic_function/polymorphic_function.py\u001b[0m in \u001b[0;36m__call__\u001b[0;34m(self, *args, **kwds)\u001b[0m\n\u001b[1;32m    830\u001b[0m \u001b[0;34m\u001b[0m\u001b[0m\n\u001b[1;32m    831\u001b[0m       \u001b[0;32mwith\u001b[0m \u001b[0mOptionalXlaContext\u001b[0m\u001b[0;34m(\u001b[0m\u001b[0mself\u001b[0m\u001b[0;34m.\u001b[0m\u001b[0m_jit_compile\u001b[0m\u001b[0;34m)\u001b[0m\u001b[0;34m:\u001b[0m\u001b[0;34m\u001b[0m\u001b[0;34m\u001b[0m\u001b[0m\n\u001b[0;32m--> 832\u001b[0;31m         \u001b[0mresult\u001b[0m \u001b[0;34m=\u001b[0m \u001b[0mself\u001b[0m\u001b[0;34m.\u001b[0m\u001b[0m_call\u001b[0m\u001b[0;34m(\u001b[0m\u001b[0;34m*\u001b[0m\u001b[0margs\u001b[0m\u001b[0;34m,\u001b[0m \u001b[0;34m**\u001b[0m\u001b[0mkwds\u001b[0m\u001b[0;34m)\u001b[0m\u001b[0;34m\u001b[0m\u001b[0;34m\u001b[0m\u001b[0m\n\u001b[0m\u001b[1;32m    833\u001b[0m \u001b[0;34m\u001b[0m\u001b[0m\n\u001b[1;32m    834\u001b[0m       \u001b[0mnew_tracing_count\u001b[0m \u001b[0;34m=\u001b[0m \u001b[0mself\u001b[0m\u001b[0;34m.\u001b[0m\u001b[0mexperimental_get_tracing_count\u001b[0m\u001b[0;34m(\u001b[0m\u001b[0;34m)\u001b[0m\u001b[0;34m\u001b[0m\u001b[0;34m\u001b[0m\u001b[0m\n",
            "\u001b[0;32m/usr/local/lib/python3.10/dist-packages/tensorflow/python/eager/polymorphic_function/polymorphic_function.py\u001b[0m in \u001b[0;36m_call\u001b[0;34m(self, *args, **kwds)\u001b[0m\n\u001b[1;32m    866\u001b[0m       \u001b[0;31m# In this case we have created variables on the first call, so we run the\u001b[0m\u001b[0;34m\u001b[0m\u001b[0;34m\u001b[0m\u001b[0m\n\u001b[1;32m    867\u001b[0m       \u001b[0;31m# defunned version which is guaranteed to never create variables.\u001b[0m\u001b[0;34m\u001b[0m\u001b[0;34m\u001b[0m\u001b[0m\n\u001b[0;32m--> 868\u001b[0;31m       return tracing_compilation.call_function(\n\u001b[0m\u001b[1;32m    869\u001b[0m           \u001b[0margs\u001b[0m\u001b[0;34m,\u001b[0m \u001b[0mkwds\u001b[0m\u001b[0;34m,\u001b[0m \u001b[0mself\u001b[0m\u001b[0;34m.\u001b[0m\u001b[0m_no_variable_creation_config\u001b[0m\u001b[0;34m\u001b[0m\u001b[0;34m\u001b[0m\u001b[0m\n\u001b[1;32m    870\u001b[0m       )\n",
            "\u001b[0;32m/usr/local/lib/python3.10/dist-packages/tensorflow/python/eager/polymorphic_function/tracing_compilation.py\u001b[0m in \u001b[0;36mcall_function\u001b[0;34m(args, kwargs, tracing_options)\u001b[0m\n\u001b[1;32m    137\u001b[0m   \u001b[0mbound_args\u001b[0m \u001b[0;34m=\u001b[0m \u001b[0mfunction\u001b[0m\u001b[0;34m.\u001b[0m\u001b[0mfunction_type\u001b[0m\u001b[0;34m.\u001b[0m\u001b[0mbind\u001b[0m\u001b[0;34m(\u001b[0m\u001b[0;34m*\u001b[0m\u001b[0margs\u001b[0m\u001b[0;34m,\u001b[0m \u001b[0;34m**\u001b[0m\u001b[0mkwargs\u001b[0m\u001b[0;34m)\u001b[0m\u001b[0;34m\u001b[0m\u001b[0;34m\u001b[0m\u001b[0m\n\u001b[1;32m    138\u001b[0m   \u001b[0mflat_inputs\u001b[0m \u001b[0;34m=\u001b[0m \u001b[0mfunction\u001b[0m\u001b[0;34m.\u001b[0m\u001b[0mfunction_type\u001b[0m\u001b[0;34m.\u001b[0m\u001b[0munpack_inputs\u001b[0m\u001b[0;34m(\u001b[0m\u001b[0mbound_args\u001b[0m\u001b[0;34m)\u001b[0m\u001b[0;34m\u001b[0m\u001b[0;34m\u001b[0m\u001b[0m\n\u001b[0;32m--> 139\u001b[0;31m   return function._call_flat(  # pylint: disable=protected-access\n\u001b[0m\u001b[1;32m    140\u001b[0m       \u001b[0mflat_inputs\u001b[0m\u001b[0;34m,\u001b[0m \u001b[0mcaptured_inputs\u001b[0m\u001b[0;34m=\u001b[0m\u001b[0mfunction\u001b[0m\u001b[0;34m.\u001b[0m\u001b[0mcaptured_inputs\u001b[0m\u001b[0;34m\u001b[0m\u001b[0;34m\u001b[0m\u001b[0m\n\u001b[1;32m    141\u001b[0m   )\n",
            "\u001b[0;32m/usr/local/lib/python3.10/dist-packages/tensorflow/python/eager/polymorphic_function/concrete_function.py\u001b[0m in \u001b[0;36m_call_flat\u001b[0;34m(self, tensor_inputs, captured_inputs)\u001b[0m\n\u001b[1;32m   1321\u001b[0m         and executing_eagerly):\n\u001b[1;32m   1322\u001b[0m       \u001b[0;31m# No tape is watching; skip to running the function.\u001b[0m\u001b[0;34m\u001b[0m\u001b[0;34m\u001b[0m\u001b[0m\n\u001b[0;32m-> 1323\u001b[0;31m       \u001b[0;32mreturn\u001b[0m \u001b[0mself\u001b[0m\u001b[0;34m.\u001b[0m\u001b[0m_inference_function\u001b[0m\u001b[0;34m.\u001b[0m\u001b[0mcall_preflattened\u001b[0m\u001b[0;34m(\u001b[0m\u001b[0margs\u001b[0m\u001b[0;34m)\u001b[0m\u001b[0;34m\u001b[0m\u001b[0;34m\u001b[0m\u001b[0m\n\u001b[0m\u001b[1;32m   1324\u001b[0m     forward_backward = self._select_forward_and_backward_functions(\n\u001b[1;32m   1325\u001b[0m         \u001b[0margs\u001b[0m\u001b[0;34m,\u001b[0m\u001b[0;34m\u001b[0m\u001b[0;34m\u001b[0m\u001b[0m\n",
            "\u001b[0;32m/usr/local/lib/python3.10/dist-packages/tensorflow/python/eager/polymorphic_function/atomic_function.py\u001b[0m in \u001b[0;36mcall_preflattened\u001b[0;34m(self, args)\u001b[0m\n\u001b[1;32m    214\u001b[0m   \u001b[0;32mdef\u001b[0m \u001b[0mcall_preflattened\u001b[0m\u001b[0;34m(\u001b[0m\u001b[0mself\u001b[0m\u001b[0;34m,\u001b[0m \u001b[0margs\u001b[0m\u001b[0;34m:\u001b[0m \u001b[0mSequence\u001b[0m\u001b[0;34m[\u001b[0m\u001b[0mcore\u001b[0m\u001b[0;34m.\u001b[0m\u001b[0mTensor\u001b[0m\u001b[0;34m]\u001b[0m\u001b[0;34m)\u001b[0m \u001b[0;34m->\u001b[0m \u001b[0mAny\u001b[0m\u001b[0;34m:\u001b[0m\u001b[0;34m\u001b[0m\u001b[0;34m\u001b[0m\u001b[0m\n\u001b[1;32m    215\u001b[0m     \u001b[0;34m\"\"\"Calls with flattened tensor inputs and returns the structured output.\"\"\"\u001b[0m\u001b[0;34m\u001b[0m\u001b[0;34m\u001b[0m\u001b[0m\n\u001b[0;32m--> 216\u001b[0;31m     \u001b[0mflat_outputs\u001b[0m \u001b[0;34m=\u001b[0m \u001b[0mself\u001b[0m\u001b[0;34m.\u001b[0m\u001b[0mcall_flat\u001b[0m\u001b[0;34m(\u001b[0m\u001b[0;34m*\u001b[0m\u001b[0margs\u001b[0m\u001b[0;34m)\u001b[0m\u001b[0;34m\u001b[0m\u001b[0;34m\u001b[0m\u001b[0m\n\u001b[0m\u001b[1;32m    217\u001b[0m     \u001b[0;32mreturn\u001b[0m \u001b[0mself\u001b[0m\u001b[0;34m.\u001b[0m\u001b[0mfunction_type\u001b[0m\u001b[0;34m.\u001b[0m\u001b[0mpack_output\u001b[0m\u001b[0;34m(\u001b[0m\u001b[0mflat_outputs\u001b[0m\u001b[0;34m)\u001b[0m\u001b[0;34m\u001b[0m\u001b[0;34m\u001b[0m\u001b[0m\n\u001b[1;32m    218\u001b[0m \u001b[0;34m\u001b[0m\u001b[0m\n",
            "\u001b[0;32m/usr/local/lib/python3.10/dist-packages/tensorflow/python/eager/polymorphic_function/atomic_function.py\u001b[0m in \u001b[0;36mcall_flat\u001b[0;34m(self, *args)\u001b[0m\n\u001b[1;32m    249\u001b[0m         \u001b[0;32mwith\u001b[0m \u001b[0mrecord\u001b[0m\u001b[0;34m.\u001b[0m\u001b[0mstop_recording\u001b[0m\u001b[0;34m(\u001b[0m\u001b[0;34m)\u001b[0m\u001b[0;34m:\u001b[0m\u001b[0;34m\u001b[0m\u001b[0;34m\u001b[0m\u001b[0m\n\u001b[1;32m    250\u001b[0m           \u001b[0;32mif\u001b[0m \u001b[0mself\u001b[0m\u001b[0;34m.\u001b[0m\u001b[0m_bound_context\u001b[0m\u001b[0;34m.\u001b[0m\u001b[0mexecuting_eagerly\u001b[0m\u001b[0;34m(\u001b[0m\u001b[0;34m)\u001b[0m\u001b[0;34m:\u001b[0m\u001b[0;34m\u001b[0m\u001b[0;34m\u001b[0m\u001b[0m\n\u001b[0;32m--> 251\u001b[0;31m             outputs = self._bound_context.call_function(\n\u001b[0m\u001b[1;32m    252\u001b[0m                 \u001b[0mself\u001b[0m\u001b[0;34m.\u001b[0m\u001b[0mname\u001b[0m\u001b[0;34m,\u001b[0m\u001b[0;34m\u001b[0m\u001b[0;34m\u001b[0m\u001b[0m\n\u001b[1;32m    253\u001b[0m                 \u001b[0mlist\u001b[0m\u001b[0;34m(\u001b[0m\u001b[0margs\u001b[0m\u001b[0;34m)\u001b[0m\u001b[0;34m,\u001b[0m\u001b[0;34m\u001b[0m\u001b[0;34m\u001b[0m\u001b[0m\n",
            "\u001b[0;32m/usr/local/lib/python3.10/dist-packages/tensorflow/python/eager/context.py\u001b[0m in \u001b[0;36mcall_function\u001b[0;34m(self, name, tensor_inputs, num_outputs)\u001b[0m\n\u001b[1;32m   1484\u001b[0m     \u001b[0mcancellation_context\u001b[0m \u001b[0;34m=\u001b[0m \u001b[0mcancellation\u001b[0m\u001b[0;34m.\u001b[0m\u001b[0mcontext\u001b[0m\u001b[0;34m(\u001b[0m\u001b[0;34m)\u001b[0m\u001b[0;34m\u001b[0m\u001b[0;34m\u001b[0m\u001b[0m\n\u001b[1;32m   1485\u001b[0m     \u001b[0;32mif\u001b[0m \u001b[0mcancellation_context\u001b[0m \u001b[0;32mis\u001b[0m \u001b[0;32mNone\u001b[0m\u001b[0;34m:\u001b[0m\u001b[0;34m\u001b[0m\u001b[0;34m\u001b[0m\u001b[0m\n\u001b[0;32m-> 1486\u001b[0;31m       outputs = execute.execute(\n\u001b[0m\u001b[1;32m   1487\u001b[0m           \u001b[0mname\u001b[0m\u001b[0;34m.\u001b[0m\u001b[0mdecode\u001b[0m\u001b[0;34m(\u001b[0m\u001b[0;34m\"utf-8\"\u001b[0m\u001b[0;34m)\u001b[0m\u001b[0;34m,\u001b[0m\u001b[0;34m\u001b[0m\u001b[0;34m\u001b[0m\u001b[0m\n\u001b[1;32m   1488\u001b[0m           \u001b[0mnum_outputs\u001b[0m\u001b[0;34m=\u001b[0m\u001b[0mnum_outputs\u001b[0m\u001b[0;34m,\u001b[0m\u001b[0;34m\u001b[0m\u001b[0;34m\u001b[0m\u001b[0m\n",
            "\u001b[0;32m/usr/local/lib/python3.10/dist-packages/tensorflow/python/eager/execute.py\u001b[0m in \u001b[0;36mquick_execute\u001b[0;34m(op_name, num_outputs, inputs, attrs, ctx, name)\u001b[0m\n\u001b[1;32m     51\u001b[0m   \u001b[0;32mtry\u001b[0m\u001b[0;34m:\u001b[0m\u001b[0;34m\u001b[0m\u001b[0;34m\u001b[0m\u001b[0m\n\u001b[1;32m     52\u001b[0m     \u001b[0mctx\u001b[0m\u001b[0;34m.\u001b[0m\u001b[0mensure_initialized\u001b[0m\u001b[0;34m(\u001b[0m\u001b[0;34m)\u001b[0m\u001b[0;34m\u001b[0m\u001b[0;34m\u001b[0m\u001b[0m\n\u001b[0;32m---> 53\u001b[0;31m     tensors = pywrap_tfe.TFE_Py_Execute(ctx._handle, device_name, op_name,\n\u001b[0m\u001b[1;32m     54\u001b[0m                                         inputs, attrs, num_outputs)\n\u001b[1;32m     55\u001b[0m   \u001b[0;32mexcept\u001b[0m \u001b[0mcore\u001b[0m\u001b[0;34m.\u001b[0m\u001b[0m_NotOkStatusException\u001b[0m \u001b[0;32mas\u001b[0m \u001b[0me\u001b[0m\u001b[0;34m:\u001b[0m\u001b[0;34m\u001b[0m\u001b[0;34m\u001b[0m\u001b[0m\n",
            "\u001b[0;31mKeyboardInterrupt\u001b[0m: "
          ]
        }
      ]
    },
    {
      "cell_type": "markdown",
      "source": [
        "# Make VGG-19 model and Train !"
      ],
      "metadata": {
        "id": "nvv1WxFd5e3u"
      }
    },
    {
      "cell_type": "code",
      "source": [
        "# Re-allocate if you want to change\n",
        "BATCH_SIZE = 256\n",
        "EPOCH = 15"
      ],
      "metadata": {
        "id": "ChGc3lMZ5kGB"
      },
      "execution_count": null,
      "outputs": []
    },
    {
      "cell_type": "code",
      "source": [
        "\n",
        "vgg_19.compile(\n",
        "    loss='sparse_categorical_crossentropy',\n",
        "    optimizer=tf.keras.optimizers.SGD(lr=1e-2,\n",
        "                                     clipnorm=1.),\n",
        ")\n",
        "\n",
        "history_19 = vgg_19.fit(\n",
        "    ds_train,\n",
        "    steps_per_epoch=int(ds_info.splits['train'].num_examples/BATCH_SIZE),\n",
        "    validation_steps=int(ds_info.splits['test'].num_examples/BATCH_SIZE),\n",
        "    epochs=EPOCH,\n",
        "    validation_data=ds_test,\n",
        "    verbose=1,\n",
        "    use_multiprocessing=True\n",
        ")"
      ],
      "metadata": {
        "id": "toNXWbg_5Qvx"
      },
      "execution_count": null,
      "outputs": []
    },
    {
      "cell_type": "markdown",
      "source": [
        "# Make plot and Compare VGG16 and VGG19 !"
      ],
      "metadata": {
        "id": "LPXnBnyF5o5h"
      }
    },
    {
      "cell_type": "markdown",
      "source": [
        "## For Loss"
      ],
      "metadata": {
        "id": "LVRL1x83518V"
      }
    },
    {
      "cell_type": "code",
      "source": [
        "import matplotlib.pyplot as plt\n",
        "\n",
        "plt.plot(history_16.history['loss'], 'r')\n",
        "plt.plot(history_19.history['loss'], 'b')\n",
        "plt.title('Model training loss')\n",
        "plt.ylabel('Loss')\n",
        "plt.xlabel('Epoch')\n",
        "plt.legend(['vgg_16', 'vgg_19'], loc='upper left')\n",
        "plt.show()"
      ],
      "metadata": {
        "id": "Gx5PQ4Ns4dXP"
      },
      "execution_count": null,
      "outputs": []
    },
    {
      "cell_type": "markdown",
      "source": [
        "## For Accuracy"
      ],
      "metadata": {
        "id": "rUBFL8aU54bU"
      }
    },
    {
      "cell_type": "code",
      "source": [
        "plt.plot(history_16.history['val_accuracy'], 'r')\n",
        "plt.plot(history_19.history['val_accuracy'], 'b')\n",
        "plt.title('Model validation accuracy')\n",
        "plt.ylabel('Accuracy')\n",
        "plt.xlabel('Epoch')\n",
        "plt.legend(['vgg_16', 'vgg_19'], loc='upper left')\n",
        "plt.show()"
      ],
      "metadata": {
        "id": "pEZH9mFD5z__"
      },
      "execution_count": null,
      "outputs": []
    }
  ]
}
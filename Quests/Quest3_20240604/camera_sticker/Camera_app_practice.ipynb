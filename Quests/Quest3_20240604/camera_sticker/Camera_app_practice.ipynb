{
 "cells": [
  {
   "cell_type": "markdown",
   "metadata": {},
   "source": [
    "# 개요"
   ]
  },
  {
   "cell_type": "markdown",
   "metadata": {},
   "source": [
    "카메라 앱 만들기를 진행합니다.\n",
    "- 얼굴을 Face Detection 기능을 활용하여 검출한 후, 얼굴의 특정 위치에 원하는 스티커를 위치시키는 작업을 진행"
   ]
  },
  {
   "cell_type": "markdown",
   "metadata": {},
   "source": [
    "- 프로젝트 폴더 내 구조입니다."
   ]
  },
  {
   "cell_type": "code",
   "execution_count": 1,
   "metadata": {},
   "outputs": [
    {
     "name": "stdout",
     "output_type": "stream",
     "text": [
      "\u001b[1;36m.\u001b[0m\n",
      "├── Camera_app_practice.ipynb\n",
      "├── \u001b[1;36mimages\u001b[0m\n",
      "│   ├── hero.png\n",
      "│   ├── image.png\n",
      "│   └── king.png\n",
      "└── \u001b[1;36mmodels\u001b[0m\n",
      "\n",
      "3 directories, 4 files\n"
     ]
    }
   ],
   "source": [
    "!tree"
   ]
  },
  {
   "cell_type": "markdown",
   "metadata": {},
   "source": [
    "# 실습코드"
   ]
  },
  {
   "cell_type": "markdown",
   "metadata": {},
   "source": [
    "## 필요한 라이브러리 불러오기"
   ]
  },
  {
   "cell_type": "markdown",
   "metadata": {},
   "source": [
    "- cv2 를 불러오지 못할 경우 수동설치"
   ]
  },
  {
   "cell_type": "code",
   "execution_count": null,
   "metadata": {},
   "outputs": [],
   "source": [
    "!pip install opencv-python # cv2 설치"
   ]
  },
  {
   "cell_type": "code",
   "execution_count": 2,
   "metadata": {},
   "outputs": [
    {
     "ename": "ModuleNotFoundError",
     "evalue": "No module named 'cv2'",
     "output_type": "error",
     "traceback": [
      "\u001b[0;31m---------------------------------------------------------------------------\u001b[0m",
      "\u001b[0;31mModuleNotFoundError\u001b[0m                       Traceback (most recent call last)",
      "Cell \u001b[0;32mIn[2], line 3\u001b[0m\n\u001b[1;32m      1\u001b[0m \u001b[38;5;66;03m# 필요한 패키지 import 하기\u001b[39;00m\n\u001b[1;32m      2\u001b[0m \u001b[38;5;28;01mimport\u001b[39;00m \u001b[38;5;21;01mos\u001b[39;00m \u001b[38;5;66;03m# 환경 변수나 디렉터리, 파일 등의 OS 자원을 제어할 수 있게 해주는 모듈\u001b[39;00m\n\u001b[0;32m----> 3\u001b[0m \u001b[38;5;28;01mimport\u001b[39;00m \u001b[38;5;21;01mcv2\u001b[39;00m \u001b[38;5;66;03m# OpenCV라이브러리 → 컴퓨터 비전 관련 프로그래밍을 쉽게 할 수 있도록 도와주는 라이브러리\u001b[39;00m\n\u001b[1;32m      4\u001b[0m \u001b[38;5;28;01mimport\u001b[39;00m \u001b[38;5;21;01mmatplotlib\u001b[39;00m\u001b[38;5;21;01m.\u001b[39;00m\u001b[38;5;21;01mpyplot\u001b[39;00m \u001b[38;5;28;01mas\u001b[39;00m \u001b[38;5;21;01mplt\u001b[39;00m \u001b[38;5;66;03m# 다양한 데이터를 많은 방법으로 도식화 할 수 있도록 하는 라이브러리\u001b[39;00m\n\u001b[1;32m      5\u001b[0m \u001b[38;5;28;01mimport\u001b[39;00m \u001b[38;5;21;01mnumpy\u001b[39;00m \u001b[38;5;28;01mas\u001b[39;00m \u001b[38;5;21;01mnp\u001b[39;00m \u001b[38;5;66;03m# 다차원 배열을 쉽게 처리하고 효율적으로 사용할 수 있도록 하는 라이브러리\u001b[39;00m\n",
      "\u001b[0;31mModuleNotFoundError\u001b[0m: No module named 'cv2'"
     ]
    }
   ],
   "source": [
    "# 필요한 패키지 import 하기\n",
    "import os # 환경 변수나 디렉터리, 파일 등의 OS 자원을 제어할 수 있게 해주는 모듈\n",
    "import cv2 # OpenCV라이브러리 → 컴퓨터 비전 관련 프로그래밍을 쉽게 할 수 있도록 도와주는 라이브러리\n",
    "import matplotlib.pyplot as plt # 다양한 데이터를 많은 방법으로 도식화 할 수 있도록 하는 라이브러리\n",
    "import numpy as np # 다차원 배열을 쉽게 처리하고 효율적으로 사용할 수 있도록 하는 라이브러리\n",
    "import dlib # 이미지 처리 및 기계 학습, 얼굴인식 등을 할 수 있는 c++ 로 개발된 고성능의 라이브러리 "
   ]
  },
  {
   "cell_type": "code",
   "execution_count": 3,
   "metadata": {},
   "outputs": [
    {
     "name": "stdout",
     "output_type": "stream",
     "text": [
      "/Users/leejunghoon/Documents/dev/2024/aiffel/AIFFEL_RESEARCH_STUDY/Quests/Quest3_20240604/camera_sticker\n"
     ]
    }
   ],
   "source": [
    "!pwd"
   ]
  },
  {
   "cell_type": "code",
   "execution_count": null,
   "metadata": {},
   "outputs": [],
   "source": [
    "# my_image_path = 'aiffel/camera_sticker/images/image.png' # 본인 이미지가 있는 경로를 가지고 온다.\n",
    "my_image_path = 'aiffel/camera_sticker/images/image.png' # 본인 이미지가 있는 경로를 가지고 온다.\n",
    "img_bgr = cv2.imread(my_image_path)    # OpenCV로 이미지를 불러옵니다\n",
    "img_show = img_bgr.copy()      # 출력용 이미지를 따로 보관합니다\n",
    "plt.imshow(img_bgr) # 이미지를 출력하기 위해 출력할 이미지를 올려준다. (실제 출력은 하지 않음)\n",
    "plt.show() # 이미지를 출력해준다. (실제 출력)"
   ]
  },
  {
   "cell_type": "code",
   "execution_count": null,
   "metadata": {},
   "outputs": [],
   "source": []
  },
  {
   "cell_type": "code",
   "execution_count": null,
   "metadata": {},
   "outputs": [],
   "source": []
  },
  {
   "cell_type": "code",
   "execution_count": null,
   "metadata": {},
   "outputs": [],
   "source": []
  },
  {
   "cell_type": "code",
   "execution_count": null,
   "metadata": {},
   "outputs": [],
   "source": []
  },
  {
   "cell_type": "code",
   "execution_count": null,
   "metadata": {},
   "outputs": [],
   "source": []
  },
  {
   "cell_type": "markdown",
   "metadata": {},
   "source": [
    "# 오늘의 회고"
   ]
  },
  {
   "cell_type": "markdown",
   "metadata": {},
   "source": [
    "**날짜**: 2024년 6월 4일\n",
    "\n",
    "**학습 주제**: 카메라앱 만들기를 통해 동영상 처리, 검출, 키포인트 추정, 추적, 카메라 원근의 기술을 다룹니다.\n",
    "\n",
    "**주요 학습 내용**:\n",
    "\n",
    "- 얼굴인식 카메라의 흐름을 이해.\n",
    "- dlib 라이브러리 사용하여 실습.\n",
    "- 이미지 배열의 인덱싱 예외 처리.\n",
    "\n",
    "**실습 및 프로젝트 진행 상황**:\n",
    "\n",
    "- 간단한 신경망 모델을 구축하고, MNIST 데이터셋을 사용하여 숫자 인식을 실습.\n",
    "- 모델의 성능을 평가하고, 활성화 함수를 변경해가며 실험.\n",
    "\n",
    "**배운 점**:\n",
    "\n",
    "- ReLU 함수가 기울기 소실 문제를 효과적으로 해결할 수 있다는 점을 배움.\n",
    "- 신경망의 층이 깊어질수록 학습이 어려워질 수 있으며, 적절한 활성화 함수 선택이 중요함을 깨달음.\n",
    "\n",
    "**도전과 어려움**:\n",
    "\n",
    "- 학습 속도가 느리고, 모델이 과적합되는 문제를 겪음.\n",
    "- 여러 활성화 함수를 시도해 보았지만, 최적의 성능을 내기까지 시간이 걸림.\n",
    "\n",
    "**느낀 점 및 개선할 점**:\n",
    "\n",
    "- 다양한 활성화 함수를 실험해보면서 그 중요성을 체감.\n",
    "- 모델의 과적합을 방지하기 위해 정규화 기법을 더 공부할 필요성을 느낌.\n",
    "\n",
    "**내일의 계획**:\n",
    "\n",
    "- 정규화 기법 (Dropout, Batch Normalization)에 대해 학습.\n",
    "- 정규화 기법을 적용한 신경망 모델을 구축해보고, 성능 변화를 관찰"
   ]
  }
 ],
 "metadata": {
  "kernelspec": {
   "display_name": "aiffel",
   "language": "python",
   "name": "python3"
  },
  "language_info": {
   "codemirror_mode": {
    "name": "ipython",
    "version": 3
   },
   "file_extension": ".py",
   "mimetype": "text/x-python",
   "name": "python",
   "nbconvert_exporter": "python",
   "pygments_lexer": "ipython3",
   "version": "3.9.0"
  }
 },
 "nbformat": 4,
 "nbformat_minor": 2
}

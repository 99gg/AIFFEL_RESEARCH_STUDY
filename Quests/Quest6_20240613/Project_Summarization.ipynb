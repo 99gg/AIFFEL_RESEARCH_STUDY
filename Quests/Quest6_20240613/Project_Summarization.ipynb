{
 "cells": [
  {
   "cell_type": "markdown",
   "id": "fe434b0c",
   "metadata": {},
   "source": [
    "# 주의 사항"
   ]
  },
  {
   "cell_type": "markdown",
   "id": "68c1aa45",
   "metadata": {},
   "source": [
    "- 본 코드는 tensorflow 2.6.0.의 API를 기준으로 작성되었음을 알립니다.\n",
    "- 세부적인 버전이 상이할 경우 코드 재현이 보장되지 않습니다."
   ]
  },
  {
   "cell_type": "code",
   "execution_count": 1,
   "id": "48d66ef5",
   "metadata": {},
   "outputs": [
    {
     "data": {
      "text/plain": [
       "'2.6.0'"
      ]
     },
     "execution_count": 1,
     "metadata": {},
     "output_type": "execute_result"
    }
   ],
   "source": [
    "# 버전 정보 체크\n",
    "import tensorflow as tf\n",
    "tf.__version__"
   ]
  },
  {
   "cell_type": "markdown",
   "id": "a913f379",
   "metadata": {},
   "source": [
    "# 아마존 리뷰 데이터셋(예제)"
   ]
  },
  {
   "cell_type": "markdown",
   "id": "c383e2c0",
   "metadata": {},
   "source": [
    "터미널을 열어 아래와 같이 작업환경을 구성\n",
    "\n",
    "`$ mkdir -p ~/aiffel/news_summarization/data`\n",
    "\n",
    "사용할 데이터셋 : Kaggle에서 제공된 아마존 리뷰\n",
    "\n",
    "클라우드에 올라가있는 데이터셋을 사용하려면 다음과 같이 실행\n",
    "\n",
    "`$ ln -s ~/data/*.csv ~/aiffel/news_summarization/data`\n",
    "\n",
    "NLTK의 불용어(stopwords)를 사용하여 데이터 전처리\n",
    "- NTLK와 NLTK 데이터셋이 설치되어 있지 않은 환경이라면 우선 NLTK를 설치하고 NTLK의 데이터셋이 필요\n",
    "\n",
    "NLTK : Natural Language Toolkit의 축약어 \n",
    "- *영어 기호, 통계, 자연어 처리*를 위한 라이브러리\n",
    "\n",
    "> I, my, me, over, 조사, 접미사와 같이 문장에는 자주 등장하지만, \n",
    "의미 분석 및 요약에 의미가 없는 *100여개의 불용어가 미리 정리되어* 있음."
   ]
  },
  {
   "cell_type": "code",
   "execution_count": 27,
   "id": "68f08eda",
   "metadata": {},
   "outputs": [
    {
     "name": "stderr",
     "output_type": "stream",
     "text": [
      "[nltk_data] Downloading package stopwords to /aiffel/nltk_data...\n",
      "[nltk_data]   Package stopwords is already up-to-date!\n"
     ]
    }
   ],
   "source": [
    "import nltk\n",
    "nltk.download('stopwords')\n",
    "\n",
    "import numpy as np\n",
    "import pandas as pd\n",
    "import os\n",
    "import re\n",
    "\n",
    "import matplotlib.pyplot as plt\n",
    "from nltk.corpus import stopwords\n",
    "\n",
    "from tensorflow import keras\n",
    "from bs4 import BeautifulSoup \n",
    "from tensorflow.keras.preprocessing.text import Tokenizer \n",
    "from tensorflow.keras.preprocessing.sequence import pad_sequences\n",
    "import urllib.request\n",
    "import warnings\n",
    "warnings.filterwarnings(\"ignore\", category=UserWarning, module='bs4')"
   ]
  },
  {
   "cell_type": "markdown",
   "id": "7544f45d",
   "metadata": {},
   "source": [
    "링크에서 다운로드 받은 데이터(Reviews.csv)는 총 568,454개의 샘플\n",
    "- 시간상 여기서는 모든 샘플을 사용하지는 않고, 간단히 10만 개의 샘플만 사용"
   ]
  },
  {
   "cell_type": "code",
   "execution_count": 71,
   "id": "529c7ed4",
   "metadata": {},
   "outputs": [
    {
     "name": "stdout",
     "output_type": "stream",
     "text": [
      "전체 샘플수 : 100000\n"
     ]
    }
   ],
   "source": [
    "data = pd.read_csv(os.getenv(\"HOME\")+\"/aiffel/news_summarization/data/Reviews.csv\", nrows=100000)\n",
    "print('전체 샘플수 :', (len(data)))"
   ]
  },
  {
   "cell_type": "code",
   "execution_count": 72,
   "id": "b90b85d1",
   "metadata": {},
   "outputs": [
    {
     "data": {
      "text/html": [
       "<div>\n",
       "<style scoped>\n",
       "    .dataframe tbody tr th:only-of-type {\n",
       "        vertical-align: middle;\n",
       "    }\n",
       "\n",
       "    .dataframe tbody tr th {\n",
       "        vertical-align: top;\n",
       "    }\n",
       "\n",
       "    .dataframe thead th {\n",
       "        text-align: right;\n",
       "    }\n",
       "</style>\n",
       "<table border=\"1\" class=\"dataframe\">\n",
       "  <thead>\n",
       "    <tr style=\"text-align: right;\">\n",
       "      <th></th>\n",
       "      <th>Id</th>\n",
       "      <th>ProductId</th>\n",
       "      <th>UserId</th>\n",
       "      <th>ProfileName</th>\n",
       "      <th>HelpfulnessNumerator</th>\n",
       "      <th>HelpfulnessDenominator</th>\n",
       "      <th>Score</th>\n",
       "      <th>Time</th>\n",
       "      <th>Summary</th>\n",
       "      <th>Text</th>\n",
       "    </tr>\n",
       "  </thead>\n",
       "  <tbody>\n",
       "    <tr>\n",
       "      <th>0</th>\n",
       "      <td>1</td>\n",
       "      <td>B001E4KFG0</td>\n",
       "      <td>A3SGXH7AUHU8GW</td>\n",
       "      <td>delmartian</td>\n",
       "      <td>1</td>\n",
       "      <td>1</td>\n",
       "      <td>5</td>\n",
       "      <td>1303862400</td>\n",
       "      <td>Good Quality Dog Food</td>\n",
       "      <td>I have bought several of the Vitality canned d...</td>\n",
       "    </tr>\n",
       "    <tr>\n",
       "      <th>1</th>\n",
       "      <td>2</td>\n",
       "      <td>B00813GRG4</td>\n",
       "      <td>A1D87F6ZCVE5NK</td>\n",
       "      <td>dll pa</td>\n",
       "      <td>0</td>\n",
       "      <td>0</td>\n",
       "      <td>1</td>\n",
       "      <td>1346976000</td>\n",
       "      <td>Not as Advertised</td>\n",
       "      <td>Product arrived labeled as Jumbo Salted Peanut...</td>\n",
       "    </tr>\n",
       "    <tr>\n",
       "      <th>2</th>\n",
       "      <td>3</td>\n",
       "      <td>B000LQOCH0</td>\n",
       "      <td>ABXLMWJIXXAIN</td>\n",
       "      <td>Natalia Corres \"Natalia Corres\"</td>\n",
       "      <td>1</td>\n",
       "      <td>1</td>\n",
       "      <td>4</td>\n",
       "      <td>1219017600</td>\n",
       "      <td>\"Delight\" says it all</td>\n",
       "      <td>This is a confection that has been around a fe...</td>\n",
       "    </tr>\n",
       "    <tr>\n",
       "      <th>3</th>\n",
       "      <td>4</td>\n",
       "      <td>B000UA0QIQ</td>\n",
       "      <td>A395BORC6FGVXV</td>\n",
       "      <td>Karl</td>\n",
       "      <td>3</td>\n",
       "      <td>3</td>\n",
       "      <td>2</td>\n",
       "      <td>1307923200</td>\n",
       "      <td>Cough Medicine</td>\n",
       "      <td>If you are looking for the secret ingredient i...</td>\n",
       "    </tr>\n",
       "    <tr>\n",
       "      <th>4</th>\n",
       "      <td>5</td>\n",
       "      <td>B006K2ZZ7K</td>\n",
       "      <td>A1UQRSCLF8GW1T</td>\n",
       "      <td>Michael D. Bigham \"M. Wassir\"</td>\n",
       "      <td>0</td>\n",
       "      <td>0</td>\n",
       "      <td>5</td>\n",
       "      <td>1350777600</td>\n",
       "      <td>Great taffy</td>\n",
       "      <td>Great taffy at a great price.  There was a wid...</td>\n",
       "    </tr>\n",
       "  </tbody>\n",
       "</table>\n",
       "</div>"
      ],
      "text/plain": [
       "   Id   ProductId          UserId                      ProfileName  \\\n",
       "0   1  B001E4KFG0  A3SGXH7AUHU8GW                       delmartian   \n",
       "1   2  B00813GRG4  A1D87F6ZCVE5NK                           dll pa   \n",
       "2   3  B000LQOCH0   ABXLMWJIXXAIN  Natalia Corres \"Natalia Corres\"   \n",
       "3   4  B000UA0QIQ  A395BORC6FGVXV                             Karl   \n",
       "4   5  B006K2ZZ7K  A1UQRSCLF8GW1T    Michael D. Bigham \"M. Wassir\"   \n",
       "\n",
       "   HelpfulnessNumerator  HelpfulnessDenominator  Score        Time  \\\n",
       "0                     1                       1      5  1303862400   \n",
       "1                     0                       0      1  1346976000   \n",
       "2                     1                       1      4  1219017600   \n",
       "3                     3                       3      2  1307923200   \n",
       "4                     0                       0      5  1350777600   \n",
       "\n",
       "                 Summary                                               Text  \n",
       "0  Good Quality Dog Food  I have bought several of the Vitality canned d...  \n",
       "1      Not as Advertised  Product arrived labeled as Jumbo Salted Peanut...  \n",
       "2  \"Delight\" says it all  This is a confection that has been around a fe...  \n",
       "3         Cough Medicine  If you are looking for the secret ingredient i...  \n",
       "4            Great taffy  Great taffy at a great price.  There was a wid...  "
      ]
     },
     "execution_count": 72,
     "metadata": {},
     "output_type": "execute_result"
    }
   ],
   "source": [
    "data.head()"
   ]
  },
  {
   "cell_type": "code",
   "execution_count": 42,
   "id": "0c9df448",
   "metadata": {},
   "outputs": [
    {
     "data": {
      "text/html": [
       "<div>\n",
       "<style scoped>\n",
       "    .dataframe tbody tr th:only-of-type {\n",
       "        vertical-align: middle;\n",
       "    }\n",
       "\n",
       "    .dataframe tbody tr th {\n",
       "        vertical-align: top;\n",
       "    }\n",
       "\n",
       "    .dataframe thead th {\n",
       "        text-align: right;\n",
       "    }\n",
       "</style>\n",
       "<table border=\"1\" class=\"dataframe\">\n",
       "  <thead>\n",
       "    <tr style=\"text-align: right;\">\n",
       "      <th></th>\n",
       "      <th>Summary</th>\n",
       "      <th>Text</th>\n",
       "    </tr>\n",
       "  </thead>\n",
       "  <tbody>\n",
       "    <tr>\n",
       "      <th>0</th>\n",
       "      <td>Good Quality Dog Food</td>\n",
       "      <td>I have bought several of the Vitality canned d...</td>\n",
       "    </tr>\n",
       "    <tr>\n",
       "      <th>1</th>\n",
       "      <td>Not as Advertised</td>\n",
       "      <td>Product arrived labeled as Jumbo Salted Peanut...</td>\n",
       "    </tr>\n",
       "    <tr>\n",
       "      <th>2</th>\n",
       "      <td>\"Delight\" says it all</td>\n",
       "      <td>This is a confection that has been around a fe...</td>\n",
       "    </tr>\n",
       "    <tr>\n",
       "      <th>3</th>\n",
       "      <td>Cough Medicine</td>\n",
       "      <td>If you are looking for the secret ingredient i...</td>\n",
       "    </tr>\n",
       "    <tr>\n",
       "      <th>4</th>\n",
       "      <td>Great taffy</td>\n",
       "      <td>Great taffy at a great price.  There was a wid...</td>\n",
       "    </tr>\n",
       "  </tbody>\n",
       "</table>\n",
       "</div>"
      ],
      "text/plain": [
       "                 Summary                                               Text\n",
       "0  Good Quality Dog Food  I have bought several of the Vitality canned d...\n",
       "1      Not as Advertised  Product arrived labeled as Jumbo Salted Peanut...\n",
       "2  \"Delight\" says it all  This is a confection that has been around a fe...\n",
       "3         Cough Medicine  If you are looking for the secret ingredient i...\n",
       "4            Great taffy  Great taffy at a great price.  There was a wid..."
      ]
     },
     "execution_count": 42,
     "metadata": {},
     "output_type": "execute_result"
    }
   ],
   "source": [
    "# 실제 사용할 열들만 저장\n",
    "# Q. 데이터프레임 data의 Text와 Summary 컬럼의 데이터만 남기는 코드를 작성하세요.\n",
    "data = data.loc[:, ['Summary', 'Text']]\n",
    "data.head()"
   ]
  },
  {
   "cell_type": "code",
   "execution_count": 43,
   "id": "1c03ca48",
   "metadata": {
    "collapsed": true
   },
   "outputs": [
    {
     "data": {
      "text/html": [
       "<div>\n",
       "<style scoped>\n",
       "    .dataframe tbody tr th:only-of-type {\n",
       "        vertical-align: middle;\n",
       "    }\n",
       "\n",
       "    .dataframe tbody tr th {\n",
       "        vertical-align: top;\n",
       "    }\n",
       "\n",
       "    .dataframe thead th {\n",
       "        text-align: right;\n",
       "    }\n",
       "</style>\n",
       "<table border=\"1\" class=\"dataframe\">\n",
       "  <thead>\n",
       "    <tr style=\"text-align: right;\">\n",
       "      <th></th>\n",
       "      <th>Summary</th>\n",
       "      <th>Text</th>\n",
       "    </tr>\n",
       "  </thead>\n",
       "  <tbody>\n",
       "    <tr>\n",
       "      <th>5371</th>\n",
       "      <td>Wonderful Product!</td>\n",
       "      <td>This is a wonderful product, I was happy to se...</td>\n",
       "    </tr>\n",
       "    <tr>\n",
       "      <th>17565</th>\n",
       "      <td>Love this tea- great deal!</td>\n",
       "      <td>I love this tea!!! Im an engineer and seemed t...</td>\n",
       "    </tr>\n",
       "    <tr>\n",
       "      <th>40499</th>\n",
       "      <td>Distinct Odor but I Really Like It ..</td>\n",
       "      <td>This tea has a strong pungent smell that my hu...</td>\n",
       "    </tr>\n",
       "    <tr>\n",
       "      <th>22445</th>\n",
       "      <td>Lovely flavor!</td>\n",
       "      <td>It's pretty much impossible to find dry whole ...</td>\n",
       "    </tr>\n",
       "    <tr>\n",
       "      <th>48703</th>\n",
       "      <td>not so impressed</td>\n",
       "      <td>with my purchase of the tea I was not impresse...</td>\n",
       "    </tr>\n",
       "    <tr>\n",
       "      <th>48091</th>\n",
       "      <td>Not my favorite but good for you!</td>\n",
       "      <td>Not sure if I would buy this again- Didn't rea...</td>\n",
       "    </tr>\n",
       "    <tr>\n",
       "      <th>91844</th>\n",
       "      <td>A great all purpose rub.</td>\n",
       "      <td>Terrific authentic jerk flavor, and wont overp...</td>\n",
       "    </tr>\n",
       "    <tr>\n",
       "      <th>25337</th>\n",
       "      <td>Great stuff</td>\n",
       "      <td>I've gotten these from amazon before. I just a...</td>\n",
       "    </tr>\n",
       "    <tr>\n",
       "      <th>25261</th>\n",
       "      <td>Life Savers Continues a Great Product</td>\n",
       "      <td>The same great taste! I looked for Life Savers...</td>\n",
       "    </tr>\n",
       "    <tr>\n",
       "      <th>53157</th>\n",
       "      <td>Wow, kibble my dogs actually dance for!</td>\n",
       "      <td>Wheat-free, baby, and so much cheaper than my ...</td>\n",
       "    </tr>\n",
       "    <tr>\n",
       "      <th>61457</th>\n",
       "      <td>Gunpowder tea</td>\n",
       "      <td>A very good bargain, this tea has a slightly d...</td>\n",
       "    </tr>\n",
       "    <tr>\n",
       "      <th>65047</th>\n",
       "      <td>Taste better than it sounds!!!</td>\n",
       "      <td>I was expecting this tea to have somewhat of a...</td>\n",
       "    </tr>\n",
       "    <tr>\n",
       "      <th>48952</th>\n",
       "      <td>Not what I ordered...</td>\n",
       "      <td>When I ordered this I wanted whole chia seeds....</td>\n",
       "    </tr>\n",
       "    <tr>\n",
       "      <th>60214</th>\n",
       "      <td>My dog loves these!</td>\n",
       "      <td>My dog absolutely loves these.  I don't have t...</td>\n",
       "    </tr>\n",
       "    <tr>\n",
       "      <th>51909</th>\n",
       "      <td>Oh Man Almost Better Than...</td>\n",
       "      <td>..At 220 calories for a serving of three 'truf...</td>\n",
       "    </tr>\n",
       "  </tbody>\n",
       "</table>\n",
       "</div>"
      ],
      "text/plain": [
       "                                       Summary  \\\n",
       "5371                        Wonderful Product!   \n",
       "17565               Love this tea- great deal!   \n",
       "40499    Distinct Odor but I Really Like It ..   \n",
       "22445                           Lovely flavor!   \n",
       "48703                         not so impressed   \n",
       "48091        Not my favorite but good for you!   \n",
       "91844                 A great all purpose rub.   \n",
       "25337                              Great stuff   \n",
       "25261    Life Savers Continues a Great Product   \n",
       "53157  Wow, kibble my dogs actually dance for!   \n",
       "61457                            Gunpowder tea   \n",
       "65047           Taste better than it sounds!!!   \n",
       "48952                    Not what I ordered...   \n",
       "60214                      My dog loves these!   \n",
       "51909             Oh Man Almost Better Than...   \n",
       "\n",
       "                                                    Text  \n",
       "5371   This is a wonderful product, I was happy to se...  \n",
       "17565  I love this tea!!! Im an engineer and seemed t...  \n",
       "40499  This tea has a strong pungent smell that my hu...  \n",
       "22445  It's pretty much impossible to find dry whole ...  \n",
       "48703  with my purchase of the tea I was not impresse...  \n",
       "48091  Not sure if I would buy this again- Didn't rea...  \n",
       "91844  Terrific authentic jerk flavor, and wont overp...  \n",
       "25337  I've gotten these from amazon before. I just a...  \n",
       "25261  The same great taste! I looked for Life Savers...  \n",
       "53157  Wheat-free, baby, and so much cheaper than my ...  \n",
       "61457  A very good bargain, this tea has a slightly d...  \n",
       "65047  I was expecting this tea to have somewhat of a...  \n",
       "48952  When I ordered this I wanted whole chia seeds....  \n",
       "60214  My dog absolutely loves these.  I don't have t...  \n",
       "51909  ..At 220 calories for a serving of three 'truf...  "
      ]
     },
     "execution_count": 43,
     "metadata": {},
     "output_type": "execute_result"
    }
   ],
   "source": [
    "#랜덤한 15개 샘플 출력\n",
    "data.sample(15)"
   ]
  },
  {
   "cell_type": "markdown",
   "id": "a8fd4a4e",
   "metadata": {},
   "source": [
    "이제 데이터를 불러왔으니 전처리를 진행해 볼게요. 빈칸으로 존재하는 null 데이터, 의미는 같지만 다른 식으로 작성된 글 같은 중복 항목과 같은 학습할 때 방해가 되는 데이터를 먼저 솎아낼 거예요.\n",
    "\n",
    "## 중복 샘플과 NULL 값이 존재하는 샘플 제거"
   ]
  },
  {
   "cell_type": "code",
   "execution_count": 44,
   "id": "0b393d58",
   "metadata": {},
   "outputs": [
    {
     "name": "stdout",
     "output_type": "stream",
     "text": [
      "Text 열에서 중복을 배제한 유일한 샘플의 수 : 88426\n",
      "Summary 열에서 중복을 배제한 유일한 샘플의 수 : 72348\n"
     ]
    }
   ],
   "source": [
    "print('Text 열에서 중복을 배제한 유일한 샘플의 수 :', data['Text'].nunique())\n",
    "print('Summary 열에서 중복을 배제한 유일한 샘플의 수 :', data['Summary'].nunique())"
   ]
  },
  {
   "cell_type": "markdown",
   "id": "5c06b91a",
   "metadata": {},
   "source": [
    "중복을 제외한다면 Text에는 88,426개, Summary에는 72,348개의 유니크한 데이터가 존재해요. 사실 이 데이터의 Summary는 'Smelly'나 'Good Product'와 같이 아주 간단한 요약들도 많아서 Text가 달라도 Summary는 동일할 수 있어요. 하지만 Text 자체가 중복이 된 경우는 중복 샘플이므로 제거해야겠죠.\n",
    "\n",
    "데이터프레임의 drop_duplicates()를 사용하면, 손쉽게 중복 샘플을 제거할 수 있어요."
   ]
  },
  {
   "cell_type": "code",
   "execution_count": 45,
   "id": "577ef8ce",
   "metadata": {},
   "outputs": [
    {
     "name": "stdout",
     "output_type": "stream",
     "text": [
      "전체 샘플수 : 88426\n"
     ]
    }
   ],
   "source": [
    "# inplace=True 를 설정하면 DataFrame 타입 값을 return 하지 않고 data 내부를 직접적으로 바꿉니다\n",
    "data.drop_duplicates(subset = ['Text'], inplace=True)\n",
    "print('전체 샘플수 :', (len(data)))"
   ]
  },
  {
   "cell_type": "markdown",
   "id": "3cbacd02",
   "metadata": {},
   "source": [
    "중복이 제거되면서 샘플 수가 88,426개로 줄어들었어요. 그런데 만약 데이터 Null 값을 가지는 샘플이 있었다면, drop_duplicates()가 중복된 Null들을 지워주기는 하겠지만, 여전히 Null 값 한 개가 어딘가 남아있을 수 있어요. 데이터에 Null 값이 남아있는지 볼게요.\n",
    "\n",
    "데이터프레임에 Null 값이 있는지 확인하는 방법은 .isnull().sum()을 사용하면 알아볼 수 있어요."
   ]
  },
  {
   "cell_type": "code",
   "execution_count": 46,
   "id": "c68474e1",
   "metadata": {},
   "outputs": [
    {
     "name": "stdout",
     "output_type": "stream",
     "text": [
      "Summary    1\n",
      "Text       0\n",
      "dtype: int64\n"
     ]
    }
   ],
   "source": [
    "print(data.isnull().sum())"
   ]
  },
  {
   "cell_type": "markdown",
   "id": "2c1105bb",
   "metadata": {},
   "source": [
    "Summary에 1개의 Null 값이 있네요. 데이터프레임에서 Null을 제거할 때는 dropna() 함수를 사용하면 돼요."
   ]
  },
  {
   "cell_type": "code",
   "execution_count": 47,
   "id": "1cb253ea",
   "metadata": {},
   "outputs": [
    {
     "name": "stdout",
     "output_type": "stream",
     "text": [
      "전체 샘플수 : 88425\n"
     ]
    }
   ],
   "source": [
    "data.dropna(axis=0, inplace=True)\n",
    "print('전체 샘플수 :', (len(data)))"
   ]
  },
  {
   "cell_type": "markdown",
   "id": "6e7ba307",
   "metadata": {},
   "source": [
    "전체 샘플 수가 1개 줄어들어 88,425개의 샘플이 남았네요. 지금까지 중복 샘플과 Null 값이 있는 샘플들을 제거해보았는데 10만 개의 샘플 중 1만 개 이상의 샘플이 제거되었어요."
   ]
  },
  {
   "cell_type": "markdown",
   "id": "26bbb8ad",
   "metadata": {},
   "source": [
    "### 텍스트 정규화와 불용어 제거\n",
    "살아남은 88,425개의 샘플에는 수많은 단어들이 있어요. 그런데 사실 그 단어들 중에서는 같은 의미인데도 다른 표현으로 쓰여 마치 다른 단어들처럼 간주되는 경우가 있어요.\n",
    "\n",
    "예를 들어서 it'll은 it will과 같고, mustn't과 must not은 사실 같은 표현이죠. 이런 경우 기계가 굳이 이들을 마치 다른 단어로 간주하게 해서 연산량을 늘리는 것보다는 기계 학습 전에 미리 같은 표현으로 통일시켜주는 것이 기계의 연산량을 줄일 수 있는 방법이에요.\n",
    "\n",
    "이러한 방법론을 텍스트 처리에서는 텍스트 정규화(text normalization) 라고 해요.\n",
    "\n",
    "여기서는 텍스트 정규화를 위한 사전(dictionary)을 아래와 같이 구성할 거예요. 이 사전은 아래의 링크에서 참고하여 만들었어요.\n",
    "\n",
    "[정규화 사전 출처](https://stackoverflow.com/questions/19790188/expanding-english-language-contractions-in-python)"
   ]
  },
  {
   "cell_type": "code",
   "execution_count": 48,
   "id": "1d446855",
   "metadata": {},
   "outputs": [
    {
     "name": "stdout",
     "output_type": "stream",
     "text": [
      "정규화 사전의 수:  120\n"
     ]
    }
   ],
   "source": [
    "contractions = {\"ain't\": \"is not\", \"aren't\": \"are not\",\"can't\": \"cannot\", \"'cause\": \"because\", \"could've\": \"could have\", \"couldn't\": \"could not\",\n",
    "                           \"didn't\": \"did not\",  \"doesn't\": \"does not\", \"don't\": \"do not\", \"hadn't\": \"had not\", \"hasn't\": \"has not\", \"haven't\": \"have not\",\n",
    "                           \"he'd\": \"he would\",\"he'll\": \"he will\", \"he's\": \"he is\", \"how'd\": \"how did\", \"how'd'y\": \"how do you\", \"how'll\": \"how will\", \"how's\": \"how is\",\n",
    "                           \"I'd\": \"I would\", \"I'd've\": \"I would have\", \"I'll\": \"I will\", \"I'll've\": \"I will have\",\"I'm\": \"I am\", \"I've\": \"I have\", \"i'd\": \"i would\",\n",
    "                           \"i'd've\": \"i would have\", \"i'll\": \"i will\",  \"i'll've\": \"i will have\",\"i'm\": \"i am\", \"i've\": \"i have\", \"isn't\": \"is not\", \"it'd\": \"it would\",\n",
    "                           \"it'd've\": \"it would have\", \"it'll\": \"it will\", \"it'll've\": \"it will have\",\"it's\": \"it is\", \"let's\": \"let us\", \"ma'am\": \"madam\",\n",
    "                           \"mayn't\": \"may not\", \"might've\": \"might have\",\"mightn't\": \"might not\",\"mightn't've\": \"might not have\", \"must've\": \"must have\",\n",
    "                           \"mustn't\": \"must not\", \"mustn't've\": \"must not have\", \"needn't\": \"need not\", \"needn't've\": \"need not have\",\"o'clock\": \"of the clock\",\n",
    "                           \"oughtn't\": \"ought not\", \"oughtn't've\": \"ought not have\", \"shan't\": \"shall not\", \"sha'n't\": \"shall not\", \"shan't've\": \"shall not have\",\n",
    "                           \"she'd\": \"she would\", \"she'd've\": \"she would have\", \"she'll\": \"she will\", \"she'll've\": \"she will have\", \"she's\": \"she is\",\n",
    "                           \"should've\": \"should have\", \"shouldn't\": \"should not\", \"shouldn't've\": \"should not have\", \"so've\": \"so have\",\"so's\": \"so as\",\n",
    "                           \"this's\": \"this is\",\"that'd\": \"that would\", \"that'd've\": \"that would have\", \"that's\": \"that is\", \"there'd\": \"there would\",\n",
    "                           \"there'd've\": \"there would have\", \"there's\": \"there is\", \"here's\": \"here is\",\"they'd\": \"they would\", \"they'd've\": \"they would have\",\n",
    "                           \"they'll\": \"they will\", \"they'll've\": \"they will have\", \"they're\": \"they are\", \"they've\": \"they have\", \"to've\": \"to have\",\n",
    "                           \"wasn't\": \"was not\", \"we'd\": \"we would\", \"we'd've\": \"we would have\", \"we'll\": \"we will\", \"we'll've\": \"we will have\", \"we're\": \"we are\",\n",
    "                           \"we've\": \"we have\", \"weren't\": \"were not\", \"what'll\": \"what will\", \"what'll've\": \"what will have\", \"what're\": \"what are\",\n",
    "                           \"what's\": \"what is\", \"what've\": \"what have\", \"when's\": \"when is\", \"when've\": \"when have\", \"where'd\": \"where did\", \"where's\": \"where is\",\n",
    "                           \"where've\": \"where have\", \"who'll\": \"who will\", \"who'll've\": \"who will have\", \"who's\": \"who is\", \"who've\": \"who have\",\n",
    "                           \"why's\": \"why is\", \"why've\": \"why have\", \"will've\": \"will have\", \"won't\": \"will not\", \"won't've\": \"will not have\",\n",
    "                           \"would've\": \"would have\", \"wouldn't\": \"would not\", \"wouldn't've\": \"would not have\", \"y'all\": \"you all\",\n",
    "                           \"y'all'd\": \"you all would\",\"y'all'd've\": \"you all would have\",\"y'all're\": \"you all are\",\"y'all've\": \"you all have\",\n",
    "                           \"you'd\": \"you would\", \"you'd've\": \"you would have\", \"you'll\": \"you will\", \"you'll've\": \"you will have\",\n",
    "                           \"you're\": \"you are\", \"you've\": \"you have\"}\n",
    "\n",
    "print(\"정규화 사전의 수: \", len(contractions))"
   ]
  },
  {
   "cell_type": "markdown",
   "id": "831ae080",
   "metadata": {},
   "source": [
    "이제 정규화 준비까지 마쳤어요.\n",
    "\n",
    "하지만 아직 끝난 게 아니에요. 일반적으로 텍스트에는 자주 등장하지만 자연어 처리를 할 때 실질적으로 별 도움이 되지 않는 단어들이 존재해요. 이를 불용어(stopwords)라고 불러요. 때로는 불용어를 제거하는 것이 자연어 처리의 성능을 높이는 방법일 수 있어요. 여기서는 NLTK에서 제공하는 불용어 리스트를 참조해, 샘플에서 불용어를 제거할 거예요."
   ]
  },
  {
   "cell_type": "code",
   "execution_count": 49,
   "id": "29c08d1c",
   "metadata": {},
   "outputs": [
    {
     "name": "stdout",
     "output_type": "stream",
     "text": [
      "불용어 개수 : 179\n",
      "['i', 'me', 'my', 'myself', 'we', 'our', 'ours', 'ourselves', 'you', \"you're\", \"you've\", \"you'll\", \"you'd\", 'your', 'yours', 'yourself', 'yourselves', 'he', 'him', 'his', 'himself', 'she', \"she's\", 'her', 'hers', 'herself', 'it', \"it's\", 'its', 'itself', 'they', 'them', 'their', 'theirs', 'themselves', 'what', 'which', 'who', 'whom', 'this', 'that', \"that'll\", 'these', 'those', 'am', 'is', 'are', 'was', 'were', 'be', 'been', 'being', 'have', 'has', 'had', 'having', 'do', 'does', 'did', 'doing', 'a', 'an', 'the', 'and', 'but', 'if', 'or', 'because', 'as', 'until', 'while', 'of', 'at', 'by', 'for', 'with', 'about', 'against', 'between', 'into', 'through', 'during', 'before', 'after', 'above', 'below', 'to', 'from', 'up', 'down', 'in', 'out', 'on', 'off', 'over', 'under', 'again', 'further', 'then', 'once', 'here', 'there', 'when', 'where', 'why', 'how', 'all', 'any', 'both', 'each', 'few', 'more', 'most', 'other', 'some', 'such', 'no', 'nor', 'not', 'only', 'own', 'same', 'so', 'than', 'too', 'very', 's', 't', 'can', 'will', 'just', 'don', \"don't\", 'should', \"should've\", 'now', 'd', 'll', 'm', 'o', 're', 've', 'y', 'ain', 'aren', \"aren't\", 'couldn', \"couldn't\", 'didn', \"didn't\", 'doesn', \"doesn't\", 'hadn', \"hadn't\", 'hasn', \"hasn't\", 'haven', \"haven't\", 'isn', \"isn't\", 'ma', 'mightn', \"mightn't\", 'mustn', \"mustn't\", 'needn', \"needn't\", 'shan', \"shan't\", 'shouldn', \"shouldn't\", 'wasn', \"wasn't\", 'weren', \"weren't\", 'won', \"won't\", 'wouldn', \"wouldn't\"]\n"
     ]
    }
   ],
   "source": [
    "print('불용어 개수 :', len(stopwords.words('english') ))\n",
    "print(stopwords.words('english'))"
   ]
  },
  {
   "cell_type": "markdown",
   "id": "aac4b1b9",
   "metadata": {},
   "source": [
    "NLTK에서 미리 정의하여 제공하고 있는 불용어는 총 179개라는 것을 볼 수 있죠. 이를 사용하여 불용어를 제거할 거예요. 이 작업 외에도 모든 영어 문자는 소문자로 만들고, 섞여있는 html 태그를 제거하고, 정규 표현식을 통해 각종 특수문자를 제거해서 정말 필요한 내용만 잘 학습할 수 있도록 처리할 거예요.\n",
    "\n",
    "함수의 하단을 보면, NLTK를 이용해 불용어를 제거하는 파트가 있는데, 이는 Text 전처리 시에서만 호출하고 이미 상대적으로 문장 길이가 짧은 Summary 전처리할 때는 호출하지 않을 예정이에요. Abstractive한 문장 요약 결과문이 자연스러운 문장이 되려면 이 불용어들이 Summary에는 남아 있는 게 더 좋을 것 같습니다. 이 처리를 위해서 함수의 인자로 remove_stopwords를 추가하고, if문을 추가했어요.\n",
    "\n",
    "\n",
    "\n",
    "\n"
   ]
  },
  {
   "cell_type": "code",
   "execution_count": 50,
   "id": "53461b5a",
   "metadata": {},
   "outputs": [],
   "source": [
    "# 데이터 전처리 함수\n",
    "def preprocess_sentence(sentence, remove_stopwords=True):\n",
    "    sentence = sentence.lower() # 텍스트 소문자화\n",
    "    sentence = BeautifulSoup(sentence, \"lxml\").text # <br />, <a href = ...> 등의 html 태그 제거\n",
    "    sentence = re.sub(r'\\([^)]*\\)', '', sentence) # 괄호로 닫힌 문자열 (...) 제거 Ex) my husband (and myself!) for => my husband for\n",
    "    sentence = re.sub('\"','', sentence) # 쌍따옴표 \" 제거\n",
    "    sentence = ' '.join([contractions[t] if t in contractions else t for t in sentence.split(\" \")]) # 약어 정규화\n",
    "    sentence = re.sub(r\"'s\\b\",\"\", sentence) # 소유격 제거. Ex) roland's -> roland\n",
    "    sentence = re.sub(\"[^a-zA-Z]\", \" \", sentence) # 영어 외 문자(숫자, 특수문자 등) 공백으로 변환\n",
    "    sentence = re.sub('[m]{2,}', 'mm', sentence) # m이 3개 이상이면 2개로 변경. Ex) ummmmmmm yeah -> umm yeah\n",
    "    \n",
    "    # 불용어 제거 (Text)\n",
    "    if remove_stopwords:\n",
    "        tokens = ' '.join(word for word in sentence.split() if not word in stopwords.words('english') if len(word) > 1)\n",
    "    # 불용어 미제거 (Summary)\n",
    "    else:\n",
    "        tokens = ' '.join(word for word in sentence.split() if len(word) > 1)\n",
    "    return tokens"
   ]
  },
  {
   "cell_type": "code",
   "execution_count": 51,
   "id": "1a4e73c9",
   "metadata": {},
   "outputs": [
    {
     "name": "stdout",
     "output_type": "stream",
     "text": [
      "text:  everything bought great infact ordered twice third ordered wasfor mother father\n",
      "summary: great way to start the day\n"
     ]
    }
   ],
   "source": [
    "temp_text = 'Everything I bought was great, infact I ordered twice and the third ordered was<br />for my mother and father.'\n",
    "temp_summary = 'Great way to start (or finish) the day!!!'\n",
    "\n",
    "print(\"text: \", preprocess_sentence(temp_text))\n",
    "print(\"summary:\", preprocess_sentence(temp_summary, False))  # 불용어를 제거하지 않습니다."
   ]
  },
  {
   "cell_type": "markdown",
   "id": "d65389b8",
   "metadata": {},
   "source": [
    "결과를 보면 기본적으로 모든 알파벳이 소문자로 변환되고, <br />과 같은 html 태그가 제거되었죠. (or finish)와 같은 괄호로 묶였던 단어 시퀀스가 제거된 것도 확인할 수 있어요. 또한 특수문자가 제거되면서 영어만 남았어요.\n",
    "\n",
    "이제 함수가 잘 작동하는 것을 확인했으니, 훈련 데이터 전체에 대해서 전처리를 수행해볼게요. 이때, Text의 경우에는 불용어를 제거하고, Summary의 경우에는 불용어를 제거하지 않을 것이므로 따로 호출해서 진행해야 해요. 먼저 Text를 전처리하고, 결과를 확인하기 위해서 상위 5개의 줄을 출력해볼게요.\n",
    "\n",
    "Q. 위의 내용을 참고해서 훈련 데이터 전체의 Text 컬럼의 데이터를 전처리하는 코드를 작성하세요.(반복문 사용)"
   ]
  },
  {
   "cell_type": "code",
   "execution_count": 52,
   "id": "86bf4805",
   "metadata": {},
   "outputs": [],
   "source": [
    "# # 전체 Text 데이터에 대한 전처리 : 10분 이상 시간이 걸릴 수 있습니다. \n",
    "# clean_text = []\n",
    "\n",
    "# for _sentence in data['Text'] : \n",
    "#     clean_text.append(preprocess_sentence(_sentence))\n",
    "\n",
    "\n",
    "# # 전처리 후 출력\n",
    "# print(\"Text 전처리 후 결과: \", clean_text[:5])"
   ]
  },
  {
   "cell_type": "code",
   "execution_count": null,
   "id": "f21489a3",
   "metadata": {},
   "outputs": [],
   "source": [
    "# 성연님의 코드리뷰 후 참고해서 한번 적용을 해봤는데, 앞서 내가 적용했던 것과 시간면에서 차이가 없었음.\n",
    "# from tqdm import tqdm, trange\n",
    "# tqdm.pandas()\n",
    "\n",
    "# clean_text = data['Text'].progress_apply(lambda x: preprocess_sentence(x)).tolist()\n",
    "\n",
    "# # 전처리 후 출력\n",
    "# print(\"Text 전처리 후 결과: \", clean_text[:5])\n"
   ]
  },
  {
   "cell_type": "markdown",
   "id": "c417fcb5",
   "metadata": {},
   "source": [
    "53%|█████▎    | 46628/88425 [05:59<05:22, 129.61it/s] # 11분은 걸릴 것 같고, 나도 이정도 걸림"
   ]
  },
  {
   "cell_type": "markdown",
   "id": "c31777ac",
   "metadata": {},
   "source": [
    "부정을 나타내는 not과 관련한 것들이 불용어에 많이 있음. 영향이 없을까..?"
   ]
  },
  {
   "cell_type": "markdown",
   "id": "ad93b115",
   "metadata": {},
   "source": [
    "이제 Summary에 대해서 전처리 함수를 호출해 줄 때는, 불용어 제거를 수행하지 않는다는 의미에서 두 번째 인자로 False를 넣어줄게요.\n",
    "\n",
    "Q. 위의 내용을 참고해서 훈련 데이터 전체의 Summary 컬럼의 데이터를 전처리하는 코드를 작성하세요.(반복문 사용)"
   ]
  },
  {
   "cell_type": "code",
   "execution_count": null,
   "id": "194a2c3e",
   "metadata": {},
   "outputs": [],
   "source": [
    "# # 전체 Summary 데이터에 대한 전처리 : 5분 이상 시간이 걸릴 수 있습니다. \n",
    "# clean_summary = []\n",
    "\n",
    "# for _sentence in data['Summary'] : \n",
    "#     clean_text.append(preprocess_sentence(_sentence, False))\n",
    "\n",
    "\n",
    "# print(\"Summary 전처리 후 결과: \", clean_summary[:5])"
   ]
  },
  {
   "cell_type": "markdown",
   "id": "0b026615",
   "metadata": {},
   "source": [
    "이렇게 텍스트 정제의 과정을 거친 후에는 다시 한번 빈(empty) 샘플이 생겼는지 확인해보는 것이 좋아요. 정제 전에는 데이터가 존재했지만, 정제 과정에서 문장의 모든 단어가 사라지는 경우가 있을 수 있어요. 이렇게 되면 샘플 자체가 빈 값을 가지게 되겠죠.\n",
    "\n",
    "보다 쉽게 확인하기 위해 데이터들을 데이터프레임에 재저장할게요. 빈(empty) 값을 가진 샘플들이 있다면, 모두 Null 값을 가진 샘플로 대체해요."
   ]
  },
  {
   "cell_type": "code",
   "execution_count": 14,
   "id": "2ba505f7",
   "metadata": {},
   "outputs": [
    {
     "name": "stdout",
     "output_type": "stream",
     "text": [
      "CPU times: user 9min 37s, sys: 1min 45s, total: 11min 22s\n",
      "Wall time: 11min 23s\n"
     ]
    }
   ],
   "source": [
    "%%time\n",
    "data['Text'] = data['Text'].map(preprocess_sentence)"
   ]
  },
  {
   "cell_type": "code",
   "execution_count": 15,
   "id": "cb596f38",
   "metadata": {},
   "outputs": [
    {
     "data": {
      "text/plain": [
       "0    bought several vitality canned dog food produc...\n",
       "1    product arrived labeled jumbo salted peanuts p...\n",
       "2    confection around centuries light pillowy citr...\n",
       "3    looking secret ingredient robitussin believe f...\n",
       "4    great taffy great price wide assortment yummy ...\n",
       "Name: Text, dtype: object"
      ]
     },
     "execution_count": 15,
     "metadata": {},
     "output_type": "execute_result"
    }
   ],
   "source": [
    "data['Text'].head()"
   ]
  },
  {
   "cell_type": "code",
   "execution_count": 16,
   "id": "3ecf1b87",
   "metadata": {
    "scrolled": true
   },
   "outputs": [
    {
     "name": "stdout",
     "output_type": "stream",
     "text": [
      "CPU times: user 13.7 s, sys: 385 ms, total: 14.1 s\n",
      "Wall time: 14.1 s\n"
     ]
    }
   ],
   "source": [
    "%%time\n",
    "data['Summary'] = data['Summary'].map(lambda x: preprocess_sentence(x, False))"
   ]
  },
  {
   "cell_type": "code",
   "execution_count": 17,
   "id": "eab3e492",
   "metadata": {},
   "outputs": [
    {
     "data": {
      "text/plain": [
       "0    good quality dog food\n",
       "1        not as advertised\n",
       "2      delight says it all\n",
       "3           cough medicine\n",
       "4              great taffy\n",
       "Name: Summary, dtype: object"
      ]
     },
     "execution_count": 17,
     "metadata": {},
     "output_type": "execute_result"
    }
   ],
   "source": [
    "data['Summary'].head()"
   ]
  },
  {
   "cell_type": "code",
   "execution_count": 56,
   "id": "7e33b037",
   "metadata": {},
   "outputs": [],
   "source": [
    "# data['Text'] = clean_text\n",
    "# data['Summary'] = clean_summary"
   ]
  },
  {
   "cell_type": "code",
   "execution_count": 19,
   "id": "da358b75",
   "metadata": {},
   "outputs": [],
   "source": [
    "# 빈 값을 Null 값으로 변환\n",
    "data.replace('', np.nan, inplace=True)"
   ]
  },
  {
   "cell_type": "markdown",
   "id": "d8812419",
   "metadata": {},
   "source": [
    "이전과 같이 .isnull().sum()을 사용해서 Null 값이 생겼는지 해볼게요."
   ]
  },
  {
   "cell_type": "code",
   "execution_count": 20,
   "id": "37f450a2",
   "metadata": {},
   "outputs": [
    {
     "data": {
      "text/plain": [
       "Summary    70\n",
       "Text        0\n",
       "dtype: int64"
      ]
     },
     "execution_count": 20,
     "metadata": {},
     "output_type": "execute_result"
    }
   ],
   "source": [
    "data.isnull().sum()"
   ]
  },
  {
   "cell_type": "markdown",
   "id": "1ebb4853",
   "metadata": {},
   "source": [
    "Summary 열에서 70개의 Null 값이 생겼네요. 원래는 단어가 있었는데, 정제 과정에서 모든 단어가 제거되어 빈 샘플이 70개나 생겼다는 의미예요. 이 샘플들은 모두 제거해줄게요."
   ]
  },
  {
   "cell_type": "code",
   "execution_count": 21,
   "id": "25f3e2cb",
   "metadata": {},
   "outputs": [
    {
     "name": "stdout",
     "output_type": "stream",
     "text": [
      "전체 샘플수 : 88355\n"
     ]
    }
   ],
   "source": [
    "data.dropna(axis=0, inplace=True)\n",
    "print('전체 샘플수 :', (len(data)))"
   ]
  },
  {
   "cell_type": "markdown",
   "id": "061c0e1f",
   "metadata": {},
   "source": [
    "학습을 진행하기 위해서는 학습에 사용할 데이터의 크기를 결정하고, 문장의 시작과 끝을 표시해 줘야 해요.\n",
    "\n",
    "### 샘플의 최대 길이 정하기\n",
    "\n",
    "필요 없는 단어를 모두 솎아낸 데이터를 가지게 되었으니, 이제 훈련에 사용할 샘플의 최대 길이를 정해줄 차례에요.\n",
    "\n",
    "Text와 Summary의 최소, 최대, 평균 길이를 구하고 또한 길이 분포를 시각화해서 볼게요."
   ]
  },
  {
   "cell_type": "code",
   "execution_count": 22,
   "id": "6877acbf",
   "metadata": {},
   "outputs": [
    {
     "name": "stdout",
     "output_type": "stream",
     "text": [
      "텍스트의 최소 길이 : 2\n",
      "텍스트의 최대 길이 : 1235\n",
      "텍스트의 평균 길이 : 38.792428272310566\n",
      "요약의 최소 길이 : 1\n",
      "요약의 최대 길이 : 28\n",
      "요약의 평균 길이 : 4.010729443721352\n"
     ]
    },
    {
     "data": {
      "image/png": "[encoded data removed]",
      "text/plain": [
       "<Figure size 432x288 with 2 Axes>"
      ]
     },
     "metadata": {
      "needs_background": "light"
     },
     "output_type": "display_data"
    },
    {
     "data": {
      "image/png": "[encoded data removed]",
      "text/plain": [
       "<Figure size 432x288 with 1 Axes>"
      ]
     },
     "metadata": {
      "needs_background": "light"
     },
     "output_type": "display_data"
    },
    {
     "data": {
      "image/png": "[encoded data removed]",
      "text/plain": [
       "<Figure size 432x288 with 1 Axes>"
      ]
     },
     "metadata": {
      "needs_background": "light"
     },
     "output_type": "display_data"
    }
   ],
   "source": [
    "# 길이 분포 출력\n",
    "import matplotlib.pyplot as plt\n",
    "\n",
    "text_len = [len(s.split()) for s in data['Text']]\n",
    "summary_len = [len(s.split()) for s in data['Summary']]\n",
    "\n",
    "print('텍스트의 최소 길이 : {}'.format(np.min(text_len)))\n",
    "print('텍스트의 최대 길이 : {}'.format(np.max(text_len)))\n",
    "print('텍스트의 평균 길이 : {}'.format(np.mean(text_len)))\n",
    "print('요약의 최소 길이 : {}'.format(np.min(summary_len)))\n",
    "print('요약의 최대 길이 : {}'.format(np.max(summary_len)))\n",
    "print('요약의 평균 길이 : {}'.format(np.mean(summary_len)))\n",
    "\n",
    "plt.subplot(1,2,1)\n",
    "plt.boxplot(text_len)\n",
    "plt.title('Text')\n",
    "plt.subplot(1,2,2)\n",
    "plt.boxplot(summary_len)\n",
    "plt.title('Summary')\n",
    "plt.tight_layout()\n",
    "plt.show()\n",
    "\n",
    "plt.title('Text')\n",
    "plt.hist(text_len, bins = 40)\n",
    "plt.xlabel('length of samples')\n",
    "plt.ylabel('number of samples')\n",
    "plt.show()\n",
    "\n",
    "plt.title('Summary')\n",
    "plt.hist(summary_len, bins = 40)\n",
    "plt.xlabel('length of samples')\n",
    "plt.ylabel('number of samples')\n",
    "plt.show()"
   ]
  },
  {
   "cell_type": "markdown",
   "id": "1649b07e",
   "metadata": {},
   "source": [
    "위의 그래프처럼, 많은 양의 데이터를 다룰 때는 데이터를 시각화하여 보는 것이 도움이 돼요. 위에서부터 차례대로 그래프는 각각 실제 텍스트와 요약의 길이 분포, 실제 텍스트 샘플 길이별 개수, 요약본 샘플 길이별 개수를 나타내고 있어요.\n",
    "\n",
    "Text의 경우 최소 길이가 2, 최대 길이가 1,235로 그 차이가 굉장히 크죠. 하지만 평균 길이는 38로 시각화된 그래프로 봤을 때는 대체적으로는 100 내외의 길이를 가진다는 것을 확인할 수 있어요.\n",
    "\n",
    "Summary의 경우 최소 길이가 1, 최대 길이가 28, 그리고 평균 길이가 4로 Text에 비해 상대적으로 길이가 매우 짧아요. 그래프로 봤을 때에도 대체적으로 10이하의 길이를 가지고 있네요.\n",
    "\n",
    "이로부터 Text의 최대 길이와 Summary의 적절한 최대 길이를 임의로 정해볼게요."
   ]
  },
  {
   "cell_type": "code",
   "execution_count": 19,
   "id": "8f02743f",
   "metadata": {},
   "outputs": [],
   "source": [
    "text_max_len = 50\n",
    "summary_max_len = 8"
   ]
  },
  {
   "cell_type": "markdown",
   "id": "c9bc455e",
   "metadata": {},
   "source": [
    "> 각각 50과 8로 정했는데 이 길이를 선택했을 때, 얼마나 많은 샘플들을 자르지 않고 포함할 수 있는지 통계로 확인하는 편이 객관적으로 길이를 결정하는 데 도움이 될거예요. 훈련 데이터와 샘플의 길이를 입력하면, 데이터의 몇 %가 해당하는지 계산하는 함수를 만들어서 좀 더 정확하게 판단해볼게요."
   ]
  },
  {
   "cell_type": "code",
   "execution_count": 24,
   "id": "6a7346da",
   "metadata": {},
   "outputs": [],
   "source": [
    "def below_threshold_len(max_len, nested_list):\n",
    "  cnt = 0\n",
    "  for s in nested_list:\n",
    "    if(len(s.split()) <= max_len):\n",
    "        cnt = cnt + 1\n",
    "  print('전체 샘플 중 길이가 %s 이하인 샘플의 비율: %s'%(max_len, (cnt / len(nested_list))))"
   ]
  },
  {
   "cell_type": "markdown",
   "id": "0ab2e287",
   "metadata": {},
   "source": [
    "이렇게 만든 함수를 Text와 Summary에 적용해 우리가 결정한 임의의 길이가 몇%의 샘플까지 포함하는지 볼 수 있겠죠."
   ]
  },
  {
   "cell_type": "code",
   "execution_count": 25,
   "id": "fa234679",
   "metadata": {},
   "outputs": [
    {
     "name": "stdout",
     "output_type": "stream",
     "text": [
      "전체 샘플 중 길이가 50 이하인 샘플의 비율: 0.7745119121724859\n",
      "전체 샘플 중 길이가 8 이하인 샘플의 비율: 0.9424593967517402\n"
     ]
    }
   ],
   "source": [
    "below_threshold_len(text_max_len, data['Text'])\n",
    "below_threshold_len(summary_max_len,  data['Summary'])"
   ]
  },
  {
   "cell_type": "markdown",
   "id": "8788b451",
   "metadata": {},
   "source": [
    "각각 50과 8로 패딩을 하게 되면 해당 길이보다 긴 샘플들은 내용이 잘리게 되는데, Text 열의 경우에는 약 23%의 샘플들이 내용이 망가지게 된다고 하네요.\n",
    "\n",
    "우리는 정해진 길이에 맞춰 자르는 것이 아니라, 정해진 길이보다 길면 제외하는 방법으로 데이터를 정제할게요."
   ]
  },
  {
   "cell_type": "markdown",
   "id": "a6e33808",
   "metadata": {},
   "source": [
    "#### Q. Text와 Summary를 담고 있는 data 데이터프레임을 위에서 임의로 정의한 text_max_len과 summary_max_len의 길이보다 큰 샘플을 제외하는 코드를 작성하세요.\n",
    "(힌트 : apply 함수와 lamda식을 사용)"
   ]
  },
  {
   "cell_type": "markdown",
   "id": "81e991f0",
   "metadata": {},
   "source": [
    " <span style=\"color:blue\">***이거 작성하다가 data변수 overwriting해서 원본 날라감\n",
    "전처리 다시 12분 걸려서 진행*** </span>\n",
    " "
   ]
  },
  {
   "cell_type": "code",
   "execution_count": 26,
   "id": "be15e73b",
   "metadata": {},
   "outputs": [],
   "source": [
    "import copy\n",
    "\n",
    "data_cp = data.copy()"
   ]
  },
  {
   "cell_type": "code",
   "execution_count": 27,
   "id": "491012fe",
   "metadata": {},
   "outputs": [
    {
     "data": {
      "text/plain": [
       "135484618981328"
      ]
     },
     "execution_count": 27,
     "metadata": {},
     "output_type": "execute_result"
    }
   ],
   "source": [
    "id(data)"
   ]
  },
  {
   "cell_type": "code",
   "execution_count": 28,
   "id": "6b88ae99",
   "metadata": {},
   "outputs": [
    {
     "data": {
      "text/plain": [
       "135481842208288"
      ]
     },
     "execution_count": 28,
     "metadata": {},
     "output_type": "execute_result"
    }
   ],
   "source": [
    "id(data_cp)"
   ]
  },
  {
   "cell_type": "code",
   "execution_count": 29,
   "id": "136a9ff8",
   "metadata": {},
   "outputs": [],
   "source": [
    "# Summary를 담고 있는 Text와 data 데이터프레임을 \n",
    "# 위에서 임의로 정의한 text_max_len과 summary_max_len의 길이보다 \n",
    "# 큰 샘플을 제외하는 코드"
   ]
  },
  {
   "cell_type": "code",
   "execution_count": 30,
   "id": "ade5ea0f",
   "metadata": {},
   "outputs": [
    {
     "name": "stdout",
     "output_type": "stream",
     "text": [
      "전체 샘플수 : 65818\n"
     ]
    }
   ],
   "source": [
    "data = data[data['Text'].apply(lambda x: len(x.split()) <= text_max_len)] \n",
    "# 68432\n",
    "data = data[data['Summary'].apply(lambda x: len(x.split()) <= summary_max_len)] \n",
    "# 65818\n",
    "print('전체 샘플수 :', (len(data)))"
   ]
  },
  {
   "cell_type": "markdown",
   "id": "64628514",
   "metadata": {},
   "source": [
    "### 시작 토큰과 종료 토큰 추가하기\n",
    "앞서 시작 토큰과 종료 토큰에 대해서 언급했던 것을 기억하시나요? 디코더는 시작 토큰을 입력받아 문장을 생성하기 시작하고, 종료 토큰을 예측한 순간에 문장 생성을 멈추는 거였죠."
   ]
  },
  {
   "attachments": {
    "image.png": {
     "image/png": "[encoded data removed]"
    }
   },
   "cell_type": "markdown",
   "id": "8df371d1",
   "metadata": {},
   "source": [
    "시작 토큰과 종료 토큰 추가하기\n",
    "앞서 시작 토큰과 종료 토큰에 대해서 언급했던 것을 기억하시나요? 디코더는 시작 토큰을 입력받아 문장을 생성하기 시작하고, 종료 토큰을 예측한 순간에 문장 생성을 멈추는 거였죠.\n",
    "\n",
    "![image.png](attachment:image.png)content img\n",
    "[시작 토큰 SOS와 종료 토큰 EOS는 각각 start of a sequence와 end of a sequence를 나타낸다]\n",
    "https://arxiv.org/pdf/1812.02303.pdf\n",
    "\n",
    "seq2seq 훈련을 위해서는 디코더의 입력과 레이블에 시작 토큰과 종료 토큰을 추가할 필요가 있어요. 이번 실습에서는 시작 토큰은 sostoken, 종료 토큰은 eostoken이라 임의로 명명하고 앞, 뒤로 추가할 거예요. 디코더의 입력에 해당하면서 시작 토큰이 맨 앞에 있는 문장의 이름을 decoder_input, 디코더의 출력 또는 레이블에 해당되면서 종료 토큰이 맨 뒤에 붙는 문장의 이름을 decoder_target이라고 이름을 정했어요. 두 개의 문장 모두 Summary 열로부터 만들 거예요.\n",
    "\n",
    "\n",
    "\n",
    "\n"
   ]
  },
  {
   "cell_type": "code",
   "execution_count": 31,
   "id": "257a3114",
   "metadata": {},
   "outputs": [
    {
     "data": {
      "text/html": [
       "<div>\n",
       "<style scoped>\n",
       "    .dataframe tbody tr th:only-of-type {\n",
       "        vertical-align: middle;\n",
       "    }\n",
       "\n",
       "    .dataframe tbody tr th {\n",
       "        vertical-align: top;\n",
       "    }\n",
       "\n",
       "    .dataframe thead th {\n",
       "        text-align: right;\n",
       "    }\n",
       "</style>\n",
       "<table border=\"1\" class=\"dataframe\">\n",
       "  <thead>\n",
       "    <tr style=\"text-align: right;\">\n",
       "      <th></th>\n",
       "      <th>Summary</th>\n",
       "      <th>Text</th>\n",
       "      <th>decoder_input</th>\n",
       "      <th>decoder_target</th>\n",
       "    </tr>\n",
       "  </thead>\n",
       "  <tbody>\n",
       "    <tr>\n",
       "      <th>0</th>\n",
       "      <td>good quality dog food</td>\n",
       "      <td>bought several vitality canned dog food produc...</td>\n",
       "      <td>sostoken good quality dog food</td>\n",
       "      <td>good quality dog food eostoken</td>\n",
       "    </tr>\n",
       "    <tr>\n",
       "      <th>1</th>\n",
       "      <td>not as advertised</td>\n",
       "      <td>product arrived labeled jumbo salted peanuts p...</td>\n",
       "      <td>sostoken not as advertised</td>\n",
       "      <td>not as advertised eostoken</td>\n",
       "    </tr>\n",
       "    <tr>\n",
       "      <th>2</th>\n",
       "      <td>delight says it all</td>\n",
       "      <td>confection around centuries light pillowy citr...</td>\n",
       "      <td>sostoken delight says it all</td>\n",
       "      <td>delight says it all eostoken</td>\n",
       "    </tr>\n",
       "    <tr>\n",
       "      <th>3</th>\n",
       "      <td>cough medicine</td>\n",
       "      <td>looking secret ingredient robitussin believe f...</td>\n",
       "      <td>sostoken cough medicine</td>\n",
       "      <td>cough medicine eostoken</td>\n",
       "    </tr>\n",
       "    <tr>\n",
       "      <th>4</th>\n",
       "      <td>great taffy</td>\n",
       "      <td>great taffy great price wide assortment yummy ...</td>\n",
       "      <td>sostoken great taffy</td>\n",
       "      <td>great taffy eostoken</td>\n",
       "    </tr>\n",
       "  </tbody>\n",
       "</table>\n",
       "</div>"
      ],
      "text/plain": [
       "                 Summary                                               Text  \\\n",
       "0  good quality dog food  bought several vitality canned dog food produc...   \n",
       "1      not as advertised  product arrived labeled jumbo salted peanuts p...   \n",
       "2    delight says it all  confection around centuries light pillowy citr...   \n",
       "3         cough medicine  looking secret ingredient robitussin believe f...   \n",
       "4            great taffy  great taffy great price wide assortment yummy ...   \n",
       "\n",
       "                    decoder_input                  decoder_target  \n",
       "0  sostoken good quality dog food  good quality dog food eostoken  \n",
       "1      sostoken not as advertised      not as advertised eostoken  \n",
       "2    sostoken delight says it all    delight says it all eostoken  \n",
       "3         sostoken cough medicine         cough medicine eostoken  \n",
       "4            sostoken great taffy            great taffy eostoken  "
      ]
     },
     "execution_count": 31,
     "metadata": {},
     "output_type": "execute_result"
    }
   ],
   "source": [
    "# 요약 데이터에는 시작 토큰과 종료 토큰을 추가한다.\n",
    "data['decoder_input'] = data['Summary'].apply(lambda x : 'sostoken '+ x)\n",
    "data['decoder_target'] = data['Summary'].apply(lambda x : x + ' eostoken')\n",
    "data.head()"
   ]
  },
  {
   "cell_type": "markdown",
   "id": "ae976fce",
   "metadata": {},
   "source": [
    "앞뒤로 토큰이 잘 붙었죠? 인코더의 입력, 디코더의 입력과 레이블을 각각 다시 Numpy 타입으로 저장해 줄게요."
   ]
  },
  {
   "cell_type": "markdown",
   "id": "23b76587",
   "metadata": {},
   "source": [
    "---"
   ]
  },
  {
   "cell_type": "code",
   "execution_count": 36,
   "id": "8212fe70",
   "metadata": {},
   "outputs": [],
   "source": [
    "# 전처리 완료 된 데이터를 저장\n",
    "# data.to_pickle('./data_preprocessed.pkl')"
   ]
  },
  {
   "cell_type": "code",
   "execution_count": 73,
   "id": "53d49397",
   "metadata": {},
   "outputs": [
    {
     "data": {
      "text/html": [
       "<div>\n",
       "<style scoped>\n",
       "    .dataframe tbody tr th:only-of-type {\n",
       "        vertical-align: middle;\n",
       "    }\n",
       "\n",
       "    .dataframe tbody tr th {\n",
       "        vertical-align: top;\n",
       "    }\n",
       "\n",
       "    .dataframe thead th {\n",
       "        text-align: right;\n",
       "    }\n",
       "</style>\n",
       "<table border=\"1\" class=\"dataframe\">\n",
       "  <thead>\n",
       "    <tr style=\"text-align: right;\">\n",
       "      <th></th>\n",
       "      <th>Summary</th>\n",
       "      <th>Text</th>\n",
       "      <th>decoder_input</th>\n",
       "      <th>decoder_target</th>\n",
       "    </tr>\n",
       "  </thead>\n",
       "  <tbody>\n",
       "    <tr>\n",
       "      <th>0</th>\n",
       "      <td>good quality dog food</td>\n",
       "      <td>bought several vitality canned dog food produc...</td>\n",
       "      <td>sostoken good quality dog food</td>\n",
       "      <td>good quality dog food eostoken</td>\n",
       "    </tr>\n",
       "    <tr>\n",
       "      <th>1</th>\n",
       "      <td>not as advertised</td>\n",
       "      <td>product arrived labeled jumbo salted peanuts p...</td>\n",
       "      <td>sostoken not as advertised</td>\n",
       "      <td>not as advertised eostoken</td>\n",
       "    </tr>\n",
       "    <tr>\n",
       "      <th>2</th>\n",
       "      <td>delight says it all</td>\n",
       "      <td>confection around centuries light pillowy citr...</td>\n",
       "      <td>sostoken delight says it all</td>\n",
       "      <td>delight says it all eostoken</td>\n",
       "    </tr>\n",
       "    <tr>\n",
       "      <th>3</th>\n",
       "      <td>cough medicine</td>\n",
       "      <td>looking secret ingredient robitussin believe f...</td>\n",
       "      <td>sostoken cough medicine</td>\n",
       "      <td>cough medicine eostoken</td>\n",
       "    </tr>\n",
       "    <tr>\n",
       "      <th>4</th>\n",
       "      <td>great taffy</td>\n",
       "      <td>great taffy great price wide assortment yummy ...</td>\n",
       "      <td>sostoken great taffy</td>\n",
       "      <td>great taffy eostoken</td>\n",
       "    </tr>\n",
       "    <tr>\n",
       "      <th>...</th>\n",
       "      <td>...</td>\n",
       "      <td>...</td>\n",
       "      <td>...</td>\n",
       "      <td>...</td>\n",
       "    </tr>\n",
       "    <tr>\n",
       "      <th>99993</th>\n",
       "      <td>great stuff</td>\n",
       "      <td>stuff awesome best flavor boil water drain wat...</td>\n",
       "      <td>sostoken great stuff</td>\n",
       "      <td>great stuff eostoken</td>\n",
       "    </tr>\n",
       "    <tr>\n",
       "      <th>99994</th>\n",
       "      <td>good stuff</td>\n",
       "      <td>love noodle little spicy wife perfct</td>\n",
       "      <td>sostoken good stuff</td>\n",
       "      <td>good stuff eostoken</td>\n",
       "    </tr>\n",
       "    <tr>\n",
       "      <th>99995</th>\n",
       "      <td>yummy</td>\n",
       "      <td>love buy another box done last one</td>\n",
       "      <td>sostoken yummy</td>\n",
       "      <td>yummy eostoken</td>\n",
       "    </tr>\n",
       "    <tr>\n",
       "      <th>99997</th>\n",
       "      <td>great ramen</td>\n",
       "      <td>favorite brand korean ramen spicy used eating ...</td>\n",
       "      <td>sostoken great ramen</td>\n",
       "      <td>great ramen eostoken</td>\n",
       "    </tr>\n",
       "    <tr>\n",
       "      <th>99998</th>\n",
       "      <td>spicy</td>\n",
       "      <td>like noodles although say spicy somewhat under...</td>\n",
       "      <td>sostoken spicy</td>\n",
       "      <td>spicy eostoken</td>\n",
       "    </tr>\n",
       "  </tbody>\n",
       "</table>\n",
       "<p>65818 rows × 4 columns</p>\n",
       "</div>"
      ],
      "text/plain": [
       "                     Summary  \\\n",
       "0      good quality dog food   \n",
       "1          not as advertised   \n",
       "2        delight says it all   \n",
       "3             cough medicine   \n",
       "4                great taffy   \n",
       "...                      ...   \n",
       "99993            great stuff   \n",
       "99994             good stuff   \n",
       "99995                  yummy   \n",
       "99997            great ramen   \n",
       "99998                  spicy   \n",
       "\n",
       "                                                    Text  \\\n",
       "0      bought several vitality canned dog food produc...   \n",
       "1      product arrived labeled jumbo salted peanuts p...   \n",
       "2      confection around centuries light pillowy citr...   \n",
       "3      looking secret ingredient robitussin believe f...   \n",
       "4      great taffy great price wide assortment yummy ...   \n",
       "...                                                  ...   \n",
       "99993  stuff awesome best flavor boil water drain wat...   \n",
       "99994               love noodle little spicy wife perfct   \n",
       "99995                 love buy another box done last one   \n",
       "99997  favorite brand korean ramen spicy used eating ...   \n",
       "99998  like noodles although say spicy somewhat under...   \n",
       "\n",
       "                        decoder_input                  decoder_target  \n",
       "0      sostoken good quality dog food  good quality dog food eostoken  \n",
       "1          sostoken not as advertised      not as advertised eostoken  \n",
       "2        sostoken delight says it all    delight says it all eostoken  \n",
       "3             sostoken cough medicine         cough medicine eostoken  \n",
       "4                sostoken great taffy            great taffy eostoken  \n",
       "...                               ...                             ...  \n",
       "99993            sostoken great stuff            great stuff eostoken  \n",
       "99994             sostoken good stuff             good stuff eostoken  \n",
       "99995                  sostoken yummy                  yummy eostoken  \n",
       "99997            sostoken great ramen            great ramen eostoken  \n",
       "99998                  sostoken spicy                  spicy eostoken  \n",
       "\n",
       "[65818 rows x 4 columns]"
      ]
     },
     "execution_count": 73,
     "metadata": {},
     "output_type": "execute_result"
    }
   ],
   "source": [
    "# 중간에 세션이 끊길 경우, 전처리 데이터를 불러와서 사용한다.\n",
    "data = pd.read_pickle('./data_preprocessed.pkl')\n",
    "data"
   ]
  },
  {
   "cell_type": "markdown",
   "id": "119110d8",
   "metadata": {},
   "source": [
    "---"
   ]
  },
  {
   "cell_type": "code",
   "execution_count": 74,
   "id": "c2716e47",
   "metadata": {},
   "outputs": [],
   "source": [
    "encoder_input = np.array(data['Text']) # 인코더의 입력\n",
    "decoder_input = np.array(data['decoder_input']) # 디코더의 입력\n",
    "decoder_target = np.array(data['decoder_target']) # 디코더의 레이블"
   ]
  },
  {
   "cell_type": "markdown",
   "id": "44487a4c",
   "metadata": {},
   "source": [
    "이제 훈련 데이터와 테스트 데이터를 분리할거에요.\n",
    "\n",
    "훈련 데이터와 테스트 데이터를 분리하는 방법은 분리 패키지를 사용하는 방법, 또는 직접 코딩을 통해서 분리하는 방법 등 여러 가지 방법이 있을 텐데 여기서는 직접 해볼게요. 우선, encoder_input과 크기와 형태가 같은 순서가 섞인 정수 시퀀스를 만들어줄게요."
   ]
  },
  {
   "cell_type": "code",
   "execution_count": 75,
   "id": "e2f09148",
   "metadata": {},
   "outputs": [
    {
     "name": "stdout",
     "output_type": "stream",
     "text": [
      "[22301 47370  6991 ... 22463 17905 29771]\n"
     ]
    }
   ],
   "source": [
    "indices = np.arange(encoder_input.shape[0])\n",
    "np.random.shuffle(indices)\n",
    "print(indices)"
   ]
  },
  {
   "cell_type": "markdown",
   "id": "141785e8",
   "metadata": {},
   "source": [
    "이 정수 시퀀스를 이용해 다시 데이터의 샘플 순서를 정의해 주면 잘 섞인 샘플이 되겠죠."
   ]
  },
  {
   "cell_type": "code",
   "execution_count": 76,
   "id": "4fb62554",
   "metadata": {},
   "outputs": [],
   "source": [
    "encoder_input = encoder_input[indices]\n",
    "decoder_input = decoder_input[indices]\n",
    "decoder_target = decoder_target[indices]"
   ]
  },
  {
   "cell_type": "markdown",
   "id": "ab4aa26e",
   "metadata": {},
   "source": [
    "이제 섞인 데이터를 8:2의 비율로 훈련 데이터와 테스트 데이터로 분리해 줄게요. 전체 데이터의 크기에서 0.2를 곱해서 테스트 데이터의 크기를 정의해 줄게요."
   ]
  },
  {
   "cell_type": "code",
   "execution_count": 77,
   "id": "78154861",
   "metadata": {},
   "outputs": [
    {
     "name": "stdout",
     "output_type": "stream",
     "text": [
      "테스트 데이터의 수 : 13163\n"
     ]
    }
   ],
   "source": [
    "n_of_val = int(len(encoder_input)*0.2)\n",
    "print('테스트 데이터의 수 :', n_of_val)"
   ]
  },
  {
   "cell_type": "markdown",
   "id": "248b40ac",
   "metadata": {},
   "source": [
    "이렇게 정의한 테스트 데이터의 개수를 이용해 전체 데이터를 양분할게요.\n",
    ":표시의 위치에 주의해 주세요."
   ]
  },
  {
   "cell_type": "code",
   "execution_count": 78,
   "id": "95bf205d",
   "metadata": {},
   "outputs": [
    {
     "name": "stdout",
     "output_type": "stream",
     "text": [
      "훈련 데이터의 개수 : 52655\n",
      "훈련 레이블의 개수 : 52655\n",
      "테스트 데이터의 개수 : 13163\n",
      "테스트 레이블의 개수 : 13163\n"
     ]
    }
   ],
   "source": [
    "encoder_input_train = encoder_input[:-n_of_val]\n",
    "decoder_input_train = decoder_input[:-n_of_val]\n",
    "decoder_target_train = decoder_target[:-n_of_val]\n",
    "\n",
    "encoder_input_test = encoder_input[-n_of_val:]\n",
    "decoder_input_test = decoder_input[-n_of_val:]\n",
    "decoder_target_test = decoder_target[-n_of_val:]\n",
    "\n",
    "print('훈련 데이터의 개수 :', len(encoder_input_train))\n",
    "print('훈련 레이블의 개수 :', len(decoder_input_train))\n",
    "print('테스트 데이터의 개수 :', len(encoder_input_test))\n",
    "print('테스트 레이블의 개수 :', len(decoder_input_test))"
   ]
  },
  {
   "cell_type": "markdown",
   "id": "0cb8ee7b",
   "metadata": {},
   "source": [
    "훈련 데이터와 테스트 데이터가 각각 52,655개와 13,163개로 잘 분리된 것을 볼 수 있어요!"
   ]
  },
  {
   "cell_type": "markdown",
   "id": "ac4b44b8",
   "metadata": {},
   "source": [
    "### 단어 집합(vocabulary) 만들기 및 정수 인코딩"
   ]
  },
  {
   "cell_type": "markdown",
   "id": "5dd21efe",
   "metadata": {},
   "source": [
    "이제 기계가 텍스트를 숫자로 처리할 수 있도록 훈련 데이터와 테스트 데이터의 단어들을 모두 정수로 바꾸어 주어야 해요. 이를 위해서는 <span style=\"color:blue\">각 단어에 고유한 정수를 맵핑하는 작업</span>이 필요해요. 이 과정을 단어 집합(vocabulary) 을 만든다고 표현해요. 훈련 데이터에 대해서 단어 집합을 만들어볼게요. 우선, 원문에 해당되는 encoder_input_train에 대해서 단어 집합을 만들게요.\n",
    "\n",
    "<span style=\"color:blue\">**Keras의 토크나이저를 사용하면, 입력된 훈련 데이터로부터 단어 집합을 만들 수 있어요.**</span>"
   ]
  },
  {
   "cell_type": "code",
   "execution_count": 79,
   "id": "646c2450",
   "metadata": {},
   "outputs": [],
   "source": [
    "src_tokenizer = Tokenizer() # 토크나이저 정의\n",
    "src_tokenizer.fit_on_texts(encoder_input_train) # 입력된 데이터로부터 단어 집합 생성"
   ]
  },
  {
   "cell_type": "markdown",
   "id": "1d9fbd88",
   "metadata": {},
   "source": [
    "이제 단어 집합이 생성되는 동시에 각 단어에 고유한 정수가 부여되었어요. 현재 생성된 단어 집합은 src_tokenizer.word_index에 저장되어 있어요. 그런데 우리는 이렇게 만든 단어 집합에 있는 모든 단어를 사용하는 것이 아니라, <span style=\"color:blue\">빈도수가 낮은 단어들은 훈련 데이터에서 제외하고 진행하려고 해요.</span>\n",
    "\n",
    "등장 빈도수가 7회 미만인 단어들이 이 데이터에서 *얼만큼의 비중을 차지하는지* 확인해볼게요.\n",
    "\n",
    "<span style=\"color:blue\">src_tokenizer.word_counts.items()에는 단어와 각 단어의 등장 빈도수가 저장돼 있는데, 이를 통해서 통계적인 정보를 얻을 수 있어요."
   ]
  },
  {
   "cell_type": "code",
   "execution_count": 80,
   "id": "775143af",
   "metadata": {},
   "outputs": [
    {
     "name": "stdout",
     "output_type": "stream",
     "text": [
      "단어 집합(vocabulary)의 크기 : 31921\n",
      "등장 빈도가 6번 이하인 희귀 단어의 수: 23698\n",
      "단어 집합에서 희귀 단어를 제외시킬 경우의 단어 집합의 크기 8223\n",
      "단어 집합에서 희귀 단어의 비율: 74.2395288368159\n",
      "전체 등장 빈도에서 희귀 단어 등장 빈도 비율: 3.38733269025868\n"
     ]
    }
   ],
   "source": [
    "threshold = 7\n",
    "total_cnt = len(src_tokenizer.word_index) # 단어의 수\n",
    "rare_cnt = 0 # 등장 빈도수가 threshold보다 작은 단어의 개수를 카운트\n",
    "total_freq = 0 # 훈련 데이터의 전체 단어 빈도수 총 합\n",
    "rare_freq = 0 # 등장 빈도수가 threshold보다 작은 단어의 등장 빈도수의 총 합\n",
    "\n",
    "# 단어와 빈도수의 쌍(pair)을 key와 value로 받는다.\n",
    "for key, value in src_tokenizer.word_counts.items():\n",
    "    total_freq = total_freq + value\n",
    "\n",
    "    # 단어의 등장 빈도수가 threshold보다 작으면\n",
    "    if(value < threshold):\n",
    "        rare_cnt = rare_cnt + 1\n",
    "        rare_freq = rare_freq + value\n",
    "\n",
    "print('단어 집합(vocabulary)의 크기 :', total_cnt)\n",
    "print('등장 빈도가 %s번 이하인 희귀 단어의 수: %s'%(threshold - 1, rare_cnt))\n",
    "print('단어 집합에서 희귀 단어를 제외시킬 경우의 단어 집합의 크기 %s'%(total_cnt - rare_cnt))\n",
    "print(\"단어 집합에서 희귀 단어의 비율:\", (rare_cnt / total_cnt)*100)\n",
    "print(\"전체 등장 빈도에서 희귀 단어 등장 빈도 비율:\", (rare_freq / total_freq)*100)"
   ]
  },
  {
   "cell_type": "code",
   "execution_count": 81,
   "id": "76b449c9",
   "metadata": {},
   "outputs": [],
   "source": [
    "src_vocab = 8000\n",
    "src_tokenizer = Tokenizer(num_words=src_vocab) # 단어 집합의 크기를 8,000으로 제한\n",
    "src_tokenizer.fit_on_texts(encoder_input_train) # 단어 집합 재생성"
   ]
  },
  {
   "cell_type": "markdown",
   "id": "2643d912",
   "metadata": {},
   "source": [
    "texts_to_sequences()는 생성된 단어 집합에 기반하여 입력으로 주어진 텍스트 데이터의 단어들을 모두 정수로 변환하는 정수 인코딩을 수행해요. \n",
    "<span style=\"color:blue\"> 현재 단어 집합의 크기를 8,000으로 제한했으니까 이제 8,000이 넘는 숫자들은 정수 인코딩 후에는 데이터에 존재하지 않아요."
   ]
  },
  {
   "cell_type": "code",
   "execution_count": 82,
   "id": "33037a0b",
   "metadata": {},
   "outputs": [
    {
     "name": "stdout",
     "output_type": "stream",
     "text": [
      "[[577, 2374, 2130, 473, 7, 4, 33, 25, 28, 2808, 112, 7, 2247, 4, 552, 294], [8, 15, 671, 1289, 160, 11, 8, 2, 5, 160, 1199, 53, 419, 8, 68, 5102, 11, 8, 37, 419], [439, 776, 93, 179, 640, 382, 407, 39, 23, 14, 508, 34, 543, 54, 72, 2440, 640, 439, 640, 15, 10, 74, 54, 5890, 640, 382, 12, 28, 151, 431, 8, 640, 270, 68, 676, 306, 602, 65, 599, 640, 382, 138, 17, 45, 20]]\n"
     ]
    }
   ],
   "source": [
    "# 텍스트 시퀀스를 정수 시퀀스로 변환\n",
    "encoder_input_train = src_tokenizer.texts_to_sequences(encoder_input_train) \n",
    "encoder_input_test = src_tokenizer.texts_to_sequences(encoder_input_test)\n",
    "\n",
    "# 잘 진행되었는지 샘플 출력\n",
    "print(encoder_input_train[:3])"
   ]
  },
  {
   "cell_type": "markdown",
   "id": "5ca95fdd",
   "metadata": {},
   "source": [
    "이제 더 이상 텍스트 데이터가 아니라 정수가 나오고 있어요.\n",
    "\n",
    "Summary 데이터에 대해서도 동일한 작업을 수행할게요. 케라스의 토크나이저를 사용하여 decoder_input_train을 입력으로 전체 단어 집합과 각 단어에 대한 빈도수를 계산해요."
   ]
  },
  {
   "cell_type": "code",
   "execution_count": 83,
   "id": "0d051c82",
   "metadata": {},
   "outputs": [],
   "source": [
    "tar_tokenizer = Tokenizer()\n",
    "tar_tokenizer.fit_on_texts(decoder_input_train)"
   ]
  },
  {
   "cell_type": "markdown",
   "id": "8777ee6e",
   "metadata": {},
   "source": [
    "이제 단어 집합이 생성되는 동시에 각 단어에 고유한 정수가 부여되었어요. 이는 tar_tokenizer.word_index에 저장되어 있어요. tar_tokenizer.word_counts.items()에는 단어와 각 단어의 등장 빈도수가 저장돼 있는데, 이를 통해서 통계적인 정보를 얻어서, <span style=\"color:blue\"> 등장 빈도수가 6회 미만인 단어들이 이 데이터에서 얼만큼의 비중을 차지하는지</span> 확인해볼게요.\n"
   ]
  },
  {
   "cell_type": "code",
   "execution_count": 84,
   "id": "ad3e8087",
   "metadata": {},
   "outputs": [
    {
     "name": "stdout",
     "output_type": "stream",
     "text": [
      "단어 집합(vocabulary)의 크기 : 10461\n",
      "등장 빈도가 5번 이하인 희귀 단어의 수: 8074\n",
      "단어 집합에서 희귀 단어를 제외시킬 경우의 단어 집합의 크기 2387\n",
      "단어 집합에서 희귀 단어의 비율: 77.18191377497371\n",
      "전체 등장 빈도에서 희귀 단어 등장 빈도 비율: 5.868004378593161\n"
     ]
    }
   ],
   "source": [
    "threshold = 6\n",
    "total_cnt = len(tar_tokenizer.word_index) # 단어의 수\n",
    "rare_cnt = 0 # 등장 빈도수가 threshold보다 작은 단어의 개수를 카운트\n",
    "total_freq = 0 # 훈련 데이터의 전체 단어 빈도수 총 합\n",
    "rare_freq = 0 # 등장 빈도수가 threshold보다 작은 단어의 등장 빈도수의 총 합\n",
    "\n",
    "# 단어와 빈도수의 쌍(pair)을 key와 value로 받는다.\n",
    "for key, value in tar_tokenizer.word_counts.items():\n",
    "    total_freq = total_freq + value\n",
    "\n",
    "    # 단어의 등장 빈도수가 threshold보다 작으면\n",
    "    if(value < threshold):\n",
    "        rare_cnt = rare_cnt + 1\n",
    "        rare_freq = rare_freq + value\n",
    "\n",
    "print('단어 집합(vocabulary)의 크기 :', total_cnt)\n",
    "print('등장 빈도가 %s번 이하인 희귀 단어의 수: %s'%(threshold - 1, rare_cnt))\n",
    "print('단어 집합에서 희귀 단어를 제외시킬 경우의 단어 집합의 크기 %s'%(total_cnt - rare_cnt))\n",
    "print(\"단어 집합에서 희귀 단어의 비율:\", (rare_cnt / total_cnt)*100)\n",
    "print(\"전체 등장 빈도에서 희귀 단어 등장 빈도 비율:\", (rare_freq / total_freq)*100)"
   ]
  },
  {
   "cell_type": "markdown",
   "id": "1f49cc69",
   "metadata": {},
   "source": [
    "등장 빈도가 5회 이하인 단어들은 단어 집합에서 약 77%를 차지하고 있네요.   \n",
    "하지만 실제로 훈련 데이터에서 등장 빈도로 차지하는 비중은 상대적으로 매우 적은 수치인 5.87%밖에 되지 않아요.   \n",
    "아까 했던 것과 동일하게 이 단어들은 모두 제거할게요. 어림잡아 2,000을 단어 집합의 크기로 제한할게요. "
   ]
  },
  {
   "cell_type": "code",
   "execution_count": 85,
   "id": "efadab55",
   "metadata": {},
   "outputs": [
    {
     "name": "stdout",
     "output_type": "stream",
     "text": [
      "input\n",
      "input  [[1, 1369], [1, 196, 119, 403, 59, 20, 4], [1, 7, 399, 326, 33, 428], [1, 20, 152], [1, 152]]\n",
      "target\n",
      "decoder  [[1369, 2], [196, 119, 403, 59, 20, 4, 2], [7, 399, 326, 33, 428, 2], [20, 152, 2], [152, 2]]\n"
     ]
    }
   ],
   "source": [
    "tar_vocab = 2000\n",
    "tar_tokenizer = Tokenizer(num_words=tar_vocab) \n",
    "tar_tokenizer.fit_on_texts(decoder_input_train)\n",
    "tar_tokenizer.fit_on_texts(decoder_target_train)\n",
    "\n",
    "# 텍스트 시퀀스를 정수 시퀀스로 변환\n",
    "decoder_input_train = tar_tokenizer.texts_to_sequences(decoder_input_train) \n",
    "decoder_target_train = tar_tokenizer.texts_to_sequences(decoder_target_train)\n",
    "decoder_input_test = tar_tokenizer.texts_to_sequences(decoder_input_test)\n",
    "decoder_target_test = tar_tokenizer.texts_to_sequences(decoder_target_test)\n",
    "\n",
    "# 잘 변환되었는지 확인\n",
    "print('input')\n",
    "print('input ',decoder_input_train[:5])\n",
    "print('target')\n",
    "print('decoder ',decoder_target_train[:5])"
   ]
  },
  {
   "cell_type": "markdown",
   "id": "e14ab683",
   "metadata": {},
   "source": [
    "정상적으로 정수 인코딩 작업이 끝났어요. 현재 decoder_input_train과 decoder_target_train에는 더 이상 숫자 2,000이 넘는 숫자들은 존재하지 않아요. 그런데 다음 작업인 패딩 하기로 넘어가기 전에 한 가지 점검해야 할 것이 있어요.\n",
    "\n",
    "전체 데이터에서 빈도수가 낮은 단어가 삭제되었다는 것은 빈도수가 낮은 단어만으로 구성되었던 샘플들은 이제 빈(empty) 샘플이 되었을 가능성이 있어요. 이 현상은 길이가 상대적으로 길었던 원문(Text)의 경우에는 문제가 별로 없겠지만, <span style=\"color:blue\">애초에 평균 길이가 4밖에 되지 않았던 요약문(Summary)의 경우에는 이 현상이 굉장히 두드러졌을 가능성이 높겠죠.</span>\n",
    "\n",
    "요약문에서 길이가 0이 된 샘플들의 인덱스를 받아와볼게요. 여기서 주의할 점은 요약문인 decoder_input에는 sostoken 또는 decoder_target에는 eostoken이 추가된 상태이고, 이 두 토큰은 모든 샘플에서 등장하므로 빈도수가 샘플 수와 동일하게 매우 높으므로 단어 집합 제한에도 삭제되지 않아요. \n",
    "그래서 이제 길이가 0이 된 요약문의 <span style=\"color:blue\">실제 길이는 1로 나올</span> 거예요. 길이 0이 된 decoder_input에는 sostoken, decoder_target에는 eostoken만 남아 있을 테니까요.\n",
    "\n",
    "훈련 데이터와 테스트 데이터에 대해서 <span style=\"color:blue\"> 요약문의 길이가 1인 경우</span>의 인덱스를 각각 drop_train과 drop_test에 라는 변수에 저장해볼게요. 이 샘플들은 모두 삭제할 거예요.\n",
    "\n",
    "\n",
    "\n",
    "\n"
   ]
  },
  {
   "cell_type": "code",
   "execution_count": 86,
   "id": "c6d2b5c6",
   "metadata": {},
   "outputs": [
    {
     "name": "stdout",
     "output_type": "stream",
     "text": [
      "삭제할 훈련 데이터의 개수 : 1274\n",
      "삭제할 테스트 데이터의 개수 : 357\n",
      "훈련 데이터의 개수 : 51381\n",
      "훈련 레이블의 개수 : 51381\n",
      "테스트 데이터의 개수 : 12806\n",
      "테스트 레이블의 개수 : 12806\n"
     ]
    }
   ],
   "source": [
    "drop_train = [index for index, sentence in enumerate(decoder_input_train) if len(sentence) == 1]\n",
    "drop_test = [index for index, sentence in enumerate(decoder_input_test) if len(sentence) == 1]\n",
    "\n",
    "print('삭제할 훈련 데이터의 개수 :', len(drop_train))\n",
    "print('삭제할 테스트 데이터의 개수 :', len(drop_test))\n",
    "\n",
    "encoder_input_train = [sentence for index, sentence in enumerate(encoder_input_train) if index not in drop_train]\n",
    "decoder_input_train = [sentence for index, sentence in enumerate(decoder_input_train) if index not in drop_train]\n",
    "decoder_target_train = [sentence for index, sentence in enumerate(decoder_target_train) if index not in drop_train]\n",
    "\n",
    "encoder_input_test = [sentence for index, sentence in enumerate(encoder_input_test) if index not in drop_test]\n",
    "decoder_input_test = [sentence for index, sentence in enumerate(decoder_input_test) if index not in drop_test]\n",
    "decoder_target_test = [sentence for index, sentence in enumerate(decoder_target_test) if index not in drop_test]\n",
    "\n",
    "print('훈련 데이터의 개수 :', len(encoder_input_train))\n",
    "print('훈련 레이블의 개수 :', len(decoder_input_train))\n",
    "print('테스트 데이터의 개수 :', len(encoder_input_test))\n",
    "print('테스트 레이블의 개수 :', len(decoder_input_test))"
   ]
  },
  {
   "cell_type": "markdown",
   "id": "b4d20bec",
   "metadata": {},
   "source": [
    "훈련 데이터와 테스트 데이터 모두 일정량의 샘플들이 제거된 것을 확인할 수 있어요. 이제 거의 다 왔어요."
   ]
  },
  {
   "cell_type": "markdown",
   "id": "e5f5264e",
   "metadata": {},
   "source": [
    "### 패딩하기"
   ]
  },
  {
   "cell_type": "markdown",
   "id": "3c99abc5",
   "metadata": {},
   "source": [
    "텍스트 시퀀스를 정수 시퀀스로 변환했다면, 이제 서로 다른 길이의 샘플들을 병렬 처리하기 위해 같은 길이로 맞춰주는 패딩 작업을 해주어야 해야 해요. 아까 정해두었던 최대 길이로 패딩 해 줄 거에요. 최대 길이보다 짧은 데이터들은 뒤의 공간에 숫자 0을 넣어 최대 길이로 길이를 맞춰줄게요."
   ]
  },
  {
   "cell_type": "code",
   "execution_count": 87,
   "id": "fb94d697",
   "metadata": {},
   "outputs": [],
   "source": [
    "encoder_input_train = pad_sequences(encoder_input_train, maxlen=text_max_len, padding='post')\n",
    "encoder_input_test = pad_sequences(encoder_input_test, maxlen=text_max_len, padding='post')\n",
    "decoder_input_train = pad_sequences(decoder_input_train, maxlen=summary_max_len, padding='post')\n",
    "decoder_target_train = pad_sequences(decoder_target_train, maxlen=summary_max_len, padding='post')\n",
    "decoder_input_test = pad_sequences(decoder_input_test, maxlen=summary_max_len, padding='post')\n",
    "decoder_target_test = pad_sequences(decoder_target_test, maxlen=summary_max_len, padding='post')"
   ]
  },
  {
   "cell_type": "markdown",
   "id": "a48f511e",
   "metadata": {},
   "source": [
    "### 모델 설계하기\n",
    "이제는 모델을 설계할 시간이에요. 우선 함수형 API를 이용해서 인코더를 설계해 볼게요.\n",
    "\n",
    "#### Q.인코더 LSTM 1을 참고해서 나머지 인코더의 LSTM 2, LSTM 3의 코드를 완성하세요."
   ]
  },
  {
   "cell_type": "code",
   "execution_count": 88,
   "id": "81cf7e21",
   "metadata": {},
   "outputs": [],
   "source": [
    "from tensorflow.keras.layers import Input, LSTM, Embedding, Dense, Concatenate, TimeDistributed\n",
    "from tensorflow.keras.models import Model\n",
    "from tensorflow.keras.callbacks import EarlyStopping, ModelCheckpoint\n",
    "\n",
    "\n",
    "# 인코더 설계 시작\n",
    "embedding_dim = 128\n",
    "hidden_size = 256\n",
    "\n",
    "# 인코더\n",
    "encoder_inputs = Input(shape=(text_max_len,))\n",
    "\n",
    "# 인코더의 임베딩 층\n",
    "enc_emb = Embedding(src_vocab, embedding_dim)(encoder_inputs)\n",
    "\n",
    "# 인코더의 LSTM 1\n",
    "# encoder_lstm1 = LSTM(hidden_size, return_sequences=True, return_state=True ,dropout = 0.4, recurrent_dropout = 0.4)\n",
    "encoder_lstm1 = LSTM(hidden_size, return_sequences=True, return_state=True ,dropout = 0.4)\n",
    "encoder_output1, state_h1, state_c1 = encoder_lstm1(enc_emb)\n",
    "\n",
    "# 인코더의 LSTM 2\n",
    "encoder_lstm2 = LSTM(hidden_size, return_sequences=True, return_state=True ,dropout = 0.4)\n",
    "encoder_output2, state_h2, state_c2 = encoder_lstm2(encoder_output1)\n",
    "\n",
    "# 인코더의 LSTM 3\n",
    "encoder_lstm3 = LSTM(hidden_size, return_sequences=True, return_state=True ,dropout = 0.4)\n",
    "encoder_outputs, state_h, state_c = encoder_lstm3(encoder_output2)\n"
   ]
  },
  {
   "cell_type": "markdown",
   "id": "de72c641",
   "metadata": {},
   "source": [
    "임베딩 벡터의 차원은 128로 정의하고, hidden state의 크기를 256으로 정의했어요. <span style=\"color:blue\"> hidden state는 LSTM에서 얼만큼의 수용력(capacity)를 가질지</span>를 정하는 파라미터에요. 이 파라미터는 LSTM의 용량의 크기나, LSTM에서의 뉴런의 개수라고 이해하면 돼요. 다른 신경망과 마찬가지로, 무조건 용량을 많이 준다고 해서 성능이 반드시 올라가는 것은 아니에요.\n",
    "\n",
    "인코더의 LSTM은 총 3개의 층으로 구성해서 모델의 복잡도를 높였어요. hidden state의 크기를 늘리는 것이 LSTM 층 1개의 용량을 늘린다면, 3개의 층을 사용하는 것은 모델의 용량을 늘린다고 볼 수 있죠. 3개의 층을 지나서 인코더로부터 나온 출력 벡터는 디코더로 보내줘야겠죠?\n",
    "\n",
    "또한 LSTM은 dropout 뿐 아니라 recurrent dropout까지 사용할 수 있어요. \n",
    "일반적인 dropout은 레이어의 weight를 랜덤으로 생략하여 모델의 과적합(overfitting)을 해결해주는 방법이에요.\n",
    "\n",
    "반면 recurrent dropout은 dropout을 레이어가 아닌 <span style=\"color:blue\">time step마다</span> 해주는 방식이에요.  \n",
    "즉 time step의 입력을 랜덤으로 생략해 주는 거죠. recurrent dropout은 일반적인 dropout와 같이 regularization을 해주는 효과가 있고, 과적합을 방지할 수 있다고 해요.\n",
    "\n",
    "아래 그림은 일반적인 dropout과, dropout과 recurrent dropout을 동시에 사용한 것을 시각적으로 표현한 것입니다. 색이 있는 화살표는 dropout을 나타낸 것이에요. (색이 다른 것은 다른 dropout mask를 사용했다는 표시인데, 지금은 그냥 넘어가셔도 됩니다.) 코드를 수정해서 LSTM에 dropout과 recurrent dropout을 모두 사용할 수 있습니다. 그렇게 되면 오른쪽 그림과 같은 형태가 되겠군요. 참고로 dropout과 recurrent dropout을 <span style=\"color:blue\"> 모두 사용한 것을 Variational Dropout</span>이라고도 해요."
   ]
  },
  {
   "attachments": {
    "image.png": {
     "image/png": "[encoded data removed]"
    }
   },
   "cell_type": "markdown",
   "id": "65af58dd",
   "metadata": {},
   "source": [
    "![image.png](attachment:image.png)\n",
    "[dropout(왼쪽)과 dropout + recurrent dropout(오른쪽)]"
   ]
  },
  {
   "cell_type": "markdown",
   "id": "7b679d71",
   "metadata": {},
   "source": [
    "https://arxiv.org/pdf/1512.05287.pdf\n",
    "참고로 recurrent dropout을 사용하면 아래와 같은 경고문이 뜹니다.\n",
    "\n",
    "WARNING:tensorflow:Layer lstm_15 will not use cuDNN kernel since it doesn't meet the cuDNN kernel criteria. It will use generic GPU kernel as fallback when running on GPU\n",
    "\n",
    "recurrent dropout을 사용할 시 cuDNN을 사용할 수 없어서 recurrent dropout을 사용하지 않을 때보다 학습 시간이 오래 걸립니다.\n",
    "\n",
    "recurrent dropout에 대한 자세한 내용은 아래의 논문을 참고하세요.\n",
    "\n",
    "[Recurrent Dropout without Memory Loss](https://arxiv.org/pdf/1603.05118v2.pdf)\n",
    "\n",
    "이제 디코더를 설계해볼게요!"
   ]
  },
  {
   "cell_type": "code",
   "execution_count": 89,
   "id": "1238936f",
   "metadata": {},
   "outputs": [],
   "source": [
    "# 디코더 설계\n",
    "decoder_inputs = Input(shape=(None,))\n",
    "\n",
    "# 디코더의 임베딩 층\n",
    "dec_emb_layer = Embedding(tar_vocab, embedding_dim)\n",
    "dec_emb = dec_emb_layer(decoder_inputs)\n",
    "\n",
    "# 디코더의 LSTM\n",
    "# decoder_lstm = LSTM(hidden_size, return_sequences=True, return_state=True, dropout=0.4, recurrent_dropout=0.2)\n",
    "decoder_lstm = LSTM(hidden_size, return_sequences=True, return_state=True, dropout=0.4)\n",
    "decoder_outputs, _, _ = decoder_lstm(dec_emb, initial_state=[state_h, state_c])"
   ]
  },
  {
   "cell_type": "markdown",
   "id": "39bc7875",
   "metadata": {},
   "source": [
    "디코더의 임베딩 층과 LSTM을 설계하는 것은 인코더와 거의 동일해요. 하지만 LSTM의 입력을 정의할 때, initial_state의 인자값으로 인코더의 hidden state와 cell state의 값을 넣어줘야 해요.\n",
    "\n",
    "디코더의 출력층을 설계해볼게요."
   ]
  },
  {
   "cell_type": "code",
   "execution_count": 90,
   "id": "4608d208",
   "metadata": {
    "scrolled": true
   },
   "outputs": [
    {
     "name": "stdout",
     "output_type": "stream",
     "text": [
      "Model: \"model_6\"\n",
      "__________________________________________________________________________________________________\n",
      "Layer (type)                    Output Shape         Param #     Connected to                     \n",
      "==================================================================================================\n",
      "input_7 (InputLayer)            [(None, 50)]         0                                            \n",
      "__________________________________________________________________________________________________\n",
      "embedding_6 (Embedding)         (None, 50, 128)      1024000     input_7[0][0]                    \n",
      "__________________________________________________________________________________________________\n",
      "lstm_12 (LSTM)                  [(None, 50, 256), (N 394240      embedding_6[0][0]                \n",
      "__________________________________________________________________________________________________\n",
      "input_8 (InputLayer)            [(None, None)]       0                                            \n",
      "__________________________________________________________________________________________________\n",
      "lstm_13 (LSTM)                  [(None, 50, 256), (N 525312      lstm_12[0][0]                    \n",
      "__________________________________________________________________________________________________\n",
      "embedding_7 (Embedding)         (None, None, 128)    256000      input_8[0][0]                    \n",
      "__________________________________________________________________________________________________\n",
      "lstm_14 (LSTM)                  [(None, 50, 256), (N 525312      lstm_13[0][0]                    \n",
      "__________________________________________________________________________________________________\n",
      "lstm_15 (LSTM)                  [(None, None, 256),  394240      embedding_7[0][0]                \n",
      "                                                                 lstm_14[0][1]                    \n",
      "                                                                 lstm_14[0][2]                    \n",
      "__________________________________________________________________________________________________\n",
      "dense_6 (Dense)                 (None, None, 2000)   514000      lstm_15[0][0]                    \n",
      "==================================================================================================\n",
      "Total params: 3,633,104\n",
      "Trainable params: 3,633,104\n",
      "Non-trainable params: 0\n",
      "__________________________________________________________________________________________________\n"
     ]
    }
   ],
   "source": [
    "# 디코더의 출력층\n",
    "decoder_softmax_layer = Dense(tar_vocab, activation='softmax')\n",
    "decoder_softmax_outputs = decoder_softmax_layer(decoder_outputs) \n",
    "\n",
    "# 모델 정의\n",
    "model = Model([encoder_inputs, decoder_inputs], decoder_softmax_outputs)\n",
    "model.summary()"
   ]
  },
  {
   "cell_type": "code",
   "execution_count": 91,
   "id": "0a72763d",
   "metadata": {
    "scrolled": true
   },
   "outputs": [
    {
     "data": {
      "image/png": "[encoded data removed]",
      "text/plain": [
       "<IPython.core.display.Image object>"
      ]
     },
     "execution_count": 91,
     "metadata": {},
     "output_type": "execute_result"
    }
   ],
   "source": [
    "# 모델 확인하기\n",
    "keras.utils.plot_model(model, show_shapes=True)"
   ]
  },
  {
   "cell_type": "markdown",
   "id": "337b6255",
   "metadata": {},
   "source": [
    "디코더의 출력층에서는 Summary의 단어장인 tar_vocab의 수많은 선택지 중 하나의 단어를 선택하는 다중 클래스 분류 문제를 풀어야 해요. \n",
    "그렇기 때문에 Dense의 인자로 tar_vocab을 주고, 활성화 함수로 소프트맥스 함수를 사용하고 있어요.\n",
    "\n",
    "지금까지 설계한 것은 인코더의 hidden state와 cell state를 디코더의 초기 state로 사용하는 가장 기본적인 seq2seq에요. 그런데 디코더의 출력층을 설계를 살짝 바꿔서 성능을 높일 수 있는 방법이 있어요! 바로 어텐션 메커니즘이에요."
   ]
  },
  {
   "cell_type": "markdown",
   "id": "96c5b9db",
   "metadata": {},
   "source": [
    "### 어텐션 메커니즘"
   ]
  },
  {
   "cell_type": "markdown",
   "id": "e67385c6",
   "metadata": {},
   "source": [
    "어텐션 메커니즘을 수행하는 어텐션 함수를 설계하는 것은 또 다른 새로운 신경망을 설계해야 한다는 뜻이에요. 어텐션 함수를 설계해보는 것은 다음 기회로 미루기로 하고, 여기서는 TensorFlow에 이미 구현된 어텐션 함수를 가져와서 디코더의 출력층에 어떤 방식으로 결합하는지 배워볼게요. 참고로 여기서 사용하는 어텐션 함수는 Bahdanau 스타일의 어텐션입니다. 이 어텐션에 대한 자세한 설명은 텐서플로우 홈페이지를 참고하세요.\n",
    "\n",
    "아래와 같이 어텐션 층을 만들고, 위에서 설계한 디코더의 출력층을 수정해 봅시다."
   ]
  },
  {
   "cell_type": "code",
   "execution_count": 92,
   "id": "0ea09cd7",
   "metadata": {
    "scrolled": true
   },
   "outputs": [
    {
     "name": "stdout",
     "output_type": "stream",
     "text": [
      "Model: \"model_7\"\n",
      "__________________________________________________________________________________________________\n",
      "Layer (type)                    Output Shape         Param #     Connected to                     \n",
      "==================================================================================================\n",
      "input_7 (InputLayer)            [(None, 50)]         0                                            \n",
      "__________________________________________________________________________________________________\n",
      "embedding_6 (Embedding)         (None, 50, 128)      1024000     input_7[0][0]                    \n",
      "__________________________________________________________________________________________________\n",
      "lstm_12 (LSTM)                  [(None, 50, 256), (N 394240      embedding_6[0][0]                \n",
      "__________________________________________________________________________________________________\n",
      "input_8 (InputLayer)            [(None, None)]       0                                            \n",
      "__________________________________________________________________________________________________\n",
      "lstm_13 (LSTM)                  [(None, 50, 256), (N 525312      lstm_12[0][0]                    \n",
      "__________________________________________________________________________________________________\n",
      "embedding_7 (Embedding)         (None, None, 128)    256000      input_8[0][0]                    \n",
      "__________________________________________________________________________________________________\n",
      "lstm_14 (LSTM)                  [(None, 50, 256), (N 525312      lstm_13[0][0]                    \n",
      "__________________________________________________________________________________________________\n",
      "lstm_15 (LSTM)                  [(None, None, 256),  394240      embedding_7[0][0]                \n",
      "                                                                 lstm_14[0][1]                    \n",
      "                                                                 lstm_14[0][2]                    \n",
      "__________________________________________________________________________________________________\n",
      "attention_layer (AdditiveAttent (None, None, 256)    256         lstm_15[0][0]                    \n",
      "                                                                 lstm_14[0][0]                    \n",
      "__________________________________________________________________________________________________\n",
      "concat_layer (Concatenate)      (None, None, 512)    0           lstm_15[0][0]                    \n",
      "                                                                 attention_layer[0][0]            \n",
      "__________________________________________________________________________________________________\n",
      "dense_7 (Dense)                 (None, None, 2000)   1026000     concat_layer[0][0]               \n",
      "==================================================================================================\n",
      "Total params: 4,145,360\n",
      "Trainable params: 4,145,360\n",
      "Non-trainable params: 0\n",
      "__________________________________________________________________________________________________\n"
     ]
    }
   ],
   "source": [
    "from tensorflow.keras.layers import AdditiveAttention\n",
    "\n",
    "# 어텐션 층(어텐션 함수)\n",
    "attn_layer = AdditiveAttention(name='attention_layer')\n",
    "\n",
    "# 인코더와 디코더의 모든 time step의 hidden state를 어텐션 층에 전달하고 결과를 리턴\n",
    "attn_out = attn_layer([decoder_outputs, encoder_outputs])\n",
    "\n",
    "\n",
    "# 어텐션의 결과와 디코더의 hidden state들을 연결\n",
    "decoder_concat_input = Concatenate(axis=-1, name='concat_layer')([decoder_outputs, attn_out])\n",
    "\n",
    "# 디코더의 출력층\n",
    "decoder_softmax_layer = Dense(tar_vocab, activation='softmax')\n",
    "decoder_softmax_outputs = decoder_softmax_layer(decoder_concat_input)\n",
    "\n",
    "# 모델 정의\n",
    "model = Model([encoder_inputs, decoder_inputs], decoder_softmax_outputs)\n",
    "model.summary()"
   ]
  },
  {
   "cell_type": "markdown",
   "id": "d4ab9b8e",
   "metadata": {},
   "source": [
    "위의 코드는 인코더의 hidden state들과 디코더의 hidden state들을 어텐션 함수의 입력으로 사용하고, 어텐션 함수가 리턴한 값을 예측 시에 디코더의 hidden state와 함께 활용하는 형태로 작동하고 있어요."
   ]
  },
  {
   "cell_type": "code",
   "execution_count": 93,
   "id": "fbcdbae0",
   "metadata": {
    "scrolled": true
   },
   "outputs": [
    {
     "data": {
      "image/png": "[encoded data removed]",
      "text/plain": [
       "<IPython.core.display.Image object>"
      ]
     },
     "execution_count": 93,
     "metadata": {},
     "output_type": "execute_result"
    }
   ],
   "source": [
    "# 완성된 모델의 개념도 확인\n",
    "keras.utils.plot_model(model, show_shapes=True)"
   ]
  },
  {
   "cell_type": "markdown",
   "id": "770db5ef",
   "metadata": {},
   "source": [
    "- 왼쪽 위의 3개의 LSTM(input_3에서 lstm_6)까지 Encoder에 해당\n",
    "- 오른쪽의 input_4부터 lstm_7까지가 Decoder에 해당하며, Decoder의 임베딩과 Encoder의 cell_state, hidden_state를 활용해서 계산된 값을 Encoder와 AdditiveAttention(Badanauh Attention)을 활용하여 최종적으로 Concatenate를 하고, Dense layer를 통해서 다음에 나올 토큰의 최종 확률 결과를 도출합니다."
   ]
  },
  {
   "cell_type": "markdown",
   "id": "a8bf3e28",
   "metadata": {},
   "source": [
    "## 모델 훈련하기\n",
    "설계한 모델을 가지고 훈련을 진행해볼게요."
   ]
  },
  {
   "cell_type": "code",
   "execution_count": 95,
   "id": "887d6096",
   "metadata": {},
   "outputs": [],
   "source": [
    "# model.compile(optimizer='rmsprop', loss='sparse_categorical_crossentropy')\n",
    "# es = EarlyStopping(monitor='val_loss', patience=2, verbose=1)\n",
    "# history = model.fit(x=[encoder_input_train, decoder_input_train], y=decoder_target_train, \\\n",
    "#           validation_data=([encoder_input_test, decoder_input_test], decoder_target_test), \\\n",
    "#           batch_size=256, callbacks=[es], epochs=50)"
   ]
  },
  {
   "cell_type": "code",
   "execution_count": 94,
   "id": "db07ae74",
   "metadata": {
    "scrolled": true
   },
   "outputs": [
    {
     "name": "stdout",
     "output_type": "stream",
     "text": [
      "Epoch 1/50\n",
      "13/13 [==============================] - 47s 1000ms/step - loss: 4.0302 - val_loss: 3.0420\n",
      "Epoch 2/50\n",
      "13/13 [==============================] - 12s 910ms/step - loss: 2.9797 - val_loss: 2.9118\n",
      "Epoch 3/50\n",
      "13/13 [==============================] - 12s 917ms/step - loss: 2.8451 - val_loss: 2.7414\n",
      "Epoch 4/50\n",
      "13/13 [==============================] - 12s 936ms/step - loss: 2.7032 - val_loss: 2.6266\n",
      "Epoch 5/50\n",
      "13/13 [==============================] - 12s 940ms/step - loss: 2.6204 - val_loss: 2.5913\n",
      "Epoch 6/50\n",
      "13/13 [==============================] - 12s 926ms/step - loss: 2.5809 - val_loss: 2.5550\n",
      "Epoch 7/50\n",
      "13/13 [==============================] - 12s 925ms/step - loss: 2.5489 - val_loss: 2.5238\n",
      "Epoch 8/50\n",
      "13/13 [==============================] - 12s 919ms/step - loss: 2.5093 - val_loss: 2.4895\n",
      "Epoch 9/50\n",
      "13/13 [==============================] - 12s 915ms/step - loss: 2.4771 - val_loss: 2.4576\n",
      "Epoch 10/50\n",
      "13/13 [==============================] - 12s 933ms/step - loss: 2.4452 - val_loss: 2.4388\n",
      "Epoch 11/50\n",
      "13/13 [==============================] - 12s 923ms/step - loss: 2.4202 - val_loss: 2.4334\n",
      "Epoch 12/50\n",
      "13/13 [==============================] - 12s 931ms/step - loss: 2.3995 - val_loss: 2.3980\n",
      "Epoch 13/50\n",
      "13/13 [==============================] - 12s 928ms/step - loss: 2.3831 - val_loss: 2.3962\n",
      "Epoch 14/50\n",
      "13/13 [==============================] - 12s 923ms/step - loss: 2.3684 - val_loss: 2.3688\n",
      "Epoch 15/50\n",
      "13/13 [==============================] - 12s 935ms/step - loss: 2.3532 - val_loss: 2.3559\n",
      "Epoch 16/50\n",
      "13/13 [==============================] - 12s 919ms/step - loss: 2.3407 - val_loss: 2.3460\n",
      "Epoch 17/50\n",
      "13/13 [==============================] - 12s 919ms/step - loss: 2.3197 - val_loss: 2.3369\n",
      "Epoch 18/50\n",
      "13/13 [==============================] - 12s 929ms/step - loss: 2.3049 - val_loss: 2.3181\n",
      "Epoch 19/50\n",
      "13/13 [==============================] - 12s 928ms/step - loss: 2.2827 - val_loss: 2.3048\n",
      "Epoch 20/50\n",
      "13/13 [==============================] - 12s 924ms/step - loss: 2.2577 - val_loss: 2.2838\n",
      "Epoch 21/50\n",
      "13/13 [==============================] - 12s 937ms/step - loss: 2.2390 - val_loss: 2.2555\n",
      "Epoch 22/50\n",
      "13/13 [==============================] - 12s 925ms/step - loss: 2.2151 - val_loss: 2.2343\n",
      "Epoch 23/50\n",
      "13/13 [==============================] - 12s 925ms/step - loss: 2.1908 - val_loss: 2.2337\n",
      "Epoch 24/50\n",
      "13/13 [==============================] - 12s 939ms/step - loss: 2.1752 - val_loss: 2.2081\n",
      "Epoch 25/50\n",
      "13/13 [==============================] - 12s 929ms/step - loss: 2.1447 - val_loss: 2.1926\n",
      "Epoch 26/50\n",
      "13/13 [==============================] - 12s 927ms/step - loss: 2.1322 - val_loss: 2.1699\n",
      "Epoch 27/50\n",
      "13/13 [==============================] - 12s 933ms/step - loss: 2.1070 - val_loss: 2.1536\n",
      "Epoch 28/50\n",
      "13/13 [==============================] - 12s 926ms/step - loss: 2.0861 - val_loss: 2.1477\n",
      "Epoch 29/50\n",
      "13/13 [==============================] - 12s 927ms/step - loss: 2.0700 - val_loss: 2.1266\n",
      "Epoch 30/50\n",
      "13/13 [==============================] - 12s 926ms/step - loss: 2.0500 - val_loss: 2.1191\n",
      "Epoch 31/50\n",
      "13/13 [==============================] - 12s 924ms/step - loss: 2.0324 - val_loss: 2.1060\n",
      "Epoch 32/50\n",
      "13/13 [==============================] - 12s 926ms/step - loss: 2.0172 - val_loss: 2.0842\n",
      "Epoch 33/50\n",
      "13/13 [==============================] - 12s 931ms/step - loss: 1.9988 - val_loss: 2.1010\n",
      "Epoch 34/50\n",
      "13/13 [==============================] - 12s 930ms/step - loss: 1.9834 - val_loss: 2.0797\n",
      "Epoch 35/50\n",
      "13/13 [==============================] - 12s 933ms/step - loss: 1.9657 - val_loss: 2.0678\n",
      "Epoch 36/50\n",
      "13/13 [==============================] - 12s 924ms/step - loss: 1.9515 - val_loss: 2.0512\n",
      "Epoch 37/50\n",
      "13/13 [==============================] - 12s 925ms/step - loss: 1.9372 - val_loss: 2.0381\n",
      "Epoch 38/50\n",
      "13/13 [==============================] - 12s 933ms/step - loss: 1.9192 - val_loss: 2.0316\n",
      "Epoch 39/50\n",
      "13/13 [==============================] - 12s 924ms/step - loss: 1.9058 - val_loss: 2.0210\n",
      "Epoch 40/50\n",
      "13/13 [==============================] - 12s 921ms/step - loss: 1.8908 - val_loss: 2.0156\n",
      "Epoch 41/50\n",
      "13/13 [==============================] - 12s 925ms/step - loss: 1.8745 - val_loss: 2.0134\n",
      "Epoch 42/50\n",
      "13/13 [==============================] - 12s 923ms/step - loss: 1.8652 - val_loss: 2.0031\n",
      "Epoch 43/50\n",
      "13/13 [==============================] - 12s 927ms/step - loss: 1.8514 - val_loss: 1.9898\n",
      "Epoch 44/50\n",
      "13/13 [==============================] - 12s 931ms/step - loss: 1.8401 - val_loss: 1.9938\n",
      "Epoch 45/50\n",
      "13/13 [==============================] - 12s 937ms/step - loss: 1.8268 - val_loss: 1.9839\n",
      "Epoch 46/50\n",
      "13/13 [==============================] - 12s 928ms/step - loss: 1.8146 - val_loss: 1.9837\n",
      "Epoch 47/50\n",
      "13/13 [==============================] - 12s 934ms/step - loss: 1.8063 - val_loss: 1.9831\n",
      "Epoch 48/50\n",
      "13/13 [==============================] - 12s 922ms/step - loss: 1.7957 - val_loss: 1.9763\n",
      "Epoch 49/50\n",
      "13/13 [==============================] - 12s 927ms/step - loss: 1.7829 - val_loss: 1.9703\n",
      "Epoch 50/50\n",
      "13/13 [==============================] - 12s 924ms/step - loss: 1.7731 - val_loss: 1.9676\n",
      "CPU times: user 6min 37s, sys: 10.9 s, total: 6min 48s\n",
      "Wall time: 10min 46s\n"
     ]
    }
   ],
   "source": [
    "%%time\n",
    "model.compile(optimizer='rmsprop', loss='sparse_categorical_crossentropy')\n",
    "es = EarlyStopping(monitor='val_loss', patience=10, verbose=1)\n",
    "\n",
    "checkpoint_filepath = os.getcwd() + './ckpt/summary_checkpoint.model.keras'\n",
    "# print(checkpoint_filepath)\n",
    "\n",
    "model_checkpoint_callback = keras.callbacks.ModelCheckpoint(\n",
    "    filepath=checkpoint_filepath,\n",
    "    monitor='val_loss',\n",
    "    mode='auto',\n",
    "    save_best_only=True)\n",
    "\n",
    "history = model.fit(x=[encoder_input_train, decoder_input_train], y=decoder_target_train, \\\n",
    "          validation_data=([encoder_input_test, decoder_input_test], decoder_target_test), \\\n",
    "        #   batch_size=256,\n",
    "          batch_size=4096, \n",
    "          callbacks=[es, model_checkpoint_callback], epochs=50)\n"
   ]
  },
  {
   "cell_type": "markdown",
   "id": "baad36c9",
   "metadata": {},
   "source": [
    "'조기 종료'를 뜻하는 EarlyStopping은 특정 조건이 충족되면 훈련을 멈추는 역할을 해요.\n",
    "\n",
    "> es = EarlyStopping(monitor='val_loss', patience=2, verbose=1)\n",
    "\n",
    "\n",
    "위 코드에서는 val_loss(검증 데이터의 손실)을 관찰하다가, 검증 데이터의 손실이 줄어들지 않고 증가하는 현상이 2회(patience=2) 관측되면 학습을 멈추도록 설정돼 있어요. EarlyStopping이 작동한다면 epochs가 아무리 크게 설정되어 있어도 모델 훈련을 최적점에서 멈출 수 있겠네요.\n",
    "\n",
    "EarlyStopping에 대한 자세한 내용은 아래 링크를 참고하세요! 자주 쓰이는 도구이니 자세히 알아두면 매우 도움이 될 거예요!!\n",
    "\n",
    "[Early Stopping](https://www.tensorflow.org/api_docs/python/tf/keras/callbacks/EarlyStopping)\n",
    "\n",
    "### Q. Early Stopping을 사용할 경우 조심해야 하는 경우가 있는데, 어떤 경우일까요?"
   ]
  },
  {
   "cell_type": "markdown",
   "id": "b9c18acb",
   "metadata": {},
   "source": [
    "patience가 0이 아닌 경우에는 훈련이 종료되었을 때 성능이 최고인 상황이 아닐 수 있습니다. 예를들어 patience가 3인 경우, 15 epoch에서 loss가 감소하다가 16 epoch부터 loss가 증가한다면 18 epoch 때 모델을 저장하고 학습을 종료합니다. \n",
    "> 그래서 학습 중에 모델을 저장하는 callback 함수를 같이 사용한다.\n"
   ]
  },
  {
   "cell_type": "markdown",
   "id": "2126e019",
   "metadata": {},
   "source": [
    "이제 훈련 데이터의 손실과 검증 데이터의 손실이 줄어드는 과정을 시각화 해봐요."
   ]
  },
  {
   "cell_type": "code",
   "execution_count": 109,
   "id": "8e667d1f",
   "metadata": {},
   "outputs": [
    {
     "data": {
      "image/png": "[encoded data removed]",
      "text/plain": [
       "<Figure size 432x288 with 1 Axes>"
      ]
     },
     "metadata": {
      "needs_background": "light"
     },
     "output_type": "display_data"
    }
   ],
   "source": [
    "plt.plot(history.history['loss'], label='train')\n",
    "plt.plot(history.history['val_loss'], label='test')\n",
    "plt.legend()\n",
    "plt.show()"
   ]
  },
  {
   "cell_type": "markdown",
   "id": "b1434c1c",
   "metadata": {},
   "source": [
    "10분간 돌았고, Early stop을 적용했지만 50epoch을 다 돌았다. 확실한 Saturation을 위해서 50번 더 돌려봐야 할 것 같다."
   ]
  },
  {
   "cell_type": "code",
   "execution_count": 111,
   "id": "c8ec1408",
   "metadata": {},
   "outputs": [
    {
     "name": "stderr",
     "output_type": "stream",
     "text": [
      "WARNING:absl:Found untraced functions such as lstm_cell_12_layer_call_fn, lstm_cell_12_layer_call_and_return_conditional_losses, lstm_cell_13_layer_call_fn, lstm_cell_13_layer_call_and_return_conditional_losses, lstm_cell_14_layer_call_fn while saving (showing 5 of 20). These functions will not be directly callable after loading.\n"
     ]
    },
    {
     "name": "stdout",
     "output_type": "stream",
     "text": [
      "INFO:tensorflow:Assets written to: saved_model/my_model/assets\n"
     ]
    },
    {
     "name": "stderr",
     "output_type": "stream",
     "text": [
      "INFO:tensorflow:Assets written to: saved_model/my_model/assets\n"
     ]
    }
   ],
   "source": [
    "# 모델 체크포인트 저장\n",
    "model.save('saved_model/my_model')"
   ]
  },
  {
   "cell_type": "code",
   "execution_count": 118,
   "id": "2c0845f4",
   "metadata": {
    "scrolled": true
   },
   "outputs": [
    {
     "name": "stdout",
     "output_type": "stream",
     "text": [
      "Model: \"model_7\"\n",
      "__________________________________________________________________________________________________\n",
      "Layer (type)                    Output Shape         Param #     Connected to                     \n",
      "==================================================================================================\n",
      "input_7 (InputLayer)            [(None, 50)]         0                                            \n",
      "__________________________________________________________________________________________________\n",
      "embedding_6 (Embedding)         (None, 50, 128)      1024000     input_7[0][0]                    \n",
      "__________________________________________________________________________________________________\n",
      "lstm_12 (LSTM)                  [(None, 50, 256), (N 394240      embedding_6[0][0]                \n",
      "__________________________________________________________________________________________________\n",
      "input_8 (InputLayer)            [(None, None)]       0                                            \n",
      "__________________________________________________________________________________________________\n",
      "lstm_13 (LSTM)                  [(None, 50, 256), (N 525312      lstm_12[0][0]                    \n",
      "__________________________________________________________________________________________________\n",
      "embedding_7 (Embedding)         (None, None, 128)    256000      input_8[0][0]                    \n",
      "__________________________________________________________________________________________________\n",
      "lstm_14 (LSTM)                  [(None, 50, 256), (N 525312      lstm_13[0][0]                    \n",
      "__________________________________________________________________________________________________\n",
      "lstm_15 (LSTM)                  [(None, None, 256),  394240      embedding_7[0][0]                \n",
      "                                                                 lstm_14[0][1]                    \n",
      "                                                                 lstm_14[0][2]                    \n",
      "__________________________________________________________________________________________________\n",
      "attention_layer (AdditiveAttent (None, None, 256)    256         lstm_15[0][0]                    \n",
      "                                                                 lstm_14[0][0]                    \n",
      "__________________________________________________________________________________________________\n",
      "concat_layer (Concatenate)      (None, None, 512)    0           lstm_15[0][0]                    \n",
      "                                                                 attention_layer[0][0]            \n",
      "__________________________________________________________________________________________________\n",
      "dense_7 (Dense)                 (None, None, 2000)   1026000     concat_layer[0][0]               \n",
      "==================================================================================================\n",
      "Total params: 4,145,360\n",
      "Trainable params: 4,145,360\n",
      "Non-trainable params: 0\n",
      "__________________________________________________________________________________________________\n"
     ]
    }
   ],
   "source": [
    "# 50에폭 추가로 학습 진행하기\n",
    "new_model = keras.models.load_model('saved_model/my_model')\n",
    "new_model.summary()"
   ]
  },
  {
   "cell_type": "code",
   "execution_count": 119,
   "id": "63497022",
   "metadata": {
    "scrolled": true
   },
   "outputs": [
    {
     "name": "stdout",
     "output_type": "stream",
     "text": [
      "Epoch 1/50\n",
      "13/13 [==============================] - 18s 1s/step - loss: 1.8030 - val_loss: 1.9565\n",
      "Epoch 2/50\n",
      "13/13 [==============================] - 12s 933ms/step - loss: 1.7523 - val_loss: 1.9522\n",
      "Epoch 3/50\n",
      "13/13 [==============================] - 12s 940ms/step - loss: 1.7421 - val_loss: 1.9551\n",
      "Epoch 4/50\n",
      "13/13 [==============================] - 12s 929ms/step - loss: 1.7317 - val_loss: 1.9550\n",
      "Epoch 5/50\n",
      "13/13 [==============================] - 12s 925ms/step - loss: 1.7193 - val_loss: 1.9481\n",
      "Epoch 6/50\n",
      "13/13 [==============================] - 12s 920ms/step - loss: 1.7096 - val_loss: 1.9423\n",
      "Epoch 7/50\n",
      "13/13 [==============================] - 12s 920ms/step - loss: 1.7027 - val_loss: 1.9440\n",
      "Epoch 8/50\n",
      "13/13 [==============================] - 12s 926ms/step - loss: 1.6920 - val_loss: 1.9405\n",
      "Epoch 9/50\n",
      "13/13 [==============================] - 12s 922ms/step - loss: 1.6823 - val_loss: 1.9478\n",
      "Epoch 10/50\n",
      "13/13 [==============================] - 12s 927ms/step - loss: 1.6730 - val_loss: 1.9374\n",
      "Epoch 11/50\n",
      "13/13 [==============================] - 12s 930ms/step - loss: 1.6646 - val_loss: 1.9366\n",
      "Epoch 12/50\n",
      "13/13 [==============================] - 12s 929ms/step - loss: 1.6572 - val_loss: 1.9383\n",
      "Epoch 13/50\n",
      "13/13 [==============================] - 12s 924ms/step - loss: 1.6435 - val_loss: 1.9357\n",
      "Epoch 14/50\n",
      "13/13 [==============================] - 12s 925ms/step - loss: 1.6376 - val_loss: 1.9347\n",
      "Epoch 15/50\n",
      "13/13 [==============================] - 12s 926ms/step - loss: 1.6270 - val_loss: 1.9343\n",
      "Epoch 16/50\n",
      "13/13 [==============================] - 12s 931ms/step - loss: 1.6204 - val_loss: 1.9350\n",
      "Epoch 17/50\n",
      "13/13 [==============================] - 12s 928ms/step - loss: 1.6113 - val_loss: 1.9291\n",
      "Epoch 18/50\n",
      "13/13 [==============================] - 12s 929ms/step - loss: 1.6007 - val_loss: 1.9406\n",
      "Epoch 19/50\n",
      "13/13 [==============================] - 12s 933ms/step - loss: 1.5952 - val_loss: 1.9375\n",
      "Epoch 20/50\n",
      "13/13 [==============================] - 12s 931ms/step - loss: 1.5882 - val_loss: 1.9291\n",
      "Epoch 21/50\n",
      "13/13 [==============================] - 12s 930ms/step - loss: 1.5765 - val_loss: 1.9277\n",
      "Epoch 22/50\n",
      "13/13 [==============================] - 12s 928ms/step - loss: 1.5693 - val_loss: 1.9295\n",
      "Epoch 23/50\n",
      "13/13 [==============================] - 12s 933ms/step - loss: 1.5603 - val_loss: 1.9287\n",
      "Epoch 24/50\n",
      "13/13 [==============================] - 12s 926ms/step - loss: 1.5525 - val_loss: 1.9299\n",
      "Epoch 25/50\n",
      "13/13 [==============================] - 12s 923ms/step - loss: 1.5462 - val_loss: 1.9311\n",
      "Epoch 26/50\n",
      "13/13 [==============================] - 12s 925ms/step - loss: 1.5360 - val_loss: 1.9305\n",
      "Epoch 27/50\n",
      "13/13 [==============================] - 12s 918ms/step - loss: 1.5263 - val_loss: 1.9282\n",
      "Epoch 28/50\n",
      "13/13 [==============================] - 12s 930ms/step - loss: 1.5238 - val_loss: 1.9263\n",
      "Epoch 29/50\n",
      "13/13 [==============================] - 12s 923ms/step - loss: 1.5120 - val_loss: 1.9311\n",
      "Epoch 30/50\n",
      "13/13 [==============================] - 12s 926ms/step - loss: 1.5063 - val_loss: 1.9293\n",
      "Epoch 31/50\n",
      "13/13 [==============================] - 12s 922ms/step - loss: 1.4968 - val_loss: 1.9329\n",
      "Epoch 32/50\n",
      "13/13 [==============================] - 12s 928ms/step - loss: 1.4913 - val_loss: 1.9302\n",
      "Epoch 33/50\n",
      "13/13 [==============================] - 12s 930ms/step - loss: 1.4817 - val_loss: 1.9317\n",
      "Epoch 34/50\n",
      "13/13 [==============================] - 12s 928ms/step - loss: 1.4756 - val_loss: 1.9355\n",
      "Epoch 35/50\n",
      "13/13 [==============================] - 12s 927ms/step - loss: 1.4667 - val_loss: 1.9344\n",
      "Epoch 36/50\n",
      "13/13 [==============================] - 12s 931ms/step - loss: 1.4612 - val_loss: 1.9351\n",
      "Epoch 37/50\n",
      "13/13 [==============================] - 12s 919ms/step - loss: 1.4502 - val_loss: 1.9415\n",
      "Epoch 38/50\n",
      "13/13 [==============================] - 12s 928ms/step - loss: 1.4463 - val_loss: 1.9390\n",
      "Epoch 00038: early stopping\n"
     ]
    }
   ],
   "source": [
    "history = new_model.fit(x=[encoder_input_train, decoder_input_train], y=decoder_target_train, \\\n",
    "          validation_data=([encoder_input_test, decoder_input_test], decoder_target_test), \\\n",
    "        #   batch_size=256,\n",
    "          batch_size=4096, \n",
    "          callbacks=[es, model_checkpoint_callback], epochs=50)"
   ]
  },
  {
   "cell_type": "code",
   "execution_count": 120,
   "id": "7cac3fe6",
   "metadata": {
    "scrolled": false
   },
   "outputs": [
    {
     "data": {
      "image/png": "[encoded data removed]",
      "text/plain": [
       "<Figure size 432x288 with 1 Axes>"
      ]
     },
     "metadata": {
      "needs_background": "light"
     },
     "output_type": "display_data"
    }
   ],
   "source": [
    "# 38에폭 추가 학습 후 플롯\n",
    "plt.plot(history.history['loss'], label='train')\n",
    "plt.plot(history.history['val_loss'], label='test')\n",
    "plt.legend()\n",
    "plt.show()"
   ]
  },
  {
   "cell_type": "markdown",
   "id": "d9494cbc",
   "metadata": {},
   "source": [
    "- 추가학습이 된 것이 점점 Overfit이 되는 경향을 확인.\n",
    "- val_loss기준으로 1.94정도가 되는 에폭이 적절한 성능에 해당할 것 같다."
   ]
  },
  {
   "cell_type": "code",
   "execution_count": 121,
   "id": "37c407a5",
   "metadata": {},
   "outputs": [
    {
     "name": "stderr",
     "output_type": "stream",
     "text": [
      "WARNING:absl:Found untraced functions such as lstm_cell_20_layer_call_fn, lstm_cell_20_layer_call_and_return_conditional_losses, lstm_cell_21_layer_call_fn, lstm_cell_21_layer_call_and_return_conditional_losses, lstm_cell_22_layer_call_fn while saving (showing 5 of 20). These functions will not be directly callable after loading.\n"
     ]
    },
    {
     "name": "stdout",
     "output_type": "stream",
     "text": [
      "INFO:tensorflow:Assets written to: saved_model/my_model_100epochs/assets\n"
     ]
    },
    {
     "name": "stderr",
     "output_type": "stream",
     "text": [
      "INFO:tensorflow:Assets written to: saved_model/my_model_100epochs/assets\n"
     ]
    }
   ],
   "source": [
    "new_model.save('saved_model/my_model_100epochs')"
   ]
  },
  {
   "cell_type": "markdown",
   "id": "a8f155a4",
   "metadata": {},
   "source": [
    "## 인퍼런스 모델 구현하기"
   ]
  },
  {
   "cell_type": "markdown",
   "id": "c25e4b7a",
   "metadata": {},
   "source": [
    "테스트 단계에서는 정수 인덱스 행렬로 존재하던 텍스트 데이터를   \n",
    "<span style=\"color:blue\"> 실제 데이터로 복원해야 하므로, 필요한 3개의 사전을 아래와 같이 미리 준비</span>해 둡니다."
   ]
  },
  {
   "cell_type": "code",
   "execution_count": 123,
   "id": "7a6894d2",
   "metadata": {},
   "outputs": [],
   "source": [
    "src_index_to_word = src_tokenizer.index_word # 원문 단어 집합에서 정수 -> 단어를 얻음\n",
    "tar_word_to_index = tar_tokenizer.word_index # 요약 단어 집합에서 단어 -> 정수를 얻음\n",
    "tar_index_to_word = tar_tokenizer.index_word # 요약 단어 집합에서 정수 -> 단어를 얻음"
   ]
  },
  {
   "cell_type": "markdown",
   "id": "f814cc9c",
   "metadata": {},
   "source": [
    "seq2seq는 훈련할 때와 <span style=\"color:blue\"> 실제 동작할 때(인퍼런스 단계)의 방식이 다르므로 그에 맞게 모델 설계를 별개로 진행해야 한다</span>는 것, 알고 계시나요?\n",
    "\n",
    "훈련 단계에서는 디코더의 입력부에 정답이 되는 문장 전체를 한꺼번에 넣고 디코더의 출력과 한 번에 비교할 수 있으므로, 인코더와 디코더를 엮은 통짜 모델 하나만 준비했습니다.\n",
    "\n",
    "그러나 <span style=\"color:red\"> 정답 문장이 없는 인퍼런스 단계에서는 만들어야 할 문장의 길이만큼 디코더가 반복 구조로 동작해야 하기 때문에 부득이하게 인퍼런스를 위한 모델 설계를</span> 별도로 해주어야 합니다. 이때는 인코더 모델과 디코더 모델을 분리해서 설계합니다."
   ]
  },
  {
   "cell_type": "code",
   "execution_count": 124,
   "id": "404325fb",
   "metadata": {},
   "outputs": [],
   "source": [
    "# 인코더 설계\n",
    "encoder_model = Model(inputs=encoder_inputs, outputs=[encoder_outputs, state_h, state_c])\n",
    "\n",
    "# 이전 시점의 상태들을 저장하는 텐서\n",
    "decoder_state_input_h = Input(shape=(hidden_size,))\n",
    "decoder_state_input_c = Input(shape=(hidden_size,))\n",
    "\n",
    "dec_emb2 = dec_emb_layer(decoder_inputs)\n",
    "\n",
    "# 문장의 다음 단어를 예측하기 위해서 초기 상태(initial_state)를 이전 시점의 상태로 사용. 이는 뒤의 함수 decode_sequence()에 구현\n",
    "# 훈련 과정에서와 달리 LSTM의 리턴하는 은닉 상태와 셀 상태인 state_h와 state_c를 버리지 않음.\n",
    "decoder_outputs2, state_h2, state_c2 = decoder_lstm(dec_emb2, initial_state=[decoder_state_input_h, decoder_state_input_c])\n"
   ]
  },
  {
   "cell_type": "markdown",
   "id": "b9b6f4bc",
   "metadata": {},
   "source": [
    "어텐션 메커니즘을 사용하는 출력층을 설계해 주세요."
   ]
  },
  {
   "cell_type": "code",
   "execution_count": 125,
   "id": "8d3fd779",
   "metadata": {},
   "outputs": [],
   "source": [
    "# 어텐션 함수\n",
    "decoder_hidden_state_input = Input(shape=(text_max_len, hidden_size))\n",
    "\n",
    "attn_out_inf = attn_layer([decoder_outputs2, decoder_hidden_state_input]) # 2개 입력 시 : query, value = key\n",
    "# decoder의 hidden상태가 key, val로 사용되고, 출력값이 query로 사용\n",
    "# Additive attention : \n",
    "# Inputs are a list with 2 or 3 elements:\n",
    "# A query tensor of shape (batch_size, Tq, dim).\n",
    "# A value tensor of shape (batch_size, Tv, dim).\n",
    "# A optional \"key\" tensor of shape (batch_size, Tv, dim). If none supplied, value will be used as key.\n",
    "\n",
    "decoder_inf_concat = Concatenate(axis=-1, name='concat')([decoder_outputs2, attn_out_inf]) \n",
    "\n",
    "# 디코더의 출력층\n",
    "decoder_outputs2 = decoder_softmax_layer(decoder_inf_concat) \n",
    "\n",
    "# 최종 디코더 모델\n",
    "decoder_model = Model(\n",
    "    [decoder_inputs] + [decoder_hidden_state_input,decoder_state_input_h, decoder_state_input_c], # 4개의 입력\n",
    "    [decoder_outputs2] + [state_h2, state_c2]) #3개의 output\n"
   ]
  },
  {
   "cell_type": "markdown",
   "id": "808c7852",
   "metadata": {},
   "source": [
    "인퍼런스 단계에서 단어 시퀀스를 완성하는 함수를 만들어주세요."
   ]
  },
  {
   "cell_type": "code",
   "execution_count": 127,
   "id": "efce8d6e",
   "metadata": {},
   "outputs": [],
   "source": [
    "# 추론\n",
    "def decode_sequence(input_seq):\n",
    "    # 1. 입력으로부터 인코더의 상태를 얻음\n",
    "    e_out, e_h, e_c = encoder_model.predict(input_seq)\n",
    "    \n",
    "     # <SOS>에 해당하는 토큰 생성 - 디코더에 입력하려고\n",
    "    target_seq = np.zeros((1,1))\n",
    "    target_seq[0, 0] = tar_word_to_index['sostoken'] # 토큰정보(1)을 입력 - 디코더가 1을 인식하여 문장을 계속해서 출력하게\n",
    "\n",
    "    # eos token 발견 시 조건 저장용\n",
    "    stop_condition = False\n",
    "    # 토큰 정보를 기록\n",
    "    decoded_sentence = ''\n",
    "    \n",
    "    while not stop_condition: # stop_condition이 True가 될 때까지 루프 반복\n",
    "        # 토큰값이 저장된 target_seq,과 인코더에 넣어서 나온 대표정보 값을 디코더에 넣어서 결과값(softmax)를 도출한다.\n",
    "        # h, c -> 다음 예측에 사용할 값들\n",
    "        output_tokens, h, c = decoder_model.predict([target_seq] + [e_out, e_h, e_c]) \n",
    "        # output_tokens에서 가장 확률이 높은 것의 index를 추출해서\n",
    "        sampled_token_index = np.argmax(output_tokens[0, -1, :])\n",
    "        \n",
    "        # 단어로 변환한다.\n",
    "        sampled_token = tar_index_to_word[sampled_token_index]\n",
    "        \n",
    "        # 변환한 토큰이 eos가 아니면 반환문자에 추가 해 준다.\n",
    "        if (sampled_token!='eostoken'):\n",
    "            decoded_sentence += ' '+sampled_token\n",
    "\n",
    "        #  <eos>에 도달하거나 '최대 길이를 넘으면' 중단.\n",
    "        if (sampled_token == 'eostoken'  or len(decoded_sentence.split()) >= (summary_max_len-1)):\n",
    "            stop_condition = True\n",
    "\n",
    "        # 길이가 1인 타겟 시퀀스를 업데이트 (디코더의 개별 결과를 출력하기 위한 임시변수?)\n",
    "        target_seq = np.zeros((1,1))\n",
    "\n",
    "        # 다음 예측을 위해 활용\n",
    "        target_seq[0, 0] = sampled_token_index\n",
    "        # 상태를 업데이트 합니다.\n",
    "        e_h, e_c = h, c\n",
    "\n",
    "    return decoded_sentence"
   ]
  },
  {
   "cell_type": "markdown",
   "id": "28cb2cf3",
   "metadata": {},
   "source": [
    "### Q. 정답 문장이 없는 추론(inference) 단계에서는 왜 모델 설계를 별도로 해주어야 하나요?\n",
    "\n"
   ]
  },
  {
   "cell_type": "markdown",
   "id": "4eabee42",
   "metadata": {},
   "source": [
    "생성해야 할 <span style=\"color:blue\"> 문장의 길이만큼 디코더가 반복 구조로 동작</span>해야 하기 때문입니다.\n",
    "\n"
   ]
  },
  {
   "cell_type": "markdown",
   "id": "6ea2dd45",
   "metadata": {},
   "source": [
    "## 학습된 모델과 추론의 모델이 인스턴스명이 약간 다른데, 어떻게 가중치를 가져올까?\n",
    "- 추론(텍스트 생성)에 사용되는 decode_sequence에서는 model이 아닌 encoder_model, decoder_model로 인스턴스가 쪼개져서 들어오고, 그 과정에서 각 모델에 load_weights 등의 절차가 없이 가중치가 반영이 되어있을까?에 대한 궁금증이 생겨서 알아보게 되었음."
   ]
  },
  {
   "cell_type": "markdown",
   "id": "1be54842",
   "metadata": {},
   "source": [
    "## 모델 테스트하기"
   ]
  },
  {
   "cell_type": "markdown",
   "id": "079b6d88",
   "metadata": {},
   "source": [
    "테스트 단계에서는 정수 시퀀스를 <span style=\"color:blue\">텍스트 시퀀스로 변환하여 결과를 확인</span>하는 것이 편하겠죠.  \n",
    "주어진 정수 시퀀스를 텍스트 시퀀스로 변환하는 함수를 만들어볼게요. \n",
    "함수를 만들 때, Text의 정수 시퀀스에서는 패딩을 위해 사용되는 숫자 0을 제외하고  \n",
    "Summary의 정수 시퀀스에서는 숫자 0, 시작 토큰의 인덱스, 종료 토큰의 인덱스를 출력에서 제외하도록 만들 거예요.\n",
    "\n",
    "### Q. seq2text 함수처럼 요약문의 정수 시퀀스를 텍스트로 변환하는 seq2summary 함수 코드를 작성하세요.\n",
    "(힌트 : 요약문에는 sostoken과 eostoken을 고려해야 함)"
   ]
  },
  {
   "cell_type": "code",
   "execution_count": 128,
   "id": "eabb8b8e",
   "metadata": {},
   "outputs": [],
   "source": [
    "# 원문의 정수 시퀀스를 텍스트 시퀀스로 변환\n",
    "def seq2text(input_seq):\n",
    "    temp=''\n",
    "    for i in input_seq:\n",
    "        if (i!=0):\n",
    "            temp = temp + src_index_to_word[i]+' '\n",
    "    return temp\n",
    "\n",
    "# 요약문의 정수 시퀀스를 텍스트 시퀀스로 변환\n",
    "# 1 : sostoken, 2 : eostoken을 확인\n",
    "\n",
    "def seq2summary(input_seq):\n",
    "    temp = ''\n",
    "    for i in input_seq : \n",
    "        if (i>2):\n",
    "            temp = temp + tar_index_to_word[i] + ' '\n",
    "\n",
    "    return temp"
   ]
  },
  {
   "cell_type": "markdown",
   "id": "49f0f96b",
   "metadata": {},
   "source": [
    "테스트 데이터 약 50개의 샘플에 대해서 실제 요약과 예측된 요약을 비교해보세요."
   ]
  },
  {
   "cell_type": "code",
   "execution_count": 129,
   "id": "779128b5",
   "metadata": {},
   "outputs": [
    {
     "name": "stdout",
     "output_type": "stream",
     "text": [
      "원문 : sampler box purchased another sampler box tea tea gift christmas gift hit conjunction rest gift recipient gift enjoying using gifts lasted two months still plenty gift left try talk gift lasting longer wrapping paper one best recieved used gifts christmas \n",
      "실제 요약 : tea \n",
      "예측 요약 :  great product\n",
      "\n",
      "\n",
      "원문 : feel like get enough noodles money incredibly expensive many noodles feel full noodles smell take package however cook rather easily stick together take water put paper make sure lay otherwise issues later taste make sure stir fry let simmer whatever using otherwise disappointed sorry buy much money \n",
      "실제 요약 : overpriced \n",
      "예측 요약 :  not what expected\n",
      "\n",
      "\n",
      "원문 : trying low carb product works great website make pancakes variety items turn pretty great try great product \n",
      "실제 요약 : awesome product \n",
      "예측 요약 :  great product\n",
      "\n",
      "\n",
      "원문 : coffee best aroma great medium taste replaced starbucks pike peak roast husband like taste better store sealed container mind cannot store drawer cups overall morning experience pleasant \n",
      "실제 요약 : very nice medium roast \n",
      "예측 요약 :  great coffee\n",
      "\n",
      "\n",
      "원문 : various mothers laws etc buy mother day decided order flowers amazon ease convenient way send flowers multiple recipients hoped flowers would look okay fact thrilled everyone received raved recipients stated flowers packed fresh beautiful lasted long time use pro flowers future flower purchases \n",
      "실제 요약 : expectations \n",
      "예측 요약 :  great product\n",
      "\n",
      "\n",
      "원문 : bought treating symptoms life saver thank \n",
      "실제 요약 : great product \n",
      "예측 요약 :  not what expected\n",
      "\n",
      "\n",
      "원문 : blend really since coffee drinker less thrilled purchase however went today added tablespoon hazelnut matcha basic scone recipe could happier addition hazelnut know matcha makes healthier alternative cookies eating black teas \n",
      "실제 요약 : dream come true \n",
      "예측 요약 :  great product\n",
      "\n",
      "\n",
      "원문 : love noodles cook right drain rinse tasty drain rinse little scent soy left add hot pan little coconut oil add garlic onion red pepper flakes little salt cook eat em like ramen slice cheese good diet food \n",
      "실제 요약 : yummy if you can cook \n",
      "예측 요약 :  great product\n",
      "\n",
      "\n",
      "원문 : bought costco perfect pack dollars best price think carry forever thinking subscription costco runs one taste favorite \n",
      "실제 요약 : major yum \n",
      "예측 요약 :  great product\n",
      "\n",
      "\n",
      "원문 : get product per petsmart per walmart cans petsmart cans walmart \n",
      "실제 요약 : do the \n",
      "예측 요약 :  great product\n",
      "\n",
      "\n",
      "원문 : researched quite bit formulas really set organic formula one first choice received son actually liked happy bloating gas likes taste definitely would recommend \n",
      "실제 요약 : very happy with purchase \n",
      "예측 요약 :  good product\n",
      "\n",
      "\n",
      "원문 : plain good coffee nothing fancy roast medium flavor smooth like fancy flavored coffees good breakfast coffee \n",
      "실제 요약 : good coffee \n",
      "예측 요약 :  great coffee\n",
      "\n",
      "\n",
      "원문 : little different pork however dogs love weruva brands good simple food made well animals meat need \n",
      "실제 요약 : different canned food for dogs \n",
      "예측 요약 :  great product\n",
      "\n",
      "\n",
      "원문 : makes good pot decaf nothing remarkable served many guests comments nobody asked us nobody spit either smooth strong preference would hesitate buy would go way either \n",
      "실제 요약 : good nothing \n",
      "예측 요약 :  not as advertised\n",
      "\n",
      "\n",
      "원문 : baby loves regular bowel movements maybe probiotics got dha good eye brain development sometimes mix veggies fruits gobbles hungry plus organic food highly recommended \n",
      "실제 요약 : one happy baby here \n",
      "예측 요약 :  great product\n",
      "\n",
      "\n",
      "원문 : good shampoo always good hygiene products made men lathers rich bad smell leaves hair feeling full much dandruff use much product hair like gel etc recommend add product men list shampoos use \n",
      "실제 요약 : decent shampoo \n",
      "예측 요약 :  great product\n",
      "\n",
      "\n",
      "원문 : food life created bread use recipe make pasta amazing quick cooking takes minutes overcook rock hard softest pasta tasted healthy add oil stick \n",
      "실제 요약 : pasta \n",
      "예측 요약 :  best bread ever\n",
      "\n",
      "\n",
      "원문 : love starbucks sumatra first thing morning always early enough take starbucks kcups perfect delicious fav coffee even take love product easy order arrived quickly price good \n",
      "실제 요약 : no through at starbucks \n",
      "예측 요약 :  great coffee\n",
      "\n",
      "\n",
      "원문 : love fine cinnamon patience second best john java cinnamon sticks meet standards wonderful cinnamon flavor sweet enough sweet wonderful favorite coffee hot chocolate stand delicious snack \n",
      "실제 요약 : only the finest cinnamon \n",
      "예측 요약 :  best popcorn ever\n",
      "\n",
      "\n",
      "원문 : molasses expected sweet bitter seller reasonable shipping sent samples along molasses \n",
      "실제 요약 : molasses \n",
      "예측 요약 :  not what expected\n",
      "\n",
      "\n",
      "원문 : tried flavors every single one delicious cashews high quality fresh flavors deliciously different cashews even simple lightly salted lightly salted cashews market highly recommended even bought ones gift packaging friends love \n",
      "실제 요약 : delicious cashews \n",
      "예측 요약 :  great product\n",
      "\n",
      "\n",
      "원문 : wonderful travel snacks taste great suppose taste like something cooked new flavor key lime pie also great \n",
      "실제 요약 : taste like cherry pie \n",
      "예측 요약 :  great\n",
      "\n",
      "\n",
      "원문 : feeding dogs years healthy happy look great really happy product think find better price product amazon amazing deal costs local retailer tax still worth price purchasing local \n",
      "실제 요약 : big fan \n",
      "예측 요약 :  great product\n",
      "\n",
      "\n",
      "원문 : great combination chocolate nut could eat whole bag one sitting \n",
      "실제 요약 : delicious \n",
      "예측 요약 :  delicious\n",
      "\n",
      "\n",
      "원문 : product absolute must try substitute sugar baking desserts love low glycemic index \n",
      "실제 요약 : excellent product \n",
      "예측 요약 :  great product\n",
      "\n",
      "\n",
      "원문 : rice noodles taste pretty much alike second time ordered rice noodles amazon last two weeks discover advertised website case website states noodles made us box states product thailand appreciate \n",
      "실제 요약 : not as advertised \n",
      "예측 요약 :  great product\n",
      "\n",
      "\n",
      "원문 : tastes good nicely spicy especially breakfast somewhat sensitive msg believe need fine one day day row waking headache sure feels like msg headache guess standard supermarket ramen neither case eat one serving likely one package two servings space fine \n",
      "실제 요약 : tastes good too much msg \n",
      "예측 요약 :  not the best\n",
      "\n",
      "\n",
      "원문 : know anything chutney went known recipe found mix fruit peppers vinegar thought chutney different form marmalade wrong \n",
      "실제 요약 : not happy with the product \n",
      "예측 요약 :  not as expected\n",
      "\n",
      "\n",
      "원문 : almonds dark chocolate since decided truly good us recommend also love chocolate visited store many times living san francisco must one self cannot go wrong gift anyone enjoy \n",
      "실제 요약 : good for one health \n",
      "예측 요약 :  best chocolate ever\n",
      "\n",
      "\n",
      "원문 : cats enjoy taste seems healthy also orange hairball problems hopefully moisture help bag heavy duty sealable easy store would definitely get maybe another flavor variety \n",
      "실제 요약 : it is the \n",
      "예측 요약 :  my cat loves it\n",
      "\n",
      "\n",
      "원문 : rich chocolate taste sweet great cold winter evening topped mini certainly reccomend \n",
      "실제 요약 : green mountain hot cocoa \n",
      "예측 요약 :  great\n",
      "\n",
      "\n",
      "원문 : bought small bag canidae give try always trying new foods dogs normally serve kinds food dinner whenever put canidae dish dogs would always eat food first glad bought small bag price food appealing dogs like glad gone never buy \n",
      "실제 요약 : did not our dogs \n",
      "예측 요약 :  my dog loves it\n",
      "\n",
      "\n",
      "원문 : seasonings amazing seasoning plus olive oil great also add little bit balsamic vinegar really brings everything together \n",
      "실제 요약 : delicious \n",
      "예측 요약 :  great sauce\n",
      "\n",
      "\n",
      "원문 : buy future baby girl loved great thicker food babies learning eat textures \n",
      "실제 요약 : baby loved it \n",
      "예측 요약 :  great product\n",
      "\n",
      "\n",
      "원문 : sardines okay nothing fall tin plus shipping sardine blows water purchase tin maybe less find sold bulk going tins sardine ugh \n",
      "실제 요약 : totally over \n",
      "예측 요약 :  not as expected\n",
      "\n",
      "\n",
      "원문 : liked much ordered ordering \n",
      "실제 요약 : quick yummy unusual soup \n",
      "예측 요약 :  great product\n",
      "\n",
      "\n",
      "원문 : great price amazon gives fast great service trust order two times month would go order \n",
      "실제 요약 : brands energy \n",
      "예측 요약 :  great product\n",
      "\n",
      "\n",
      "원문 : received sickly plant could back health thinking ordering plant internet never \n",
      "실제 요약 : the worst purchase ever made from amazon \n",
      "예측 요약 :  not as pictured\n",
      "\n",
      "\n",
      "원문 : know whether fault packaging past prime rock hard flavor strong enough \n",
      "실제 요약 : kind of stale \n",
      "예측 요약 :  not what expected\n",
      "\n",
      "\n",
      "원문 : buy green clear red lentils except want butt cooking become gooey easily needs less time green lentils eat little cause lot gas never buy green lentils rock world \n",
      "실제 요약 : good for \n",
      "예측 요약 :  great product\n",
      "\n",
      "\n",
      "원문 : shipped bread overseas office well packed came fresh good office went crazy eat like toast apple butter ordering four packs \n",
      "실제 요약 : so good \n",
      "예측 요약 :  great product\n",
      "\n",
      "\n",
      "원문 : good honey price paid pack certainly buy fan pancakes waffles try honey instead syrup know also natural pain well research enjoy \n",
      "실제 요약 : feel like bear \n"
     ]
    },
    {
     "name": "stdout",
     "output_type": "stream",
     "text": [
      "예측 요약 :  great product\n",
      "\n",
      "\n",
      "원문 : bit delicious immediately grew bit tired way much salt kind person likes cashews salty peppery taste bit nice compliment tasted cashews bit lime like flavor found hard keep thinking bout much salt enough burn tongue lips cause stop eating even though tasted good \n",
      "실제 요약 : good but not that great \n",
      "예측 요약 :  spicy and tasty\n",
      "\n",
      "\n",
      "원문 : barbecue absolute best variety popchips good addictive diet would give ten stars could \n",
      "실제 요약 : cannot get enough of these \n",
      "예측 요약 :  great snack\n",
      "\n",
      "\n",
      "원문 : best jamaican curry powder taste like get non hot version control spiciness addition fresh peppers outstanding curry powder love \n",
      "실제 요약 : real taste of jamaica \n",
      "예측 요약 :  great hot sauce\n",
      "\n",
      "\n",
      "원문 : absolute best gum flavor ever really tastes like key lime pie flavor lasts long time yummy \n",
      "실제 요약 : best gum ever \n",
      "예측 요약 :  delicious\n",
      "\n",
      "\n",
      "원문 : awsome chips like black pepper love tell pepper fresh ground nice bite order \n",
      "실제 요약 : awsome \n",
      "예측 요약 :  great pasta\n",
      "\n",
      "\n",
      "원문 : well worth price large chocolate truffles taste amazing cannot wait amazon get january truffle page mini heart attack saw price purchased \n",
      "실제 요약 : omg so good \n",
      "예측 요약 :  great product\n",
      "\n",
      "\n",
      "원문 : personally loved popcorn really addictive came onto amazon see could get bulk local store started selling pack boxes vs packs think ridiculous happy able buy big box \n",
      "실제 요약 : yum \n",
      "예측 요약 :  great product\n",
      "\n",
      "\n",
      "원문 : chewing gum simply best really like peppermint flavor flavors great \n",
      "실제 요약 : the best chewing gum \n",
      "예측 요약 :  delicious\n",
      "\n",
      "\n"
     ]
    }
   ],
   "source": [
    "for i in range(50, 100):\n",
    "    print(\"원문 :\", seq2text(encoder_input_test[i]))\n",
    "    print(\"실제 요약 :\", seq2summary(decoder_input_test[i]))\n",
    "    print(\"예측 요약 :\", decode_sequence(encoder_input_test[i].reshape(1, text_max_len)))\n",
    "    print(\"\\n\")"
   ]
  },
  {
   "cell_type": "markdown",
   "id": "7052607a",
   "metadata": {},
   "source": [
    "많은 결과가 출력이 되는데, 기존의 요약과는 다른 요약을 출력하면서도 원문의 내용을 담고 있는 의미 있는 요약들이 보이네요. 심지어 일부 요약의 경우에는 원문에 없던 단어를 사용해서 요약을 하기도 하고 있어요. 워드 임베딩과 RNN의 콜라보로 이뤄낸 신기한 성과네요!\n",
    "\n",
    "물론 슬프게도 그다지 좋지 않은 요약의 예도 꽤나 보이기도 하네요. 성능을 개선하기 위해서는 seq2seq와 어텐션의 자체의 조합을 좀 더 좋게 수정하는 방법도 있고, 빔 서치(beam search), 사전 훈련된 워드 임베딩(pre-trained word embedding), 또는 인코더 - 디코더 자체의 구조를 새로이 변경한 하는 트랜스포머(Transformer)와 같은 여러 개선 방안들이 존재합니다. 이런 방안들에 대해서도 향후 살펴보게 될 것입니다."
   ]
  },
  {
   "cell_type": "markdown",
   "id": "d847ceaf",
   "metadata": {},
   "source": [
    "## 추출적 요약 해보기"
   ]
  },
  {
   "cell_type": "markdown",
   "id": "b1ab8025",
   "metadata": {},
   "source": [
    "앞서 seq2seq를 통해서 추상적 요약을 진행해봤어요. 그런데 텍스트 요약에는 추상적 요약 외에도 이미 본문에 존재하는 단어구, 문장을 뽑아서 요약으로 삼는 추출적 요약 방법도 있었죠.\n",
    "\n",
    "### Q. 우리가 앞에서 seq2seq 모델을 사용하여 추상적 요약을 했습니다. 그렇다면 추출적 요약은 무엇일까요?"
   ]
  },
  {
   "cell_type": "markdown",
   "id": "c6335749",
   "metadata": {},
   "source": [
    "추출적 요약은 원문에서 중요한 핵심 문장 또는 단어를 뽑아 구성된 요약문을 만드는 방식입니다. 그래서 생성된 문장이나 단어는 원문에 포함되어 있기 때문에, 단점으로 언어 표현 능력이 제한되어 생성된 문장이 매끄럽지 않을 수 있습니다. 대표적인 알고리즘으로는 TextRank가 있습니다."
   ]
  },
  {
   "cell_type": "markdown",
   "id": "a914a439",
   "metadata": {},
   "source": [
    "패키지 Summa에서는 추출적 요약을 위한 모듈인 summarize를 제공하고 있어 아주 간단하게 실습을 해볼 수 있어요. 영화 매트릭스 시놉시스를 요약해보면서 summarize 사용법을 익혀볼까요?\n",
    "\n",
    "### 패키지 설치\n"
   ]
  },
  {
   "cell_type": "markdown",
   "id": "e1356533",
   "metadata": {},
   "source": [
    "클라우드의 경우 이미 summa 가 설치돼있습니다. 확인해보고 싶으시면 아래 명령어를 Cloud Shell에서 실행해보세요!\n",
    "\n",
    "> $ pip list | grep summa"
   ]
  },
  {
   "cell_type": "markdown",
   "id": "499e6b3e",
   "metadata": {},
   "source": [
    "### 데이터 다운로드하기\n"
   ]
  },
  {
   "cell_type": "code",
   "execution_count": 103,
   "id": "377fbb6b",
   "metadata": {},
   "outputs": [],
   "source": [
    "import requests\n",
    "from summa.summarizer import summarize"
   ]
  },
  {
   "cell_type": "markdown",
   "id": "6976240e",
   "metadata": {},
   "source": [
    "매트릭스 시놉시스를 다운로드 해주세요."
   ]
  },
  {
   "cell_type": "code",
   "execution_count": 104,
   "id": "01c4750d",
   "metadata": {},
   "outputs": [],
   "source": [
    "text = requests.get('http://rare-technologies.com/the_matrix_synopsis.txt').text"
   ]
  },
  {
   "cell_type": "markdown",
   "id": "f75d59f4",
   "metadata": {},
   "source": [
    "이제 text에는 매트릭스 시놉시스가 문자열로 저장돼 있어요. 출력 결과가 아주 길기 때문에 일부만 출력해보고, 잘 저장이 되었는지 확인해볼게요."
   ]
  },
  {
   "cell_type": "code",
   "execution_count": 105,
   "id": "477b6f7c",
   "metadata": {},
   "outputs": [
    {
     "name": "stdout",
     "output_type": "stream",
     "text": [
      "The screen is filled with green, cascading code which gives way to the title, The Matrix.\r\n",
      "\r\n",
      "A phone rings and text appears on the screen: \"Call trans opt: received. 2-19-98 13:24:18 REC: Log>\" As a conversation takes place between Trinity (Carrie-Anne Moss) and Cypher (Joe Pantoliano), two free humans, a table of random green numbers are being scanned and individual numbers selected, creating a series of digits not unlike an ordinary phone number, as if a code is being deciphered or a call is being traced.\r\n",
      "\r\n",
      "Trinity discusses some unknown person. Cypher taunts Trinity, suggesting she enjoys watching him. Trinity counters that \"Morpheus (Laurence Fishburne) says he may be 'the One',\" just as the sound of a number being selected alerts Trinity that someone may be tracing their call. She ends the call.\r\n",
      "\r\n",
      "Armed policemen move down a darkened, decrepit hallway in the Heart O' the City Hotel, their flashlight beam bouncing just ahead of them. They come to room 303, kick down the door and find a woman dressed in black, facing away from them. It's Trinity. She brings her hands up from the laptop she's working on at their command.\r\n",
      "\r\n",
      "Outside the hotel a car drives up and three agents appear in neatly pressed black suits. They are Agent Smith (Hugo Weaving), Agent Brown (Paul Goddard), and Agent Jones (Robert Taylor). Agent Smith and the presiding police lieutenant argue. Agent Smith admonishes the policeman that they were given specific orders to contact the agents first, for their\n"
     ]
    }
   ],
   "source": [
    "print(text[:1500])"
   ]
  },
  {
   "cell_type": "markdown",
   "id": "e3273ecf",
   "metadata": {},
   "source": [
    "### summarize 사용하기\n",
    "Summa의 summarize()의 인자로 사용되는 값들에 대해서 알아볼게요.\n",
    "\n",
    "- text (str) : 요약할 테스트.\n",
    "- ratio (float, optional) – 요약문에서 원본에서 선택되는 문장 비율. 0~1 사이값\n",
    "- words (int or None, optional) – 출력에 포함할 단어 수.\n",
    "- 만약, ratio와 함께 두 파라미터가 모두 제공되는 경우 ratio는 무시한다.\n",
    "- split (bool, optional) – True면 문장 list / False는 조인(join)된 문자열을 반환\n",
    "\n",
    "Summa의 summarize는 문장 토큰화를 별도로 하지 않더라도 내부적으로 문장 토큰화를 수행해요. 그렇기 때문에 문장 구분이 되어있지 않은 원문을 바로 입력으로 넣을 수 있어요. 비율을 적게 주어서 요약문으로 선택되는 문장의 개수를 줄여볼게요. 원문의 0.005%만을 출력하도록 설정했어요."
   ]
  },
  {
   "cell_type": "code",
   "execution_count": 106,
   "id": "53c9fcdc",
   "metadata": {},
   "outputs": [
    {
     "name": "stdout",
     "output_type": "stream",
     "text": [
      "Summary:\n",
      "Morpheus, Trinity, Neo, Apoc, Switch, Mouse and Cypher are jacked into the Matrix.\n",
      "Trinity brings the helicopter down to the floor that Morpheus is on and Neo opens fire on the three Agents.\n"
     ]
    }
   ],
   "source": [
    "print('Summary:')\n",
    "print(summarize(text, ratio=0.005))"
   ]
  },
  {
   "cell_type": "markdown",
   "id": "d3f9bfc7",
   "metadata": {},
   "source": [
    "만약 리스트로 출력 결과를 받고 싶다면 split 인자의 값을 True로 하면 돼요."
   ]
  },
  {
   "cell_type": "code",
   "execution_count": 107,
   "id": "69bc8841",
   "metadata": {},
   "outputs": [
    {
     "name": "stdout",
     "output_type": "stream",
     "text": [
      "Summary:\n",
      "['Morpheus, Trinity, Neo, Apoc, Switch, Mouse and Cypher are jacked into the Matrix.', 'Trinity brings the helicopter down to the floor that Morpheus is on and Neo opens fire on the three Agents.']\n"
     ]
    }
   ],
   "source": [
    "print('Summary:')\n",
    "print(summarize(text, ratio=0.005, split=True))"
   ]
  },
  {
   "cell_type": "markdown",
   "id": "491c5c24",
   "metadata": {},
   "source": [
    "단어의 수로 요약문의 크기를 조절할 수도 있어요. 단어를 50개만 선택하도록 해보세요."
   ]
  },
  {
   "cell_type": "code",
   "execution_count": 108,
   "id": "4846e994",
   "metadata": {},
   "outputs": [
    {
     "name": "stdout",
     "output_type": "stream",
     "text": [
      "Summary:\n",
      "Trinity takes Neo to Morpheus.\n",
      "Morpheus, Trinity, Neo, Apoc, Switch, Mouse and Cypher are jacked into the Matrix.\n",
      "Trinity brings the helicopter down to the floor that Morpheus is on and Neo opens fire on the three Agents.\n"
     ]
    }
   ],
   "source": [
    "print('Summary:')\n",
    "print(summarize(text, words=50))"
   ]
  },
  {
   "cell_type": "markdown",
   "id": "62a44cf9",
   "metadata": {},
   "source": [
    "### 견해 :\n",
    "- 잘 되는지는 모르겠는데, 루브릭에서 시도해보라고 되어 있어서 시도해봐야겠다."
   ]
  },
  {
   "cell_type": "markdown",
   "id": "0e9dc6a0",
   "metadata": {},
   "source": [
    "# Project"
   ]
  },
  {
   "cell_type": "markdown",
   "id": "abd49cb0",
   "metadata": {},
   "source": [
    "## 루브릭\n",
    "아래의 기준을 바탕으로 프로젝트를 평가합니다.\n",
    "(평가문항, 상세기준)\n",
    "1. Abstractive 모델 구성을 위한 텍스트 전처리 단계가 체계적으로 진행되었다. \n",
    "- 분석단계, 정제단계, 정규화와 불용어 제거, 데이터셋 분리, 인코딩 과정이 빠짐없이 체계적으로 진행되었다.\n",
    "\n",
    "2. 텍스트 요약모델이 성공적으로 학습되었음을 확인하였다. \n",
    "- 모델 학습이 진행되면서 train loss와 validation loss가 감소하는 경향을 그래프를 통해 확인했으며, 실제 요약문에 있는 핵심 단어들이 요약 문장 안에 포함되었다.\n",
    "\n",
    "3. Extractive 요약을 시도해 보고 Abstractive 요약 결과과 함께 비교해 보았다.\n",
    "- 두 요약 결과를 문법완성도 측면과 핵심단어 포함 측면으로 나누어 비교하고 분석 결과를 표로 정리하여 제시하였다.\n"
   ]
  },
  {
   "cell_type": "markdown",
   "id": "2352bf8d",
   "metadata": {},
   "source": [
    "##  뉴스기사 요약해보기\n",
    "\n",
    "새로운 데이터셋에 대해서 추상적 요약과 추출적 요약을 모두 해보는 시간을 가져봐요.\n",
    "\n",
    "먼저 주요 라이브러리 버전을 확인해 보죠."
   ]
  },
  {
   "cell_type": "code",
   "execution_count": 3,
   "id": "13358fa2",
   "metadata": {
    "scrolled": true
   },
   "outputs": [
    {
     "name": "stdout",
     "output_type": "stream",
     "text": [
      "/opt/conda/bin/python\n"
     ]
    }
   ],
   "source": [
    "import sys\n",
    "print(sys.executable)"
   ]
  },
  {
   "cell_type": "code",
   "execution_count": 8,
   "id": "64549215",
   "metadata": {},
   "outputs": [
    {
     "name": "stdout",
     "output_type": "stream",
     "text": [
      "3.6.5\n",
      "2.6.0\n",
      "1.3.3\n",
      "1.2.0\n"
     ]
    }
   ],
   "source": [
    "from importlib.metadata import version\n",
    "import nltk\n",
    "import tensorflow\n",
    "import summa\n",
    "import pandas as pd\n",
    "\n",
    "print(nltk.__version__)\n",
    "print(tensorflow.__version__)\n",
    "print(pd.__version__)\n",
    "print(version('summa'))"
   ]
  },
  {
   "cell_type": "code",
   "execution_count": 20,
   "id": "97384a35",
   "metadata": {},
   "outputs": [
    {
     "name": "stderr",
     "output_type": "stream",
     "text": [
      "[nltk_data] Downloading package stopwords to /aiffel/nltk_data...\n",
      "[nltk_data]   Unzipping corpora/stopwords.zip.\n"
     ]
    },
    {
     "data": {
      "text/plain": [
       "True"
      ]
     },
     "execution_count": 20,
     "metadata": {},
     "output_type": "execute_result"
    }
   ],
   "source": [
    "from nltk.corpus import stopwords\n",
    "nltk.download('stopwords')"
   ]
  },
  {
   "cell_type": "code",
   "execution_count": 28,
   "id": "007a75c9",
   "metadata": {},
   "outputs": [],
   "source": [
    "from bs4 import BeautifulSoup \n",
    "import re"
   ]
  },
  {
   "cell_type": "code",
   "execution_count": 9,
   "id": "011db5d6",
   "metadata": {},
   "outputs": [
    {
     "name": "stdout",
     "output_type": "stream",
     "text": [
      "1.21.4\n"
     ]
    }
   ],
   "source": [
    "import numpy\n",
    "print(numpy.__version__)"
   ]
  },
  {
   "cell_type": "code",
   "execution_count": 10,
   "id": "300cacaa",
   "metadata": {},
   "outputs": [
    {
     "name": "stdout",
     "output_type": "stream",
     "text": [
      "/opt/conda/lib/python3.9/site-packages/numpy/__init__.py\n"
     ]
    }
   ],
   "source": [
    "import numpy\n",
    "print(numpy.__file__)"
   ]
  },
  {
   "cell_type": "markdown",
   "id": "e1e15ac6",
   "metadata": {},
   "source": [
    "## Step 1. 데이터 수집하기\n",
    "데이터는 아래 링크에 있는 뉴스 기사 데이터(news_summary_more.csv)를 사용하세요.\n",
    "\n",
    "[sunnysai12345/News_Summary](https://github.com/sunnysai12345/News_Summary)\n",
    "아래의 코드로 데이터를 다운로드할 수 있어요."
   ]
  },
  {
   "cell_type": "code",
   "execution_count": 11,
   "id": "0878bbdc",
   "metadata": {},
   "outputs": [
    {
     "data": {
      "text/html": [
       "<div>\n",
       "<style scoped>\n",
       "    .dataframe tbody tr th:only-of-type {\n",
       "        vertical-align: middle;\n",
       "    }\n",
       "\n",
       "    .dataframe tbody tr th {\n",
       "        vertical-align: top;\n",
       "    }\n",
       "\n",
       "    .dataframe thead th {\n",
       "        text-align: right;\n",
       "    }\n",
       "</style>\n",
       "<table border=\"1\" class=\"dataframe\">\n",
       "  <thead>\n",
       "    <tr style=\"text-align: right;\">\n",
       "      <th></th>\n",
       "      <th>headlines</th>\n",
       "      <th>text</th>\n",
       "    </tr>\n",
       "  </thead>\n",
       "  <tbody>\n",
       "    <tr>\n",
       "      <th>83432</th>\n",
       "      <td>Pics show Aamir with nose and ear piercings</td>\n",
       "      <td>Pictures of actor Aamir Khan sporting a nose p...</td>\n",
       "    </tr>\n",
       "    <tr>\n",
       "      <th>13034</th>\n",
       "      <td>TCS displaces Accenture as largest IT firm ser...</td>\n",
       "      <td>TCS has displaced Accenture as the world's lar...</td>\n",
       "    </tr>\n",
       "    <tr>\n",
       "      <th>73374</th>\n",
       "      <td>Volkswagen engineer gets 40-month prison over ...</td>\n",
       "      <td>A Volkswagen engineer has been sentenced to 40...</td>\n",
       "    </tr>\n",
       "    <tr>\n",
       "      <th>23630</th>\n",
       "      <td>England club 1st UN certified carbon neutral f...</td>\n",
       "      <td>England's League Two club Forest Green Rovers ...</td>\n",
       "    </tr>\n",
       "    <tr>\n",
       "      <th>91396</th>\n",
       "      <td>If PM won't act, I'll avenge my son's death: M...</td>\n",
       "      <td>Mother of Captain Ayush Yadav, who was martyre...</td>\n",
       "    </tr>\n",
       "    <tr>\n",
       "      <th>42124</th>\n",
       "      <td>TV anchor booked for 'whores' in Telugu film i...</td>\n",
       "      <td>An FIR has been registered against a TV anchor...</td>\n",
       "    </tr>\n",
       "    <tr>\n",
       "      <th>24717</th>\n",
       "      <td>Over 10L tweets recorded during no-confidence ...</td>\n",
       "      <td>Twitter has revealed that over 10 lakh tweets ...</td>\n",
       "    </tr>\n",
       "    <tr>\n",
       "      <th>52127</th>\n",
       "      <td>ISRO shares selfie footage of rocket carrying ...</td>\n",
       "      <td>ISRO has released a selfie footage of PSLV-C40...</td>\n",
       "    </tr>\n",
       "    <tr>\n",
       "      <th>66657</th>\n",
       "      <td>I was extremely proud of Kangana: Hrithik Roshan</td>\n",
       "      <td>Hrithik Roshan, in his first television interv...</td>\n",
       "    </tr>\n",
       "    <tr>\n",
       "      <th>63821</th>\n",
       "      <td>Don't like the film, don't watch it: Madras HC...</td>\n",
       "      <td>The Madras High Court on Friday dismissed a pe...</td>\n",
       "    </tr>\n",
       "  </tbody>\n",
       "</table>\n",
       "</div>"
      ],
      "text/plain": [
       "                                               headlines  \\\n",
       "83432        Pics show Aamir with nose and ear piercings   \n",
       "13034  TCS displaces Accenture as largest IT firm ser...   \n",
       "73374  Volkswagen engineer gets 40-month prison over ...   \n",
       "23630  England club 1st UN certified carbon neutral f...   \n",
       "91396  If PM won't act, I'll avenge my son's death: M...   \n",
       "42124  TV anchor booked for 'whores' in Telugu film i...   \n",
       "24717  Over 10L tweets recorded during no-confidence ...   \n",
       "52127  ISRO shares selfie footage of rocket carrying ...   \n",
       "66657  I was extremely proud of Kangana: Hrithik Roshan    \n",
       "63821  Don't like the film, don't watch it: Madras HC...   \n",
       "\n",
       "                                                    text  \n",
       "83432  Pictures of actor Aamir Khan sporting a nose p...  \n",
       "13034  TCS has displaced Accenture as the world's lar...  \n",
       "73374  A Volkswagen engineer has been sentenced to 40...  \n",
       "23630  England's League Two club Forest Green Rovers ...  \n",
       "91396  Mother of Captain Ayush Yadav, who was martyre...  \n",
       "42124  An FIR has been registered against a TV anchor...  \n",
       "24717  Twitter has revealed that over 10 lakh tweets ...  \n",
       "52127  ISRO has released a selfie footage of PSLV-C40...  \n",
       "66657  Hrithik Roshan, in his first television interv...  \n",
       "63821  The Madras High Court on Friday dismissed a pe...  "
      ]
     },
     "execution_count": 11,
     "metadata": {},
     "output_type": "execute_result"
    }
   ],
   "source": [
    "import urllib.request\n",
    "urllib.request.urlretrieve(\"https://raw.githubusercontent.com/sunnysai12345/News_Summary/master/news_summary_more.csv\", filename=\"news_summary_more.csv\")\n",
    "data = pd.read_csv('news_summary_more.csv', encoding='iso-8859-1')\n",
    "\n",
    "data.sample(10)"
   ]
  },
  {
   "cell_type": "code",
   "execution_count": 12,
   "id": "d8f6ec8d",
   "metadata": {},
   "outputs": [
    {
     "name": "stdout",
     "output_type": "stream",
     "text": [
      "전체 샘플수 : 98401\n"
     ]
    }
   ],
   "source": [
    "print('전체 샘플수 :', (len(data)))"
   ]
  },
  {
   "cell_type": "markdown",
   "id": "1cb092f7",
   "metadata": {},
   "source": [
    "이 데이터는 기사의 본문에 해당되는 text와 headlines 두 가지 열로 구성되어져 있습니다.\n",
    "\n",
    "추상적 요약을 하는 경우에는 text를 본문, headlines를 이미 요약된 데이터로 삼아서 모델을 학습할 수 있어요. 추출적 요약을 하는 경우에는 오직 text열만을 사용하세요."
   ]
  },
  {
   "cell_type": "markdown",
   "id": "e74efefa",
   "metadata": {},
   "source": [
    "## Step 2. 데이터 전처리하기 (추상적 요약)\n",
    "실습에서 사용된 전처리를 참고하여 각자 필요하다고 생각하는 전처리를 추가 사용하여 텍스트를 정규화 또는 정제해 보세요. 만약, 불용어 제거를 선택한다면 상대적으로 길이가 짧은 요약 데이터에 대해서도 불용어를 제거하는 것이 좋을지 고민해 보세요."
   ]
  },
  {
   "cell_type": "markdown",
   "id": "679a107d",
   "metadata": {},
   "source": [
    "이제 데이터를 불러왔으니 전처리를 진행해 볼게요. 빈칸으로 존재하는 null 데이터, 의미는 같지만 다른 식으로 작성된 글 같은 중복 항목과 같은 학습할 때 방해가 되는 데이터를 먼저 솎아낼 거예요."
   ]
  },
  {
   "cell_type": "markdown",
   "id": "82b0378d",
   "metadata": {},
   "source": [
    "### 중복 샘플과 NULL 값이 존재하는 샘플 제거"
   ]
  },
  {
   "cell_type": "code",
   "execution_count": 13,
   "id": "5977cdf0",
   "metadata": {},
   "outputs": [
    {
     "name": "stdout",
     "output_type": "stream",
     "text": [
      "headlines 열에서 중복을 배제한 유일한 샘플의 수 : 98280\n",
      "text 열에서 중복을 배제한 유일한 샘플의 수 : 98360\n"
     ]
    }
   ],
   "source": [
    "print('headlines 열에서 중복을 배제한 유일한 샘플의 수 :', data['headlines'].nunique())\n",
    "print('text 열에서 중복을 배제한 유일한 샘플의 수 :', data['text'].nunique())"
   ]
  },
  {
   "cell_type": "markdown",
   "id": "5c1f16ba",
   "metadata": {},
   "source": [
    "중복을 제외, headlines에는 98,280개, text에는 98,360개의 고유 샘플들이 존재함. "
   ]
  },
  {
   "cell_type": "markdown",
   "id": "65c8ec32",
   "metadata": {},
   "source": [
    "#### 중복 샘플을 제거"
   ]
  },
  {
   "cell_type": "code",
   "execution_count": 14,
   "id": "5f3aaed8",
   "metadata": {},
   "outputs": [
    {
     "name": "stdout",
     "output_type": "stream",
     "text": [
      "전체 샘플수 : 98360\n"
     ]
    }
   ],
   "source": [
    "data.drop_duplicates(subset = ['text'], inplace=True)\n",
    "print('전체 샘플수 :', (len(data)))"
   ]
  },
  {
   "cell_type": "markdown",
   "id": "36f34e60",
   "metadata": {},
   "source": [
    "중복이 제거되면서 샘플 수가 98,360개로 줄었다.\n",
    "\n",
    "#### Null 값이 있는지 확인"
   ]
  },
  {
   "cell_type": "code",
   "execution_count": 15,
   "id": "5837bf49",
   "metadata": {},
   "outputs": [
    {
     "name": "stdout",
     "output_type": "stream",
     "text": [
      "headlines    0\n",
      "text         0\n",
      "dtype: int64\n"
     ]
    }
   ],
   "source": [
    "print(data.isnull().sum())"
   ]
  },
  {
   "cell_type": "markdown",
   "id": "098d0cd4",
   "metadata": {},
   "source": [
    "지금까지 중복, Null 값이 있는 샘플들을 제거하기 위해 확인하였고, 40여개 샘플이 제거됨."
   ]
  },
  {
   "cell_type": "markdown",
   "id": "a6f7c863",
   "metadata": {},
   "source": [
    "### 텍스트 정규화와 불용어 제거\n",
    "- 같은 의미인데도 다른 표현으로 쓰인 단어들을 동일하게 처리하여 연산량을 줄이기\n",
    "- 예제에서 사용했던 정규화 사전, 불용어 목록을 그대로 사용  \n",
    "[정규화 사전 출처](https://stackoverflow.com/questions/19790188/expanding-english-language-contractions-in-python)"
   ]
  },
  {
   "cell_type": "code",
   "execution_count": 16,
   "id": "65fe8fec",
   "metadata": {},
   "outputs": [
    {
     "name": "stdout",
     "output_type": "stream",
     "text": [
      "정규화 사전의 수:  120\n"
     ]
    }
   ],
   "source": [
    "contractions = {\"ain't\": \"is not\", \"aren't\": \"are not\",\"can't\": \"cannot\", \"'cause\": \"because\", \"could've\": \"could have\", \"couldn't\": \"could not\",\n",
    "                           \"didn't\": \"did not\",  \"doesn't\": \"does not\", \"don't\": \"do not\", \"hadn't\": \"had not\", \"hasn't\": \"has not\", \"haven't\": \"have not\",\n",
    "                           \"he'd\": \"he would\",\"he'll\": \"he will\", \"he's\": \"he is\", \"how'd\": \"how did\", \"how'd'y\": \"how do you\", \"how'll\": \"how will\", \"how's\": \"how is\",\n",
    "                           \"I'd\": \"I would\", \"I'd've\": \"I would have\", \"I'll\": \"I will\", \"I'll've\": \"I will have\",\"I'm\": \"I am\", \"I've\": \"I have\", \"i'd\": \"i would\",\n",
    "                           \"i'd've\": \"i would have\", \"i'll\": \"i will\",  \"i'll've\": \"i will have\",\"i'm\": \"i am\", \"i've\": \"i have\", \"isn't\": \"is not\", \"it'd\": \"it would\",\n",
    "                           \"it'd've\": \"it would have\", \"it'll\": \"it will\", \"it'll've\": \"it will have\",\"it's\": \"it is\", \"let's\": \"let us\", \"ma'am\": \"madam\",\n",
    "                           \"mayn't\": \"may not\", \"might've\": \"might have\",\"mightn't\": \"might not\",\"mightn't've\": \"might not have\", \"must've\": \"must have\",\n",
    "                           \"mustn't\": \"must not\", \"mustn't've\": \"must not have\", \"needn't\": \"need not\", \"needn't've\": \"need not have\",\"o'clock\": \"of the clock\",\n",
    "                           \"oughtn't\": \"ought not\", \"oughtn't've\": \"ought not have\", \"shan't\": \"shall not\", \"sha'n't\": \"shall not\", \"shan't've\": \"shall not have\",\n",
    "                           \"she'd\": \"she would\", \"she'd've\": \"she would have\", \"she'll\": \"she will\", \"she'll've\": \"she will have\", \"she's\": \"she is\",\n",
    "                           \"should've\": \"should have\", \"shouldn't\": \"should not\", \"shouldn't've\": \"should not have\", \"so've\": \"so have\",\"so's\": \"so as\",\n",
    "                           \"this's\": \"this is\",\"that'd\": \"that would\", \"that'd've\": \"that would have\", \"that's\": \"that is\", \"there'd\": \"there would\",\n",
    "                           \"there'd've\": \"there would have\", \"there's\": \"there is\", \"here's\": \"here is\",\"they'd\": \"they would\", \"they'd've\": \"they would have\",\n",
    "                           \"they'll\": \"they will\", \"they'll've\": \"they will have\", \"they're\": \"they are\", \"they've\": \"they have\", \"to've\": \"to have\",\n",
    "                           \"wasn't\": \"was not\", \"we'd\": \"we would\", \"we'd've\": \"we would have\", \"we'll\": \"we will\", \"we'll've\": \"we will have\", \"we're\": \"we are\",\n",
    "                           \"we've\": \"we have\", \"weren't\": \"were not\", \"what'll\": \"what will\", \"what'll've\": \"what will have\", \"what're\": \"what are\",\n",
    "                           \"what's\": \"what is\", \"what've\": \"what have\", \"when's\": \"when is\", \"when've\": \"when have\", \"where'd\": \"where did\", \"where's\": \"where is\",\n",
    "                           \"where've\": \"where have\", \"who'll\": \"who will\", \"who'll've\": \"who will have\", \"who's\": \"who is\", \"who've\": \"who have\",\n",
    "                           \"why's\": \"why is\", \"why've\": \"why have\", \"will've\": \"will have\", \"won't\": \"will not\", \"won't've\": \"will not have\",\n",
    "                           \"would've\": \"would have\", \"wouldn't\": \"would not\", \"wouldn't've\": \"would not have\", \"y'all\": \"you all\",\n",
    "                           \"y'all'd\": \"you all would\",\"y'all'd've\": \"you all would have\",\"y'all're\": \"you all are\",\"y'all've\": \"you all have\",\n",
    "                           \"you'd\": \"you would\", \"you'd've\": \"you would have\", \"you'll\": \"you will\", \"you'll've\": \"you will have\",\n",
    "                           \"you're\": \"you are\", \"you've\": \"you have\"}\n",
    "\n",
    "print(\"정규화 사전의 수: \", len(contractions))"
   ]
  },
  {
   "cell_type": "code",
   "execution_count": 21,
   "id": "a7d1a197",
   "metadata": {},
   "outputs": [
    {
     "name": "stdout",
     "output_type": "stream",
     "text": [
      "불용어 개수 : 179\n",
      "['i', 'me', 'my', 'myself', 'we', 'our', 'ours', 'ourselves', 'you', \"you're\", \"you've\", \"you'll\", \"you'd\", 'your', 'yours', 'yourself', 'yourselves', 'he', 'him', 'his', 'himself', 'she', \"she's\", 'her', 'hers', 'herself', 'it', \"it's\", 'its', 'itself', 'they', 'them', 'their', 'theirs', 'themselves', 'what', 'which', 'who', 'whom', 'this', 'that', \"that'll\", 'these', 'those', 'am', 'is', 'are', 'was', 'were', 'be', 'been', 'being', 'have', 'has', 'had', 'having', 'do', 'does', 'did', 'doing', 'a', 'an', 'the', 'and', 'but', 'if', 'or', 'because', 'as', 'until', 'while', 'of', 'at', 'by', 'for', 'with', 'about', 'against', 'between', 'into', 'through', 'during', 'before', 'after', 'above', 'below', 'to', 'from', 'up', 'down', 'in', 'out', 'on', 'off', 'over', 'under', 'again', 'further', 'then', 'once', 'here', 'there', 'when', 'where', 'why', 'how', 'all', 'any', 'both', 'each', 'few', 'more', 'most', 'other', 'some', 'such', 'no', 'nor', 'not', 'only', 'own', 'same', 'so', 'than', 'too', 'very', 's', 't', 'can', 'will', 'just', 'don', \"don't\", 'should', \"should've\", 'now', 'd', 'll', 'm', 'o', 're', 've', 'y', 'ain', 'aren', \"aren't\", 'couldn', \"couldn't\", 'didn', \"didn't\", 'doesn', \"doesn't\", 'hadn', \"hadn't\", 'hasn', \"hasn't\", 'haven', \"haven't\", 'isn', \"isn't\", 'ma', 'mightn', \"mightn't\", 'mustn', \"mustn't\", 'needn', \"needn't\", 'shan', \"shan't\", 'shouldn', \"shouldn't\", 'wasn', \"wasn't\", 'weren', \"weren't\", 'won', \"won't\", 'wouldn', \"wouldn't\"]\n"
     ]
    }
   ],
   "source": [
    "print('불용어 개수 :', len(stopwords.words('english') ))\n",
    "print(stopwords.words('english'))"
   ]
  },
  {
   "cell_type": "markdown",
   "id": "7175a872",
   "metadata": {},
   "source": [
    "정규화와 불용어 제거 후, 소문자 처리, 태그 및 특수문자를 제거하여 텍스트 클리닝을 진행"
   ]
  },
  {
   "cell_type": "code",
   "execution_count": 22,
   "id": "3a5a11ab",
   "metadata": {},
   "outputs": [],
   "source": [
    "# 데이터 전처리 함수\n",
    "def preprocess_sentence(sentence, remove_stopwords=True):\n",
    "    sentence = sentence.lower() # 텍스트 소문자화\n",
    "    sentence = BeautifulSoup(sentence, \"lxml\").text # <br />, <a href = ...> 등의 html 태그 제거\n",
    "    sentence = re.sub(r'\\([^)]*\\)', '', sentence) # 괄호로 닫힌 문자열 (...) 제거 Ex) my husband (and myself!) for => my husband for\n",
    "    sentence = re.sub('\"','', sentence) # 쌍따옴표 \" 제거\n",
    "    sentence = ' '.join([contractions[t] if t in contractions else t for t in sentence.split(\" \")]) # 약어 정규화\n",
    "    sentence = re.sub(r\"'s\\b\",\"\", sentence) # 소유격 제거. Ex) roland's -> roland\n",
    "    sentence = re.sub(\"[^a-zA-Z]\", \" \", sentence) # 영어 외 문자(숫자, 특수문자 등) 공백으로 변환\n",
    "    sentence = re.sub('[m]{2,}', 'mm', sentence) # m이 3개 이상이면 2개로 변경. Ex) ummmmmmm yeah -> umm yeah\n",
    "    \n",
    "    # 불용어 제거 (Text)\n",
    "    if remove_stopwords:\n",
    "        tokens = ' '.join(word for word in sentence.split() if not word in stopwords.words('english') if len(word) > 1)\n",
    "    # 불용어 미제거 (Summary)\n",
    "    else:\n",
    "        tokens = ' '.join(word for word in sentence.split() if len(word) > 1)\n",
    "    return tokens"
   ]
  },
  {
   "cell_type": "code",
   "execution_count": 29,
   "id": "98c97b21",
   "metadata": {
    "scrolled": true
   },
   "outputs": [
    {
     "name": "stderr",
     "output_type": "stream",
     "text": [
      "100%|██████████| 98360/98360 [09:41<00:00, 169.18it/s]\n",
      "100%|██████████| 98360/98360 [00:17<00:00, 5621.21it/s]"
     ]
    },
    {
     "name": "stdout",
     "output_type": "stream",
     "text": [
      "CPU times: user 8min 27s, sys: 1min 32s, total: 9min 59s\n",
      "Wall time: 9min 58s\n"
     ]
    },
    {
     "name": "stderr",
     "output_type": "stream",
     "text": [
      "\n"
     ]
    }
   ],
   "source": [
    "%%time\n",
    "# %load_ext cudf.pandas # numpy version의 문제(1.21.4, 1.22버전 이상이 요구됨)로 병렬연산 사용 불가능\n",
    "# pandas의 병렬연산 : cudf - https://github.com/rapidsai/cudf\n",
    "\n",
    "from tqdm import tqdm, trange\n",
    "tqdm.pandas()\n",
    "\n",
    "data['text'] = data['text'].progress_apply(lambda x: preprocess_sentence(x))\n",
    "data['headlines'] = data['headlines'].progress_apply(lambda x: preprocess_sentence(x, False))"
   ]
  },
  {
   "cell_type": "markdown",
   "id": "ecf68a73",
   "metadata": {},
   "source": [
    "- text는 불용어를 제거하고, headlines에는 불용어를 제거하지 않았습니다."
   ]
  },
  {
   "cell_type": "code",
   "execution_count": 36,
   "id": "df6c466b",
   "metadata": {},
   "outputs": [
    {
     "data": {
      "text/plain": [
       "'saurav kant alumnus upgrad iiit pg program machine learning artificial intelligence sr systems engineer infosys almost years work experience program upgrad degree career support helped transition data scientist tech mahindra salary hike upgrad online power learning powered lakh careers'"
      ]
     },
     "execution_count": 36,
     "metadata": {},
     "output_type": "execute_result"
    }
   ],
   "source": [
    "data['text'][0]"
   ]
  },
  {
   "cell_type": "code",
   "execution_count": 37,
   "id": "14c752fd",
   "metadata": {},
   "outputs": [
    {
     "data": {
      "text/plain": [
       "'upgrad learner switches to career in ml al with salary hike'"
      ]
     },
     "execution_count": 37,
     "metadata": {},
     "output_type": "execute_result"
    }
   ],
   "source": [
    "data['headlines'][0]"
   ]
  },
  {
   "cell_type": "code",
   "execution_count": 32,
   "id": "2c6e9e23",
   "metadata": {},
   "outputs": [
    {
     "data": {
      "text/plain": [
       "0    saurav kant alumnus upgrad iiit pg program mac...\n",
       "1    kunal shah credit card bill payment platform c...\n",
       "2    new zealand defeated india wickets fourth odi ...\n",
       "3    aegon life iterm insurance plan customers enjo...\n",
       "4    speaking sexual harassment allegations rajkuma...\n",
       "Name: text, dtype: object"
      ]
     },
     "execution_count": 32,
     "metadata": {},
     "output_type": "execute_result"
    }
   ],
   "source": [
    "data['text'].head()"
   ]
  },
  {
   "cell_type": "code",
   "execution_count": 33,
   "id": "03c4600d",
   "metadata": {},
   "outputs": [
    {
     "data": {
      "text/plain": [
       "0    upgrad learner switches to career in ml al wit...\n",
       "1    delhi techie wins free food from swiggy for on...\n",
       "2    new zealand end rohit sharma led india match w...\n",
       "3    aegon life iterm insurance plan helps customer...\n",
       "4    have known hirani for yrs what if metoo claims...\n",
       "Name: headlines, dtype: object"
      ]
     },
     "execution_count": 33,
     "metadata": {},
     "output_type": "execute_result"
    }
   ],
   "source": [
    "data['headlines'].head()"
   ]
  },
  {
   "cell_type": "markdown",
   "id": "40763c5d",
   "metadata": {},
   "source": [
    "- 그럭저럭 잘 처리가 된 것 같다. 약간 영어가 아닌 것 같은 느낌도 든다."
   ]
  },
  {
   "cell_type": "code",
   "execution_count": 40,
   "id": "c58d1a60",
   "metadata": {},
   "outputs": [],
   "source": [
    "import numpy as np\n",
    "# 빈 값을 Null 값으로 변환\n",
    "data.replace('', np.nan, inplace=True)"
   ]
  },
  {
   "cell_type": "code",
   "execution_count": 41,
   "id": "2b499af3",
   "metadata": {},
   "outputs": [
    {
     "data": {
      "text/plain": [
       "headlines    0\n",
       "text         0\n",
       "dtype: int64"
      ]
     },
     "execution_count": 41,
     "metadata": {},
     "output_type": "execute_result"
    }
   ],
   "source": [
    "data.isnull().sum()"
   ]
  },
  {
   "cell_type": "markdown",
   "id": "c1d93322",
   "metadata": {},
   "source": [
    "### 샘플의 최대 길이 정하기\n",
    "\n",
    "필요 없는 단어를 모두 솎아낸 데이터를 가지게 되었으니, 이제 훈련에 사용할 샘플의 최대 길이를 정해줄 차례에요.\n",
    "\n",
    "Text와 Headlines의 최소, 최대, 평균 길이를 구하고 또한 길이 분포를 시각화해서 볼게요."
   ]
  },
  {
   "cell_type": "code",
   "execution_count": 44,
   "id": "96068326",
   "metadata": {},
   "outputs": [
    {
     "name": "stdout",
     "output_type": "stream",
     "text": [
      "텍스트의 최소 길이 : 1\n",
      "텍스트의 최대 길이 : 60\n",
      "텍스트의 평균 길이 : 35.09968483123221\n",
      "헤드라인의 최소 길이 : 1\n",
      "헤드라인의 최대 길이 : 16\n",
      "헤드라인의 평균 길이 : 9.299532330215534\n"
     ]
    },
    {
     "data": {
      "image/png": "[encoded data removed]",
      "text/plain": [
       "<Figure size 432x288 with 2 Axes>"
      ]
     },
     "metadata": {
      "needs_background": "light"
     },
     "output_type": "display_data"
    },
    {
     "data": {
      "image/png": "[encoded data removed]",
      "text/plain": [
       "<Figure size 432x288 with 1 Axes>"
      ]
     },
     "metadata": {
      "needs_background": "light"
     },
     "output_type": "display_data"
    },
    {
     "data": {
      "image/png": "[encoded data removed]",
      "text/plain": [
       "<Figure size 432x288 with 1 Axes>"
      ]
     },
     "metadata": {
      "needs_background": "light"
     },
     "output_type": "display_data"
    }
   ],
   "source": [
    "# 길이 분포 출력\n",
    "import matplotlib.pyplot as plt\n",
    "\n",
    "text_len = [len(s.split()) for s in data['text']]\n",
    "headlines_len = [len(s.split()) for s in data['headlines']]\n",
    "\n",
    "print('텍스트의 최소 길이 : {}'.format(np.min(text_len)))\n",
    "print('텍스트의 최대 길이 : {}'.format(np.max(text_len)))\n",
    "print('텍스트의 평균 길이 : {}'.format(np.mean(text_len)))\n",
    "print('헤드라인의 최소 길이 : {}'.format(np.min(headlines_len)))\n",
    "print('헤드라인의 최대 길이 : {}'.format(np.max(headlines_len)))\n",
    "print('헤드라인의 평균 길이 : {}'.format(np.mean(headlines_len)))\n",
    "\n",
    "plt.subplot(1,2,1)\n",
    "plt.boxplot(text_len)\n",
    "plt.title('Text')\n",
    "plt.subplot(1,2,2)\n",
    "plt.boxplot(headlines_len)\n",
    "plt.title('Headlines')\n",
    "plt.tight_layout()\n",
    "plt.show()\n",
    "\n",
    "plt.title('Text')\n",
    "plt.hist(text_len, bins = 40)\n",
    "plt.xlabel('length of samples')\n",
    "plt.ylabel('number of samples')\n",
    "plt.show()\n",
    "\n",
    "plt.title('Headlines')\n",
    "plt.hist(headlines_len, bins = 40)\n",
    "plt.xlabel('length of samples')\n",
    "plt.ylabel('number of samples')\n",
    "plt.show()"
   ]
  },
  {
   "cell_type": "markdown",
   "id": "1c38a9f7",
   "metadata": {},
   "source": [
    "위에서부터 차례대로 그래프는 각각 실제 텍스트와 헤드라인의 길이 분포, 실제 텍스트 샘플 길이별 개수, 헤드라인 샘플 길이별 개수를 나타내고 있어요.\n",
    "\n",
    "Text의 경우 최소 길이가 1, 최대 길이가 60이다. \n",
    "하지만 평균 길이는 35로 시각화된 그래프로 봤을 때는 대체적으로는 50 내외의 길이를 가진다는 것을 확인\n",
    "\n",
    "Headlines 경우 최소 길이가 1, 최대 길이가 16, 그리고 평균 길이가 9로 Text에 비해 상대적으로 길이가 매우 짧음. \n",
    "그래프로 봤을 때에도 대체적으로 12이하의 길이를 가지고 있음.\n",
    "\n",
    "이로부터 Text의 최대 길이와 Summary의 적절한 최대 길이를 임의로 지정."
   ]
  },
  {
   "cell_type": "code",
   "execution_count": 51,
   "id": "07166192",
   "metadata": {},
   "outputs": [],
   "source": [
    "text_max_len = 45\n",
    "summary_max_len = 12"
   ]
  },
  {
   "cell_type": "code",
   "execution_count": 52,
   "id": "326819e3",
   "metadata": {},
   "outputs": [],
   "source": [
    "def below_threshold_len(max_len, nested_list):\n",
    "  cnt = 0\n",
    "  for s in nested_list:\n",
    "    if(len(s.split()) <= max_len):\n",
    "        cnt = cnt + 1\n",
    "  print('전체 샘플 중 길이가 %s 이하인 샘플의 비율: %s'%(max_len, (cnt / len(nested_list))))"
   ]
  },
  {
   "cell_type": "markdown",
   "id": "7c327bdd",
   "metadata": {},
   "source": [
    "이렇게 만든 함수를 Text와 Summary에 적용해 우리가 결정한 임의의 길이가 몇%의 샘플까지 포함하는지 볼 수 있겠죠."
   ]
  },
  {
   "cell_type": "code",
   "execution_count": 53,
   "id": "8991090b",
   "metadata": {},
   "outputs": [
    {
     "name": "stdout",
     "output_type": "stream",
     "text": [
      "전체 샘플 중 길이가 45 이하인 샘플의 비율: 0.9967771451809678\n",
      "전체 샘플 중 길이가 12 이하인 샘플의 비율: 0.9880337535583571\n"
     ]
    }
   ],
   "source": [
    "below_threshold_len(text_max_len, data['text'])\n",
    "below_threshold_len(summary_max_len,  data['headlines'])"
   ]
  },
  {
   "cell_type": "markdown",
   "id": "e543e3d2",
   "metadata": {},
   "source": [
    "각각 45과 12로 패딩을 하게 되면 해당 길이보다 긴 샘플들은 내용이 잘리게 되는데, 정해진 길이보다 길면 제외하는 방법으로 데이터를 정제함"
   ]
  },
  {
   "cell_type": "code",
   "execution_count": 54,
   "id": "6081073e",
   "metadata": {},
   "outputs": [
    {
     "name": "stdout",
     "output_type": "stream",
     "text": [
      "전체 샘플수 : 96871\n"
     ]
    }
   ],
   "source": [
    "data = data[data['text'].apply(lambda x: len(x.split()) <= text_max_len)] \n",
    "data = data[data['headlines'].apply(lambda x: len(x.split()) <= summary_max_len)] \n",
    "\n",
    "print('전체 샘플수 :', (len(data)))"
   ]
  },
  {
   "cell_type": "markdown",
   "id": "4c6ff7f4",
   "metadata": {},
   "source": [
    "### 시작 토큰과 종료 토큰 추가하기"
   ]
  },
  {
   "attachments": {
    "image.png": {
     "image/png": "[encoded data removed]"
    }
   },
   "cell_type": "markdown",
   "id": "2a8ef847",
   "metadata": {},
   "source": [
    "![image.png](attachment:image.png)content img\n",
    "[시작 토큰 SOS와 종료 토큰 EOS는 각각 start of a sequence와 end of a sequence를 나타낸다]\n",
    "https://arxiv.org/pdf/1812.02303.pdf\n",
    "\n",
    "seq2seq 훈련을 위해, 디코더의 입력과 레이블에 시작 토큰과 종료 토큰을 추가\n",
    "- 시작 토큰은 sostoken, 종료 토큰은 eostoken이라 임의로 명명하고 앞, 뒤로 추가\n",
    "- 디코더의 입력에 해당하면서 시작 토큰이 맨 앞에 있는 문장의 이름을 decoder_input, 디코더의 출력 또는 레이블에 해당되면서 종료 토큰이 맨 뒤에 붙는 문장의 이름을 decoder_target으로 지정 \n",
    "- 두 개의 문장 모두 headlines 열로부터 생성"
   ]
  },
  {
   "cell_type": "code",
   "execution_count": 55,
   "id": "e856ccae",
   "metadata": {},
   "outputs": [
    {
     "data": {
      "text/html": [
       "<div>\n",
       "<style scoped>\n",
       "    .dataframe tbody tr th:only-of-type {\n",
       "        vertical-align: middle;\n",
       "    }\n",
       "\n",
       "    .dataframe tbody tr th {\n",
       "        vertical-align: top;\n",
       "    }\n",
       "\n",
       "    .dataframe thead th {\n",
       "        text-align: right;\n",
       "    }\n",
       "</style>\n",
       "<table border=\"1\" class=\"dataframe\">\n",
       "  <thead>\n",
       "    <tr style=\"text-align: right;\">\n",
       "      <th></th>\n",
       "      <th>headlines</th>\n",
       "      <th>text</th>\n",
       "      <th>decoder_input</th>\n",
       "      <th>decoder_target</th>\n",
       "    </tr>\n",
       "  </thead>\n",
       "  <tbody>\n",
       "    <tr>\n",
       "      <th>0</th>\n",
       "      <td>upgrad learner switches to career in ml al wit...</td>\n",
       "      <td>saurav kant alumnus upgrad iiit pg program mac...</td>\n",
       "      <td>sostoken upgrad learner switches to career in ...</td>\n",
       "      <td>upgrad learner switches to career in ml al wit...</td>\n",
       "    </tr>\n",
       "    <tr>\n",
       "      <th>1</th>\n",
       "      <td>delhi techie wins free food from swiggy for on...</td>\n",
       "      <td>kunal shah credit card bill payment platform c...</td>\n",
       "      <td>sostoken delhi techie wins free food from swig...</td>\n",
       "      <td>delhi techie wins free food from swiggy for on...</td>\n",
       "    </tr>\n",
       "    <tr>\n",
       "      <th>2</th>\n",
       "      <td>new zealand end rohit sharma led india match w...</td>\n",
       "      <td>new zealand defeated india wickets fourth odi ...</td>\n",
       "      <td>sostoken new zealand end rohit sharma led indi...</td>\n",
       "      <td>new zealand end rohit sharma led india match w...</td>\n",
       "    </tr>\n",
       "    <tr>\n",
       "      <th>3</th>\n",
       "      <td>aegon life iterm insurance plan helps customer...</td>\n",
       "      <td>aegon life iterm insurance plan customers enjo...</td>\n",
       "      <td>sostoken aegon life iterm insurance plan helps...</td>\n",
       "      <td>aegon life iterm insurance plan helps customer...</td>\n",
       "    </tr>\n",
       "    <tr>\n",
       "      <th>5</th>\n",
       "      <td>rahat fateh ali khan denies getting notice for...</td>\n",
       "      <td>pakistani singer rahat fateh ali khan denied r...</td>\n",
       "      <td>sostoken rahat fateh ali khan denies getting n...</td>\n",
       "      <td>rahat fateh ali khan denies getting notice for...</td>\n",
       "    </tr>\n",
       "  </tbody>\n",
       "</table>\n",
       "</div>"
      ],
      "text/plain": [
       "                                           headlines  \\\n",
       "0  upgrad learner switches to career in ml al wit...   \n",
       "1  delhi techie wins free food from swiggy for on...   \n",
       "2  new zealand end rohit sharma led india match w...   \n",
       "3  aegon life iterm insurance plan helps customer...   \n",
       "5  rahat fateh ali khan denies getting notice for...   \n",
       "\n",
       "                                                text  \\\n",
       "0  saurav kant alumnus upgrad iiit pg program mac...   \n",
       "1  kunal shah credit card bill payment platform c...   \n",
       "2  new zealand defeated india wickets fourth odi ...   \n",
       "3  aegon life iterm insurance plan customers enjo...   \n",
       "5  pakistani singer rahat fateh ali khan denied r...   \n",
       "\n",
       "                                       decoder_input  \\\n",
       "0  sostoken upgrad learner switches to career in ...   \n",
       "1  sostoken delhi techie wins free food from swig...   \n",
       "2  sostoken new zealand end rohit sharma led indi...   \n",
       "3  sostoken aegon life iterm insurance plan helps...   \n",
       "5  sostoken rahat fateh ali khan denies getting n...   \n",
       "\n",
       "                                      decoder_target  \n",
       "0  upgrad learner switches to career in ml al wit...  \n",
       "1  delhi techie wins free food from swiggy for on...  \n",
       "2  new zealand end rohit sharma led india match w...  \n",
       "3  aegon life iterm insurance plan helps customer...  \n",
       "5  rahat fateh ali khan denies getting notice for...  "
      ]
     },
     "execution_count": 55,
     "metadata": {},
     "output_type": "execute_result"
    }
   ],
   "source": [
    "# headline(요약) 데이터에는 시작 토큰과 종료 토큰을 추가한다.\n",
    "data['decoder_input'] = data['headlines'].apply(lambda x : 'sostoken '+ x)\n",
    "data['decoder_target'] = data['headlines'].apply(lambda x : x + ' eostoken')\n",
    "data.head()"
   ]
  },
  {
   "cell_type": "markdown",
   "id": "dd238cd7",
   "metadata": {},
   "source": [
    "---"
   ]
  },
  {
   "cell_type": "code",
   "execution_count": 56,
   "id": "33adfac8",
   "metadata": {},
   "outputs": [],
   "source": [
    "# 전처리 완료 된 데이터를 저장\n",
    "# data.to_pickle('./news_data_preprocessed.pkl')"
   ]
  },
  {
   "cell_type": "code",
   "execution_count": 57,
   "id": "0ad8b82e",
   "metadata": {},
   "outputs": [
    {
     "data": {
      "text/html": [
       "<div>\n",
       "<style scoped>\n",
       "    .dataframe tbody tr th:only-of-type {\n",
       "        vertical-align: middle;\n",
       "    }\n",
       "\n",
       "    .dataframe tbody tr th {\n",
       "        vertical-align: top;\n",
       "    }\n",
       "\n",
       "    .dataframe thead th {\n",
       "        text-align: right;\n",
       "    }\n",
       "</style>\n",
       "<table border=\"1\" class=\"dataframe\">\n",
       "  <thead>\n",
       "    <tr style=\"text-align: right;\">\n",
       "      <th></th>\n",
       "      <th>headlines</th>\n",
       "      <th>text</th>\n",
       "      <th>decoder_input</th>\n",
       "      <th>decoder_target</th>\n",
       "    </tr>\n",
       "  </thead>\n",
       "  <tbody>\n",
       "    <tr>\n",
       "      <th>0</th>\n",
       "      <td>upgrad learner switches to career in ml al wit...</td>\n",
       "      <td>saurav kant alumnus upgrad iiit pg program mac...</td>\n",
       "      <td>sostoken upgrad learner switches to career in ...</td>\n",
       "      <td>upgrad learner switches to career in ml al wit...</td>\n",
       "    </tr>\n",
       "    <tr>\n",
       "      <th>1</th>\n",
       "      <td>delhi techie wins free food from swiggy for on...</td>\n",
       "      <td>kunal shah credit card bill payment platform c...</td>\n",
       "      <td>sostoken delhi techie wins free food from swig...</td>\n",
       "      <td>delhi techie wins free food from swiggy for on...</td>\n",
       "    </tr>\n",
       "    <tr>\n",
       "      <th>2</th>\n",
       "      <td>new zealand end rohit sharma led india match w...</td>\n",
       "      <td>new zealand defeated india wickets fourth odi ...</td>\n",
       "      <td>sostoken new zealand end rohit sharma led indi...</td>\n",
       "      <td>new zealand end rohit sharma led india match w...</td>\n",
       "    </tr>\n",
       "    <tr>\n",
       "      <th>3</th>\n",
       "      <td>aegon life iterm insurance plan helps customer...</td>\n",
       "      <td>aegon life iterm insurance plan customers enjo...</td>\n",
       "      <td>sostoken aegon life iterm insurance plan helps...</td>\n",
       "      <td>aegon life iterm insurance plan helps customer...</td>\n",
       "    </tr>\n",
       "    <tr>\n",
       "      <th>5</th>\n",
       "      <td>rahat fateh ali khan denies getting notice for...</td>\n",
       "      <td>pakistani singer rahat fateh ali khan denied r...</td>\n",
       "      <td>sostoken rahat fateh ali khan denies getting n...</td>\n",
       "      <td>rahat fateh ali khan denies getting notice for...</td>\n",
       "    </tr>\n",
       "    <tr>\n",
       "      <th>...</th>\n",
       "      <td>...</td>\n",
       "      <td>...</td>\n",
       "      <td>...</td>\n",
       "      <td>...</td>\n",
       "    </tr>\n",
       "    <tr>\n",
       "      <th>98396</th>\n",
       "      <td>crpf jawan axed to death by maoists in chhatti...</td>\n",
       "      <td>crpf jawan tuesday axed death sharp edged weap...</td>\n",
       "      <td>sostoken crpf jawan axed to death by maoists i...</td>\n",
       "      <td>crpf jawan axed to death by maoists in chhatti...</td>\n",
       "    </tr>\n",
       "    <tr>\n",
       "      <th>98397</th>\n",
       "      <td>first song from sonakshi sinha noor titled uff...</td>\n",
       "      <td>uff yeh first song sonakshi sinha starrer upco...</td>\n",
       "      <td>sostoken first song from sonakshi sinha noor t...</td>\n",
       "      <td>first song from sonakshi sinha noor titled uff...</td>\n",
       "    </tr>\n",
       "    <tr>\n",
       "      <th>98398</th>\n",
       "      <td>the matrix film to get reboot reports</td>\n",
       "      <td>according reports new version science fiction ...</td>\n",
       "      <td>sostoken the matrix film to get reboot reports</td>\n",
       "      <td>the matrix film to get reboot reports eostoken</td>\n",
       "    </tr>\n",
       "    <tr>\n",
       "      <th>98399</th>\n",
       "      <td>snoop dogg aims gun at clown dressed as trump ...</td>\n",
       "      <td>new music video shows rapper snoop dogg aiming...</td>\n",
       "      <td>sostoken snoop dogg aims gun at clown dressed ...</td>\n",
       "      <td>snoop dogg aims gun at clown dressed as trump ...</td>\n",
       "    </tr>\n",
       "    <tr>\n",
       "      <th>98400</th>\n",
       "      <td>madhesi morcha withdraws support to nepalese g...</td>\n",
       "      <td>madhesi morcha alliance seven political partie...</td>\n",
       "      <td>sostoken madhesi morcha withdraws support to n...</td>\n",
       "      <td>madhesi morcha withdraws support to nepalese g...</td>\n",
       "    </tr>\n",
       "  </tbody>\n",
       "</table>\n",
       "<p>96871 rows × 4 columns</p>\n",
       "</div>"
      ],
      "text/plain": [
       "                                               headlines  \\\n",
       "0      upgrad learner switches to career in ml al wit...   \n",
       "1      delhi techie wins free food from swiggy for on...   \n",
       "2      new zealand end rohit sharma led india match w...   \n",
       "3      aegon life iterm insurance plan helps customer...   \n",
       "5      rahat fateh ali khan denies getting notice for...   \n",
       "...                                                  ...   \n",
       "98396  crpf jawan axed to death by maoists in chhatti...   \n",
       "98397  first song from sonakshi sinha noor titled uff...   \n",
       "98398              the matrix film to get reboot reports   \n",
       "98399  snoop dogg aims gun at clown dressed as trump ...   \n",
       "98400  madhesi morcha withdraws support to nepalese g...   \n",
       "\n",
       "                                                    text  \\\n",
       "0      saurav kant alumnus upgrad iiit pg program mac...   \n",
       "1      kunal shah credit card bill payment platform c...   \n",
       "2      new zealand defeated india wickets fourth odi ...   \n",
       "3      aegon life iterm insurance plan customers enjo...   \n",
       "5      pakistani singer rahat fateh ali khan denied r...   \n",
       "...                                                  ...   \n",
       "98396  crpf jawan tuesday axed death sharp edged weap...   \n",
       "98397  uff yeh first song sonakshi sinha starrer upco...   \n",
       "98398  according reports new version science fiction ...   \n",
       "98399  new music video shows rapper snoop dogg aiming...   \n",
       "98400  madhesi morcha alliance seven political partie...   \n",
       "\n",
       "                                           decoder_input  \\\n",
       "0      sostoken upgrad learner switches to career in ...   \n",
       "1      sostoken delhi techie wins free food from swig...   \n",
       "2      sostoken new zealand end rohit sharma led indi...   \n",
       "3      sostoken aegon life iterm insurance plan helps...   \n",
       "5      sostoken rahat fateh ali khan denies getting n...   \n",
       "...                                                  ...   \n",
       "98396  sostoken crpf jawan axed to death by maoists i...   \n",
       "98397  sostoken first song from sonakshi sinha noor t...   \n",
       "98398     sostoken the matrix film to get reboot reports   \n",
       "98399  sostoken snoop dogg aims gun at clown dressed ...   \n",
       "98400  sostoken madhesi morcha withdraws support to n...   \n",
       "\n",
       "                                          decoder_target  \n",
       "0      upgrad learner switches to career in ml al wit...  \n",
       "1      delhi techie wins free food from swiggy for on...  \n",
       "2      new zealand end rohit sharma led india match w...  \n",
       "3      aegon life iterm insurance plan helps customer...  \n",
       "5      rahat fateh ali khan denies getting notice for...  \n",
       "...                                                  ...  \n",
       "98396  crpf jawan axed to death by maoists in chhatti...  \n",
       "98397  first song from sonakshi sinha noor titled uff...  \n",
       "98398     the matrix film to get reboot reports eostoken  \n",
       "98399  snoop dogg aims gun at clown dressed as trump ...  \n",
       "98400  madhesi morcha withdraws support to nepalese g...  \n",
       "\n",
       "[96871 rows x 4 columns]"
      ]
     },
     "execution_count": 57,
     "metadata": {},
     "output_type": "execute_result"
    }
   ],
   "source": [
    "# 중간에 세션이 끊길 경우, 전처리 데이터를 불러와서 사용한다.\n",
    "data = pd.read_pickle('./news_data_preprocessed.pkl')\n",
    "data"
   ]
  },
  {
   "cell_type": "markdown",
   "id": "80b425f2",
   "metadata": {},
   "source": [
    "---"
   ]
  },
  {
   "cell_type": "markdown",
   "id": "4e4d1cb0",
   "metadata": {},
   "source": [
    "인코더의 입력, 디코더의 입력과 레이블을 각각 다시 Numpy 타입으로 저장"
   ]
  },
  {
   "cell_type": "code",
   "execution_count": 58,
   "id": "e977fc6f",
   "metadata": {},
   "outputs": [],
   "source": [
    "encoder_input = np.array(data['text']) # 인코더의 입력\n",
    "decoder_input = np.array(data['decoder_input']) # 디코더의 입력\n",
    "decoder_target = np.array(data['decoder_target']) # 디코더의 레이블"
   ]
  },
  {
   "cell_type": "markdown",
   "id": "86c09d64",
   "metadata": {},
   "source": [
    "훈련 데이터와 테스트 데이터를 분리\n",
    "\n",
    "- encoder_input과 크기와 형태가 같은 순서가 섞인 정수 시퀀스를 생성"
   ]
  },
  {
   "cell_type": "code",
   "execution_count": 60,
   "id": "971f3332",
   "metadata": {},
   "outputs": [
    {
     "name": "stdout",
     "output_type": "stream",
     "text": [
      "[45483 89875 46578 ... 93077 51765 44588]\n"
     ]
    }
   ],
   "source": [
    "indices = np.arange(encoder_input.shape[0])\n",
    "np.random.shuffle(indices)\n",
    "print(indices)"
   ]
  },
  {
   "cell_type": "markdown",
   "id": "1065e4dc",
   "metadata": {},
   "source": [
    "- 이 정수 시퀀스를 이용해 다시 데이터의 샘플 순서를 정의해 샘플을 섞기"
   ]
  },
  {
   "cell_type": "code",
   "execution_count": 61,
   "id": "49ebd36f",
   "metadata": {},
   "outputs": [],
   "source": [
    "encoder_input = encoder_input[indices]\n",
    "decoder_input = decoder_input[indices]\n",
    "decoder_target = decoder_target[indices]"
   ]
  },
  {
   "cell_type": "markdown",
   "id": "590a2e56",
   "metadata": {},
   "source": [
    "이제 섞인 데이터를 8:2의 비율로 훈련 데이터와 테스트 데이터로 분리\n",
    "- 전체 데이터의 크기에서 0.2를 곱해서 테스트 데이터의 크기를 정의"
   ]
  },
  {
   "cell_type": "code",
   "execution_count": 62,
   "id": "bbc781ee",
   "metadata": {},
   "outputs": [
    {
     "name": "stdout",
     "output_type": "stream",
     "text": [
      "테스트 데이터의 수 : 19374\n"
     ]
    }
   ],
   "source": [
    "n_of_val = int(len(encoder_input)*0.2)\n",
    "print('테스트 데이터의 수 :', n_of_val)"
   ]
  },
  {
   "cell_type": "markdown",
   "id": "e5ebc973",
   "metadata": {},
   "source": [
    "이렇게 정의한 테스트 데이터의 개수를 이용해 전체 데이터를 양분할게요.\n",
    ":표시의 위치에 주의해 주세요."
   ]
  },
  {
   "cell_type": "code",
   "execution_count": 63,
   "id": "ef3be5c3",
   "metadata": {},
   "outputs": [
    {
     "name": "stdout",
     "output_type": "stream",
     "text": [
      "훈련 데이터의 개수 : 77497\n",
      "훈련 레이블의 개수 : 77497\n",
      "테스트 데이터의 개수 : 19374\n",
      "테스트 레이블의 개수 : 19374\n"
     ]
    }
   ],
   "source": [
    "encoder_input_train = encoder_input[:-n_of_val]\n",
    "decoder_input_train = decoder_input[:-n_of_val]\n",
    "decoder_target_train = decoder_target[:-n_of_val]\n",
    "\n",
    "encoder_input_test = encoder_input[-n_of_val:]\n",
    "decoder_input_test = decoder_input[-n_of_val:]\n",
    "decoder_target_test = decoder_target[-n_of_val:]\n",
    "\n",
    "print('훈련 데이터의 개수 :', len(encoder_input_train))\n",
    "print('훈련 레이블의 개수 :', len(decoder_input_train))\n",
    "print('테스트 데이터의 개수 :', len(encoder_input_test))\n",
    "print('테스트 레이블의 개수 :', len(decoder_input_test))"
   ]
  },
  {
   "cell_type": "markdown",
   "id": "192eedc4",
   "metadata": {},
   "source": [
    "훈련 데이터와 테스트 데이터가 각각 77,497개와 19,374로 잘 분리되었음."
   ]
  },
  {
   "cell_type": "markdown",
   "id": "fce55b9d",
   "metadata": {},
   "source": [
    "### 단어 집합(vocabulary) 만들기 및 정수 인코딩"
   ]
  },
  {
   "cell_type": "markdown",
   "id": "10734066",
   "metadata": {},
   "source": [
    "<span style=\"color:blue\">**Keras의 토크나이저를 사용하여 단어 집합 만들기**</span>"
   ]
  },
  {
   "cell_type": "code",
   "execution_count": 66,
   "id": "3eda6718",
   "metadata": {
    "scrolled": false
   },
   "outputs": [],
   "source": [
    "from tensorflow.keras.preprocessing.text import Tokenizer\n",
    "\n",
    "src_tokenizer = Tokenizer() # 토크나이저 정의\n",
    "src_tokenizer.fit_on_texts(encoder_input_train) # 입력된 데이터로부터 단어 집합 생성"
   ]
  },
  {
   "cell_type": "markdown",
   "id": "4f0409dd",
   "metadata": {},
   "source": [
    "- 각 단어에 고유한 정수가 부여되었고, src_tokenizer.word_index에 저장되어 있음.   <span style=\"color:blue\">빈도수가 낮은 단어들은 훈련 데이터에서 제외하고 진행.</span>\n",
    "\n",
    "- 등장 빈도수가 7회 미만인 단어들이 이 데이터에서 *얼만큼의 비중을 차지하는지* 확인.\n",
    "\n",
    "<span style=\"color:blue\">src_tokenizer.word_counts.items()에는 단어와 각 단어의 등장 빈도수가 저장돼 있는데, 이를 통해서 통계적인 정보를 얻을 수 있다."
   ]
  },
  {
   "cell_type": "code",
   "execution_count": 67,
   "id": "1d47ef74",
   "metadata": {},
   "outputs": [
    {
     "name": "stdout",
     "output_type": "stream",
     "text": [
      "단어 집합(vocabulary)의 크기 : 69157\n",
      "등장 빈도가 6번 이하인 희귀 단어의 수: 47177\n",
      "단어 집합에서 희귀 단어를 제외시킬 경우의 단어 집합의 크기 21980\n",
      "단어 집합에서 희귀 단어의 비율: 68.21724481975794\n",
      "전체 등장 빈도에서 희귀 단어 등장 빈도 비율: 3.521350880116969\n"
     ]
    }
   ],
   "source": [
    "threshold = 7\n",
    "total_cnt = len(src_tokenizer.word_index) # 단어의 수\n",
    "rare_cnt = 0 # 등장 빈도수가 threshold보다 작은 단어의 개수를 카운트\n",
    "total_freq = 0 # 훈련 데이터의 전체 단어 빈도수 총 합\n",
    "rare_freq = 0 # 등장 빈도수가 threshold보다 작은 단어의 등장 빈도수의 총 합\n",
    "\n",
    "# 단어와 빈도수의 쌍(pair)을 key와 value로 받는다.\n",
    "for key, value in src_tokenizer.word_counts.items():\n",
    "    total_freq = total_freq + value\n",
    "\n",
    "    # 단어의 등장 빈도수가 threshold보다 작으면\n",
    "    if(value < threshold):\n",
    "        rare_cnt = rare_cnt + 1\n",
    "        rare_freq = rare_freq + value\n",
    "\n",
    "print('단어 집합(vocabulary)의 크기 :', total_cnt)\n",
    "print('등장 빈도가 %s번 이하인 희귀 단어의 수: %s'%(threshold - 1, rare_cnt))\n",
    "print('단어 집합에서 희귀 단어를 제외시킬 경우의 단어 집합의 크기 %s'%(total_cnt - rare_cnt))\n",
    "print(\"단어 집합에서 희귀 단어의 비율:\", (rare_cnt / total_cnt)*100)\n",
    "print(\"전체 등장 빈도에서 희귀 단어 등장 빈도 비율:\", (rare_freq / total_freq)*100)"
   ]
  },
  {
   "cell_type": "code",
   "execution_count": 68,
   "id": "93f83849",
   "metadata": {},
   "outputs": [],
   "source": [
    "src_vocab = 20000\n",
    "src_tokenizer = Tokenizer(num_words=src_vocab) # 단어 집합의 크기를 20,000으로 제한\n",
    "src_tokenizer.fit_on_texts(encoder_input_train) # 단어 집합 재생성"
   ]
  },
  {
   "cell_type": "markdown",
   "id": "5f0d858f",
   "metadata": {},
   "source": [
    "texts_to_sequences()는 생성된 단어 집합에 기반하여 입력으로 주어진 텍스트 데이터의 단어들을 모두 정수로 변환하는 정수 인코딩을 수행. \n",
    "<span style=\"color:blue\"> 현재 단어 집합의 크기를 20,000으로 제한했으니까 이제 20,000이 넘는 숫자들은 정수 인코딩 후에는 데이터에 존재하지 않는다."
   ]
  },
  {
   "cell_type": "code",
   "execution_count": 69,
   "id": "31bdb01f",
   "metadata": {},
   "outputs": [
    {
     "name": "stdout",
     "output_type": "stream",
     "text": [
      "[[1624, 49, 2329, 2974, 363, 1330, 4158, 9962, 255, 26, 52, 1419, 1040, 144, 1279, 9963, 2315, 55, 1047, 144, 43, 12082, 529, 2989, 1770, 15262, 4199, 12447, 1295, 1047, 255, 1368, 1624, 96, 386, 1420, 49, 2974], [25, 752, 586, 1635, 4502, 3003, 1686, 193, 10390, 3646, 372, 1583, 148, 477, 1067, 12, 5008, 2870, 477, 264, 179, 25, 752, 671, 25, 8063, 1235, 1525, 1554, 165, 165, 3531, 325, 1345, 477], [428, 120, 6626, 4874, 1, 1647, 123, 335, 208, 729, 1636, 6485, 24, 6193, 869, 6193, 4533, 29, 133, 4874, 40, 428, 3083, 1444, 1464, 335, 6485, 2187, 1464, 102, 5614, 69, 1935, 1510, 3]]\n"
     ]
    }
   ],
   "source": [
    "# 텍스트 시퀀스를 정수 시퀀스로 변환\n",
    "encoder_input_train = src_tokenizer.texts_to_sequences(encoder_input_train) \n",
    "encoder_input_test = src_tokenizer.texts_to_sequences(encoder_input_test)\n",
    "\n",
    "# 잘 진행되었는지 샘플 출력\n",
    "print(encoder_input_train[:3])"
   ]
  },
  {
   "cell_type": "markdown",
   "id": "e2fef887",
   "metadata": {},
   "source": [
    "headlines 데이터에 대해서도 동일한 작업을 수행.\n",
    "- 케라스의 토크나이저를 사용하여 decoder_input_train을 입력으로 전체 단어 집합과 각 단어에 대한 빈도수를 계산"
   ]
  },
  {
   "cell_type": "code",
   "execution_count": 70,
   "id": "232b30ef",
   "metadata": {},
   "outputs": [],
   "source": [
    "tar_tokenizer = Tokenizer()\n",
    "tar_tokenizer.fit_on_texts(decoder_input_train)"
   ]
  },
  {
   "cell_type": "markdown",
   "id": "9d096cfb",
   "metadata": {},
   "source": [
    "<span style=\"color:blue\"> 등장 빈도수가 6회 미만인 단어들이 이 데이터에서 얼만큼의 비중을 차지하는지</span> 확인.\n"
   ]
  },
  {
   "cell_type": "code",
   "execution_count": 71,
   "id": "9dbdfb13",
   "metadata": {},
   "outputs": [
    {
     "name": "stdout",
     "output_type": "stream",
     "text": [
      "단어 집합(vocabulary)의 크기 : 29967\n",
      "등장 빈도가 5번 이하인 희귀 단어의 수: 19628\n",
      "단어 집합에서 희귀 단어를 제외시킬 경우의 단어 집합의 크기 10339\n",
      "단어 집합에서 희귀 단어의 비율: 65.49871525344545\n",
      "전체 등장 빈도에서 희귀 단어 등장 빈도 비율: 4.72365200398884\n"
     ]
    }
   ],
   "source": [
    "threshold = 6\n",
    "total_cnt = len(tar_tokenizer.word_index) # 단어의 수\n",
    "rare_cnt = 0 # 등장 빈도수가 threshold보다 작은 단어의 개수를 카운트\n",
    "total_freq = 0 # 훈련 데이터의 전체 단어 빈도수 총 합\n",
    "rare_freq = 0 # 등장 빈도수가 threshold보다 작은 단어의 등장 빈도수의 총 합\n",
    "\n",
    "# 단어와 빈도수의 쌍(pair)을 key와 value로 받는다.\n",
    "for key, value in tar_tokenizer.word_counts.items():\n",
    "    total_freq = total_freq + value\n",
    "\n",
    "    # 단어의 등장 빈도수가 threshold보다 작으면\n",
    "    if(value < threshold):\n",
    "        rare_cnt = rare_cnt + 1\n",
    "        rare_freq = rare_freq + value\n",
    "\n",
    "print('단어 집합(vocabulary)의 크기 :', total_cnt)\n",
    "print('등장 빈도가 %s번 이하인 희귀 단어의 수: %s'%(threshold - 1, rare_cnt))\n",
    "print('단어 집합에서 희귀 단어를 제외시킬 경우의 단어 집합의 크기 %s'%(total_cnt - rare_cnt))\n",
    "print(\"단어 집합에서 희귀 단어의 비율:\", (rare_cnt / total_cnt)*100)\n",
    "print(\"전체 등장 빈도에서 희귀 단어 등장 빈도 비율:\", (rare_freq / total_freq)*100)"
   ]
  },
  {
   "cell_type": "markdown",
   "id": "4b993960",
   "metadata": {},
   "source": [
    "등장 빈도가 5회 이하인 단어들은 단어 집합에서 약 65%를 차지.   \n",
    "하지만 실제로 훈련 데이터에서 등장 빈도로 차지하는 비중은 상대적으로 매우 적은 수치인 4.72%밖에 되지 않아, 제거.    "
   ]
  },
  {
   "cell_type": "code",
   "execution_count": 72,
   "id": "7a523027",
   "metadata": {},
   "outputs": [
    {
     "name": "stdout",
     "output_type": "stream",
     "text": [
      "input\n",
      "input  [[1, 684, 3135, 1609, 1416, 14, 530, 15, 5568, 1561], [1, 995, 372, 240, 14, 1958, 5569, 219, 241, 7206], [1, 192, 81, 21, 100, 4933, 377, 142, 229, 4934, 1250, 67], [1, 7637, 472, 20, 162, 110, 71], [1, 691, 4099, 3757, 7638, 10, 178, 438]]\n",
      "target\n",
      "decoder  [[684, 3135, 1609, 1416, 14, 530, 15, 5568, 1561, 2], [995, 372, 240, 14, 1958, 5569, 219, 241, 7206, 2], [192, 81, 21, 100, 4933, 377, 142, 229, 4934, 1250, 67, 2], [7637, 472, 20, 162, 110, 71, 2], [691, 4099, 3757, 7638, 10, 178, 438, 2]]\n"
     ]
    }
   ],
   "source": [
    "tar_vocab = 10000\n",
    "tar_tokenizer = Tokenizer(num_words=tar_vocab) \n",
    "tar_tokenizer.fit_on_texts(decoder_input_train)\n",
    "tar_tokenizer.fit_on_texts(decoder_target_train)\n",
    "\n",
    "# 텍스트 시퀀스를 정수 시퀀스로 변환\n",
    "decoder_input_train = tar_tokenizer.texts_to_sequences(decoder_input_train) \n",
    "decoder_target_train = tar_tokenizer.texts_to_sequences(decoder_target_train)\n",
    "decoder_input_test = tar_tokenizer.texts_to_sequences(decoder_input_test)\n",
    "decoder_target_test = tar_tokenizer.texts_to_sequences(decoder_target_test)\n",
    "\n",
    "# 잘 변환되었는지 확인\n",
    "print('input')\n",
    "print('input ',decoder_input_train[:5])\n",
    "print('target')\n",
    "print('decoder ',decoder_target_train[:5])"
   ]
  },
  {
   "cell_type": "markdown",
   "id": "d6d57e4c",
   "metadata": {},
   "source": [
    "빈도수가 낮아 제거되어 실제 데이터가 없는 샘플 삭제처리"
   ]
  },
  {
   "cell_type": "code",
   "execution_count": 73,
   "id": "233d9e5d",
   "metadata": {},
   "outputs": [
    {
     "name": "stdout",
     "output_type": "stream",
     "text": [
      "삭제할 훈련 데이터의 개수 : 1\n",
      "삭제할 테스트 데이터의 개수 : 0\n",
      "훈련 데이터의 개수 : 77496\n",
      "훈련 레이블의 개수 : 77496\n",
      "테스트 데이터의 개수 : 19374\n",
      "테스트 레이블의 개수 : 19374\n"
     ]
    }
   ],
   "source": [
    "drop_train = [index for index, sentence in enumerate(decoder_input_train) if len(sentence) == 1]\n",
    "drop_test = [index for index, sentence in enumerate(decoder_input_test) if len(sentence) == 1]\n",
    "\n",
    "print('삭제할 훈련 데이터의 개수 :', len(drop_train))\n",
    "print('삭제할 테스트 데이터의 개수 :', len(drop_test))\n",
    "\n",
    "encoder_input_train = [sentence for index, sentence in enumerate(encoder_input_train) if index not in drop_train]\n",
    "decoder_input_train = [sentence for index, sentence in enumerate(decoder_input_train) if index not in drop_train]\n",
    "decoder_target_train = [sentence for index, sentence in enumerate(decoder_target_train) if index not in drop_train]\n",
    "\n",
    "encoder_input_test = [sentence for index, sentence in enumerate(encoder_input_test) if index not in drop_test]\n",
    "decoder_input_test = [sentence for index, sentence in enumerate(decoder_input_test) if index not in drop_test]\n",
    "decoder_target_test = [sentence for index, sentence in enumerate(decoder_target_test) if index not in drop_test]\n",
    "\n",
    "print('훈련 데이터의 개수 :', len(encoder_input_train))\n",
    "print('훈련 레이블의 개수 :', len(decoder_input_train))\n",
    "print('테스트 데이터의 개수 :', len(encoder_input_test))\n",
    "print('테스트 레이블의 개수 :', len(decoder_input_test))"
   ]
  },
  {
   "cell_type": "markdown",
   "id": "0ccc84c1",
   "metadata": {},
   "source": [
    "훈련 데이터와 테스트 데이터 모두 일정량의 샘플들이 제거된 것을 확인할 수 있어요. 이제 거의 다 왔어요."
   ]
  },
  {
   "cell_type": "markdown",
   "id": "52fa2f86",
   "metadata": {},
   "source": [
    "### 패딩하기"
   ]
  },
  {
   "cell_type": "markdown",
   "id": "f2a9a936",
   "metadata": {},
   "source": [
    "텍스트 시퀀스를 정수 시퀀스로 변환했다면, 이제 서로 다른 길이의 샘플들을 병렬 처리하기 위해 같은 길이로 맞춰주는 패딩 작업을 해주어야 해야 해요. 아까 정해두었던 최대 길이로 패딩 해 줄 거에요. 최대 길이보다 짧은 데이터들은 뒤의 공간에 숫자 0을 넣어 최대 길이로 길이를 맞춰줄게요."
   ]
  },
  {
   "cell_type": "code",
   "execution_count": 75,
   "id": "08c0e2f1",
   "metadata": {},
   "outputs": [],
   "source": [
    "from tensorflow.keras.preprocessing.sequence import pad_sequences\n",
    "\n",
    "encoder_input_train = pad_sequences(encoder_input_train, maxlen=text_max_len, padding='post')\n",
    "encoder_input_test = pad_sequences(encoder_input_test, maxlen=text_max_len, padding='post')\n",
    "decoder_input_train = pad_sequences(decoder_input_train, maxlen=summary_max_len, padding='post')\n",
    "decoder_target_train = pad_sequences(decoder_target_train, maxlen=summary_max_len, padding='post')\n",
    "decoder_input_test = pad_sequences(decoder_input_test, maxlen=summary_max_len, padding='post')\n",
    "decoder_target_test = pad_sequences(decoder_target_test, maxlen=summary_max_len, padding='post')"
   ]
  },
  {
   "cell_type": "markdown",
   "id": "992f7b52",
   "metadata": {},
   "source": [
    "## Step 3. 어텐션 메커니즘 사용하기 (추상적 요약)\n",
    "- 어텐션 메커니즘을 사용한 seq2seq를 설계"
   ]
  },
  {
   "cell_type": "code",
   "execution_count": 76,
   "id": "ea9c3c3c",
   "metadata": {},
   "outputs": [],
   "source": [
    "from tensorflow.keras.layers import Input, LSTM, Embedding, Dense, Concatenate, AdditiveAttention\n",
    "from tensorflow.keras.models import Model\n",
    "from tensorflow.keras.callbacks import EarlyStopping, ModelCheckpoint\n",
    "\n",
    "# 인코더 설계 시작\n",
    "embedding_dim = 128\n",
    "hidden_size = 256\n",
    "\n",
    "# 인코더\n",
    "encoder_inputs = Input(shape=(text_max_len,))\n",
    "\n",
    "# 인코더의 임베딩 층\n",
    "enc_emb = Embedding(src_vocab, embedding_dim)(encoder_inputs)\n",
    "\n",
    "# 인코더의 LSTM 1\n",
    "# encoder_lstm1 = LSTM(hidden_size, return_sequences=True, return_state=True ,dropout = 0.4, recurrent_dropout = 0.4)\n",
    "encoder_lstm1 = LSTM(hidden_size, return_sequences=True, return_state=True ,dropout = 0.4)\n",
    "encoder_output1, state_h1, state_c1 = encoder_lstm1(enc_emb)\n",
    "\n",
    "# 인코더의 LSTM 2\n",
    "encoder_lstm2 = LSTM(hidden_size, return_sequences=True, return_state=True ,dropout = 0.4)\n",
    "encoder_output2, state_h2, state_c2 = encoder_lstm2(encoder_output1)\n",
    "\n",
    "# 인코더의 LSTM 3\n",
    "encoder_lstm3 = LSTM(hidden_size, return_sequences=True, return_state=True ,dropout = 0.4)\n",
    "encoder_outputs, state_h, state_c = encoder_lstm3(encoder_output2)\n"
   ]
  },
  {
   "cell_type": "code",
   "execution_count": 77,
   "id": "50d5c8ac",
   "metadata": {},
   "outputs": [],
   "source": [
    "# 디코더 설계\n",
    "decoder_inputs = Input(shape=(None,))\n",
    "\n",
    "# 디코더의 임베딩 층\n",
    "dec_emb_layer = Embedding(tar_vocab, embedding_dim)\n",
    "dec_emb = dec_emb_layer(decoder_inputs)\n",
    "\n",
    "# 디코더의 LSTM\n",
    "# decoder_lstm = LSTM(hidden_size, return_sequences=True, return_state=True, dropout=0.4, recurrent_dropout=0.2)\n",
    "decoder_lstm = LSTM(hidden_size, return_sequences=True, return_state=True, dropout=0.4)\n",
    "decoder_outputs, _, _ = decoder_lstm(dec_emb, initial_state=[state_h, state_c])"
   ]
  },
  {
   "cell_type": "markdown",
   "id": "8e6b098b",
   "metadata": {},
   "source": [
    "디코더의 임베딩 층과 LSTM을 설계하는 것은 인코더와 거의 동일해요. 하지만 LSTM의 입력을 정의할 때, initial_state의 인자값으로 인코더의 hidden state와 cell state의 값을 넣어줘야 해요.\n",
    "\n",
    "디코더의 출력층을 설계해볼게요."
   ]
  },
  {
   "cell_type": "code",
   "execution_count": 78,
   "id": "d25a9987",
   "metadata": {
    "scrolled": true
   },
   "outputs": [],
   "source": [
    "# 디코더의 출력층\n",
    "decoder_softmax_layer = Dense(tar_vocab, activation='softmax')\n",
    "decoder_softmax_outputs = decoder_softmax_layer(decoder_outputs) \n",
    "\n",
    "# 모델 정의\n",
    "model = Model([encoder_inputs, decoder_inputs], decoder_softmax_outputs)"
   ]
  },
  {
   "cell_type": "markdown",
   "id": "3e931003",
   "metadata": {},
   "source": [
    "### 어텐션 메커니즘"
   ]
  },
  {
   "cell_type": "code",
   "execution_count": 79,
   "id": "3c35de9d",
   "metadata": {
    "scrolled": true
   },
   "outputs": [
    {
     "name": "stdout",
     "output_type": "stream",
     "text": [
      "Model: \"model_1\"\n",
      "__________________________________________________________________________________________________\n",
      "Layer (type)                    Output Shape         Param #     Connected to                     \n",
      "==================================================================================================\n",
      "input_1 (InputLayer)            [(None, 45)]         0                                            \n",
      "__________________________________________________________________________________________________\n",
      "embedding (Embedding)           (None, 45, 128)      2560000     input_1[0][0]                    \n",
      "__________________________________________________________________________________________________\n",
      "lstm (LSTM)                     [(None, 45, 256), (N 394240      embedding[0][0]                  \n",
      "__________________________________________________________________________________________________\n",
      "input_2 (InputLayer)            [(None, None)]       0                                            \n",
      "__________________________________________________________________________________________________\n",
      "lstm_1 (LSTM)                   [(None, 45, 256), (N 525312      lstm[0][0]                       \n",
      "__________________________________________________________________________________________________\n",
      "embedding_1 (Embedding)         (None, None, 128)    1280000     input_2[0][0]                    \n",
      "__________________________________________________________________________________________________\n",
      "lstm_2 (LSTM)                   [(None, 45, 256), (N 525312      lstm_1[0][0]                     \n",
      "__________________________________________________________________________________________________\n",
      "lstm_3 (LSTM)                   [(None, None, 256),  394240      embedding_1[0][0]                \n",
      "                                                                 lstm_2[0][1]                     \n",
      "                                                                 lstm_2[0][2]                     \n",
      "__________________________________________________________________________________________________\n",
      "attention_layer (AdditiveAttent (None, None, 256)    256         lstm_3[0][0]                     \n",
      "                                                                 lstm_2[0][0]                     \n",
      "__________________________________________________________________________________________________\n",
      "concat_layer (Concatenate)      (None, None, 512)    0           lstm_3[0][0]                     \n",
      "                                                                 attention_layer[0][0]            \n",
      "__________________________________________________________________________________________________\n",
      "dense_1 (Dense)                 (None, None, 10000)  5130000     concat_layer[0][0]               \n",
      "==================================================================================================\n",
      "Total params: 10,809,360\n",
      "Trainable params: 10,809,360\n",
      "Non-trainable params: 0\n",
      "__________________________________________________________________________________________________\n"
     ]
    }
   ],
   "source": [
    "attn_layer = AdditiveAttention(name='attention_layer')\n",
    "# 인코더와 디코더의 모든 time step의 hidden state를 어텐션 층에 전달하고 결과를 리턴\n",
    "attn_out = attn_layer([decoder_outputs, encoder_outputs])\n",
    "\n",
    "\n",
    "# 어텐션의 결과와 디코더의 hidden state들을 연결\n",
    "decoder_concat_input = Concatenate(axis=-1, name='concat_layer')([decoder_outputs, attn_out])\n",
    "\n",
    "# 디코더의 출력층\n",
    "decoder_softmax_layer = Dense(tar_vocab, activation='softmax')\n",
    "decoder_softmax_outputs = decoder_softmax_layer(decoder_concat_input)\n",
    "\n",
    "# 모델 정의\n",
    "model = Model([encoder_inputs, decoder_inputs], decoder_softmax_outputs)\n",
    "model.summary()"
   ]
  },
  {
   "cell_type": "markdown",
   "id": "a7b11543",
   "metadata": {},
   "source": [
    "위의 코드는 인코더의 hidden state들과 디코더의 hidden state들을 어텐션 함수의 입력으로 사용하고, 어텐션 함수가 리턴한 값을 예측 시에 디코더의 hidden state와 함께 활용하는 형태로 작동하고 있어요."
   ]
  },
  {
   "cell_type": "code",
   "execution_count": 81,
   "id": "2841e01a",
   "metadata": {
    "scrolled": true
   },
   "outputs": [
    {
     "data": {
      "image/png": "[encoded data removed]",
      "text/plain": [
       "<IPython.core.display.Image object>"
      ]
     },
     "execution_count": 81,
     "metadata": {},
     "output_type": "execute_result"
    }
   ],
   "source": [
    "from tensorflow import keras\n",
    "\n",
    "# 완성된 모델의 개념도 확인\n",
    "keras.utils.plot_model(model, show_shapes=True)"
   ]
  },
  {
   "cell_type": "markdown",
   "id": "f00ba679",
   "metadata": {},
   "source": [
    "- 왼쪽 위의 3개의 LSTM(input_3에서 lstm_6)까지 Encoder에 해당\n",
    "- 오른쪽의 input_4부터 lstm_7까지가 Decoder에 해당하며, Decoder의 임베딩과 Encoder의 cell_state, hidden_state를 활용해서 계산된 값을 Encoder와 AdditiveAttention(Badanauh Attention)을 활용하여 최종적으로 Concatenate를 하고, Dense layer를 통해서 다음에 나올 토큰의 최종 확률 결과를 도출합니다."
   ]
  },
  {
   "cell_type": "markdown",
   "id": "49956331",
   "metadata": {},
   "source": [
    "## 모델 훈련하기\n",
    "설계한 모델을 가지고 훈련을 진행해볼게요."
   ]
  },
  {
   "cell_type": "code",
   "execution_count": 83,
   "id": "8aa06c97",
   "metadata": {},
   "outputs": [],
   "source": [
    "import os"
   ]
  },
  {
   "cell_type": "code",
   "execution_count": 85,
   "id": "e53b3e5b",
   "metadata": {
    "scrolled": true
   },
   "outputs": [
    {
     "name": "stdout",
     "output_type": "stream",
     "text": [
      "Epoch 1/50\n",
      "38/38 [==============================] - 33s 729ms/step - loss: 6.0153 - val_loss: 5.7663\n",
      "Epoch 2/50\n",
      "38/38 [==============================] - 28s 728ms/step - loss: 5.7078 - val_loss: 5.5736\n",
      "Epoch 3/50\n",
      "38/38 [==============================] - 28s 744ms/step - loss: 5.5347 - val_loss: 5.3907\n",
      "Epoch 4/50\n",
      "38/38 [==============================] - 28s 728ms/step - loss: 5.3700 - val_loss: 5.2672\n",
      "Epoch 5/50\n",
      "38/38 [==============================] - 28s 733ms/step - loss: 5.2534 - val_loss: 5.1689\n",
      "Epoch 6/50\n",
      "38/38 [==============================] - 28s 738ms/step - loss: 5.1368 - val_loss: 5.0649\n",
      "Epoch 7/50\n",
      "38/38 [==============================] - 28s 736ms/step - loss: 5.0194 - val_loss: 4.9721\n",
      "Epoch 8/50\n",
      "38/38 [==============================] - 28s 733ms/step - loss: 4.9145 - val_loss: 4.9001\n",
      "Epoch 9/50\n",
      "38/38 [==============================] - 28s 733ms/step - loss: 4.8151 - val_loss: 4.8006\n",
      "Epoch 10/50\n",
      "38/38 [==============================] - 28s 740ms/step - loss: 4.7231 - val_loss: 4.7187\n",
      "Epoch 11/50\n",
      "38/38 [==============================] - 28s 740ms/step - loss: 4.6280 - val_loss: 4.6624\n",
      "Epoch 12/50\n",
      "38/38 [==============================] - 28s 733ms/step - loss: 4.5342 - val_loss: 4.5889\n",
      "Epoch 13/50\n",
      "38/38 [==============================] - 28s 738ms/step - loss: 4.4473 - val_loss: 4.5135\n",
      "Epoch 14/50\n",
      "38/38 [==============================] - 28s 739ms/step - loss: 4.3637 - val_loss: 4.4794\n",
      "Epoch 15/50\n",
      "38/38 [==============================] - 28s 738ms/step - loss: 4.2843 - val_loss: 4.4004\n",
      "Epoch 16/50\n",
      "38/38 [==============================] - 28s 741ms/step - loss: 4.2042 - val_loss: 4.3288\n",
      "Epoch 17/50\n",
      "38/38 [==============================] - 28s 741ms/step - loss: 4.1256 - val_loss: 4.2925\n",
      "Epoch 18/50\n",
      "38/38 [==============================] - 28s 739ms/step - loss: 4.0539 - val_loss: 4.2397\n",
      "Epoch 19/50\n",
      "38/38 [==============================] - 28s 739ms/step - loss: 3.9860 - val_loss: 4.1954\n",
      "Epoch 20/50\n",
      "38/38 [==============================] - 28s 739ms/step - loss: 3.9184 - val_loss: 4.1756\n",
      "Epoch 21/50\n",
      "38/38 [==============================] - 28s 739ms/step - loss: 3.8555 - val_loss: 4.1238\n",
      "Epoch 22/50\n",
      "38/38 [==============================] - 28s 737ms/step - loss: 3.7942 - val_loss: 4.0800\n",
      "Epoch 23/50\n",
      "38/38 [==============================] - 28s 739ms/step - loss: 3.7358 - val_loss: 4.0553\n",
      "Epoch 24/50\n",
      "38/38 [==============================] - 28s 734ms/step - loss: 3.6788 - val_loss: 4.0303\n",
      "Epoch 25/50\n",
      "38/38 [==============================] - 28s 739ms/step - loss: 3.6255 - val_loss: 4.0020\n",
      "Epoch 26/50\n",
      "38/38 [==============================] - 28s 740ms/step - loss: 3.5747 - val_loss: 3.9731\n",
      "Epoch 27/50\n",
      "38/38 [==============================] - 28s 739ms/step - loss: 3.5246 - val_loss: 3.9545\n",
      "Epoch 28/50\n",
      "38/38 [==============================] - 28s 737ms/step - loss: 3.4771 - val_loss: 3.9439\n",
      "Epoch 29/50\n",
      "38/38 [==============================] - 28s 735ms/step - loss: 3.4319 - val_loss: 3.9143\n",
      "Epoch 30/50\n",
      "38/38 [==============================] - 28s 738ms/step - loss: 3.3864 - val_loss: 3.8963\n",
      "Epoch 31/50\n",
      "38/38 [==============================] - 28s 738ms/step - loss: 3.3449 - val_loss: 3.8863\n",
      "Epoch 32/50\n",
      "38/38 [==============================] - 28s 737ms/step - loss: 3.3030 - val_loss: 3.8710\n",
      "Epoch 33/50\n",
      "38/38 [==============================] - 28s 738ms/step - loss: 3.2613 - val_loss: 3.8573\n",
      "Epoch 34/50\n",
      "38/38 [==============================] - 28s 737ms/step - loss: 3.2236 - val_loss: 3.8449\n",
      "Epoch 35/50\n",
      "38/38 [==============================] - 28s 738ms/step - loss: 3.1852 - val_loss: 3.8384\n",
      "Epoch 36/50\n",
      "38/38 [==============================] - 28s 737ms/step - loss: 3.1500 - val_loss: 3.8357\n",
      "Epoch 37/50\n",
      "38/38 [==============================] - 28s 738ms/step - loss: 3.1129 - val_loss: 3.8186\n",
      "Epoch 38/50\n",
      "38/38 [==============================] - 28s 738ms/step - loss: 3.0783 - val_loss: 3.8144\n",
      "Epoch 39/50\n",
      "38/38 [==============================] - 28s 737ms/step - loss: 3.0444 - val_loss: 3.8172\n",
      "Epoch 40/50\n",
      "38/38 [==============================] - 28s 742ms/step - loss: 3.0124 - val_loss: 3.8032\n",
      "Epoch 41/50\n",
      "38/38 [==============================] - 28s 739ms/step - loss: 2.9782 - val_loss: 3.8023\n",
      "Epoch 42/50\n",
      "38/38 [==============================] - 28s 737ms/step - loss: 2.9486 - val_loss: 3.7987\n",
      "Epoch 43/50\n",
      "38/38 [==============================] - 28s 737ms/step - loss: 2.9174 - val_loss: 3.7900\n",
      "Epoch 44/50\n",
      "38/38 [==============================] - 28s 740ms/step - loss: 2.8869 - val_loss: 3.7879\n",
      "Epoch 45/50\n",
      "38/38 [==============================] - 28s 739ms/step - loss: 2.8592 - val_loss: 3.7885\n",
      "Epoch 46/50\n",
      "38/38 [==============================] - 28s 737ms/step - loss: 2.8303 - val_loss: 3.7865\n",
      "Epoch 47/50\n",
      "38/38 [==============================] - 28s 739ms/step - loss: 2.8023 - val_loss: 3.7799\n",
      "Epoch 48/50\n",
      "38/38 [==============================] - 28s 735ms/step - loss: 2.7739 - val_loss: 3.7788\n",
      "Epoch 49/50\n",
      "38/38 [==============================] - 28s 739ms/step - loss: 2.7475 - val_loss: 3.7790\n",
      "Epoch 50/50\n",
      "38/38 [==============================] - 28s 737ms/step - loss: 2.7217 - val_loss: 3.7779\n",
      "CPU times: user 14min 36s, sys: 22.2 s, total: 14min 58s\n",
      "Wall time: 23min 59s\n"
     ]
    }
   ],
   "source": [
    "%%time\n",
    "model.compile(optimizer='rmsprop', loss='sparse_categorical_crossentropy')\n",
    "es = EarlyStopping(monitor='val_loss', patience=10, verbose=1)\n",
    "\n",
    "checkpoint_filepath = os.getcwd() + './ckpt/headlines_checkpoint.model.keras'\n",
    "# print(checkpoint_filepath)\n",
    "\n",
    "model_checkpoint_callback = keras.callbacks.ModelCheckpoint(\n",
    "    filepath=checkpoint_filepath,\n",
    "    monitor='val_loss',\n",
    "    mode='auto',\n",
    "    save_best_only=True)\n",
    "\n",
    "history = model.fit(x=[encoder_input_train, decoder_input_train], y=decoder_target_train, \\\n",
    "          validation_data=([encoder_input_test, decoder_input_test], decoder_target_test), \\\n",
    "        #   batch_size=256,\n",
    "          batch_size=2048, \n",
    "          callbacks=[es, model_checkpoint_callback], epochs=50)\n"
   ]
  },
  {
   "cell_type": "code",
   "execution_count": 86,
   "id": "dc8ad178",
   "metadata": {},
   "outputs": [
    {
     "data": {
      "image/png": "[encoded data removed]",
      "text/plain": [
       "<Figure size 432x288 with 1 Axes>"
      ]
     },
     "metadata": {
      "needs_background": "light"
     },
     "output_type": "display_data"
    }
   ],
   "source": [
    "plt.plot(history.history['loss'], label='train')\n",
    "plt.plot(history.history['val_loss'], label='test')\n",
    "plt.legend()\n",
    "plt.show()"
   ]
  },
  {
   "cell_type": "markdown",
   "id": "11ddd953",
   "metadata": {},
   "source": [
    "10분간 돌았고, Early stop을 적용했지만 50epoch을 다 돌았다. 확실한 Saturation을 위해서 50번 더 돌려봐야 할 것 같다."
   ]
  },
  {
   "cell_type": "code",
   "execution_count": 87,
   "id": "6918d78c",
   "metadata": {},
   "outputs": [
    {
     "name": "stderr",
     "output_type": "stream",
     "text": [
      "WARNING:absl:Found untraced functions such as lstm_cell_layer_call_and_return_conditional_losses, lstm_cell_layer_call_fn, lstm_cell_1_layer_call_and_return_conditional_losses, lstm_cell_1_layer_call_fn, lstm_cell_2_layer_call_and_return_conditional_losses while saving (showing 5 of 20). These functions will not be directly callable after loading.\n"
     ]
    },
    {
     "name": "stdout",
     "output_type": "stream",
     "text": [
      "INFO:tensorflow:Assets written to: saved_model/my_headlines_model/assets\n"
     ]
    },
    {
     "name": "stderr",
     "output_type": "stream",
     "text": [
      "INFO:tensorflow:Assets written to: saved_model/my_headlines_model/assets\n"
     ]
    }
   ],
   "source": [
    "# 모델 체크포인트 저장\n",
    "model.save('saved_model/my_headlines_model')"
   ]
  },
  {
   "cell_type": "code",
   "execution_count": 88,
   "id": "1cfa5bd3",
   "metadata": {
    "scrolled": true
   },
   "outputs": [
    {
     "name": "stdout",
     "output_type": "stream",
     "text": [
      "Model: \"model_1\"\n",
      "__________________________________________________________________________________________________\n",
      "Layer (type)                    Output Shape         Param #     Connected to                     \n",
      "==================================================================================================\n",
      "input_1 (InputLayer)            [(None, 45)]         0                                            \n",
      "__________________________________________________________________________________________________\n",
      "embedding (Embedding)           (None, 45, 128)      2560000     input_1[0][0]                    \n",
      "__________________________________________________________________________________________________\n",
      "lstm (LSTM)                     [(None, 45, 256), (N 394240      embedding[0][0]                  \n",
      "__________________________________________________________________________________________________\n",
      "input_2 (InputLayer)            [(None, None)]       0                                            \n",
      "__________________________________________________________________________________________________\n",
      "lstm_1 (LSTM)                   [(None, 45, 256), (N 525312      lstm[0][0]                       \n",
      "__________________________________________________________________________________________________\n",
      "embedding_1 (Embedding)         (None, None, 128)    1280000     input_2[0][0]                    \n",
      "__________________________________________________________________________________________________\n",
      "lstm_2 (LSTM)                   [(None, 45, 256), (N 525312      lstm_1[0][0]                     \n",
      "__________________________________________________________________________________________________\n",
      "lstm_3 (LSTM)                   [(None, None, 256),  394240      embedding_1[0][0]                \n",
      "                                                                 lstm_2[0][1]                     \n",
      "                                                                 lstm_2[0][2]                     \n",
      "__________________________________________________________________________________________________\n",
      "attention_layer (AdditiveAttent (None, None, 256)    256         lstm_3[0][0]                     \n",
      "                                                                 lstm_2[0][0]                     \n",
      "__________________________________________________________________________________________________\n",
      "concat_layer (Concatenate)      (None, None, 512)    0           lstm_3[0][0]                     \n",
      "                                                                 attention_layer[0][0]            \n",
      "__________________________________________________________________________________________________\n",
      "dense_1 (Dense)                 (None, None, 10000)  5130000     concat_layer[0][0]               \n",
      "==================================================================================================\n",
      "Total params: 10,809,360\n",
      "Trainable params: 10,809,360\n",
      "Non-trainable params: 0\n",
      "__________________________________________________________________________________________________\n"
     ]
    }
   ],
   "source": [
    "# 50에폭 추가로 학습 진행하기\n",
    "new_model = keras.models.load_model('saved_model/my_headlines_model')\n",
    "new_model.summary()"
   ]
  },
  {
   "cell_type": "code",
   "execution_count": 89,
   "id": "92643161",
   "metadata": {
    "scrolled": true
   },
   "outputs": [
    {
     "name": "stdout",
     "output_type": "stream",
     "text": [
      "Epoch 1/50\n",
      "38/38 [==============================] - 34s 778ms/step - loss: 2.7403 - val_loss: 3.7780\n",
      "Epoch 2/50\n",
      "38/38 [==============================] - 28s 745ms/step - loss: 2.6726 - val_loss: 3.7745\n",
      "Epoch 3/50\n",
      "38/38 [==============================] - 28s 731ms/step - loss: 2.6466 - val_loss: 3.7821\n",
      "Epoch 4/50\n",
      "38/38 [==============================] - 28s 736ms/step - loss: 2.6215 - val_loss: 3.7806\n",
      "Epoch 5/50\n",
      "38/38 [==============================] - 28s 743ms/step - loss: 2.5968 - val_loss: 3.7822\n",
      "Epoch 6/50\n",
      "38/38 [==============================] - 28s 738ms/step - loss: 2.5732 - val_loss: 3.7874\n",
      "Epoch 7/50\n",
      "38/38 [==============================] - 28s 734ms/step - loss: 2.5504 - val_loss: 3.7861\n",
      "Epoch 8/50\n",
      "38/38 [==============================] - 28s 737ms/step - loss: 2.5280 - val_loss: 3.7873\n",
      "Epoch 9/50\n",
      "38/38 [==============================] - 28s 738ms/step - loss: 2.5079 - val_loss: 3.7934\n",
      "Epoch 10/50\n",
      "38/38 [==============================] - 28s 736ms/step - loss: 2.4853 - val_loss: 3.7972\n",
      "Epoch 11/50\n",
      "38/38 [==============================] - 28s 740ms/step - loss: 2.4638 - val_loss: 3.7999\n",
      "Epoch 12/50\n",
      "38/38 [==============================] - 28s 736ms/step - loss: 2.4434 - val_loss: 3.8021\n",
      "Epoch 00012: early stopping\n"
     ]
    }
   ],
   "source": [
    "history = new_model.fit(x=[encoder_input_train, decoder_input_train], y=decoder_target_train, \\\n",
    "          validation_data=([encoder_input_test, decoder_input_test], decoder_target_test), \\\n",
    "        #   batch_size=256,\n",
    "          batch_size=2048, \n",
    "          callbacks=[es, model_checkpoint_callback], epochs=50)"
   ]
  },
  {
   "cell_type": "code",
   "execution_count": 90,
   "id": "8b661428",
   "metadata": {
    "scrolled": false
   },
   "outputs": [
    {
     "data": {
      "image/png": "[encoded data removed]",
      "text/plain": [
       "<Figure size 432x288 with 1 Axes>"
      ]
     },
     "metadata": {
      "needs_background": "light"
     },
     "output_type": "display_data"
    }
   ],
   "source": [
    "# 12에폭 추가 학습 후 플롯\n",
    "plt.plot(history.history['loss'], label='train')\n",
    "plt.plot(history.history['val_loss'], label='test')\n",
    "plt.legend()\n",
    "plt.show()"
   ]
  },
  {
   "cell_type": "markdown",
   "id": "0214fc3e",
   "metadata": {},
   "source": [
    "- 추가학습이 된 것이 점점 Overfit이 되는 경향을 확인.\n",
    "- val_loss기준으로 1.94정도가 되는 에폭이 적절한 성능에 해당할 것 같다."
   ]
  },
  {
   "cell_type": "markdown",
   "id": "2657897c",
   "metadata": {},
   "source": [
    "## Step 4. 실제 결과와 요약문 비교하기 (추상적 요약)\n",
    "원래의 요약문(headlines 열)과 학습을 통해 얻은 추상적 요약의 결과를 비교해 보세요."
   ]
  },
  {
   "cell_type": "markdown",
   "id": "e9d2849a",
   "metadata": {},
   "source": [
    "## 인퍼런스 모델 구현하기"
   ]
  },
  {
   "cell_type": "markdown",
   "id": "1ce3ddb4",
   "metadata": {},
   "source": [
    "테스트 단계에서는 정수 인덱스 행렬로 존재하던 텍스트 데이터를   \n",
    "<span style=\"color:blue\"> 실제 데이터로 복원해야 하므로, 필요한 3개의 사전을 아래와 같이 미리 준비</span>해 둡니다."
   ]
  },
  {
   "cell_type": "code",
   "execution_count": 91,
   "id": "f14796f3",
   "metadata": {},
   "outputs": [],
   "source": [
    "src_index_to_word = src_tokenizer.index_word # 원문 단어 집합에서 정수 -> 단어를 얻음\n",
    "tar_word_to_index = tar_tokenizer.word_index # 요약 단어 집합에서 단어 -> 정수를 얻음\n",
    "tar_index_to_word = tar_tokenizer.index_word # 요약 단어 집합에서 정수 -> 단어를 얻음"
   ]
  },
  {
   "cell_type": "code",
   "execution_count": 92,
   "id": "f4047305",
   "metadata": {},
   "outputs": [],
   "source": [
    "# 인코더 설계\n",
    "encoder_model = Model(inputs=encoder_inputs, outputs=[encoder_outputs, state_h, state_c])\n",
    "\n",
    "# 이전 시점의 상태들을 저장하는 텐서\n",
    "decoder_state_input_h = Input(shape=(hidden_size,))\n",
    "decoder_state_input_c = Input(shape=(hidden_size,))\n",
    "\n",
    "dec_emb2 = dec_emb_layer(decoder_inputs)\n",
    "\n",
    "# 문장의 다음 단어를 예측하기 위해서 초기 상태(initial_state)를 이전 시점의 상태로 사용. 이는 뒤의 함수 decode_sequence()에 구현\n",
    "# 훈련 과정에서와 달리 LSTM의 리턴하는 은닉 상태와 셀 상태인 state_h와 state_c를 버리지 않음.\n",
    "decoder_outputs2, state_h2, state_c2 = decoder_lstm(dec_emb2, initial_state=[decoder_state_input_h, decoder_state_input_c])\n"
   ]
  },
  {
   "cell_type": "code",
   "execution_count": 93,
   "id": "2ac63db9",
   "metadata": {},
   "outputs": [],
   "source": [
    "# 어텐션 함수\n",
    "decoder_hidden_state_input = Input(shape=(text_max_len, hidden_size))\n",
    "\n",
    "attn_out_inf = attn_layer([decoder_outputs2, decoder_hidden_state_input]) # 2개 입력 시 : query, value = key\n",
    "# decoder의 hidden상태가 key, val로 사용되고, 출력값이 query로 사용\n",
    "# Additive attention : \n",
    "# Inputs are a list with 2 or 3 elements:\n",
    "# A query tensor of shape (batch_size, Tq, dim).\n",
    "# A value tensor of shape (batch_size, Tv, dim).\n",
    "# A optional \"key\" tensor of shape (batch_size, Tv, dim). If none supplied, value will be used as key.\n",
    "\n",
    "decoder_inf_concat = Concatenate(axis=-1, name='concat')([decoder_outputs2, attn_out_inf]) \n",
    "\n",
    "# 디코더의 출력층\n",
    "decoder_outputs2 = decoder_softmax_layer(decoder_inf_concat) \n",
    "\n",
    "# 최종 디코더 모델\n",
    "decoder_model = Model(\n",
    "    [decoder_inputs] + [decoder_hidden_state_input,decoder_state_input_h, decoder_state_input_c], # 4개의 입력\n",
    "    [decoder_outputs2] + [state_h2, state_c2]) #3개의 output\n"
   ]
  },
  {
   "cell_type": "markdown",
   "id": "8298c999",
   "metadata": {},
   "source": [
    "인퍼런스 단계에서 단어 시퀀스를 완성하는 함수를 만들어주세요."
   ]
  },
  {
   "cell_type": "code",
   "execution_count": 94,
   "id": "bbddde23",
   "metadata": {},
   "outputs": [],
   "source": [
    "# 추론\n",
    "def decode_sequence(input_seq):\n",
    "    # 1. 입력으로부터 인코더의 상태를 얻음\n",
    "    e_out, e_h, e_c = encoder_model.predict(input_seq)\n",
    "    \n",
    "     # <SOS>에 해당하는 토큰 생성 - 디코더에 입력하려고\n",
    "    target_seq = np.zeros((1,1))\n",
    "    target_seq[0, 0] = tar_word_to_index['sostoken'] # 토큰정보(1)을 입력 - 디코더가 1을 인식하여 문장을 계속해서 출력하게\n",
    "\n",
    "    # eos token 발견 시 조건 저장용\n",
    "    stop_condition = False\n",
    "    # 토큰 정보를 기록\n",
    "    decoded_sentence = ''\n",
    "    \n",
    "    while not stop_condition: # stop_condition이 True가 될 때까지 루프 반복\n",
    "        # 토큰값이 저장된 target_seq,과 인코더에 넣어서 나온 대표정보 값을 디코더에 넣어서 결과값(softmax)를 도출한다.\n",
    "        # h, c -> 다음 예측에 사용할 값들\n",
    "        output_tokens, h, c = decoder_model.predict([target_seq] + [e_out, e_h, e_c]) \n",
    "        # output_tokens에서 가장 확률이 높은 것의 index를 추출해서\n",
    "        sampled_token_index = np.argmax(output_tokens[0, -1, :])\n",
    "        \n",
    "        # 단어로 변환한다.\n",
    "        sampled_token = tar_index_to_word[sampled_token_index]\n",
    "        \n",
    "        # 변환한 토큰이 eos가 아니면 반환문자에 추가 해 준다.\n",
    "        if (sampled_token!='eostoken'):\n",
    "            decoded_sentence += ' '+sampled_token\n",
    "\n",
    "        #  <eos>에 도달하거나 '최대 길이를 넘으면' 중단.\n",
    "        if (sampled_token == 'eostoken'  or len(decoded_sentence.split()) >= (summary_max_len-1)):\n",
    "            stop_condition = True\n",
    "\n",
    "        # 길이가 1인 타겟 시퀀스를 업데이트 (디코더의 개별 결과를 출력하기 위한 임시변수?)\n",
    "        target_seq = np.zeros((1,1))\n",
    "\n",
    "        # 다음 예측을 위해 활용\n",
    "        target_seq[0, 0] = sampled_token_index\n",
    "        # 상태를 업데이트 합니다.\n",
    "        e_h, e_c = h, c\n",
    "\n",
    "    return decoded_sentence"
   ]
  },
  {
   "cell_type": "code",
   "execution_count": 95,
   "id": "8426701a",
   "metadata": {},
   "outputs": [],
   "source": [
    "# 원문의 정수 시퀀스를 텍스트 시퀀스로 변환\n",
    "def seq2text(input_seq):\n",
    "    temp=''\n",
    "    for i in input_seq:\n",
    "        if (i!=0):\n",
    "            temp = temp + src_index_to_word[i]+' '\n",
    "    return temp\n",
    "\n",
    "# 요약문의 정수 시퀀스를 텍스트 시퀀스로 변환\n",
    "# 1 : sostoken, 2 : eostoken을 확인\n",
    "\n",
    "def seq2summary(input_seq):\n",
    "    temp = ''\n",
    "    for i in input_seq : \n",
    "        if (i>2):\n",
    "            temp = temp + tar_index_to_word[i] + ' '\n",
    "\n",
    "    return temp"
   ]
  },
  {
   "cell_type": "markdown",
   "id": "d6e4914c",
   "metadata": {},
   "source": [
    "테스트 데이터 약 50개의 샘플에 대해서 실제 요약과 예측된 요약을 비교해보세요."
   ]
  },
  {
   "cell_type": "code",
   "execution_count": 96,
   "id": "42704dba",
   "metadata": {},
   "outputs": [
    {
     "name": "stdout",
     "output_type": "stream",
     "text": [
      "원문 : liu china recently proposed girlfriend meteorite claims bought around lakh meteorite reportedly weighed ton hidden red cover square revealed friends girlfriend said yes liu stated space rock stable enduring marriage \n",
      "실제 요약 : man proposes to girlfriend with meteorite worth lakh \n",
      "예측 요약 :  star wars explodes in the sky was sold for cr\n",
      "\n",
      "\n",
      "원문 : union home minister rajnath singh sunday said talks pakistan stops exporting terrorists india alleging pakistan continuing attempts destabilise india sending terrorists violating singh claimed india emerged powerful country power threaten sovereignty \n",
      "실제 요약 : talks with pak till it stops terror aid rajnath \n",
      "예측 요약 :  india not our bullet to stop terrorism rajnath\n",
      "\n",
      "\n",
      "원문 : eiffel tower paris soon get bullet proof glass wall along base bid improve security around monument glass wall cost million officials said comes wake several terror incidents paris past two years killed nearly people \n",
      "실제 요약 : eiffel tower to get bullet proof glass wall for security \n",
      "예측 요약 :  paris park opens km tunnel to build wall\n",
      "\n",
      "\n",
      "원문 : directors cab hailing startup uber planning vote tuesday board reforms could reportedly limit uber co founder travis kalanick power startup board also discuss whether uber pursue stock deal japan softbank reports added last week kalanick appointed two directors uber board decision uber found completely surprising \n",
      "실제 요약 : uber directors plan to reform board to limit travis power \n",
      "예측 요약 :  uber ceo quits as coo quits as coo\n",
      "\n",
      "\n",
      "원문 : west bengal chief minister mamata banerjee tuesday said beat people death bengal torch people alive know welcome everyone irrespective religion caste comes muslim labourer hailing west bengal burnt death rajasthan alleged case love jihad earlier month \n",
      "실제 요약 : people not burnt alive in wb mamata on raj love jihad case \n",
      "예측 요약 :  mamata banerjee to be renamed as mob attack in wb\n",
      "\n",
      "\n",
      "원문 : france launch investigation whether discount nutella sparked supermarkets violated trading laws customers reportedly behaved like animals fought nutella government probe whether promotion fell official january sales period one offer single product violated unfair competition regulations nn \n",
      "실제 요약 : france to probe discount that sparked \n",
      "예측 요약 :  us firm offers to pay lakh for free\n",
      "\n",
      "\n",
      "원문 : responding rti query uidai said aadhaar card holder lock biometrics may opt suggested supreme court september apex court directed persons enrolled enforcement aadhaar act two years ago need given option exit aadhaar \n",
      "실제 요약 : aadhaar holder can only lock not opt out uidai \n",
      "예측 요약 :  aadhaar cannot be mandatory for aadhaar enrolment\n",
      "\n",
      "\n",
      "원문 : tanzania government sent gold producer mining billion tax bill another billion interest penalties bill equal almost two centuries worth company revenue government alleged company declared export revenues company disagreements authorities resulted decline stock year \n",
      "실제 요약 : govt issues billion tax bill to mining company \n",
      "예측 요약 :  venezuela firm to buy bitcoin trading for billion\n",
      "\n",
      "\n",
      "원문 : days video showed man hit train attempt take selfie another video showing man unhurt laughing incident surfaced online video man friends heard saying kuch nahi hua mast hai beta \n",
      "실제 요약 : man hit by train in viral selfie video found unhurt \n",
      "예측 요약 :  man dies after being hit by train on his birthday\n",
      "\n",
      "\n",
      "원문 : football delhi decided celebrate current india football captain sunil chhetri birthday august delhi football day sunil birthday would perfect day celebrate beauty football delhi want youth take football seriously get inspired captain bengaluru fc football delhi statement read \n",
      "실제 요약 : chhetri birthday to be celebrated as delhi football day \n",
      "예측 요약 :  nz player plays guitar in dressing room for st time\n",
      "\n",
      "\n",
      "원문 : dmk president karunanidhi friday became first indian political figure lead party years elected dmk chief july year old leader served chief minister tamil nadu five times however health started deteriorating son mk stalin appointed dmk working president \n",
      "실제 요약 : dmk karunanidhi becomes first to lead party for yrs \n",
      "예측 요약 :  dmk chief karunanidhi elected dmk chief\n",
      "\n",
      "\n",
      "원문 : year old woman stabbed outside stadium south delhi monday evening front four year old son returning home weekly market attacker reportedly mid managed flee spot leaving behind kitchen knife used murder \n",
      "실제 요약 : woman stabbed in front of yr old son outside \n",
      "예측 요약 :  woman falls off to death in delhi for hours\n",
      "\n",
      "\n",
      "원문 : two kerala government officials arrested friday wayanad district allegedly relief materials meant flood victims police said residents relief camp stopped officials loading relief materials vehicle duo claimed taking materials another camp upon interrogation police found lied \n",
      "실제 요약 : kerala govt officials held for stealing relief material \n",
      "예측 요약 :  kerala police donate compensation for kerala floods victims\n",
      "\n",
      "\n",
      "원문 : actor aditya pancholi saturday complained versova police receiving extortion calls person demanding lakh pancholi reportedly stated person introduced munna calling texting since october police initiated probe matter \n",
      "실제 요약 : actor aditya pancholi receives extortion calls for \n",
      "예측 요약 :  fir against salman for violating casteist\n",
      "\n",
      "\n",
      "원문 : according british physicist stephen hawking crossing black hole event horizon dubbed point return would cause fictional astronaut diving head first would stretch like spaghetti due extreme differences gravity acting head toe gravity within event horizon strong even light cannot escape making black holes invisible \n",
      "실제 요약 : what would happen if something crossed black hole \n",
      "예측 요약 :  einstein may be stephen hawking\n",
      "\n",
      "\n",
      "원문 : amid heightened concerns protectionism us president donald trump administration tata chairman chandrasekaran said nothing changed country largest software exporter tcs firm continues operate successfully across markets including largest market us added earlier us accused tcs infosys unfairly applying large numbers visas \n",
      "실제 요약 : trump changed nothing for tcs tata chairman \n",
      "예측 요약 :  eu should not be the trade with us donald trump\n",
      "\n",
      "\n",
      "원문 : railway minister piyush goyal instructed indian railway catering tourism corporation make railway reserved accommodation available commercial purposes stating colonial mindset place modern india coaches usually feature two bedrooms lounge toilet kitchen earlier reserved railway officials \n",
      "실제 요약 : railways to provide coaches for commercial \n",
      "예측 요약 :  railway minister to be paid for trains on trains\n",
      "\n",
      "\n",
      "원문 : toyota motor vice chairman viswanathan said taxation cars india based emission levels engine capacity ground clearance also sought reduction tax rate hybrid cars viswanathan said toyota globally hybrid models india one due punitive taxation \n",
      "실제 요약 : tax cars on the basis of not engine size toyota \n",
      "예측 요약 :  to stop emissions in india\n",
      "\n",
      "\n",
      "원문 : artificial intelligence bot resembling seven year old boy saturday granted official residency japan virtually existing boy named developed jointly microsoft become japan first ai bot granted residency supposed first elementary school text conversations humans line messaging app \n",
      "실제 요약 : japan grants residency to ai year old boy \n",
      "예측 요약 :  man who claimed he had to find cancer dies\n",
      "\n",
      "\n",
      "원문 : ace shuttler kidambi srikanth former tennis player received country fourth highest civilian award padma shri president ram nath kovind tuesday srikanth first indian win golden trio grand prix gold super series super series premier titles recognised multiple medals asian commonwealth games \n",
      "실제 요약 : kidambi srikanth receive padma shri awards \n",
      "예측 요약 :  srikanth beats world number of world top\n",
      "\n",
      "\n",
      "원문 : praising image went viral social media manipur ias officer singh standing waist deep water carrying flood rescue operation twitter user wrote inspiration many actor boman irani wrote always pleasure see amazing people serving nation hats great administrator leader another user tweeted \n",
      "실제 요약 : ias officer rescue op in deep water online \n",
      "예측 요약 :  video shows india tweets user on his day pic\n",
      "\n",
      "\n",
      "원문 : playing first odi ireland women year old leg spinner murray friday conceded runs overs new zealand women bowler odi four ireland women bowlers gave away plus runs innings former australian men team fast bowler mick lewis conceded previous runs \n",
      "실제 요약 : yr old player concedes runs the most ever in an odi \n"
     ]
    },
    {
     "name": "stdout",
     "output_type": "stream",
     "text": [
      "예측 요약 :  prithvi shaw once smashed overs in balls in st odi match\n",
      "\n",
      "\n",
      "원문 : belgian artist chained block marble show burden history artists cannot escape ate slept chained worked away stone failed free cut loose days said carry burden could free \n",
      "실제 요약 : artist self for days to show burden of history \n",
      "예측 요약 :  fashion designer encourages to perform in\n",
      "\n",
      "\n",
      "원문 : woman west bengal hooghly district accidentally shot daughter gave pistol mistaking toy police said woman found loaded pistol garden house given daughter play daughter fired pistol shot mother back \n",
      "실제 요약 : woman gives daughter pistol mistaking it for toy gets shot \n",
      "예측 요약 :  man kills himself after being shot at home in us\n",
      "\n",
      "\n",
      "원문 : union minister animal rights activist maneka gandhi authored manual standard operating procedures running cow shelters book exposes malpractices owners shelters provides tips making shelters financially gandhi plans request government departments agencies adopt manual \n",
      "실제 요약 : maneka gandhi manual for cow protection \n",
      "예측 요약 :  kerala varsity to provide over rape\n",
      "\n",
      "\n",
      "원문 : action launcher app lets users customise android phone home screens also allows accessing android oreo features older phones installed app allows users features like notification dots icons app app purchases also offers pixel style home screen google panel non pixel phones \n",
      "실제 요약 : app lets users access android oreo features in older phones \n",
      "예측 요약 :  android based oreo based oreo oreo\n",
      "\n",
      "\n",
      "원문 : richest india held wealth generated india survey released international rights group oxfam revealed survey also showed crore people constituting india poorer half increased wealth last year meanwhile wealth richest increased lakh crore \n",
      "실제 요약 : india richest held wealth generated in survey \n",
      "예측 요약 :  india richest people in india most powerful\n",
      "\n",
      "\n",
      "원문 : son constable killed uttar pradesh ghazipur criticised force saying police able protect expect suresh stoned death protesters returning duty pm narendra modi rally police named least people fir \n",
      "실제 요약 : police unable to protect their own son of constable killed by mob \n",
      "예측 요약 :  man who killed self attack was not martyred jawan\n",
      "\n",
      "\n",
      "원문 : world fourth richest man berkshire hathaway chairman warren buffett added nearly billion net worth wednesday company removed cap share berkshire hathaway shares surged almost seven years lifting buffett fortune billion buffett tuesday donated around billion berkshire hathaway stock charities \n",
      "실제 요약 : world th richest person buffett adds billion in day \n",
      "예측 요약 :  warren buffett richest man who earned crore in\n",
      "\n",
      "\n",
      "원문 : actor akshaye khanna said cannot biopic late father vinod khanna look anywhere close portray real life character look like person added akshaye said actor must think times portraying real life character \n",
      "실제 요약 : cannot do biopic on my dad as do not him akshaye \n",
      "예측 요약 :  my biopic is not yet to play me twinkle\n",
      "\n",
      "\n",
      "원문 : mid air collision air india aircraft vistara flight averted seconds mumbai last week flights feet apart travelling opposite directions crash avoided traffic collision system alarms went two near miss considered closest shave witnessed india years \n",
      "실제 요약 : ai vistara flights come within ft avoid crash by seconds \n",
      "예측 요약 :  indigo flight plane crashes into air india plane\n",
      "\n",
      "\n",
      "원문 : senior congress leader leader opposition rajya sabha ghulam nabi azad tuesday said opposition parties hold protests across india first anniversary announcement demonetisation terming demonetisation scam century azad added november observed black day opposition parties \n",
      "실제 요약 : cong to protest across india on note ban first anniversary \n",
      "예측 요약 :  bjp has no longer in the nation of bjp\n",
      "\n",
      "\n",
      "원문 : info edge said invest million insurance selling startup policybazaar operating firm marketing consulting along temasek subsidiary investments round likely part million funding round policybazaar raised last month spokesperson said round led softbank vision fund participation existing investors \n",
      "실제 요약 : info edge firm invest million in \n",
      "예측 요약 :  kalaari backed startup raises mn in pre funding\n",
      "\n",
      "\n",
      "원문 : wrestler bajrang punia first commonwealth games gold medal defeating wales kane technical men freestyle kg final gold coast friday india fifth medal wrestling edition rahul aware sushil kumar registering gold wins earlier bajrang silver medal commonwealth games \n",
      "실제 요약 : bajrang wins his st cwg gold india th at cwg \n",
      "예측 요약 :  india wins silver at asian para athletics ships\n",
      "\n",
      "\n",
      "원문 : easyjet seeking answers worker france nice airport punched passenger holding baby terminal hour delay picture incident circulated online man went talked frenchman frenchman reply smiled guy another passenger said \n",
      "실제 요약 : man with baby punched by airport staff after hour delay \n",
      "예측 요약 :  woman gives birth to stop baby on flight\n",
      "\n",
      "\n",
      "원문 : calling pm narendra modi master safe corruption congress spokesperson gohil today said said modi accept less crores claimed defence minister nirmala sitharaman politically naive made scapegoat finance minister arun jaitley goa cm manohar parrikar escaped corruption charge rafale deal \n",
      "실제 요약 : pm modi master in corruption only accepts in crores cong \n",
      "예측 요약 :  pm modi slams cong for ignoring trust motion against pm\n",
      "\n",
      "\n",
      "원문 : ahead mcd polls delhi high court wednesday rejected yogendra yadav led swaraj india plea seeking common symbol contest civic polls delhi state election commission earlier stated power allot symbols registered political parties yadav formed swaraj india expelled aap \n",
      "실제 요약 : mcd polls hc rejects swaraj india plea for common symbol \n",
      "예측 요약 :  aap to contest polls in polls for polls\n",
      "\n",
      "\n",
      "원문 : rbi wednesday said old notes come back banking system post demonetisation central bank annual report fy revealed crore old notes crore come back cost printing currency notes doubled report added \n",
      "실제 요약 : only of demonetised notes not returned rbi \n",
      "예측 요약 :  rbi to introduce note ban on notes\n",
      "\n",
      "\n",
      "원문 : australia missed top ranked team points despite victory trans tri series wednesday pakistan retained top ranking icc clarified clerical error icc spokesperson reportedly earlier stated australia went tri series undefeated would crowned number one \n",
      "실제 요약 : australia miss being no team by points \n",
      "예측 요약 :  india has won india india rankings for first time\n",
      "\n",
      "\n",
      "원문 : working priyanka chopra film alia bhatt said pc come find interesting would love part film everything falls place added really inspired way priyanka things produced amazing films different languages \n",
      "실제 요약 : do priyanka film if things fall in place alia \n",
      "예측 요약 :  alia is the most superhero of raazi alia bhatt\n",
      "\n",
      "\n",
      "원문 : finnish bakery food service company claimed launched world first insect based bread offered consumers stores bread made flour ground dried well wheat flour seeds said contain protein normal wheat bread contains costs \n",
      "실제 요약 : bakery launches bread made from insects \n",
      "예측 요약 :  researchers create new york to make\n",
      "\n",
      "\n",
      "원문 : us state secretary mike pompeo wednesday said country allow iran develop nuclear weapons us aware reports iran plans increase uranium enrichment capacity iran aware resolve another example iran resources added \n",
      "실제 요약 : we will not allow iran to develop nuclear weapons us \n",
      "예측 요약 :  us rejects us sanctions on iran nuclear deal\n",
      "\n",
      "\n",
      "원문 : bjp youth wing filed complaint police jnu student leader rashid tweet saying rss union minister nitin gadkari planning assassinate pm narendra modi unfounded allegations promotes insecurity uncertainty complaint said rashid earlier clarified tweet sarcastic gadkari threatened sue \n",
      "실제 요약 : bjp body files complaint on rashid for gadkari tweet \n",
      "예측 요약 :  bjp mla booked for posting morphed pic of bjp leader\n",
      "\n",
      "\n",
      "원문 : oscar winning filmmaker roman polanski accused woman sexually assaulting kept want father something might cause go prison said notably polanski fled us pleading guilty raping year old girl \n",
      "실제 요약 : oscar winner accused of sexual assault of yr old \n",
      "예측 요약 :  ex husband alleges rape accused of sexual assault\n",
      "\n",
      "\n",
      "원문 : meeting indian external affairs minister sushma swaraj iraqi foreign minister ibrahim al said government sure indians went missing iraq still alive however added government best find isis reportedly abducted june taking control mosul nnn \n",
      "실제 요약 : not sure if missing indians are alive or not iraq \n"
     ]
    },
    {
     "name": "stdout",
     "output_type": "stream",
     "text": [
      "예측 요약 :  india has to be lodged in india sushma swaraj\n",
      "\n",
      "\n",
      "원문 : taxiforsure co founder radhakrishna led knowledge sharing startup raised crore series round funding led chinese investor shunwei capital startups existing investors accel india blume ventures also participated round app based local language question answer platform indians voice text capabilities \n",
      "실제 요약 : founder knowledge sharing app gets cr \n",
      "예측 요약 :  co founder invests in startup funding\n",
      "\n",
      "\n",
      "원문 : average data rate per gb june plunged per gb december last year union telecom minister manoj sinha informed parliament wednesday said average outgoing call tariff dropped paise per minute june december period \n",
      "실제 요약 : cost of data has fallen to gb govt \n",
      "예측 요약 :  bse to spend crore on day of year\n",
      "\n",
      "\n",
      "원문 : tesla developed new hardware suite called hw computing power reportedly help achieve goal self driving cars case current system proves inadequate tesla spokesperson confirmed new model vehicles hardware last year elon musk claimed future tesla cars full self driving capabilities \n",
      "실제 요약 : tesla makes if driverless car claim fails \n",
      "예측 요약 :  tesla car used to charge car in tesla car\n",
      "\n",
      "\n",
      "원문 : several arsenal players missed london based side pre season friendly bayern munich shanghai wednesday arsene wenger side last draw german opponents winning match penalties robert opened scoring bayern alex levelled score london based club \n",
      "실제 요약 : arsenal players miss bayern friendly due to food poisoning \n",
      "예측 요약 :  chelsea beat everton for st time in the season\n",
      "\n",
      "\n",
      "원문 : russian president vladimir putin saturday joked might start working combine driver lose upcoming elections russian president remarks came visit agriculture equipment factory presidential election russia scheduled take place march year \n",
      "실제 요약 : putin jokes he might become driver if he loses polls \n",
      "예측 요약 :  putin putin putin to be putin\n",
      "\n",
      "\n"
     ]
    }
   ],
   "source": [
    "for i in range(50, 100):\n",
    "    print(\"원문 :\", seq2text(encoder_input_test[i]))\n",
    "    print(\"실제 요약 :\", seq2summary(decoder_input_test[i]))\n",
    "    print(\"예측 요약 :\", decode_sequence(encoder_input_test[i].reshape(1, text_max_len)))\n",
    "    print(\"\\n\")"
   ]
  },
  {
   "cell_type": "markdown",
   "id": "18793e21",
   "metadata": {},
   "source": [
    "### Beam Search"
   ]
  },
  {
   "cell_type": "markdown",
   "id": "dfe373bf",
   "metadata": {},
   "source": [
    "- Greedy Decoding (해당 시점에서 가장 확률이 높은 후보를 선택)의 단점을 극복하기 위함\n",
    "- 누적 확률이 높은 순으로 상위 k개를 뽑음.\n",
    "- EOS를 만날 때 후보에 오르게 되고, 빔이 K개가 될 때까지 반복"
   ]
  },
  {
   "cell_type": "code",
   "execution_count": 109,
   "id": "9cd01c95",
   "metadata": {},
   "outputs": [
    {
     "ename": "NameError",
     "evalue": "name 'keras_nlp' is not defined",
     "output_type": "error",
     "traceback": [
      "\u001b[0;31m---------------------------------------------------------------------------\u001b[0m",
      "\u001b[0;31mNameError\u001b[0m                                 Traceback (most recent call last)",
      "\u001b[0;32m/tmp/ipykernel_33/2598248547.py\u001b[0m in \u001b[0;36m<module>\u001b[0;34m\u001b[0m\n\u001b[1;32m      1\u001b[0m \u001b[0;31m# BeamSearch Sampler 정의\u001b[0m\u001b[0;34m\u001b[0m\u001b[0;34m\u001b[0m\u001b[0m\n\u001b[0;32m----> 2\u001b[0;31m beam_search_scorer = keras_nlp.samplers.BeamSearch(\n\u001b[0m\u001b[1;32m      3\u001b[0m     \u001b[0mdecoder_model\u001b[0m\u001b[0;34m,\u001b[0m\u001b[0;34m\u001b[0m\u001b[0;34m\u001b[0m\u001b[0m\n\u001b[1;32m      4\u001b[0m     \u001b[0mmax_length\u001b[0m\u001b[0;34m=\u001b[0m\u001b[0msummary_max_len\u001b[0m\u001b[0;34m,\u001b[0m\u001b[0;34m\u001b[0m\u001b[0;34m\u001b[0m\u001b[0m\n\u001b[1;32m      5\u001b[0m     \u001b[0mnum_beams\u001b[0m\u001b[0;34m=\u001b[0m\u001b[0;36m3\u001b[0m\u001b[0;34m,\u001b[0m\u001b[0;34m\u001b[0m\u001b[0;34m\u001b[0m\u001b[0m\n",
      "\u001b[0;31mNameError\u001b[0m: name 'keras_nlp' is not defined"
     ]
    }
   ],
   "source": [
    "# BeamSearch Sampler 정의\n",
    "beam_search_scorer = keras_nlp.samplers.BeamSearch(\n",
    "    decoder_model,\n",
    "    max_length=summary_max_len,\n",
    "    num_beams=3,\n",
    "    eos_token_id=tar_word_to_index['eostoken'],\n",
    "    pad_token_id=tar_word_to_index['padtoken']\n",
    ")\n",
    "\n",
    "def decode_sequence_beam_search(input_seq):\n",
    "    # 1. 입력으로부터 인코더의 상태를 얻음\n",
    "    e_out, e_h, e_c = encoder_model.predict(input_seq)\n",
    "    \n",
    "    # 디코더 입력으로 사용할 초기 시퀀스 준비 (start token)\n",
    "    start_token = tar_word_to_index['sostoken']\n",
    "    initial_input = np.array([[start_token]])\n",
    "    \n",
    "    # Beam Search로 디코딩 수행\n",
    "    decoded_tokens = beam_search_scorer(initial_input, initial_state=[e_out, e_h, e_c])\n",
    "    \n",
    "    # 인덱스를 단어로 변환\n",
    "    decoded_sentence = ' '.join([tar_index_to_word[token] for token in decoded_tokens if token not in [tar_word_to_index['sostoken'], tar_word_to_index['eostoken']]])\n",
    "    \n",
    "    return decoded_sentence"
   ]
  },
  {
   "cell_type": "code",
   "execution_count": null,
   "id": "129e391a",
   "metadata": {},
   "outputs": [],
   "source": [
    "for i in range(50, 100):\n",
    "    print(\"원문 :\", seq2text(encoder_input_test[i]))\n",
    "    print(\"실제 요약 :\", seq2summary(decoder_input_test[i]))\n",
    "    print(\"예측 요약 :\", decode_sequence_beam_search(encoder_input_test[i].reshape(1, text_max_len)))\n",
    "    print(\"\\n\")"
   ]
  },
  {
   "cell_type": "markdown",
   "id": "9342d34b",
   "metadata": {},
   "source": [
    "- 버전 문제로 설치가 잘 되지않아서 시도해보지 못하였다."
   ]
  },
  {
   "cell_type": "markdown",
   "id": "ec5cbd96",
   "metadata": {},
   "source": [
    "## Step 5. Summa을 이용해서 추출적 요약해보기\n",
    "추상적 요약은 추출적 요약과는 달리 문장의 표현력을 다양하게 가져갈 수 있지만, 추출적 요약에 비해서 난이도가 높아요. 반대로 말하면 추출적 요약은 추상적 요약에 비해 난이도가 낮고 기존 문장에서 문장을 꺼내오는 것이므로 잘못된 요약이 나올 가능성이 낮아요."
   ]
  },
  {
   "cell_type": "markdown",
   "id": "6122735b",
   "metadata": {},
   "source": [
    "## Summa의 summarize를 사용하여 추출적 요약을 해보세요."
   ]
  },
  {
   "cell_type": "markdown",
   "id": "4466ec20",
   "metadata": {},
   "source": [
    "프로젝트의 데이터에 적용을 해 봤는데, 요약 결과가 나오지 않았다. 찾아보니, 텍스트가 짧으면 잘 되지 않는다고 함."
   ]
  },
  {
   "cell_type": "code",
   "execution_count": 125,
   "id": "93488510",
   "metadata": {},
   "outputs": [
    {
     "name": "stdout",
     "output_type": "stream",
     "text": [
      "원문 : liu china recently proposed girlfriend meteorite claims bought around lakh meteorite reportedly weighed ton hidden red cover square revealed friends girlfriend said yes liu stated space rock stable enduring marriage \n",
      "실제 요약 : man proposes to girlfriend with meteorite worth lakh \n",
      "Summa 예측 요약 : \n",
      "\n",
      "\n",
      "원문 : union home minister rajnath singh sunday said talks pakistan stops exporting terrorists india alleging pakistan continuing attempts destabilise india sending terrorists violating singh claimed india emerged powerful country power threaten sovereignty \n",
      "실제 요약 : talks with pak till it stops terror aid rajnath \n",
      "Summa 예측 요약 : \n",
      "\n",
      "\n",
      "원문 : eiffel tower paris soon get bullet proof glass wall along base bid improve security around monument glass wall cost million officials said comes wake several terror incidents paris past two years killed nearly people \n",
      "실제 요약 : eiffel tower to get bullet proof glass wall for security \n",
      "Summa 예측 요약 : \n",
      "\n",
      "\n",
      "원문 : directors cab hailing startup uber planning vote tuesday board reforms could reportedly limit uber co founder travis kalanick power startup board also discuss whether uber pursue stock deal japan softbank reports added last week kalanick appointed two directors uber board decision uber found completely surprising \n",
      "실제 요약 : uber directors plan to reform board to limit travis power \n",
      "Summa 예측 요약 : \n",
      "\n",
      "\n",
      "원문 : west bengal chief minister mamata banerjee tuesday said beat people death bengal torch people alive know welcome everyone irrespective religion caste comes muslim labourer hailing west bengal burnt death rajasthan alleged case love jihad earlier month \n",
      "실제 요약 : people not burnt alive in wb mamata on raj love jihad case \n",
      "Summa 예측 요약 : \n",
      "\n",
      "\n",
      "원문 : france launch investigation whether discount nutella sparked supermarkets violated trading laws customers reportedly behaved like animals fought nutella government probe whether promotion fell official january sales period one offer single product violated unfair competition regulations nn \n",
      "실제 요약 : france to probe discount that sparked \n",
      "Summa 예측 요약 : \n",
      "\n",
      "\n",
      "원문 : responding rti query uidai said aadhaar card holder lock biometrics may opt suggested supreme court september apex court directed persons enrolled enforcement aadhaar act two years ago need given option exit aadhaar \n",
      "실제 요약 : aadhaar holder can only lock not opt out uidai \n",
      "Summa 예측 요약 : \n",
      "\n",
      "\n",
      "원문 : tanzania government sent gold producer mining billion tax bill another billion interest penalties bill equal almost two centuries worth company revenue government alleged company declared export revenues company disagreements authorities resulted decline stock year \n",
      "실제 요약 : govt issues billion tax bill to mining company \n",
      "Summa 예측 요약 : \n",
      "\n",
      "\n",
      "원문 : days video showed man hit train attempt take selfie another video showing man unhurt laughing incident surfaced online video man friends heard saying kuch nahi hua mast hai beta \n",
      "실제 요약 : man hit by train in viral selfie video found unhurt \n",
      "Summa 예측 요약 : \n",
      "\n",
      "\n",
      "원문 : football delhi decided celebrate current india football captain sunil chhetri birthday august delhi football day sunil birthday would perfect day celebrate beauty football delhi want youth take football seriously get inspired captain bengaluru fc football delhi statement read \n",
      "실제 요약 : chhetri birthday to be celebrated as delhi football day \n",
      "Summa 예측 요약 : \n",
      "\n",
      "\n",
      "원문 : dmk president karunanidhi friday became first indian political figure lead party years elected dmk chief july year old leader served chief minister tamil nadu five times however health started deteriorating son mk stalin appointed dmk working president \n",
      "실제 요약 : dmk karunanidhi becomes first to lead party for yrs \n",
      "Summa 예측 요약 : \n",
      "\n",
      "\n",
      "원문 : year old woman stabbed outside stadium south delhi monday evening front four year old son returning home weekly market attacker reportedly mid managed flee spot leaving behind kitchen knife used murder \n",
      "실제 요약 : woman stabbed in front of yr old son outside \n",
      "Summa 예측 요약 : \n",
      "\n",
      "\n",
      "원문 : two kerala government officials arrested friday wayanad district allegedly relief materials meant flood victims police said residents relief camp stopped officials loading relief materials vehicle duo claimed taking materials another camp upon interrogation police found lied \n",
      "실제 요약 : kerala govt officials held for stealing relief material \n",
      "Summa 예측 요약 : \n",
      "\n",
      "\n",
      "원문 : actor aditya pancholi saturday complained versova police receiving extortion calls person demanding lakh pancholi reportedly stated person introduced munna calling texting since october police initiated probe matter \n",
      "실제 요약 : actor aditya pancholi receives extortion calls for \n",
      "Summa 예측 요약 : \n",
      "\n",
      "\n",
      "원문 : according british physicist stephen hawking crossing black hole event horizon dubbed point return would cause fictional astronaut diving head first would stretch like spaghetti due extreme differences gravity acting head toe gravity within event horizon strong even light cannot escape making black holes invisible \n",
      "실제 요약 : what would happen if something crossed black hole \n",
      "Summa 예측 요약 : \n",
      "\n",
      "\n",
      "원문 : amid heightened concerns protectionism us president donald trump administration tata chairman chandrasekaran said nothing changed country largest software exporter tcs firm continues operate successfully across markets including largest market us added earlier us accused tcs infosys unfairly applying large numbers visas \n",
      "실제 요약 : trump changed nothing for tcs tata chairman \n",
      "Summa 예측 요약 : \n",
      "\n",
      "\n",
      "원문 : railway minister piyush goyal instructed indian railway catering tourism corporation make railway reserved accommodation available commercial purposes stating colonial mindset place modern india coaches usually feature two bedrooms lounge toilet kitchen earlier reserved railway officials \n",
      "실제 요약 : railways to provide coaches for commercial \n",
      "Summa 예측 요약 : \n",
      "\n",
      "\n",
      "원문 : toyota motor vice chairman viswanathan said taxation cars india based emission levels engine capacity ground clearance also sought reduction tax rate hybrid cars viswanathan said toyota globally hybrid models india one due punitive taxation \n",
      "실제 요약 : tax cars on the basis of not engine size toyota \n",
      "Summa 예측 요약 : \n",
      "\n",
      "\n",
      "원문 : artificial intelligence bot resembling seven year old boy saturday granted official residency japan virtually existing boy named developed jointly microsoft become japan first ai bot granted residency supposed first elementary school text conversations humans line messaging app \n",
      "실제 요약 : japan grants residency to ai year old boy \n",
      "Summa 예측 요약 : \n",
      "\n",
      "\n",
      "원문 : ace shuttler kidambi srikanth former tennis player received country fourth highest civilian award padma shri president ram nath kovind tuesday srikanth first indian win golden trio grand prix gold super series super series premier titles recognised multiple medals asian commonwealth games \n",
      "실제 요약 : kidambi srikanth receive padma shri awards \n",
      "Summa 예측 요약 : \n",
      "\n",
      "\n",
      "원문 : praising image went viral social media manipur ias officer singh standing waist deep water carrying flood rescue operation twitter user wrote inspiration many actor boman irani wrote always pleasure see amazing people serving nation hats great administrator leader another user tweeted \n",
      "실제 요약 : ias officer rescue op in deep water online \n",
      "Summa 예측 요약 : \n",
      "\n",
      "\n",
      "원문 : playing first odi ireland women year old leg spinner murray friday conceded runs overs new zealand women bowler odi four ireland women bowlers gave away plus runs innings former australian men team fast bowler mick lewis conceded previous runs \n",
      "실제 요약 : yr old player concedes runs the most ever in an odi \n",
      "Summa 예측 요약 : \n",
      "\n",
      "\n",
      "원문 : belgian artist chained block marble show burden history artists cannot escape ate slept chained worked away stone failed free cut loose days said carry burden could free \n",
      "실제 요약 : artist self for days to show burden of history \n",
      "Summa 예측 요약 : \n",
      "\n",
      "\n",
      "원문 : woman west bengal hooghly district accidentally shot daughter gave pistol mistaking toy police said woman found loaded pistol garden house given daughter play daughter fired pistol shot mother back \n",
      "실제 요약 : woman gives daughter pistol mistaking it for toy gets shot \n",
      "Summa 예측 요약 : \n",
      "\n",
      "\n",
      "원문 : union minister animal rights activist maneka gandhi authored manual standard operating procedures running cow shelters book exposes malpractices owners shelters provides tips making shelters financially gandhi plans request government departments agencies adopt manual \n",
      "실제 요약 : maneka gandhi manual for cow protection \n",
      "Summa 예측 요약 : \n",
      "\n",
      "\n",
      "원문 : action launcher app lets users customise android phone home screens also allows accessing android oreo features older phones installed app allows users features like notification dots icons app app purchases also offers pixel style home screen google panel non pixel phones \n",
      "실제 요약 : app lets users access android oreo features in older phones \n",
      "Summa 예측 요약 : \n",
      "\n",
      "\n",
      "원문 : richest india held wealth generated india survey released international rights group oxfam revealed survey also showed crore people constituting india poorer half increased wealth last year meanwhile wealth richest increased lakh crore \n",
      "실제 요약 : india richest held wealth generated in survey \n",
      "Summa 예측 요약 : \n",
      "\n",
      "\n",
      "원문 : son constable killed uttar pradesh ghazipur criticised force saying police able protect expect suresh stoned death protesters returning duty pm narendra modi rally police named least people fir \n",
      "실제 요약 : police unable to protect their own son of constable killed by mob \n",
      "Summa 예측 요약 : \n",
      "\n",
      "\n",
      "원문 : world fourth richest man berkshire hathaway chairman warren buffett added nearly billion net worth wednesday company removed cap share berkshire hathaway shares surged almost seven years lifting buffett fortune billion buffett tuesday donated around billion berkshire hathaway stock charities \n",
      "실제 요약 : world th richest person buffett adds billion in day \n",
      "Summa 예측 요약 : \n",
      "\n",
      "\n",
      "원문 : actor akshaye khanna said cannot biopic late father vinod khanna look anywhere close portray real life character look like person added akshaye said actor must think times portraying real life character \n",
      "실제 요약 : cannot do biopic on my dad as do not him akshaye \n",
      "Summa 예측 요약 : \n",
      "\n",
      "\n",
      "원문 : mid air collision air india aircraft vistara flight averted seconds mumbai last week flights feet apart travelling opposite directions crash avoided traffic collision system alarms went two near miss considered closest shave witnessed india years \n",
      "실제 요약 : ai vistara flights come within ft avoid crash by seconds \n",
      "Summa 예측 요약 : \n",
      "\n",
      "\n",
      "원문 : senior congress leader leader opposition rajya sabha ghulam nabi azad tuesday said opposition parties hold protests across india first anniversary announcement demonetisation terming demonetisation scam century azad added november observed black day opposition parties \n",
      "실제 요약 : cong to protest across india on note ban first anniversary \n",
      "Summa 예측 요약 : \n",
      "\n",
      "\n",
      "원문 : info edge said invest million insurance selling startup policybazaar operating firm marketing consulting along temasek subsidiary investments round likely part million funding round policybazaar raised last month spokesperson said round led softbank vision fund participation existing investors \n",
      "실제 요약 : info edge firm invest million in \n",
      "Summa 예측 요약 : \n",
      "\n",
      "\n",
      "원문 : wrestler bajrang punia first commonwealth games gold medal defeating wales kane technical men freestyle kg final gold coast friday india fifth medal wrestling edition rahul aware sushil kumar registering gold wins earlier bajrang silver medal commonwealth games \n",
      "실제 요약 : bajrang wins his st cwg gold india th at cwg \n",
      "Summa 예측 요약 : \n",
      "\n",
      "\n",
      "원문 : easyjet seeking answers worker france nice airport punched passenger holding baby terminal hour delay picture incident circulated online man went talked frenchman frenchman reply smiled guy another passenger said \n",
      "실제 요약 : man with baby punched by airport staff after hour delay \n",
      "Summa 예측 요약 : \n",
      "\n",
      "\n",
      "원문 : calling pm narendra modi master safe corruption congress spokesperson gohil today said said modi accept less crores claimed defence minister nirmala sitharaman politically naive made scapegoat finance minister arun jaitley goa cm manohar parrikar escaped corruption charge rafale deal \n",
      "실제 요약 : pm modi master in corruption only accepts in crores cong \n",
      "Summa 예측 요약 : \n",
      "\n",
      "\n",
      "원문 : ahead mcd polls delhi high court wednesday rejected yogendra yadav led swaraj india plea seeking common symbol contest civic polls delhi state election commission earlier stated power allot symbols registered political parties yadav formed swaraj india expelled aap \n",
      "실제 요약 : mcd polls hc rejects swaraj india plea for common symbol \n",
      "Summa 예측 요약 : \n",
      "\n",
      "\n",
      "원문 : rbi wednesday said old notes come back banking system post demonetisation central bank annual report fy revealed crore old notes crore come back cost printing currency notes doubled report added \n",
      "실제 요약 : only of demonetised notes not returned rbi \n",
      "Summa 예측 요약 : \n",
      "\n",
      "\n",
      "원문 : australia missed top ranked team points despite victory trans tri series wednesday pakistan retained top ranking icc clarified clerical error icc spokesperson reportedly earlier stated australia went tri series undefeated would crowned number one \n",
      "실제 요약 : australia miss being no team by points \n",
      "Summa 예측 요약 : \n",
      "\n",
      "\n",
      "원문 : working priyanka chopra film alia bhatt said pc come find interesting would love part film everything falls place added really inspired way priyanka things produced amazing films different languages \n",
      "실제 요약 : do priyanka film if things fall in place alia \n",
      "Summa 예측 요약 : \n",
      "\n",
      "\n",
      "원문 : finnish bakery food service company claimed launched world first insect based bread offered consumers stores bread made flour ground dried well wheat flour seeds said contain protein normal wheat bread contains costs \n",
      "실제 요약 : bakery launches bread made from insects \n",
      "Summa 예측 요약 : \n",
      "\n",
      "\n",
      "원문 : us state secretary mike pompeo wednesday said country allow iran develop nuclear weapons us aware reports iran plans increase uranium enrichment capacity iran aware resolve another example iran resources added \n",
      "실제 요약 : we will not allow iran to develop nuclear weapons us \n",
      "Summa 예측 요약 : \n",
      "\n",
      "\n",
      "원문 : bjp youth wing filed complaint police jnu student leader rashid tweet saying rss union minister nitin gadkari planning assassinate pm narendra modi unfounded allegations promotes insecurity uncertainty complaint said rashid earlier clarified tweet sarcastic gadkari threatened sue \n",
      "실제 요약 : bjp body files complaint on rashid for gadkari tweet \n",
      "Summa 예측 요약 : \n",
      "\n",
      "\n",
      "원문 : oscar winning filmmaker roman polanski accused woman sexually assaulting kept want father something might cause go prison said notably polanski fled us pleading guilty raping year old girl \n",
      "실제 요약 : oscar winner accused of sexual assault of yr old \n",
      "Summa 예측 요약 : \n",
      "\n",
      "\n",
      "원문 : meeting indian external affairs minister sushma swaraj iraqi foreign minister ibrahim al said government sure indians went missing iraq still alive however added government best find isis reportedly abducted june taking control mosul nnn \n",
      "실제 요약 : not sure if missing indians are alive or not iraq \n",
      "Summa 예측 요약 : \n",
      "\n",
      "\n",
      "원문 : taxiforsure co founder radhakrishna led knowledge sharing startup raised crore series round funding led chinese investor shunwei capital startups existing investors accel india blume ventures also participated round app based local language question answer platform indians voice text capabilities \n",
      "실제 요약 : founder knowledge sharing app gets cr \n",
      "Summa 예측 요약 : \n",
      "\n",
      "\n",
      "원문 : average data rate per gb june plunged per gb december last year union telecom minister manoj sinha informed parliament wednesday said average outgoing call tariff dropped paise per minute june december period \n",
      "실제 요약 : cost of data has fallen to gb govt \n",
      "Summa 예측 요약 : \n",
      "\n",
      "\n",
      "원문 : tesla developed new hardware suite called hw computing power reportedly help achieve goal self driving cars case current system proves inadequate tesla spokesperson confirmed new model vehicles hardware last year elon musk claimed future tesla cars full self driving capabilities \n",
      "실제 요약 : tesla makes if driverless car claim fails \n",
      "Summa 예측 요약 : \n",
      "\n",
      "\n",
      "원문 : several arsenal players missed london based side pre season friendly bayern munich shanghai wednesday arsene wenger side last draw german opponents winning match penalties robert opened scoring bayern alex levelled score london based club \n",
      "실제 요약 : arsenal players miss bayern friendly due to food poisoning \n",
      "Summa 예측 요약 : \n",
      "\n",
      "\n",
      "원문 : russian president vladimir putin saturday joked might start working combine driver lose upcoming elections russian president remarks came visit agriculture equipment factory presidential election russia scheduled take place march year \n",
      "실제 요약 : putin jokes he might become driver if he loses polls \n",
      "Summa 예측 요약 : \n",
      "\n",
      "\n"
     ]
    }
   ],
   "source": [
    "from summa.summarizer import summarize\n",
    "\n",
    "for i in range(50, 100):\n",
    "    print(\"원문 :\", seq2text(encoder_input_test[i]))\n",
    "    print(\"실제 요약 :\", seq2summary(decoder_input_test[i]))\n",
    "#     print(seq2text(encoder_input_test[i]))\n",
    "    print(\"Summa 예측 요약 :\", summarize(seq2text(encoder_input_test[i]), ratio=0.2))\n",
    "    print(\"\\n\")"
   ]
  },
  {
   "cell_type": "markdown",
   "id": "9f4c0f0a",
   "metadata": {},
   "source": [
    "### 견해 :\n",
    "- 잘 되는지는 모르겠는데, 루브릭에서 시도해보라고 되어 있어서 시도해보았고, 안 나와서 아쉽다.."
   ]
  },
  {
   "cell_type": "code",
   "execution_count": 120,
   "id": "9daa8c10",
   "metadata": {
    "scrolled": true
   },
   "outputs": [
    {
     "data": {
      "text/plain": [
       "'Any Keras model can be instantiated as a PyTorch Module, can be exported as a TensorFlow SavedModel, or can be instantiated as a stateless JAX function.\\nThat means that you can use your Keras models with PyTorch ecosystem packages, with the full range of TensorFlow deployment & production tools, and with JAX large-scale TPU training infrastructure.\\nYou can train a Keras + TensorFlow model on a PyTorch DataLoader or train a Keras + PyTorch model on a tf.data.Dataset.'"
      ]
     },
     "execution_count": 120,
     "metadata": {},
     "output_type": "execute_result"
    }
   ],
   "source": [
    "text='''\n",
    "Always get the best performance for your models. In our benchmarks, we found that JAX typically delivers the best training and inference performance on GPU, TPU, and CPU – but results vary from model to model, as non-XLA TensorFlow is occasionally faster on GPU. The ability to dynamically select the backend that will deliver the best performance for your model without having to change anything to your code means you're always guaranteed to train and serve with the highest achievable efficiency.\n",
    "Maximize available ecosystem surface for your models. Any Keras model can be instantiated as a PyTorch Module, can be exported as a TensorFlow SavedModel, or can be instantiated as a stateless JAX function. That means that you can use your Keras models with PyTorch ecosystem packages, with the full range of TensorFlow deployment & production tools, and with JAX large-scale TPU training infrastructure. Write one model.py using Keras APIs, and get access to everything the ML world has to offer.\n",
    "Maximize distribution for your open-source model releases. Want to release a pretrained model? Want as many people as possible to be able to use it? If you implement it in pure TensorFlow or PyTorch, it will be usable by roughly half of the market. If you implement it in Keras, it is instantly usable by anyone regardless of their framework of choice (even if they're not Keras users). Twice the impact at no added development cost.\n",
    "Use data pipelines from any source. The Keras fit()/evaluate()/predict() routines are compatible with tf.data.Dataset objects, with PyTorch DataLoader objects, with NumPy arrays, Pandas dataframes – regardless of the backend you're using. You can train a Keras + TensorFlow model on a PyTorch DataLoader or train a Keras + PyTorch model on a tf.data.Dataset.\n",
    "\n",
    "'''\n",
    "summarize(text)"
   ]
  },
  {
   "cell_type": "code",
   "execution_count": 133,
   "id": "3c2b40be",
   "metadata": {
    "scrolled": true
   },
   "outputs": [
    {
     "name": "stdout",
     "output_type": "stream",
     "text": [
      "[[585, 123, 293, 1004, 2443, 82, 12197, 8228, 293, 965, 1004, 1182, 626, 626, 408, 19052, 3313, 2931, 4705, 2457, 293, 1004, 626, 193, 512, 1190, 1432, 1940, 585, 9137, 435, 1892, 294, 7230, 930, 5964, 1841, 2443, 626, 7261, 12597, 2413, 1940, 231, 2443, 5964, 5000, 729, 1569, 8237, 988, 4449, 1222, 2496, 965, 1966, 3030, 17, 626, 147, 123, 827, 1606, 12424, 19, 842, 3501, 248, 1706, 626, 8873, 291, 217, 626, 291, 198, 10, 1058, 684, 231, 3655, 6161, 4173, 584, 380, 3655, 11732, 974, 10800, 6474, 2109, 208, 107, 1543, 1765, 4, 448, 576, 231, 140, 1706, 2444, 11027, 6061, 12106, 140, 3617, 3617, 10800, 147, 435, 626, 435, 626, 140]]\n"
     ]
    },
    {
     "data": {
      "text/plain": [
       "' malala may make new songs to promote malala'"
      ]
     },
     "execution_count": 133,
     "metadata": {},
     "output_type": "execute_result"
    }
   ],
   "source": [
    "text_enc = src_tokenizer.texts_to_sequences([text]) \n",
    "print(text_enc)\n",
    "decode_sequence(text_enc)"
   ]
  },
  {
   "cell_type": "markdown",
   "id": "af0d4bad",
   "metadata": {},
   "source": [
    "- 이상하게 나오는데, 뭔가 잘못 적용한게 아닌가 싶다... 오히려 길어질 때는 summa(Extractive)요약이 더 잘 나오는 것 같다."
   ]
  },
  {
   "cell_type": "markdown",
   "id": "4aff0fd8",
   "metadata": {},
   "source": [
    "문법완성의 측면에서는 추상적 요약이 좀 더 우수하나, 핵심단어를 포함하는 면에서는 추출적 요약이 더 잘 반영하는 것 같다. 아쉬운 점은 추출적 요약으로 사용된 summa의 경우 너무 짧은 문단은 아무것도 반환하지 못한다는 것이었다."
   ]
  },
  {
   "cell_type": "markdown",
   "id": "a8922a64",
   "metadata": {},
   "source": [
    "# 오늘의 회고"
   ]
  },
  {
   "attachments": {
    "image.png": {
     "image/png": "[encoded data removed]"
    }
   },
   "cell_type": "markdown",
   "id": "40ca4470",
   "metadata": {},
   "source": [
    "![image.png](attachment:image.png)\n",
    "\n",
    "(20240613, 16:20)모델 설계 진행 중 원인 불명의 커널 다운이 발생, 또다시 텍스트 전처리를 해야함 ^^"
   ]
  },
  {
   "cell_type": "markdown",
   "id": "a94ad769",
   "metadata": {},
   "source": [
    "### 디스코드에 남겼던 TIL\n",
    "요약을 위한 방법론으로 추출적, 그리고 추상적으로 요약하는 것을 접근할 수 있다는 것을 처음 알게 되었음.\n",
    "기존에 알고있던 NLP task는 주로 Encoder단을 활용해서 하던 작업 위주였기 때문에, 새로워서 어렵기는 하지만 재미있게 학습할 수 있었다.\n",
    "\n",
    "위 개선이 필요한 부분에 언급은 하였지만, 나 또한 이러한 위기상황에 대한 대처를 할 생각을 안했다는 것이 안일했다고 판단된다. 앞으로 좀 시간이 많이 소요되는 작업을 마주치면, 데이터든 모델 가중치든 무조건 저장 혹은 백업을 하는 습관을 들여야겠다. "
   ]
  }
 ],
 "metadata": {
  "kernelspec": {
   "display_name": "Python 3 (ipykernel)",
   "language": "python",
   "name": "python3"
  },
  "language_info": {
   "codemirror_mode": {
    "name": "ipython",
    "version": 3
   },
   "file_extension": ".py",
   "mimetype": "text/x-python",
   "name": "python",
   "nbconvert_exporter": "python",
   "pygments_lexer": "ipython3",
   "version": "3.9.7"
  }
 },
 "nbformat": 4,
 "nbformat_minor": 5
}

{
 "cells": [
  {
   "cell_type": "markdown",
   "metadata": {},
   "source": [
    "# 템플릿 설명"
   ]
  },
  {
   "cell_type": "markdown",
   "metadata": {},
   "source": [
    "\n",
    "- 수행일 : 2024년 05월 28일\n",
    "- 수행자 : 이정훈\n",
    "\n",
    "## 오늘의 주제\n",
    "\n",
    "- keras API\n",
    "- 학습 모니터링 시각화\n",
    "- 모델 학습 과정의 시각적 이해\n",
    "\n",
    "## 오늘의 목표\n",
    "\n",
    "- 모델 학습의 전 과정을 살펴보고, 각 **워크플로우(API)를 사용**할 수 있습니다.\n",
    "- 여러 방식 중 **적합한 방식을 선택할 수 있고, 각 방식을 커스텀하여 사용**할 수 있습니다.\n",
    "- **모델 훈련과 평가의 차이**를 이해하고, 각각의 루프를 다르게 구성할 수 있습니다.\n",
    "- **하이퍼 파라미터 변경 과정을 시각적으로 확인하고, 이해**합니다.\n"
   ]
  },
  {
   "cell_type": "markdown",
   "metadata": {},
   "source": [
    "---"
   ]
  },
  {
   "cell_type": "markdown",
   "metadata": {},
   "source": [
    "# Keras API for Modeling"
   ]
  },
  {
   "cell_type": "markdown",
   "metadata": {},
   "source": [
    "> 7장을 학습하고, sequential, functional, subclassing 방식으로 모델 학습의 프로세스를 구축합니다.<br>이후 아래 자료와 질문을 토대로 모델의 학습과정에서 일어나는 내부 동작을 이해합니다.\n"
   ]
  },
  {
   "cell_type": "markdown",
   "metadata": {},
   "source": [
    "## 교재 실습코드"
   ]
  },
  {
   "cell_type": "markdown",
   "metadata": {},
   "source": [
    "### Sequential model (P245)"
   ]
  },
  {
   "cell_type": "code",
   "execution_count": null,
   "metadata": {},
   "outputs": [],
   "source": []
  },
  {
   "cell_type": "markdown",
   "metadata": {},
   "source": [
    "### Functional API model (P249)"
   ]
  },
  {
   "cell_type": "code",
   "execution_count": null,
   "metadata": {},
   "outputs": [],
   "source": []
  },
  {
   "cell_type": "code",
   "execution_count": null,
   "metadata": {},
   "outputs": [],
   "source": [
    "\n"
   ]
  },
  {
   "cell_type": "markdown",
   "metadata": {},
   "source": [
    "### Subclassing model (P256)"
   ]
  },
  {
   "cell_type": "code",
   "execution_count": null,
   "metadata": {},
   "outputs": [],
   "source": []
  },
  {
   "cell_type": "markdown",
   "metadata": {},
   "source": [
    "### 혼합 모델 (P259)"
   ]
  },
  {
   "cell_type": "code",
   "execution_count": null,
   "metadata": {},
   "outputs": [],
   "source": []
  },
  {
   "cell_type": "markdown",
   "metadata": {},
   "source": [
    "## 확인사항"
   ]
  },
  {
   "cell_type": "markdown",
   "metadata": {},
   "source": [
    "### 1. kerasAPI를 이해합니다.\n",
    "#### 모델을 구성합니다. \n",
    "이때 sequential, functional, subclassing 세 방법을 모두 사용합니다.\n",
    "- 7장을 읽어보고, kears의 세 가지 모델 구성 방식을 숙지합니다. 각 API별 차이를 이해합니다.\n",
    "- 각각의 api를 사용한 예제를 찾아보고, 어떤 경우에 사용할 수 있는지 이해합니다.\n"
   ]
  },
  {
   "cell_type": "markdown",
   "metadata": {},
   "source": [
    "#### Sequential과 functional의 차이를 설명할 수 있습니다.\n",
    "##### (미션)sequential로는 구현이 불가능한 상황을 찾아봅니다.\n",
    "- (답을 여기)\n"
   ]
  },
  {
   "cell_type": "markdown",
   "metadata": {},
   "source": [
    "#### Functional과 Sub classing의 차이를 설명할 수 있습니다.\n",
    "##### (미션)Functional로 구현하는 것 보다 sub classing으로 구현하는 것이 유리한 사례를 찾아봅니다.\n",
    "- (답을 여기)\n"
   ]
  },
  {
   "cell_type": "markdown",
   "metadata": {},
   "source": [
    "\n",
    "### 2. 모델학습 후 평가하는 여러가지 방법을 이해합니다.\n",
    "- [Evaluating Machine Learning Models - Made With ML](https://madewithml.com/courses/mlops/evaluation/)"
   ]
  },
  {
   "cell_type": "markdown",
   "metadata": {},
   "source": [
    "\n",
    "- 모델의 성능을 평가하기 위한 방법은 어떤 것들이 있는지 확인합니다. 또 이때 고민해야 할 여러 관점을 살펴봅니다.\n"
   ]
  },
  {
   "cell_type": "markdown",
   "metadata": {},
   "source": [
    "\n",
    "- 모델을 학습하고  다른 모델과 성능을 비교할 때 어떤 관점에서 비교해야 하는지 확인합니다.\n"
   ]
  },
  {
   "cell_type": "markdown",
   "metadata": {},
   "source": [
    "---"
   ]
  },
  {
   "cell_type": "markdown",
   "metadata": {},
   "source": [
    "# 조별 특별 미션 - 1조"
   ]
  },
  {
   "cell_type": "markdown",
   "metadata": {},
   "source": [
    "> 모델 학습에서 어떤 일이 일어나는지 직접 확인합니다. <br> 각각의 레이어, 하이퍼파라미터가 어떤 변화를 일으키는지 확인하고 이를 정리합니다."
   ]
  },
  {
   "cell_type": "code",
   "execution_count": null,
   "metadata": {},
   "outputs": [],
   "source": []
  },
  {
   "cell_type": "code",
   "execution_count": null,
   "metadata": {},
   "outputs": [],
   "source": []
  },
  {
   "cell_type": "markdown",
   "metadata": {},
   "source": [
    "## Checklist, 체크해야 할 항목"
   ]
  },
  {
   "cell_type": "markdown",
   "metadata": {},
   "source": [
    "\n",
    "- 어떤 기준으로 모델을 학습할 것인지 선택합니다.\n",
    "- features에서 두 그룹을 확실히 나눌 수 있는 조합과, 나누지 못하는 조합을 찾아봅니다.\n",
    "- 하이퍼 파라미터를 수정해보고 다음을 살펴봅니다.\n"
   ]
  },
  {
   "cell_type": "markdown",
   "metadata": {},
   "source": [
    "\n",
    "- 레이어:\n",
    "    - 레이어가 깊어질수록 어떤 특징이 있는지 살펴봅니다.\n",
    "    - 레이어가 넓어질수록 어떤 특징이 있는지 살펴봅니다.\n",
    "    - 왜 레이어를 변경할때마다 패턴이 다르게 시작하는지 생각해봅니다\n"
   ]
  },
  {
   "cell_type": "markdown",
   "metadata": {},
   "source": [
    "\n",
    "- learning rate\n",
    "    - learning rate가 높아질 때 어떤 특징이 있는지 살펴봅니다.\n",
    "    - learning rate가 낮아질 때 어떤 특징이 있는지 살펴봅니다.\n"
   ]
  },
  {
   "cell_type": "markdown",
   "metadata": {},
   "source": [
    "\n",
    "- activation function\n",
    "    - activation function이 달라질 때 어떤 특징이 있는지 살펴봅니다.\n",
    "    - 특히 tanh, sigmoid는 함수의 모양이 비슷한데 수렴속도가 다른 이유를 설명해봅시다."
   ]
  },
  {
   "cell_type": "markdown",
   "metadata": {},
   "source": [
    "## 사용자 정의 지표를 사용하는 모델 (수행 산출물)"
   ]
  },
  {
   "cell_type": "code",
   "execution_count": null,
   "metadata": {},
   "outputs": [],
   "source": []
  },
  {
   "cell_type": "markdown",
   "metadata": {},
   "source": [
    "## 사용자 정의 콜백을 사용하는 모델 (수행 산출물)"
   ]
  },
  {
   "cell_type": "code",
   "execution_count": null,
   "metadata": {},
   "outputs": [],
   "source": []
  },
  {
   "cell_type": "markdown",
   "metadata": {},
   "source": [
    "---"
   ]
  },
  {
   "cell_type": "markdown",
   "metadata": {},
   "source": [
    "# Playground - 1조\n"
   ]
  },
  {
   "cell_type": "markdown",
   "metadata": {},
   "source": [
    "각 조는 위의 체크 항목에 따라, 다음의 8개의 실험 중 하나를 수행하게 됩니다.<br>\n",
    "    - 실험은 비교실험입니다<br>\n",
    "    - **각 실험의 과정과 결과에 대한 설명을 5분 내외로 준비해주세요**\n",
    "- [A Neural Network Playground (tensorflow.org)](https://playground.tensorflow.org/#activation=tanh&batchSize=10&dataset=circle&regDataset=reg-plane&learningRate=0.03&regularizationRate=0&noise=0&networkShape=3,2&seed=0.80809&showTestData=false&discretize=false&percTrainData=50&x=true&y=true&xTimesY=false&xSquared=false&ySquared=false&cosX=false&sinX=false&cosY=false&sinY=false&collectStats=false&problem=classification&initZero=false&hideText=false)\n",
    "    - 최적의 조합을 찾아보세요! 여러 조합을 확인하여, 달라지는 부분을 분석해봅시다.\n",
    "        - (2조) Classification - data type 1\n",
    "        - (4조) Classification - data type 4\n",
    "        - (1조) <span style=\"background-color:#C0FFFF; color:green\"> Regression - data type 2 </span>\n",
    "- [Deep Learning Playground](https://datasciencegt-dlp.com/img-models)\n",
    "    - 기준 모델과, 비교 포인트를 가진 모델들을 제작하여 차이를 확인해봅시다.\n",
    "        - (5조) **Tabular Data : Optimizer / batch size**\n",
    "        - (담당조) Image Data : Activation / Dropout rate\n",
    "        - (담당조) Image Data : Layer 의 너비가 달라지는 경우\n",
    "        - (7조) Image Data : Layer의 구성이 달라지는 경우 1\n",
    "            - 레이어 모듈에 변화가 있는 경우\n",
    "            - Conv - Maxpool // Conv - Conv - Maxpool\n",
    "        - (담당조) Image Data :Layer의 구성이 달라지는 경우 2\n",
    "            - 레이어 깊이에 변화가 있는 경우\n",
    "            - Conv-maxpool을 한번 반복하는 경우 // Conv-maxpool을 여러 번 반복하는 경우"
   ]
  },
  {
   "cell_type": "markdown",
   "metadata": {},
   "source": [
    "\n",
    "## Regression - data type 2 모의 실험 내용 정리"
   ]
  },
  {
   "cell_type": "markdown",
   "metadata": {},
   "source": [
    "- 실험 조건 기록해야 할 내용, 테이블로 할지 정하기"
   ]
  },
  {
   "cell_type": "markdown",
   "metadata": {},
   "source": [
    "## 조별 발표 기록내용"
   ]
  },
  {
   "cell_type": "code",
   "execution_count": null,
   "metadata": {},
   "outputs": [],
   "source": []
  },
  {
   "cell_type": "markdown",
   "metadata": {},
   "source": [
    "---"
   ]
  },
  {
   "cell_type": "markdown",
   "metadata": {},
   "source": [
    "# 오늘의 회고"
   ]
  },
  {
   "cell_type": "markdown",
   "metadata": {},
   "source": []
  }
 ],
 "metadata": {
  "language_info": {
   "name": "python"
  }
 },
 "nbformat": 4,
 "nbformat_minor": 2
}

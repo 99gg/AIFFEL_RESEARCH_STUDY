{
 "cells": [
  {
   "cell_type": "markdown",
   "metadata": {},
   "source": [
    "# 평가기준"
   ]
  },
  {
   "cell_type": "code",
   "execution_count": null,
   "metadata": {},
   "outputs": [
    {
     "name": "stdout",
     "output_type": "stream",
     "text": [
      "Fri Jun 21 07:22:40 2024       \n",
      "+-----------------------------------------------------------------------------------------+\n",
      "| NVIDIA-SMI 550.90.07              Driver Version: 550.90.07      CUDA Version: 12.4     |\n",
      "|-----------------------------------------+------------------------+----------------------+\n",
      "| GPU  Name                 Persistence-M | Bus-Id          Disp.A | Volatile Uncorr. ECC |\n",
      "| Fan  Temp   Perf          Pwr:Usage/Cap |           Memory-Usage | GPU-Util  Compute M. |\n",
      "|                                         |                        |               MIG M. |\n",
      "|=========================================+========================+======================|\n",
      "|   0  NVIDIA GeForce RTX 4060 Ti     On  |   00000000:08:00.0 Off |                  N/A |\n",
      "|  0%   47C    P8             14W /  182W |   16055MiB /  16380MiB |      0%      Default |\n",
      "|                                         |                        |                  N/A |\n",
      "+-----------------------------------------+------------------------+----------------------+\n",
      "                                                                                         \n",
      "+-----------------------------------------------------------------------------------------+\n",
      "| Processes:                                                                              |\n",
      "|  GPU   GI   CI        PID   Type   Process name                              GPU Memory |\n",
      "|        ID   ID                                                               Usage      |\n",
      "|=========================================================================================|\n",
      "+-----------------------------------------------------------------------------------------+\n"
     ]
    }
   ],
   "source": [
    "!nvidia-smi"
   ]
  },
  {
   "cell_type": "markdown",
   "metadata": {},
   "source": [
    "## [QUEST 평가기준]\n",
    "\n",
    "### 1. Transformer와 비교해 변경이 필요한 부분을 서술하였다.\n",
    "• 제출 노트북 파일 앞부분에 텍스트 블럭으로 서술합니다. 변경이 필요한 블럭을 서술합니다.\n",
    "• 코드블럭에 변경사항을 주석으로 표시합니다.\n",
    "\n",
    "### 2. 모델의 입력 형태에 맞게 전처리를 수행하였다.\n",
    "• Decoder 기반의 생성모델임을 감안하여 챗봇 데이터를 변형합니다.\n",
    "\n",
    "### 3. 모델의 입력 블럭을 GPT 논문에 기반하여 수정하였다.\n",
    "• 모델의 input이 정상적으로 구성되었는지 확인합니다.\n",
    "\n",
    "### 4. GPT 모델을 정상적으로 구성하였다.(model.summary, model.fit 결과 캡쳐 첨부)\n",
    "• 노드의 transformer 코드를 수정하여 GPT1 모델을 구성합니다.\n",
    "\n",
    "### 5. 입력에 따른 출력이 생성되었다.\n",
    "• 출력 결과물의 수준에 상관없이 모델이 정상적으로 동작하는지 확인합니다."
   ]
  },
  {
   "cell_type": "code",
   "execution_count": 2,
   "metadata": {},
   "outputs": [
    {
     "name": "stdout",
     "output_type": "stream",
     "text": [
      "/root/AIFFEL_RESEARCH_STUDY/Quests/MainQuest1_20240621\n"
     ]
    }
   ],
   "source": [
    "!pwd\n",
    "# /root/AIFFEL_RESEARCH_STUDY/Quests/MainQuest1_20240621/data/ChatbotData .csv"
   ]
  },
  {
   "cell_type": "code",
   "execution_count": 4,
   "metadata": {},
   "outputs": [],
   "source": [
    "import pandas as pd\n",
    "import os\n",
    "import re\n",
    "\n",
    "import numpy as np\n",
    "import tensorflow as tf\n",
    "from tensorflow import keras\n",
    "\n",
    "import matplotlib.pyplot as plt"
   ]
  },
  {
   "cell_type": "code",
   "execution_count": 21,
   "metadata": {},
   "outputs": [
    {
     "data": {
      "text/html": [
       "<div>\n",
       "<style scoped>\n",
       "    .dataframe tbody tr th:only-of-type {\n",
       "        vertical-align: middle;\n",
       "    }\n",
       "\n",
       "    .dataframe tbody tr th {\n",
       "        vertical-align: top;\n",
       "    }\n",
       "\n",
       "    .dataframe thead th {\n",
       "        text-align: right;\n",
       "    }\n",
       "</style>\n",
       "<table border=\"1\" class=\"dataframe\">\n",
       "  <thead>\n",
       "    <tr style=\"text-align: right;\">\n",
       "      <th></th>\n",
       "      <th>Q</th>\n",
       "      <th>A</th>\n",
       "      <th>label</th>\n",
       "    </tr>\n",
       "  </thead>\n",
       "  <tbody>\n",
       "    <tr>\n",
       "      <th>0</th>\n",
       "      <td>12시 땡!</td>\n",
       "      <td>하루가 또 가네요.</td>\n",
       "      <td>0</td>\n",
       "    </tr>\n",
       "    <tr>\n",
       "      <th>1</th>\n",
       "      <td>1지망 학교 떨어졌어</td>\n",
       "      <td>위로해 드립니다.</td>\n",
       "      <td>0</td>\n",
       "    </tr>\n",
       "    <tr>\n",
       "      <th>2</th>\n",
       "      <td>3박4일 놀러가고 싶다</td>\n",
       "      <td>여행은 언제나 좋죠.</td>\n",
       "      <td>0</td>\n",
       "    </tr>\n",
       "    <tr>\n",
       "      <th>3</th>\n",
       "      <td>3박4일 정도 놀러가고 싶다</td>\n",
       "      <td>여행은 언제나 좋죠.</td>\n",
       "      <td>0</td>\n",
       "    </tr>\n",
       "    <tr>\n",
       "      <th>4</th>\n",
       "      <td>PPL 심하네</td>\n",
       "      <td>눈살이 찌푸려지죠.</td>\n",
       "      <td>0</td>\n",
       "    </tr>\n",
       "  </tbody>\n",
       "</table>\n",
       "</div>"
      ],
      "text/plain": [
       "                 Q            A  label\n",
       "0           12시 땡!   하루가 또 가네요.      0\n",
       "1      1지망 학교 떨어졌어    위로해 드립니다.      0\n",
       "2     3박4일 놀러가고 싶다  여행은 언제나 좋죠.      0\n",
       "3  3박4일 정도 놀러가고 싶다  여행은 언제나 좋죠.      0\n",
       "4          PPL 심하네   눈살이 찌푸려지죠.      0"
      ]
     },
     "execution_count": 21,
     "metadata": {},
     "output_type": "execute_result"
    }
   ],
   "source": [
    "data = pd.read_csv('~/AIFFEL_RESEARCH_STUDY/Quests/MainQuest1_20240621/data/ChatbotData.csv')\n",
    "data.head()"
   ]
  },
  {
   "cell_type": "markdown",
   "metadata": {},
   "source": [
    "# 작성 코드\n",
    "## 1. Transformer와 비교해 변경이 필요한 부분을 서술하였다.\n",
    "• 제출 노트북 파일 앞부분에 텍스트 블럭으로 서술합니다. 변경이 필요한 블럭을 서술합니다.\n",
    "• 코드블럭에 변경사항을 주석으로 표시합니다.\n"
   ]
  },
  {
   "cell_type": "markdown",
   "metadata": {},
   "source": [
    "- GPT1의 경우 Transformer의 Decoder에 해당하는 부분을 가져다가 사용하였음.\n",
    "- 따라서, Encoder 부분이 불필요하다. \n",
    "- 또한, 학습은 Contiguous sequence of text를 진행하니까, SoS -> EoS 순차적으로 예측이 진행되어야 한다.\n"
   ]
  },
  {
   "cell_type": "markdown",
   "metadata": {},
   "source": [
    "\n",
    "## 2. 모델의 입력 형태에 맞게 전처리를 수행하였다.\n",
    "• Decoder 기반의 생성모델임을 감안하여 챗봇 데이터를 변형합니다.\n"
   ]
  },
  {
   "cell_type": "code",
   "execution_count": 38,
   "metadata": {},
   "outputs": [
    {
     "data": {
      "text/plain": [
       "11823"
      ]
     },
     "execution_count": 38,
     "metadata": {},
     "output_type": "execute_result"
    }
   ],
   "source": [
    "len(data) # 11823개의 입력 데이터"
   ]
  },
  {
   "cell_type": "code",
   "execution_count": 39,
   "metadata": {},
   "outputs": [
    {
     "data": {
      "text/plain": [
       "Q        11662\n",
       "A         7779\n",
       "label        3\n",
       "dtype: int64"
      ]
     },
     "execution_count": 39,
     "metadata": {},
     "output_type": "execute_result"
    }
   ],
   "source": [
    "data.nunique()"
   ]
  },
  {
   "cell_type": "code",
   "execution_count": 69,
   "metadata": {},
   "outputs": [
    {
     "name": "stdout",
     "output_type": "stream",
     "text": [
      "11662\n",
      "7779\n",
      "19436\n"
     ]
    }
   ],
   "source": [
    "# data의 Q, A를 중복 제거하고 합치고, label은 사용하지 않음\n",
    "data_unique = data.drop_duplicates(subset=['Q', 'A'])\n",
    "\n",
    "print(data_unique['Q'].nunique())\n",
    "print(data_unique['A'].nunique())\n",
    "\n",
    "# Q, A 합치기\n",
    "merged_data = pd.concat([data_unique['Q'], data_unique['A']]).reset_index(drop=True)\n",
    "merged_data.drop_duplicates(inplace=True)\n",
    "\n",
    "print(len(merged_data))"
   ]
  },
  {
   "cell_type": "code",
   "execution_count": 70,
   "metadata": {},
   "outputs": [
    {
     "data": {
      "text/plain": [
       "0                          12시 땡!\n",
       "1                     1지망 학교 떨어졌어\n",
       "2                    3박4일 놀러가고 싶다\n",
       "3                 3박4일 정도 놀러가고 싶다\n",
       "4                         PPL 심하네\n",
       "                   ...           \n",
       "23494               진심으로 다가가 보세요.\n",
       "23495          티가 나니까 눈치가 보이는 거죠!\n",
       "23496               훔쳐보는 거 티나나봐요.\n",
       "23497                      설렜겠어요.\n",
       "23498    잘 헤어질 수 있는 사이 여부인 거 같아요.\n",
       "Length: 19436, dtype: object"
      ]
     },
     "execution_count": 70,
     "metadata": {},
     "output_type": "execute_result"
    }
   ],
   "source": [
    "merged_data"
   ]
  },
  {
   "cell_type": "code",
   "execution_count": 71,
   "metadata": {},
   "outputs": [],
   "source": [
    "# 클리닝 진행\n",
    "def preprocess_sentence(sentence):\n",
    "\n",
    "    sentence = sentence.strip() # 양쪽 공백을 제거\n",
    "\n",
    "    # 단어와 구두점(punctuation) 사이의 거리를 만듭니다.\n",
    "    # 예를 들어서 \"I am a student.\" => \"I am a student .\"와 같이\n",
    "    # student와 온점 사이에 거리를 만듭니다.\n",
    "    \n",
    "    sentence = re.sub(r\"([?.!,])\", r\" \\1 \", sentence)\n",
    "    sentence = re.sub(r'[\" \"]+', \" \", sentence)\n",
    "\n",
    "    # (a-z, A-Z, \".\", \"?\", \"!\", \",\", 한글문자)를 제외한 모든 문자를 공백인 ' '로 대체합니다. \n",
    "    sentence = re.sub(\"[^a-zA-Z가-힇0-9.?!,]\", \" \", sentence)\n",
    "    sentence = sentence.strip()\n",
    "    return sentence"
   ]
  },
  {
   "cell_type": "code",
   "execution_count": 72,
   "metadata": {},
   "outputs": [
    {
     "data": {
      "text/plain": [
       "'3박4일 정도 놀러가고 싶다'"
      ]
     },
     "execution_count": 72,
     "metadata": {},
     "output_type": "execute_result"
    }
   ],
   "source": [
    "preprocess_sentence(\"3박4일 정도 놀러가고 싶다\t\")\n"
   ]
  },
  {
   "cell_type": "code",
   "execution_count": 73,
   "metadata": {},
   "outputs": [],
   "source": [
    "merged_data = merged_data.apply(lambda x: preprocess_sentence(x))"
   ]
  },
  {
   "cell_type": "code",
   "execution_count": 74,
   "metadata": {},
   "outputs": [
    {
     "data": {
      "text/plain": [
       "0            12시 땡 !\n",
       "1        1지망 학교 떨어졌어\n",
       "2       3박4일 놀러가고 싶다\n",
       "3    3박4일 정도 놀러가고 싶다\n",
       "4            PPL 심하네\n",
       "dtype: object"
      ]
     },
     "execution_count": 74,
     "metadata": {},
     "output_type": "execute_result"
    }
   ],
   "source": [
    "merged_data.head()"
   ]
  },
  {
   "cell_type": "code",
   "execution_count": 75,
   "metadata": {},
   "outputs": [],
   "source": [
    "# Tokenizing\n",
    "import tensorflow_datasets as tfds\n",
    "\n",
    "# Vocabulary 생성\n",
    "tokenizer = tfds.deprecated.text.SubwordTextEncoder.build_from_corpus(merged_data, target_vocab_size=2**13)"
   ]
  },
  {
   "cell_type": "code",
   "execution_count": 76,
   "metadata": {},
   "outputs": [
    {
     "name": "stdout",
     "output_type": "stream",
     "text": [
      "START_TOKEN의 번호 : [9050]\n",
      "END_TOKEN의 번호 : [9051]\n"
     ]
    }
   ],
   "source": [
    "# 시작 토큰과 종료 토큰에 고유한 정수를 부여합니다.\n",
    "START_TOKEN, END_TOKEN = [tokenizer.vocab_size], [tokenizer.vocab_size + 1]\n",
    "# 시작, 토큰에 부여된 정수를 출력\n",
    "print('START_TOKEN의 번호 :' ,[tokenizer.vocab_size])\n",
    "print('END_TOKEN의 번호 :' ,[tokenizer.vocab_size + 1])"
   ]
  },
  {
   "cell_type": "code",
   "execution_count": 77,
   "metadata": {},
   "outputs": [
    {
     "name": "stdout",
     "output_type": "stream",
     "text": [
      "9052\n"
     ]
    }
   ],
   "source": [
    "# 시작 토큰과 종료 토큰을 고려하여 +2를 하여 단어장의 크기를 산정합니다.\n",
    "VOCAB_SIZE = tokenizer.vocab_size + 2\n",
    "print(VOCAB_SIZE)"
   ]
  },
  {
   "cell_type": "code",
   "execution_count": 79,
   "metadata": {},
   "outputs": [
    {
     "name": "stdout",
     "output_type": "stream",
     "text": [
      "정수 인코딩 후의 21번째 질문 샘플: [8730, 1940, 3138]\n"
     ]
    }
   ],
   "source": [
    "# 임의의 22번째 샘플에 대해서 정수 인코딩 작업을 수행.\n",
    "# 각 토큰을 고유한 정수로 변환\n",
    "print('정수 인코딩 후의 21번째 질문 샘플: {}'.format(tokenizer.encode(merged_data[21])))\n"
   ]
  },
  {
   "cell_type": "code",
   "execution_count": 94,
   "metadata": {},
   "outputs": [],
   "source": [
    "# sos, eos 삽입\n",
    "encoded_sequences = [START_TOKEN + tokenizer.encode(text) + END_TOKEN\n",
    "                     for text in merged_data]"
   ]
  },
  {
   "cell_type": "code",
   "execution_count": 96,
   "metadata": {},
   "outputs": [
    {
     "name": "stdout",
     "output_type": "stream",
     "text": [
      "최대 시퀀스 길이: 30\n"
     ]
    }
   ],
   "source": [
    "sequence_lengths = [len(seq) for seq in encoded_sequences]\n",
    "\n",
    "# 최대 길이 확인\n",
    "max_length = max(sequence_lengths)\n",
    "d\n",
    "print(f\"최대 시퀀스 길이: {max_length}\")"
   ]
  },
  {
   "cell_type": "code",
   "execution_count": 97,
   "metadata": {},
   "outputs": [],
   "source": [
    "# 최대길이 30으로 패딩 \n",
    "MAX_LENGTH = 30\n",
    "encoded_sequences = tf.keras.preprocessing.sequence.pad_sequences(\n",
    "      encoded_sequences, maxlen=MAX_LENGTH, padding='post')\n"
   ]
  },
  {
   "cell_type": "code",
   "execution_count": 98,
   "metadata": {},
   "outputs": [],
   "source": [
    "# 입력 형태에 맞게 변경 - 다음단어를 예측할 수 있도록 데이터를 구성해야 합니다.\n",
    "\n",
    "# 교사 강요\n",
    "BATCH_SIZE = 64\n",
    "BUFFER_SIZE = 20000\n",
    "\n",
    "# 디코더는 이전의 target을 다음의 input으로 사용합니다.\n",
    "# 이에 따라 outputs에서는 START_TOKEN을 제거하겠습니다.\n",
    "dataset = tf.data.Dataset.from_tensor_slices((\n",
    "    {\n",
    "        'dec_inputs': encoded_sequences[:, :-1]\n",
    "    },\n",
    "    {\n",
    "        'outputs': encoded_sequences[:, 1:]\n",
    "    },\n",
    "))\n",
    "\n",
    "dataset = dataset.cache()\n",
    "dataset = dataset.shuffle(BUFFER_SIZE)\n",
    "dataset = dataset.batch(BATCH_SIZE)\n",
    "dataset = dataset.prefetch(tf.data.experimental.AUTOTUNE) # 학습 시 다음 데이터 배치를 준비하도록 처리"
   ]
  },
  {
   "cell_type": "code",
   "execution_count": 100,
   "metadata": {},
   "outputs": [
    {
     "data": {
      "text/plain": [
       "304"
      ]
     },
     "execution_count": 100,
     "metadata": {},
     "output_type": "execute_result"
    }
   ],
   "source": [
    "len(dataset) # 304개의 배치"
   ]
  },
  {
   "cell_type": "markdown",
   "metadata": {},
   "source": [
    "\n",
    "## 3. 모델의 입력 블럭을 GPT 논문에 기반하여 수정하였다.\n",
    "• 모델의 input이 정상적으로 구성되었는지 확인합니다.\n"
   ]
  },
  {
   "cell_type": "code",
   "execution_count": 163,
   "metadata": {},
   "outputs": [],
   "source": [
    "# Decoder : Masked Multihead Self Attention\n",
    "# 세부 코드 수정은 개별 모듈에 주석처리를 했습니다.\n",
    "\n",
    "from model.decoder import decoder\n",
    "from model.attention import PositionalEncoding, MultiHeadAttention\n",
    "from utils import utils\n",
    "\n",
    "from utils.utils import create_padding_mask, create_look_ahead_mask, loss_function, CustomSchedule\n"
   ]
  },
  {
   "cell_type": "markdown",
   "metadata": {},
   "source": [
    "\n",
    "## 4. GPT 모델을 정상적으로 구성하였다.(model.summary, model.fit 결과 캡쳐 첨부)\n",
    "• 노드의 transformer 코드를 수정하여 GPT1 모델을 구성합니다.\n"
   ]
  },
  {
   "cell_type": "code",
   "execution_count": 164,
   "metadata": {},
   "outputs": [],
   "source": [
    "def decoder_layer(units, d_model, num_heads, dropout, name=\"decoder_layer\"):\n",
    "    inputs = tf.keras.Input(shape=(None, d_model), name=\"inputs\")\n",
    "    \n",
    "    # # encoder의 self attention\n",
    "    # enc_outputs = tf.keras.Input(shape=(None, d_model), name=\"encoder_outputs\")\n",
    "    \n",
    "    look_ahead_mask = tf.keras.Input(\n",
    "        shape=(1, None, None), name=\"look_ahead_mask\"\n",
    "    )\n",
    "    padding_mask = tf.keras.Input(shape=(1, 1, None), name=\"padding_mask\")\n",
    "    \n",
    "    # Fisrt sub_layer : Masked Multihead Self Attention\n",
    "    attention2 = MultiHeadAttention(\n",
    "        d_model, num_heads, name=\"attention_1\")(inputs={\n",
    "        'query': inputs,\n",
    "        'key': inputs,\n",
    "        'value': inputs,\n",
    "        'mask': look_ahead_mask        \n",
    "        })\n",
    "    \n",
    "    # LayerNormalization\n",
    "    attention2 = tf.keras.layers.LayerNormalization(\n",
    "        epsilon=1e-6)(attention2 + inputs)\n",
    "    \n",
    "    # # Second sub_layer : Encoder-decoder Attention\n",
    "    # attention2 = MultiHeadAttention(\n",
    "    #     d_model, num_heads, name=\"attention_2\")(inputs={\n",
    "    #     'query': attention1,\n",
    "    #     'key': enc_outputs,\n",
    "    #     'value': enc_outputs,\n",
    "    #     'mask': padding_mask\n",
    "    #     })\n",
    "    \n",
    "    # Dropout, Layer Normalization(Residual connection)\n",
    "    attention2 = tf.keras.layers.Dropout(rate=dropout)(attention2)\n",
    "    attention2 = tf.keras.layers.LayerNormalization(\n",
    "        epsilon=1e-6)(attention2 + inputs)\n",
    "    \n",
    "    # Third layer : 2 Fully-connected Layer\n",
    "    outputs = tf.keras.layers.Dense(units=units, activation='relu')(attention2)\n",
    "    outputs = tf.keras.layers.Dense(units=d_model)(outputs)\n",
    "        \n",
    "    # Dropout, Layer Normalization(Residual connection)\n",
    "    outputs = tf.keras.layers.Dropout(rate=dropout)(outputs)\n",
    "    outputs = tf.keras.layers.LayerNormalization(\n",
    "        epsilon=1e-6)(outputs + attention2) \n",
    "    \n",
    "    return tf.keras.Model(\n",
    "        inputs=[inputs, \n",
    "                # enc_outputs, \n",
    "                look_ahead_mask, padding_mask], \n",
    "        outputs=outputs, \n",
    "        name=name\n",
    "    )    \n",
    "    \n",
    "def decoder(vocab_size,\n",
    "            num_layers,\n",
    "            units,\n",
    "            d_model,\n",
    "            num_heads,\n",
    "            dropout,\n",
    "            name='decoder'):\n",
    "    inputs = tf.keras.Input(shape=(None,), name='inputs')\n",
    "    enc_outputs = tf.keras.Input(shape=(None, d_model), name='encoder_outputs')\n",
    "    look_ahead_mask = tf.keras.Input(\n",
    "        shape=(1, None, None), name='look_ahead_mask')\n",
    "\n",
    "    # 패딩 마스크\n",
    "    padding_mask = tf.keras.Input(shape=(1, 1, None), name='padding_mask')\n",
    "\n",
    "    # 임베딩 레이어\n",
    "    embeddings = tf.keras.layers.Embedding(vocab_size, d_model)(inputs)\n",
    "    embeddings *= tf.math.sqrt(tf.cast(d_model, tf.float32))\n",
    "\n",
    "    # 포지셔널 인코딩\n",
    "    embeddings = PositionalEncoding(vocab_size, d_model)(embeddings)\n",
    "\n",
    "    # Dropout이라는 훈련을 돕는 테크닉을 수행\n",
    "    outputs = tf.keras.layers.Dropout(rate=dropout)(embeddings)\n",
    "\n",
    "    for i in range(num_layers):\n",
    "        outputs = decoder_layer(\n",
    "            units=units,\n",
    "            d_model=d_model,\n",
    "            num_heads=num_heads,\n",
    "            dropout=dropout,\n",
    "            name='decoder_layer_{}'.format(i),\n",
    "            )(inputs=[outputs, \n",
    "                    #   enc_outputs, \n",
    "                      look_ahead_mask, padding_mask])\n",
    "\n",
    "    return tf.keras.Model(\n",
    "        inputs=[inputs, \n",
    "                # enc_outputs, \n",
    "                look_ahead_mask, padding_mask],\n",
    "        outputs=outputs,\n",
    "        name=name)\n"
   ]
  },
  {
   "cell_type": "code",
   "execution_count": 180,
   "metadata": {},
   "outputs": [],
   "source": [
    "def GPT1(vocab_size,\n",
    "               num_layers,\n",
    "               units,\n",
    "               d_model,\n",
    "               num_heads,\n",
    "               dropout,\n",
    "               name=\"gpt1\"):\n",
    "    # inputs = tf.keras.Input(shape=(None,), name=\"inputs\")\n",
    "    dec_inputs = tf.keras.Input(shape=(None,), name=\"dec_inputs\")\n",
    "    \n",
    "    # enc_padding_mask = tf.keras.layers.Lambda( # 함수 기반으로 레이어 생성\n",
    "    #     create_padding_mask, # (1, 1, seq_len)의 반환값\n",
    "    #     output_shape = (1, 1, None),\n",
    "    #     name='enc_padding_mask')(inputs)\n",
    "    \n",
    "    # for decoder masking \n",
    "    look_ahead_mask = tf.keras.layers.Lambda(\n",
    "        create_look_ahead_mask,\n",
    "        output_shape=(1, None, None),\n",
    "        name='look_ahead_mask')(dec_inputs)\n",
    "    \n",
    "    # for Decoder padding\n",
    "    dec_padding_mask = tf.keras.layers.Lambda(\n",
    "        create_padding_mask, \n",
    "        output_shape=(1, 1, None),\n",
    "        name='dec_padding_mask')(dec_inputs)\n",
    "    \n",
    "    # # Encoder\n",
    "    # enc_outputs = encoder(\n",
    "    #     vocab_size=vocab_size,\n",
    "    #     num_layers=num_layers,\n",
    "    #     units=units,\n",
    "    #     d_model=d_model,\n",
    "    #     num_heads=num_heads,\n",
    "    #     dropout=dropout,\n",
    "    # )(inputs=[inputs, enc_padding_mask])\n",
    "    \n",
    "    # Decoder\n",
    "    dec_outputs = decoder(\n",
    "        vocab_size=vocab_size,\n",
    "        num_layers=num_layers,\n",
    "        units=units,\n",
    "        d_model=d_model,\n",
    "        num_heads=num_heads,\n",
    "        dropout=dropout,\n",
    "    )(inputs=[dec_inputs, \n",
    "            #   enc_outputs, 인코더 출력값을 구하지 않습니다.\n",
    "              look_ahead_mask, dec_padding_mask])\n",
    "    \n",
    "    # Fully connected layer\n",
    "    outputs = tf.keras.layers.Dense(units=vocab_size, name=\"outputs\")(dec_outputs)\n",
    "    \n",
    "    return tf.keras.Model(inputs=[dec_inputs], outputs=outputs, name=name)\n",
    "    "
   ]
  },
  {
   "cell_type": "code",
   "execution_count": 181,
   "metadata": {},
   "outputs": [],
   "source": [
    "# 현재 세션에 존재하는 모든 텐서 객체들을 삭제 - 메모리 누수 방지 및 이전에 사용된 가중치 초기화\n",
    "tf.keras.backend.clear_session() "
   ]
  },
  {
   "cell_type": "code",
   "execution_count": 182,
   "metadata": {},
   "outputs": [],
   "source": [
    "# 하이퍼파리마터\n",
    "NUM_LAYERS = 2 # 디코더 층의 개수\n",
    "D_MODEL = 256 # 디코더 내부 입,출력의 고정 차원\n",
    "NUM_HEADS = 8 # 멀티 헤드 어텐션에서 헤드 수\n",
    "UNITS = 512 # 피드 포워드 신경망의 은닉층의 크기\n",
    "DROPOUT = 0.1"
   ]
  },
  {
   "cell_type": "code",
   "execution_count": 183,
   "metadata": {},
   "outputs": [
    {
     "name": "stdout",
     "output_type": "stream",
     "text": [
      "Model: \"gpt1\"\n",
      "__________________________________________________________________________________________________\n",
      " Layer (type)                   Output Shape         Param #     Connected to                     \n",
      "==================================================================================================\n",
      " dec_inputs (InputLayer)        [(None, None)]       0           []                               \n",
      "                                                                                                  \n",
      " look_ahead_mask (Lambda)       (None, 1, None, Non  0           ['dec_inputs[0][0]']             \n",
      "                                e)                                                                \n",
      "                                                                                                  \n",
      " dec_padding_mask (Lambda)      (None, 1, 1, None)   0           ['dec_inputs[0][0]']             \n",
      "                                                                                                  \n",
      " decoder (Functional)           (None, None, 256)    3372544     ['dec_inputs[0][0]',             \n",
      "                                                                  'look_ahead_mask[0][0]',        \n",
      "                                                                  'dec_padding_mask[0][0]']       \n",
      "                                                                                                  \n",
      " outputs (Dense)                (None, None, 9052)   2326364     ['decoder[0][0]']                \n",
      "                                                                                                  \n",
      "==================================================================================================\n",
      "Total params: 5,698,908\n",
      "Trainable params: 5,698,908\n",
      "Non-trainable params: 0\n",
      "__________________________________________________________________________________________________\n"
     ]
    }
   ],
   "source": [
    "model = GPT1(\n",
    "    vocab_size=VOCAB_SIZE, \n",
    "    num_layers=NUM_LAYERS,\n",
    "    units=UNITS,\n",
    "    d_model=D_MODEL,\n",
    "    num_heads=NUM_HEADS,\n",
    "    dropout=DROPOUT\n",
    ")\n",
    "\n",
    "model.summary()"
   ]
  },
  {
   "cell_type": "code",
   "execution_count": 184,
   "metadata": {},
   "outputs": [
    {
     "data": {
      "image/png": "[encoded data removed]",
      "text/plain": [
       "<Figure size 640x480 with 1 Axes>"
      ]
     },
     "metadata": {},
     "output_type": "display_data"
    }
   ],
   "source": [
    "sample_learning_rate = CustomSchedule(d_model=128)\n",
    "\n",
    "plt.plot(sample_learning_rate(tf.range(200000, dtype=tf.float32)))\n",
    "plt.ylabel(\"Learning Rate\")\n",
    "plt.xlabel(\"Train Step\")\n",
    "plt.show()"
   ]
  },
  {
   "cell_type": "code",
   "execution_count": 194,
   "metadata": {},
   "outputs": [],
   "source": [
    "def loss_function(y_true, y_pred):\n",
    "    y_true = tf.reshape(y_true, shape=(-1, \n",
    "                                       MAX_LENGTH - 1)) # Time step ?\n",
    "    \n",
    "    if tf.__version__ >= '2.9.0' : \n",
    "            \n",
    "        # print(type(mask), type(loss)) \n",
    "        # <class 'tensorflow.python.framework.ops.Tensor'> <class 'keras.losses.SparseCategoricalCrossentropy'>\n",
    "        # 로컬 MacbookPro tf v2.9 기준 type의 불일치로 연산이 진행되지 않음\n",
    "        \n",
    "        loss_obj = tf.keras.losses.SparseCategoricalCrossentropy(\n",
    "            from_logits=True, \n",
    "            reduction='none',\n",
    "            ) # 각 샘플에 대한 손실값을 반환\n",
    "        \n",
    "        loss = loss_obj(y_true, y_pred)\n",
    "        loss = tf.cast(loss, dtype=tf.float32)\n",
    "        \n",
    "    \n",
    "    else : \n",
    "        \n",
    "        loss = tf.keras.losses.SparseCategoricalCrossentropy(\n",
    "            from_logits=True, \n",
    "            reduction='none') # 각 샘플에 대한 손실값을 반환\n",
    "        (y_true, y_pred)\n",
    "        \n",
    "    mask = tf.cast(tf.not_equal(y_true, 0), tf.float32) # 패딩 토큰을 고려    \n",
    "    loss = tf.multiply(loss, mask)\n",
    "    return tf.reduce_mean(loss) # 실제 고려된 손실\n",
    "        "
   ]
  },
  {
   "cell_type": "code",
   "execution_count": 196,
   "metadata": {},
   "outputs": [],
   "source": [
    "learning_rate = CustomSchedule(D_MODEL)\n",
    "\n",
    "optimizer = tf.keras.optimizers.Adam(\n",
    "    learning_rate, beta_1=0.9, beta_2=0.98, epsilon=1e-9)\n",
    "\n",
    "def accuracy(y_true, y_pred):\n",
    "    y_true = tf.reshape(y_true, shape=(-1, MAX_LENGTH - 1))\n",
    "    return tf.keras.metrics.sparse_categorical_accuracy(y_true, y_pred)\n",
    "\n",
    "model.compile(optimizer=optimizer, loss=loss_function, metrics=[accuracy])"
   ]
  },
  {
   "cell_type": "code",
   "execution_count": 217,
   "metadata": {},
   "outputs": [
    {
     "name": "stdout",
     "output_type": "stream",
     "text": [
      "Epoch 1/100\n",
      "304/304 [==============================] - 5s 16ms/step - loss: 0.7948 - accuracy: 0.0883\n",
      "Epoch 2/100\n",
      "304/304 [==============================] - 5s 16ms/step - loss: 0.7381 - accuracy: 0.0953\n",
      "Epoch 3/100\n",
      "304/304 [==============================] - 5s 16ms/step - loss: 0.6903 - accuracy: 0.1030\n",
      "Epoch 4/100\n",
      "304/304 [==============================] - 5s 16ms/step - loss: 0.6463 - accuracy: 0.1120\n",
      "Epoch 5/100\n",
      "304/304 [==============================] - 5s 16ms/step - loss: 0.5984 - accuracy: 0.1225\n",
      "Epoch 6/100\n",
      "304/304 [==============================] - 5s 16ms/step - loss: 0.5589 - accuracy: 0.1320\n",
      "Epoch 7/100\n",
      "304/304 [==============================] - 5s 16ms/step - loss: 0.5296 - accuracy: 0.1385\n",
      "Epoch 8/100\n",
      "304/304 [==============================] - 5s 16ms/step - loss: 0.5093 - accuracy: 0.1435\n",
      "Epoch 9/100\n",
      "304/304 [==============================] - 5s 16ms/step - loss: 0.4926 - accuracy: 0.1470\n",
      "Epoch 10/100\n",
      "304/304 [==============================] - 5s 16ms/step - loss: 0.4818 - accuracy: 0.1496\n",
      "Epoch 11/100\n",
      "304/304 [==============================] - 5s 16ms/step - loss: 0.4726 - accuracy: 0.1513\n",
      "Epoch 12/100\n",
      "304/304 [==============================] - 5s 16ms/step - loss: 0.4657 - accuracy: 0.1526\n",
      "Epoch 13/100\n",
      "304/304 [==============================] - 5s 16ms/step - loss: 0.4601 - accuracy: 0.1540\n",
      "Epoch 14/100\n",
      "304/304 [==============================] - 5s 16ms/step - loss: 0.4553 - accuracy: 0.1547\n",
      "Epoch 15/100\n",
      "304/304 [==============================] - 5s 16ms/step - loss: 0.4508 - accuracy: 0.1555\n",
      "Epoch 16/100\n",
      "304/304 [==============================] - 5s 16ms/step - loss: 0.4468 - accuracy: 0.1563\n",
      "Epoch 17/100\n",
      "304/304 [==============================] - 5s 16ms/step - loss: 0.4443 - accuracy: 0.1566\n",
      "Epoch 18/100\n",
      "304/304 [==============================] - 5s 16ms/step - loss: 0.4413 - accuracy: 0.1570\n",
      "Epoch 19/100\n",
      "304/304 [==============================] - 5s 16ms/step - loss: 0.4388 - accuracy: 0.1574\n",
      "Epoch 20/100\n",
      "304/304 [==============================] - 5s 16ms/step - loss: 0.4363 - accuracy: 0.1578\n",
      "Epoch 21/100\n",
      "304/304 [==============================] - 5s 16ms/step - loss: 0.4353 - accuracy: 0.1578\n",
      "Epoch 22/100\n",
      "304/304 [==============================] - 5s 16ms/step - loss: 0.4327 - accuracy: 0.1582\n",
      "Epoch 23/100\n",
      "304/304 [==============================] - 5s 16ms/step - loss: 0.4321 - accuracy: 0.1583\n",
      "Epoch 24/100\n",
      "304/304 [==============================] - 5s 16ms/step - loss: 0.4303 - accuracy: 0.1585\n",
      "Epoch 25/100\n",
      "304/304 [==============================] - 5s 16ms/step - loss: 0.4291 - accuracy: 0.1589\n",
      "Epoch 26/100\n",
      "304/304 [==============================] - 5s 16ms/step - loss: 0.4275 - accuracy: 0.1590\n",
      "Epoch 27/100\n",
      "304/304 [==============================] - 5s 16ms/step - loss: 0.4262 - accuracy: 0.1591\n",
      "Epoch 28/100\n",
      "304/304 [==============================] - 5s 16ms/step - loss: 0.4256 - accuracy: 0.1593\n",
      "Epoch 29/100\n",
      "304/304 [==============================] - 5s 16ms/step - loss: 0.4248 - accuracy: 0.1592\n",
      "Epoch 30/100\n",
      "304/304 [==============================] - 5s 16ms/step - loss: 0.4236 - accuracy: 0.1594\n",
      "Epoch 31/100\n",
      "304/304 [==============================] - 5s 16ms/step - loss: 0.4233 - accuracy: 0.1594\n",
      "Epoch 32/100\n",
      "304/304 [==============================] - 5s 16ms/step - loss: 0.4225 - accuracy: 0.1595\n",
      "Epoch 33/100\n",
      "304/304 [==============================] - 5s 16ms/step - loss: 0.4214 - accuracy: 0.1598\n",
      "Epoch 34/100\n",
      "304/304 [==============================] - 5s 16ms/step - loss: 0.4210 - accuracy: 0.1596\n",
      "Epoch 35/100\n",
      "304/304 [==============================] - 5s 16ms/step - loss: 0.4205 - accuracy: 0.1596\n",
      "Epoch 36/100\n",
      "304/304 [==============================] - 5s 16ms/step - loss: 0.4198 - accuracy: 0.1596\n",
      "Epoch 37/100\n",
      "304/304 [==============================] - 5s 16ms/step - loss: 0.4192 - accuracy: 0.1599\n",
      "Epoch 38/100\n",
      "304/304 [==============================] - 5s 16ms/step - loss: 0.4185 - accuracy: 0.1600\n",
      "Epoch 39/100\n",
      "304/304 [==============================] - 5s 16ms/step - loss: 0.4182 - accuracy: 0.1599\n",
      "Epoch 40/100\n",
      "304/304 [==============================] - 5s 16ms/step - loss: 0.4175 - accuracy: 0.1602\n",
      "Epoch 41/100\n",
      "304/304 [==============================] - 5s 16ms/step - loss: 0.4170 - accuracy: 0.1601\n",
      "Epoch 42/100\n",
      "304/304 [==============================] - 5s 16ms/step - loss: 0.4169 - accuracy: 0.1601\n",
      "Epoch 43/100\n",
      "304/304 [==============================] - 5s 16ms/step - loss: 0.4157 - accuracy: 0.1603\n",
      "Epoch 44/100\n",
      "304/304 [==============================] - 5s 16ms/step - loss: 0.4163 - accuracy: 0.1602\n",
      "Epoch 45/100\n",
      "304/304 [==============================] - 5s 16ms/step - loss: 0.4156 - accuracy: 0.1602\n",
      "Epoch 46/100\n",
      "304/304 [==============================] - 5s 16ms/step - loss: 0.4153 - accuracy: 0.1602\n",
      "Epoch 47/100\n",
      "304/304 [==============================] - 5s 16ms/step - loss: 0.4150 - accuracy: 0.1603\n",
      "Epoch 48/100\n",
      "304/304 [==============================] - 5s 16ms/step - loss: 0.4144 - accuracy: 0.1604\n",
      "Epoch 49/100\n",
      "304/304 [==============================] - 5s 16ms/step - loss: 0.4145 - accuracy: 0.1603\n",
      "Epoch 50/100\n",
      "304/304 [==============================] - 5s 16ms/step - loss: 0.4141 - accuracy: 0.1604\n",
      "Epoch 51/100\n",
      "304/304 [==============================] - 5s 16ms/step - loss: 0.4136 - accuracy: 0.1605\n",
      "Epoch 52/100\n",
      "304/304 [==============================] - 5s 16ms/step - loss: 0.4132 - accuracy: 0.1605\n",
      "Epoch 53/100\n",
      "304/304 [==============================] - 5s 16ms/step - loss: 0.4136 - accuracy: 0.1606\n",
      "Epoch 54/100\n",
      "304/304 [==============================] - 5s 16ms/step - loss: 0.4130 - accuracy: 0.1605\n",
      "Epoch 55/100\n",
      "304/304 [==============================] - 5s 16ms/step - loss: 0.4127 - accuracy: 0.1605\n",
      "Epoch 56/100\n",
      "304/304 [==============================] - 5s 16ms/step - loss: 0.4124 - accuracy: 0.1603\n",
      "Epoch 57/100\n",
      "304/304 [==============================] - 5s 16ms/step - loss: 0.4121 - accuracy: 0.1605\n",
      "Epoch 58/100\n",
      "304/304 [==============================] - 5s 16ms/step - loss: 0.4118 - accuracy: 0.1606\n",
      "Epoch 59/100\n",
      "304/304 [==============================] - 5s 16ms/step - loss: 0.4113 - accuracy: 0.1606\n",
      "Epoch 60/100\n",
      "304/304 [==============================] - 5s 16ms/step - loss: 0.4115 - accuracy: 0.1606\n",
      "Epoch 61/100\n",
      "304/304 [==============================] - 5s 16ms/step - loss: 0.4113 - accuracy: 0.1606\n",
      "Epoch 62/100\n",
      "304/304 [==============================] - 5s 16ms/step - loss: 0.4110 - accuracy: 0.1608\n",
      "Epoch 63/100\n",
      "304/304 [==============================] - 5s 16ms/step - loss: 0.4107 - accuracy: 0.1607\n",
      "Epoch 64/100\n",
      "304/304 [==============================] - 5s 16ms/step - loss: 0.4107 - accuracy: 0.1607\n",
      "Epoch 65/100\n",
      "304/304 [==============================] - 5s 16ms/step - loss: 0.4101 - accuracy: 0.1607\n",
      "Epoch 66/100\n",
      "304/304 [==============================] - 5s 16ms/step - loss: 0.4104 - accuracy: 0.1608\n",
      "Epoch 67/100\n",
      "304/304 [==============================] - 5s 16ms/step - loss: 0.4099 - accuracy: 0.1607\n",
      "Epoch 68/100\n",
      "304/304 [==============================] - 5s 16ms/step - loss: 0.4100 - accuracy: 0.1609\n",
      "Epoch 69/100\n",
      "304/304 [==============================] - 5s 16ms/step - loss: 0.4097 - accuracy: 0.1609\n",
      "Epoch 70/100\n",
      "304/304 [==============================] - 5s 16ms/step - loss: 0.4095 - accuracy: 0.1608\n",
      "Epoch 71/100\n",
      "304/304 [==============================] - 5s 16ms/step - loss: 0.4093 - accuracy: 0.1609\n",
      "Epoch 72/100\n",
      "304/304 [==============================] - 5s 16ms/step - loss: 0.4087 - accuracy: 0.1608\n",
      "Epoch 73/100\n",
      "304/304 [==============================] - 5s 16ms/step - loss: 0.4091 - accuracy: 0.1609\n",
      "Epoch 74/100\n",
      "304/304 [==============================] - 5s 16ms/step - loss: 0.4090 - accuracy: 0.1610\n",
      "Epoch 75/100\n",
      "304/304 [==============================] - 5s 16ms/step - loss: 0.4089 - accuracy: 0.1609\n",
      "Epoch 76/100\n",
      "304/304 [==============================] - 5s 16ms/step - loss: 0.4089 - accuracy: 0.1609\n",
      "Epoch 77/100\n",
      "304/304 [==============================] - 5s 16ms/step - loss: 0.4086 - accuracy: 0.1609\n",
      "Epoch 78/100\n",
      "304/304 [==============================] - 5s 16ms/step - loss: 0.4086 - accuracy: 0.1608\n",
      "Epoch 79/100\n",
      "304/304 [==============================] - 5s 16ms/step - loss: 0.4082 - accuracy: 0.1610\n",
      "Epoch 80/100\n",
      "304/304 [==============================] - 5s 16ms/step - loss: 0.4084 - accuracy: 0.1610\n",
      "Epoch 81/100\n",
      "304/304 [==============================] - 5s 16ms/step - loss: 0.4080 - accuracy: 0.1610\n",
      "Epoch 82/100\n",
      "304/304 [==============================] - 5s 16ms/step - loss: 0.4083 - accuracy: 0.1609\n",
      "Epoch 83/100\n",
      "304/304 [==============================] - 5s 16ms/step - loss: 0.4081 - accuracy: 0.1609\n",
      "Epoch 84/100\n",
      "304/304 [==============================] - 5s 16ms/step - loss: 0.4075 - accuracy: 0.1611\n",
      "Epoch 85/100\n",
      "304/304 [==============================] - 5s 16ms/step - loss: 0.4076 - accuracy: 0.1611\n",
      "Epoch 86/100\n",
      "304/304 [==============================] - 5s 16ms/step - loss: 0.4074 - accuracy: 0.1609\n",
      "Epoch 87/100\n",
      "304/304 [==============================] - 5s 16ms/step - loss: 0.4078 - accuracy: 0.1609\n",
      "Epoch 88/100\n",
      "304/304 [==============================] - 5s 16ms/step - loss: 0.4071 - accuracy: 0.1611\n",
      "Epoch 89/100\n",
      "304/304 [==============================] - 5s 16ms/step - loss: 0.4073 - accuracy: 0.1610\n",
      "Epoch 90/100\n",
      "304/304 [==============================] - 5s 16ms/step - loss: 0.4071 - accuracy: 0.1611\n",
      "Epoch 91/100\n",
      "304/304 [==============================] - 5s 16ms/step - loss: 0.4068 - accuracy: 0.1611\n",
      "Epoch 92/100\n",
      "304/304 [==============================] - 5s 16ms/step - loss: 0.4069 - accuracy: 0.1611\n",
      "Epoch 93/100\n",
      "304/304 [==============================] - 5s 16ms/step - loss: 0.4067 - accuracy: 0.1611\n",
      "Epoch 94/100\n",
      "304/304 [==============================] - 5s 16ms/step - loss: 0.4063 - accuracy: 0.1611\n",
      "Epoch 95/100\n",
      "304/304 [==============================] - 5s 16ms/step - loss: 0.4064 - accuracy: 0.1612\n",
      "Epoch 96/100\n",
      "304/304 [==============================] - 5s 16ms/step - loss: 0.4059 - accuracy: 0.1612\n",
      "Epoch 97/100\n",
      "304/304 [==============================] - 5s 16ms/step - loss: 0.4062 - accuracy: 0.1612\n",
      "Epoch 98/100\n",
      "304/304 [==============================] - 5s 16ms/step - loss: 0.4060 - accuracy: 0.1611\n",
      "Epoch 99/100\n",
      "304/304 [==============================] - 5s 16ms/step - loss: 0.4062 - accuracy: 0.1612\n",
      "Epoch 100/100\n",
      "304/304 [==============================] - 5s 16ms/step - loss: 0.4059 - accuracy: 0.1612\n"
     ]
    },
    {
     "data": {
      "text/plain": [
       "<keras.callbacks.History at 0x79e9a45ac850>"
      ]
     },
     "execution_count": 217,
     "metadata": {},
     "output_type": "execute_result"
    }
   ],
   "source": [
    "EPOCHS = 100\n",
    "model.fit(dataset, epochs=EPOCHS, verbose=1)"
   ]
  },
  {
   "cell_type": "code",
   "execution_count": 219,
   "metadata": {},
   "outputs": [],
   "source": [
    "model.save_weights('./checkpoints/gpt_ckpt')"
   ]
  },
  {
   "cell_type": "markdown",
   "metadata": {},
   "source": [
    "\n",
    "## 5. 입력에 따른 출력이 생성되었다.\n",
    "• 출력 결과물의 수준에 상관없이 모델이 정상적으로 동작하는지 확인합니다."
   ]
  },
  {
   "cell_type": "code",
   "execution_count": 220,
   "metadata": {},
   "outputs": [
    {
     "name": "stdout",
     "output_type": "stream",
     "text": [
      "Model: \"gpt1\"\n",
      "__________________________________________________________________________________________________\n",
      " Layer (type)                   Output Shape         Param #     Connected to                     \n",
      "==================================================================================================\n",
      " dec_inputs (InputLayer)        [(None, None)]       0           []                               \n",
      "                                                                                                  \n",
      " look_ahead_mask (Lambda)       (None, 1, None, Non  0           ['dec_inputs[0][0]']             \n",
      "                                e)                                                                \n",
      "                                                                                                  \n",
      " dec_padding_mask (Lambda)      (None, 1, 1, None)   0           ['dec_inputs[0][0]']             \n",
      "                                                                                                  \n",
      " decoder (Functional)           (None, None, 256)    3372544     ['dec_inputs[0][0]',             \n",
      "                                                                  'look_ahead_mask[0][0]',        \n",
      "                                                                  'dec_padding_mask[0][0]']       \n",
      "                                                                                                  \n",
      " outputs (Dense)                (None, None, 9052)   2326364     ['decoder[0][0]']                \n",
      "                                                                                                  \n",
      "==================================================================================================\n",
      "Total params: 5,698,908\n",
      "Trainable params: 5,698,908\n",
      "Non-trainable params: 0\n",
      "__________________________________________________________________________________________________\n"
     ]
    },
    {
     "data": {
      "text/plain": [
       "<tensorflow.python.training.tracking.util.CheckpointLoadStatus at 0x79e9a4331b80>"
      ]
     },
     "execution_count": 220,
     "metadata": {},
     "output_type": "execute_result"
    }
   ],
   "source": [
    "trained_model = GPT1(\n",
    "    vocab_size=VOCAB_SIZE, \n",
    "    num_layers=NUM_LAYERS,\n",
    "    units=UNITS,\n",
    "    d_model=D_MODEL,\n",
    "    num_heads=NUM_HEADS,\n",
    "    dropout=DROPOUT\n",
    ")\n",
    "\n",
    "trained_model.summary()\n",
    "trained_model.load_weights('./checkpoints/gpt_ckpt')"
   ]
  },
  {
   "cell_type": "code",
   "execution_count": 234,
   "metadata": {},
   "outputs": [],
   "source": [
    "def decoder_inference(sentence):\n",
    "    sentence = preprocess_sentence(sentence)\n",
    "\n",
    "    # 입력된 문장을 정수 인코딩 후, 시작 토큰과 종료 토큰을 앞뒤로 추가.\n",
    "    # ex) Where have you been? → [[8331   86   30    5 1059    7 8332]]\n",
    "    sentence = tf.expand_dims(\n",
    "        START_TOKEN + tokenizer.encode(sentence) + END_TOKEN, axis=0)\n",
    "\n",
    "    print(sentence)\n",
    "    \n",
    "    # 디코더의 현재까지의 예측한 출력 시퀀스가 지속적으로 저장되는 변수.\n",
    "    # 처음에는 예측한 내용이 없음으로 시작 토큰만 별도 저장. ex) 8331\n",
    "    output_sequence = tf.expand_dims(START_TOKEN, 0)\n",
    "\n",
    "    # 디코더의 인퍼런스 단계\n",
    "    for i in range(MAX_LENGTH):\n",
    "        # 디코더는 최대 MAX_LENGTH의 길이만큼 다음 단어 예측을 반복합니다.\n",
    "        # predictions = trained_model(inputs=[sentence], training=False)\n",
    "        predictions = model(inputs=[sentence], training=False)\n",
    "        predictions = predictions[:, -1:, :]\n",
    "\n",
    "        # 현재 예측한 단어의 정수\n",
    "        predicted_id = tf.cast(tf.argmax(predictions, axis=-1), tf.int32)\n",
    "\n",
    "        # 만약 현재 예측한 단어가 종료 토큰이라면 for문을 종료\n",
    "        if tf.equal(predicted_id, END_TOKEN[0]):\n",
    "            break\n",
    "\n",
    "        # 예측한 단어들은 지속적으로 output_sequence에 추가됩니다.\n",
    "        # 이 output_sequence는 다시 디코더의 입력이 됩니다.\n",
    "        output_sequence = tf.concat([output_sequence, predicted_id], axis=-1)\n",
    "\n",
    "    return tf.squeeze(output_sequence, axis=0)"
   ]
  },
  {
   "cell_type": "code",
   "execution_count": 235,
   "metadata": {},
   "outputs": [],
   "source": [
    "def sentence_generation(sentence):\n",
    "    # 입력 문장에 대해서 디코더를 동작 시켜 예측된 정수 시퀀스를 리턴받습니다.\n",
    "    prediction = decoder_inference(sentence)\n",
    "    print(prediction)\n",
    "    # 정수 시퀀스를 다시 텍스트 시퀀스로 변환합니다.\n",
    "    predicted_sentence = tokenizer.decode(\n",
    "      [i for i in prediction if i < tokenizer.vocab_size])\n",
    "\n",
    "    print('입력 : {}'.format(sentence))\n",
    "    print('출력 : {}'.format(predicted_sentence))\n",
    "\n",
    "    return predicted_sentence"
   ]
  },
  {
   "cell_type": "code",
   "execution_count": 236,
   "metadata": {},
   "outputs": [
    {
     "name": "stdout",
     "output_type": "stream",
     "text": [
      "tf.Tensor([[9050  231 1312 9031 8936 8954 8826  982 3074   14 1632   75    1 9051]], shape=(1, 14), dtype=int32)\n"
     ]
    },
    {
     "name": "stdout",
     "output_type": "stream",
     "text": [
      "tf.Tensor(\n",
      "[9050    1    1    1    1    1    1    1    1    1    1    1    1    1\n",
      "    1    1    1    1    1    1    1    1    1    1    1    1    1    1\n",
      "    1    1    1], shape=(31,), dtype=int32)\n",
      "입력 : 나는 아이펠 교육을 듣고 있어.\n",
      "출력 :  . . . . . . . . . . . . . . . . . . . . . . . . . . . . . .\n"
     ]
    },
    {
     "data": {
      "text/plain": [
       "' . . . . . . . . . . . . . . . . . . . . . . . . . . . . . .'"
      ]
     },
     "execution_count": 236,
     "metadata": {},
     "output_type": "execute_result"
    }
   ],
   "source": [
    "sentence_generation('나는 아이펠 교육을 듣고 있어.')"
   ]
  },
  {
   "cell_type": "markdown",
   "metadata": {},
   "source": [
    "- 돌아는 가게 했는데, 왜 전부 다 1로 예측을 하는지 모르겠다."
   ]
  },
  {
   "cell_type": "code",
   "execution_count": 233,
   "metadata": {},
   "outputs": [
    {
     "data": {
      "text/plain": [
       "'거예요너무 수 는 하면 조금만 친구를 '"
      ]
     },
     "execution_count": 233,
     "metadata": {},
     "output_type": "execute_result"
    }
   ],
   "source": [
    "# 임베딩이 잘못되었나 ?\n",
    "tokenizer.decode([4, 5, 7, 10, 110, 500, 1000])"
   ]
  },
  {
   "cell_type": "code",
   "execution_count": null,
   "metadata": {},
   "outputs": [],
   "source": []
  }
 ],
 "metadata": {
  "kernelspec": {
   "display_name": "Python 3",
   "language": "python",
   "name": "python3"
  },
  "language_info": {
   "codemirror_mode": {
    "name": "ipython",
    "version": 3
   },
   "file_extension": ".py",
   "mimetype": "text/x-python",
   "name": "python",
   "nbconvert_exporter": "python",
   "pygments_lexer": "ipython3",
   "version": "3.8.10"
  }
 },
 "nbformat": 4,
 "nbformat_minor": 2
}

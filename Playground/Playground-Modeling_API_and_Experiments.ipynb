{
 "cells": [
  {
   "cell_type": "markdown",
   "metadata": {},
   "source": [
    "# 템플릿 설명"
   ]
  },
  {
   "cell_type": "markdown",
   "metadata": {},
   "source": [
    "\n",
    "- 수행일 : 2024년 05월 28일\n",
    "- 수행자 : 이정훈\n",
    "\n",
    "## 오늘의 주제\n",
    "\n",
    "- keras API\n",
    "- 학습 모니터링 시각화\n",
    "- 모델 학습 과정의 시각적 이해\n",
    "\n",
    "## 오늘의 목표\n",
    "\n",
    "- 모델 학습의 전 과정을 살펴보고, 각 **워크플로우(API)를 사용**할 수 있습니다.\n",
    "- 여러 방식 중 **적합한 방식을 선택할 수 있고, 각 방식을 커스텀하여 사용**할 수 있습니다.\n",
    "- **모델 훈련과 평가의 차이**를 이해하고, 각각의 루프를 다르게 구성할 수 있습니다.\n",
    "- **하이퍼 파라미터 변경 과정을 시각적으로 확인하고, 이해**합니다.\n"
   ]
  },
  {
   "cell_type": "markdown",
   "metadata": {},
   "source": [
    "---"
   ]
  },
  {
   "cell_type": "markdown",
   "metadata": {},
   "source": [
    "# Keras API for Modeling"
   ]
  },
  {
   "cell_type": "markdown",
   "metadata": {},
   "source": [
    "> 7장을 학습하고, sequential, functional, subclassing 방식으로 모델 학습의 프로세스를 구축합니다.<br>이후 아래 자료와 질문을 토대로 모델의 학습과정에서 일어나는 내부 동작을 이해합니다.\n"
   ]
  },
  {
   "cell_type": "markdown",
   "metadata": {},
   "source": [
    "## 교재 실습코드"
   ]
  },
  {
   "cell_type": "code",
   "execution_count": 1,
   "metadata": {},
   "outputs": [
    {
     "name": "stderr",
     "output_type": "stream",
     "text": [
      "/opt/homebrew/Caskroom/miniforge/base/envs/py38/lib/python3.8/site-packages/scipy/__init__.py:146: UserWarning: A NumPy version >=1.16.5 and <1.23.0 is required for this version of SciPy (detected version 1.24.3\n",
      "  warnings.warn(f\"A NumPy version >={np_minversion} and <{np_maxversion}\"\n"
     ]
    }
   ],
   "source": [
    "### Packages and module import\n",
    "from tensorflow import keras\n",
    "from tensorflow.keras import layers"
   ]
  },
  {
   "cell_type": "markdown",
   "metadata": {},
   "source": [
    "### Sequential model (P245)"
   ]
  },
  {
   "cell_type": "markdown",
   "metadata": {},
   "source": [
    "- Sequential의 경우 List의 형태로 간단하게 만들거나, .add() 를 통해 쌓는 방식"
   ]
  },
  {
   "cell_type": "code",
   "execution_count": 2,
   "metadata": {},
   "outputs": [],
   "source": [
    "# List의 형태 활용\n",
    "model = keras.Sequential([\n",
    "    layers.Dense(64, activation=\"relu\"),\n",
    "    layers.Dense(10, activation=\"softmax\")\n",
    "])"
   ]
  },
  {
   "cell_type": "code",
   "execution_count": 3,
   "metadata": {},
   "outputs": [],
   "source": [
    "# .add() 를 활용\n",
    "model = keras.Sequential()\n",
    "model.add(layers.Dense(64, activation=\"relu\"))\n",
    "model.add(layers.Dense(10, activation=\"softmax\"))"
   ]
  },
  {
   "cell_type": "markdown",
   "metadata": {},
   "source": [
    "- 모델 호출 전까지 가중치를 가지지 않음"
   ]
  },
  {
   "cell_type": "code",
   "execution_count": 4,
   "metadata": {},
   "outputs": [
    {
     "data": {
      "text/plain": [
       "[<tf.Variable 'dense_2/kernel:0' shape=(3, 64) dtype=float32, numpy=\n",
       " array([[ 0.16934848,  0.1456418 ,  0.28987455,  0.19900417, -0.15851872,\n",
       "         -0.1272348 ,  0.19887796,  0.09325594, -0.22591265, -0.28997836,\n",
       "          0.08429158, -0.13834794, -0.06382997, -0.00468275, -0.0063554 ,\n",
       "         -0.2208825 ,  0.2850721 , -0.17349704, -0.15436344, -0.22752416,\n",
       "          0.19500408,  0.0532127 ,  0.20717633, -0.29654446,  0.0091615 ,\n",
       "          0.04700211, -0.04436782,  0.03056672, -0.24949533,  0.25192422,\n",
       "          0.05917519, -0.13630205, -0.0157204 ,  0.01133224,  0.02117571,\n",
       "          0.12723473,  0.2536515 ,  0.27486813,  0.19622412,  0.12121749,\n",
       "         -0.08870819,  0.20112568,  0.2931564 , -0.0852609 , -0.25934684,\n",
       "          0.09092224, -0.04159975,  0.12806037,  0.08383438, -0.12212418,\n",
       "          0.28558362, -0.04339886,  0.21038425, -0.22575939, -0.06589085,\n",
       "          0.01595429,  0.0034216 , -0.11962266, -0.09518075,  0.28063077,\n",
       "          0.05021131,  0.05835092,  0.27435112, -0.20681344],\n",
       "        [ 0.2075023 ,  0.09868133, -0.14904335,  0.05362517, -0.05641413,\n",
       "          0.06227702,  0.22104067,  0.1174565 , -0.21909219,  0.2886358 ,\n",
       "         -0.06335416,  0.16163331,  0.11191842,  0.15093756,  0.23680025,\n",
       "          0.03782043,  0.07974631,  0.2720257 , -0.06218278, -0.24904634,\n",
       "         -0.22532146,  0.02009436, -0.05919118, -0.0651997 , -0.09693611,\n",
       "          0.03820148,  0.18842798,  0.07471538,  0.06140673,  0.08361691,\n",
       "          0.1015496 ,  0.10582387,  0.00545651, -0.18463588, -0.03332311,\n",
       "          0.28475428, -0.23941344, -0.19108182, -0.19728649, -0.07927299,\n",
       "         -0.2914882 , -0.24025898, -0.2854597 ,  0.0073221 ,  0.13236988,\n",
       "         -0.05321705, -0.29714635, -0.10154866,  0.03012395,  0.10923141,\n",
       "         -0.01849633, -0.13630156, -0.2111331 , -0.10853463,  0.23090756,\n",
       "         -0.28317645, -0.26129967, -0.00615001,  0.20666963,  0.13183257,\n",
       "          0.16548151, -0.14835128, -0.20731652,  0.2754733 ],\n",
       "        [ 0.07403365, -0.08372542,  0.1871027 ,  0.1937618 , -0.00982255,\n",
       "          0.17073068,  0.15681303,  0.13617727, -0.1436674 ,  0.28343135,\n",
       "         -0.09644932, -0.09596287, -0.13618055, -0.11964136,  0.01214746,\n",
       "          0.01864293,  0.14515164, -0.06379159, -0.07922626, -0.12561956,\n",
       "         -0.05440927, -0.19392323, -0.12877077, -0.07134336, -0.0877669 ,\n",
       "          0.05728886,  0.22682351, -0.24711446, -0.0484497 ,  0.25033545,\n",
       "         -0.03997684, -0.27995318,  0.2841801 ,  0.29913414,  0.10171133,\n",
       "         -0.15040088,  0.0833838 ,  0.06084993, -0.10906874, -0.28431   ,\n",
       "          0.09044129, -0.1692789 , -0.03626812,  0.2626239 , -0.00167874,\n",
       "         -0.2920318 , -0.21580014, -0.24939637,  0.16174996,  0.19338527,\n",
       "          0.03693813,  0.02950639, -0.29139873,  0.04984981,  0.0948253 ,\n",
       "          0.26274145,  0.0035359 ,  0.13491786,  0.27424306, -0.05676737,\n",
       "          0.20554554, -0.21756071,  0.2627173 , -0.05391654]],\n",
       "       dtype=float32)>,\n",
       " <tf.Variable 'dense_2/bias:0' shape=(64,) dtype=float32, numpy=\n",
       " array([0., 0., 0., 0., 0., 0., 0., 0., 0., 0., 0., 0., 0., 0., 0., 0., 0.,\n",
       "        0., 0., 0., 0., 0., 0., 0., 0., 0., 0., 0., 0., 0., 0., 0., 0., 0.,\n",
       "        0., 0., 0., 0., 0., 0., 0., 0., 0., 0., 0., 0., 0., 0., 0., 0., 0.,\n",
       "        0., 0., 0., 0., 0., 0., 0., 0., 0., 0., 0., 0., 0.], dtype=float32)>,\n",
       " <tf.Variable 'dense_3/kernel:0' shape=(64, 10) dtype=float32, numpy=\n",
       " array([[-0.13605683,  0.04257813, -0.10457659,  0.10032272, -0.04811963,\n",
       "          0.12100452, -0.2331538 ,  0.24372903,  0.06221429,  0.08956218],\n",
       "        [-0.02684668, -0.10592514, -0.27505556, -0.11838828,  0.20529613,\n",
       "         -0.11592662,  0.24725333,  0.21222576,  0.25217816, -0.1300775 ],\n",
       "        [-0.26120368, -0.17641157, -0.14272143,  0.20494962, -0.21339312,\n",
       "          0.15072256, -0.00785577, -0.01670322,  0.23664555,  0.13101858],\n",
       "        [ 0.2478371 ,  0.16109934,  0.13714969,  0.20399457, -0.18046781,\n",
       "         -0.08759007,  0.21322641, -0.18458726,  0.02362207, -0.07321979],\n",
       "        [ 0.22252652, -0.28425846,  0.09066573, -0.23004326, -0.10021235,\n",
       "         -0.23860407,  0.05280906, -0.12051858, -0.10310245,  0.02812374],\n",
       "        [-0.25790426, -0.06597167,  0.269909  , -0.11459152,  0.04605106,\n",
       "          0.13071075, -0.10687728,  0.268553  , -0.22162291, -0.20503633],\n",
       "        [ 0.15059948, -0.19300658,  0.04984504, -0.12998258,  0.00750202,\n",
       "          0.26116124,  0.0784027 ,  0.2306163 , -0.18719956,  0.25367257],\n",
       "        [ 0.0243884 , -0.08015017,  0.27413836,  0.20505723,  0.20189422,\n",
       "          0.03096828,  0.08189633,  0.11646295, -0.07625408, -0.15154211],\n",
       "        [ 0.16430783, -0.00980216, -0.0419198 ,  0.03027275, -0.02168867,\n",
       "         -0.01968986, -0.07573622,  0.08249399,  0.11124751, -0.16560452],\n",
       "        [ 0.20708019, -0.02228215,  0.19267061, -0.12905046,  0.00461856,\n",
       "         -0.11986242,  0.08584219, -0.09914771, -0.20236075,  0.03384563],\n",
       "        [-0.16093518, -0.19325635,  0.07813725, -0.07128012,  0.2486904 ,\n",
       "         -0.00497803, -0.10081534, -0.07135473,  0.00060761, -0.14765777],\n",
       "        [ 0.24213317, -0.03492174,  0.08166763,  0.04545587, -0.06485897,\n",
       "         -0.24474823,  0.15813836,  0.03481194,  0.03302702, -0.0901704 ],\n",
       "        [ 0.05846816, -0.0057373 ,  0.23891482,  0.20492798, -0.11457625,\n",
       "          0.09606805, -0.18619806, -0.0514739 , -0.1410802 , -0.20312709],\n",
       "        [ 0.26685694,  0.00415549,  0.22051522, -0.28390297, -0.00746372,\n",
       "         -0.19252512, -0.2405235 , -0.22191721, -0.19683152, -0.23924068],\n",
       "        [-0.01291147, -0.03827138,  0.09817737,  0.18325594,  0.02708462,\n",
       "          0.19352806,  0.07511905, -0.02954057,  0.22419158, -0.0045248 ],\n",
       "        [ 0.20504984,  0.16399935,  0.17769286, -0.05507901,  0.09487218,\n",
       "          0.26507434,  0.16690567, -0.06459692, -0.05043295, -0.22921678],\n",
       "        [-0.0854851 ,  0.1113784 , -0.25499916,  0.24066558, -0.22599483,\n",
       "         -0.10165364, -0.11432953, -0.2712444 , -0.0544987 , -0.2626765 ],\n",
       "        [-0.26211405, -0.15025711, -0.10471815, -0.1515113 , -0.21841733,\n",
       "          0.00048915,  0.03898278,  0.03111416,  0.05314785, -0.26082945],\n",
       "        [ 0.09167942,  0.22349778, -0.14311714, -0.00536549, -0.08414368,\n",
       "          0.10355303,  0.1892887 ,  0.06010959, -0.11303163,  0.00774172],\n",
       "        [ 0.01409009,  0.22368261, -0.21011457, -0.0501356 ,  0.18791571,\n",
       "         -0.06656183,  0.20782208, -0.20620382,  0.06730258,  0.14996323],\n",
       "        [ 0.19872054,  0.2507098 , -0.11874478, -0.09915796,  0.08165467,\n",
       "         -0.063572  , -0.19777843,  0.23431328, -0.12082686,  0.26918057],\n",
       "        [ 0.19831944, -0.09006158,  0.11694056, -0.22853993,  0.17108208,\n",
       "          0.21976957,  0.1334911 , -0.03097948,  0.1173563 ,  0.24368474],\n",
       "        [ 0.2699969 , -0.12787272,  0.00932795,  0.26657483,  0.1247412 ,\n",
       "         -0.1203534 , -0.18142003, -0.01238236,  0.23018351, -0.00796032],\n",
       "        [-0.06436597, -0.15236683,  0.14215189,  0.14262494, -0.14238341,\n",
       "         -0.03753445,  0.26034465,  0.28060678,  0.14551994,  0.17362094],\n",
       "        [-0.0727392 ,  0.05229908, -0.0321801 ,  0.23129728, -0.08597547,\n",
       "          0.02190882, -0.0698639 ,  0.08693549,  0.26657662,  0.04972142],\n",
       "        [-0.09534219, -0.19649608, -0.15821792, -0.10789303, -0.12130859,\n",
       "         -0.01410702, -0.0403832 ,  0.05719805, -0.16663575, -0.12250325],\n",
       "        [ 0.15925336, -0.04841815, -0.02353206,  0.27738342, -0.18899515,\n",
       "          0.0751209 , -0.13445613, -0.1981574 ,  0.13682702,  0.25143245],\n",
       "        [-0.14527188,  0.24222013, -0.01770946, -0.10700376, -0.27326816,\n",
       "          0.04944435, -0.02892616, -0.18770105, -0.01639602,  0.00534382],\n",
       "        [ 0.07186568,  0.03095129, -0.08164407, -0.2276049 ,  0.08603412,\n",
       "         -0.01344183,  0.07032084, -0.06867896, -0.22010192, -0.18331984],\n",
       "        [ 0.203944  , -0.06460677, -0.01446438,  0.22115168, -0.04056433,\n",
       "         -0.12814286,  0.2681006 , -0.18516804, -0.19889846,  0.12066591],\n",
       "        [-0.09550132,  0.27445444,  0.10296056, -0.05103426,  0.18990758,\n",
       "          0.14900124,  0.25668237,  0.2214779 , -0.22191578,  0.06247723],\n",
       "        [ 0.13265428,  0.18588087, -0.14339454, -0.21313304, -0.20416158,\n",
       "          0.06735295,  0.1831074 , -0.05325939, -0.01461414, -0.25678143],\n",
       "        [ 0.24563703,  0.08734921, -0.08825491,  0.26600793, -0.08386554,\n",
       "          0.24041   ,  0.2621263 ,  0.2114883 ,  0.07534981,  0.14670494],\n",
       "        [ 0.13316196,  0.27098724,  0.15496501, -0.0830563 , -0.01825157,\n",
       "          0.26114962,  0.02544841, -0.1359055 ,  0.12602192, -0.24815273],\n",
       "        [-0.00826651, -0.27197734,  0.0216057 , -0.16301367,  0.22175631,\n",
       "         -0.20361236, -0.14549951,  0.2634106 , -0.20916426, -0.13458444],\n",
       "        [ 0.15715009, -0.03076109, -0.03669804,  0.26600263,  0.13964266,\n",
       "          0.22781965, -0.21529368, -0.22180396,  0.15135866, -0.05675608],\n",
       "        [-0.2595133 ,  0.16954648,  0.21699694,  0.15891433,  0.23459652,\n",
       "          0.00771233, -0.04340827, -0.2197018 , -0.0250484 , -0.21249083],\n",
       "        [ 0.05862418, -0.00419778,  0.12971151,  0.17749116,  0.06984115,\n",
       "          0.12175396, -0.10352214,  0.08223084, -0.20565093,  0.1432946 ],\n",
       "        [ 0.2602137 , -0.26239246, -0.12949996, -0.03232735, -0.2337335 ,\n",
       "          0.04350027, -0.20736282,  0.03896093, -0.19504535, -0.21018538],\n",
       "        [-0.03207397, -0.05441403,  0.14782152, -0.2311278 , -0.16697955,\n",
       "         -0.12820864, -0.02767241, -0.00921324, -0.13442783, -0.12991633],\n",
       "        [-0.02536106,  0.2285817 , -0.11747354,  0.03737164,  0.2599317 ,\n",
       "          0.26163146, -0.20352015, -0.08625951,  0.17386234,  0.02811632],\n",
       "        [-0.24379928,  0.01708823, -0.03949413, -0.05148327,  0.10732704,\n",
       "          0.15155989, -0.09001677,  0.2124767 ,  0.24694493,  0.173091  ],\n",
       "        [ 0.05554432, -0.2557272 , -0.09992728, -0.12703851, -0.21738982,\n",
       "         -0.15992233, -0.11182755,  0.15982613, -0.09589413,  0.20123413],\n",
       "        [ 0.05000627, -0.201786  , -0.21218573,  0.21853057,  0.26331672,\n",
       "         -0.221287  , -0.03520857,  0.25998673,  0.07254428,  0.27475485],\n",
       "        [-0.01297477, -0.18392615, -0.2053315 , -0.10898958, -0.05003743,\n",
       "         -0.03314045, -0.05285572,  0.14708933,  0.15093437, -0.09357619],\n",
       "        [-0.13681433,  0.15159112, -0.23977578,  0.2648085 , -0.18414456,\n",
       "         -0.06793307,  0.2508243 , -0.01348364,  0.17291468, -0.13699417],\n",
       "        [ 0.04194465,  0.04405898, -0.15518212, -0.13209617, -0.21016717,\n",
       "          0.24331054, -0.14413698,  0.2836351 , -0.13363081,  0.17553213],\n",
       "        [-0.03501962,  0.00974691,  0.2680265 ,  0.20404574, -0.22339632,\n",
       "         -0.13039677, -0.00914705,  0.26827356, -0.17479277,  0.08265474],\n",
       "        [ 0.25359216,  0.14875561, -0.1484334 ,  0.2607585 ,  0.2638037 ,\n",
       "          0.07803184, -0.03329885,  0.2624335 , -0.09954798,  0.21476653],\n",
       "        [-0.20522091, -0.24392088,  0.11507517,  0.1269466 ,  0.17744675,\n",
       "          0.04206821,  0.0631341 , -0.11857049, -0.03375193, -0.03632621],\n",
       "        [-0.24717548,  0.16857338,  0.21312627, -0.18076809,  0.25746456,\n",
       "          0.02025762, -0.24436732, -0.20457903,  0.02691728, -0.15601864],\n",
       "        [ 0.19390726,  0.16735315,  0.13869262,  0.08401611, -0.12881747,\n",
       "         -0.06637575,  0.22097239, -0.20180236,  0.19429803,  0.21902809],\n",
       "        [ 0.14644495, -0.27660954, -0.22530352,  0.20034215, -0.17120612,\n",
       "         -0.0555778 , -0.03480944,  0.25005952, -0.17608821, -0.06270792],\n",
       "        [ 0.2806876 ,  0.03269225, -0.21235368, -0.20511732,  0.10311067,\n",
       "          0.09577212, -0.27107167,  0.11309546, -0.24279201,  0.16842762],\n",
       "        [-0.11034513,  0.06609517,  0.16455096,  0.14294586,  0.02020991,\n",
       "          0.03665495,  0.21070099, -0.2087637 , -0.22668546,  0.20331168],\n",
       "        [-0.1325323 , -0.19370258, -0.05725561, -0.16221312,  0.20538288,\n",
       "          0.01648679, -0.03318506, -0.09451686,  0.08345956, -0.1096697 ],\n",
       "        [-0.16985852, -0.19734484,  0.1898995 ,  0.11845773, -0.03377509,\n",
       "          0.25204435,  0.09931105, -0.0902334 ,  0.21706381,  0.15762591],\n",
       "        [-0.2079804 , -0.21767285,  0.26413205, -0.2783813 ,  0.06733945,\n",
       "          0.13414547,  0.10269484,  0.03444767, -0.14637603,  0.0135895 ],\n",
       "        [-0.15858452,  0.13052991, -0.14702953,  0.19330883, -0.23531274,\n",
       "         -0.18178132, -0.02807409, -0.01228413,  0.02684429, -0.19138193],\n",
       "        [ 0.17074072,  0.1940979 , -0.1468044 ,  0.01939327, -0.18089354,\n",
       "          0.06514063,  0.199447  , -0.20689757, -0.25783664,  0.0787558 ],\n",
       "        [-0.04457182, -0.16011141,  0.01185274,  0.1594683 , -0.08317009,\n",
       "         -0.06886491, -0.12957756,  0.24487433,  0.28226545,  0.22212324],\n",
       "        [ 0.251685  , -0.08532515, -0.17148826, -0.01060706,  0.2834948 ,\n",
       "          0.21639737, -0.1794207 ,  0.10104445, -0.18155459,  0.24838397],\n",
       "        [ 0.00727996,  0.25665042, -0.12932718, -0.14238049, -0.08207957,\n",
       "          0.00458544,  0.15484491, -0.0519574 ,  0.12500903, -0.20169958],\n",
       "        [ 0.00601822, -0.05619124,  0.15394783, -0.03475676,  0.16517201,\n",
       "         -0.06273004, -0.15687351, -0.21590774,  0.1438697 ,  0.23045364]],\n",
       "       dtype=float32)>,\n",
       " <tf.Variable 'dense_3/bias:0' shape=(10,) dtype=float32, numpy=array([0., 0., 0., 0., 0., 0., 0., 0., 0., 0.], dtype=float32)>]"
      ]
     },
     "execution_count": 4,
     "metadata": {},
     "output_type": "execute_result"
    }
   ],
   "source": [
    "# 모델 호출 후 가중치 확인\n",
    "model.build(input_shape=(None, 3))\n",
    "model.weights"
   ]
  },
  {
   "cell_type": "code",
   "execution_count": 5,
   "metadata": {},
   "outputs": [
    {
     "name": "stdout",
     "output_type": "stream",
     "text": [
      "Model: \"sequential_1\"\n",
      "_________________________________________________________________\n",
      " Layer (type)                Output Shape              Param #   \n",
      "=================================================================\n",
      " dense_2 (Dense)             (None, 64)                256       \n",
      "                                                                 \n",
      " dense_3 (Dense)             (None, 10)                650       \n",
      "                                                                 \n",
      "=================================================================\n",
      "Total params: 906 (3.54 KB)\n",
      "Trainable params: 906 (3.54 KB)\n",
      "Non-trainable params: 0 (0.00 Byte)\n",
      "_________________________________________________________________\n"
     ]
    }
   ],
   "source": [
    "model.summary()"
   ]
  },
  {
   "cell_type": "markdown",
   "metadata": {},
   "source": [
    "- `name` keyword argument 사용을 통한 이름 지정"
   ]
  },
  {
   "cell_type": "code",
   "execution_count": 6,
   "metadata": {},
   "outputs": [
    {
     "name": "stdout",
     "output_type": "stream",
     "text": [
      "Model: \"my_example_model\"\n",
      "_________________________________________________________________\n",
      " Layer (type)                Output Shape              Param #   \n",
      "=================================================================\n",
      " my_first_layer (Dense)      (None, 64)                256       \n",
      "                                                                 \n",
      " my_last_layer (Dense)       (None, 10)                650       \n",
      "                                                                 \n",
      "=================================================================\n",
      "Total params: 906 (3.54 KB)\n",
      "Trainable params: 906 (3.54 KB)\n",
      "Non-trainable params: 0 (0.00 Byte)\n",
      "_________________________________________________________________\n"
     ]
    }
   ],
   "source": [
    "model = keras.Sequential(name=\"my_example_model\")\n",
    "model.add(layers.Dense(64, activation=\"relu\", name=\"my_first_layer\"))\n",
    "model.add(layers.Dense(10, activation=\"softmax\", name=\"my_last_layer\"))\n",
    "model.build((None, 3))\n",
    "model.summary()"
   ]
  },
  {
   "cell_type": "markdown",
   "metadata": {},
   "source": [
    "- Model input size를 미리 지정"
   ]
  },
  {
   "cell_type": "code",
   "execution_count": 7,
   "metadata": {},
   "outputs": [
    {
     "name": "stdout",
     "output_type": "stream",
     "text": [
      "Model: \"sequential_2\"\n",
      "_________________________________________________________________\n",
      " Layer (type)                Output Shape              Param #   \n",
      "=================================================================\n",
      " dense_4 (Dense)             (None, 64)                256       \n",
      "                                                                 \n",
      "=================================================================\n",
      "Total params: 256 (1.00 KB)\n",
      "Trainable params: 256 (1.00 KB)\n",
      "Non-trainable params: 0 (0.00 Byte)\n",
      "_________________________________________________________________\n"
     ]
    }
   ],
   "source": [
    "model = keras.Sequential()\n",
    "model.add(keras.Input(shape=(3,))) # 헤당 부분을 통해 지정할 수 있다.\n",
    "model.add(layers.Dense(64, activation=\"relu\"))\n",
    "model.summary()"
   ]
  },
  {
   "cell_type": "code",
   "execution_count": 8,
   "metadata": {},
   "outputs": [
    {
     "name": "stdout",
     "output_type": "stream",
     "text": [
      "Model: \"sequential_2\"\n",
      "_________________________________________________________________\n",
      " Layer (type)                Output Shape              Param #   \n",
      "=================================================================\n",
      " dense_4 (Dense)             (None, 64)                256       \n",
      "                                                                 \n",
      " dense_5 (Dense)             (None, 10)                650       \n",
      "                                                                 \n",
      "=================================================================\n",
      "Total params: 906 (3.54 KB)\n",
      "Trainable params: 906 (3.54 KB)\n",
      "Non-trainable params: 0 (0.00 Byte)\n",
      "_________________________________________________________________\n"
     ]
    }
   ],
   "source": [
    "# 위 모델에 10 Unit을 가지는 레이어 추가\n",
    "model.add(layers.Dense(10, activation=\"softmax\"))\n",
    "model.summary()"
   ]
  },
  {
   "cell_type": "markdown",
   "metadata": {},
   "source": [
    "### Functional API model (P249)"
   ]
  },
  {
   "cell_type": "markdown",
   "metadata": {},
   "source": [
    "- 두 개의 Dense층을 갖는 functional API Model"
   ]
  },
  {
   "cell_type": "code",
   "execution_count": 9,
   "metadata": {},
   "outputs": [],
   "source": [
    "inputs = keras.Input(shape=(3,), name=\"my_input\")\n",
    "features = layers.Dense(64, activation=\"relu\")(inputs)\n",
    "outputs = layers.Dense(10, activation=\"softmax\")(features)\n",
    "model = keras.Model(inputs=inputs, outputs=outputs) # keyword arguments로 in, out을 지정해줘야 한다. "
   ]
  },
  {
   "cell_type": "code",
   "execution_count": 10,
   "metadata": {},
   "outputs": [
    {
     "data": {
      "text/plain": [
       "TensorShape([None, 3])"
      ]
     },
     "execution_count": 10,
     "metadata": {},
     "output_type": "execute_result"
    }
   ],
   "source": [
    "# 입력 인스턴스 모양 확인\n",
    "inputs = keras.Input(shape=(3,), name=\"my_input\")\n",
    "inputs.shape"
   ]
  },
  {
   "cell_type": "code",
   "execution_count": 11,
   "metadata": {},
   "outputs": [
    {
     "data": {
      "text/plain": [
       "tf.float32"
      ]
     },
     "execution_count": 11,
     "metadata": {},
     "output_type": "execute_result"
    }
   ],
   "source": [
    "inputs.dtype # 형태를 확인"
   ]
  },
  {
   "cell_type": "code",
   "execution_count": 12,
   "metadata": {},
   "outputs": [],
   "source": [
    "# 첫 번째 층 정보 확인\n",
    "features = layers.Dense(64, activation=\"relu\")(inputs)"
   ]
  },
  {
   "cell_type": "code",
   "execution_count": 13,
   "metadata": {},
   "outputs": [
    {
     "data": {
      "text/plain": [
       "TensorShape([None, 64])"
      ]
     },
     "execution_count": 13,
     "metadata": {},
     "output_type": "execute_result"
    }
   ],
   "source": [
    "features.shape"
   ]
  },
  {
   "cell_type": "code",
   "execution_count": 14,
   "metadata": {},
   "outputs": [
    {
     "name": "stdout",
     "output_type": "stream",
     "text": [
      "Model: \"model_1\"\n",
      "_________________________________________________________________\n",
      " Layer (type)                Output Shape              Param #   \n",
      "=================================================================\n",
      " my_input (InputLayer)       [(None, 3)]               0         \n",
      "                                                                 \n",
      " dense_8 (Dense)             (None, 64)                256       \n",
      "                                                                 \n",
      " dense_9 (Dense)             (None, 10)                650       \n",
      "                                                                 \n",
      "=================================================================\n",
      "Total params: 906 (3.54 KB)\n",
      "Trainable params: 906 (3.54 KB)\n",
      "Non-trainable params: 0 (0.00 Byte)\n",
      "_________________________________________________________________\n"
     ]
    }
   ],
   "source": [
    "outputs = layers.Dense(10, activation=\"softmax\")(features)\n",
    "model = keras.Model(inputs=inputs, outputs=outputs)\n",
    "model.summary() # 함수형 API를 통해 쌓은 모델의 요약 정보 확인 "
   ]
  },
  {
   "cell_type": "markdown",
   "metadata": {},
   "source": [
    "#### 다중 입력/다중 출력 모델"
   ]
  },
  {
   "cell_type": "markdown",
   "metadata": {},
   "source": [
    "##### Define Model"
   ]
  },
  {
   "cell_type": "code",
   "execution_count": 15,
   "metadata": {},
   "outputs": [],
   "source": [
    "# Const settings\n",
    "vocabulary_size = 10000\n",
    "num_tags = 100\n",
    "num_departments = 4\n",
    "\n",
    "# Multiple Inputs \n",
    "title = keras.Input(shape=(vocabulary_size, ), name=\"title\")\n",
    "text_body = keras.Input(shape=(vocabulary_size, ), name=\"text_body\")\n",
    "tags = keras.Input(shape=(num_tags, ), name=\"tags\")\n",
    "\n",
    "features = layers.Concatenate()([title, text_body, tags])\n",
    "features = layers.Dense(64, activation=\"relu\")(features)\n",
    "\n",
    "# Multiple Outputs \n",
    "priority = layers.Dense(1, activation=\"sigmoid\", name=\"priority\")(features)\n",
    "department = layers.Dense(\n",
    "    num_departments, activation=\"softmax\", \n",
    "    name=\"department\")(features)\n",
    "\n",
    "# Insert multiple In/out using list\n",
    "model =  keras.Model(inputs=[title, text_body, tags],\n",
    "                     outputs=[priority, department])"
   ]
  },
  {
   "cell_type": "markdown",
   "metadata": {},
   "source": [
    "##### Training Model"
   ]
  },
  {
   "cell_type": "code",
   "execution_count": 16,
   "metadata": {},
   "outputs": [
    {
     "name": "stdout",
     "output_type": "stream",
     "text": [
      "38/38 [==============================] - 0s 4ms/step - loss: 42.8455 - priority_loss: 0.3140 - department_loss: 42.5315 - priority_mean_absolute_error: 0.4777 - department_accuracy: 0.3642\n",
      "38/38 [==============================] - 0s 1ms/step - loss: 25.8340 - priority_loss: 0.3404 - department_loss: 25.4936 - priority_mean_absolute_error: 0.5057 - department_accuracy: 0.1350\n",
      "38/38 [==============================] - 0s 1ms/step\n"
     ]
    }
   ],
   "source": [
    "import numpy as np\n",
    "\n",
    "num_samples = 1200\n",
    "\n",
    "# 학습을 위한 무작위 데이터 생성\n",
    "title_data = np.random.randint(0, 2, size=(num_samples, vocabulary_size))\n",
    "text_body_data = np.random.randint(0, 2, size=(num_samples, vocabulary_size))\n",
    "tags_data = np.random.randint(0, 2, size=(num_samples, num_tags))\n",
    "\n",
    "# output 데이터 무작위 생성\n",
    "priority_data = np.random.random(size=(num_samples, 1))\n",
    "department_data = np.random.randint(0, 2, size=(num_samples, num_departments))\n",
    "\n",
    "# 모델 셋팅\n",
    "model.compile(optimizer=\"rmsprop\",\n",
    "              loss=[\"mean_squared_error\", \"categorical_crossentropy\"],\n",
    "              metrics=[[\"mean_absolute_error\"], [\"accuracy\"]])\n",
    "# 모델 훈련\n",
    "model.fit([title_data, text_body_data, tags_data],\n",
    "          [priority_data, department_data],\n",
    "          epochs=1)\n",
    "\n",
    "# 모델 평가코드\n",
    "model.evaluate([title_data, text_body_data, tags_data],\n",
    "          [priority_data, department_data])\n",
    "\n",
    "# 모델 예측 코드\n",
    "priority_preds, department_preds = model.predict([title_data, text_body_data, tags_data],)\n"
   ]
  },
  {
   "cell_type": "markdown",
   "metadata": {},
   "source": [
    "###### 입/출력을 딕셔너리로 전달하여 훈련"
   ]
  },
  {
   "cell_type": "code",
   "execution_count": 17,
   "metadata": {},
   "outputs": [
    {
     "name": "stdout",
     "output_type": "stream",
     "text": [
      "38/38 [==============================] - 0s 4ms/step - loss: 27.1009 - priority_loss: 0.3404 - department_loss: 26.7605 - priority_mean_absolute_error: 0.5057 - department_accuracy: 0.2750\n",
      "38/38 [==============================] - 0s 1ms/step - loss: 14.3504 - priority_loss: 0.3404 - department_loss: 14.0099 - priority_mean_absolute_error: 0.5057 - department_accuracy: 0.6017\n",
      "38/38 [==============================] - 0s 2ms/step\n"
     ]
    }
   ],
   "source": [
    "model.compile(optimizer=\"rmsprop\",\n",
    "              loss={\"priority\": \"mean_squared_error\", \"department\": \"categorical_crossentropy\"},\n",
    "              metrics={\"priority\": [\"mean_absolute_error\"], \"department\": [\"accuracy\"]})\n",
    "model.fit({\"title\": title_data, \"text_body\": text_body_data, \"tags\": tags_data},\n",
    "          {\"priority\": priority_data, \"department\": department_data},\n",
    "          epochs=1)\n",
    "model.evaluate({\"title\": title_data, \"text_body\": text_body_data, \"tags\": tags_data},\n",
    "               {\"priority\": priority_data, \"department\": department_data})\n",
    "priority_preds, department_preds = model.predict(\n",
    "    {\"title\": title_data, \"text_body\": text_body_data, \"tags\": tags_data})"
   ]
  },
  {
   "cell_type": "markdown",
   "metadata": {},
   "source": [
    "> 데이터의 구조가 복잡할 때 유용하다."
   ]
  },
  {
   "cell_type": "markdown",
   "metadata": {},
   "source": [
    "##### 장점 : 층 연결 구조를 활용하여 시각화 가능"
   ]
  },
  {
   "cell_type": "code",
   "execution_count": 18,
   "metadata": {},
   "outputs": [
    {
     "data": {
      "image/png": "[encoded data removed]",
      "text/plain": [
       "<IPython.core.display.Image object>"
      ]
     },
     "execution_count": 18,
     "metadata": {},
     "output_type": "execute_result"
    }
   ],
   "source": [
    "# !pip install pydot graphviz\n",
    "keras.utils.plot_model(model, \"ticket_classifier.png\")"
   ]
  },
  {
   "cell_type": "code",
   "execution_count": 19,
   "metadata": {},
   "outputs": [
    {
     "data": {
      "image/png": "[encoded data removed]",
      "text/plain": [
       "<IPython.core.display.Image object>"
      ]
     },
     "execution_count": 19,
     "metadata": {},
     "output_type": "execute_result"
    }
   ],
   "source": [
    "keras.utils.plot_model(model, \"ticket_classifier_with_shape_info.png\", show_shapes=True)"
   ]
  },
  {
   "cell_type": "code",
   "execution_count": 20,
   "metadata": {},
   "outputs": [
    {
     "data": {
      "text/plain": [
       "[<keras.src.engine.input_layer.InputLayer at 0x35e76b130>,\n",
       " <keras.src.engine.input_layer.InputLayer at 0x35e76b190>,\n",
       " <keras.src.engine.input_layer.InputLayer at 0x35e76b490>,\n",
       " <keras.src.layers.merging.concatenate.Concatenate at 0x35e732af0>,\n",
       " <keras.src.layers.core.dense.Dense at 0x35e76bc40>,\n",
       " <keras.src.layers.core.dense.Dense at 0x35e76bd90>,\n",
       " <keras.src.layers.core.dense.Dense at 0x35e7427f0>]"
      ]
     },
     "execution_count": 20,
     "metadata": {},
     "output_type": "execute_result"
    }
   ],
   "source": [
    "# 레이어 정보\n",
    "model.layers "
   ]
  },
  {
   "cell_type": "code",
   "execution_count": 25,
   "metadata": {},
   "outputs": [
    {
     "data": {
      "text/plain": [
       "[<KerasTensor: shape=(None, 10000) dtype=float32 (created by layer 'title')>,\n",
       " <KerasTensor: shape=(None, 10000) dtype=float32 (created by layer 'text_body')>,\n",
       " <KerasTensor: shape=(None, 100) dtype=float32 (created by layer 'tags')>]"
      ]
     },
     "metadata": {},
     "output_type": "display_data"
    },
    {
     "data": {
      "text/plain": [
       "'---'"
      ]
     },
     "metadata": {},
     "output_type": "display_data"
    },
    {
     "data": {
      "text/plain": [
       "<KerasTensor: shape=(None, 20100) dtype=float32 (created by layer 'concatenate')>"
      ]
     },
     "metadata": {},
     "output_type": "display_data"
    }
   ],
   "source": [
    "# 개별적인 레이어 입출력 정보 확인\n",
    "display(model.layers[3].input, \"---\", model.layers[3].output )"
   ]
  },
  {
   "cell_type": "code",
   "execution_count": 26,
   "metadata": {},
   "outputs": [],
   "source": [
    "# 중간층의 출력을 재사용\n",
    "features = model.layers[4].output\n",
    "\n",
    "difficulty = layers.Dense(3, activation=\"softmax\", name=\"difficulty\")(features)\n",
    "\n",
    "new_model = keras.Model(\n",
    "    inputs=[title, text_body, tags],\n",
    "    outputs=[priority, department, difficulty])\n"
   ]
  },
  {
   "cell_type": "code",
   "execution_count": 27,
   "metadata": {},
   "outputs": [
    {
     "data": {
      "image/png": "[encoded data removed]",
      "text/plain": [
       "<IPython.core.display.Image object>"
      ]
     },
     "execution_count": 27,
     "metadata": {},
     "output_type": "execute_result"
    }
   ],
   "source": [
    "keras.utils.plot_model(new_model, \"stacked_ticket_classifier.png\", show_shapes=True)"
   ]
  },
  {
   "cell_type": "markdown",
   "metadata": {},
   "source": [
    "### Subclassing model (P256)"
   ]
  },
  {
   "cell_type": "markdown",
   "metadata": {},
   "source": [
    "- 이전 예제를 다시 서브 클래싱으로 구현하기"
   ]
  },
  {
   "cell_type": "code",
   "execution_count": 34,
   "metadata": {},
   "outputs": [],
   "source": [
    "class CustomerTicketModel(keras.Model):\n",
    "    # layer 정의\n",
    "    def __init__(self, num_departments):\n",
    "        super().__init__()\n",
    "        self.concat_layer = layers.Concatenate()\n",
    "        self.mixing_layer = layers.Dense(64, activation=\"relu\")\n",
    "        self.priority_scorer = layers.Dense(1, activation=\"sigmoid\")\n",
    "        self.department_classifier = layers.Dense(\n",
    "            num_departments, activation=\"softmax\")\n",
    "\n",
    "    \n",
    "    # forward pass 정의 - 인스턴스 생성 시 실행, 이 때 가중치가 생성됨\n",
    "    def call(self, inputs):\n",
    "        title = inputs[\"title\"]\n",
    "        text_body = inputs[\"text_body\"]\n",
    "        tags = inputs[\"tags\"]\n",
    "\n",
    "        features = self.concat_layer([title, text_body, tags])\n",
    "        features = self.mixing_layer(features)\n",
    "        priority = self.priority_scorer(features)\n",
    "        department = self.department_classifier(features)\n",
    "        return priority, department"
   ]
  },
  {
   "cell_type": "code",
   "execution_count": 35,
   "metadata": {},
   "outputs": [],
   "source": [
    "model = CustomerTicketModel(num_departments=4)\n",
    "\n",
    "priority, department = model(\n",
    "    {\"title\": title_data, \"text_body\": text_body_data, \"tags\": tags_data})"
   ]
  },
  {
   "cell_type": "code",
   "execution_count": 36,
   "metadata": {},
   "outputs": [
    {
     "name": "stdout",
     "output_type": "stream",
     "text": [
      "38/38 [==============================] - 0s 5ms/step - loss: 24.4582 - output_1_loss: 0.3353 - output_2_loss: 24.1229 - output_1_mean_absolute_error: 0.5010 - output_2_accuracy: 0.2683\n",
      "38/38 [==============================] - 0s 2ms/step - loss: 12.9813 - output_1_loss: 0.3404 - output_2_loss: 12.6409 - output_1_mean_absolute_error: 0.5057 - output_2_accuracy: 0.2333\n",
      "38/38 [==============================] - 0s 2ms/step\n"
     ]
    }
   ],
   "source": [
    "model.compile(optimizer=\"rmsprop\",\n",
    "              loss=[\"mean_squared_error\", \"categorical_crossentropy\"],\n",
    "              metrics=[[\"mean_absolute_error\"], [\"accuracy\"]])\n",
    "model.fit({\"title\": title_data,\n",
    "           \"text_body\": text_body_data,\n",
    "           \"tags\": tags_data},\n",
    "          [priority_data, department_data],\n",
    "          epochs=1)\n",
    "model.evaluate({\"title\": title_data,\n",
    "                \"text_body\": text_body_data,\n",
    "                \"tags\": tags_data},\n",
    "               [priority_data, department_data])\n",
    "priority_preds, department_preds = model.predict({\"title\": title_data,\n",
    "                                                  \"text_body\": text_body_data,\n",
    "                                                  \"tags\": tags_data})"
   ]
  },
  {
   "cell_type": "markdown",
   "metadata": {},
   "source": [
    "### 혼합 모델 (P259)"
   ]
  },
  {
   "cell_type": "markdown",
   "metadata": {},
   "source": [
    "#### 서브클래싱 포함하는 Functional Model"
   ]
  },
  {
   "cell_type": "code",
   "execution_count": null,
   "metadata": {},
   "outputs": [],
   "source": [
    "# 분류모델의 마지막 layer\n",
    "class Classifier(keras.Model):\n",
    "    def __init__(self, num_classes=2):\n",
    "        super().__init__()\n",
    "        # 분기점을 만들어서, 마지막에 적절한 activation을 적용\n",
    "        if num_classes == 2:\n",
    "            num_units = 1\n",
    "            activation = \"sigmoid\"\n",
    "        else:\n",
    "            num_units = num_classes\n",
    "            activation = \"softmax\"\n",
    "        self.dense = layers.Dense(num_units, activation=activation)\n",
    "\n",
    "    def call(self, inputs):\n",
    "        return self.dense(inputs)\n",
    "\n",
    "inputs = keras.Input(shape=(3,))\n",
    "features = layers.Dense(64, activation=\"relu\")(inputs)\n",
    "outputs = Classifier(num_classes=10)(features)\n",
    "model = keras.Model(inputs=inputs, outputs=outputs)"
   ]
  },
  {
   "cell_type": "markdown",
   "metadata": {},
   "source": [
    "#### 함수형 모델을 포함하는 서브클래싱"
   ]
  },
  {
   "cell_type": "code",
   "execution_count": null,
   "metadata": {},
   "outputs": [],
   "source": [
    "# 함수형으로 이진분류기 정의\n",
    "inputs = keras.Input(shape=(64,))\n",
    "outputs = layers.Dense(1, activation=\"sigmoid\")(inputs)\n",
    "binary_classifier = keras.Model(inputs=inputs, outputs=outputs)\n",
    "\n",
    "\n",
    "class MyModel(keras.Model):\n",
    "\n",
    "    def __init__(self, num_classes=2):\n",
    "        super().__init__()\n",
    "        self.dense = layers.Dense(64, activation=\"relu\")\n",
    "        \n",
    "        # 정의 된 이진분류기를 subclassing의 속성값으로 불러옴\n",
    "        self.classifier = binary_classifier\n",
    "\n",
    "    def call(self, inputs):\n",
    "        features = self.dense(inputs)\n",
    "        return self.classifier(features)\n",
    "\n",
    "model = MyModel()"
   ]
  },
  {
   "cell_type": "markdown",
   "metadata": {},
   "source": [
    "### 내장된 훈련 루프와 평가 루프 사용하기"
   ]
  },
  {
   "cell_type": "markdown",
   "metadata": {},
   "source": [
    "**표준 워크플로: `compile()`, `fit()`, `evaluate()`, `predict()`**"
   ]
  },
  {
   "cell_type": "code",
   "execution_count": 41,
   "metadata": {},
   "outputs": [
    {
     "name": "stdout",
     "output_type": "stream",
     "text": [
      "Epoch 1/3\n",
      "1563/1563 [==============================] - 3s 2ms/step - loss: 0.2976 - accuracy: 0.9118 - val_loss: 0.1535 - val_accuracy: 0.9563\n",
      "Epoch 2/3\n",
      "1563/1563 [==============================] - 3s 2ms/step - loss: 0.1643 - accuracy: 0.9538 - val_loss: 0.1201 - val_accuracy: 0.9690\n",
      "Epoch 3/3\n",
      "1563/1563 [==============================] - 3s 2ms/step - loss: 0.1400 - accuracy: 0.9618 - val_loss: 0.1168 - val_accuracy: 0.9699\n",
      "313/313 [==============================] - 0s 623us/step - loss: 0.1119 - accuracy: 0.9711\n",
      "313/313 [==============================] - 0s 539us/step\n"
     ]
    }
   ],
   "source": [
    "from tensorflow.keras.datasets import mnist\n",
    "\n",
    "def get_mnist_model():\n",
    "    inputs = keras.Input(shape=(28 * 28,))\n",
    "    features = layers.Dense(512, activation=\"relu\")(inputs)\n",
    "    features = layers.Dropout(0.5)(features)\n",
    "    outputs = layers.Dense(10, activation=\"softmax\")(features)\n",
    "    model = keras.Model(inputs, outputs)\n",
    "    return model\n",
    "\n",
    "(images, labels), (test_images, test_labels) = mnist.load_data()\n",
    "images = images.reshape((60000, 28 * 28)).astype(\"float32\") / 255\n",
    "test_images = test_images.reshape((10000, 28 * 28)).astype(\"float32\") / 255\n",
    "train_images, val_images = images[10000:], images[:10000]\n",
    "train_labels, val_labels = labels[10000:], labels[:10000]\n",
    "\n",
    "model = get_mnist_model()\n",
    "model.compile(optimizer=\"rmsprop\",\n",
    "              loss=\"sparse_categorical_crossentropy\",\n",
    "              metrics=[\"accuracy\"])\n",
    "model.fit(train_images, train_labels,\n",
    "          epochs=3,\n",
    "          validation_data=(val_images, val_labels))\n",
    "test_metrics = model.evaluate(test_images, test_labels)\n",
    "predictions = model.predict(test_images)"
   ]
  },
  {
   "cell_type": "markdown",
   "metadata": {},
   "source": [
    "#### 사용자 정의 지표 만들기"
   ]
  },
  {
   "cell_type": "markdown",
   "metadata": {},
   "source": [
    "**`Metric` 클래스를 상속하여 사용자 정의 지표 구현하기**"
   ]
  },
  {
   "cell_type": "code",
   "execution_count": 42,
   "metadata": {},
   "outputs": [],
   "source": [
    "import tensorflow as tf\n",
    "\n",
    "class RootMeanSquaredError(keras.metrics.Metric): ## 상속해서 정의\n",
    "\n",
    "    def __init__(self, name=\"rmse\", **kwargs):\n",
    "        super().__init__(name=name, **kwargs)\n",
    "        self.mse_sum = self.add_weight(name=\"mse_sum\", initializer=\"zeros\")\n",
    "        self.total_samples = self.add_weight(\n",
    "            name=\"total_samples\", initializer=\"zeros\", dtype=\"int32\")\n",
    "\n",
    "    def update_state(self, y_true, y_pred, sample_weight=None):\n",
    "        y_true = tf.one_hot(y_true, depth=tf.shape(y_pred)[1])\n",
    "        mse = tf.reduce_sum(tf.square(y_true - y_pred))\n",
    "        self.mse_sum.assign_add(mse)\n",
    "        num_samples = tf.shape(y_pred)[0]\n",
    "        self.total_samples.assign_add(num_samples)\n",
    "\n",
    "    def result(self):\n",
    "        return tf.sqrt(self.mse_sum / tf.cast(self.total_samples, tf.float32))\n",
    "\n",
    "    def reset_state(self):\n",
    "        self.mse_sum.assign(0.)\n",
    "        self.total_samples.assign(0)"
   ]
  },
  {
   "cell_type": "code",
   "execution_count": 43,
   "metadata": {},
   "outputs": [
    {
     "name": "stdout",
     "output_type": "stream",
     "text": [
      "Epoch 1/3\n",
      "1563/1563 [==============================] - 4s 3ms/step - loss: 0.2935 - accuracy: 0.9126 - rmse: 7.1839 - val_loss: 0.1468 - val_accuracy: 0.9587 - val_rmse: 7.3628\n",
      "Epoch 2/3\n",
      "1563/1563 [==============================] - 4s 2ms/step - loss: 0.1657 - accuracy: 0.9542 - rmse: 7.3541 - val_loss: 0.1348 - val_accuracy: 0.9639 - val_rmse: 7.4038\n",
      "Epoch 3/3\n",
      "1563/1563 [==============================] - 4s 3ms/step - loss: 0.1370 - accuracy: 0.9635 - rmse: 7.3879 - val_loss: 0.1180 - val_accuracy: 0.9707 - val_rmse: 7.4246\n",
      "313/313 [==============================] - 0s 673us/step - loss: 0.1091 - accuracy: 0.9722 - rmse: 7.4399\n"
     ]
    }
   ],
   "source": [
    "model = get_mnist_model()\n",
    "model.compile(optimizer=\"rmsprop\",\n",
    "              loss=\"sparse_categorical_crossentropy\",\n",
    "              metrics=[\"accuracy\", RootMeanSquaredError()]) # 정의 한 것을 호출\n",
    "model.fit(train_images, train_labels,\n",
    "          epochs=3,\n",
    "          validation_data=(val_images, val_labels))\n",
    "test_metrics = model.evaluate(test_images, test_labels)"
   ]
  },
  {
   "cell_type": "markdown",
   "metadata": {},
   "source": [
    "#### 콜백 사용하기"
   ]
  },
  {
   "cell_type": "markdown",
   "metadata": {},
   "source": [
    "##### EarlyStopping 콜백과 ModelCheckpoint 콜백"
   ]
  },
  {
   "cell_type": "markdown",
   "metadata": {},
   "source": [
    "**`fit()` 메서드에서 `callbacks` 매개변수 사용하기**"
   ]
  },
  {
   "cell_type": "code",
   "execution_count": null,
   "metadata": {},
   "outputs": [],
   "source": [
    "# 콜백을 만들어서, fit()에 적용, 해결하지 못함\n",
    "# ValueError: The following argument(s) are not supported with the native Keras format: ['options'] 에러\n",
    "# 일과 후에 다시 해봐야 할 것 같음\n",
    "\n",
    "callbacks_list = [\n",
    "    keras.callbacks.EarlyStopping(\n",
    "        monitor=\"val_accuracy\",\n",
    "        patience=2,\n",
    "    ),\n",
    "    keras.callbacks.ModelCheckpoint(\n",
    "        filepath=\"checkpoint_path.keras\",\n",
    "        monitor=\"val_loss\",\n",
    "        save_best_only=True,\n",
    "    )\n",
    "]\n",
    "model = get_mnist_model()\n",
    "model.compile(optimizer=\"rmsprop\",\n",
    "              loss=\"sparse_categorical_crossentropy\",\n",
    "              metrics=[\"accuracy\"])\n",
    "model.fit(train_images, train_labels,\n",
    "          epochs=10,\n",
    "          callbacks=callbacks_list,\n",
    "          validation_data=(val_images, val_labels))"
   ]
  },
  {
   "cell_type": "code",
   "execution_count": null,
   "metadata": {},
   "outputs": [],
   "source": [
    "model = keras.models.load_model(\"checkpoint_path.keras\")"
   ]
  },
  {
   "cell_type": "markdown",
   "metadata": {},
   "source": [
    "### 사용자 정의 콜백 만들기"
   ]
  },
  {
   "cell_type": "markdown",
   "metadata": {},
   "source": [
    "**`Callback` 클래스를 상속하여 사용자 정의 콜백 만들기**"
   ]
  },
  {
   "cell_type": "code",
   "execution_count": null,
   "metadata": {},
   "outputs": [],
   "source": [
    "from matplotlib import pyplot as plt\n",
    "\n",
    "class LossHistory(keras.callbacks.Callback):\n",
    "    def on_train_begin(self, logs):\n",
    "        self.per_batch_losses = []\n",
    "\n",
    "    def on_batch_end(self, batch, logs):\n",
    "        self.per_batch_losses.append(logs.get(\"loss\"))\n",
    "\n",
    "    def on_epoch_end(self, epoch, logs):\n",
    "        plt.clf()\n",
    "        plt.plot(range(len(self.per_batch_losses)), self.per_batch_losses,\n",
    "                 label=\"Training loss for each batch\")\n",
    "        plt.xlabel(f\"Batch (epoch {epoch})\")\n",
    "        plt.ylabel(\"Loss\")\n",
    "        plt.legend()\n",
    "        plt.savefig(f\"plot_at_epoch_{epoch}\")\n",
    "        self.per_batch_losses = []"
   ]
  },
  {
   "cell_type": "code",
   "execution_count": null,
   "metadata": {},
   "outputs": [
    {
     "name": "stdout",
     "output_type": "stream",
     "text": [
      "Epoch 1/10\n",
      "1563/1563 [==============================] - 7s 4ms/step - loss: 0.2908 - accuracy: 0.9130 - val_loss: 0.1572 - val_accuracy: 0.9542\n",
      "Epoch 2/10\n",
      "1563/1563 [==============================] - 6s 4ms/step - loss: 0.1645 - accuracy: 0.9536 - val_loss: 0.1270 - val_accuracy: 0.9666\n",
      "Epoch 3/10\n",
      "1563/1563 [==============================] - 6s 4ms/step - loss: 0.1366 - accuracy: 0.9633 - val_loss: 0.1226 - val_accuracy: 0.9684\n",
      "Epoch 4/10\n",
      "1563/1563 [==============================] - 6s 4ms/step - loss: 0.1263 - accuracy: 0.9669 - val_loss: 0.1037 - val_accuracy: 0.9737\n",
      "Epoch 5/10\n",
      "1563/1563 [==============================] - 6s 4ms/step - loss: 0.1171 - accuracy: 0.9706 - val_loss: 0.1204 - val_accuracy: 0.9738\n",
      "Epoch 6/10\n",
      "1563/1563 [==============================] - 6s 4ms/step - loss: 0.1128 - accuracy: 0.9732 - val_loss: 0.1123 - val_accuracy: 0.9755\n",
      "Epoch 7/10\n",
      "1563/1563 [==============================] - 6s 4ms/step - loss: 0.1056 - accuracy: 0.9747 - val_loss: 0.1181 - val_accuracy: 0.9758\n",
      "Epoch 8/10\n",
      "1563/1563 [==============================] - 6s 4ms/step - loss: 0.1033 - accuracy: 0.9764 - val_loss: 0.1065 - val_accuracy: 0.9778\n",
      "Epoch 9/10\n",
      "1563/1563 [==============================] - 6s 4ms/step - loss: 0.0968 - accuracy: 0.9768 - val_loss: 0.1171 - val_accuracy: 0.9785\n",
      "Epoch 10/10\n",
      "1563/1563 [==============================] - 6s 4ms/step - loss: 0.0950 - accuracy: 0.9785 - val_loss: 0.1229 - val_accuracy: 0.9775\n"
     ]
    },
    {
     "data": {
      "text/plain": [
       "<keras.callbacks.History at 0x7f27f2440dd0>"
      ]
     },
     "metadata": {},
     "output_type": "display_data"
    },
    {
     "data": {
      "image/png": "[encoded data removed]",
      "text/plain": [
       "<Figure size 432x288 with 1 Axes>"
      ]
     },
     "metadata": {},
     "output_type": "display_data"
    }
   ],
   "source": [
    "model = get_mnist_model()\n",
    "model.compile(optimizer=\"rmsprop\",\n",
    "              loss=\"sparse_categorical_crossentropy\",\n",
    "              metrics=[\"accuracy\"])\n",
    "model.fit(train_images, train_labels,\n",
    "          epochs=10,\n",
    "          callbacks=[LossHistory()],\n",
    "          validation_data=(val_images, val_labels))"
   ]
  },
  {
   "cell_type": "markdown",
   "metadata": {},
   "source": [
    "### 텐서보드를 사용한 모니터링과 시각화"
   ]
  },
  {
   "cell_type": "code",
   "execution_count": null,
   "metadata": {},
   "outputs": [
    {
     "name": "stdout",
     "output_type": "stream",
     "text": [
      "Epoch 1/10\n",
      "1563/1563 [==============================] - 6s 4ms/step - loss: 0.2929 - accuracy: 0.9112 - val_loss: 0.1481 - val_accuracy: 0.9574\n",
      "Epoch 2/10\n",
      "1563/1563 [==============================] - 5s 3ms/step - loss: 0.1626 - accuracy: 0.9539 - val_loss: 0.1318 - val_accuracy: 0.9666\n",
      "Epoch 3/10\n",
      "1563/1563 [==============================] - 5s 3ms/step - loss: 0.1377 - accuracy: 0.9626 - val_loss: 0.1289 - val_accuracy: 0.9670\n",
      "Epoch 4/10\n",
      "1563/1563 [==============================] - 5s 3ms/step - loss: 0.1230 - accuracy: 0.9677 - val_loss: 0.1185 - val_accuracy: 0.9731\n",
      "Epoch 5/10\n",
      "1563/1563 [==============================] - 5s 3ms/step - loss: 0.1152 - accuracy: 0.9720 - val_loss: 0.1108 - val_accuracy: 0.9744\n",
      "Epoch 6/10\n",
      "1563/1563 [==============================] - 5s 3ms/step - loss: 0.1059 - accuracy: 0.9740 - val_loss: 0.1156 - val_accuracy: 0.9763\n",
      "Epoch 7/10\n",
      "1563/1563 [==============================] - 5s 3ms/step - loss: 0.1049 - accuracy: 0.9757 - val_loss: 0.1089 - val_accuracy: 0.9765\n",
      "Epoch 8/10\n",
      "1563/1563 [==============================] - 5s 3ms/step - loss: 0.0988 - accuracy: 0.9766 - val_loss: 0.1313 - val_accuracy: 0.9731\n",
      "Epoch 9/10\n",
      "1563/1563 [==============================] - 5s 3ms/step - loss: 0.0955 - accuracy: 0.9777 - val_loss: 0.1146 - val_accuracy: 0.9791\n",
      "Epoch 10/10\n",
      "1563/1563 [==============================] - 5s 3ms/step - loss: 0.0972 - accuracy: 0.9783 - val_loss: 0.1151 - val_accuracy: 0.9789\n"
     ]
    },
    {
     "data": {
      "text/plain": [
       "<keras.callbacks.History at 0x7f27dc00d210>"
      ]
     },
     "metadata": {},
     "output_type": "display_data"
    }
   ],
   "source": [
    "model = get_mnist_model()\n",
    "model.compile(optimizer=\"rmsprop\",\n",
    "              loss=\"sparse_categorical_crossentropy\",\n",
    "              metrics=[\"accuracy\"])\n",
    "\n",
    "tensorboard = keras.callbacks.TensorBoard(\n",
    "    log_dir=\"./tb_logs\",\n",
    ")\n",
    "model.fit(train_images, train_labels,\n",
    "          epochs=10,\n",
    "          validation_data=(val_images, val_labels),\n",
    "          callbacks=[tensorboard])"
   ]
  },
  {
   "cell_type": "markdown",
   "metadata": {},
   "source": [
    "### 사용자 정의 훈련, 평가 루프 만들기"
   ]
  },
  {
   "cell_type": "markdown",
   "metadata": {},
   "source": [
    "#### 측정 지표의 저수준 사용법"
   ]
  },
  {
   "cell_type": "code",
   "execution_count": 45,
   "metadata": {},
   "outputs": [
    {
     "name": "stdout",
     "output_type": "stream",
     "text": [
      "결과: 1.00\n"
     ]
    }
   ],
   "source": [
    "metric = keras.metrics.SparseCategoricalAccuracy() # 직접 metric을 불러옴\n",
    "targets = [0, 1, 2]\n",
    "predictions = [[1, 0, 0], [0, 1, 0], [0, 0, 1]]\n",
    "metric.update_state(targets, predictions)\n",
    "current_result = metric.result()\n",
    "print(f\"결과: {current_result:.2f}\")"
   ]
  },
  {
   "cell_type": "code",
   "execution_count": 46,
   "metadata": {},
   "outputs": [
    {
     "name": "stdout",
     "output_type": "stream",
     "text": [
      "평균 지표: 2.00\n"
     ]
    }
   ],
   "source": [
    "values = [0, 1, 2, 3, 4]\n",
    "mean_tracker = keras.metrics.Mean()\n",
    "for value in values:\n",
    "    mean_tracker.update_state(value)\n",
    "print(f\"평균 지표: {mean_tracker.result():.2f}\")"
   ]
  },
  {
   "cell_type": "markdown",
   "metadata": {},
   "source": [
    "#### 완전한 훈련과 평가 루프"
   ]
  },
  {
   "cell_type": "markdown",
   "metadata": {},
   "source": [
    "**단계별 훈련 루프 작성하기: 훈련 스텝 함수**"
   ]
  },
  {
   "cell_type": "code",
   "execution_count": 47,
   "metadata": {},
   "outputs": [
    {
     "name": "stderr",
     "output_type": "stream",
     "text": [
      "WARNING:absl:At this time, the v2.11+ optimizer `tf.keras.optimizers.RMSprop` runs slowly on M1/M2 Macs, please use the legacy Keras optimizer instead, located at `tf.keras.optimizers.legacy.RMSprop`.\n"
     ]
    }
   ],
   "source": [
    "model = get_mnist_model()\n",
    "\n",
    "loss_fn = keras.losses.SparseCategoricalCrossentropy()\n",
    "optimizer = keras.optimizers.RMSprop()\n",
    "metrics = [keras.metrics.SparseCategoricalAccuracy()]\n",
    "loss_tracking_metric = keras.metrics.Mean()\n",
    "\n",
    "def train_step(inputs, targets):\n",
    "    with tf.GradientTape() as tape:\n",
    "        predictions = model(inputs, training=True)\n",
    "        loss = loss_fn(targets, predictions)\n",
    "    gradients = tape.gradient(loss, model.trainable_weights)\n",
    "    optimizer.apply_gradients(zip(gradients, model.trainable_weights))\n",
    "\n",
    "    logs = {}\n",
    "    for metric in metrics:\n",
    "        metric.update_state(targets, predictions)\n",
    "        logs[metric.name] = metric.result()\n",
    "\n",
    "    loss_tracking_metric.update_state(loss)\n",
    "    logs[\"loss\"] = loss_tracking_metric.result()\n",
    "    return logs"
   ]
  },
  {
   "cell_type": "markdown",
   "metadata": {},
   "source": [
    "**단계별 훈련 루프 작성하기: 지표 재설정**"
   ]
  },
  {
   "cell_type": "code",
   "execution_count": null,
   "metadata": {},
   "outputs": [],
   "source": [
    "def reset_metrics():\n",
    "    for metric in metrics:\n",
    "        metric.reset_state()\n",
    "    loss_tracking_metric.reset_state()"
   ]
  },
  {
   "cell_type": "markdown",
   "metadata": {},
   "source": [
    "**단계별 훈련 루프 작성하기: 훈련 루프 자체**"
   ]
  },
  {
   "cell_type": "code",
   "execution_count": null,
   "metadata": {},
   "outputs": [
    {
     "name": "stdout",
     "output_type": "stream",
     "text": [
      "0번째 에포크 결과\n",
      "...sparse_categorical_accuracy: 0.9145\n",
      "...loss: 0.2892\n",
      "1번째 에포크 결과\n",
      "...sparse_categorical_accuracy: 0.9536\n",
      "...loss: 0.1660\n",
      "2번째 에포크 결과\n",
      "...sparse_categorical_accuracy: 0.9632\n",
      "...loss: 0.1395\n"
     ]
    }
   ],
   "source": [
    "training_dataset = tf.data.Dataset.from_tensor_slices((train_images, train_labels))\n",
    "training_dataset = training_dataset.batch(32)\n",
    "epochs = 3\n",
    "for epoch in range(epochs):\n",
    "    reset_metrics()\n",
    "    for inputs_batch, targets_batch in training_dataset:\n",
    "        logs = train_step(inputs_batch, targets_batch)\n",
    "    print(f\"{epoch}번째 에포크 결과\")\n",
    "    for key, value in logs.items():\n",
    "        print(f\"...{key}: {value:.4f}\")"
   ]
  },
  {
   "cell_type": "markdown",
   "metadata": {},
   "source": [
    "**단계별 평가 루프 작성하기**"
   ]
  },
  {
   "cell_type": "code",
   "execution_count": null,
   "metadata": {},
   "outputs": [
    {
     "name": "stdout",
     "output_type": "stream",
     "text": [
      "평가 결과:\n",
      "...val_sparse_categorical_accuracy: 0.9662\n",
      "...val_loss: 0.1357\n"
     ]
    }
   ],
   "source": [
    "def test_step(inputs, targets):\n",
    "    predictions = model(inputs, training=False)\n",
    "    loss = loss_fn(targets, predictions)\n",
    "\n",
    "    logs = {}\n",
    "    for metric in metrics:\n",
    "        metric.update_state(targets, predictions)\n",
    "        logs[\"val_\" + metric.name] = metric.result()\n",
    "\n",
    "    loss_tracking_metric.update_state(loss)\n",
    "    logs[\"val_loss\"] = loss_tracking_metric.result()\n",
    "    return logs\n",
    "\n",
    "val_dataset = tf.data.Dataset.from_tensor_slices((val_images, val_labels))\n",
    "val_dataset = val_dataset.batch(32)\n",
    "reset_metrics()\n",
    "for inputs_batch, targets_batch in val_dataset:\n",
    "    logs = test_step(inputs_batch, targets_batch)\n",
    "print(\"평가 결과:\")\n",
    "for key, value in logs.items():\n",
    "    print(f\"...{key}: {value:.4f}\")"
   ]
  },
  {
   "cell_type": "markdown",
   "metadata": {},
   "source": [
    "#### tf.function로 성능 높이기"
   ]
  },
  {
   "cell_type": "markdown",
   "metadata": {},
   "source": [
    "**평가 스텝 함수에 `@tf.function` 데코레이터 추가하기**"
   ]
  },
  {
   "cell_type": "code",
   "execution_count": null,
   "metadata": {},
   "outputs": [
    {
     "name": "stdout",
     "output_type": "stream",
     "text": [
      "평가 결과:\n",
      "...val_sparse_categorical_accuracy: 0.9662\n",
      "...val_loss: 0.1357\n"
     ]
    }
   ],
   "source": [
    "@tf.function\n",
    "def test_step(inputs, targets):\n",
    "    predictions = model(inputs, training=False)\n",
    "    loss = loss_fn(targets, predictions)\n",
    "\n",
    "    logs = {}\n",
    "    for metric in metrics:\n",
    "        metric.update_state(targets, predictions)\n",
    "        logs[\"val_\" + metric.name] = metric.result()\n",
    "\n",
    "    loss_tracking_metric.update_state(loss)\n",
    "    logs[\"val_loss\"] = loss_tracking_metric.result()\n",
    "    return logs\n",
    "\n",
    "val_dataset = tf.data.Dataset.from_tensor_slices((val_images, val_labels))\n",
    "val_dataset = val_dataset.batch(32)\n",
    "reset_metrics()\n",
    "for inputs_batch, targets_batch in val_dataset:\n",
    "    logs = test_step(inputs_batch, targets_batch)\n",
    "print(\"평가 결과:\")\n",
    "for key, value in logs.items():\n",
    "    print(f\"...{key}: {value:.4f}\")"
   ]
  },
  {
   "cell_type": "markdown",
   "metadata": {},
   "source": [
    "### fit() 메서드를 사용자 정의 훈련 루프로 활용하기"
   ]
  },
  {
   "cell_type": "markdown",
   "metadata": {},
   "source": [
    "**`fit()`이 사용할 사용자 정의 훈련 스텝 구현하기**"
   ]
  },
  {
   "cell_type": "code",
   "execution_count": null,
   "metadata": {},
   "outputs": [],
   "source": [
    "loss_fn = keras.losses.SparseCategoricalCrossentropy()\n",
    "loss_tracker = keras.metrics.Mean(name=\"loss\")\n",
    "\n",
    "class CustomModel(keras.Model):\n",
    "    def train_step(self, data):\n",
    "        inputs, targets = data\n",
    "        with tf.GradientTape() as tape:\n",
    "            predictions = self(inputs, training=True)\n",
    "            loss = loss_fn(targets, predictions)\n",
    "        gradients = tape.gradient(loss, self.trainable_weights)\n",
    "        self.optimizer.apply_gradients(zip(gradients, self.trainable_weights))\n",
    "\n",
    "        loss_tracker.update_state(loss)\n",
    "        return {\"loss\": loss_tracker.result()}\n",
    "\n",
    "    @property # 개별 엘리먼트들을 접근하게 해 주는 데코레이터 \n",
    "    def metrics(self):\n",
    "        return [loss_tracker]"
   ]
  },
  {
   "cell_type": "code",
   "execution_count": null,
   "metadata": {},
   "outputs": [
    {
     "name": "stdout",
     "output_type": "stream",
     "text": [
      "Epoch 1/3\n",
      "1563/1563 [==============================] - 4s 3ms/step - loss: 0.2911\n",
      "Epoch 2/3\n",
      "1563/1563 [==============================] - 4s 3ms/step - loss: 0.1665\n",
      "Epoch 3/3\n",
      "1563/1563 [==============================] - 4s 2ms/step - loss: 0.1376\n"
     ]
    },
    {
     "data": {
      "text/plain": [
       "<keras.callbacks.History at 0x7f27c61bd7d0>"
      ]
     },
     "metadata": {},
     "output_type": "display_data"
    }
   ],
   "source": [
    "inputs = keras.Input(shape=(28 * 28,))\n",
    "features = layers.Dense(512, activation=\"relu\")(inputs)\n",
    "features = layers.Dropout(0.5)(features)\n",
    "outputs = layers.Dense(10, activation=\"softmax\")(features)\n",
    "model = CustomModel(inputs, outputs)\n",
    "\n",
    "model.compile(optimizer=keras.optimizers.RMSprop())\n",
    "model.fit(train_images, train_labels, epochs=3)"
   ]
  },
  {
   "cell_type": "code",
   "execution_count": null,
   "metadata": {},
   "outputs": [],
   "source": [
    "class CustomModel(keras.Model):\n",
    "    def train_step(self, data):\n",
    "        inputs, targets = data\n",
    "        with tf.GradientTape() as tape:\n",
    "            predictions = self(inputs, training=True)\n",
    "            loss = self.compiled_loss(targets, predictions)\n",
    "        gradients = tape.gradient(loss, self.trainable_weights)\n",
    "        self.optimizer.apply_gradients(zip(gradients, self.trainable_weights))\n",
    "        self.compiled_metrics.update_state(targets, predictions)\n",
    "        return {m.name: m.result() for m in self.metrics}"
   ]
  },
  {
   "cell_type": "code",
   "execution_count": null,
   "metadata": {},
   "outputs": [
    {
     "name": "stdout",
     "output_type": "stream",
     "text": [
      "Epoch 1/3\n",
      "1563/1563 [==============================] - 5s 3ms/step - loss: 0.2910 - sparse_categorical_accuracy: 0.9138\n",
      "Epoch 2/3\n",
      "1563/1563 [==============================] - 5s 3ms/step - loss: 0.1656 - sparse_categorical_accuracy: 0.9525\n",
      "Epoch 3/3\n",
      "1563/1563 [==============================] - 5s 3ms/step - loss: 0.1393 - sparse_categorical_accuracy: 0.9624\n"
     ]
    },
    {
     "data": {
      "text/plain": [
       "<keras.callbacks.History at 0x7f27c603e050>"
      ]
     },
     "metadata": {},
     "output_type": "display_data"
    }
   ],
   "source": [
    "inputs = keras.Input(shape=(28 * 28,))\n",
    "features = layers.Dense(512, activation=\"relu\")(inputs)\n",
    "features = layers.Dropout(0.5)(features)\n",
    "outputs = layers.Dense(10, activation=\"softmax\")(features)\n",
    "model = CustomModel(inputs, outputs)\n",
    "\n",
    "model.compile(optimizer=keras.optimizers.RMSprop(),\n",
    "              loss=keras.losses.SparseCategoricalCrossentropy(),\n",
    "              metrics=[keras.metrics.SparseCategoricalAccuracy()])\n",
    "model.fit(train_images, train_labels, epochs=3)"
   ]
  },
  {
   "cell_type": "markdown",
   "metadata": {},
   "source": [
    "## 확인사항"
   ]
  },
  {
   "cell_type": "markdown",
   "metadata": {},
   "source": [
    "### 1. kerasAPI를 이해합니다.\n",
    "#### 모델을 구성합니다. \n",
    "이때 sequential, functional, subclassing 세 방법을 모두 사용합니다.\n",
    "- 7장을 읽어보고, kears의 세 가지 모델 구성 방식을 숙지합니다. 각 API별 차이를 이해합니다.\n",
    "- 각각의 api를 사용한 예제를 찾아보고, 어떤 경우에 사용할 수 있는지 이해합니다.\n"
   ]
  },
  {
   "cell_type": "markdown",
   "metadata": {},
   "source": [
    "#### Sequential과 functional의 차이를 설명할 수 있습니다.\n",
    "##### (미션)sequential로는 구현이 불가능한 상황을 찾아봅니다.\n",
    "<span style=\"background-color:#C0FFFF; color:green\">- (답을 여기) : for / 재귀로 Layer가 쌓일 경우 (반복문)</span>\n"
   ]
  },
  {
   "cell_type": "markdown",
   "metadata": {},
   "source": [
    "#### Functional과 Sub classing의 차이를 설명할 수 있습니다.\n",
    "##### (미션)Functional로 구현하는 것 보다 sub classing으로 구현하는 것이 유리한 사례를 찾아봅니다.\n",
    "<span style=\"background-color:#C0FFFF; color:green\">- (답을 여기) : low-level단까지 모든 조건들을 Customize하고 싶을 때 유용하다.</span>\n"
   ]
  },
  {
   "cell_type": "markdown",
   "metadata": {},
   "source": [
    "\n",
    "### 2. 모델학습 후 평가하는 여러가지 방법을 이해합니다.\n",
    "- [Evaluating Machine Learning Models - Made With ML](https://madewithml.com/courses/mlops/evaluation/)"
   ]
  },
  {
   "cell_type": "markdown",
   "metadata": {},
   "source": [
    "\n",
    "- 모델의 성능을 평가하기 위한 방법은 어떤 것들이 있는지 확인합니다. 또 이때 고민해야 할 여러 관점을 살펴봅니다.\n"
   ]
  },
  {
   "cell_type": "markdown",
   "metadata": {},
   "source": [
    "\n",
    "- 모델을 학습하고  다른 모델과 성능을 비교할 때 어떤 관점에서 비교해야 하는지 확인합니다.\n"
   ]
  },
  {
   "cell_type": "markdown",
   "metadata": {},
   "source": [
    "---"
   ]
  },
  {
   "cell_type": "markdown",
   "metadata": {},
   "source": [
    "# 조별 특별 미션 - 1조"
   ]
  },
  {
   "cell_type": "markdown",
   "metadata": {},
   "source": [
    "진행 내용을 정리하지 못했습니다."
   ]
  },
  {
   "cell_type": "markdown",
   "metadata": {},
   "source": [
    "## 사용자 정의 지표를 사용하는 모델 (수행 산출물)"
   ]
  },
  {
   "cell_type": "code",
   "execution_count": 30,
   "metadata": {},
   "outputs": [],
   "source": [
    "# 진행 내용을 정리하지 못했습니다."
   ]
  },
  {
   "cell_type": "markdown",
   "metadata": {},
   "source": [
    "## 사용자 정의 콜백을 사용하는 모델 (수행 산출물)"
   ]
  },
  {
   "cell_type": "code",
   "execution_count": 31,
   "metadata": {},
   "outputs": [],
   "source": [
    "# 진행 내용을 정리하지 못했습니다.\n"
   ]
  },
  {
   "cell_type": "markdown",
   "metadata": {},
   "source": [
    "---"
   ]
  },
  {
   "cell_type": "markdown",
   "metadata": {},
   "source": [
    "# Playground - 1조\n"
   ]
  },
  {
   "cell_type": "markdown",
   "metadata": {},
   "source": [
    "## Checklist, 체크해야 할 항목"
   ]
  },
  {
   "cell_type": "markdown",
   "metadata": {},
   "source": [
    "\n",
    "- 1. 어떤 기준으로 모델을 학습할 것인지 선택합니다.\n",
    "- (Baseline - 기준이 될 **조건** 정의/명세)\n",
    "    - 다같이 정하기\n",
    "    - 재현님 링크 참고해서 베이스라인 잡으면 됨\n",
    "\n",
    "- 2. features에서 두 그룹을 확실히 나눌 수 있는 조합과, 나누지 못하는 조합을 찾아봅니다.\n",
    "    - 한명이 실험 (2^6) = 64-1 = 63개의 경우의 수\n",
    "    리스트업 하고나서 결과 비교 후 \"확실히 나눌 수 있는 조합과, 나누지 못하는 조합\"\n",
    "\n",
    "- 3. 하이퍼 파라미터를 수정해보고 다음을 살펴봅니다.\n",
    "    - 3-1. 레이어\n",
    "    - 3-2. LR\n",
    "    - 3-3. Activation"
   ]
  },
  {
   "cell_type": "markdown",
   "metadata": {},
   "source": [
    "\n",
    "- 레이어:\n",
    "    - 레이어가 깊어질수록 어떤 특징이 있는지 살펴봅니다.\n",
    "    - 레이어가 넓어질수록 어떤 특징이 있는지 살펴봅니다.\n",
    "    - 왜 레이어를 변경할때마다 패턴이 다르게 시작하는지 생각해봅니다\n"
   ]
  },
  {
   "cell_type": "markdown",
   "metadata": {},
   "source": [
    "\n",
    "- learning rate\n",
    "    - learning rate가 높아질 때 어떤 특징이 있는지 살펴봅니다.\n",
    "    - learning rate가 낮아질 때 어떤 특징이 있는지 살펴봅니다.\n"
   ]
  },
  {
   "cell_type": "markdown",
   "metadata": {},
   "source": [
    "\n",
    "- activation function\n",
    "    - activation function이 달라질 때 어떤 특징이 있는지 살펴봅니다.\n",
    "    - 특히 tanh, sigmoid는 함수의 모양이 비슷한데 수렴속도가 다른 이유를 설명해봅시다."
   ]
  },
  {
   "cell_type": "markdown",
   "metadata": {},
   "source": [
    "각 조는 위의 체크 항목에 따라, 다음의 8개의 실험 중 하나를 수행하게 됩니다.<br>\n",
    "    - 실험은 비교실험입니다<br>\n",
    "    - **각 실험의 과정과 결과에 대한 설명을 5분 내외로 준비해주세요**\n",
    "- [A Neural Network Playground (tensorflow.org)](https://playground.tensorflow.org/#activation=tanh&batchSize=10&dataset=circle&regDataset=reg-plane&learningRate=0.03&regularizationRate=0&noise=0&networkShape=3,2&seed=0.80809&showTestData=false&discretize=false&percTrainData=50&x=true&y=true&xTimesY=false&xSquared=false&ySquared=false&cosX=false&sinX=false&cosY=false&sinY=false&collectStats=false&problem=classification&initZero=false&hideText=false)\n",
    "    - 최적의 조합을 찾아보세요! 여러 조합을 확인하여, 달라지는 부분을 분석해봅시다.\n",
    "        - (2조) Classification - data type 1\n",
    "        - (4조) Classification - data type 4\n",
    "        - (1조) <span style=\"background-color:#C0FFFF; color:green\"> Regression - data type 2 </span>\n",
    "- [Deep Learning Playground](https://datasciencegt-dlp.com/img-models)\n",
    "    - 기준 모델과, 비교 포인트를 가진 모델들을 제작하여 차이를 확인해봅시다.\n",
    "        - (5조) **Tabular Data : Optimizer / batch size**\n",
    "        - (담당조) Image Data : Activation / Dropout rate\n",
    "        - (담당조) Image Data : Layer 의 너비가 달라지는 경우\n",
    "        - (7조) Image Data : Layer의 구성이 달라지는 경우 1\n",
    "            - 레이어 모듈에 변화가 있는 경우\n",
    "            - Conv - Maxpool // Conv - Conv - Maxpool\n",
    "        - (담당조) Image Data :Layer의 구성이 달라지는 경우 2\n",
    "            - 레이어 깊이에 변화가 있는 경우\n",
    "            - Conv-maxpool을 한번 반복하는 경우 // Conv-maxpool을 여러 번 반복하는 경우"
   ]
  },
  {
   "cell_type": "markdown",
   "metadata": {},
   "source": [
    "\n",
    "## Regression - data type 2 모의 실험 내용 정리"
   ]
  },
  {
   "cell_type": "markdown",
   "metadata": {},
   "source": [
    "https://playground.tensorflow.org/#activation=tanh&batchSize=10&dataset=xor&regDataset=reg-gauss&learningRate=0.03&regularizationRate=0&noise=0&networkShape=3,2&seed=0.90177&showTestData=false&discretize=false&percTrainData=70&x=false&y=false&xTimesY=false&xSquared=false&ySquared=false&cosX=false&sinX=false&cosY=false&sinY=false&collectStats=false&problem=regression&initZero=false&hideText=false"
   ]
  },
  {
   "cell_type": "markdown",
   "metadata": {},
   "source": [
    "- 산출물 : https://www.notion.so/modulabs/0528_Playground-65020511c73a44faac7a9d21b1acedb0?pvs=4"
   ]
  },
  {
   "cell_type": "markdown",
   "metadata": {},
   "source": [
    "## 조별 발표 기록내용"
   ]
  },
  {
   "cell_type": "markdown",
   "metadata": {},
   "source": [
    "- 이얼 그룹 : 엑셀로 실험관리를 진행한 내용을 공유하면서 좋은 인사이트를 공유해줬었음.\n",
    "- 민욱님 그룹 : 자료의 취합이 되지않아, 민욱님이 하신 부분에 대해서만 공유가 되었음.\n",
    "- 하나의 수식으로 모든 것을 표현할 수 있다는 레퍼런스를 소개해주심\n",
    "- 나경님 그룹 : Activation 변경해가면서 진행 \n",
    "- 성연님 그룹 : 세션의 한계로, Playground를 대체해서 진행함\n",
    "    layer 너비 증가에 따라, 빠른 수렴이 된다.\n",
    "    conv filter 변경하고나서 layer 너비 증가해도 같은 경향성을 확인\n",
    "\n",
    "- 경규님 그룹 : conv, max-pool 변경에 따라 경향성 확인, MNIST를 사용"
   ]
  },
  {
   "cell_type": "markdown",
   "metadata": {},
   "source": [
    "---"
   ]
  },
  {
   "cell_type": "markdown",
   "metadata": {},
   "source": [
    "# 오늘의 회고"
   ]
  },
  {
   "cell_type": "markdown",
   "metadata": {},
   "source": [
    "- 진행하는데에 시간이 촉박하다는 것을 느꼈어서, 나름대로 계획적으로 진행했었지만, 오늘도 여전히 시간이 부족하였음.\n",
    "- 인공신경망의 여러 변인들에 대해서 조건 변경 시 영향성에 대해, 실험과 여러 조 대표들의 발표를 통해 확인할 수 있었다."
   ]
  }
 ],
 "metadata": {
  "kernelspec": {
   "display_name": "py38",
   "language": "python",
   "name": "python3"
  },
  "language_info": {
   "codemirror_mode": {
    "name": "ipython",
    "version": 3
   },
   "file_extension": ".py",
   "mimetype": "text/x-python",
   "name": "python",
   "nbconvert_exporter": "python",
   "pygments_lexer": "ipython3",
   "version": "3.8.17"
  }
 },
 "nbformat": 4,
 "nbformat_minor": 2
}

{
 "cells": [
  {
   "cell_type": "markdown",
   "id": "96d18291",
   "metadata": {},
   "source": [
    "# 1. 선형회귀 - 당뇨병 수치 맞추기"
   ]
  },
  {
   "cell_type": "markdown",
   "id": "6ae3eb7f",
   "metadata": {},
   "source": [
    "첫 번째 프로젝트에서는 우리가 오늘 많은 시간을 들여서 직접 실습해 보았던 모델 설계, 손실함수 정의와 기울기 계산을 구현해 보겠습니다.\n",
    "새로운 데이터로 프로젝트를 진행하지만, 과정은 모두 동일합니다. 함께 진행했던 과정과 코드를 참고하여 충분히 고민한 후 진행해 보세요.\n",
    "\n",
    "데이터는 sklearn.datasets에 있는 데이터 중 하나인 당뇨병 데이터를 사용하겠습니다.\n",
    "데이터에 관한 정보를 다음 글에서 살펴보세요. 데이터에 대한 이해는 언제나 첫 번째로 해야하는 필수 과정입니다!\n",
    "\n",
    "    회귀 (3) - 당뇨병 환자 데이터(diabetes)와 다중 선형 회귀\n",
    "\n",
    "다음 과정을 차례대로 진행해주세요!"
   ]
  },
  {
   "cell_type": "markdown",
   "id": "9f1d2ddc",
   "metadata": {},
   "source": [
    "(1) 데이터 가져오기\n",
    "\n",
    "    sklearn.datasets의 load_diabetes에서 데이터를 가져와주세요.\n",
    "    diabetes의 data를 df_X에, target을 df_y에 저장해주세요."
   ]
  },
  {
   "cell_type": "code",
   "execution_count": 157,
   "id": "0c0bc9d5",
   "metadata": {},
   "outputs": [],
   "source": [
    "from sklearn.datasets import load_diabetes"
   ]
  },
  {
   "cell_type": "code",
   "execution_count": 158,
   "id": "01f8a21f",
   "metadata": {},
   "outputs": [
    {
     "data": {
      "text/plain": [
       "(442, 10)"
      ]
     },
     "metadata": {},
     "output_type": "display_data"
    },
    {
     "data": {
      "text/plain": [
       "(442,)"
      ]
     },
     "metadata": {},
     "output_type": "display_data"
    }
   ],
   "source": [
    "df_X = load_diabetes().data\n",
    "df_y = load_diabetes().target\n",
    "display(df_X.shape, df_y.shape)"
   ]
  },
  {
   "cell_type": "markdown",
   "id": "4031f813",
   "metadata": {},
   "source": [
    "(442개의 데이터, 10개의 피쳐를 가지고 있음."
   ]
  },
  {
   "cell_type": "code",
   "execution_count": 159,
   "id": "34862509",
   "metadata": {},
   "outputs": [
    {
     "data": {
      "text/plain": [
       "['age', 'sex', 'bmi', 'bp', 's1', 's2', 's3', 's4', 's5', 's6']"
      ]
     },
     "execution_count": 159,
     "metadata": {},
     "output_type": "execute_result"
    }
   ],
   "source": [
    "load_diabetes().feature_names"
   ]
  },
  {
   "cell_type": "markdown",
   "id": "00b94f4b",
   "metadata": {},
   "source": [
    "(2) 모델에 입력할 데이터 X 준비하기\n",
    "\n",
    "    df_X에 있는 값들을 numpy array로 변환해서 저장해주세요."
   ]
  },
  {
   "cell_type": "code",
   "execution_count": 160,
   "id": "f571c98c",
   "metadata": {},
   "outputs": [
    {
     "data": {
      "text/plain": [
       "numpy.ndarray"
      ]
     },
     "execution_count": 160,
     "metadata": {},
     "output_type": "execute_result"
    }
   ],
   "source": [
    "type(df_X) # 이미 numpy array형태로 되어 있다."
   ]
  },
  {
   "cell_type": "markdown",
   "id": "be3139d2",
   "metadata": {},
   "source": [
    "(3) 모델에 예측할 데이터 y 준비하기\n",
    "\n",
    "    df_y에 있는 값들을 numpy array로 변환해서 저장해주세요."
   ]
  },
  {
   "cell_type": "code",
   "execution_count": 161,
   "id": "23cb97bb",
   "metadata": {},
   "outputs": [
    {
     "data": {
      "text/plain": [
       "numpy.ndarray"
      ]
     },
     "execution_count": 161,
     "metadata": {},
     "output_type": "execute_result"
    }
   ],
   "source": [
    "type(df_y) # 이미 numpy array형태로 되어 있다."
   ]
  },
  {
   "cell_type": "markdown",
   "id": "c6abd447",
   "metadata": {},
   "source": [
    "(4) train 데이터와 test 데이터로 분리하기\n",
    "\n",
    "    X와 y 데이터를 각각 train 데이터와 test 데이터로 분리해주세요."
   ]
  },
  {
   "cell_type": "code",
   "execution_count": 162,
   "id": "4f7f4a43",
   "metadata": {},
   "outputs": [],
   "source": [
    "from sklearn.model_selection import train_test_split\n",
    "\n",
    "train_X, test_X, train_y, test_y = train_test_split(df_X, df_y, random_state=42) # 다른 요구사항이 없어서 적용하지 않음"
   ]
  },
  {
   "cell_type": "code",
   "execution_count": 163,
   "id": "a2470164",
   "metadata": {},
   "outputs": [
    {
     "data": {
      "text/plain": [
       "(331, 10)"
      ]
     },
     "metadata": {},
     "output_type": "display_data"
    },
    {
     "data": {
      "text/plain": [
       "(111, 10)"
      ]
     },
     "metadata": {},
     "output_type": "display_data"
    },
    {
     "data": {
      "text/plain": [
       "(331,)"
      ]
     },
     "metadata": {},
     "output_type": "display_data"
    },
    {
     "data": {
      "text/plain": [
       "(111,)"
      ]
     },
     "metadata": {},
     "output_type": "display_data"
    }
   ],
   "source": [
    "display(train_X.shape, test_X.shape, train_y.shape, test_y.shape)"
   ]
  },
  {
   "cell_type": "markdown",
   "id": "b5f5f286",
   "metadata": {},
   "source": [
    "(5) 모델 준비하기\n",
    "\n",
    "    입력 데이터 개수에 맞는 가중치 W와 b를 준비해주세요.\n",
    "    모델 함수를 구현해주세요."
   ]
  },
  {
   "cell_type": "code",
   "execution_count": 201,
   "id": "310caa99",
   "metadata": {},
   "outputs": [],
   "source": [
    "# 가중치 정의 및 초기화\n",
    "import numpy as np\n",
    "\n",
    "# 10개의 피쳐를 가지고 있다. \n",
    "W = np.random.rand(10)\n",
    "b = np.random.rand()"
   ]
  },
  {
   "cell_type": "code",
   "execution_count": 202,
   "id": "8c9e1e25",
   "metadata": {},
   "outputs": [],
   "source": [
    "# 모델 함수 구현\n",
    "def model(X, W, b):\n",
    "    pred = 0\n",
    "    for i in range(10):\n",
    "        pred += X[:, i] * W[i]\n",
    "    pred += b\n",
    "    return pred"
   ]
  },
  {
   "cell_type": "markdown",
   "id": "6a20d8fc",
   "metadata": {},
   "source": [
    "(6) 손실함수 loss 정의하기\n",
    "\n",
    "    손실함수를 MSE 함수로 정의해주세요."
   ]
  },
  {
   "cell_type": "code",
   "execution_count": 203,
   "id": "a635fabb",
   "metadata": {},
   "outputs": [],
   "source": [
    "def MSE(a, b):\n",
    "    return ((a - b) ** 2).mean() # 제곱 차이의 평균값"
   ]
  },
  {
   "cell_type": "code",
   "execution_count": 204,
   "id": "b824e2e6",
   "metadata": {},
   "outputs": [],
   "source": [
    "def loss(X, W, b, y):\n",
    "    pred = model(X, W, b)\n",
    "    _loss = MSE(pred, y)\n",
    "    return _loss"
   ]
  },
  {
   "cell_type": "markdown",
   "id": "dbd01d83",
   "metadata": {},
   "source": [
    "(7) 기울기를 구하는 gradient 함수 구현하기\n",
    "\n",
    "    기울기를 계산하는 gradient 함수를 구현해주세요."
   ]
  },
  {
   "cell_type": "code",
   "execution_count": 205,
   "id": "14ffac27",
   "metadata": {},
   "outputs": [],
   "source": [
    "def gradient(X, W, b, y):\n",
    "    # N : num of datapoint\n",
    "    N = len(y)\n",
    "    \n",
    "    y_pred = model(X, W, b)\n",
    "    \n",
    "    # calculate gradient\n",
    "    dW = 1/N * 2 * X.T.dot(y_pred - y)\n",
    "    dB = 2 * (y_pred - y).mean()\n",
    "    \n",
    "    return dW, dB"
   ]
  },
  {
   "cell_type": "markdown",
   "id": "7e23e80a",
   "metadata": {},
   "source": [
    "(8) 하이퍼 파라미터인 학습률 설정하기\n",
    "\n",
    "    학습률, learning rate 를 설정해주세요\n",
    "    만약 학습이 잘 되지 않는다면 learning rate 값을 한번 여러 가지로 설정하며 실험해 보세요."
   ]
  },
  {
   "cell_type": "code",
   "execution_count": 206,
   "id": "9e03a497",
   "metadata": {},
   "outputs": [],
   "source": [
    "lr_list = [1, 5e-1, 1e-1, 1e-2, 1e-3, 1e-4] # Setting Learning Rates"
   ]
  },
  {
   "cell_type": "code",
   "execution_count": 207,
   "id": "708351d7",
   "metadata": {},
   "outputs": [],
   "source": [
    "from collections import defaultdict\n",
    "import matplotlib.pyplot as plt\n",
    "\n",
    "losses_dict = defaultdict(list)\n"
   ]
  },
  {
   "cell_type": "markdown",
   "id": "73efe4b1",
   "metadata": {},
   "source": [
    "(9) 모델 학습하기\n",
    "\n",
    "    정의된 손실함수와 기울기 함수로 모델을 학습해주세요.\n",
    "    loss값이 충분히 떨어질 때까지 학습을 진행해주세요.\n",
    "    입력하는 데이터인 X에 들어가는 특성 컬럼들을 몇 개 빼도 괜찮습니다. 다양한 데이터로 실험해 보세요."
   ]
  },
  {
   "cell_type": "code",
   "execution_count": 218,
   "id": "b78c4db6",
   "metadata": {},
   "outputs": [
    {
     "name": "stdout",
     "output_type": "stream",
     "text": [
      "--------------------------------\n",
      "learning_rate : 1, Training\n",
      "Iteration 100 : Loss 27328.7752\n",
      "Iteration 200 : Loss 27203.5032\n",
      "Iteration 300 : Loss 27313.3974\n",
      "Iteration 400 : Loss 27495.2225\n",
      "Iteration 500 : Loss 27705.5968\n",
      "Iteration 600 : Loss 27928.8588\n",
      "Iteration 700 : Loss 28158.9150\n",
      "Iteration 800 : Loss 28393.2671\n",
      "Iteration 900 : Loss 28630.8416\n",
      "Iteration 1000 : Loss 28871.1589\n"
     ]
    },
    {
     "data": {
      "image/png": "[encoded data removed]",
      "text/plain": [
       "<Figure size 432x288 with 1 Axes>"
      ]
     },
     "metadata": {
      "needs_background": "light"
     },
     "output_type": "display_data"
    },
    {
     "name": "stdout",
     "output_type": "stream",
     "text": [
      "Final Loss : 28871.15892692536\n",
      "--------------------------------\n",
      "learning_rate : 0.5, Training\n",
      "Iteration 100 : Loss 4041.7914\n",
      "Iteration 200 : Loss 3485.8898\n",
      "Iteration 300 : Loss 3257.2235\n",
      "Iteration 400 : Loss 3135.9312\n",
      "Iteration 500 : Loss 3064.1411\n",
      "Iteration 600 : Loss 3019.7234\n",
      "Iteration 700 : Loss 2991.5869\n",
      "Iteration 800 : Loss 2973.4442\n",
      "Iteration 900 : Loss 2961.5525\n",
      "Iteration 1000 : Loss 2953.6310\n"
     ]
    },
    {
     "data": {
      "image/png": "[encoded data removed]",
      "text/plain": [
       "<Figure size 432x288 with 1 Axes>"
      ]
     },
     "metadata": {
      "needs_background": "light"
     },
     "output_type": "display_data"
    },
    {
     "name": "stdout",
     "output_type": "stream",
     "text": [
      "Final Loss : 2953.6309802693895\n",
      "--------------------------------\n",
      "learning_rate : 0.1, Training\n",
      "Iteration 100 : Loss 5373.2129\n",
      "Iteration 200 : Loss 4889.6123\n",
      "Iteration 300 : Loss 4528.1739\n",
      "Iteration 400 : Loss 4254.4392\n",
      "Iteration 500 : Loss 4044.0838\n",
      "Iteration 600 : Loss 3879.8922\n",
      "Iteration 700 : Loss 3749.6405\n",
      "Iteration 800 : Loss 3644.6140\n",
      "Iteration 900 : Loss 3558.5687\n",
      "Iteration 1000 : Loss 3487.0037\n"
     ]
    },
    {
     "data": {
      "image/png": "[encoded data removed]",
      "text/plain": [
       "<Figure size 432x288 with 1 Axes>"
      ]
     },
     "metadata": {
      "needs_background": "light"
     },
     "output_type": "display_data"
    },
    {
     "name": "stdout",
     "output_type": "stream",
     "text": [
      "Final Loss : 3487.00369806887\n",
      "--------------------------------\n",
      "learning_rate : 0.01, Training\n",
      "Iteration 100 : Loss 6368.4254\n",
      "Iteration 200 : Loss 5887.6965\n",
      "Iteration 300 : Loss 5810.1389\n",
      "Iteration 400 : Loss 5741.7793\n",
      "Iteration 500 : Loss 5675.6183\n",
      "Iteration 600 : Loss 5611.4648\n",
      "Iteration 700 : Loss 5549.2493\n",
      "Iteration 800 : Loss 5488.9070\n",
      "Iteration 900 : Loss 5430.3753\n",
      "Iteration 1000 : Loss 5373.5939\n"
     ]
    },
    {
     "data": {
      "image/png": "[encoded data removed]",
      "text/plain": [
       "<Figure size 432x288 with 1 Axes>"
      ]
     },
     "metadata": {
      "needs_background": "light"
     },
     "output_type": "display_data"
    },
    {
     "name": "stdout",
     "output_type": "stream",
     "text": [
      "Final Loss : 5373.593895269364\n",
      "--------------------------------\n",
      "learning_rate : 0.001, Training\n",
      "Iteration 100 : Loss 21848.5022\n",
      "Iteration 200 : Loss 16618.3408\n",
      "Iteration 300 : Loss 13111.4208\n",
      "Iteration 400 : Loss 10759.1585\n",
      "Iteration 500 : Loss 9180.5769\n",
      "Iteration 600 : Loss 8120.4041\n",
      "Iteration 700 : Loss 7407.5962\n",
      "Iteration 800 : Loss 6927.5464\n",
      "Iteration 900 : Loss 6603.4624\n",
      "Iteration 1000 : Loss 6383.8903\n"
     ]
    },
    {
     "data": {
      "image/png": "[encoded data removed]",
      "text/plain": [
       "<Figure size 432x288 with 1 Axes>"
      ]
     },
     "metadata": {
      "needs_background": "light"
     },
     "output_type": "display_data"
    },
    {
     "name": "stdout",
     "output_type": "stream",
     "text": [
      "Final Loss : 6383.890301919804\n",
      "--------------------------------\n",
      "learning_rate : 0.0001, Training\n",
      "Iteration 100 : Loss 28723.3528\n",
      "Iteration 200 : Loss 27832.5533\n",
      "Iteration 300 : Loss 26976.6572\n",
      "Iteration 400 : Loss 26154.2957\n",
      "Iteration 500 : Loss 25364.1539\n",
      "Iteration 600 : Loss 24604.9681\n",
      "Iteration 700 : Loss 23875.5245\n",
      "Iteration 800 : Loss 23174.6567\n",
      "Iteration 900 : Loss 22501.2441\n",
      "Iteration 1000 : Loss 21854.2101\n"
     ]
    },
    {
     "data": {
      "image/png": "[encoded data removed]",
      "text/plain": [
       "<Figure size 432x288 with 1 Axes>"
      ]
     },
     "metadata": {
      "needs_background": "light"
     },
     "output_type": "display_data"
    },
    {
     "name": "stdout",
     "output_type": "stream",
     "text": [
      "Final Loss : 21854.21010237041\n"
     ]
    }
   ],
   "source": [
    "for lr in lr_list: \n",
    "    print(\"--------------------------------\")\n",
    "    print(f\"learning_rate : {lr}, Training\")\n",
    "    _W = np.copy(W)\n",
    "    _b = np.copy(b)\n",
    "    losses = []\n",
    "    \n",
    "    for i in range(1, 1001):\n",
    "        dW, dB = gradient(train_X, _W, _b, train_y)\n",
    "        _W -= lr * dW\n",
    "        _b -= lr * dB\n",
    "        L = loss(train_X, _W, _b, train_y)\n",
    "\n",
    "        # Record loss\n",
    "        losses.append(L)\n",
    "\n",
    "        # logging per 100 epochs\n",
    "        if i % 100 == 0:\n",
    "            print(\"Iteration %d : Loss %0.4f\" % (i,L))\n",
    "    \n",
    "    plt.plot(losses)\n",
    "    plt.show()\n",
    "    \n",
    "    losses_dict[lr] = {'W':_W, 'b':_b, 'Final_loss': L}\n",
    "    print(\"Final Loss :\", L)"
   ]
  },
  {
   "cell_type": "markdown",
   "id": "5a8ce7f1",
   "metadata": {},
   "source": [
    "lr = 0.5에서 MSE손실함수 값 2953을 달성할 수 있었음 <=3000  \n",
    "lr 0.1 ~ 0.001의 범위 내에서는 3000에 비교적 근접하는 값을 도출 할 수 있었지만,  \n",
    "루브릭의 조건에 따라 lr = 0.5 선택"
   ]
  },
  {
   "cell_type": "markdown",
   "id": "40935f56",
   "metadata": {},
   "source": [
    "(10) test 데이터에 대한 성능 확인하기\n",
    "\n",
    "    test 데이터에 대한 성능을 확인해주세요."
   ]
  },
  {
   "cell_type": "code",
   "execution_count": 227,
   "id": "80b0d44d",
   "metadata": {},
   "outputs": [],
   "source": [
    "# lr = 0.5에 대한 학습된 가중치를 불러옴\n",
    "\n",
    "sel_weights = losses_dict[0.5]\n",
    "W, b = sel_weights['W'], sel_weights['b']\n"
   ]
  },
  {
   "cell_type": "code",
   "execution_count": 228,
   "id": "4daa986b",
   "metadata": {},
   "outputs": [
    {
     "data": {
      "text/plain": [
       "(array([  53.72290081, -196.56436106,  502.54002016,  342.20265182,\n",
       "         -84.61979868, -116.21339297, -237.11271891,  148.6832392 ,\n",
       "         357.1578602 ,   95.27059236]),\n",
       " array(151.58711))"
      ]
     },
     "execution_count": 228,
     "metadata": {},
     "output_type": "execute_result"
    }
   ],
   "source": [
    "W, b"
   ]
  },
  {
   "cell_type": "code",
   "execution_count": 230,
   "id": "6baffa9b",
   "metadata": {},
   "outputs": [
    {
     "data": {
      "text/plain": [
       "2811.001610251728"
      ]
     },
     "execution_count": 230,
     "metadata": {},
     "output_type": "execute_result"
    }
   ],
   "source": [
    "y_pred = model(test_X, W, b)\n",
    "mse = loss(test_X, W, b, test_y)\n",
    "mse # validation mse 또한 3000 이하의 값을 확인할 수 있었다. "
   ]
  },
  {
   "cell_type": "markdown",
   "id": "dc1c7035",
   "metadata": {},
   "source": [
    "(11) 정답 데이터와 예측한 데이터 시각화하기\n",
    "\n",
    "    x축에는 X 데이터의 첫 번째 컬럼을, y축에는 정답인 target 데이터를 넣어서 모델이 예측한 데이터를 시각화해 주세요."
   ]
  },
  {
   "cell_type": "code",
   "execution_count": 234,
   "id": "ec56a41e",
   "metadata": {},
   "outputs": [
    {
     "data": {
      "image/png": "[encoded data removed]",
      "text/plain": [
       "<Figure size 432x288 with 1 Axes>"
      ]
     },
     "metadata": {
      "needs_background": "light"
     },
     "output_type": "display_data"
    }
   ],
   "source": [
    "plt.scatter(test_X[:,0], y_pred, cmap='r')\n",
    "plt.scatter(test_X[:,0], test_y, cmap='b')\n",
    "plt.show()"
   ]
  },
  {
   "cell_type": "markdown",
   "id": "d5a1af9b",
   "metadata": {},
   "source": [
    "# 2. 자전거 타는 사람 몇명 ?"
   ]
  },
  {
   "cell_type": "markdown",
   "id": "ef958306",
   "metadata": {},
   "source": [
    "자.. 드디어 오늘의 마지막 프로젝트입니다! 오늘 노드의 제목이기도 한 프로젝트네요 ㅎㅎ\n",
    "마지막 프로젝트로는 보다 실용적인 데이터셋을 활용할 예정입니다. 바로 그 유명한 캐글(Kaggle) 경진대회에서 제공하는 데이터셋인데요!\n",
    "\n",
    "데이터셋의 주제는 시간, 온도, 습도, 계절 등의 정보가 담긴 데이터를 통해 자전거의 대여량을 예측하는 문제입니다.\n",
    "자전거 대여량을 결정하는 데에는 시간도 중요할 것이고, 요일이나 계절도 크게 영향을 미칠 것 같습니다.\n",
    "\n",
    "이번 프로젝트에서는 직접 손실함수와 기울기를 계산하지 않고, 사이킷런(sklearn)의 LinearRegression 모델을 활용할 것입니다.\n",
    "이 또한 위에서 진행해봤던 순서 그대로 진행하시면 됩니다!\n",
    "\n",
    "단계는 다음과 같이 정리가 되어 있습니다. 그러면 오늘의 마지막 프로젝트, 시작해 볼까요!!! 💪🏼"
   ]
  },
  {
   "cell_type": "markdown",
   "id": "09f8ff4b",
   "metadata": {},
   "source": [
    "(1) 데이터 가져오기\n",
    "\n",
    "    터미널에서 ~/data/data/bike-sharing-demand 경로에 train.csv 데이터를 train 변수로 가져 옵니다.\n",
    "    여기에서 데이터를 상세히 확인할 수 있습니다."
   ]
  },
  {
   "cell_type": "code",
   "execution_count": 5,
   "id": "65ee5b12",
   "metadata": {},
   "outputs": [
    {
     "data": {
      "text/html": [
       "<div>\n",
       "<style scoped>\n",
       "    .dataframe tbody tr th:only-of-type {\n",
       "        vertical-align: middle;\n",
       "    }\n",
       "\n",
       "    .dataframe tbody tr th {\n",
       "        vertical-align: top;\n",
       "    }\n",
       "\n",
       "    .dataframe thead th {\n",
       "        text-align: right;\n",
       "    }\n",
       "</style>\n",
       "<table border=\"1\" class=\"dataframe\">\n",
       "  <thead>\n",
       "    <tr style=\"text-align: right;\">\n",
       "      <th></th>\n",
       "      <th>datetime</th>\n",
       "      <th>season</th>\n",
       "      <th>holiday</th>\n",
       "      <th>workingday</th>\n",
       "      <th>weather</th>\n",
       "      <th>temp</th>\n",
       "      <th>atemp</th>\n",
       "      <th>humidity</th>\n",
       "      <th>windspeed</th>\n",
       "      <th>casual</th>\n",
       "      <th>registered</th>\n",
       "      <th>count</th>\n",
       "    </tr>\n",
       "  </thead>\n",
       "  <tbody>\n",
       "    <tr>\n",
       "      <th>0</th>\n",
       "      <td>2011-01-01 00:00:00</td>\n",
       "      <td>1</td>\n",
       "      <td>0</td>\n",
       "      <td>0</td>\n",
       "      <td>1</td>\n",
       "      <td>9.84</td>\n",
       "      <td>14.395</td>\n",
       "      <td>81</td>\n",
       "      <td>0.0</td>\n",
       "      <td>3</td>\n",
       "      <td>13</td>\n",
       "      <td>16</td>\n",
       "    </tr>\n",
       "    <tr>\n",
       "      <th>1</th>\n",
       "      <td>2011-01-01 01:00:00</td>\n",
       "      <td>1</td>\n",
       "      <td>0</td>\n",
       "      <td>0</td>\n",
       "      <td>1</td>\n",
       "      <td>9.02</td>\n",
       "      <td>13.635</td>\n",
       "      <td>80</td>\n",
       "      <td>0.0</td>\n",
       "      <td>8</td>\n",
       "      <td>32</td>\n",
       "      <td>40</td>\n",
       "    </tr>\n",
       "    <tr>\n",
       "      <th>2</th>\n",
       "      <td>2011-01-01 02:00:00</td>\n",
       "      <td>1</td>\n",
       "      <td>0</td>\n",
       "      <td>0</td>\n",
       "      <td>1</td>\n",
       "      <td>9.02</td>\n",
       "      <td>13.635</td>\n",
       "      <td>80</td>\n",
       "      <td>0.0</td>\n",
       "      <td>5</td>\n",
       "      <td>27</td>\n",
       "      <td>32</td>\n",
       "    </tr>\n",
       "    <tr>\n",
       "      <th>3</th>\n",
       "      <td>2011-01-01 03:00:00</td>\n",
       "      <td>1</td>\n",
       "      <td>0</td>\n",
       "      <td>0</td>\n",
       "      <td>1</td>\n",
       "      <td>9.84</td>\n",
       "      <td>14.395</td>\n",
       "      <td>75</td>\n",
       "      <td>0.0</td>\n",
       "      <td>3</td>\n",
       "      <td>10</td>\n",
       "      <td>13</td>\n",
       "    </tr>\n",
       "    <tr>\n",
       "      <th>4</th>\n",
       "      <td>2011-01-01 04:00:00</td>\n",
       "      <td>1</td>\n",
       "      <td>0</td>\n",
       "      <td>0</td>\n",
       "      <td>1</td>\n",
       "      <td>9.84</td>\n",
       "      <td>14.395</td>\n",
       "      <td>75</td>\n",
       "      <td>0.0</td>\n",
       "      <td>0</td>\n",
       "      <td>1</td>\n",
       "      <td>1</td>\n",
       "    </tr>\n",
       "  </tbody>\n",
       "</table>\n",
       "</div>"
      ],
      "text/plain": [
       "              datetime  season  holiday  workingday  weather  temp   atemp  \\\n",
       "0  2011-01-01 00:00:00       1        0           0        1  9.84  14.395   \n",
       "1  2011-01-01 01:00:00       1        0           0        1  9.02  13.635   \n",
       "2  2011-01-01 02:00:00       1        0           0        1  9.02  13.635   \n",
       "3  2011-01-01 03:00:00       1        0           0        1  9.84  14.395   \n",
       "4  2011-01-01 04:00:00       1        0           0        1  9.84  14.395   \n",
       "\n",
       "   humidity  windspeed  casual  registered  count  \n",
       "0        81        0.0       3          13     16  \n",
       "1        80        0.0       8          32     40  \n",
       "2        80        0.0       5          27     32  \n",
       "3        75        0.0       3          10     13  \n",
       "4        75        0.0       0           1      1  "
      ]
     },
     "execution_count": 5,
     "metadata": {},
     "output_type": "execute_result"
    }
   ],
   "source": [
    "import pandas as pd\n",
    "\n",
    "# df = pd.read_csv(\"~/data/data/bike-sharing-demand/train.csv\")\n",
    "train = pd.read_csv('./train.csv') # Local Directory\n",
    "train.head() # 초기 5개의 값 확인"
   ]
  },
  {
   "cell_type": "code",
   "execution_count": 6,
   "id": "88c1b135",
   "metadata": {},
   "outputs": [
    {
     "data": {
      "text/plain": [
       "(10886, 12)"
      ]
     },
     "execution_count": 6,
     "metadata": {},
     "output_type": "execute_result"
    }
   ],
   "source": [
    "train.shape"
   ]
  },
  {
   "cell_type": "markdown",
   "id": "54841926",
   "metadata": {},
   "source": [
    "(2) datetime 컬럼을 datetime 자료형으로 변환하고 연, 월, 일, 시, 분, 초까지 6가지 컬럼 생성하기\n",
    "\n",
    "    to_datetime 활용 : 링크 참조\n",
    "    pandas datetime extract year month day 키워드로 검색해 보기"
   ]
  },
  {
   "cell_type": "code",
   "execution_count": null,
   "id": "cda1b350",
   "metadata": {},
   "outputs": [],
   "source": []
  },
  {
   "cell_type": "code",
   "execution_count": null,
   "id": "d712c605",
   "metadata": {},
   "outputs": [],
   "source": []
  },
  {
   "cell_type": "markdown",
   "id": "2f476aa1",
   "metadata": {},
   "source": [
    "(3) year, month, day, hour, minute, second 데이터 개수 시각화하기\n",
    "\n",
    "    sns.countplot 활용해서 시각화하기\n",
    "    subplot을 활용해서 한 번에 6개의 그래프 함께 시각화하기"
   ]
  },
  {
   "cell_type": "code",
   "execution_count": null,
   "id": "baada6af",
   "metadata": {},
   "outputs": [],
   "source": []
  },
  {
   "cell_type": "code",
   "execution_count": null,
   "id": "1809bf13",
   "metadata": {},
   "outputs": [],
   "source": []
  },
  {
   "cell_type": "markdown",
   "id": "a95a1c7b",
   "metadata": {},
   "source": [
    "(4) X, y 컬럼 선택 및 train/test 데이터 분리\n",
    "\n",
    "    X(feature) 에는 어떤 데이터 컬럼을 넣어야 될지 고민해 봅시다 데이터 컬럼을 추가하거나 빼면서 잘 조합하여 데이터를 넣기 바랍니다. 만일 모든 데이터 컬럼(특징)을 넣는다면 오차 값이 말도 안 되게 적게 나올 수도 있습니다. ex) count를 예측하는데 casual,registered 컬럼이 필요할까요?\n",
    "\n",
    "    count 값을 맞추고자 하므로, y 변수에 count 컬럼의 데이터 넣기"
   ]
  },
  {
   "cell_type": "code",
   "execution_count": null,
   "id": "1ab77b74",
   "metadata": {},
   "outputs": [],
   "source": []
  },
  {
   "cell_type": "code",
   "execution_count": null,
   "id": "42243a81",
   "metadata": {},
   "outputs": [],
   "source": []
  },
  {
   "cell_type": "markdown",
   "id": "1dbb0f17",
   "metadata": {},
   "source": [
    "(5) LinearRegression 모델 학습\n",
    "\n",
    "    sklearn의 LinearRegression 모델 불러오기 및 학습하기"
   ]
  },
  {
   "cell_type": "code",
   "execution_count": null,
   "id": "a8452728",
   "metadata": {},
   "outputs": [],
   "source": []
  },
  {
   "cell_type": "code",
   "execution_count": null,
   "id": "ad09d7c4",
   "metadata": {},
   "outputs": [],
   "source": []
  },
  {
   "cell_type": "markdown",
   "id": "711ed096",
   "metadata": {},
   "source": [
    "(6) 학습된 모델로 X_test에 대한 예측값 출력 및 손실함수값 계산\n",
    "\n",
    "    학습된 모델에 X_test를 입력해서 예측값 출력하기\n",
    "    모델이 예측한 값과 정답 target 간의 손실함수 값 계산하기\n",
    "    mse 값과 함께 rmse 값도 계산하기"
   ]
  },
  {
   "cell_type": "code",
   "execution_count": null,
   "id": "2b14ad1f",
   "metadata": {},
   "outputs": [],
   "source": []
  },
  {
   "cell_type": "code",
   "execution_count": null,
   "id": "9aca2198",
   "metadata": {},
   "outputs": [],
   "source": []
  },
  {
   "cell_type": "markdown",
   "id": "b6ed839e",
   "metadata": {},
   "source": [
    "(7) x축은 temp 또는 humidity로, y축은 count로 예측 결과 시각화하기\n",
    "\n",
    "    x축에 X 데이터 중 temp 데이터를, y축에는 count 데이터를 넣어서 시각화하기\n",
    "    x축에 X 데이터 중 humidity 데이터를, y축에는 count 데이터를 넣어서 시각화하기"
   ]
  }
 ],
 "metadata": {
  "kernelspec": {
   "display_name": "Python 3 (ipykernel)",
   "language": "python",
   "name": "python3"
  },
  "language_info": {
   "codemirror_mode": {
    "name": "ipython",
    "version": 3
   },
   "file_extension": ".py",
   "mimetype": "text/x-python",
   "name": "python",
   "nbconvert_exporter": "python",
   "pygments_lexer": "ipython3",
   "version": "3.12.2"
  }
 },
 "nbformat": 4,
 "nbformat_minor": 5
}
